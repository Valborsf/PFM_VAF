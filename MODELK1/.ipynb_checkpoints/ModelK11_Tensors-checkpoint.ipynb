{
 "cells": [
  {
   "cell_type": "markdown",
   "metadata": {
    "colab_type": "text",
    "id": "Ur34g7Fbi5lr"
   },
   "source": [
    "# Notebook- Model K1_1 - Tensors   \n",
    "# Author : V.Albors   Date : 22.01.2020\n",
    "# Purpose : Train with tensors and add regularization\n",
    "\n",
    "\n",
    "\n",
    "**Input** :  \n",
    "  * CSV files that identify the images to use as train and validation. CSV files are in directory csv_dir   \n",
    "  * Images from train and validation. Images are in directory : imag_dir  \n",
    "  * Saved model. Model is in directory : model_bin_dir  \n",
    "  \n",
    "**Output**:  \n",
    "  * JMODEL dir - Json network model\n",
    "  * BMODEL dir - Optimum model with weights\n",
    "  * RESULTS dir - Print of Network architecture \n",
    "                - Train and Validation Accuracy and Loss Curves\n",
    "                - Metrics of the Model \n",
    "\n",
    "**Process**:  \n",
    " * Read Train and Validation images ( identified in the .csv files ) from the imag_dir directory   \n",
    " * Create a train and validation input & label tensors (no augmentation)\n",
    " * Define the architecture of model : Same architecture as Model K1_0 but with regularizers \n",
    "                        \n",
    " * Train the model with the train dataset with callbacks (  ModuleCheckPoint , Early Stopping)\n",
    " * Save the trained model and history of the model in directory model_bin_dir \n",
    " * Paint the Accuracy and Loss curves\n",
    " * Create results : Metrics \n",
    " "
   ]
  },
  {
   "cell_type": "code",
   "execution_count": 1,
   "metadata": {},
   "outputs": [],
   "source": [
    "from __future__ import absolute_import, division, print_function, unicode_literals\n",
    "import tensorflow as tf\n",
    "\n",
    "tf.keras.backend.clear_session()  # Reset"
   ]
  },
  {
   "cell_type": "code",
   "execution_count": 2,
   "metadata": {},
   "outputs": [
    {
     "name": "stdout",
     "output_type": "stream",
     "text": [
      "Num GPUs Available:  1\n"
     ]
    }
   ],
   "source": [
    "import tensorflow as tf\n",
    "print(\"Num GPUs Available: \", len(tf.config.experimental.list_physical_devices('GPU')))\n",
    "tf.config.experimental.list_physical_devices('GPU') \n",
    "physical_devices = tf.config.experimental.list_physical_devices('GPU')\n",
    "assert len(physical_devices) > 0, \"Not enough GPU hardware devices available\"\n",
    "tf.config.experimental.set_memory_growth(physical_devices[0], True)\n",
    "tf.debugging.set_log_device_placement(True)"
   ]
  },
  {
   "cell_type": "code",
   "execution_count": 3,
   "metadata": {},
   "outputs": [],
   "source": [
    "# Define the name of the model \n",
    "Model_directory = \"MODELK1\"\n",
    "Model_name = \"ModelK1_1\"\n",
    "TRAIN = True"
   ]
  },
  {
   "cell_type": "code",
   "execution_count": 4,
   "metadata": {},
   "outputs": [
    {
     "name": "stdout",
     "output_type": "stream",
     "text": [
      "['confusion_ROC_AUC', 'create_column_tensor', 'create_label_tensor', 'create_val_test', 'define_dirs', 'extract_images_bm', 'extract_images_train', 'load_hist_model', 'load_images', 'load_images_tf', 'model_load', 'plot_save_acc_loss', 'print_network', 'process_clinical_info', 'read_dataframes', 'read_dataframes_tables', 'reproducible_results', 'save_model', 'save_network_json', 'start', 'stop', 'to_one_hot', 'to_one_hot_words', 'xi_squared']\n"
     ]
    }
   ],
   "source": [
    "# Import routines\n",
    "import sys  \n",
    "subrc_dir = \"/home/valborsf/Documents/UOC/PFMProject/\"\n",
    "\n",
    "sys.path.append(subrc_dir)  \n",
    "from  Models_routines import *\n",
    "import inspect\n",
    "\n",
    "# List functions inside the module\n",
    "import Models_routines as module\n",
    "functions = inspect.getmembers(module, inspect.isfunction)\n",
    "lsfunctions = [item[0] for item in functions]\n",
    "print ( lsfunctions )"
   ]
  },
  {
   "cell_type": "code",
   "execution_count": 5,
   "metadata": {},
   "outputs": [],
   "source": [
    "# Reproducible results \n",
    "reproducible_results ()"
   ]
  },
  {
   "cell_type": "code",
   "execution_count": 6,
   "metadata": {},
   "outputs": [],
   "source": [
    "# Define directories\n",
    "(root_dir,json_dir,imag_dir,csv_dir,model_json_dir,model_bin_dir,results_dir,Tensor_dir) = define_dirs(Model_directory)"
   ]
  },
  {
   "cell_type": "code",
   "execution_count": 7,
   "metadata": {},
   "outputs": [],
   "source": [
    "# New dataset without SONIC disturbing images\n",
    "json_dir =  root_dir +\"/DataNew/ALL_JSON/\"                # .json dir images\n",
    "imag_dir =  root_dir +\"/DataNew/ALL_IMAGES/\"              # .png dir - images\n",
    "\n",
    "# directories for  CSV's\n",
    "csv_dir =  root_dir +\"/DataNew4/CSV/\"                      # .csv dir - dftrain, dfval, dftest"
   ]
  },
  {
   "cell_type": "code",
   "execution_count": 8,
   "metadata": {},
   "outputs": [
    {
     "name": "stdout",
     "output_type": "stream",
     "text": [
      "/home/valborsf/Documents/UOC/PFMProject/DataNew4/CSV/\n"
     ]
    }
   ],
   "source": [
    "# Load train,validation & Test \n",
    "(dftrain, dfval, dftest) = read_dataframes(csv_dir)"
   ]
  },
  {
   "cell_type": "code",
   "execution_count": 9,
   "metadata": {},
   "outputs": [],
   "source": [
    "# Define the label tensor\n",
    "train_label_tensor = create_label_tensor(dftrain)\n",
    "val_label_tensor = create_label_tensor(dfval)\n",
    "#test_label_tensor = create_label_tensor(dftest)"
   ]
  },
  {
   "cell_type": "code",
   "execution_count": 10,
   "metadata": {},
   "outputs": [
    {
     "name": "stdout",
     "output_type": "stream",
     "text": [
      "Executing op ReadFile in device /job:localhost/replica:0/task:0/device:CPU:0\n",
      "Executing op DecodeJpeg in device /job:localhost/replica:0/task:0/device:CPU:0\n",
      "Executing op Cast in device /job:localhost/replica:0/task:0/device:CPU:0\n",
      "Executing op Mul in device /job:localhost/replica:0/task:0/device:CPU:0\n",
      "Executing op ExpandDims in device /job:localhost/replica:0/task:0/device:CPU:0\n",
      "Executing op ResizeBilinear in device /job:localhost/replica:0/task:0/device:CPU:0\n",
      "Executing op Squeeze in device /job:localhost/replica:0/task:0/device:CPU:0\n",
      "(2100, 150, 150, 3)\n",
      "(700, 150, 150, 3)\n"
     ]
    }
   ],
   "source": [
    "# Create tensors from images\n",
    "# Load Images \n",
    "height_imag = 150 \n",
    "width_imag = 150\n",
    "# This step is very time consuming !!!!!!!\n",
    "train_image_tensor  = load_images_tf(dftrain,height_imag,width_imag)\n",
    "val_image_tensor  = load_images_tf(dfval,height_imag,width_imag)\n",
    "#test_image_tensor  = load_images(dftest,height_imag,width_imag)"
   ]
  },
  {
   "cell_type": "code",
   "execution_count": 11,
   "metadata": {},
   "outputs": [
    {
     "name": "stdout",
     "output_type": "stream",
     "text": [
      "Executing op RandomUniform in device /job:localhost/replica:0/task:0/device:GPU:0\n",
      "Executing op Sub in device /job:localhost/replica:0/task:0/device:GPU:0\n",
      "Executing op Mul in device /job:localhost/replica:0/task:0/device:GPU:0\n",
      "Executing op Add in device /job:localhost/replica:0/task:0/device:GPU:0\n",
      "Executing op VarHandleOp in device /job:localhost/replica:0/task:0/device:GPU:0\n",
      "Executing op VarIsInitializedOp in device /job:localhost/replica:0/task:0/device:GPU:0\n",
      "Executing op LogicalNot in device /job:localhost/replica:0/task:0/device:GPU:0\n",
      "Executing op Assert in device /job:localhost/replica:0/task:0/device:GPU:0\n",
      "Executing op AssignVariableOp in device /job:localhost/replica:0/task:0/device:GPU:0\n",
      "Executing op Fill in device /job:localhost/replica:0/task:0/device:GPU:0\n",
      "Executing op VarHandleOp in device /job:localhost/replica:0/task:0/device:GPU:0\n",
      "Executing op VarHandleOp in device /job:localhost/replica:0/task:0/device:GPU:0\n",
      "Executing op VarHandleOp in device /job:localhost/replica:0/task:0/device:GPU:0\n",
      "Executing op VarHandleOp in device /job:localhost/replica:0/task:0/device:GPU:0\n",
      "Executing op VarHandleOp in device /job:localhost/replica:0/task:0/device:GPU:0\n",
      "Executing op VarHandleOp in device /job:localhost/replica:0/task:0/device:GPU:0\n",
      "Executing op VarHandleOp in device /job:localhost/replica:0/task:0/device:GPU:0\n",
      "Executing op VarHandleOp in device /job:localhost/replica:0/task:0/device:GPU:0\n",
      "Executing op Reshape in device /job:localhost/replica:0/task:0/device:GPU:0\n",
      "Executing op VarHandleOp in device /job:localhost/replica:0/task:0/device:GPU:0\n"
     ]
    }
   ],
   "source": [
    "#import keras\n",
    "from tensorflow.keras.models import Model\n",
    "from tensorflow.keras import layers\n",
    "from tensorflow.keras import Input\n",
    "from tensorflow.keras import regularizers\n",
    "from tensorflow.keras.callbacks import ModelCheckpoint\n",
    "\n",
    "\n",
    "# Model 1 : Image to Predict Melanoma\n",
    "\n",
    "image_inputs = Input(shape=(height_imag,width_imag,3))\n",
    "m2 = layers.Conv2D(64, (3,3), kernel_regularizer=regularizers.l2(0.01), activation='relu')(image_inputs)\n",
    "m2 = layers.MaxPooling2D((2,2))(m2)\n",
    "m2 = layers.Conv2D(32, (3,3), kernel_regularizer=regularizers.l2(0.01), activation='relu')(m2)\n",
    "m2 = layers.MaxPooling2D((2,2))(m2)\n",
    "m2 = layers.Conv2D(128, (3,3),kernel_regularizer=regularizers.l2(0.01), activation='relu')(m2)\n",
    "m2 = layers.MaxPooling2D((2,2))(m2)\n",
    "m2 = layers.Flatten()(m2)\n",
    "m2 = layers.Dense (512, activation='relu')(m2)\n",
    "m2 = layers.Dropout(0.23)(m2)\n",
    "benign_malign = layers.Dense (1, activation='sigmoid')(m2)\n",
    "\n",
    "\n",
    "# Model instantiation\n",
    "model = Model(image_inputs, benign_malign)\n",
    "\n"
   ]
  },
  {
   "cell_type": "code",
   "execution_count": 12,
   "metadata": {},
   "outputs": [
    {
     "name": "stdout",
     "output_type": "stream",
     "text": [
      "Model: \"model\"\n",
      "_________________________________________________________________\n",
      "Layer (type)                 Output Shape              Param #   \n",
      "=================================================================\n",
      "input_1 (InputLayer)         [(None, 150, 150, 3)]     0         \n",
      "_________________________________________________________________\n",
      "conv2d (Conv2D)              (None, 148, 148, 64)      1792      \n",
      "_________________________________________________________________\n",
      "max_pooling2d (MaxPooling2D) (None, 74, 74, 64)        0         \n",
      "_________________________________________________________________\n",
      "conv2d_1 (Conv2D)            (None, 72, 72, 32)        18464     \n",
      "_________________________________________________________________\n",
      "max_pooling2d_1 (MaxPooling2 (None, 36, 36, 32)        0         \n",
      "_________________________________________________________________\n",
      "conv2d_2 (Conv2D)            (None, 34, 34, 128)       36992     \n",
      "_________________________________________________________________\n",
      "max_pooling2d_2 (MaxPooling2 (None, 17, 17, 128)       0         \n",
      "_________________________________________________________________\n",
      "flatten (Flatten)            (None, 36992)             0         \n",
      "_________________________________________________________________\n",
      "dense (Dense)                (None, 512)               18940416  \n",
      "_________________________________________________________________\n",
      "dropout (Dropout)            (None, 512)               0         \n",
      "_________________________________________________________________\n",
      "dense_1 (Dense)              (None, 1)                 513       \n",
      "=================================================================\n",
      "Total params: 18,998,177\n",
      "Trainable params: 18,998,177\n",
      "Non-trainable params: 0\n",
      "_________________________________________________________________\n"
     ]
    }
   ],
   "source": [
    "model.summary()"
   ]
  },
  {
   "cell_type": "code",
   "execution_count": 13,
   "metadata": {},
   "outputs": [],
   "source": [
    "#Print Network \n",
    "print_network (results_dir, model, Model_name)\n",
    "#Save Network \n",
    "save_network_json (model_json_dir, model, Model_name)"
   ]
  },
  {
   "cell_type": "code",
   "execution_count": 14,
   "metadata": {},
   "outputs": [
    {
     "name": "stdout",
     "output_type": "stream",
     "text": [
      "Executing op VarHandleOp in device /job:localhost/replica:0/task:0/device:GPU:0\n"
     ]
    }
   ],
   "source": [
    "# Model Compile\n",
    "from tensorflow.keras import optimizers\n",
    "model.compile ( loss='binary_crossentropy',\n",
    "#               optimizer = optimizers.RMSprop(lr=1e-4),\n",
    "               optimizer = optimizers.Adam(lr=1e-4),\n",
    "               metrics= ['acc'])"
   ]
  },
  {
   "cell_type": "code",
   "execution_count": 16,
   "metadata": {},
   "outputs": [],
   "source": [
    "# Callbacks\n",
    "callbacks_list = [\n",
    "# EarlyStopping when the model does not improve in loss\n",
    "\n",
    "         tf.keras.callbacks.EarlyStopping (\n",
    "             monitor = 'val_loss',             # Monitors the accuracy\n",
    "             verbose=1,                        # log when finishes\n",
    "             patience = 4,),                   # Interrupt if acc no improve in 4 epochs\n",
    "\n",
    "#  ModelCheckpoint to store the weights of the best performing epoch. \n",
    "    \n",
    "         tf.keras.callbacks.ModelCheckpoint(filepath=model_bin_dir+\"Best_weights\"+Model_name+\".hdf5\", \n",
    "             monitor = 'val_loss', # Won't overwritte the model file unless val_loss has\n",
    "             verbose=1,            # improve \n",
    "             save_best_only=True),\n",
    "         \n",
    "#         keras.callbacks.TensorBoard(\n",
    "#             log_dir =  Tensor_dir, \n",
    "#            histogram_freq = 1,\n",
    "#            )\n",
    "                ]"
   ]
  },
  {
   "cell_type": "code",
   "execution_count": 17,
   "metadata": {},
   "outputs": [
    {
     "name": "stdout",
     "output_type": "stream",
     "text": [
      "Executing op RangeDataset in device /job:localhost/replica:0/task:0/device:CPU:0\n",
      "Executing op RepeatDataset in device /job:localhost/replica:0/task:0/device:CPU:0\n",
      "Executing op MapDataset in device /job:localhost/replica:0/task:0/device:CPU:0\n",
      "Executing op PrefetchDataset in device /job:localhost/replica:0/task:0/device:CPU:0\n",
      "Executing op FlatMapDataset in device /job:localhost/replica:0/task:0/device:CPU:0\n",
      "Executing op TensorDataset in device /job:localhost/replica:0/task:0/device:CPU:0\n",
      "Executing op RepeatDataset in device /job:localhost/replica:0/task:0/device:CPU:0\n",
      "Executing op ZipDataset in device /job:localhost/replica:0/task:0/device:CPU:0\n",
      "Executing op ParallelMapDataset in device /job:localhost/replica:0/task:0/device:CPU:0\n",
      "Executing op MapDataset in device /job:localhost/replica:0/task:0/device:CPU:0\n",
      "Executing op PrefetchDataset in device /job:localhost/replica:0/task:0/device:CPU:0\n",
      "Executing op FlatMapDataset in device /job:localhost/replica:0/task:0/device:CPU:0\n",
      "Executing op TensorDataset in device /job:localhost/replica:0/task:0/device:CPU:0\n",
      "Executing op RepeatDataset in device /job:localhost/replica:0/task:0/device:CPU:0\n",
      "Executing op ZipDataset in device /job:localhost/replica:0/task:0/device:CPU:0\n",
      "Executing op ParallelMapDataset in device /job:localhost/replica:0/task:0/device:CPU:0\n",
      "Executing op DatasetCardinality in device /job:localhost/replica:0/task:0/device:CPU:0\n",
      "Train on 2100 samples, validate on 700 samples\n",
      "Epoch 1/200\n",
      "Executing op ModelDataset in device /job:localhost/replica:0/task:0/device:CPU:0\n",
      "Executing op AnonymousIteratorV2 in device /job:localhost/replica:0/task:0/device:CPU:0\n",
      "Executing op MakeIterator in device /job:localhost/replica:0/task:0/device:CPU:0\n",
      "Executing op VarHandleOp in device /job:localhost/replica:0/task:0/device:GPU:0\n",
      "Executing op AssignVariableOp in device /job:localhost/replica:0/task:0/device:GPU:0\n",
      "Executing op VarHandleOp in device /job:localhost/replica:0/task:0/device:GPU:0\n",
      "Executing op VarHandleOp in device /job:localhost/replica:0/task:0/device:GPU:0\n",
      "Executing op VarHandleOp in device /job:localhost/replica:0/task:0/device:GPU:0\n",
      "Executing op VarHandleOp in device /job:localhost/replica:0/task:0/device:GPU:0\n",
      "Executing op VarHandleOp in device /job:localhost/replica:0/task:0/device:GPU:0\n",
      "Executing op LogicalNot in device /job:localhost/replica:0/task:0/device:GPU:0\n",
      "Executing op Assert in device /job:localhost/replica:0/task:0/device:GPU:0\n",
      "Executing op VarHandleOp in device /job:localhost/replica:0/task:0/device:GPU:0\n",
      "Executing op VarHandleOp in device /job:localhost/replica:0/task:0/device:GPU:0\n",
      "Executing op VarHandleOp in device /job:localhost/replica:0/task:0/device:GPU:0\n",
      "Executing op VarHandleOp in device /job:localhost/replica:0/task:0/device:GPU:0\n",
      "Executing op VarHandleOp in device /job:localhost/replica:0/task:0/device:GPU:0\n",
      "Executing op VarHandleOp in device /job:localhost/replica:0/task:0/device:GPU:0\n",
      "Executing op VarHandleOp in device /job:localhost/replica:0/task:0/device:GPU:0\n",
      "Executing op VarHandleOp in device /job:localhost/replica:0/task:0/device:GPU:0\n",
      "Executing op VarHandleOp in device /job:localhost/replica:0/task:0/device:GPU:0\n",
      "Executing op VarHandleOp in device /job:localhost/replica:0/task:0/device:GPU:0\n",
      "Executing op VarHandleOp in device /job:localhost/replica:0/task:0/device:GPU:0\n",
      "Executing op VarHandleOp in device /job:localhost/replica:0/task:0/device:GPU:0\n",
      "Executing op VarHandleOp in device /job:localhost/replica:0/task:0/device:GPU:0\n",
      "Executing op VarHandleOp in device /job:localhost/replica:0/task:0/device:GPU:0\n",
      "Executing op VarHandleOp in device /job:localhost/replica:0/task:0/device:GPU:0\n",
      "Executing op VarHandleOp in device /job:localhost/replica:0/task:0/device:GPU:0\n",
      "Executing op VarHandleOp in device /job:localhost/replica:0/task:0/device:GPU:0\n",
      "Executing op VarHandleOp in device /job:localhost/replica:0/task:0/device:GPU:0\n",
      "Executing op VarHandleOp in device /job:localhost/replica:0/task:0/device:GPU:0\n",
      "Executing op __inference_initialize_variables_31833 in device /job:localhost/replica:0/task:0/device:GPU:0\n",
      "Executing op __inference_distributed_function_32214 in device /job:localhost/replica:0/task:0/device:GPU:0\n",
      "2048/2100 [============================>.] - ETA: 0s - loss: 1.6311 - acc: 0.5400Executing op __inference_distributed_function_32453 in device /job:localhost/replica:0/task:0/device:GPU:0\n",
      "\n",
      "Epoch 00001: val_loss improved from inf to 1.55172, saving model to /home/valborsf/Documents/UOC/PFMProject/MODELK1/BMODEL/Best_weightsModelK1_1.hdf5\n",
      "Executing op ReadVariableOp in device /job:localhost/replica:0/task:0/device:GPU:0\n",
      "Executing op ReadVariableOp in device /job:localhost/replica:0/task:0/device:GPU:0\n",
      "2100/2100 [==============================] - 6s 3ms/sample - loss: 1.6289 - acc: 0.5448 - val_loss: 1.5517 - val_acc: 0.6886\n",
      "Epoch 2/200\n",
      "2048/2100 [============================>.] - ETA: 0s - loss: 1.4889 - acc: 0.6245Executing op DeleteIterator in device /job:localhost/replica:0/task:0/device:CPU:0\n",
      "\n",
      "Epoch 00002: val_loss improved from 1.55172 to 1.41623, saving model to /home/valborsf/Documents/UOC/PFMProject/MODELK1/BMODEL/Best_weightsModelK1_1.hdf5\n",
      "2100/2100 [==============================] - 3s 1ms/sample - loss: 1.4864 - acc: 0.6262 - val_loss: 1.4162 - val_acc: 0.6857\n",
      "Epoch 3/200\n",
      "2048/2100 [============================>.] - ETA: 0s - loss: 1.3763 - acc: 0.6543\n",
      "Epoch 00003: val_loss improved from 1.41623 to 1.32535, saving model to /home/valborsf/Documents/UOC/PFMProject/MODELK1/BMODEL/Best_weightsModelK1_1.hdf5\n",
      "2100/2100 [==============================] - 3s 1ms/sample - loss: 1.3739 - acc: 0.6571 - val_loss: 1.3254 - val_acc: 0.7129\n",
      "Epoch 4/200\n",
      "2048/2100 [============================>.] - ETA: 0s - loss: 1.2916 - acc: 0.6836\n",
      "Epoch 00004: val_loss improved from 1.32535 to 1.25439, saving model to /home/valborsf/Documents/UOC/PFMProject/MODELK1/BMODEL/Best_weightsModelK1_1.hdf5\n",
      "2100/2100 [==============================] - 3s 1ms/sample - loss: 1.2877 - acc: 0.6876 - val_loss: 1.2544 - val_acc: 0.6929\n",
      "Epoch 5/200\n",
      "2048/2100 [============================>.] - ETA: 0s - loss: 1.2215 - acc: 0.7031\n",
      "Epoch 00005: val_loss improved from 1.25439 to 1.20719, saving model to /home/valborsf/Documents/UOC/PFMProject/MODELK1/BMODEL/Best_weightsModelK1_1.hdf5\n",
      "2100/2100 [==============================] - 3s 1ms/sample - loss: 1.2219 - acc: 0.7029 - val_loss: 1.2072 - val_acc: 0.6686\n",
      "Epoch 6/200\n",
      "2048/2100 [============================>.] - ETA: 0s - loss: 1.1723 - acc: 0.7021\n",
      "Epoch 00006: val_loss improved from 1.20719 to 1.13555, saving model to /home/valborsf/Documents/UOC/PFMProject/MODELK1/BMODEL/Best_weightsModelK1_1.hdf5\n",
      "2100/2100 [==============================] - 3s 1ms/sample - loss: 1.1715 - acc: 0.7029 - val_loss: 1.1355 - val_acc: 0.7086\n",
      "Epoch 7/200\n",
      "2048/2100 [============================>.] - ETA: 0s - loss: 1.1177 - acc: 0.7139\n",
      "Epoch 00007: val_loss improved from 1.13555 to 1.08946, saving model to /home/valborsf/Documents/UOC/PFMProject/MODELK1/BMODEL/Best_weightsModelK1_1.hdf5\n",
      "2100/2100 [==============================] - 3s 1ms/sample - loss: 1.1179 - acc: 0.7119 - val_loss: 1.0895 - val_acc: 0.7629\n",
      "Epoch 8/200\n",
      "2048/2100 [============================>.] - ETA: 0s - loss: 1.0783 - acc: 0.7212\n",
      "Epoch 00008: val_loss improved from 1.08946 to 1.05718, saving model to /home/valborsf/Documents/UOC/PFMProject/MODELK1/BMODEL/Best_weightsModelK1_1.hdf5\n",
      "2100/2100 [==============================] - 3s 1ms/sample - loss: 1.0786 - acc: 0.7210 - val_loss: 1.0572 - val_acc: 0.7171\n",
      "Epoch 9/200\n",
      "2048/2100 [============================>.] - ETA: 0s - loss: 1.0478 - acc: 0.7153\n",
      "Epoch 00009: val_loss improved from 1.05718 to 1.01463, saving model to /home/valborsf/Documents/UOC/PFMProject/MODELK1/BMODEL/Best_weightsModelK1_1.hdf5\n",
      "2100/2100 [==============================] - 3s 1ms/sample - loss: 1.0461 - acc: 0.7181 - val_loss: 1.0146 - val_acc: 0.7400\n",
      "Epoch 10/200\n",
      "2048/2100 [============================>.] - ETA: 0s - loss: 1.0054 - acc: 0.7266\n",
      "Epoch 00010: val_loss improved from 1.01463 to 0.98359, saving model to /home/valborsf/Documents/UOC/PFMProject/MODELK1/BMODEL/Best_weightsModelK1_1.hdf5\n",
      "2100/2100 [==============================] - 3s 1ms/sample - loss: 1.0032 - acc: 0.7286 - val_loss: 0.9836 - val_acc: 0.7500\n"
     ]
    },
    {
     "name": "stdout",
     "output_type": "stream",
     "text": [
      "Epoch 11/200\n",
      "2048/2100 [============================>.] - ETA: 0s - loss: 0.9859 - acc: 0.7139\n",
      "Epoch 00011: val_loss improved from 0.98359 to 0.96513, saving model to /home/valborsf/Documents/UOC/PFMProject/MODELK1/BMODEL/Best_weightsModelK1_1.hdf5\n",
      "2100/2100 [==============================] - 3s 1ms/sample - loss: 0.9875 - acc: 0.7133 - val_loss: 0.9651 - val_acc: 0.7543\n",
      "Epoch 12/200\n",
      "2048/2100 [============================>.] - ETA: 0s - loss: 0.9568 - acc: 0.7246\n",
      "Epoch 00012: val_loss improved from 0.96513 to 0.93749, saving model to /home/valborsf/Documents/UOC/PFMProject/MODELK1/BMODEL/Best_weightsModelK1_1.hdf5\n",
      "2100/2100 [==============================] - 3s 1ms/sample - loss: 0.9566 - acc: 0.7257 - val_loss: 0.9375 - val_acc: 0.7657\n",
      "Epoch 13/200\n",
      "2048/2100 [============================>.] - ETA: 0s - loss: 0.9341 - acc: 0.7373\n",
      "Epoch 00013: val_loss improved from 0.93749 to 0.92508, saving model to /home/valborsf/Documents/UOC/PFMProject/MODELK1/BMODEL/Best_weightsModelK1_1.hdf5\n",
      "2100/2100 [==============================] - 3s 1ms/sample - loss: 0.9334 - acc: 0.7381 - val_loss: 0.9251 - val_acc: 0.7614\n",
      "Epoch 14/200\n",
      "2048/2100 [============================>.] - ETA: 0s - loss: 0.9068 - acc: 0.7412\n",
      "Epoch 00014: val_loss improved from 0.92508 to 0.90806, saving model to /home/valborsf/Documents/UOC/PFMProject/MODELK1/BMODEL/Best_weightsModelK1_1.hdf5\n",
      "2100/2100 [==============================] - 3s 1ms/sample - loss: 0.9077 - acc: 0.7400 - val_loss: 0.9081 - val_acc: 0.7657\n",
      "Epoch 15/200\n",
      "2048/2100 [============================>.] - ETA: 0s - loss: 0.8879 - acc: 0.7441\n",
      "Epoch 00015: val_loss improved from 0.90806 to 0.88056, saving model to /home/valborsf/Documents/UOC/PFMProject/MODELK1/BMODEL/Best_weightsModelK1_1.hdf5\n",
      "2100/2100 [==============================] - 3s 1ms/sample - loss: 0.8867 - acc: 0.7443 - val_loss: 0.8806 - val_acc: 0.7586\n",
      "Epoch 16/200\n",
      "2048/2100 [============================>.] - ETA: 0s - loss: 0.8739 - acc: 0.7427\n",
      "Epoch 00016: val_loss improved from 0.88056 to 0.86363, saving model to /home/valborsf/Documents/UOC/PFMProject/MODELK1/BMODEL/Best_weightsModelK1_1.hdf5\n",
      "2100/2100 [==============================] - 3s 1ms/sample - loss: 0.8727 - acc: 0.7429 - val_loss: 0.8636 - val_acc: 0.7614\n",
      "Epoch 17/200\n",
      "2048/2100 [============================>.] - ETA: 0s - loss: 0.8622 - acc: 0.7480\n",
      "Epoch 00017: val_loss improved from 0.86363 to 0.85164, saving model to /home/valborsf/Documents/UOC/PFMProject/MODELK1/BMODEL/Best_weightsModelK1_1.hdf5\n",
      "2100/2100 [==============================] - 3s 1ms/sample - loss: 0.8603 - acc: 0.7505 - val_loss: 0.8516 - val_acc: 0.7471\n",
      "Epoch 18/200\n",
      "2048/2100 [============================>.] - ETA: 0s - loss: 0.8522 - acc: 0.7476\n",
      "Epoch 00018: val_loss improved from 0.85164 to 0.85074, saving model to /home/valborsf/Documents/UOC/PFMProject/MODELK1/BMODEL/Best_weightsModelK1_1.hdf5\n",
      "2100/2100 [==============================] - 3s 1ms/sample - loss: 0.8524 - acc: 0.7481 - val_loss: 0.8507 - val_acc: 0.7514\n",
      "Epoch 19/200\n",
      "2048/2100 [============================>.] - ETA: 0s - loss: 0.8350 - acc: 0.7490\n",
      "Epoch 00019: val_loss did not improve from 0.85074\n",
      "2100/2100 [==============================] - 2s 1ms/sample - loss: 0.8324 - acc: 0.7510 - val_loss: 0.8608 - val_acc: 0.7257\n",
      "Epoch 20/200\n",
      "2048/2100 [============================>.] - ETA: 0s - loss: 0.8149 - acc: 0.7671\n",
      "Epoch 00020: val_loss improved from 0.85074 to 0.83024, saving model to /home/valborsf/Documents/UOC/PFMProject/MODELK1/BMODEL/Best_weightsModelK1_1.hdf5\n",
      "2100/2100 [==============================] - 3s 1ms/sample - loss: 0.8128 - acc: 0.7676 - val_loss: 0.8302 - val_acc: 0.7486\n",
      "Epoch 21/200\n",
      "2048/2100 [============================>.] - ETA: 0s - loss: 0.8123 - acc: 0.7603\n",
      "Epoch 00021: val_loss improved from 0.83024 to 0.82412, saving model to /home/valborsf/Documents/UOC/PFMProject/MODELK1/BMODEL/Best_weightsModelK1_1.hdf5\n",
      "2100/2100 [==============================] - 3s 1ms/sample - loss: 0.8106 - acc: 0.7633 - val_loss: 0.8241 - val_acc: 0.7700\n",
      "Epoch 22/200\n",
      "2048/2100 [============================>.] - ETA: 0s - loss: 0.7949 - acc: 0.7690\n",
      "Epoch 00022: val_loss did not improve from 0.82412\n",
      "2100/2100 [==============================] - 2s 1ms/sample - loss: 0.7955 - acc: 0.7686 - val_loss: 0.8516 - val_acc: 0.7386\n",
      "Epoch 23/200\n",
      "2048/2100 [============================>.] - ETA: 0s - loss: 0.8017 - acc: 0.7583\n",
      "Epoch 00023: val_loss improved from 0.82412 to 0.80765, saving model to /home/valborsf/Documents/UOC/PFMProject/MODELK1/BMODEL/Best_weightsModelK1_1.hdf5\n",
      "2100/2100 [==============================] - 3s 1ms/sample - loss: 0.8012 - acc: 0.7586 - val_loss: 0.8077 - val_acc: 0.7571\n",
      "Epoch 24/200\n",
      "2048/2100 [============================>.] - ETA: 0s - loss: 0.7832 - acc: 0.7671\n",
      "Epoch 00024: val_loss did not improve from 0.80765\n",
      "2100/2100 [==============================] - 2s 1ms/sample - loss: 0.7836 - acc: 0.7667 - val_loss: 0.8078 - val_acc: 0.7543\n",
      "Epoch 25/200\n",
      "2048/2100 [============================>.] - ETA: 0s - loss: 0.7945 - acc: 0.7549\n",
      "Epoch 00025: val_loss improved from 0.80765 to 0.79794, saving model to /home/valborsf/Documents/UOC/PFMProject/MODELK1/BMODEL/Best_weightsModelK1_1.hdf5\n",
      "2100/2100 [==============================] - 3s 1ms/sample - loss: 0.7928 - acc: 0.7576 - val_loss: 0.7979 - val_acc: 0.7543\n",
      "Epoch 26/200\n",
      "2048/2100 [============================>.] - ETA: 0s - loss: 0.7754 - acc: 0.7637\n",
      "Epoch 00026: val_loss did not improve from 0.79794\n",
      "2100/2100 [==============================] - 2s 1ms/sample - loss: 0.7753 - acc: 0.7652 - val_loss: 0.8080 - val_acc: 0.7600\n",
      "Epoch 27/200\n",
      "2048/2100 [============================>.] - ETA: 0s - loss: 0.7598 - acc: 0.7793\n",
      "Epoch 00027: val_loss did not improve from 0.79794\n",
      "2100/2100 [==============================] - 2s 1ms/sample - loss: 0.7600 - acc: 0.7786 - val_loss: 0.8108 - val_acc: 0.7229\n",
      "Epoch 28/200\n",
      "2048/2100 [============================>.] - ETA: 0s - loss: 0.7526 - acc: 0.7822\n",
      "Epoch 00028: val_loss improved from 0.79794 to 0.78169, saving model to /home/valborsf/Documents/UOC/PFMProject/MODELK1/BMODEL/Best_weightsModelK1_1.hdf5\n",
      "2100/2100 [==============================] - 3s 1ms/sample - loss: 0.7508 - acc: 0.7838 - val_loss: 0.7817 - val_acc: 0.7686\n",
      "Epoch 29/200\n",
      "2048/2100 [============================>.] - ETA: 0s - loss: 0.7489 - acc: 0.7705\n",
      "Epoch 00029: val_loss did not improve from 0.78169\n",
      "2100/2100 [==============================] - 2s 1ms/sample - loss: 0.7507 - acc: 0.7700 - val_loss: 0.7921 - val_acc: 0.7643\n",
      "Epoch 30/200\n",
      "2048/2100 [============================>.] - ETA: 0s - loss: 0.7416 - acc: 0.7861\n",
      "Epoch 00030: val_loss did not improve from 0.78169\n",
      "2100/2100 [==============================] - 2s 1ms/sample - loss: 0.7413 - acc: 0.7867 - val_loss: 0.7821 - val_acc: 0.7714\n",
      "Epoch 31/200\n",
      "2048/2100 [============================>.] - ETA: 0s - loss: 0.7328 - acc: 0.7817\n",
      "Epoch 00031: val_loss did not improve from 0.78169\n",
      "2100/2100 [==============================] - 2s 1ms/sample - loss: 0.7327 - acc: 0.7819 - val_loss: 0.8179 - val_acc: 0.7386\n",
      "Epoch 32/200\n",
      "2048/2100 [============================>.] - ETA: 0s - loss: 0.7277 - acc: 0.7896\n",
      "Epoch 00032: val_loss improved from 0.78169 to 0.77453, saving model to /home/valborsf/Documents/UOC/PFMProject/MODELK1/BMODEL/Best_weightsModelK1_1.hdf5\n",
      "2100/2100 [==============================] - 3s 1ms/sample - loss: 0.7275 - acc: 0.7900 - val_loss: 0.7745 - val_acc: 0.7486\n",
      "Epoch 33/200\n",
      "2048/2100 [============================>.] - ETA: 0s - loss: 0.7166 - acc: 0.7949\n",
      "Epoch 00033: val_loss improved from 0.77453 to 0.77067, saving model to /home/valborsf/Documents/UOC/PFMProject/MODELK1/BMODEL/Best_weightsModelK1_1.hdf5\n",
      "2100/2100 [==============================] - 3s 1ms/sample - loss: 0.7175 - acc: 0.7952 - val_loss: 0.7707 - val_acc: 0.7614\n",
      "Epoch 34/200\n",
      "2048/2100 [============================>.] - ETA: 0s - loss: 0.7152 - acc: 0.7856\n",
      "Epoch 00034: val_loss did not improve from 0.77067\n",
      "2100/2100 [==============================] - 2s 1ms/sample - loss: 0.7147 - acc: 0.7838 - val_loss: 0.8282 - val_acc: 0.7271\n",
      "Epoch 35/200\n",
      "2048/2100 [============================>.] - ETA: 0s - loss: 0.7243 - acc: 0.7778\n",
      "Epoch 00035: val_loss did not improve from 0.77067\n",
      "2100/2100 [==============================] - 2s 1ms/sample - loss: 0.7225 - acc: 0.7800 - val_loss: 0.7746 - val_acc: 0.7557\n"
     ]
    },
    {
     "name": "stdout",
     "output_type": "stream",
     "text": [
      "Epoch 36/200\n",
      "2048/2100 [============================>.] - ETA: 0s - loss: 0.7159 - acc: 0.7939\n",
      "Epoch 00036: val_loss did not improve from 0.77067\n",
      "2100/2100 [==============================] - 2s 1ms/sample - loss: 0.7140 - acc: 0.7938 - val_loss: 0.7745 - val_acc: 0.7500\n",
      "Epoch 37/200\n",
      "2048/2100 [============================>.] - ETA: 0s - loss: 0.6974 - acc: 0.7949\n",
      "Epoch 00037: val_loss did not improve from 0.77067\n",
      "2100/2100 [==============================] - 2s 1ms/sample - loss: 0.6997 - acc: 0.7924 - val_loss: 0.8077 - val_acc: 0.7000\n",
      "Epoch 00037: early stopping\n",
      "Time spent in training :00:01:36\n"
     ]
    }
   ],
   "source": [
    "# Model fit\n",
    "epochs= 200\n",
    "batch_size = 64\n",
    "import time\n",
    "start_time = time.time()\n",
    "history = model.fit (train_image_tensor, \n",
    "           train_label_tensor, \n",
    "           epochs = epochs, \n",
    "           batch_size = batch_size, \n",
    "           callbacks=callbacks_list,\n",
    "           validation_data =( val_image_tensor,val_label_tensor))\n",
    "\n",
    "elapsed_time = time.time() - start_time\n",
    "\n",
    "print( time.strftime('Time spent in training :'\"%H:%M:%S\", time.gmtime(elapsed_time)))\n",
    "\n",
    "save_model(model, history, model_bin_dir, Model_name)"
   ]
  },
  {
   "cell_type": "code",
   "execution_count": 18,
   "metadata": {},
   "outputs": [],
   "source": [
    "# Import Model Test if not need to Train \n",
    "if not TRAIN :\n",
    "    model = model_load ( model_bin_dir, Model_name)"
   ]
  },
  {
   "cell_type": "code",
   "execution_count": 19,
   "metadata": {},
   "outputs": [
    {
     "data": {
      "image/png": "[encoded data removed]",
      "text/plain": [
       "<Figure size 432x288 with 1 Axes>"
      ]
     },
     "metadata": {
      "needs_background": "light"
     },
     "output_type": "display_data"
    },
    {
     "data": {
      "image/png": "[encoded data removed]",
      "text/plain": [
       "<Figure size 432x288 with 1 Axes>"
      ]
     },
     "metadata": {
      "needs_background": "light"
     },
     "output_type": "display_data"
    }
   ],
   "source": [
    "# Display curves of loss and accuracy during training and save results \n",
    "plot_save_acc_loss(results_dir, history.history, Model_name)"
   ]
  },
  {
   "cell_type": "code",
   "execution_count": 20,
   "metadata": {},
   "outputs": [
    {
     "name": "stdout",
     "output_type": "stream",
     "text": [
      "Executing op VarHandleOp in device /job:localhost/replica:0/task:0/device:GPU:0\n",
      "Executing op Fill in device /job:localhost/replica:0/task:0/device:GPU:0\n",
      "Executing op VarHandleOp in device /job:localhost/replica:0/task:0/device:GPU:0\n",
      "Executing op VarHandleOp in device /job:localhost/replica:0/task:0/device:GPU:0\n",
      "Executing op VarHandleOp in device /job:localhost/replica:0/task:0/device:GPU:0\n",
      "Executing op VarHandleOp in device /job:localhost/replica:0/task:0/device:GPU:0\n",
      "Executing op VarHandleOp in device /job:localhost/replica:0/task:0/device:GPU:0\n",
      "Executing op VarHandleOp in device /job:localhost/replica:0/task:0/device:GPU:0\n",
      "Executing op VarHandleOp in device /job:localhost/replica:0/task:0/device:GPU:0\n",
      "Executing op VarHandleOp in device /job:localhost/replica:0/task:0/device:GPU:0\n",
      "Executing op VarHandleOp in device /job:localhost/replica:0/task:0/device:GPU:0\n",
      "Executing op Reshape in device /job:localhost/replica:0/task:0/device:GPU:0\n",
      "Executing op VarHandleOp in device /job:localhost/replica:0/task:0/device:GPU:0\n"
     ]
    }
   ],
   "source": [
    "# Load Model \n",
    "# Load weights \n",
    "\n",
    "#model = build_model()\n",
    "#model.load_weights('my_weights.model')\n",
    "TRAIN = False\n",
    "if not TRAIN :\n",
    "    Model_name = \"ModelK1_1\"\n",
    "    model = model_load ( model_bin_dir, Model_name)\n",
    "    model.load_weights(model_bin_dir+\"Best_weights\"+Model_name+\".hdf5\")"
   ]
  },
  {
   "cell_type": "code",
   "execution_count": 21,
   "metadata": {},
   "outputs": [
    {
     "name": "stdout",
     "output_type": "stream",
     "text": [
      "(700, 150, 150, 3)\n"
     ]
    }
   ],
   "source": [
    "# Create tensors from images\n",
    "# Load Images \n",
    "\n",
    "# This step is very time consuming !!!!!!!\n",
    "test_image_tensor  = load_images_tf(dftest,height_imag,width_imag)"
   ]
  },
  {
   "cell_type": "code",
   "execution_count": 22,
   "metadata": {},
   "outputs": [],
   "source": [
    "# Define the label tensor\n",
    "test_label_tensor = create_label_tensor(dftest)"
   ]
  },
  {
   "cell_type": "code",
   "execution_count": 23,
   "metadata": {},
   "outputs": [
    {
     "name": "stdout",
     "output_type": "stream",
     "text": [
      "Executing op MapDataset in device /job:localhost/replica:0/task:0/device:CPU:0\n",
      "Executing op FlatMapDataset in device /job:localhost/replica:0/task:0/device:CPU:0\n",
      "Executing op ParallelMapDataset in device /job:localhost/replica:0/task:0/device:CPU:0\n",
      "Executing op __inference_distributed_function_48532 in device /job:localhost/replica:0/task:0/device:GPU:0\n",
      "700/1 - 1s - loss: 0.7479 - acc: 0.7457\n"
     ]
    }
   ],
   "source": [
    "#  ROC /AUC\n",
    "scores = model.evaluate(test_image_tensor, test_label_tensor, verbose=2)"
   ]
  },
  {
   "cell_type": "code",
   "execution_count": 24,
   "metadata": {},
   "outputs": [
    {
     "data": {
      "text/plain": [
       "[0.7814816978999547, 0.7457143]"
      ]
     },
     "execution_count": 24,
     "metadata": {},
     "output_type": "execute_result"
    }
   ],
   "source": [
    "model.metrics_names\n",
    "scores"
   ]
  },
  {
   "cell_type": "code",
   "execution_count": null,
   "metadata": {},
   "outputs": [],
   "source": [
    "# Loss 0.78  Acc=0.74"
   ]
  },
  {
   "cell_type": "code",
   "execution_count": 25,
   "metadata": {},
   "outputs": [
    {
     "name": "stdout",
     "output_type": "stream",
     "text": [
      "Executing op MapDataset in device /job:localhost/replica:0/task:0/device:CPU:0\n",
      "Executing op FlatMapDataset in device /job:localhost/replica:0/task:0/device:CPU:0\n",
      "Executing op TensorDataset in device /job:localhost/replica:0/task:0/device:CPU:0\n",
      "Executing op RepeatDataset in device /job:localhost/replica:0/task:0/device:CPU:0\n",
      "Executing op ZipDataset in device /job:localhost/replica:0/task:0/device:CPU:0\n",
      "Executing op ParallelMapDataset in device /job:localhost/replica:0/task:0/device:CPU:0\n",
      "Executing op ModelDataset in device /job:localhost/replica:0/task:0/device:CPU:0\n",
      "Executing op AnonymousIteratorV2 in device /job:localhost/replica:0/task:0/device:CPU:0\n",
      "Executing op __inference_distributed_function_48702 in device /job:localhost/replica:0/task:0/device:GPU:0\n"
     ]
    }
   ],
   "source": [
    "# Compute predictions\n",
    "# This takes time !!!!!!!!!!!!!!!!!!!!!!!!!!!!!!!!!\n",
    "y_pred_keras = model.predict(test_image_tensor).ravel()   # y_pred_probabilities\n",
    "y_pred = y_pred_keras > 0.5                                # y_pred_class : if >0.5  = True => Malignant\n",
    "y_test = dftest.bm.astype('category').cat.codes            # Ground truth \n",
    "class_labels= dftest.bm.unique()                           # Labels of ground truth \n"
   ]
  },
  {
   "cell_type": "code",
   "execution_count": 26,
   "metadata": {},
   "outputs": [
    {
     "name": "stdout",
     "output_type": "stream",
     "text": [
      "Metrics ModelK1_1\n",
      "===========================================\n",
      "Confusion Matrix:\n",
      "[[234 106]\n",
      " [ 72 288]]\n",
      "+----------------------------+-------------+\n",
      "|            Type            |  # samples  |\n",
      "+============================+=============+\n",
      "| True Positives- Malignants | 288         |\n",
      "+----------------------------+-------------+\n",
      "| True Negatives- Benign     | 234         |\n",
      "+----------------------------+-------------+\n",
      "| False Positive             | 106         |\n",
      "+----------------------------+-------------+\n",
      "| False Negative             | 72          |\n",
      "+----------------------------+-------------+\n",
      "Summary classification Report: \n",
      "              precision    recall  f1-score   support\n",
      "\n",
      "   malignant       0.76      0.69      0.72       340\n",
      "      benign       0.73      0.80      0.76       360\n",
      "\n",
      "    accuracy                           0.75       700\n",
      "   macro avg       0.75      0.74      0.74       700\n",
      "weighted avg       0.75      0.75      0.74       700\n",
      "\n",
      "+-------------+---------+\n",
      "|   Metrics   |         |\n",
      "+=============+=========+\n",
      "| Accuracy    | 0.750   |\n",
      "+-------------+---------+\n",
      "| Sensitivity | 0.800   |\n",
      "+-------------+---------+\n",
      "| Specificity | 0.690   |\n",
      "+-------------+---------+\n",
      "| AUC         | 0.830   |\n",
      "+-------------+---------+\n"
     ]
    },
    {
     "data": {
      "image/png": "[encoded data removed]",
      "text/plain": [
       "<Figure size 432x288 with 1 Axes>"
      ]
     },
     "metadata": {
      "needs_background": "light"
     },
     "output_type": "display_data"
    },
    {
     "data": {
      "image/png": "[encoded data removed]",
      "text/plain": [
       "<Figure size 432x288 with 1 Axes>"
      ]
     },
     "metadata": {
      "needs_background": "light"
     },
     "output_type": "display_data"
    }
   ],
   "source": [
    "#Print Metrics + Confusion ROC AUC\n",
    "confusion_ROC_AUC ( y_test, y_pred, y_pred_keras, class_labels, results_dir, Model_name )"
   ]
  },
  {
   "cell_type": "code",
   "execution_count": null,
   "metadata": {},
   "outputs": [],
   "source": [
    "tf.keras.backend.clear_session()  # Reset"
   ]
  }
 ],
 "metadata": {
  "accelerator": "GPU",
  "colab": {
   "collapsed_sections": [],
   "name": "Preprocess_Fit4.ipynb",
   "provenance": []
  },
  "kernelspec": {
   "display_name": "“gpu2”",
   "language": "python",
   "name": "gpu2"
  },
  "language_info": {
   "codemirror_mode": {
    "name": "ipython",
    "version": 3
   },
   "file_extension": ".py",
   "mimetype": "text/x-python",
   "name": "python",
   "nbconvert_exporter": "python",
   "pygments_lexer": "ipython3",
   "version": "3.7.6"
  }
 },
 "nbformat": 4,
 "nbformat_minor": 1
}

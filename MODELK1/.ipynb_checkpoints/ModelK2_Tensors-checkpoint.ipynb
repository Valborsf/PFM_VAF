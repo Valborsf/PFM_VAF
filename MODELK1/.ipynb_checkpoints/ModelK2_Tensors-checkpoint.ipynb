{
 "cells": [
  {
   "cell_type": "markdown",
   "metadata": {
    "colab_type": "text",
    "id": "Ur34g7Fbi5lr"
   },
   "source": [
    "# Notebook- Model K2 - Tensors   \n",
    "# Author : V.Albors   Date : 22.01.2020\n",
    "# Purpose : Train with tensors and regularization\n",
    "\n",
    "\n",
    "\n",
    "**Input** :  \n",
    "  * CSV files that identify the images to use as train and validation. CSV files are in directory csv_dir   \n",
    "  * Images from train and validation. Images are in directory : imag_dir  \n",
    "  * Saved model. Model is in directory : model_bin_dir  \n",
    "  \n",
    "**Output**:  \n",
    "  * Download of the model trained with train dataset - \n",
    "  * Download the history of the model in order to be evaluated \n",
    "\n",
    "**Process**:  \n",
    " * Read Train and Validation images ( identified in the .csv files ) from the imag_dir directory   \n",
    " * Create a train and validation input & label tensors (no augmentation)\n",
    " * Define the architecture of model : \n",
    "                        \n",
    " * Train the model with the train dataset with callbacks (  ModuleCheckPoint , Early Stopping)\n",
    " * Save the trained model and history of the model in directory model_bin_dir \n",
    " * Paint the Accuracy and Loss curves\n",
    " * Create results : Metrics \n",
    " "
   ]
  },
  {
   "cell_type": "code",
   "execution_count": 1,
   "metadata": {},
   "outputs": [
    {
     "name": "stderr",
     "output_type": "stream",
     "text": [
      "Using TensorFlow backend.\n"
     ]
    }
   ],
   "source": [
    "from keras import backend as K\n",
    "K.clear_session()"
   ]
  },
  {
   "cell_type": "code",
   "execution_count": 2,
   "metadata": {},
   "outputs": [
    {
     "name": "stdout",
     "output_type": "stream",
     "text": [
      "Num GPUs Available:  1\n"
     ]
    }
   ],
   "source": [
    "import tensorflow as tf\n",
    "print(\"Num GPUs Available: \", len(tf.config.experimental.list_physical_devices('GPU')))\n",
    "tf.config.experimental.list_physical_devices('GPU') \n",
    "physical_devices = tf.config.experimental.list_physical_devices('GPU')\n",
    "assert len(physical_devices) > 0, \"Not enough GPU hardware devices available\"\n",
    "tf.config.experimental.set_memory_growth(physical_devices[0], True)\n"
   ]
  },
  {
   "cell_type": "code",
   "execution_count": 3,
   "metadata": {},
   "outputs": [
    {
     "name": "stdout",
     "output_type": "stream",
     "text": [
      "1 Physical GPUs, 1 Logical GPUs\n"
     ]
    }
   ],
   "source": [
    "gpus = tf.config.experimental.list_physical_devices('GPU')\n",
    "if gpus:\n",
    "  # Restrict TensorFlow to only allocate 1GB of memory on the first GPU\n",
    "  try:\n",
    "    tf.config.experimental.set_virtual_device_configuration(\n",
    "        gpus[0],\n",
    "        [tf.config.experimental.VirtualDeviceConfiguration(memory_limit=5120)])\n",
    "    logical_gpus = tf.config.experimental.list_logical_devices('GPU')\n",
    "    print(len(gpus), \"Physical GPUs,\", len(logical_gpus), \"Logical GPUs\")\n",
    "  except RuntimeError as e:\n",
    "    # Virtual devices must be set before GPUs have been initialized\n",
    "    print(e)"
   ]
  },
  {
   "cell_type": "code",
   "execution_count": 4,
   "metadata": {},
   "outputs": [],
   "source": [
    "# Define the name of the model \n",
    "Model_directory = \"MODELK2\"\n",
    "Model_name = \"ModelK2_0\"\n",
    "TRAIN = True"
   ]
  },
  {
   "cell_type": "code",
   "execution_count": 5,
   "metadata": {},
   "outputs": [
    {
     "name": "stdout",
     "output_type": "stream",
     "text": [
      "['confusion_ROC_AUC', 'create_column_tensor', 'create_label_tensor', 'create_val_test', 'define_dirs', 'extract_images_bm', 'extract_images_train', 'load_hist_model', 'load_images', 'load_images_tf', 'model_load', 'plot_save_acc_loss', 'print_network', 'process_clinical_info', 'read_dataframes', 'read_dataframes_tables', 'reproducible_results', 'save_model', 'save_network_json', 'start', 'stop', 'to_one_hot', 'to_one_hot_words', 'xi_squared']\n"
     ]
    }
   ],
   "source": [
    "# Import routines\n",
    "import sys  \n",
    "subrc_dir = \"/home/valborsf/Documents/UOC/PFMProject/\"\n",
    "\n",
    "sys.path.append(subrc_dir)  \n",
    "from  Models_routines import *\n",
    "import inspect\n",
    "\n",
    "# List functions inside the module\n",
    "import Models_routines as module\n",
    "functions = inspect.getmembers(module, inspect.isfunction)\n",
    "lsfunctions = [item[0] for item in functions]\n",
    "print ( lsfunctions )"
   ]
  },
  {
   "cell_type": "code",
   "execution_count": 6,
   "metadata": {},
   "outputs": [],
   "source": [
    "# Reproducible results \n",
    "reproducible_results ()"
   ]
  },
  {
   "cell_type": "code",
   "execution_count": 7,
   "metadata": {},
   "outputs": [],
   "source": [
    "# Define directories\n",
    "(root_dir,json_dir,imag_dir,csv_dir,model_json_dir,model_bin_dir,results_dir,Tensor_dir) = define_dirs(Model_directory)"
   ]
  },
  {
   "cell_type": "code",
   "execution_count": 8,
   "metadata": {},
   "outputs": [],
   "source": [
    "# New dataset without SONIC disturbing images\n",
    "json_dir =  root_dir +\"/DataNew/ALL_JSON/\"                # .json dir images\n",
    "imag_dir =  root_dir +\"/DataNew/ALL_IMAGES/\"              # .png dir - images\n",
    "\n",
    "# directories for  CSV's\n",
    "csv_dir =  root_dir +\"/DataNew4/CSV/\"                      # .csv dir - dftrain, dfval, dftest"
   ]
  },
  {
   "cell_type": "code",
   "execution_count": 9,
   "metadata": {},
   "outputs": [
    {
     "name": "stdout",
     "output_type": "stream",
     "text": [
      "/home/valborsf/Documents/UOC/PFMProject/DataNew4/CSV/\n"
     ]
    }
   ],
   "source": [
    "# Load train,validation & Test \n",
    "(dftrain, dfval, dftest) = read_dataframes(csv_dir)"
   ]
  },
  {
   "cell_type": "code",
   "execution_count": 10,
   "metadata": {},
   "outputs": [],
   "source": [
    "# Define the label tensor\n",
    "train_label_tensor = create_label_tensor(dftrain)\n",
    "val_label_tensor = create_label_tensor(dfval)\n",
    "#test_label_tensor = create_label_tensor(dftest)"
   ]
  },
  {
   "cell_type": "code",
   "execution_count": 11,
   "metadata": {},
   "outputs": [
    {
     "name": "stdout",
     "output_type": "stream",
     "text": [
      "(2100, 150, 150, 3)\n",
      "(700, 150, 150, 3)\n"
     ]
    }
   ],
   "source": [
    "# Create tensors from images\n",
    "# Load Images \n",
    "height_imag = 150 \n",
    "width_imag = 150\n",
    "# This step is very time consuming !!!!!!!\n",
    "train_image_tensor  = load_images_tf(dftrain,height_imag,width_imag)\n",
    "val_image_tensor  = load_images_tf(dfval,height_imag,width_imag)\n",
    "#test_image_tensor  = load_images(dftest,height_imag,width_imag)"
   ]
  },
  {
   "cell_type": "code",
   "execution_count": 12,
   "metadata": {},
   "outputs": [],
   "source": [
    "import keras\n",
    "from keras.models import Model\n",
    "from keras import layers\n",
    "from keras import Input\n",
    "from keras import regularizers\n",
    "from keras.callbacks import ModelCheckpoint\n",
    "\n",
    "\n",
    "# Model 1 : Image to Predict Melanoma\n",
    "\n",
    "image_inputs = Input(shape=(height_imag,width_imag,3))\n",
    "m2 = layers.Conv2D(64, (3,3), kernel_regularizer=regularizers.l2(0.01), activation='relu')(image_inputs)\n",
    "m2 = layers.MaxPooling2D((2,2))(m2)\n",
    "m2 = layers.Conv2D(32, (3,3),  activation='relu')(m2)\n",
    "m2 = layers.MaxPooling2D((2,2))(m2)\n",
    "m2 = layers.Conv2D(128, (3,3), activation='relu')(m2)\n",
    "m2 = layers.MaxPooling2D((2,2))(m2)\n",
    "m2 = layers.Flatten()(m2)\n",
    "m2 = layers.Dense (512, activation='relu')(m2)\n",
    "m2 = layers.Dropout(0.23)(m2)\n",
    "benign_malign = layers.Dense (1, activation='sigmoid')(m2)\n",
    "\n",
    "# Add classifier on top \n",
    "#benign_malign = layers.Dense (1, activation='sigmoid')(concatenated)\n",
    "\n",
    "# Model instantiation\n",
    "model = Model(image_inputs, benign_malign)\n",
    "\n"
   ]
  },
  {
   "cell_type": "code",
   "execution_count": 13,
   "metadata": {},
   "outputs": [
    {
     "name": "stdout",
     "output_type": "stream",
     "text": [
      "Model: \"model_1\"\n",
      "_________________________________________________________________\n",
      "Layer (type)                 Output Shape              Param #   \n",
      "=================================================================\n",
      "input_1 (InputLayer)         (None, 150, 150, 3)       0         \n",
      "_________________________________________________________________\n",
      "conv2d_1 (Conv2D)            (None, 148, 148, 64)      1792      \n",
      "_________________________________________________________________\n",
      "max_pooling2d_1 (MaxPooling2 (None, 74, 74, 64)        0         \n",
      "_________________________________________________________________\n",
      "conv2d_2 (Conv2D)            (None, 72, 72, 32)        18464     \n",
      "_________________________________________________________________\n",
      "max_pooling2d_2 (MaxPooling2 (None, 36, 36, 32)        0         \n",
      "_________________________________________________________________\n",
      "conv2d_3 (Conv2D)            (None, 34, 34, 128)       36992     \n",
      "_________________________________________________________________\n",
      "max_pooling2d_3 (MaxPooling2 (None, 17, 17, 128)       0         \n",
      "_________________________________________________________________\n",
      "flatten_1 (Flatten)          (None, 36992)             0         \n",
      "_________________________________________________________________\n",
      "dense_1 (Dense)              (None, 512)               18940416  \n",
      "_________________________________________________________________\n",
      "dropout_1 (Dropout)          (None, 512)               0         \n",
      "_________________________________________________________________\n",
      "dense_2 (Dense)              (None, 1)                 513       \n",
      "=================================================================\n",
      "Total params: 18,998,177\n",
      "Trainable params: 18,998,177\n",
      "Non-trainable params: 0\n",
      "_________________________________________________________________\n"
     ]
    }
   ],
   "source": [
    "model.summary()"
   ]
  },
  {
   "cell_type": "code",
   "execution_count": 14,
   "metadata": {},
   "outputs": [],
   "source": [
    "#Print Network \n",
    "print_network (results_dir, model, Model_name)\n",
    "#Save Network \n",
    "save_network_json (model_json_dir, model, Model_name)"
   ]
  },
  {
   "cell_type": "code",
   "execution_count": 15,
   "metadata": {},
   "outputs": [],
   "source": [
    "# Model Compile\n",
    "from keras import optimizers\n",
    "model.compile ( loss='binary_crossentropy',\n",
    "#               optimizer = optimizers.RMSprop(lr=1e-4),\n",
    "               optimizer = optimizers.Adam(lr=1e-4),\n",
    "               metrics= ['acc'])"
   ]
  },
  {
   "cell_type": "code",
   "execution_count": 16,
   "metadata": {},
   "outputs": [],
   "source": [
    "# Callbacks\n",
    "callbacks_list = [\n",
    "# EarlyStopping when the model does not improve in loss\n",
    "\n",
    "         keras.callbacks.EarlyStopping (\n",
    "             monitor = 'val_loss',             # Monitors the accuracy\n",
    "             verbose=1,                        # log when finishes\n",
    "             patience = 4,),                   # Interrupt if acc no improve in 4 epochs\n",
    "\n",
    "#  ModelCheckpoint to store the weights of the best performing epoch. \n",
    "    \n",
    "         keras.callbacks.ModelCheckpoint(filepath=model_bin_dir+\"Best_weights\"+Model_name+\".hdf5\", \n",
    "             monitor = 'val_loss', # Won't overwritte the model file unless val_loss has\n",
    "             verbose=1,            # improve \n",
    "             save_best_only=True),\n",
    "         \n",
    "#         keras.callbacks.TensorBoard(\n",
    "#             log_dir =  Tensor_dir, \n",
    "#            histogram_freq = 1,\n",
    "#            )\n",
    "                ]"
   ]
  },
  {
   "cell_type": "code",
   "execution_count": 17,
   "metadata": {},
   "outputs": [
    {
     "name": "stdout",
     "output_type": "stream",
     "text": [
      "Train on 2100 samples, validate on 700 samples\n",
      "Epoch 1/200\n",
      "2100/2100 [==============================] - 5s 2ms/step - loss: 0.7001 - acc: 0.5262 - val_loss: 0.6763 - val_acc: 0.5386\n",
      "\n",
      "Epoch 00001: val_loss improved from inf to 0.67626, saving model to /home/valborsf/Documents/UOC/PFMProject/MODELK1/BMODEL/Best_weightsModelK1_0.hdf5\n",
      "Epoch 2/200\n",
      "2100/2100 [==============================] - 2s 1ms/step - loss: 0.6618 - acc: 0.6000 - val_loss: 0.6502 - val_acc: 0.6843\n",
      "\n",
      "Epoch 00002: val_loss improved from 0.67626 to 0.65021, saving model to /home/valborsf/Documents/UOC/PFMProject/MODELK1/BMODEL/Best_weightsModelK1_0.hdf5\n",
      "Epoch 3/200\n",
      "2100/2100 [==============================] - 2s 1ms/step - loss: 0.6345 - acc: 0.6314 - val_loss: 0.6060 - val_acc: 0.7000\n",
      "\n",
      "Epoch 00003: val_loss improved from 0.65021 to 0.60600, saving model to /home/valborsf/Documents/UOC/PFMProject/MODELK1/BMODEL/Best_weightsModelK1_0.hdf5\n",
      "Epoch 4/200\n",
      "2100/2100 [==============================] - 2s 1ms/step - loss: 0.6140 - acc: 0.6576 - val_loss: 0.6098 - val_acc: 0.6900\n",
      "\n",
      "Epoch 00004: val_loss did not improve from 0.60600\n",
      "Epoch 5/200\n",
      "2100/2100 [==============================] - 2s 1ms/step - loss: 0.5850 - acc: 0.6805 - val_loss: 0.5625 - val_acc: 0.6986\n",
      "\n",
      "Epoch 00005: val_loss improved from 0.60600 to 0.56248, saving model to /home/valborsf/Documents/UOC/PFMProject/MODELK1/BMODEL/Best_weightsModelK1_0.hdf5\n",
      "Epoch 6/200\n",
      "2100/2100 [==============================] - 2s 1ms/step - loss: 0.5688 - acc: 0.6843 - val_loss: 0.5442 - val_acc: 0.7371\n",
      "\n",
      "Epoch 00006: val_loss improved from 0.56248 to 0.54416, saving model to /home/valborsf/Documents/UOC/PFMProject/MODELK1/BMODEL/Best_weightsModelK1_0.hdf5\n",
      "Epoch 7/200\n",
      "2100/2100 [==============================] - 2s 1ms/step - loss: 0.5595 - acc: 0.7057 - val_loss: 0.5316 - val_acc: 0.7229\n",
      "\n",
      "Epoch 00007: val_loss improved from 0.54416 to 0.53159, saving model to /home/valborsf/Documents/UOC/PFMProject/MODELK1/BMODEL/Best_weightsModelK1_0.hdf5\n",
      "Epoch 8/200\n",
      "2100/2100 [==============================] - 2s 1ms/step - loss: 0.5395 - acc: 0.7086 - val_loss: 0.5445 - val_acc: 0.7100\n",
      "\n",
      "Epoch 00008: val_loss did not improve from 0.53159\n",
      "Epoch 9/200\n",
      "2100/2100 [==============================] - 2s 1ms/step - loss: 0.5507 - acc: 0.7076 - val_loss: 0.5183 - val_acc: 0.7214\n",
      "\n",
      "Epoch 00009: val_loss improved from 0.53159 to 0.51831, saving model to /home/valborsf/Documents/UOC/PFMProject/MODELK1/BMODEL/Best_weightsModelK1_0.hdf5\n",
      "Epoch 10/200\n",
      "2100/2100 [==============================] - 2s 1ms/step - loss: 0.5424 - acc: 0.7086 - val_loss: 0.5138 - val_acc: 0.7557\n",
      "\n",
      "Epoch 00010: val_loss improved from 0.51831 to 0.51376, saving model to /home/valborsf/Documents/UOC/PFMProject/MODELK1/BMODEL/Best_weightsModelK1_0.hdf5\n",
      "Epoch 11/200\n",
      "2100/2100 [==============================] - 3s 1ms/step - loss: 0.5200 - acc: 0.7271 - val_loss: 0.5147 - val_acc: 0.7343\n",
      "\n",
      "Epoch 00011: val_loss did not improve from 0.51376\n",
      "Epoch 12/200\n",
      "2100/2100 [==============================] - 2s 1ms/step - loss: 0.5148 - acc: 0.7210 - val_loss: 0.5127 - val_acc: 0.7300\n",
      "\n",
      "Epoch 00012: val_loss improved from 0.51376 to 0.51275, saving model to /home/valborsf/Documents/UOC/PFMProject/MODELK1/BMODEL/Best_weightsModelK1_0.hdf5\n",
      "Epoch 13/200\n",
      "2100/2100 [==============================] - 3s 1ms/step - loss: 0.5181 - acc: 0.7281 - val_loss: 0.4958 - val_acc: 0.7586\n",
      "\n",
      "Epoch 00013: val_loss improved from 0.51275 to 0.49579, saving model to /home/valborsf/Documents/UOC/PFMProject/MODELK1/BMODEL/Best_weightsModelK1_0.hdf5\n",
      "Epoch 14/200\n",
      "2100/2100 [==============================] - 2s 1ms/step - loss: 0.5162 - acc: 0.7171 - val_loss: 0.5190 - val_acc: 0.7271\n",
      "\n",
      "Epoch 00014: val_loss did not improve from 0.49579\n",
      "Epoch 15/200\n",
      "2100/2100 [==============================] - 3s 1ms/step - loss: 0.5049 - acc: 0.7362 - val_loss: 0.4880 - val_acc: 0.7486\n",
      "\n",
      "Epoch 00015: val_loss improved from 0.49579 to 0.48801, saving model to /home/valborsf/Documents/UOC/PFMProject/MODELK1/BMODEL/Best_weightsModelK1_0.hdf5\n",
      "Epoch 16/200\n",
      "2100/2100 [==============================] - 3s 1ms/step - loss: 0.5022 - acc: 0.7371 - val_loss: 0.5188 - val_acc: 0.7229\n",
      "\n",
      "Epoch 00016: val_loss did not improve from 0.48801\n",
      "Epoch 17/200\n",
      "2100/2100 [==============================] - 3s 1ms/step - loss: 0.4986 - acc: 0.7362 - val_loss: 0.4892 - val_acc: 0.7543\n",
      "\n",
      "Epoch 00017: val_loss did not improve from 0.48801\n",
      "Epoch 18/200\n",
      "2100/2100 [==============================] - 3s 1ms/step - loss: 0.5065 - acc: 0.7290 - val_loss: 0.4944 - val_acc: 0.7357\n",
      "\n",
      "Epoch 00018: val_loss did not improve from 0.48801\n",
      "Epoch 19/200\n",
      "2100/2100 [==============================] - 3s 1ms/step - loss: 0.4966 - acc: 0.7443 - val_loss: 0.5226 - val_acc: 0.7129\n",
      "\n",
      "Epoch 00019: val_loss did not improve from 0.48801\n",
      "Epoch 00019: early stopping\n",
      "Time spent in training :00:00:55\n"
     ]
    }
   ],
   "source": [
    "# Model fit\n",
    "epochs= 200\n",
    "batch_size = 64\n",
    "import time\n",
    "start_time = time.time()\n",
    "history = model.fit (train_image_tensor, \n",
    "           train_label_tensor, \n",
    "           epochs = epochs, \n",
    "           batch_size = batch_size, \n",
    "           callbacks=callbacks_list,\n",
    "           validation_data =( val_image_tensor,val_label_tensor))\n",
    "\n",
    "elapsed_time = time.time() - start_time\n",
    "\n",
    "print( time.strftime('Time spent in training :'\"%H:%M:%S\", time.gmtime(elapsed_time)))\n",
    "\n",
    "save_model(model, history, model_bin_dir, Model_name)"
   ]
  },
  {
   "cell_type": "code",
   "execution_count": 18,
   "metadata": {},
   "outputs": [],
   "source": [
    "# Import Model Test if not need to Train \n",
    "if not TRAIN :\n",
    "    model = model_load ( model_bin_dir, Model_name)"
   ]
  },
  {
   "cell_type": "code",
   "execution_count": 19,
   "metadata": {},
   "outputs": [
    {
     "data": {
      "image/png": "[encoded data removed]",
      "text/plain": [
       "<Figure size 432x288 with 1 Axes>"
      ]
     },
     "metadata": {
      "needs_background": "light"
     },
     "output_type": "display_data"
    },
    {
     "data": {
      "image/png": "[encoded data removed]",
      "text/plain": [
       "<Figure size 432x288 with 1 Axes>"
      ]
     },
     "metadata": {
      "needs_background": "light"
     },
     "output_type": "display_data"
    }
   ],
   "source": [
    "# Display curves of loss and accuracy during training and save results \n",
    "plot_save_acc_loss(results_dir, history.history, Model_name)"
   ]
  },
  {
   "cell_type": "code",
   "execution_count": 20,
   "metadata": {},
   "outputs": [],
   "source": [
    "# Load Model \n",
    "# Load weights \n",
    "\n",
    "#model = build_model()\n",
    "#model.load_weights('my_weights.model')\n",
    "TRAIN = False\n",
    "if not TRAIN :\n",
    "    Model_name = \"ModelK1_0\"\n",
    "    model = model_load ( model_bin_dir, Model_name)\n",
    "    model.load_weights(model_bin_dir+\"Best_weights\"+Model_name+\".hdf5\")"
   ]
  },
  {
   "cell_type": "code",
   "execution_count": 21,
   "metadata": {},
   "outputs": [
    {
     "name": "stdout",
     "output_type": "stream",
     "text": [
      "(700, 150, 150, 3)\n"
     ]
    }
   ],
   "source": [
    "# Create tensors from images\n",
    "# Load Images \n",
    "\n",
    "# This step is very time consuming !!!!!!!\n",
    "test_image_tensor  = load_images_tf(dftest,height_imag,width_imag)"
   ]
  },
  {
   "cell_type": "code",
   "execution_count": 22,
   "metadata": {},
   "outputs": [],
   "source": [
    "# Define the label tensor\n",
    "test_label_tensor = create_label_tensor(dftest)"
   ]
  },
  {
   "cell_type": "code",
   "execution_count": 23,
   "metadata": {},
   "outputs": [
    {
     "name": "stdout",
     "output_type": "stream",
     "text": [
      "700/700 [==============================] - 1s 992us/step\n"
     ]
    }
   ],
   "source": [
    "#  ROC /AUC\n",
    "scores = model.evaluate(test_image_tensor, test_label_tensor, verbose=1)"
   ]
  },
  {
   "cell_type": "code",
   "execution_count": 24,
   "metadata": {},
   "outputs": [
    {
     "data": {
      "text/plain": [
       "[0.49636430399758474, 0.7371428608894348]"
      ]
     },
     "execution_count": 24,
     "metadata": {},
     "output_type": "execute_result"
    }
   ],
   "source": [
    "model.metrics_names\n",
    "scores"
   ]
  },
  {
   "cell_type": "code",
   "execution_count": null,
   "metadata": {},
   "outputs": [],
   "source": [
    "# Loss 0.50  Acc=0.74"
   ]
  },
  {
   "cell_type": "code",
   "execution_count": 25,
   "metadata": {},
   "outputs": [],
   "source": [
    "# Compute predictions\n",
    "# This takes time !!!!!!!!!!!!!!!!!!!!!!!!!!!!!!!!!\n",
    "y_pred_keras = model.predict(test_image_tensor).ravel()   # y_pred_probabilities\n",
    "y_pred = y_pred_keras > 0.5                                # y_pred_class : if >0.5  = True => Malignant\n",
    "y_test = dftest.bm.astype('category').cat.codes            # Ground truth \n",
    "class_labels= dftest.bm.unique()                           # Labels of ground truth \n"
   ]
  },
  {
   "cell_type": "code",
   "execution_count": 26,
   "metadata": {},
   "outputs": [
    {
     "name": "stdout",
     "output_type": "stream",
     "text": [
      "Metrics ModelK1_0\n",
      "===========================================\n",
      "Confusion Matrix:\n",
      "[[218 122]\n",
      " [ 62 298]]\n",
      "+----------------------------+-------------+\n",
      "|            Type            |  # samples  |\n",
      "+============================+=============+\n",
      "| True Positives- Malignants | 298         |\n",
      "+----------------------------+-------------+\n",
      "| True Negatives- Benign     | 218         |\n",
      "+----------------------------+-------------+\n",
      "| False Positive             | 122         |\n",
      "+----------------------------+-------------+\n",
      "| False Negative             | 62          |\n",
      "+----------------------------+-------------+\n",
      "Summary classification Report: \n",
      "              precision    recall  f1-score   support\n",
      "\n",
      "   malignant       0.78      0.64      0.70       340\n",
      "      benign       0.71      0.83      0.76       360\n",
      "\n",
      "    accuracy                           0.74       700\n",
      "   macro avg       0.74      0.73      0.73       700\n",
      "weighted avg       0.74      0.74      0.73       700\n",
      "\n",
      "+-------------+---------+\n",
      "|   Metrics   |         |\n",
      "+=============+=========+\n",
      "| Accuracy    | 0.740   |\n",
      "+-------------+---------+\n",
      "| Sensitivity | 0.830   |\n",
      "+-------------+---------+\n",
      "| Specificity | 0.640   |\n",
      "+-------------+---------+\n",
      "| AUC         | 0.820   |\n",
      "+-------------+---------+\n"
     ]
    },
    {
     "data": {
      "image/png": "[encoded data removed]",
      "text/plain": [
       "<Figure size 432x288 with 1 Axes>"
      ]
     },
     "metadata": {
      "needs_background": "light"
     },
     "output_type": "display_data"
    },
    {
     "data": {
      "image/png": "[encoded data removed]",
      "text/plain": [
       "<Figure size 432x288 with 1 Axes>"
      ]
     },
     "metadata": {
      "needs_background": "light"
     },
     "output_type": "display_data"
    }
   ],
   "source": [
    "#Print Metrics + Confusion ROC AUC\n",
    "confusion_ROC_AUC ( y_test, y_pred, y_pred_keras, class_labels, results_dir, Model_name )"
   ]
  },
  {
   "cell_type": "code",
   "execution_count": null,
   "metadata": {},
   "outputs": [],
   "source": []
  }
 ],
 "metadata": {
  "accelerator": "GPU",
  "colab": {
   "collapsed_sections": [],
   "name": "Preprocess_Fit4.ipynb",
   "provenance": []
  },
  "kernelspec": {
   "display_name": "“gpu2”",
   "language": "python",
   "name": "gpu2"
  },
  "language_info": {
   "codemirror_mode": {
    "name": "ipython",
    "version": 3
   },
   "file_extension": ".py",
   "mimetype": "text/x-python",
   "name": "python",
   "nbconvert_exporter": "python",
   "pygments_lexer": "ipython3",
   "version": "3.7.5"
  }
 },
 "nbformat": 4,
 "nbformat_minor": 1
}

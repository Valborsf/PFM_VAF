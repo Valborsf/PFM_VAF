{
 "cells": [
  {
   "cell_type": "markdown",
   "metadata": {
    "colab_type": "text",
    "id": "Ur34g7Fbi5lr"
   },
   "source": [
    "# Notebook- Model K1_2 - Tensors   \n",
    "# Author : V.Albors   Date : 22.01.2020\n",
    "# Purpose : Train with tensors and regularization & Batch size =128\n",
    "\n",
    "\n",
    "\n",
    "**Input** :  \n",
    "  * CSV files that identify the images to use as train and validation. CSV files are in directory csv_dir   \n",
    "  * Images from train and validation. Images are in directory : imag_dir  \n",
    "  * Saved model. Model is in directory : model_bin_dir  \n",
    "  \n",
    "**Output**:  \n",
    "  * JMODEL dir - Json network model\n",
    "  * BMODEL dir - Optimum model with weights\n",
    "  * RESULTS dir - Print of Network architecture \n",
    "                - Train and Validation Accuracy and Loss Curves\n",
    "                - Metrics of the Model \n",
    "\n",
    "**Process**:  \n",
    " * Read Train and Validation images ( identified in the .csv files ) from the imag_dir directory   \n",
    " * Create a train and validation input & label tensors (no augmentation)\n",
    " * Define the architecture of model : Same as Model K1_1 with batch size = 128 ) \n",
    "                        \n",
    " * Train the model with the train dataset with callbacks (  ModuleCheckPoint , Early Stopping)\n",
    " * Save the trained model and history of the model in directory model_bin_dir \n",
    " * Paint the Accuracy and Loss curves\n",
    " * Create results : Metrics \n",
    " "
   ]
  },
  {
   "cell_type": "code",
   "execution_count": 1,
   "metadata": {},
   "outputs": [],
   "source": [
    "from __future__ import absolute_import, division, print_function, unicode_literals\n",
    "import tensorflow as tf\n",
    "\n",
    "tf.keras.backend.clear_session()  # Reset"
   ]
  },
  {
   "cell_type": "code",
   "execution_count": 2,
   "metadata": {},
   "outputs": [
    {
     "name": "stdout",
     "output_type": "stream",
     "text": [
      "Num GPUs Available:  1\n"
     ]
    }
   ],
   "source": [
    "import tensorflow as tf\n",
    "print(\"Num GPUs Available: \", len(tf.config.experimental.list_physical_devices('GPU')))\n",
    "tf.config.experimental.list_physical_devices('GPU') \n",
    "physical_devices = tf.config.experimental.list_physical_devices('GPU')\n",
    "assert len(physical_devices) > 0, \"Not enough GPU hardware devices available\"\n",
    "tf.config.experimental.set_memory_growth(physical_devices[0], True)\n",
    "tf.debugging.set_log_device_placement(True)"
   ]
  },
  {
   "cell_type": "code",
   "execution_count": 3,
   "metadata": {},
   "outputs": [],
   "source": [
    "# Define the name of the model \n",
    "Model_directory = \"MODELK1\"\n",
    "Model_name = \"ModelK1_2\"\n",
    "TRAIN = True"
   ]
  },
  {
   "cell_type": "code",
   "execution_count": 4,
   "metadata": {},
   "outputs": [
    {
     "name": "stdout",
     "output_type": "stream",
     "text": [
      "['confusion_ROC_AUC', 'create_column_tensor', 'create_label_tensor', 'create_val_test', 'define_dirs', 'extract_images_bm', 'extract_images_train', 'load_hist_model', 'load_images', 'load_images_tf', 'model_load', 'plot_save_acc_loss', 'print_network', 'process_clinical_info', 'read_dataframes', 'read_dataframes_tables', 'reproducible_results', 'save_model', 'save_network_json', 'start', 'stop', 'to_one_hot', 'to_one_hot_words', 'xi_squared']\n"
     ]
    }
   ],
   "source": [
    "# Import routines\n",
    "import sys  \n",
    "subrc_dir = \"/home/valborsf/Documents/UOC/PFMProject/\"\n",
    "\n",
    "sys.path.append(subrc_dir)  \n",
    "from  Models_routines import *\n",
    "import inspect\n",
    "\n",
    "# List functions inside the module\n",
    "import Models_routines as module\n",
    "functions = inspect.getmembers(module, inspect.isfunction)\n",
    "lsfunctions = [item[0] for item in functions]\n",
    "print ( lsfunctions )"
   ]
  },
  {
   "cell_type": "code",
   "execution_count": 5,
   "metadata": {},
   "outputs": [],
   "source": [
    "# Reproducible results \n",
    "reproducible_results ()"
   ]
  },
  {
   "cell_type": "code",
   "execution_count": 6,
   "metadata": {},
   "outputs": [],
   "source": [
    "# Define directories\n",
    "(root_dir,json_dir,imag_dir,csv_dir,model_json_dir,model_bin_dir,results_dir,Tensor_dir) = define_dirs(Model_directory)"
   ]
  },
  {
   "cell_type": "code",
   "execution_count": 7,
   "metadata": {},
   "outputs": [],
   "source": [
    "# New dataset without SONIC disturbing images\n",
    "json_dir =  root_dir +\"/DataNew/ALL_JSON/\"                # .json dir images\n",
    "imag_dir =  root_dir +\"/DataNew/ALL_IMAGES/\"              # .png dir - images\n",
    "\n",
    "# directories for  CSV's\n",
    "csv_dir =  root_dir +\"/DataNew4/CSV/\"                      # .csv dir - dftrain, dfval, dftest"
   ]
  },
  {
   "cell_type": "code",
   "execution_count": 8,
   "metadata": {},
   "outputs": [
    {
     "name": "stdout",
     "output_type": "stream",
     "text": [
      "/home/valborsf/Documents/UOC/PFMProject/DataNew4/CSV/\n"
     ]
    }
   ],
   "source": [
    "# Load train,validation & Test \n",
    "(dftrain, dfval, dftest) = read_dataframes(csv_dir)"
   ]
  },
  {
   "cell_type": "code",
   "execution_count": 9,
   "metadata": {},
   "outputs": [],
   "source": [
    "# Define the label tensor\n",
    "train_label_tensor = create_label_tensor(dftrain)\n",
    "val_label_tensor = create_label_tensor(dfval)\n",
    "#test_label_tensor = create_label_tensor(dftest)"
   ]
  },
  {
   "cell_type": "code",
   "execution_count": 10,
   "metadata": {},
   "outputs": [
    {
     "name": "stdout",
     "output_type": "stream",
     "text": [
      "Executing op ReadFile in device /job:localhost/replica:0/task:0/device:CPU:0\n",
      "Executing op DecodeJpeg in device /job:localhost/replica:0/task:0/device:CPU:0\n",
      "Executing op Cast in device /job:localhost/replica:0/task:0/device:CPU:0\n",
      "Executing op Mul in device /job:localhost/replica:0/task:0/device:CPU:0\n",
      "Executing op ExpandDims in device /job:localhost/replica:0/task:0/device:CPU:0\n",
      "Executing op ResizeBilinear in device /job:localhost/replica:0/task:0/device:CPU:0\n",
      "Executing op Squeeze in device /job:localhost/replica:0/task:0/device:CPU:0\n",
      "(2100, 150, 150, 3)\n",
      "(700, 150, 150, 3)\n"
     ]
    }
   ],
   "source": [
    "# Create tensors from images\n",
    "# Load Images \n",
    "height_imag = 150 \n",
    "width_imag = 150\n",
    "# This step is very time consuming !!!!!!!\n",
    "train_image_tensor  = load_images_tf(dftrain,height_imag,width_imag)\n",
    "val_image_tensor  = load_images_tf(dfval,height_imag,width_imag)\n",
    "#test_image_tensor  = load_images(dftest,height_imag,width_imag)"
   ]
  },
  {
   "cell_type": "code",
   "execution_count": 11,
   "metadata": {},
   "outputs": [
    {
     "name": "stdout",
     "output_type": "stream",
     "text": [
      "Executing op RandomUniform in device /job:localhost/replica:0/task:0/device:GPU:0\n",
      "Executing op Sub in device /job:localhost/replica:0/task:0/device:GPU:0\n",
      "Executing op Mul in device /job:localhost/replica:0/task:0/device:GPU:0\n",
      "Executing op Add in device /job:localhost/replica:0/task:0/device:GPU:0\n",
      "Executing op VarHandleOp in device /job:localhost/replica:0/task:0/device:GPU:0\n",
      "Executing op VarIsInitializedOp in device /job:localhost/replica:0/task:0/device:GPU:0\n",
      "Executing op LogicalNot in device /job:localhost/replica:0/task:0/device:GPU:0\n",
      "Executing op Assert in device /job:localhost/replica:0/task:0/device:GPU:0\n",
      "Executing op AssignVariableOp in device /job:localhost/replica:0/task:0/device:GPU:0\n",
      "Executing op Fill in device /job:localhost/replica:0/task:0/device:GPU:0\n",
      "Executing op VarHandleOp in device /job:localhost/replica:0/task:0/device:GPU:0\n",
      "Executing op VarHandleOp in device /job:localhost/replica:0/task:0/device:GPU:0\n",
      "Executing op VarHandleOp in device /job:localhost/replica:0/task:0/device:GPU:0\n",
      "Executing op VarHandleOp in device /job:localhost/replica:0/task:0/device:GPU:0\n",
      "Executing op VarHandleOp in device /job:localhost/replica:0/task:0/device:GPU:0\n",
      "Executing op VarHandleOp in device /job:localhost/replica:0/task:0/device:GPU:0\n",
      "Executing op VarHandleOp in device /job:localhost/replica:0/task:0/device:GPU:0\n",
      "Executing op VarHandleOp in device /job:localhost/replica:0/task:0/device:GPU:0\n",
      "Executing op Reshape in device /job:localhost/replica:0/task:0/device:GPU:0\n",
      "Executing op VarHandleOp in device /job:localhost/replica:0/task:0/device:GPU:0\n"
     ]
    }
   ],
   "source": [
    "#import keras\n",
    "from tensorflow.keras.models import Model\n",
    "from tensorflow.keras import layers\n",
    "from tensorflow.keras import Input\n",
    "from tensorflow.keras import regularizers\n",
    "from tensorflow.keras.callbacks import ModelCheckpoint\n",
    "\n",
    "# Model 1 : Image to Predict Melanoma\n",
    "\n",
    "image_inputs = Input(shape=(height_imag,width_imag,3))\n",
    "m2 = layers.Conv2D(64, (3,3), kernel_regularizer=regularizers.l2(0.01), activation='relu')(image_inputs)\n",
    "m2 = layers.MaxPooling2D((2,2))(m2)\n",
    "m2 = layers.Conv2D(32, (3,3), kernel_regularizer=regularizers.l2(0.01), activation='relu')(m2)\n",
    "m2 = layers.MaxPooling2D((2,2))(m2)\n",
    "m2 = layers.Conv2D(128, (3,3),kernel_regularizer=regularizers.l2(0.01), activation='relu')(m2)\n",
    "m2 = layers.MaxPooling2D((2,2))(m2)\n",
    "m2 = layers.Flatten()(m2)\n",
    "m2 = layers.Dense (512, activation='relu')(m2)\n",
    "m2 = layers.Dropout(0.23)(m2)\n",
    "benign_malign = layers.Dense (1, activation='sigmoid')(m2)\n",
    "\n",
    "\n",
    "# Model instantiation\n",
    "model = Model(image_inputs, benign_malign)\n",
    "\n"
   ]
  },
  {
   "cell_type": "code",
   "execution_count": 12,
   "metadata": {},
   "outputs": [
    {
     "name": "stdout",
     "output_type": "stream",
     "text": [
      "Model: \"model\"\n",
      "_________________________________________________________________\n",
      "Layer (type)                 Output Shape              Param #   \n",
      "=================================================================\n",
      "input_1 (InputLayer)         [(None, 150, 150, 3)]     0         \n",
      "_________________________________________________________________\n",
      "conv2d (Conv2D)              (None, 148, 148, 64)      1792      \n",
      "_________________________________________________________________\n",
      "max_pooling2d (MaxPooling2D) (None, 74, 74, 64)        0         \n",
      "_________________________________________________________________\n",
      "conv2d_1 (Conv2D)            (None, 72, 72, 32)        18464     \n",
      "_________________________________________________________________\n",
      "max_pooling2d_1 (MaxPooling2 (None, 36, 36, 32)        0         \n",
      "_________________________________________________________________\n",
      "conv2d_2 (Conv2D)            (None, 34, 34, 128)       36992     \n",
      "_________________________________________________________________\n",
      "max_pooling2d_2 (MaxPooling2 (None, 17, 17, 128)       0         \n",
      "_________________________________________________________________\n",
      "flatten (Flatten)            (None, 36992)             0         \n",
      "_________________________________________________________________\n",
      "dense (Dense)                (None, 512)               18940416  \n",
      "_________________________________________________________________\n",
      "dropout (Dropout)            (None, 512)               0         \n",
      "_________________________________________________________________\n",
      "dense_1 (Dense)              (None, 1)                 513       \n",
      "=================================================================\n",
      "Total params: 18,998,177\n",
      "Trainable params: 18,998,177\n",
      "Non-trainable params: 0\n",
      "_________________________________________________________________\n"
     ]
    }
   ],
   "source": [
    "model.summary()"
   ]
  },
  {
   "cell_type": "code",
   "execution_count": 13,
   "metadata": {},
   "outputs": [],
   "source": [
    "#Print Network \n",
    "print_network (results_dir, model, Model_name)\n",
    "#Save Network \n",
    "save_network_json (model_json_dir, model, Model_name)"
   ]
  },
  {
   "cell_type": "code",
   "execution_count": 14,
   "metadata": {},
   "outputs": [
    {
     "name": "stdout",
     "output_type": "stream",
     "text": [
      "Executing op VarHandleOp in device /job:localhost/replica:0/task:0/device:GPU:0\n"
     ]
    }
   ],
   "source": [
    "# Model Compile\n",
    "from tensorflow.keras import optimizers\n",
    "\n",
    "model.compile ( loss='binary_crossentropy',\n",
    "#               optimizer = optimizers.RMSprop(lr=1e-4),\n",
    "               optimizer = optimizers.Adam(lr=1e-4),\n",
    "               metrics= ['acc'])"
   ]
  },
  {
   "cell_type": "code",
   "execution_count": 15,
   "metadata": {},
   "outputs": [],
   "source": [
    "# Callbacks\n",
    "callbacks_list = [\n",
    "# EarlyStopping when the model does not improve in loss\n",
    "\n",
    "         tf.keras.callbacks.EarlyStopping (\n",
    "             monitor = 'val_loss',             # Monitors the accuracy\n",
    "             verbose=1,                        # log when finishes\n",
    "             patience = 4,),                   # Interrupt if acc no improve in 4 epochs\n",
    "\n",
    "#  ModelCheckpoint to store the weights of the best performing epoch. \n",
    "    \n",
    "         tf.keras.callbacks.ModelCheckpoint(filepath=model_bin_dir+\"Best_weights\"+Model_name+\".hdf5\", \n",
    "             monitor = 'val_loss', # Won't overwritte the model file unless val_loss has\n",
    "             verbose=1,            # improve \n",
    "             save_best_only=True),\n",
    "         \n",
    "#         keras.callbacks.TensorBoard(\n",
    "#             log_dir =  Tensor_dir, \n",
    "#            histogram_freq = 1,\n",
    "#            )\n",
    "                ]"
   ]
  },
  {
   "cell_type": "code",
   "execution_count": 16,
   "metadata": {},
   "outputs": [
    {
     "name": "stdout",
     "output_type": "stream",
     "text": [
      "Executing op RangeDataset in device /job:localhost/replica:0/task:0/device:CPU:0\n",
      "Executing op RepeatDataset in device /job:localhost/replica:0/task:0/device:CPU:0\n",
      "Executing op MapDataset in device /job:localhost/replica:0/task:0/device:CPU:0\n",
      "Executing op PrefetchDataset in device /job:localhost/replica:0/task:0/device:CPU:0\n",
      "Executing op FlatMapDataset in device /job:localhost/replica:0/task:0/device:CPU:0\n",
      "Executing op TensorDataset in device /job:localhost/replica:0/task:0/device:CPU:0\n",
      "Executing op RepeatDataset in device /job:localhost/replica:0/task:0/device:CPU:0\n",
      "Executing op ZipDataset in device /job:localhost/replica:0/task:0/device:CPU:0\n",
      "Executing op ParallelMapDataset in device /job:localhost/replica:0/task:0/device:CPU:0\n",
      "Executing op MapDataset in device /job:localhost/replica:0/task:0/device:CPU:0\n",
      "Executing op PrefetchDataset in device /job:localhost/replica:0/task:0/device:CPU:0\n",
      "Executing op FlatMapDataset in device /job:localhost/replica:0/task:0/device:CPU:0\n",
      "Executing op TensorDataset in device /job:localhost/replica:0/task:0/device:CPU:0\n",
      "Executing op RepeatDataset in device /job:localhost/replica:0/task:0/device:CPU:0\n",
      "Executing op ZipDataset in device /job:localhost/replica:0/task:0/device:CPU:0\n",
      "Executing op ParallelMapDataset in device /job:localhost/replica:0/task:0/device:CPU:0\n",
      "Executing op DatasetCardinality in device /job:localhost/replica:0/task:0/device:CPU:0\n",
      "Train on 2100 samples, validate on 700 samples\n",
      "Epoch 1/200\n",
      "Executing op ModelDataset in device /job:localhost/replica:0/task:0/device:CPU:0\n",
      "Executing op AnonymousIteratorV2 in device /job:localhost/replica:0/task:0/device:CPU:0\n",
      "Executing op MakeIterator in device /job:localhost/replica:0/task:0/device:CPU:0\n",
      "Executing op VarHandleOp in device /job:localhost/replica:0/task:0/device:GPU:0\n",
      "Executing op AssignVariableOp in device /job:localhost/replica:0/task:0/device:GPU:0\n",
      "Executing op VarHandleOp in device /job:localhost/replica:0/task:0/device:GPU:0\n",
      "Executing op VarHandleOp in device /job:localhost/replica:0/task:0/device:GPU:0\n",
      "Executing op VarHandleOp in device /job:localhost/replica:0/task:0/device:GPU:0\n",
      "Executing op VarHandleOp in device /job:localhost/replica:0/task:0/device:GPU:0\n",
      "Executing op VarHandleOp in device /job:localhost/replica:0/task:0/device:GPU:0\n",
      "Executing op LogicalNot in device /job:localhost/replica:0/task:0/device:GPU:0\n",
      "Executing op Assert in device /job:localhost/replica:0/task:0/device:GPU:0\n",
      "Executing op VarHandleOp in device /job:localhost/replica:0/task:0/device:GPU:0\n",
      "Executing op VarHandleOp in device /job:localhost/replica:0/task:0/device:GPU:0\n",
      "Executing op VarHandleOp in device /job:localhost/replica:0/task:0/device:GPU:0\n",
      "Executing op VarHandleOp in device /job:localhost/replica:0/task:0/device:GPU:0\n",
      "Executing op VarHandleOp in device /job:localhost/replica:0/task:0/device:GPU:0\n",
      "Executing op VarHandleOp in device /job:localhost/replica:0/task:0/device:GPU:0\n",
      "Executing op VarHandleOp in device /job:localhost/replica:0/task:0/device:GPU:0\n",
      "Executing op VarHandleOp in device /job:localhost/replica:0/task:0/device:GPU:0\n",
      "Executing op VarHandleOp in device /job:localhost/replica:0/task:0/device:GPU:0\n",
      "Executing op VarHandleOp in device /job:localhost/replica:0/task:0/device:GPU:0\n",
      "Executing op VarHandleOp in device /job:localhost/replica:0/task:0/device:GPU:0\n",
      "Executing op VarHandleOp in device /job:localhost/replica:0/task:0/device:GPU:0\n",
      "Executing op VarHandleOp in device /job:localhost/replica:0/task:0/device:GPU:0\n",
      "Executing op VarHandleOp in device /job:localhost/replica:0/task:0/device:GPU:0\n",
      "Executing op VarHandleOp in device /job:localhost/replica:0/task:0/device:GPU:0\n",
      "Executing op VarHandleOp in device /job:localhost/replica:0/task:0/device:GPU:0\n",
      "Executing op VarHandleOp in device /job:localhost/replica:0/task:0/device:GPU:0\n",
      "Executing op VarHandleOp in device /job:localhost/replica:0/task:0/device:GPU:0\n",
      "Executing op VarHandleOp in device /job:localhost/replica:0/task:0/device:GPU:0\n",
      "Executing op __inference_initialize_variables_31833 in device /job:localhost/replica:0/task:0/device:GPU:0\n",
      "Executing op __inference_distributed_function_32214 in device /job:localhost/replica:0/task:0/device:GPU:0\n",
      "2048/2100 [============================>.] - ETA: 0s - loss: 1.6787 - acc: 0.4893Executing op __inference_distributed_function_32405 in device /job:localhost/replica:0/task:0/device:GPU:0\n",
      "\n",
      "Epoch 00001: val_loss improved from inf to 1.62063, saving model to /home/valborsf/Documents/UOC/PFMProject/MODELK1/BMODEL/Best_weightsModelK1_2.hdf5\n",
      "Executing op ReadVariableOp in device /job:localhost/replica:0/task:0/device:GPU:0\n",
      "Executing op ReadVariableOp in device /job:localhost/replica:0/task:0/device:GPU:0\n",
      "2100/2100 [==============================] - 7s 3ms/sample - loss: 1.6773 - acc: 0.4890 - val_loss: 1.6206 - val_acc: 0.5757\n",
      "Epoch 2/200\n",
      "2048/2100 [============================>.] - ETA: 0s - loss: 1.5932 - acc: 0.5786Executing op DeleteIterator in device /job:localhost/replica:0/task:0/device:CPU:0\n",
      "\n",
      "Epoch 00002: val_loss improved from 1.62063 to 1.54561, saving model to /home/valborsf/Documents/UOC/PFMProject/MODELK1/BMODEL/Best_weightsModelK1_2.hdf5\n",
      "2100/2100 [==============================] - 3s 1ms/sample - loss: 1.5922 - acc: 0.5776 - val_loss: 1.5456 - val_acc: 0.6014\n",
      "Epoch 3/200\n",
      "2048/2100 [============================>.] - ETA: 0s - loss: 1.5211 - acc: 0.6235\n",
      "Epoch 00003: val_loss improved from 1.54561 to 1.48762, saving model to /home/valborsf/Documents/UOC/PFMProject/MODELK1/BMODEL/Best_weightsModelK1_2.hdf5\n",
      "2100/2100 [==============================] - 3s 1ms/sample - loss: 1.5189 - acc: 0.6267 - val_loss: 1.4876 - val_acc: 0.5486\n",
      "Epoch 4/200\n",
      "2048/2100 [============================>.] - ETA: 0s - loss: 1.4528 - acc: 0.6138\n",
      "Epoch 00004: val_loss improved from 1.48762 to 1.41500, saving model to /home/valborsf/Documents/UOC/PFMProject/MODELK1/BMODEL/Best_weightsModelK1_2.hdf5\n",
      "2100/2100 [==============================] - 3s 1ms/sample - loss: 1.4537 - acc: 0.6143 - val_loss: 1.4150 - val_acc: 0.6957\n",
      "Epoch 5/200\n",
      "2048/2100 [============================>.] - ETA: 0s - loss: 1.3862 - acc: 0.6470\n",
      "Epoch 00005: val_loss improved from 1.41500 to 1.34542, saving model to /home/valborsf/Documents/UOC/PFMProject/MODELK1/BMODEL/Best_weightsModelK1_2.hdf5\n",
      "2100/2100 [==============================] - 3s 1ms/sample - loss: 1.3858 - acc: 0.6486 - val_loss: 1.3454 - val_acc: 0.6814\n",
      "Epoch 6/200\n",
      "2048/2100 [============================>.] - ETA: 0s - loss: 1.3315 - acc: 0.6567\n",
      "Epoch 00006: val_loss improved from 1.34542 to 1.29186, saving model to /home/valborsf/Documents/UOC/PFMProject/MODELK1/BMODEL/Best_weightsModelK1_2.hdf5\n",
      "2100/2100 [==============================] - 3s 1ms/sample - loss: 1.3311 - acc: 0.6586 - val_loss: 1.2919 - val_acc: 0.7014\n",
      "Epoch 7/200\n",
      "2048/2100 [============================>.] - ETA: 0s - loss: 1.2865 - acc: 0.6689\n",
      "Epoch 00007: val_loss improved from 1.29186 to 1.25282, saving model to /home/valborsf/Documents/UOC/PFMProject/MODELK1/BMODEL/Best_weightsModelK1_2.hdf5\n",
      "2100/2100 [==============================] - 3s 1ms/sample - loss: 1.2865 - acc: 0.6681 - val_loss: 1.2528 - val_acc: 0.6771\n",
      "Epoch 8/200\n",
      "2048/2100 [============================>.] - ETA: 0s - loss: 1.2536 - acc: 0.6689\n",
      "Epoch 00008: val_loss improved from 1.25282 to 1.21142, saving model to /home/valborsf/Documents/UOC/PFMProject/MODELK1/BMODEL/Best_weightsModelK1_2.hdf5\n",
      "2100/2100 [==============================] - 3s 1ms/sample - loss: 1.2545 - acc: 0.6676 - val_loss: 1.2114 - val_acc: 0.7057\n",
      "Epoch 9/200\n",
      "2048/2100 [============================>.] - ETA: 0s - loss: 1.2076 - acc: 0.6914\n",
      "Epoch 00009: val_loss improved from 1.21142 to 1.20328, saving model to /home/valborsf/Documents/UOC/PFMProject/MODELK1/BMODEL/Best_weightsModelK1_2.hdf5\n",
      "2100/2100 [==============================] - 2s 1ms/sample - loss: 1.2084 - acc: 0.6919 - val_loss: 1.2033 - val_acc: 0.6514\n",
      "Epoch 10/200\n",
      "2048/2100 [============================>.] - ETA: 0s - loss: 1.1729 - acc: 0.6997\n",
      "Epoch 00010: val_loss improved from 1.20328 to 1.15526, saving model to /home/valborsf/Documents/UOC/PFMProject/MODELK1/BMODEL/Best_weightsModelK1_2.hdf5\n",
      "2100/2100 [==============================] - 2s 1ms/sample - loss: 1.1705 - acc: 0.7010 - val_loss: 1.1553 - val_acc: 0.6871\n"
     ]
    },
    {
     "name": "stdout",
     "output_type": "stream",
     "text": [
      "Epoch 11/200\n",
      "2048/2100 [============================>.] - ETA: 0s - loss: 1.1344 - acc: 0.7148\n",
      "Epoch 00011: val_loss improved from 1.15526 to 1.14888, saving model to /home/valborsf/Documents/UOC/PFMProject/MODELK1/BMODEL/Best_weightsModelK1_2.hdf5\n",
      "2100/2100 [==============================] - 2s 1ms/sample - loss: 1.1345 - acc: 0.7148 - val_loss: 1.1489 - val_acc: 0.6600\n",
      "Epoch 12/200\n",
      "2048/2100 [============================>.] - ETA: 0s - loss: 1.1155 - acc: 0.7036\n",
      "Epoch 00012: val_loss improved from 1.14888 to 1.10930, saving model to /home/valborsf/Documents/UOC/PFMProject/MODELK1/BMODEL/Best_weightsModelK1_2.hdf5\n",
      "2100/2100 [==============================] - 2s 1ms/sample - loss: 1.1148 - acc: 0.7043 - val_loss: 1.1093 - val_acc: 0.6829\n",
      "Epoch 13/200\n",
      "2048/2100 [============================>.] - ETA: 0s - loss: 1.0959 - acc: 0.7104\n",
      "Epoch 00013: val_loss improved from 1.10930 to 1.06238, saving model to /home/valborsf/Documents/UOC/PFMProject/MODELK1/BMODEL/Best_weightsModelK1_2.hdf5\n",
      "2100/2100 [==============================] - 2s 1ms/sample - loss: 1.0959 - acc: 0.7110 - val_loss: 1.0624 - val_acc: 0.7357\n",
      "Epoch 14/200\n",
      "2048/2100 [============================>.] - ETA: 0s - loss: 1.0559 - acc: 0.7275\n",
      "Epoch 00014: val_loss improved from 1.06238 to 1.04091, saving model to /home/valborsf/Documents/UOC/PFMProject/MODELK1/BMODEL/Best_weightsModelK1_2.hdf5\n",
      "2100/2100 [==============================] - 3s 1ms/sample - loss: 1.0562 - acc: 0.7248 - val_loss: 1.0409 - val_acc: 0.7257\n",
      "Epoch 15/200\n",
      "2048/2100 [============================>.] - ETA: 0s - loss: 1.0236 - acc: 0.7280\n",
      "Epoch 00015: val_loss improved from 1.04091 to 1.01782, saving model to /home/valborsf/Documents/UOC/PFMProject/MODELK1/BMODEL/Best_weightsModelK1_2.hdf5\n",
      "2100/2100 [==============================] - 3s 1ms/sample - loss: 1.0249 - acc: 0.7271 - val_loss: 1.0178 - val_acc: 0.7400\n",
      "Epoch 16/200\n",
      "2048/2100 [============================>.] - ETA: 0s - loss: 1.0093 - acc: 0.7261\n",
      "Epoch 00016: val_loss improved from 1.01782 to 1.00532, saving model to /home/valborsf/Documents/UOC/PFMProject/MODELK1/BMODEL/Best_weightsModelK1_2.hdf5\n",
      "2100/2100 [==============================] - 3s 1ms/sample - loss: 1.0107 - acc: 0.7252 - val_loss: 1.0053 - val_acc: 0.7200\n",
      "Epoch 17/200\n",
      "2048/2100 [============================>.] - ETA: 0s - loss: 1.0008 - acc: 0.7251\n",
      "Epoch 00017: val_loss did not improve from 1.00532\n",
      "2100/2100 [==============================] - 2s 1ms/sample - loss: 0.9991 - acc: 0.7252 - val_loss: 1.0123 - val_acc: 0.7100\n",
      "Epoch 18/200\n",
      "2048/2100 [============================>.] - ETA: 0s - loss: 1.0001 - acc: 0.7036\n",
      "Epoch 00018: val_loss improved from 1.00532 to 0.98375, saving model to /home/valborsf/Documents/UOC/PFMProject/MODELK1/BMODEL/Best_weightsModelK1_2.hdf5\n",
      "2100/2100 [==============================] - 3s 1ms/sample - loss: 0.9975 - acc: 0.7057 - val_loss: 0.9838 - val_acc: 0.7000\n",
      "Epoch 19/200\n",
      "2048/2100 [============================>.] - ETA: 0s - loss: 0.9722 - acc: 0.7109\n",
      "Epoch 00019: val_loss improved from 0.98375 to 0.97076, saving model to /home/valborsf/Documents/UOC/PFMProject/MODELK1/BMODEL/Best_weightsModelK1_2.hdf5\n",
      "2100/2100 [==============================] - 3s 1ms/sample - loss: 0.9733 - acc: 0.7110 - val_loss: 0.9708 - val_acc: 0.6914\n",
      "Epoch 20/200\n",
      "2048/2100 [============================>.] - ETA: 0s - loss: 0.9534 - acc: 0.7080\n",
      "Epoch 00020: val_loss improved from 0.97076 to 0.95435, saving model to /home/valborsf/Documents/UOC/PFMProject/MODELK1/BMODEL/Best_weightsModelK1_2.hdf5\n",
      "2100/2100 [==============================] - 3s 1ms/sample - loss: 0.9518 - acc: 0.7105 - val_loss: 0.9544 - val_acc: 0.7029\n",
      "Epoch 21/200\n",
      "2048/2100 [============================>.] - ETA: 0s - loss: 0.9183 - acc: 0.7412\n",
      "Epoch 00021: val_loss improved from 0.95435 to 0.91169, saving model to /home/valborsf/Documents/UOC/PFMProject/MODELK1/BMODEL/Best_weightsModelK1_2.hdf5\n",
      "2100/2100 [==============================] - 3s 1ms/sample - loss: 0.9224 - acc: 0.7381 - val_loss: 0.9117 - val_acc: 0.7600\n",
      "Epoch 22/200\n",
      "2048/2100 [============================>.] - ETA: 0s - loss: 0.9227 - acc: 0.7314\n",
      "Epoch 00022: val_loss did not improve from 0.91169\n",
      "2100/2100 [==============================] - 2s 1ms/sample - loss: 0.9213 - acc: 0.7329 - val_loss: 0.9521 - val_acc: 0.6686\n",
      "Epoch 23/200\n",
      "2048/2100 [============================>.] - ETA: 0s - loss: 0.9125 - acc: 0.7329\n",
      "Epoch 00023: val_loss improved from 0.91169 to 0.89376, saving model to /home/valborsf/Documents/UOC/PFMProject/MODELK1/BMODEL/Best_weightsModelK1_2.hdf5\n",
      "2100/2100 [==============================] - 3s 1ms/sample - loss: 0.9118 - acc: 0.7333 - val_loss: 0.8938 - val_acc: 0.7386\n",
      "Epoch 24/200\n",
      "2048/2100 [============================>.] - ETA: 0s - loss: 0.8822 - acc: 0.7417\n",
      "Epoch 00024: val_loss did not improve from 0.89376\n",
      "2100/2100 [==============================] - 2s 1ms/sample - loss: 0.8825 - acc: 0.7405 - val_loss: 0.9078 - val_acc: 0.7514\n",
      "Epoch 25/200\n",
      "2048/2100 [============================>.] - ETA: 0s - loss: 0.8832 - acc: 0.7236\n",
      "Epoch 00025: val_loss did not improve from 0.89376\n",
      "2100/2100 [==============================] - 2s 1ms/sample - loss: 0.8814 - acc: 0.7243 - val_loss: 0.9049 - val_acc: 0.7157\n",
      "Epoch 26/200\n",
      "2048/2100 [============================>.] - ETA: 0s - loss: 0.8654 - acc: 0.7544\n",
      "Epoch 00026: val_loss improved from 0.89376 to 0.85808, saving model to /home/valborsf/Documents/UOC/PFMProject/MODELK1/BMODEL/Best_weightsModelK1_2.hdf5\n",
      "2100/2100 [==============================] - 3s 1ms/sample - loss: 0.8650 - acc: 0.7538 - val_loss: 0.8581 - val_acc: 0.7471\n",
      "Epoch 27/200\n",
      "2048/2100 [============================>.] - ETA: 0s - loss: 0.8612 - acc: 0.7266\n",
      "Epoch 00027: val_loss did not improve from 0.85808\n",
      "2100/2100 [==============================] - 2s 1ms/sample - loss: 0.8616 - acc: 0.7271 - val_loss: 0.8669 - val_acc: 0.7600\n",
      "Epoch 28/200\n",
      "2048/2100 [============================>.] - ETA: 0s - loss: 0.8652 - acc: 0.7188\n",
      "Epoch 00028: val_loss did not improve from 0.85808\n",
      "2100/2100 [==============================] - 2s 1ms/sample - loss: 0.8623 - acc: 0.7214 - val_loss: 0.8795 - val_acc: 0.7557\n",
      "Epoch 29/200\n",
      "2048/2100 [============================>.] - ETA: 0s - loss: 0.8510 - acc: 0.7310\n",
      "Epoch 00029: val_loss did not improve from 0.85808\n",
      "2100/2100 [==============================] - 2s 1ms/sample - loss: 0.8514 - acc: 0.7310 - val_loss: 0.8685 - val_acc: 0.7343\n",
      "Epoch 30/200\n",
      "2048/2100 [============================>.] - ETA: 0s - loss: 0.8268 - acc: 0.7476\n",
      "Epoch 00030: val_loss improved from 0.85808 to 0.83071, saving model to /home/valborsf/Documents/UOC/PFMProject/MODELK1/BMODEL/Best_weightsModelK1_2.hdf5\n",
      "2100/2100 [==============================] - 3s 1ms/sample - loss: 0.8283 - acc: 0.7457 - val_loss: 0.8307 - val_acc: 0.7457\n",
      "Epoch 31/200\n",
      "2048/2100 [============================>.] - ETA: 0s - loss: 0.8185 - acc: 0.7427\n",
      "Epoch 00031: val_loss improved from 0.83071 to 0.81591, saving model to /home/valborsf/Documents/UOC/PFMProject/MODELK1/BMODEL/Best_weightsModelK1_2.hdf5\n",
      "2100/2100 [==============================] - 3s 1ms/sample - loss: 0.8165 - acc: 0.7443 - val_loss: 0.8159 - val_acc: 0.7714\n",
      "Epoch 32/200\n",
      "2048/2100 [============================>.] - ETA: 0s - loss: 0.8045 - acc: 0.7578\n",
      "Epoch 00032: val_loss improved from 0.81591 to 0.80732, saving model to /home/valborsf/Documents/UOC/PFMProject/MODELK1/BMODEL/Best_weightsModelK1_2.hdf5\n",
      "2100/2100 [==============================] - 3s 1ms/sample - loss: 0.8042 - acc: 0.7576 - val_loss: 0.8073 - val_acc: 0.7614\n",
      "Epoch 33/200\n",
      "2048/2100 [============================>.] - ETA: 0s - loss: 0.7943 - acc: 0.7534\n",
      "Epoch 00033: val_loss improved from 0.80732 to 0.80702, saving model to /home/valborsf/Documents/UOC/PFMProject/MODELK1/BMODEL/Best_weightsModelK1_2.hdf5\n",
      "2100/2100 [==============================] - 3s 1ms/sample - loss: 0.7948 - acc: 0.7529 - val_loss: 0.8070 - val_acc: 0.7600\n",
      "Epoch 34/200\n",
      "2048/2100 [============================>.] - ETA: 0s - loss: 0.8034 - acc: 0.7378\n",
      "Epoch 00034: val_loss did not improve from 0.80702\n",
      "2100/2100 [==============================] - 2s 1ms/sample - loss: 0.8062 - acc: 0.7348 - val_loss: 0.8612 - val_acc: 0.7100\n",
      "Epoch 35/200\n",
      "2048/2100 [============================>.] - ETA: 0s - loss: 0.7958 - acc: 0.7500\n",
      "Epoch 00035: val_loss improved from 0.80702 to 0.79391, saving model to /home/valborsf/Documents/UOC/PFMProject/MODELK1/BMODEL/Best_weightsModelK1_2.hdf5\n",
      "2100/2100 [==============================] - 3s 1ms/sample - loss: 0.7944 - acc: 0.7510 - val_loss: 0.7939 - val_acc: 0.7600\n",
      "Epoch 36/200\n",
      "2048/2100 [============================>.] - ETA: 0s - loss: 0.7756 - acc: 0.7544\n",
      "Epoch 00036: val_loss did not improve from 0.79391\n",
      "2100/2100 [==============================] - 2s 1ms/sample - loss: 0.7744 - acc: 0.7538 - val_loss: 0.7972 - val_acc: 0.7429\n",
      "Epoch 37/200\n",
      "2048/2100 [============================>.] - ETA: 0s - loss: 0.7786 - acc: 0.7388\n",
      "Epoch 00037: val_loss improved from 0.79391 to 0.78344, saving model to /home/valborsf/Documents/UOC/PFMProject/MODELK1/BMODEL/Best_weightsModelK1_2.hdf5\n",
      "2100/2100 [==============================] - 3s 1ms/sample - loss: 0.7801 - acc: 0.7381 - val_loss: 0.7834 - val_acc: 0.7743\n",
      "Epoch 38/200\n",
      "2048/2100 [============================>.] - ETA: 0s - loss: 0.7676 - acc: 0.7505\n",
      "Epoch 00038: val_loss improved from 0.78344 to 0.77550, saving model to /home/valborsf/Documents/UOC/PFMProject/MODELK1/BMODEL/Best_weightsModelK1_2.hdf5\n",
      "2100/2100 [==============================] - 3s 1ms/sample - loss: 0.7677 - acc: 0.7490 - val_loss: 0.7755 - val_acc: 0.7643\n",
      "Epoch 39/200\n",
      "2048/2100 [============================>.] - ETA: 0s - loss: 0.7676 - acc: 0.7500\n",
      "Epoch 00039: val_loss did not improve from 0.77550\n",
      "2100/2100 [==============================] - 2s 1ms/sample - loss: 0.7679 - acc: 0.7490 - val_loss: 0.7760 - val_acc: 0.7586\n",
      "Epoch 40/200\n",
      "2048/2100 [============================>.] - ETA: 0s - loss: 0.7550 - acc: 0.7622\n",
      "Epoch 00040: val_loss improved from 0.77550 to 0.76492, saving model to /home/valborsf/Documents/UOC/PFMProject/MODELK1/BMODEL/Best_weightsModelK1_2.hdf5\n",
      "2100/2100 [==============================] - 3s 1ms/sample - loss: 0.7531 - acc: 0.7638 - val_loss: 0.7649 - val_acc: 0.7671\n",
      "Epoch 41/200\n",
      "2048/2100 [============================>.] - ETA: 0s - loss: 0.7526 - acc: 0.7568\n",
      "Epoch 00041: val_loss did not improve from 0.76492\n",
      "2100/2100 [==============================] - 2s 1ms/sample - loss: 0.7542 - acc: 0.7562 - val_loss: 0.7674 - val_acc: 0.7443\n",
      "Epoch 42/200\n",
      "2048/2100 [============================>.] - ETA: 0s - loss: 0.7393 - acc: 0.7515\n",
      "Epoch 00042: val_loss did not improve from 0.76492\n",
      "2100/2100 [==============================] - 2s 1ms/sample - loss: 0.7381 - acc: 0.7519 - val_loss: 0.8056 - val_acc: 0.6957\n",
      "Epoch 43/200\n",
      "2048/2100 [============================>.] - ETA: 0s - loss: 0.7593 - acc: 0.7563\n",
      "Epoch 00043: val_loss did not improve from 0.76492\n",
      "2100/2100 [==============================] - 2s 1ms/sample - loss: 0.7589 - acc: 0.7567 - val_loss: 0.7817 - val_acc: 0.7214\n",
      "Epoch 44/200\n",
      "2048/2100 [============================>.] - ETA: 0s - loss: 0.7373 - acc: 0.7700\n",
      "Epoch 00044: val_loss improved from 0.76492 to 0.75558, saving model to /home/valborsf/Documents/UOC/PFMProject/MODELK1/BMODEL/Best_weightsModelK1_2.hdf5\n",
      "2100/2100 [==============================] - 3s 1ms/sample - loss: 0.7377 - acc: 0.7700 - val_loss: 0.7556 - val_acc: 0.7714\n",
      "Epoch 45/200\n",
      "2048/2100 [============================>.] - ETA: 0s - loss: 0.7269 - acc: 0.7666\n",
      "Epoch 00045: val_loss improved from 0.75558 to 0.74966, saving model to /home/valborsf/Documents/UOC/PFMProject/MODELK1/BMODEL/Best_weightsModelK1_2.hdf5\n",
      "2100/2100 [==============================] - 3s 1ms/sample - loss: 0.7281 - acc: 0.7667 - val_loss: 0.7497 - val_acc: 0.7643\n",
      "Epoch 46/200\n",
      "2048/2100 [============================>.] - ETA: 0s - loss: 0.7273 - acc: 0.7651\n",
      "Epoch 00046: val_loss improved from 0.74966 to 0.74553, saving model to /home/valborsf/Documents/UOC/PFMProject/MODELK1/BMODEL/Best_weightsModelK1_2.hdf5\n",
      "2100/2100 [==============================] - 3s 1ms/sample - loss: 0.7261 - acc: 0.7652 - val_loss: 0.7455 - val_acc: 0.7643\n",
      "Epoch 47/200\n",
      "2048/2100 [============================>.] - ETA: 0s - loss: 0.7200 - acc: 0.7739\n",
      "Epoch 00047: val_loss did not improve from 0.74553\n",
      "2100/2100 [==============================] - 2s 1ms/sample - loss: 0.7190 - acc: 0.7752 - val_loss: 0.7742 - val_acc: 0.7357\n",
      "Epoch 48/200\n",
      "2048/2100 [============================>.] - ETA: 0s - loss: 0.7225 - acc: 0.7612\n",
      "Epoch 00048: val_loss did not improve from 0.74553\n",
      "2100/2100 [==============================] - 2s 1ms/sample - loss: 0.7254 - acc: 0.7600 - val_loss: 0.7522 - val_acc: 0.7486\n",
      "Epoch 49/200\n",
      "2048/2100 [============================>.] - ETA: 0s - loss: 0.7051 - acc: 0.7783\n",
      "Epoch 00049: val_loss improved from 0.74553 to 0.73833, saving model to /home/valborsf/Documents/UOC/PFMProject/MODELK1/BMODEL/Best_weightsModelK1_2.hdf5\n",
      "2100/2100 [==============================] - 3s 1ms/sample - loss: 0.7072 - acc: 0.7771 - val_loss: 0.7383 - val_acc: 0.7657\n",
      "Epoch 50/200\n",
      "2048/2100 [============================>.] - ETA: 0s - loss: 0.7270 - acc: 0.7603\n",
      "Epoch 00050: val_loss did not improve from 0.73833\n",
      "2100/2100 [==============================] - 2s 1ms/sample - loss: 0.7271 - acc: 0.7610 - val_loss: 0.7485 - val_acc: 0.7671\n",
      "Epoch 51/200\n",
      "2048/2100 [============================>.] - ETA: 0s - loss: 0.7240 - acc: 0.7642\n",
      "Epoch 00051: val_loss improved from 0.73833 to 0.73643, saving model to /home/valborsf/Documents/UOC/PFMProject/MODELK1/BMODEL/Best_weightsModelK1_2.hdf5\n",
      "2100/2100 [==============================] - 3s 1ms/sample - loss: 0.7233 - acc: 0.7648 - val_loss: 0.7364 - val_acc: 0.7657\n",
      "Epoch 52/200\n",
      "2048/2100 [============================>.] - ETA: 0s - loss: 0.7056 - acc: 0.7729\n",
      "Epoch 00052: val_loss improved from 0.73643 to 0.73578, saving model to /home/valborsf/Documents/UOC/PFMProject/MODELK1/BMODEL/Best_weightsModelK1_2.hdf5\n",
      "2100/2100 [==============================] - 3s 1ms/sample - loss: 0.7069 - acc: 0.7714 - val_loss: 0.7358 - val_acc: 0.7643\n",
      "Epoch 53/200\n",
      "2048/2100 [============================>.] - ETA: 0s - loss: 0.6925 - acc: 0.7861\n",
      "Epoch 00053: val_loss did not improve from 0.73578\n",
      "2100/2100 [==============================] - 2s 1ms/sample - loss: 0.6947 - acc: 0.7843 - val_loss: 0.7680 - val_acc: 0.7200\n",
      "Epoch 54/200\n",
      "2048/2100 [============================>.] - ETA: 0s - loss: 0.7006 - acc: 0.7759\n",
      "Epoch 00054: val_loss did not improve from 0.73578\n",
      "2100/2100 [==============================] - 2s 1ms/sample - loss: 0.6975 - acc: 0.7771 - val_loss: 0.7530 - val_acc: 0.7400\n",
      "Epoch 55/200\n",
      "2048/2100 [============================>.] - ETA: 0s - loss: 0.6943 - acc: 0.7773\n",
      "Epoch 00055: val_loss did not improve from 0.73578\n",
      "2100/2100 [==============================] - 2s 1ms/sample - loss: 0.6922 - acc: 0.7776 - val_loss: 0.7755 - val_acc: 0.7043\n",
      "Epoch 56/200\n",
      "2048/2100 [============================>.] - ETA: 0s - loss: 0.7133 - acc: 0.7646\n",
      "Epoch 00056: val_loss improved from 0.73578 to 0.73328, saving model to /home/valborsf/Documents/UOC/PFMProject/MODELK1/BMODEL/Best_weightsModelK1_2.hdf5\n",
      "2100/2100 [==============================] - 3s 1ms/sample - loss: 0.7106 - acc: 0.7676 - val_loss: 0.7333 - val_acc: 0.7543\n",
      "Epoch 57/200\n",
      "2048/2100 [============================>.] - ETA: 0s - loss: 0.6849 - acc: 0.7744\n",
      "Epoch 00057: val_loss did not improve from 0.73328\n",
      "2100/2100 [==============================] - 2s 1ms/sample - loss: 0.6832 - acc: 0.7767 - val_loss: 0.7353 - val_acc: 0.7443\n",
      "Epoch 58/200\n",
      "2048/2100 [============================>.] - ETA: 0s - loss: 0.6855 - acc: 0.7896\n",
      "Epoch 00058: val_loss improved from 0.73328 to 0.72229, saving model to /home/valborsf/Documents/UOC/PFMProject/MODELK1/BMODEL/Best_weightsModelK1_2.hdf5\n",
      "2100/2100 [==============================] - 3s 1ms/sample - loss: 0.6859 - acc: 0.7890 - val_loss: 0.7223 - val_acc: 0.7657\n",
      "Epoch 59/200\n",
      "2048/2100 [============================>.] - ETA: 0s - loss: 0.6900 - acc: 0.7769\n",
      "Epoch 00059: val_loss did not improve from 0.72229\n",
      "2100/2100 [==============================] - 2s 1ms/sample - loss: 0.6879 - acc: 0.7790 - val_loss: 0.7477 - val_acc: 0.7671\n",
      "Epoch 60/200\n",
      "2048/2100 [============================>.] - ETA: 0s - loss: 0.6753 - acc: 0.7856\n",
      "Epoch 00060: val_loss improved from 0.72229 to 0.72072, saving model to /home/valborsf/Documents/UOC/PFMProject/MODELK1/BMODEL/Best_weightsModelK1_2.hdf5\n"
     ]
    },
    {
     "name": "stdout",
     "output_type": "stream",
     "text": [
      "2100/2100 [==============================] - 3s 1ms/sample - loss: 0.6776 - acc: 0.7852 - val_loss: 0.7207 - val_acc: 0.7586\n",
      "Epoch 61/200\n",
      "2048/2100 [============================>.] - ETA: 0s - loss: 0.6768 - acc: 0.7783\n",
      "Epoch 00061: val_loss improved from 0.72072 to 0.71864, saving model to /home/valborsf/Documents/UOC/PFMProject/MODELK1/BMODEL/Best_weightsModelK1_2.hdf5\n",
      "2100/2100 [==============================] - 3s 1ms/sample - loss: 0.6742 - acc: 0.7814 - val_loss: 0.7186 - val_acc: 0.7700\n",
      "Epoch 62/200\n",
      "2048/2100 [============================>.] - ETA: 0s - loss: 0.6645 - acc: 0.7808\n",
      "Epoch 00062: val_loss did not improve from 0.71864\n",
      "2100/2100 [==============================] - 2s 1ms/sample - loss: 0.6669 - acc: 0.7790 - val_loss: 0.7404 - val_acc: 0.7329\n",
      "Epoch 63/200\n",
      "2048/2100 [============================>.] - ETA: 0s - loss: 0.6846 - acc: 0.7778\n",
      "Epoch 00063: val_loss did not improve from 0.71864\n",
      "2100/2100 [==============================] - 2s 1ms/sample - loss: 0.6856 - acc: 0.7781 - val_loss: 0.7464 - val_acc: 0.7300\n",
      "Epoch 64/200\n",
      "2048/2100 [============================>.] - ETA: 0s - loss: 0.6876 - acc: 0.7793\n",
      "Epoch 00064: val_loss did not improve from 0.71864\n",
      "2100/2100 [==============================] - 2s 1ms/sample - loss: 0.6881 - acc: 0.7781 - val_loss: 0.7232 - val_acc: 0.7486\n",
      "Epoch 65/200\n",
      "2048/2100 [============================>.] - ETA: 0s - loss: 0.6622 - acc: 0.7935\n",
      "Epoch 00065: val_loss did not improve from 0.71864\n",
      "2100/2100 [==============================] - 2s 1ms/sample - loss: 0.6641 - acc: 0.7919 - val_loss: 0.7205 - val_acc: 0.7557\n",
      "Epoch 00065: early stopping\n",
      "Time spent in training :00:02:41\n"
     ]
    }
   ],
   "source": [
    "# Model fit\n",
    "epochs= 200\n",
    "batch_size = 128\n",
    "import time\n",
    "start_time = time.time()\n",
    "history = model.fit (train_image_tensor, \n",
    "           train_label_tensor, \n",
    "           epochs = epochs, \n",
    "           batch_size = batch_size, \n",
    "           callbacks=callbacks_list,\n",
    "           validation_data =( val_image_tensor,val_label_tensor))\n",
    "\n",
    "elapsed_time = time.time() - start_time\n",
    "\n",
    "print( time.strftime('Time spent in training :'\"%H:%M:%S\", time.gmtime(elapsed_time)))\n",
    "\n",
    "save_model(model, history, model_bin_dir, Model_name)"
   ]
  },
  {
   "cell_type": "code",
   "execution_count": 17,
   "metadata": {},
   "outputs": [],
   "source": [
    "# Import Model Test if not need to Train \n",
    "if not TRAIN :\n",
    "    model = model_load ( model_bin_dir, Model_name)"
   ]
  },
  {
   "cell_type": "code",
   "execution_count": 18,
   "metadata": {},
   "outputs": [
    {
     "data": {
      "image/png": "[encoded data removed]",
      "text/plain": [
       "<Figure size 432x288 with 1 Axes>"
      ]
     },
     "metadata": {
      "needs_background": "light"
     },
     "output_type": "display_data"
    },
    {
     "data": {
      "image/png": "[encoded data removed]",
      "text/plain": [
       "<Figure size 432x288 with 1 Axes>"
      ]
     },
     "metadata": {
      "needs_background": "light"
     },
     "output_type": "display_data"
    }
   ],
   "source": [
    "# Display curves of loss and accuracy during training and save results \n",
    "plot_save_acc_loss(results_dir, history.history, Model_name)"
   ]
  },
  {
   "cell_type": "code",
   "execution_count": 19,
   "metadata": {},
   "outputs": [
    {
     "name": "stdout",
     "output_type": "stream",
     "text": [
      "Executing op VarHandleOp in device /job:localhost/replica:0/task:0/device:GPU:0\n",
      "Executing op Fill in device /job:localhost/replica:0/task:0/device:GPU:0\n",
      "Executing op VarHandleOp in device /job:localhost/replica:0/task:0/device:GPU:0\n",
      "Executing op VarHandleOp in device /job:localhost/replica:0/task:0/device:GPU:0\n",
      "Executing op VarHandleOp in device /job:localhost/replica:0/task:0/device:GPU:0\n",
      "Executing op VarHandleOp in device /job:localhost/replica:0/task:0/device:GPU:0\n",
      "Executing op VarHandleOp in device /job:localhost/replica:0/task:0/device:GPU:0\n",
      "Executing op VarHandleOp in device /job:localhost/replica:0/task:0/device:GPU:0\n",
      "Executing op VarHandleOp in device /job:localhost/replica:0/task:0/device:GPU:0\n",
      "Executing op VarHandleOp in device /job:localhost/replica:0/task:0/device:GPU:0\n",
      "Executing op VarHandleOp in device /job:localhost/replica:0/task:0/device:GPU:0\n",
      "Executing op Reshape in device /job:localhost/replica:0/task:0/device:GPU:0\n",
      "Executing op VarHandleOp in device /job:localhost/replica:0/task:0/device:GPU:0\n"
     ]
    }
   ],
   "source": [
    "# Load Model \n",
    "# Load weights \n",
    "\n",
    "#model = build_model()\n",
    "#model.load_weights('my_weights.model')\n",
    "TRAIN = False\n",
    "if not TRAIN :\n",
    "    Model_name = \"ModelK1_2\"\n",
    "    model = model_load ( model_bin_dir, Model_name)\n",
    "    model.load_weights(model_bin_dir+\"Best_weights\"+Model_name+\".hdf5\")"
   ]
  },
  {
   "cell_type": "code",
   "execution_count": 20,
   "metadata": {},
   "outputs": [
    {
     "name": "stdout",
     "output_type": "stream",
     "text": [
      "(700, 150, 150, 3)\n"
     ]
    }
   ],
   "source": [
    "# Create tensors from images\n",
    "# Load Images \n",
    "\n",
    "# This step is very time consuming !!!!!!!\n",
    "test_image_tensor  = load_images_tf(dftest,height_imag,width_imag)"
   ]
  },
  {
   "cell_type": "code",
   "execution_count": 21,
   "metadata": {},
   "outputs": [],
   "source": [
    "# Define the label tensor\n",
    "test_label_tensor = create_label_tensor(dftest)"
   ]
  },
  {
   "cell_type": "code",
   "execution_count": 22,
   "metadata": {},
   "outputs": [
    {
     "name": "stdout",
     "output_type": "stream",
     "text": [
      "Executing op MapDataset in device /job:localhost/replica:0/task:0/device:CPU:0\n",
      "Executing op FlatMapDataset in device /job:localhost/replica:0/task:0/device:CPU:0\n",
      "Executing op ParallelMapDataset in device /job:localhost/replica:0/task:0/device:CPU:0\n",
      "Executing op __inference_distributed_function_49379 in device /job:localhost/replica:0/task:0/device:GPU:0\n",
      "700/1 - 1s - loss: 0.7186 - acc: 0.7514\n"
     ]
    }
   ],
   "source": [
    "#  ROC /AUC\n",
    "scores = model.evaluate(test_image_tensor, test_label_tensor, verbose=2)"
   ]
  },
  {
   "cell_type": "code",
   "execution_count": 23,
   "metadata": {},
   "outputs": [
    {
     "data": {
      "text/plain": [
       "[0.7205190447398594, 0.75142854]"
      ]
     },
     "execution_count": 23,
     "metadata": {},
     "output_type": "execute_result"
    }
   ],
   "source": [
    "model.metrics_names\n",
    "scores"
   ]
  },
  {
   "cell_type": "code",
   "execution_count": null,
   "metadata": {},
   "outputs": [],
   "source": [
    "# Loss 0.72  Acc=0.75"
   ]
  },
  {
   "cell_type": "code",
   "execution_count": 24,
   "metadata": {},
   "outputs": [
    {
     "name": "stdout",
     "output_type": "stream",
     "text": [
      "Executing op MapDataset in device /job:localhost/replica:0/task:0/device:CPU:0\n",
      "Executing op FlatMapDataset in device /job:localhost/replica:0/task:0/device:CPU:0\n",
      "Executing op TensorDataset in device /job:localhost/replica:0/task:0/device:CPU:0\n",
      "Executing op RepeatDataset in device /job:localhost/replica:0/task:0/device:CPU:0\n",
      "Executing op ZipDataset in device /job:localhost/replica:0/task:0/device:CPU:0\n",
      "Executing op ParallelMapDataset in device /job:localhost/replica:0/task:0/device:CPU:0\n",
      "Executing op ModelDataset in device /job:localhost/replica:0/task:0/device:CPU:0\n",
      "Executing op AnonymousIteratorV2 in device /job:localhost/replica:0/task:0/device:CPU:0\n",
      "Executing op __inference_distributed_function_49549 in device /job:localhost/replica:0/task:0/device:GPU:0\n"
     ]
    }
   ],
   "source": [
    "# Compute predictions\n",
    "# This takes time !!!!!!!!!!!!!!!!!!!!!!!!!!!!!!!!!\n",
    "y_pred_keras = model.predict(test_image_tensor).ravel()   # y_pred_probabilities\n",
    "y_pred = y_pred_keras > 0.5                                # y_pred_class : if >0.5  = True => Malignant\n",
    "y_test = dftest.bm.astype('category').cat.codes            # Ground truth \n",
    "class_labels= dftest.bm.unique()                           # Labels of ground truth \n"
   ]
  },
  {
   "cell_type": "code",
   "execution_count": 25,
   "metadata": {},
   "outputs": [
    {
     "name": "stdout",
     "output_type": "stream",
     "text": [
      "Metrics ModelK1_2\n",
      "===========================================\n",
      "Confusion Matrix:\n",
      "[[230 110]\n",
      " [ 64 296]]\n",
      "+----------------------------+-------------+\n",
      "|            Type            |  # samples  |\n",
      "+============================+=============+\n",
      "| True Positives- Malignants | 296         |\n",
      "+----------------------------+-------------+\n",
      "| True Negatives- Benign     | 230         |\n",
      "+----------------------------+-------------+\n",
      "| False Positive             | 110         |\n",
      "+----------------------------+-------------+\n",
      "| False Negative             | 64          |\n",
      "+----------------------------+-------------+\n",
      "Summary classification Report: \n",
      "              precision    recall  f1-score   support\n",
      "\n",
      "   malignant       0.78      0.68      0.73       340\n",
      "      benign       0.73      0.82      0.77       360\n",
      "\n",
      "    accuracy                           0.75       700\n",
      "   macro avg       0.76      0.75      0.75       700\n",
      "weighted avg       0.75      0.75      0.75       700\n",
      "\n",
      "+-------------+---------+\n",
      "|   Metrics   |         |\n",
      "+=============+=========+\n",
      "| Accuracy    | 0.750   |\n",
      "+-------------+---------+\n",
      "| Sensitivity | 0.820   |\n",
      "+-------------+---------+\n",
      "| Specificity | 0.680   |\n",
      "+-------------+---------+\n",
      "| AUC         | 0.840   |\n",
      "+-------------+---------+\n"
     ]
    },
    {
     "data": {
      "image/png": "[encoded data removed]",
      "text/plain": [
       "<Figure size 432x288 with 1 Axes>"
      ]
     },
     "metadata": {
      "needs_background": "light"
     },
     "output_type": "display_data"
    },
    {
     "data": {
      "image/png": "[encoded data removed]",
      "text/plain": [
       "<Figure size 432x288 with 1 Axes>"
      ]
     },
     "metadata": {
      "needs_background": "light"
     },
     "output_type": "display_data"
    }
   ],
   "source": [
    "#Print Metrics + Confusion ROC AUC\n",
    "confusion_ROC_AUC ( y_test, y_pred, y_pred_keras, class_labels, results_dir, Model_name )"
   ]
  },
  {
   "cell_type": "code",
   "execution_count": null,
   "metadata": {},
   "outputs": [],
   "source": [
    "tf.keras.backend.clear_session()  # Reset"
   ]
  }
 ],
 "metadata": {
  "accelerator": "GPU",
  "colab": {
   "collapsed_sections": [],
   "name": "Preprocess_Fit4.ipynb",
   "provenance": []
  },
  "kernelspec": {
   "display_name": "“gpu2”",
   "language": "python",
   "name": "gpu2"
  },
  "language_info": {
   "codemirror_mode": {
    "name": "ipython",
    "version": 3
   },
   "file_extension": ".py",
   "mimetype": "text/x-python",
   "name": "python",
   "nbconvert_exporter": "python",
   "pygments_lexer": "ipython3",
   "version": "3.7.6"
  }
 },
 "nbformat": 4,
 "nbformat_minor": 1
}

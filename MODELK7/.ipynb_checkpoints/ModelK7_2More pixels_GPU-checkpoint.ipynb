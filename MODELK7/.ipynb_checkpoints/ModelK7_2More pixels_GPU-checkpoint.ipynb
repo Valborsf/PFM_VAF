{
 "cells": [
  {
   "cell_type": "markdown",
   "metadata": {
    "colab_type": "text",
    "id": "Ur34g7Fbi5lr"
   },
   "source": [
    "# Notebook- Model K7_2 - More pixels \n",
    "# Author : V.Albors   Date : 07.02.2020\n",
    "# Purpose : Train with tensors and regularization & Batch size 128\n",
    "#                   ( more params)Use new architecture inspired in  N1-Tensor2\n",
    "\n",
    "\n",
    "\n",
    "**Input** :  \n",
    "  * CSV files that identify the images to use as train and validation. CSV files are in directory csv_dir   \n",
    "  * Images from train and validation. Images are in directory : imag_dir  \n",
    "  * Saved model. Model is in directory : model_bin_dir  \n",
    "  \n",
    "**Output**:  \n",
    "  * Download of the model trained with train dataset - \n",
    "  * Download the history of the model in order to be evaluated \n",
    "\n",
    "**Process**:  \n",
    " * Read Train and Validation images ( identified in the .csv files ) from the imag_dir directory   \n",
    " * Create a train and validation input & label tensors (no augmentation)\n",
    " * Define the architecture of model : \n",
    "                        \n",
    " * Train the model with the train dataset with callbacks (  ModuleCheckPoint , Early Stopping)\n",
    " * Save the trained model and history of the model in directory model_bin_dir \n",
    " * Paint the Accuracy and Loss curves\n",
    " * Create results : Metrics \n",
    " "
   ]
  },
  {
   "cell_type": "code",
   "execution_count": 1,
   "metadata": {},
   "outputs": [],
   "source": [
    "from __future__ import absolute_import, division, print_function, unicode_literals\n",
    "import tensorflow as tf\n",
    "\n",
    "tf.keras.backend.clear_session()  # Reset"
   ]
  },
  {
   "cell_type": "code",
   "execution_count": 2,
   "metadata": {},
   "outputs": [],
   "source": [
    "import tensorflow as tf\n",
    "from tensorflow.compat.v1 import ConfigProto\n",
    "from tensorflow.compat.v1 import InteractiveSession\n",
    "\n",
    "config = ConfigProto()\n",
    "config.gpu_options.per_process_gpu_memory_fraction = 0.2\n",
    "config.gpu_options.allow_growth = True\n"
   ]
  },
  {
   "cell_type": "code",
   "execution_count": 3,
   "metadata": {},
   "outputs": [
    {
     "name": "stdout",
     "output_type": "stream",
     "text": [
      "Num GPUs Available:  1\n"
     ]
    }
   ],
   "source": [
    "import tensorflow as tf\n",
    "#gpus = tf.config.experimental.list_physical_devices('GPU')\n",
    "print(\"Num GPUs Available: \", len(tf.config.experimental.list_physical_devices('GPU')))\n",
    "tf.config.experimental.list_physical_devices('GPU') \n",
    "physical_devices = tf.config.experimental.list_physical_devices('GPU')\n",
    "assert len(physical_devices) > 0, \"Not enough GPU hardware devices available\"\n",
    "tf.config.experimental.set_memory_growth(physical_devices[0], True)\n",
    "tf.debugging.set_log_device_placement(True)"
   ]
  },
  {
   "cell_type": "code",
   "execution_count": 4,
   "metadata": {},
   "outputs": [
    {
     "name": "stdout",
     "output_type": "stream",
     "text": [
      "2.0.0\n",
      "10.0\n",
      "7.6\n"
     ]
    }
   ],
   "source": [
    "#Tensorflow version \n",
    "print(tf.__version__)\n",
    "from tensorflow.python.platform import build_info as tf_build_info\n",
    "print(tf_build_info.cuda_version_number)\n",
    "# Cuda Version 9.0 in v1.10.0\n",
    "print(tf_build_info.cudnn_version_number)\n",
    "# CudNN 7 in v1.10.0"
   ]
  },
  {
   "cell_type": "code",
   "execution_count": 5,
   "metadata": {},
   "outputs": [],
   "source": [
    "# Define the name of the model \n",
    "Model_directory = \"MODELK7\"\n",
    "Model_name = \"ModelK7_2\"\n",
    "TRAIN = True"
   ]
  },
  {
   "cell_type": "code",
   "execution_count": 6,
   "metadata": {},
   "outputs": [
    {
     "name": "stdout",
     "output_type": "stream",
     "text": [
      "['confusion_ROC_AUC', 'create_column_tensor', 'create_label_tensor', 'create_val_test', 'define_dirs', 'extract_images_bm', 'extract_images_train', 'load_hist_model', 'load_images', 'load_images_tf', 'model_load', 'plot_save_acc_loss', 'print_network', 'process_clinical_info', 'read_dataframes', 'read_dataframes_tables', 'reproducible_results', 'save_model', 'save_network_json', 'start', 'stop', 'to_one_hot', 'to_one_hot_words', 'xi_squared']\n"
     ]
    }
   ],
   "source": [
    "# Import routines\n",
    "import sys  \n",
    "subrc_dir = \"/home/valborsf/Documents/UOC/PFMProject/\"\n",
    "\n",
    "sys.path.append(subrc_dir)  \n",
    "from  Models_routines import *\n",
    "import inspect\n",
    "\n",
    "# List functions inside the module\n",
    "import Models_routines as module\n",
    "functions = inspect.getmembers(module, inspect.isfunction)\n",
    "lsfunctions = [item[0] for item in functions]\n",
    "print ( lsfunctions )"
   ]
  },
  {
   "cell_type": "code",
   "execution_count": 7,
   "metadata": {},
   "outputs": [],
   "source": [
    "# Reproducible results \n",
    "reproducible_results ()"
   ]
  },
  {
   "cell_type": "code",
   "execution_count": 8,
   "metadata": {},
   "outputs": [],
   "source": [
    "# Define directories\n",
    "(root_dir,json_dir,imag_dir,csv_dir,model_json_dir,model_bin_dir,results_dir,Tensor_dir) = define_dirs(Model_directory)"
   ]
  },
  {
   "cell_type": "code",
   "execution_count": 9,
   "metadata": {},
   "outputs": [],
   "source": [
    "# New dataset without SONIC disturbing images\n",
    "json_dir =  root_dir +\"/DataNew/ALL_JSON/\"                # .json dir images\n",
    "imag_dir =  root_dir +\"/DataNew/ALL_IMAGES/\"              # .png dir - images\n",
    "\n",
    "# directories for  CSV's\n",
    "csv_dir =  root_dir +\"/DataNew4/CSV/\"                      # .csv dir - dftrain, dfval, dftest"
   ]
  },
  {
   "cell_type": "code",
   "execution_count": 10,
   "metadata": {},
   "outputs": [
    {
     "name": "stdout",
     "output_type": "stream",
     "text": [
      "/home/valborsf/Documents/UOC/PFMProject/DataNew4/CSV/\n"
     ]
    }
   ],
   "source": [
    "# Load train,validation & Test \n",
    "(dftrain, dfval, dftest) = read_dataframes(csv_dir)"
   ]
  },
  {
   "cell_type": "code",
   "execution_count": 11,
   "metadata": {},
   "outputs": [],
   "source": [
    "# Define the label tensor\n",
    "train_label_tensor = create_label_tensor(dftrain)\n",
    "val_label_tensor = create_label_tensor(dfval)\n",
    "#test_label_tensor = create_label_tensor(dftest)"
   ]
  },
  {
   "cell_type": "code",
   "execution_count": null,
   "metadata": {},
   "outputs": [
    {
     "name": "stdout",
     "output_type": "stream",
     "text": [
      "Executing op ReadFile in device /job:localhost/replica:0/task:0/device:CPU:0\n",
      "Executing op DecodeJpeg in device /job:localhost/replica:0/task:0/device:CPU:0\n",
      "Executing op Cast in device /job:localhost/replica:0/task:0/device:CPU:0\n",
      "Executing op Mul in device /job:localhost/replica:0/task:0/device:CPU:0\n",
      "Executing op ExpandDims in device /job:localhost/replica:0/task:0/device:CPU:0\n",
      "Executing op ResizeBilinear in device /job:localhost/replica:0/task:0/device:CPU:0\n",
      "Executing op Squeeze in device /job:localhost/replica:0/task:0/device:CPU:0\n"
     ]
    }
   ],
   "source": [
    "# Create tensors from images\n",
    "# Load Images \n",
    "height_imag = 300 \n",
    "width_imag = 300\n",
    "# This step is very time consuming !!!!!!!\n",
    "train_image_tensor  = load_images_tf(dftrain,height_imag,width_imag)\n",
    "val_image_tensor  = load_images_tf(dfval,height_imag,width_imag)\n",
    "#test_image_tensor  = load_images(dftest,height_imag,width_imag)"
   ]
  },
  {
   "cell_type": "code",
   "execution_count": 12,
   "metadata": {},
   "outputs": [
    {
     "name": "stdout",
     "output_type": "stream",
     "text": [
      "Executing op RandomUniform in device /job:localhost/replica:0/task:0/device:GPU:0\n",
      "Executing op Sub in device /job:localhost/replica:0/task:0/device:GPU:0\n",
      "Executing op Mul in device /job:localhost/replica:0/task:0/device:GPU:0\n",
      "Executing op Add in device /job:localhost/replica:0/task:0/device:GPU:0\n",
      "Executing op VarHandleOp in device /job:localhost/replica:0/task:0/device:GPU:0\n",
      "Executing op VarIsInitializedOp in device /job:localhost/replica:0/task:0/device:GPU:0\n",
      "Executing op LogicalNot in device /job:localhost/replica:0/task:0/device:GPU:0\n",
      "Executing op Assert in device /job:localhost/replica:0/task:0/device:GPU:0\n",
      "Executing op AssignVariableOp in device /job:localhost/replica:0/task:0/device:GPU:0\n",
      "Executing op Fill in device /job:localhost/replica:0/task:0/device:GPU:0\n",
      "Executing op VarHandleOp in device /job:localhost/replica:0/task:0/device:GPU:0\n",
      "Executing op VarHandleOp in device /job:localhost/replica:0/task:0/device:GPU:0\n",
      "Executing op VarHandleOp in device /job:localhost/replica:0/task:0/device:GPU:0\n",
      "Executing op VarHandleOp in device /job:localhost/replica:0/task:0/device:GPU:0\n",
      "Executing op VarHandleOp in device /job:localhost/replica:0/task:0/device:GPU:0\n",
      "Executing op VarHandleOp in device /job:localhost/replica:0/task:0/device:GPU:0\n",
      "Executing op VarHandleOp in device /job:localhost/replica:0/task:0/device:GPU:0\n",
      "Executing op VarHandleOp in device /job:localhost/replica:0/task:0/device:GPU:0\n",
      "Executing op VarHandleOp in device /job:localhost/replica:0/task:0/device:GPU:0\n",
      "Executing op Reshape in device /job:localhost/replica:0/task:0/device:GPU:0\n",
      "Executing op VarHandleOp in device /job:localhost/replica:0/task:0/device:GPU:0\n"
     ]
    }
   ],
   "source": [
    "#import keras\n",
    "from tensorflow.keras.models import Model\n",
    "from tensorflow.keras import layers\n",
    "from tensorflow.keras import Input\n",
    "from tensorflow.keras import regularizers\n",
    "from tensorflow.keras.callbacks import ModelCheckpoint\n",
    "\n",
    "\n",
    "# Model 1 : Image to Predict Melanoma\n",
    "\n",
    "image_inputs = Input(shape=(height_imag,width_imag,3))\n",
    "m2 = layers.Conv2D(64, (3,3), kernel_regularizer=regularizers.l2(0.01), activation='relu')(image_inputs)\n",
    "#m2 = layers.BatchNormalization()(m2)\n",
    "m2 = layers.MaxPooling2D((2,2))(m2)\n",
    "m2 = layers.Conv2D(32, (3,3), kernel_regularizer=regularizers.l2(0.01), activation='relu')(m2)\n",
    "#m2 = layers.BatchNormalization()(m2)\n",
    "m2 = layers.MaxPooling2D((2,2))(m2)\n",
    "m2 = layers.Conv2D(128, (3,3),kernel_regularizer=regularizers.l2(0.01), activation='relu')(m2)\n",
    "#m2 = layers.BatchNormalization()(m2)\n",
    "m2 = layers.MaxPooling2D((4,4))(m2)\n",
    "m2 = layers.Flatten()(m2)\n",
    "m2 = layers.Dense (512, activation='relu')(m2)\n",
    "m2 = layers.Dropout(0.23)(m2)\n",
    "m2 = layers.Dense (128, activation='relu')(m2)\n",
    "\n",
    "benign_malign = layers.Dense (1, activation='sigmoid')(m2)\n",
    "\n",
    "\n",
    "# Model instantiation\n",
    "model = Model(image_inputs, benign_malign)\n",
    "\n"
   ]
  },
  {
   "cell_type": "code",
   "execution_count": 13,
   "metadata": {},
   "outputs": [
    {
     "name": "stdout",
     "output_type": "stream",
     "text": [
      "Model: \"model\"\n",
      "_________________________________________________________________\n",
      "Layer (type)                 Output Shape              Param #   \n",
      "=================================================================\n",
      "input_1 (InputLayer)         [(None, 300, 300, 3)]     0         \n",
      "_________________________________________________________________\n",
      "conv2d (Conv2D)              (None, 298, 298, 64)      1792      \n",
      "_________________________________________________________________\n",
      "max_pooling2d (MaxPooling2D) (None, 149, 149, 64)      0         \n",
      "_________________________________________________________________\n",
      "conv2d_1 (Conv2D)            (None, 147, 147, 32)      18464     \n",
      "_________________________________________________________________\n",
      "max_pooling2d_1 (MaxPooling2 (None, 73, 73, 32)        0         \n",
      "_________________________________________________________________\n",
      "conv2d_2 (Conv2D)            (None, 71, 71, 128)       36992     \n",
      "_________________________________________________________________\n",
      "max_pooling2d_2 (MaxPooling2 (None, 17, 17, 128)       0         \n",
      "_________________________________________________________________\n",
      "flatten (Flatten)            (None, 36992)             0         \n",
      "_________________________________________________________________\n",
      "dense (Dense)                (None, 512)               18940416  \n",
      "_________________________________________________________________\n",
      "dropout (Dropout)            (None, 512)               0         \n",
      "_________________________________________________________________\n",
      "dense_1 (Dense)              (None, 128)               65664     \n",
      "_________________________________________________________________\n",
      "dense_2 (Dense)              (None, 1)                 129       \n",
      "=================================================================\n",
      "Total params: 19,063,457\n",
      "Trainable params: 19,063,457\n",
      "Non-trainable params: 0\n",
      "_________________________________________________________________\n"
     ]
    }
   ],
   "source": [
    "model.summary()"
   ]
  },
  {
   "cell_type": "code",
   "execution_count": 14,
   "metadata": {},
   "outputs": [],
   "source": [
    "#Print Network \n",
    "print_network (results_dir, model, Model_name)\n",
    "#Save Network \n",
    "save_network_json (model_json_dir, model, Model_name)"
   ]
  },
  {
   "cell_type": "code",
   "execution_count": 15,
   "metadata": {},
   "outputs": [
    {
     "name": "stdout",
     "output_type": "stream",
     "text": [
      "Executing op VarHandleOp in device /job:localhost/replica:0/task:0/device:GPU:0\n"
     ]
    }
   ],
   "source": [
    "# Model Compile\n",
    "from tensorflow.keras import optimizers\n",
    "#from keras import optimizers\n",
    "model.compile ( loss='binary_crossentropy',\n",
    "#               optimizer = optimizers.RMSprop(lr=1e-4),\n",
    "               optimizer = optimizers.Adam(lr=1e-4),\n",
    "               metrics= ['acc'])"
   ]
  },
  {
   "cell_type": "code",
   "execution_count": 16,
   "metadata": {},
   "outputs": [],
   "source": [
    "# Callbacks\n",
    "callbacks_list = [\n",
    "# EarlyStopping when the model does not improve in loss\n",
    "\n",
    "         tf.keras.callbacks.EarlyStopping (\n",
    "             monitor = 'val_loss',             # Monitors the accuracy\n",
    "             verbose=1,                        # log when finishes\n",
    "             patience = 4,),                   # Interrupt if acc no improve in 4 epochs\n",
    "\n",
    "#  ModelCheckpoint to store the weights of the best performing epoch. \n",
    "    \n",
    "         tf.keras.callbacks.ModelCheckpoint(filepath=model_bin_dir+\"Best_weights\"+Model_name+\".hdf5\", \n",
    "             monitor = 'val_loss', # Won't overwritte the model file unless val_loss has\n",
    "             verbose=1,            # improve \n",
    "             save_best_only=True),\n",
    "         \n",
    "#         keras.callbacks.TensorBoard(\n",
    "#             log_dir =  Tensor_dir, \n",
    "#            histogram_freq = 1,\n",
    "#            )\n",
    "                ]"
   ]
  },
  {
   "cell_type": "code",
   "execution_count": 18,
   "metadata": {},
   "outputs": [
    {
     "name": "stdout",
     "output_type": "stream",
     "text": [
      "Executing op RangeDataset in device /job:localhost/replica:0/task:0/device:CPU:0\n",
      "Executing op RepeatDataset in device /job:localhost/replica:0/task:0/device:CPU:0\n",
      "Executing op MapDataset in device /job:localhost/replica:0/task:0/device:CPU:0\n",
      "Executing op PrefetchDataset in device /job:localhost/replica:0/task:0/device:CPU:0\n",
      "Executing op FlatMapDataset in device /job:localhost/replica:0/task:0/device:CPU:0\n",
      "Executing op TensorDataset in device /job:localhost/replica:0/task:0/device:CPU:0\n",
      "Executing op RepeatDataset in device /job:localhost/replica:0/task:0/device:CPU:0\n",
      "Executing op ZipDataset in device /job:localhost/replica:0/task:0/device:CPU:0\n",
      "Executing op ParallelMapDataset in device /job:localhost/replica:0/task:0/device:CPU:0\n",
      "Executing op MapDataset in device /job:localhost/replica:0/task:0/device:CPU:0\n",
      "Executing op PrefetchDataset in device /job:localhost/replica:0/task:0/device:CPU:0\n",
      "Executing op FlatMapDataset in device /job:localhost/replica:0/task:0/device:CPU:0\n",
      "Executing op TensorDataset in device /job:localhost/replica:0/task:0/device:CPU:0\n",
      "Executing op RepeatDataset in device /job:localhost/replica:0/task:0/device:CPU:0\n",
      "Executing op ZipDataset in device /job:localhost/replica:0/task:0/device:CPU:0\n",
      "Executing op ParallelMapDataset in device /job:localhost/replica:0/task:0/device:CPU:0\n",
      "Executing op DatasetCardinality in device /job:localhost/replica:0/task:0/device:CPU:0\n",
      "Train on 2100 samples, validate on 700 samples\n",
      "Epoch 1/200\n",
      "Executing op __inference_distributed_function_32318 in device /job:localhost/replica:0/task:0/device:CPU:0\n",
      "2048/2100 [============================>.] - ETA: 2s - loss: 1.6569 - acc: 0.5195Executing op __inference_distributed_function_32633 in device /job:localhost/replica:0/task:0/device:CPU:0\n",
      "\n",
      "Epoch 00001: val_loss improved from inf to 1.61077, saving model to /home/valborsf/Documents/UOC/PFMProject/MODELK7/BMODEL/Best_weightsModelK7_2.hdf5\n",
      "Executing op ReadVariableOp in device /job:localhost/replica:0/task:0/device:GPU:0\n",
      "Executing op ReadVariableOp in device /job:localhost/replica:0/task:0/device:GPU:0\n",
      "2100/2100 [==============================] - 114s 54ms/sample - loss: 1.6558 - acc: 0.5224 - val_loss: 1.6108 - val_acc: 0.6429\n",
      "Epoch 2/200\n",
      "2048/2100 [============================>.] - ETA: 2s - loss: 1.5813 - acc: 0.5962Executing op DeleteIterator in device /job:localhost/replica:0/task:0/device:CPU:0\n",
      "\n",
      "Epoch 00002: val_loss improved from 1.61077 to 1.52962, saving model to /home/valborsf/Documents/UOC/PFMProject/MODELK7/BMODEL/Best_weightsModelK7_2.hdf5\n",
      "2100/2100 [==============================] - 115s 55ms/sample - loss: 1.5804 - acc: 0.5986 - val_loss: 1.5296 - val_acc: 0.6343\n",
      "Epoch 3/200\n",
      "2048/2100 [============================>.] - ETA: 2s - loss: 1.5107 - acc: 0.6123\n",
      "Epoch 00003: val_loss improved from 1.52962 to 1.46688, saving model to /home/valborsf/Documents/UOC/PFMProject/MODELK7/BMODEL/Best_weightsModelK7_2.hdf5\n",
      "2100/2100 [==============================] - 116s 55ms/sample - loss: 1.5100 - acc: 0.6110 - val_loss: 1.4669 - val_acc: 0.5371\n",
      "Epoch 4/200\n",
      "2048/2100 [============================>.] - ETA: 2s - loss: 1.4500 - acc: 0.6299\n",
      "Epoch 00004: val_loss improved from 1.46688 to 1.38986, saving model to /home/valborsf/Documents/UOC/PFMProject/MODELK7/BMODEL/Best_weightsModelK7_2.hdf5\n",
      "2100/2100 [==============================] - 116s 55ms/sample - loss: 1.4485 - acc: 0.6300 - val_loss: 1.3899 - val_acc: 0.6586\n",
      "Epoch 5/200\n",
      "2048/2100 [============================>.] - ETA: 2s - loss: 1.3773 - acc: 0.6538\n",
      "Epoch 00005: val_loss improved from 1.38986 to 1.32183, saving model to /home/valborsf/Documents/UOC/PFMProject/MODELK7/BMODEL/Best_weightsModelK7_2.hdf5\n",
      "2100/2100 [==============================] - 117s 56ms/sample - loss: 1.3760 - acc: 0.6552 - val_loss: 1.3218 - val_acc: 0.6657\n",
      "Epoch 6/200\n",
      "2048/2100 [============================>.] - ETA: 2s - loss: 1.3243 - acc: 0.6533\n",
      "Epoch 00006: val_loss improved from 1.32183 to 1.26862, saving model to /home/valborsf/Documents/UOC/PFMProject/MODELK7/BMODEL/Best_weightsModelK7_2.hdf5\n",
      "2100/2100 [==============================] - 117s 56ms/sample - loss: 1.3241 - acc: 0.6529 - val_loss: 1.2686 - val_acc: 0.7000\n",
      "Epoch 7/200\n",
      "2048/2100 [============================>.] - ETA: 2s - loss: 1.2758 - acc: 0.6787\n",
      "Epoch 00007: val_loss improved from 1.26862 to 1.23431, saving model to /home/valborsf/Documents/UOC/PFMProject/MODELK7/BMODEL/Best_weightsModelK7_2.hdf5\n",
      "2100/2100 [==============================] - 117s 56ms/sample - loss: 1.2751 - acc: 0.6814 - val_loss: 1.2343 - val_acc: 0.7429\n",
      "Epoch 8/200\n",
      "2048/2100 [============================>.] - ETA: 2s - loss: 1.2350 - acc: 0.7002\n",
      "Epoch 00008: val_loss improved from 1.23431 to 1.18624, saving model to /home/valborsf/Documents/UOC/PFMProject/MODELK7/BMODEL/Best_weightsModelK7_2.hdf5\n",
      "2100/2100 [==============================] - 116s 55ms/sample - loss: 1.2339 - acc: 0.7000 - val_loss: 1.1862 - val_acc: 0.7443\n",
      "Epoch 9/200\n",
      "2048/2100 [============================>.] - ETA: 2s - loss: 1.2056 - acc: 0.6860\n",
      "Epoch 00009: val_loss did not improve from 1.18624\n",
      "2100/2100 [==============================] - 116s 55ms/sample - loss: 1.2068 - acc: 0.6867 - val_loss: 1.1897 - val_acc: 0.6729\n",
      "Epoch 10/200\n",
      "2048/2100 [============================>.] - ETA: 2s - loss: 1.1892 - acc: 0.6792\n",
      "Epoch 00010: val_loss improved from 1.18624 to 1.14031, saving model to /home/valborsf/Documents/UOC/PFMProject/MODELK7/BMODEL/Best_weightsModelK7_2.hdf5\n",
      "2100/2100 [==============================] - 116s 55ms/sample - loss: 1.1891 - acc: 0.6786 - val_loss: 1.1403 - val_acc: 0.7186\n",
      "Epoch 11/200\n",
      "2048/2100 [============================>.] - ETA: 2s - loss: 1.1548 - acc: 0.7095\n",
      "Epoch 00011: val_loss improved from 1.14031 to 1.11201, saving model to /home/valborsf/Documents/UOC/PFMProject/MODELK7/BMODEL/Best_weightsModelK7_2.hdf5\n",
      "2100/2100 [==============================] - 118s 56ms/sample - loss: 1.1528 - acc: 0.7114 - val_loss: 1.1120 - val_acc: 0.7200\n",
      "Epoch 12/200\n",
      "2048/2100 [============================>.] - ETA: 2s - loss: 1.1168 - acc: 0.7148\n",
      "Epoch 00012: val_loss improved from 1.11201 to 1.10746, saving model to /home/valborsf/Documents/UOC/PFMProject/MODELK7/BMODEL/Best_weightsModelK7_2.hdf5\n",
      "2100/2100 [==============================] - 117s 56ms/sample - loss: 1.1161 - acc: 0.7148 - val_loss: 1.1075 - val_acc: 0.7186\n",
      "Epoch 13/200\n",
      "2048/2100 [============================>.] - ETA: 2s - loss: 1.0991 - acc: 0.7104\n",
      "Epoch 00013: val_loss improved from 1.10746 to 1.06739, saving model to /home/valborsf/Documents/UOC/PFMProject/MODELK7/BMODEL/Best_weightsModelK7_2.hdf5\n",
      "2100/2100 [==============================] - 114s 54ms/sample - loss: 1.1028 - acc: 0.7067 - val_loss: 1.0674 - val_acc: 0.7257\n",
      "Epoch 14/200\n",
      "2048/2100 [============================>.] - ETA: 2s - loss: 1.0721 - acc: 0.7173\n",
      "Epoch 00014: val_loss improved from 1.06739 to 1.04307, saving model to /home/valborsf/Documents/UOC/PFMProject/MODELK7/BMODEL/Best_weightsModelK7_2.hdf5\n",
      "2100/2100 [==============================] - 117s 56ms/sample - loss: 1.0747 - acc: 0.7152 - val_loss: 1.0431 - val_acc: 0.7429\n",
      "Epoch 15/200\n",
      "2048/2100 [============================>.] - ETA: 2s - loss: 1.0419 - acc: 0.7295\n",
      "Epoch 00015: val_loss improved from 1.04307 to 1.02495, saving model to /home/valborsf/Documents/UOC/PFMProject/MODELK7/BMODEL/Best_weightsModelK7_2.hdf5\n",
      "2100/2100 [==============================] - 117s 56ms/sample - loss: 1.0445 - acc: 0.7248 - val_loss: 1.0249 - val_acc: 0.7243\n",
      "Epoch 16/200\n",
      "2048/2100 [============================>.] - ETA: 2s - loss: 1.0379 - acc: 0.7129\n",
      "Epoch 00016: val_loss improved from 1.02495 to 1.01427, saving model to /home/valborsf/Documents/UOC/PFMProject/MODELK7/BMODEL/Best_weightsModelK7_2.hdf5\n",
      "2100/2100 [==============================] - 117s 56ms/sample - loss: 1.0386 - acc: 0.7110 - val_loss: 1.0143 - val_acc: 0.7143\n",
      "Epoch 17/200\n",
      "2048/2100 [============================>.] - ETA: 2s - loss: 1.0145 - acc: 0.7046\n",
      "Epoch 00017: val_loss improved from 1.01427 to 0.99157, saving model to /home/valborsf/Documents/UOC/PFMProject/MODELK7/BMODEL/Best_weightsModelK7_2.hdf5\n",
      "2100/2100 [==============================] - 116s 55ms/sample - loss: 1.0151 - acc: 0.7057 - val_loss: 0.9916 - val_acc: 0.7271\n"
     ]
    },
    {
     "name": "stdout",
     "output_type": "stream",
     "text": [
      "Epoch 18/200\n",
      "2048/2100 [============================>.] - ETA: 2s - loss: 0.9946 - acc: 0.7271\n",
      "Epoch 00018: val_loss improved from 0.99157 to 0.98961, saving model to /home/valborsf/Documents/UOC/PFMProject/MODELK7/BMODEL/Best_weightsModelK7_2.hdf5\n",
      "2100/2100 [==============================] - 116s 55ms/sample - loss: 0.9937 - acc: 0.7267 - val_loss: 0.9896 - val_acc: 0.7329\n",
      "Epoch 19/200\n",
      "2048/2100 [============================>.] - ETA: 2s - loss: 0.9768 - acc: 0.7329\n",
      "Epoch 00019: val_loss improved from 0.98961 to 0.95806, saving model to /home/valborsf/Documents/UOC/PFMProject/MODELK7/BMODEL/Best_weightsModelK7_2.hdf5\n",
      "2100/2100 [==============================] - 115s 55ms/sample - loss: 0.9754 - acc: 0.7343 - val_loss: 0.9581 - val_acc: 0.7314\n",
      "Epoch 20/200\n",
      "2048/2100 [============================>.] - ETA: 2s - loss: 0.9560 - acc: 0.7314\n",
      "Epoch 00020: val_loss improved from 0.95806 to 0.95164, saving model to /home/valborsf/Documents/UOC/PFMProject/MODELK7/BMODEL/Best_weightsModelK7_2.hdf5\n",
      "2100/2100 [==============================] - 116s 55ms/sample - loss: 0.9560 - acc: 0.7314 - val_loss: 0.9516 - val_acc: 0.7514\n",
      "Epoch 21/200\n",
      "2048/2100 [============================>.] - ETA: 2s - loss: 0.9410 - acc: 0.7314\n",
      "Epoch 00021: val_loss improved from 0.95164 to 0.95087, saving model to /home/valborsf/Documents/UOC/PFMProject/MODELK7/BMODEL/Best_weightsModelK7_2.hdf5\n",
      "2100/2100 [==============================] - 116s 55ms/sample - loss: 0.9397 - acc: 0.7338 - val_loss: 0.9509 - val_acc: 0.7086\n",
      "Epoch 22/200\n",
      "2048/2100 [============================>.] - ETA: 2s - loss: 0.9209 - acc: 0.7334\n",
      "Epoch 00022: val_loss improved from 0.95087 to 0.92899, saving model to /home/valborsf/Documents/UOC/PFMProject/MODELK7/BMODEL/Best_weightsModelK7_2.hdf5\n",
      "2100/2100 [==============================] - 117s 56ms/sample - loss: 0.9232 - acc: 0.7314 - val_loss: 0.9290 - val_acc: 0.7100\n",
      "Epoch 23/200\n",
      "2048/2100 [============================>.] - ETA: 2s - loss: 0.9082 - acc: 0.7358\n",
      "Epoch 00023: val_loss improved from 0.92899 to 0.90628, saving model to /home/valborsf/Documents/UOC/PFMProject/MODELK7/BMODEL/Best_weightsModelK7_2.hdf5\n",
      "2100/2100 [==============================] - 116s 55ms/sample - loss: 0.9093 - acc: 0.7348 - val_loss: 0.9063 - val_acc: 0.7471\n",
      "Epoch 24/200\n",
      "2048/2100 [============================>.] - ETA: 2s - loss: 0.8902 - acc: 0.7563\n",
      "Epoch 00024: val_loss improved from 0.90628 to 0.89611, saving model to /home/valborsf/Documents/UOC/PFMProject/MODELK7/BMODEL/Best_weightsModelK7_2.hdf5\n",
      "2100/2100 [==============================] - 118s 56ms/sample - loss: 0.8906 - acc: 0.7552 - val_loss: 0.8961 - val_acc: 0.7457\n",
      "Epoch 25/200\n",
      "2048/2100 [============================>.] - ETA: 2s - loss: 0.8876 - acc: 0.7446\n",
      "Epoch 00025: val_loss improved from 0.89611 to 0.88566, saving model to /home/valborsf/Documents/UOC/PFMProject/MODELK7/BMODEL/Best_weightsModelK7_2.hdf5\n",
      "2100/2100 [==============================] - 117s 56ms/sample - loss: 0.8860 - acc: 0.7457 - val_loss: 0.8857 - val_acc: 0.7457\n",
      "Epoch 26/200\n",
      "2048/2100 [============================>.] - ETA: 2s - loss: 0.8717 - acc: 0.7412\n",
      "Epoch 00026: val_loss improved from 0.88566 to 0.87730, saving model to /home/valborsf/Documents/UOC/PFMProject/MODELK7/BMODEL/Best_weightsModelK7_2.hdf5\n",
      "2100/2100 [==============================] - 118s 56ms/sample - loss: 0.8726 - acc: 0.7414 - val_loss: 0.8773 - val_acc: 0.7529\n",
      "Epoch 27/200\n",
      "2048/2100 [============================>.] - ETA: 2s - loss: 0.8616 - acc: 0.7520\n",
      "Epoch 00027: val_loss improved from 0.87730 to 0.86010, saving model to /home/valborsf/Documents/UOC/PFMProject/MODELK7/BMODEL/Best_weightsModelK7_2.hdf5\n",
      "2100/2100 [==============================] - 119s 57ms/sample - loss: 0.8592 - acc: 0.7543 - val_loss: 0.8601 - val_acc: 0.7400\n",
      "Epoch 28/200\n",
      "2048/2100 [============================>.] - ETA: 2s - loss: 0.8557 - acc: 0.7568\n",
      "Epoch 00028: val_loss did not improve from 0.86010\n",
      "2100/2100 [==============================] - 115s 55ms/sample - loss: 0.8559 - acc: 0.7562 - val_loss: 0.8670 - val_acc: 0.7243\n",
      "Epoch 29/200\n",
      "2048/2100 [============================>.] - ETA: 2s - loss: 0.8453 - acc: 0.7388\n",
      "Epoch 00029: val_loss improved from 0.86010 to 0.85485, saving model to /home/valborsf/Documents/UOC/PFMProject/MODELK7/BMODEL/Best_weightsModelK7_2.hdf5\n",
      "2100/2100 [==============================] - 112s 54ms/sample - loss: 0.8428 - acc: 0.7433 - val_loss: 0.8549 - val_acc: 0.7514\n",
      "Epoch 30/200\n",
      "2048/2100 [============================>.] - ETA: 2s - loss: 0.8257 - acc: 0.7554\n",
      "Epoch 00030: val_loss improved from 0.85485 to 0.84498, saving model to /home/valborsf/Documents/UOC/PFMProject/MODELK7/BMODEL/Best_weightsModelK7_2.hdf5\n",
      "2100/2100 [==============================] - 114s 54ms/sample - loss: 0.8279 - acc: 0.7543 - val_loss: 0.8450 - val_acc: 0.7314\n",
      "Epoch 31/200\n",
      "2048/2100 [============================>.] - ETA: 2s - loss: 0.8148 - acc: 0.7603\n",
      "Epoch 00031: val_loss did not improve from 0.84498\n",
      "2100/2100 [==============================] - 112s 54ms/sample - loss: 0.8153 - acc: 0.7595 - val_loss: 0.8684 - val_acc: 0.7043\n",
      "Epoch 32/200\n",
      "2048/2100 [============================>.] - ETA: 2s - loss: 0.8106 - acc: 0.7598\n",
      "Epoch 00032: val_loss improved from 0.84498 to 0.83320, saving model to /home/valborsf/Documents/UOC/PFMProject/MODELK7/BMODEL/Best_weightsModelK7_2.hdf5\n",
      "2100/2100 [==============================] - 112s 54ms/sample - loss: 0.8123 - acc: 0.7581 - val_loss: 0.8332 - val_acc: 0.7300\n",
      "Epoch 33/200\n",
      "2048/2100 [============================>.] - ETA: 2s - loss: 0.8049 - acc: 0.7583\n",
      "Epoch 00033: val_loss did not improve from 0.83320\n",
      "2100/2100 [==============================] - 112s 53ms/sample - loss: 0.8026 - acc: 0.7595 - val_loss: 0.8333 - val_acc: 0.7429\n",
      "Epoch 34/200\n",
      "2048/2100 [============================>.] - ETA: 2s - loss: 0.7877 - acc: 0.7627\n",
      "Epoch 00034: val_loss improved from 0.83320 to 0.81892, saving model to /home/valborsf/Documents/UOC/PFMProject/MODELK7/BMODEL/Best_weightsModelK7_2.hdf5\n",
      "2100/2100 [==============================] - 111s 53ms/sample - loss: 0.7891 - acc: 0.7629 - val_loss: 0.8189 - val_acc: 0.7357\n",
      "Epoch 35/200\n",
      "2048/2100 [============================>.] - ETA: 2s - loss: 0.7948 - acc: 0.7632\n",
      "Epoch 00035: val_loss improved from 0.81892 to 0.81273, saving model to /home/valborsf/Documents/UOC/PFMProject/MODELK7/BMODEL/Best_weightsModelK7_2.hdf5\n",
      "2100/2100 [==============================] - 112s 53ms/sample - loss: 0.7949 - acc: 0.7624 - val_loss: 0.8127 - val_acc: 0.7500\n",
      "Epoch 36/200\n",
      "2048/2100 [============================>.] - ETA: 2s - loss: 0.7766 - acc: 0.7656\n",
      "Epoch 00036: val_loss did not improve from 0.81273\n",
      "2100/2100 [==============================] - 111s 53ms/sample - loss: 0.7757 - acc: 0.7667 - val_loss: 0.8284 - val_acc: 0.7386\n",
      "Epoch 37/200\n",
      "2048/2100 [============================>.] - ETA: 2s - loss: 0.7778 - acc: 0.7622\n",
      "Epoch 00037: val_loss did not improve from 0.81273\n",
      "2100/2100 [==============================] - 111s 53ms/sample - loss: 0.7777 - acc: 0.7629 - val_loss: 0.8164 - val_acc: 0.7500\n",
      "Epoch 38/200\n",
      "2048/2100 [============================>.] - ETA: 2s - loss: 0.7657 - acc: 0.7725\n",
      "Epoch 00038: val_loss improved from 0.81273 to 0.80176, saving model to /home/valborsf/Documents/UOC/PFMProject/MODELK7/BMODEL/Best_weightsModelK7_2.hdf5\n",
      "2100/2100 [==============================] - 111s 53ms/sample - loss: 0.7623 - acc: 0.7748 - val_loss: 0.8018 - val_acc: 0.7371\n",
      "Epoch 39/200\n",
      "2048/2100 [============================>.] - ETA: 2s - loss: 0.7603 - acc: 0.7700\n",
      "Epoch 00039: val_loss improved from 0.80176 to 0.79725, saving model to /home/valborsf/Documents/UOC/PFMProject/MODELK7/BMODEL/Best_weightsModelK7_2.hdf5\n",
      "2100/2100 [==============================] - 112s 53ms/sample - loss: 0.7606 - acc: 0.7700 - val_loss: 0.7973 - val_acc: 0.7543\n",
      "Epoch 40/200\n",
      "2048/2100 [============================>.] - ETA: 2s - loss: 0.7773 - acc: 0.7593\n",
      "Epoch 00040: val_loss did not improve from 0.79725\n",
      "2100/2100 [==============================] - 110s 52ms/sample - loss: 0.7791 - acc: 0.7571 - val_loss: 0.8710 - val_acc: 0.6486\n",
      "Epoch 41/200\n",
      "2048/2100 [============================>.] - ETA: 2s - loss: 0.7714 - acc: 0.7549\n",
      "Epoch 00041: val_loss improved from 0.79725 to 0.78696, saving model to /home/valborsf/Documents/UOC/PFMProject/MODELK7/BMODEL/Best_weightsModelK7_2.hdf5\n"
     ]
    },
    {
     "name": "stdout",
     "output_type": "stream",
     "text": [
      "2100/2100 [==============================] - 110s 52ms/sample - loss: 0.7717 - acc: 0.7538 - val_loss: 0.7870 - val_acc: 0.7414\n",
      "Epoch 42/200\n",
      "2048/2100 [============================>.] - ETA: 2s - loss: 0.7422 - acc: 0.7715\n",
      "Epoch 00042: val_loss did not improve from 0.78696\n",
      "2100/2100 [==============================] - 110s 53ms/sample - loss: 0.7420 - acc: 0.7710 - val_loss: 0.7894 - val_acc: 0.7457\n",
      "Epoch 43/200\n",
      "2048/2100 [============================>.] - ETA: 2s - loss: 0.7309 - acc: 0.7808\n",
      "Epoch 00043: val_loss did not improve from 0.78696\n",
      "2100/2100 [==============================] - 110s 52ms/sample - loss: 0.7321 - acc: 0.7795 - val_loss: 0.8230 - val_acc: 0.7057\n",
      "Epoch 44/200\n",
      "2048/2100 [============================>.] - ETA: 2s - loss: 0.7311 - acc: 0.7842\n",
      "Epoch 00044: val_loss did not improve from 0.78696\n",
      "2100/2100 [==============================] - 110s 52ms/sample - loss: 0.7289 - acc: 0.7862 - val_loss: 0.8155 - val_acc: 0.7371\n",
      "Epoch 45/200\n",
      "2048/2100 [============================>.] - ETA: 2s - loss: 0.7331 - acc: 0.7773\n",
      "Epoch 00045: val_loss did not improve from 0.78696\n",
      "2100/2100 [==============================] - 109s 52ms/sample - loss: 0.7337 - acc: 0.7771 - val_loss: 0.8079 - val_acc: 0.7471\n",
      "Epoch 00045: early stopping\n",
      "Time spent in training :01:25:48\n"
     ]
    }
   ],
   "source": [
    "# Model fit\n",
    "epochs= 200\n",
    "batch_size = 128\n",
    "import time\n",
    "start_time = time.time()\n",
    "with tf.device('/CPU:0'):\n",
    "\n",
    "    history = model.fit (train_image_tensor, \n",
    "           train_label_tensor, \n",
    "           epochs = epochs, \n",
    "           batch_size = batch_size, \n",
    "           callbacks=callbacks_list,\n",
    "           validation_data =( val_image_tensor,val_label_tensor))\n",
    "\n",
    "elapsed_time = time.time() - start_time\n",
    "\n",
    "print( time.strftime('Time spent in training :'\"%H:%M:%S\", time.gmtime(elapsed_time)))\n",
    "\n",
    "save_model(model, history, model_bin_dir, Model_name)"
   ]
  },
  {
   "cell_type": "code",
   "execution_count": 19,
   "metadata": {},
   "outputs": [],
   "source": [
    "# Import Model Test if not need to Train \n",
    "if not TRAIN :\n",
    "    model = model_load ( model_bin_dir, Model_name)"
   ]
  },
  {
   "cell_type": "code",
   "execution_count": 20,
   "metadata": {},
   "outputs": [
    {
     "data": {
      "image/png": "[encoded data removed]",
      "text/plain": [
       "<Figure size 432x288 with 1 Axes>"
      ]
     },
     "metadata": {
      "needs_background": "light"
     },
     "output_type": "display_data"
    },
    {
     "data": {
      "image/png": "[encoded data removed]",
      "text/plain": [
       "<Figure size 432x288 with 1 Axes>"
      ]
     },
     "metadata": {
      "needs_background": "light"
     },
     "output_type": "display_data"
    }
   ],
   "source": [
    "# Display curves of loss and accuracy during training and save results \n",
    "plot_save_acc_loss(results_dir, history.history, Model_name)"
   ]
  },
  {
   "cell_type": "code",
   "execution_count": 21,
   "metadata": {},
   "outputs": [
    {
     "name": "stdout",
     "output_type": "stream",
     "text": [
      "Executing op VarHandleOp in device /job:localhost/replica:0/task:0/device:GPU:0\n",
      "Executing op Fill in device /job:localhost/replica:0/task:0/device:GPU:0\n",
      "Executing op VarHandleOp in device /job:localhost/replica:0/task:0/device:GPU:0\n",
      "Executing op VarHandleOp in device /job:localhost/replica:0/task:0/device:GPU:0\n",
      "Executing op VarHandleOp in device /job:localhost/replica:0/task:0/device:GPU:0\n",
      "Executing op VarHandleOp in device /job:localhost/replica:0/task:0/device:GPU:0\n",
      "Executing op VarHandleOp in device /job:localhost/replica:0/task:0/device:GPU:0\n",
      "Executing op VarHandleOp in device /job:localhost/replica:0/task:0/device:GPU:0\n",
      "Executing op VarHandleOp in device /job:localhost/replica:0/task:0/device:GPU:0\n",
      "Executing op VarHandleOp in device /job:localhost/replica:0/task:0/device:GPU:0\n",
      "Executing op VarHandleOp in device /job:localhost/replica:0/task:0/device:GPU:0\n",
      "Executing op VarHandleOp in device /job:localhost/replica:0/task:0/device:GPU:0\n",
      "Executing op Reshape in device /job:localhost/replica:0/task:0/device:GPU:0\n",
      "Executing op VarHandleOp in device /job:localhost/replica:0/task:0/device:GPU:0\n"
     ]
    }
   ],
   "source": [
    "# Load Model \n",
    "# Load weights \n",
    "\n",
    "#model = build_model()\n",
    "#model.load_weights('my_weights.model')\n",
    "TRAIN = False\n",
    "if not TRAIN :\n",
    "    Model_name = \"ModelK7_2\"\n",
    "    model = model_load ( model_bin_dir, Model_name)\n",
    "    model.load_weights(model_bin_dir+\"Best_weights\"+Model_name+\".hdf5\")"
   ]
  },
  {
   "cell_type": "code",
   "execution_count": 22,
   "metadata": {},
   "outputs": [
    {
     "name": "stdout",
     "output_type": "stream",
     "text": [
      "(700, 300, 300, 3)\n"
     ]
    }
   ],
   "source": [
    "# Create tensors from images\n",
    "# Load Images \n",
    "\n",
    "# This step is very time consuming !!!!!!!\n",
    "test_image_tensor  = load_images_tf(dftest,height_imag,width_imag)"
   ]
  },
  {
   "cell_type": "code",
   "execution_count": 23,
   "metadata": {},
   "outputs": [],
   "source": [
    "# Define the label tensor\n",
    "test_label_tensor = create_label_tensor(dftest)"
   ]
  },
  {
   "cell_type": "code",
   "execution_count": 24,
   "metadata": {},
   "outputs": [
    {
     "name": "stdout",
     "output_type": "stream",
     "text": [
      "Executing op MapDataset in device /job:localhost/replica:0/task:0/device:CPU:0\n",
      "Executing op FlatMapDataset in device /job:localhost/replica:0/task:0/device:CPU:0\n",
      "Executing op ParallelMapDataset in device /job:localhost/replica:0/task:0/device:CPU:0\n",
      "Executing op __inference_distributed_function_48204 in device /job:localhost/replica:0/task:0/device:GPU:0\n",
      "700/1 - 2s - loss: 0.7977 - acc: 0.7443\n"
     ]
    }
   ],
   "source": [
    "#  ROC /AUC\n",
    "scores = model.evaluate(test_image_tensor, test_label_tensor, verbose=2)"
   ]
  },
  {
   "cell_type": "code",
   "execution_count": 25,
   "metadata": {},
   "outputs": [
    {
     "data": {
      "text/plain": [
       "[0.7943207924706596, 0.7442857]"
      ]
     },
     "execution_count": 25,
     "metadata": {},
     "output_type": "execute_result"
    }
   ],
   "source": [
    "model.metrics_names\n",
    "scores"
   ]
  },
  {
   "cell_type": "code",
   "execution_count": 26,
   "metadata": {},
   "outputs": [],
   "source": [
    "# Loss 0.73  Acc=0.76"
   ]
  },
  {
   "cell_type": "code",
   "execution_count": 27,
   "metadata": {},
   "outputs": [
    {
     "name": "stdout",
     "output_type": "stream",
     "text": [
      "Executing op MapDataset in device /job:localhost/replica:0/task:0/device:CPU:0\n",
      "Executing op FlatMapDataset in device /job:localhost/replica:0/task:0/device:CPU:0\n",
      "Executing op TensorDataset in device /job:localhost/replica:0/task:0/device:CPU:0\n",
      "Executing op RepeatDataset in device /job:localhost/replica:0/task:0/device:CPU:0\n",
      "Executing op ZipDataset in device /job:localhost/replica:0/task:0/device:CPU:0\n",
      "Executing op ParallelMapDataset in device /job:localhost/replica:0/task:0/device:CPU:0\n",
      "Executing op ModelDataset in device /job:localhost/replica:0/task:0/device:CPU:0\n",
      "Executing op AnonymousIteratorV2 in device /job:localhost/replica:0/task:0/device:CPU:0\n",
      "Executing op __inference_distributed_function_48381 in device /job:localhost/replica:0/task:0/device:GPU:0\n"
     ]
    }
   ],
   "source": [
    "# Compute predictions\n",
    "# This takes time !!!!!!!!!!!!!!!!!!!!!!!!!!!!!!!!!\n",
    "y_pred_keras = model.predict(test_image_tensor).ravel()   # y_pred_probabilities\n",
    "y_pred = y_pred_keras > 0.5                                # y_pred_class : if >0.5  = True => Malignant\n",
    "y_test = dftest.bm.astype('category').cat.codes            # Ground truth \n",
    "class_labels= dftest.bm.unique()                           # Labels of ground truth \n"
   ]
  },
  {
   "cell_type": "code",
   "execution_count": 28,
   "metadata": {},
   "outputs": [
    {
     "name": "stdout",
     "output_type": "stream",
     "text": [
      "Metrics ModelK7_2\n",
      "===========================================\n",
      "Confusion Matrix:\n",
      "[[231 109]\n",
      " [ 70 290]]\n",
      "+----------------------------+-------------+\n",
      "|            Type            |  # samples  |\n",
      "+============================+=============+\n",
      "| True Positives- Malignants | 290         |\n",
      "+----------------------------+-------------+\n",
      "| True Negatives- Benign     | 231         |\n",
      "+----------------------------+-------------+\n",
      "| False Positive             | 109         |\n",
      "+----------------------------+-------------+\n",
      "| False Negative             | 70          |\n",
      "+----------------------------+-------------+\n",
      "Summary classification Report: \n",
      "              precision    recall  f1-score   support\n",
      "\n",
      "   malignant       0.77      0.68      0.72       340\n",
      "      benign       0.73      0.81      0.76       360\n",
      "\n",
      "    accuracy                           0.74       700\n",
      "   macro avg       0.75      0.74      0.74       700\n",
      "weighted avg       0.75      0.74      0.74       700\n",
      "\n",
      "+-------------+---------+\n",
      "|   Metrics   |         |\n",
      "+=============+=========+\n",
      "| Accuracy    | 0.740   |\n",
      "+-------------+---------+\n",
      "| Sensitivity | 0.810   |\n",
      "+-------------+---------+\n",
      "| Specificity | 0.680   |\n",
      "+-------------+---------+\n",
      "| AUC         | 0.820   |\n",
      "+-------------+---------+\n"
     ]
    },
    {
     "data": {
      "image/png": "[encoded data removed]",
      "text/plain": [
       "<Figure size 432x288 with 1 Axes>"
      ]
     },
     "metadata": {
      "needs_background": "light"
     },
     "output_type": "display_data"
    },
    {
     "data": {
      "image/png": "[encoded data removed]",
      "text/plain": [
       "<Figure size 432x288 with 1 Axes>"
      ]
     },
     "metadata": {
      "needs_background": "light"
     },
     "output_type": "display_data"
    }
   ],
   "source": [
    "#Print Metrics + Confusion ROC AUC\n",
    "confusion_ROC_AUC ( y_test, y_pred, y_pred_keras, class_labels, results_dir, Model_name )"
   ]
  },
  {
   "cell_type": "code",
   "execution_count": null,
   "metadata": {},
   "outputs": [],
   "source": [
    "tf.keras.backend.clear_session()  # Reset"
   ]
  }
 ],
 "metadata": {
  "accelerator": "GPU",
  "colab": {
   "collapsed_sections": [],
   "name": "Preprocess_Fit4.ipynb",
   "provenance": []
  },
  "kernelspec": {
   "display_name": "“gpu2”",
   "language": "python",
   "name": "gpu2"
  },
  "language_info": {
   "codemirror_mode": {
    "name": "ipython",
    "version": 3
   },
   "file_extension": ".py",
   "mimetype": "text/x-python",
   "name": "python",
   "nbconvert_exporter": "python",
   "pygments_lexer": "ipython3",
   "version": "3.7.5"
  }
 },
 "nbformat": 4,
 "nbformat_minor": 1
}

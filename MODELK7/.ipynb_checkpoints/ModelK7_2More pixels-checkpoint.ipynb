{
 "cells": [
  {
   "cell_type": "markdown",
   "metadata": {
    "colab_type": "text",
    "id": "Ur34g7Fbi5lr"
   },
   "source": [
    "# Notebook- Model K7_2 - More pixels \n",
    "# Author : V.Albors   Date : 07.02.2020\n",
    "# Purpose : Train with tensors and regularization & Batch size 128\n",
    "#                   ( more params)Use new architecture inspired in  N1-Tensor2\n",
    "\n",
    "\n",
    "\n",
    "**Input** :  \n",
    "  * CSV files that identify the images to use as train and validation. CSV files are in directory csv_dir   \n",
    "  * Images from train and validation. Images are in directory : imag_dir  \n",
    "  * Saved model. Model is in directory : model_bin_dir  \n",
    "  \n",
    "**Output**:  \n",
    "  * Download of the model trained with train dataset - \n",
    "  * Download the history of the model in order to be evaluated \n",
    "\n",
    "**Process**:  \n",
    " * Read Train and Validation images ( identified in the .csv files ) from the imag_dir directory   \n",
    " * Create a train and validation input & label tensors (no augmentation)\n",
    " * Define the architecture of model : \n",
    "                        \n",
    " * Train the model with the train dataset with callbacks (  ModuleCheckPoint , Early Stopping)\n",
    " * Save the trained model and history of the model in directory model_bin_dir \n",
    " * Paint the Accuracy and Loss curves\n",
    " * Create results : Metrics \n",
    " "
   ]
  },
  {
   "cell_type": "code",
   "execution_count": 1,
   "metadata": {},
   "outputs": [],
   "source": [
    "from __future__ import absolute_import, division, print_function, unicode_literals\n",
    "import tensorflow as tf\n",
    "\n",
    "tf.keras.backend.clear_session()  # Reset"
   ]
  },
  {
   "cell_type": "code",
   "execution_count": 2,
   "metadata": {},
   "outputs": [
    {
     "name": "stdout",
     "output_type": "stream",
     "text": [
      "Num GPUs Available:  1\n"
     ]
    }
   ],
   "source": [
    "import tensorflow as tf\n",
    "#gpus = tf.config.experimental.list_physical_devices('GPU')\n",
    "print(\"Num GPUs Available: \", len(tf.config.experimental.list_physical_devices('GPU')))\n",
    "tf.config.experimental.list_physical_devices('GPU') \n",
    "physical_devices = tf.config.experimental.list_physical_devices('GPU')\n",
    "assert len(physical_devices) > 0, \"Not enough GPU hardware devices available\"\n",
    "tf.config.experimental.set_memory_growth(physical_devices[0], True)\n",
    "tf.debugging.set_log_device_placement(True)"
   ]
  },
  {
   "cell_type": "code",
   "execution_count": 3,
   "metadata": {},
   "outputs": [
    {
     "name": "stdout",
     "output_type": "stream",
     "text": [
      "2.0.0\n",
      "10.0\n",
      "7.6\n"
     ]
    }
   ],
   "source": [
    "#Tensorflow version \n",
    "print(tf.__version__)\n",
    "from tensorflow.python.platform import build_info as tf_build_info\n",
    "print(tf_build_info.cuda_version_number)\n",
    "# Cuda Version 9.0 in v1.10.0\n",
    "print(tf_build_info.cudnn_version_number)\n",
    "# CudNN 7 in v1.10.0"
   ]
  },
  {
   "cell_type": "code",
   "execution_count": 4,
   "metadata": {},
   "outputs": [],
   "source": [
    "# Define the name of the model \n",
    "Model_directory = \"MODELK7\"\n",
    "Model_name = \"ModelK7_2\"\n",
    "TRAIN = True"
   ]
  },
  {
   "cell_type": "code",
   "execution_count": 5,
   "metadata": {},
   "outputs": [
    {
     "name": "stdout",
     "output_type": "stream",
     "text": [
      "['confusion_ROC_AUC', 'create_column_tensor', 'create_label_tensor', 'create_val_test', 'define_dirs', 'extract_images_bm', 'extract_images_train', 'load_hist_model', 'load_images', 'load_images_tf', 'model_load', 'plot_save_acc_loss', 'print_network', 'process_clinical_info', 'read_dataframes', 'read_dataframes_tables', 'reproducible_results', 'save_model', 'save_network_json', 'start', 'stop', 'to_one_hot', 'to_one_hot_words', 'xi_squared']\n"
     ]
    }
   ],
   "source": [
    "# Import routines\n",
    "import sys  \n",
    "subrc_dir = \"/home/valborsf/Documents/UOC/PFMProject/\"\n",
    "\n",
    "sys.path.append(subrc_dir)  \n",
    "from  Models_routines import *\n",
    "import inspect\n",
    "\n",
    "# List functions inside the module\n",
    "import Models_routines as module\n",
    "functions = inspect.getmembers(module, inspect.isfunction)\n",
    "lsfunctions = [item[0] for item in functions]\n",
    "print ( lsfunctions )"
   ]
  },
  {
   "cell_type": "code",
   "execution_count": 6,
   "metadata": {},
   "outputs": [],
   "source": [
    "# Reproducible results \n",
    "reproducible_results ()"
   ]
  },
  {
   "cell_type": "code",
   "execution_count": 7,
   "metadata": {},
   "outputs": [],
   "source": [
    "# Define directories\n",
    "(root_dir,json_dir,imag_dir,csv_dir,model_json_dir,model_bin_dir,results_dir,Tensor_dir) = define_dirs(Model_directory)"
   ]
  },
  {
   "cell_type": "code",
   "execution_count": 8,
   "metadata": {},
   "outputs": [],
   "source": [
    "# New dataset without SONIC disturbing images\n",
    "json_dir =  root_dir +\"/DataNew/ALL_JSON/\"                # .json dir images\n",
    "imag_dir =  root_dir +\"/DataNew/ALL_IMAGES/\"              # .png dir - images\n",
    "\n",
    "# directories for  CSV's\n",
    "csv_dir =  root_dir +\"/DataNew4/CSV/\"                      # .csv dir - dftrain, dfval, dftest"
   ]
  },
  {
   "cell_type": "code",
   "execution_count": 9,
   "metadata": {},
   "outputs": [
    {
     "name": "stdout",
     "output_type": "stream",
     "text": [
      "/home/valborsf/Documents/UOC/PFMProject/DataNew4/CSV/\n"
     ]
    }
   ],
   "source": [
    "# Load train,validation & Test \n",
    "(dftrain, dfval, dftest) = read_dataframes(csv_dir)"
   ]
  },
  {
   "cell_type": "code",
   "execution_count": 10,
   "metadata": {},
   "outputs": [],
   "source": [
    "# Define the label tensor\n",
    "train_label_tensor = create_label_tensor(dftrain)\n",
    "val_label_tensor = create_label_tensor(dfval)\n",
    "#test_label_tensor = create_label_tensor(dftest)"
   ]
  },
  {
   "cell_type": "code",
   "execution_count": 11,
   "metadata": {},
   "outputs": [
    {
     "name": "stdout",
     "output_type": "stream",
     "text": [
      "Executing op ReadFile in device /job:localhost/replica:0/task:0/device:CPU:0\n",
      "Executing op DecodeJpeg in device /job:localhost/replica:0/task:0/device:CPU:0\n",
      "Executing op Cast in device /job:localhost/replica:0/task:0/device:CPU:0\n",
      "Executing op Mul in device /job:localhost/replica:0/task:0/device:CPU:0\n",
      "Executing op ExpandDims in device /job:localhost/replica:0/task:0/device:CPU:0\n",
      "Executing op ResizeBilinear in device /job:localhost/replica:0/task:0/device:CPU:0\n",
      "Executing op Squeeze in device /job:localhost/replica:0/task:0/device:CPU:0\n",
      "(2100, 150, 150, 3)\n",
      "(700, 150, 150, 3)\n"
     ]
    }
   ],
   "source": [
    "# Create tensors from images\n",
    "# Load Images \n",
    "height_imag = 300 \n",
    "width_imag = 300\n",
    "# This step is very time consuming !!!!!!!\n",
    "train_image_tensor  = load_images_tf(dftrain,height_imag,width_imag)\n",
    "val_image_tensor  = load_images_tf(dfval,height_imag,width_imag)\n",
    "#test_image_tensor  = load_images(dftest,height_imag,width_imag)"
   ]
  },
  {
   "cell_type": "code",
   "execution_count": 12,
   "metadata": {},
   "outputs": [
    {
     "name": "stdout",
     "output_type": "stream",
     "text": [
      "Executing op RandomUniform in device /job:localhost/replica:0/task:0/device:GPU:0\n",
      "Executing op Sub in device /job:localhost/replica:0/task:0/device:GPU:0\n",
      "Executing op Mul in device /job:localhost/replica:0/task:0/device:GPU:0\n",
      "Executing op Add in device /job:localhost/replica:0/task:0/device:GPU:0\n",
      "Executing op VarHandleOp in device /job:localhost/replica:0/task:0/device:GPU:0\n",
      "Executing op VarIsInitializedOp in device /job:localhost/replica:0/task:0/device:GPU:0\n",
      "Executing op LogicalNot in device /job:localhost/replica:0/task:0/device:GPU:0\n",
      "Executing op Assert in device /job:localhost/replica:0/task:0/device:GPU:0\n",
      "Executing op AssignVariableOp in device /job:localhost/replica:0/task:0/device:GPU:0\n",
      "Executing op Fill in device /job:localhost/replica:0/task:0/device:GPU:0\n",
      "Executing op VarHandleOp in device /job:localhost/replica:0/task:0/device:GPU:0\n",
      "Executing op VarHandleOp in device /job:localhost/replica:0/task:0/device:GPU:0\n",
      "Executing op VarHandleOp in device /job:localhost/replica:0/task:0/device:GPU:0\n",
      "Executing op VarHandleOp in device /job:localhost/replica:0/task:0/device:GPU:0\n",
      "Executing op VarHandleOp in device /job:localhost/replica:0/task:0/device:GPU:0\n",
      "Executing op VarHandleOp in device /job:localhost/replica:0/task:0/device:GPU:0\n",
      "Executing op VarHandleOp in device /job:localhost/replica:0/task:0/device:GPU:0\n",
      "Executing op VarHandleOp in device /job:localhost/replica:0/task:0/device:GPU:0\n",
      "Executing op VarHandleOp in device /job:localhost/replica:0/task:0/device:GPU:0\n",
      "Executing op Reshape in device /job:localhost/replica:0/task:0/device:GPU:0\n",
      "Executing op VarHandleOp in device /job:localhost/replica:0/task:0/device:GPU:0\n"
     ]
    }
   ],
   "source": [
    "#import keras\n",
    "from tensorflow.keras.models import Model\n",
    "from tensorflow.keras import layers\n",
    "from tensorflow.keras import Input\n",
    "from tensorflow.keras import regularizers\n",
    "from tensorflow.keras.callbacks import ModelCheckpoint\n",
    "\n",
    "\n",
    "# Model 1 : Image to Predict Melanoma\n",
    "\n",
    "image_inputs = Input(shape=(height_imag,width_imag,3))\n",
    "m2 = layers.Conv2D(64, (3,3), kernel_regularizer=regularizers.l2(0.01), activation='relu')(image_inputs)\n",
    "#m2 = layers.BatchNormalization()(m2)\n",
    "m2 = layers.MaxPooling2D((2,2))(m2)\n",
    "m2 = layers.Conv2D(32, (3,3), kernel_regularizer=regularizers.l2(0.01), activation='relu')(m2)\n",
    "#m2 = layers.BatchNormalization()(m2)\n",
    "m2 = layers.MaxPooling2D((2,2))(m2)\n",
    "m2 = layers.Conv2D(128, (3,3),kernel_regularizer=regularizers.l2(0.01), activation='relu')(m2)\n",
    "#m2 = layers.BatchNormalization()(m2)\n",
    "m2 = layers.MaxPooling2D((4,4))(m2)\n",
    "m2 = layers.Flatten()(m2)\n",
    "m2 = layers.Dense (512, activation='relu')(m2)\n",
    "m2 = layers.Dropout(0.23)(m2)\n",
    "m2 = layers.Dense (128, activation='relu')(m2)\n",
    "\n",
    "benign_malign = layers.Dense (1, activation='sigmoid')(m2)\n",
    "\n",
    "\n",
    "# Model instantiation\n",
    "model = Model(image_inputs, benign_malign)\n",
    "\n"
   ]
  },
  {
   "cell_type": "code",
   "execution_count": 13,
   "metadata": {},
   "outputs": [
    {
     "name": "stdout",
     "output_type": "stream",
     "text": [
      "Model: \"model\"\n",
      "_________________________________________________________________\n",
      "Layer (type)                 Output Shape              Param #   \n",
      "=================================================================\n",
      "input_1 (InputLayer)         [(None, 150, 150, 3)]     0         \n",
      "_________________________________________________________________\n",
      "conv2d (Conv2D)              (None, 148, 148, 64)      1792      \n",
      "_________________________________________________________________\n",
      "max_pooling2d (MaxPooling2D) (None, 74, 74, 64)        0         \n",
      "_________________________________________________________________\n",
      "conv2d_1 (Conv2D)            (None, 72, 72, 32)        18464     \n",
      "_________________________________________________________________\n",
      "max_pooling2d_1 (MaxPooling2 (None, 36, 36, 32)        0         \n",
      "_________________________________________________________________\n",
      "conv2d_2 (Conv2D)            (None, 34, 34, 128)       36992     \n",
      "_________________________________________________________________\n",
      "max_pooling2d_2 (MaxPooling2 (None, 8, 8, 128)         0         \n",
      "_________________________________________________________________\n",
      "flatten (Flatten)            (None, 8192)              0         \n",
      "_________________________________________________________________\n",
      "dense (Dense)                (None, 512)               4194816   \n",
      "_________________________________________________________________\n",
      "dropout (Dropout)            (None, 512)               0         \n",
      "_________________________________________________________________\n",
      "dense_1 (Dense)              (None, 128)               65664     \n",
      "_________________________________________________________________\n",
      "dense_2 (Dense)              (None, 1)                 129       \n",
      "=================================================================\n",
      "Total params: 4,317,857\n",
      "Trainable params: 4,317,857\n",
      "Non-trainable params: 0\n",
      "_________________________________________________________________\n"
     ]
    }
   ],
   "source": [
    "model.summary()"
   ]
  },
  {
   "cell_type": "code",
   "execution_count": 14,
   "metadata": {},
   "outputs": [],
   "source": [
    "#Print Network \n",
    "print_network (results_dir, model, Model_name)\n",
    "#Save Network \n",
    "save_network_json (model_json_dir, model, Model_name)"
   ]
  },
  {
   "cell_type": "code",
   "execution_count": 15,
   "metadata": {},
   "outputs": [
    {
     "name": "stdout",
     "output_type": "stream",
     "text": [
      "Executing op VarHandleOp in device /job:localhost/replica:0/task:0/device:GPU:0\n"
     ]
    }
   ],
   "source": [
    "# Model Compile\n",
    "from tensorflow.keras import optimizers\n",
    "#from keras import optimizers\n",
    "model.compile ( loss='binary_crossentropy',\n",
    "#               optimizer = optimizers.RMSprop(lr=1e-4),\n",
    "               optimizer = optimizers.Adam(lr=1e-4),\n",
    "               metrics= ['acc'])"
   ]
  },
  {
   "cell_type": "code",
   "execution_count": 16,
   "metadata": {},
   "outputs": [],
   "source": [
    "# Callbacks\n",
    "callbacks_list = [\n",
    "# EarlyStopping when the model does not improve in loss\n",
    "\n",
    "         tf.keras.callbacks.EarlyStopping (\n",
    "             monitor = 'val_loss',             # Monitors the accuracy\n",
    "             verbose=1,                        # log when finishes\n",
    "             patience = 4,),                   # Interrupt if acc no improve in 4 epochs\n",
    "\n",
    "#  ModelCheckpoint to store the weights of the best performing epoch. \n",
    "    \n",
    "         tf.keras.callbacks.ModelCheckpoint(filepath=model_bin_dir+\"Best_weights\"+Model_name+\".hdf5\", \n",
    "             monitor = 'val_loss', # Won't overwritte the model file unless val_loss has\n",
    "             verbose=1,            # improve \n",
    "             save_best_only=True),\n",
    "         \n",
    "#         keras.callbacks.TensorBoard(\n",
    "#             log_dir =  Tensor_dir, \n",
    "#            histogram_freq = 1,\n",
    "#            )\n",
    "                ]"
   ]
  },
  {
   "cell_type": "code",
   "execution_count": 17,
   "metadata": {},
   "outputs": [
    {
     "name": "stdout",
     "output_type": "stream",
     "text": [
      "Executing op RangeDataset in device /job:localhost/replica:0/task:0/device:CPU:0\n",
      "Executing op RepeatDataset in device /job:localhost/replica:0/task:0/device:CPU:0\n",
      "Executing op MapDataset in device /job:localhost/replica:0/task:0/device:CPU:0\n",
      "Executing op PrefetchDataset in device /job:localhost/replica:0/task:0/device:CPU:0\n",
      "Executing op FlatMapDataset in device /job:localhost/replica:0/task:0/device:CPU:0\n",
      "Executing op TensorDataset in device /job:localhost/replica:0/task:0/device:CPU:0\n",
      "Executing op RepeatDataset in device /job:localhost/replica:0/task:0/device:CPU:0\n",
      "Executing op ZipDataset in device /job:localhost/replica:0/task:0/device:CPU:0\n",
      "Executing op ParallelMapDataset in device /job:localhost/replica:0/task:0/device:CPU:0\n",
      "Executing op MapDataset in device /job:localhost/replica:0/task:0/device:CPU:0\n",
      "Executing op PrefetchDataset in device /job:localhost/replica:0/task:0/device:CPU:0\n",
      "Executing op FlatMapDataset in device /job:localhost/replica:0/task:0/device:CPU:0\n",
      "Executing op TensorDataset in device /job:localhost/replica:0/task:0/device:CPU:0\n",
      "Executing op RepeatDataset in device /job:localhost/replica:0/task:0/device:CPU:0\n",
      "Executing op ZipDataset in device /job:localhost/replica:0/task:0/device:CPU:0\n",
      "Executing op ParallelMapDataset in device /job:localhost/replica:0/task:0/device:CPU:0\n",
      "Executing op DatasetCardinality in device /job:localhost/replica:0/task:0/device:CPU:0\n",
      "Train on 2100 samples, validate on 700 samples\n",
      "Epoch 1/200\n",
      "Executing op ModelDataset in device /job:localhost/replica:0/task:0/device:CPU:0\n",
      "Executing op AnonymousIteratorV2 in device /job:localhost/replica:0/task:0/device:CPU:0\n",
      "Executing op MakeIterator in device /job:localhost/replica:0/task:0/device:CPU:0\n",
      "Executing op VarHandleOp in device /job:localhost/replica:0/task:0/device:GPU:0\n",
      "Executing op AssignVariableOp in device /job:localhost/replica:0/task:0/device:GPU:0\n",
      "Executing op VarHandleOp in device /job:localhost/replica:0/task:0/device:GPU:0\n",
      "Executing op VarHandleOp in device /job:localhost/replica:0/task:0/device:GPU:0\n",
      "Executing op VarHandleOp in device /job:localhost/replica:0/task:0/device:GPU:0\n",
      "Executing op VarHandleOp in device /job:localhost/replica:0/task:0/device:GPU:0\n",
      "Executing op VarHandleOp in device /job:localhost/replica:0/task:0/device:GPU:0\n",
      "Executing op LogicalNot in device /job:localhost/replica:0/task:0/device:GPU:0\n",
      "Executing op Assert in device /job:localhost/replica:0/task:0/device:GPU:0\n",
      "Executing op VarHandleOp in device /job:localhost/replica:0/task:0/device:GPU:0\n",
      "Executing op VarHandleOp in device /job:localhost/replica:0/task:0/device:GPU:0\n",
      "Executing op VarHandleOp in device /job:localhost/replica:0/task:0/device:GPU:0\n",
      "Executing op VarHandleOp in device /job:localhost/replica:0/task:0/device:GPU:0\n",
      "Executing op VarHandleOp in device /job:localhost/replica:0/task:0/device:GPU:0\n",
      "Executing op VarHandleOp in device /job:localhost/replica:0/task:0/device:GPU:0\n",
      "Executing op VarHandleOp in device /job:localhost/replica:0/task:0/device:GPU:0\n",
      "Executing op VarHandleOp in device /job:localhost/replica:0/task:0/device:GPU:0\n",
      "Executing op VarHandleOp in device /job:localhost/replica:0/task:0/device:GPU:0\n",
      "Executing op VarHandleOp in device /job:localhost/replica:0/task:0/device:GPU:0\n",
      "Executing op VarHandleOp in device /job:localhost/replica:0/task:0/device:GPU:0\n",
      "Executing op VarHandleOp in device /job:localhost/replica:0/task:0/device:GPU:0\n",
      "Executing op VarHandleOp in device /job:localhost/replica:0/task:0/device:GPU:0\n",
      "Executing op VarHandleOp in device /job:localhost/replica:0/task:0/device:GPU:0\n",
      "Executing op VarHandleOp in device /job:localhost/replica:0/task:0/device:GPU:0\n",
      "Executing op VarHandleOp in device /job:localhost/replica:0/task:0/device:GPU:0\n",
      "Executing op VarHandleOp in device /job:localhost/replica:0/task:0/device:GPU:0\n",
      "Executing op VarHandleOp in device /job:localhost/replica:0/task:0/device:GPU:0\n",
      "Executing op VarHandleOp in device /job:localhost/replica:0/task:0/device:GPU:0\n",
      "Executing op VarHandleOp in device /job:localhost/replica:0/task:0/device:GPU:0\n",
      "Executing op VarHandleOp in device /job:localhost/replica:0/task:0/device:GPU:0\n",
      "Executing op VarHandleOp in device /job:localhost/replica:0/task:0/device:GPU:0\n",
      "Executing op VarHandleOp in device /job:localhost/replica:0/task:0/device:GPU:0\n",
      "Executing op __inference_initialize_variables_31918 in device /job:localhost/replica:0/task:0/device:GPU:0\n",
      "Executing op __inference_distributed_function_32318 in device /job:localhost/replica:0/task:0/device:GPU:0\n",
      "2048/2100 [============================>.] - ETA: 0s - loss: 1.6591 - acc: 0.5244Executing op __inference_distributed_function_32516 in device /job:localhost/replica:0/task:0/device:GPU:0\n",
      "\n",
      "Epoch 00001: val_loss improved from inf to 1.61495, saving model to /home/valborsf/Documents/UOC/PFMProject/MODELK1/BMODEL/Best_weightsModelK1_3.hdf5\n",
      "Executing op ReadVariableOp in device /job:localhost/replica:0/task:0/device:GPU:0\n",
      "Executing op ReadVariableOp in device /job:localhost/replica:0/task:0/device:GPU:0\n",
      "2100/2100 [==============================] - 6s 3ms/sample - loss: 1.6583 - acc: 0.5262 - val_loss: 1.6150 - val_acc: 0.6714\n",
      "Epoch 2/200\n",
      "2048/2100 [============================>.] - ETA: 0s - loss: 1.5845 - acc: 0.6035Executing op DeleteIterator in device /job:localhost/replica:0/task:0/device:CPU:0\n",
      "\n",
      "Epoch 00002: val_loss improved from 1.61495 to 1.53508, saving model to /home/valborsf/Documents/UOC/PFMProject/MODELK1/BMODEL/Best_weightsModelK1_3.hdf5\n",
      "2100/2100 [==============================] - 2s 1ms/sample - loss: 1.5834 - acc: 0.6029 - val_loss: 1.5351 - val_acc: 0.6343\n",
      "Epoch 3/200\n",
      "2048/2100 [============================>.] - ETA: 0s - loss: 1.5097 - acc: 0.6152\n",
      "Epoch 00003: val_loss improved from 1.53508 to 1.46285, saving model to /home/valborsf/Documents/UOC/PFMProject/MODELK1/BMODEL/Best_weightsModelK1_3.hdf5\n",
      "2100/2100 [==============================] - 2s 1ms/sample - loss: 1.5090 - acc: 0.6167 - val_loss: 1.4628 - val_acc: 0.6829\n",
      "Epoch 4/200\n",
      "2048/2100 [============================>.] - ETA: 0s - loss: 1.4389 - acc: 0.6421\n",
      "Epoch 00004: val_loss improved from 1.46285 to 1.40380, saving model to /home/valborsf/Documents/UOC/PFMProject/MODELK1/BMODEL/Best_weightsModelK1_3.hdf5\n",
      "2100/2100 [==============================] - 2s 1ms/sample - loss: 1.4386 - acc: 0.6400 - val_loss: 1.4038 - val_acc: 0.5871\n",
      "Epoch 5/200\n",
      "2048/2100 [============================>.] - ETA: 0s - loss: 1.3793 - acc: 0.6748\n",
      "Epoch 00005: val_loss improved from 1.40380 to 1.34953, saving model to /home/valborsf/Documents/UOC/PFMProject/MODELK1/BMODEL/Best_weightsModelK1_3.hdf5\n",
      "2100/2100 [==============================] - 2s 1ms/sample - loss: 1.3772 - acc: 0.6757 - val_loss: 1.3495 - val_acc: 0.6157\n",
      "Epoch 6/200\n",
      "2048/2100 [============================>.] - ETA: 0s - loss: 1.3378 - acc: 0.6504\n",
      "Epoch 00006: val_loss improved from 1.34953 to 1.29360, saving model to /home/valborsf/Documents/UOC/PFMProject/MODELK1/BMODEL/Best_weightsModelK1_3.hdf5\n",
      "2100/2100 [==============================] - 2s 1ms/sample - loss: 1.3370 - acc: 0.6533 - val_loss: 1.2936 - val_acc: 0.6657\n",
      "Epoch 7/200\n",
      "2048/2100 [============================>.] - ETA: 0s - loss: 1.2825 - acc: 0.6855\n",
      "Epoch 00007: val_loss improved from 1.29360 to 1.26189, saving model to /home/valborsf/Documents/UOC/PFMProject/MODELK1/BMODEL/Best_weightsModelK1_3.hdf5\n",
      "2100/2100 [==============================] - 2s 1ms/sample - loss: 1.2827 - acc: 0.6852 - val_loss: 1.2619 - val_acc: 0.6529\n",
      "Epoch 8/200\n",
      "2048/2100 [============================>.] - ETA: 0s - loss: 1.2452 - acc: 0.6733\n",
      "Epoch 00008: val_loss improved from 1.26189 to 1.21306, saving model to /home/valborsf/Documents/UOC/PFMProject/MODELK1/BMODEL/Best_weightsModelK1_3.hdf5\n",
      "2100/2100 [==============================] - 2s 1ms/sample - loss: 1.2459 - acc: 0.6719 - val_loss: 1.2131 - val_acc: 0.6900\n",
      "Epoch 9/200\n",
      "2048/2100 [============================>.] - ETA: 0s - loss: 1.2044 - acc: 0.6909\n",
      "Epoch 00009: val_loss improved from 1.21306 to 1.16616, saving model to /home/valborsf/Documents/UOC/PFMProject/MODELK1/BMODEL/Best_weightsModelK1_3.hdf5\n",
      "2100/2100 [==============================] - 2s 1ms/sample - loss: 1.2039 - acc: 0.6914 - val_loss: 1.1662 - val_acc: 0.7086\n",
      "Epoch 10/200\n"
     ]
    },
    {
     "name": "stdout",
     "output_type": "stream",
     "text": [
      "2048/2100 [============================>.] - ETA: 0s - loss: 1.1719 - acc: 0.6958\n",
      "Epoch 00010: val_loss improved from 1.16616 to 1.12920, saving model to /home/valborsf/Documents/UOC/PFMProject/MODELK1/BMODEL/Best_weightsModelK1_3.hdf5\n",
      "2100/2100 [==============================] - 2s 1ms/sample - loss: 1.1718 - acc: 0.6938 - val_loss: 1.1292 - val_acc: 0.7286\n",
      "Epoch 11/200\n",
      "2048/2100 [============================>.] - ETA: 0s - loss: 1.1365 - acc: 0.7104\n",
      "Epoch 00011: val_loss did not improve from 1.12920\n",
      "2100/2100 [==============================] - 2s 1ms/sample - loss: 1.1392 - acc: 0.7071 - val_loss: 1.1384 - val_acc: 0.6714\n",
      "Epoch 12/200\n",
      "2048/2100 [============================>.] - ETA: 0s - loss: 1.1079 - acc: 0.6992\n",
      "Epoch 00012: val_loss improved from 1.12920 to 1.07298, saving model to /home/valborsf/Documents/UOC/PFMProject/MODELK1/BMODEL/Best_weightsModelK1_3.hdf5\n",
      "2100/2100 [==============================] - 2s 1ms/sample - loss: 1.1105 - acc: 0.6981 - val_loss: 1.0730 - val_acc: 0.7386\n",
      "Epoch 13/200\n",
      "2048/2100 [============================>.] - ETA: 0s - loss: 1.0909 - acc: 0.6992\n",
      "Epoch 00013: val_loss did not improve from 1.07298\n",
      "2100/2100 [==============================] - 2s 1ms/sample - loss: 1.0886 - acc: 0.7024 - val_loss: 1.0762 - val_acc: 0.7029\n",
      "Epoch 14/200\n",
      "2048/2100 [============================>.] - ETA: 0s - loss: 1.0752 - acc: 0.7017\n",
      "Epoch 00014: val_loss improved from 1.07298 to 1.04518, saving model to /home/valborsf/Documents/UOC/PFMProject/MODELK1/BMODEL/Best_weightsModelK1_3.hdf5\n",
      "2100/2100 [==============================] - 2s 1ms/sample - loss: 1.0758 - acc: 0.7010 - val_loss: 1.0452 - val_acc: 0.7171\n",
      "Epoch 15/200\n",
      "2048/2100 [============================>.] - ETA: 0s - loss: 1.0357 - acc: 0.7188\n",
      "Epoch 00015: val_loss improved from 1.04518 to 0.99994, saving model to /home/valborsf/Documents/UOC/PFMProject/MODELK1/BMODEL/Best_weightsModelK1_3.hdf5\n",
      "2100/2100 [==============================] - 2s 1ms/sample - loss: 1.0347 - acc: 0.7205 - val_loss: 0.9999 - val_acc: 0.7529\n",
      "Epoch 16/200\n",
      "2048/2100 [============================>.] - ETA: 0s - loss: 1.0088 - acc: 0.7256\n",
      "Epoch 00016: val_loss improved from 0.99994 to 0.97871, saving model to /home/valborsf/Documents/UOC/PFMProject/MODELK1/BMODEL/Best_weightsModelK1_3.hdf5\n",
      "2100/2100 [==============================] - 2s 1ms/sample - loss: 1.0075 - acc: 0.7262 - val_loss: 0.9787 - val_acc: 0.7414\n",
      "Epoch 17/200\n",
      "2048/2100 [============================>.] - ETA: 0s - loss: 0.9924 - acc: 0.7192\n",
      "Epoch 00017: val_loss did not improve from 0.97871\n",
      "2100/2100 [==============================] - 2s 1ms/sample - loss: 0.9918 - acc: 0.7200 - val_loss: 0.9853 - val_acc: 0.7157\n",
      "Epoch 18/200\n",
      "2048/2100 [============================>.] - ETA: 0s - loss: 0.9844 - acc: 0.7114\n",
      "Epoch 00018: val_loss did not improve from 0.97871\n",
      "2100/2100 [==============================] - 2s 1ms/sample - loss: 0.9842 - acc: 0.7119 - val_loss: 1.0239 - val_acc: 0.6686\n",
      "Epoch 19/200\n",
      "2048/2100 [============================>.] - ETA: 0s - loss: 0.9797 - acc: 0.7046\n",
      "Epoch 00019: val_loss improved from 0.97871 to 0.96332, saving model to /home/valborsf/Documents/UOC/PFMProject/MODELK1/BMODEL/Best_weightsModelK1_3.hdf5\n",
      "2100/2100 [==============================] - 2s 1ms/sample - loss: 0.9806 - acc: 0.7038 - val_loss: 0.9633 - val_acc: 0.7043\n",
      "Epoch 20/200\n",
      "2048/2100 [============================>.] - ETA: 0s - loss: 0.9474 - acc: 0.7197\n",
      "Epoch 00020: val_loss improved from 0.96332 to 0.91569, saving model to /home/valborsf/Documents/UOC/PFMProject/MODELK1/BMODEL/Best_weightsModelK1_3.hdf5\n",
      "2100/2100 [==============================] - 2s 1ms/sample - loss: 0.9482 - acc: 0.7190 - val_loss: 0.9157 - val_acc: 0.7486\n",
      "Epoch 21/200\n",
      "2048/2100 [============================>.] - ETA: 0s - loss: 0.9235 - acc: 0.7261\n",
      "Epoch 00021: val_loss improved from 0.91569 to 0.90097, saving model to /home/valborsf/Documents/UOC/PFMProject/MODELK1/BMODEL/Best_weightsModelK1_3.hdf5\n",
      "2100/2100 [==============================] - 2s 1ms/sample - loss: 0.9226 - acc: 0.7262 - val_loss: 0.9010 - val_acc: 0.7400\n",
      "Epoch 22/200\n",
      "2048/2100 [============================>.] - ETA: 0s - loss: 0.9075 - acc: 0.7344\n",
      "Epoch 00022: val_loss improved from 0.90097 to 0.89004, saving model to /home/valborsf/Documents/UOC/PFMProject/MODELK1/BMODEL/Best_weightsModelK1_3.hdf5\n",
      "2100/2100 [==============================] - 2s 1ms/sample - loss: 0.9081 - acc: 0.7338 - val_loss: 0.8900 - val_acc: 0.7429\n",
      "Epoch 23/200\n",
      "2048/2100 [============================>.] - ETA: 0s - loss: 0.8976 - acc: 0.7271\n",
      "Epoch 00023: val_loss improved from 0.89004 to 0.87580, saving model to /home/valborsf/Documents/UOC/PFMProject/MODELK1/BMODEL/Best_weightsModelK1_3.hdf5\n",
      "2100/2100 [==============================] - 2s 1ms/sample - loss: 0.8965 - acc: 0.7262 - val_loss: 0.8758 - val_acc: 0.7357\n",
      "Epoch 24/200\n",
      "2048/2100 [============================>.] - ETA: 0s - loss: 0.8820 - acc: 0.7314\n",
      "Epoch 00024: val_loss improved from 0.87580 to 0.85430, saving model to /home/valborsf/Documents/UOC/PFMProject/MODELK1/BMODEL/Best_weightsModelK1_3.hdf5\n",
      "2100/2100 [==============================] - 2s 1ms/sample - loss: 0.8829 - acc: 0.7310 - val_loss: 0.8543 - val_acc: 0.7614\n",
      "Epoch 25/200\n",
      "2048/2100 [============================>.] - ETA: 0s - loss: 0.8603 - acc: 0.7480\n",
      "Epoch 00025: val_loss improved from 0.85430 to 0.84132, saving model to /home/valborsf/Documents/UOC/PFMProject/MODELK1/BMODEL/Best_weightsModelK1_3.hdf5\n",
      "2100/2100 [==============================] - 2s 1ms/sample - loss: 0.8656 - acc: 0.7424 - val_loss: 0.8413 - val_acc: 0.7629\n",
      "Epoch 26/200\n",
      "2048/2100 [============================>.] - ETA: 0s - loss: 0.8712 - acc: 0.7295\n",
      "Epoch 00026: val_loss did not improve from 0.84132\n",
      "2100/2100 [==============================] - 2s 1ms/sample - loss: 0.8711 - acc: 0.7300 - val_loss: 0.8515 - val_acc: 0.7371\n",
      "Epoch 27/200\n",
      "2048/2100 [============================>.] - ETA: 0s - loss: 0.8602 - acc: 0.7241\n",
      "Epoch 00027: val_loss improved from 0.84132 to 0.82436, saving model to /home/valborsf/Documents/UOC/PFMProject/MODELK1/BMODEL/Best_weightsModelK1_3.hdf5\n",
      "2100/2100 [==============================] - 2s 1ms/sample - loss: 0.8587 - acc: 0.7248 - val_loss: 0.8244 - val_acc: 0.7614\n",
      "Epoch 28/200\n",
      "2048/2100 [============================>.] - ETA: 0s - loss: 0.8392 - acc: 0.7354\n",
      "Epoch 00028: val_loss improved from 0.82436 to 0.81510, saving model to /home/valborsf/Documents/UOC/PFMProject/MODELK1/BMODEL/Best_weightsModelK1_3.hdf5\n",
      "2100/2100 [==============================] - 2s 1ms/sample - loss: 0.8390 - acc: 0.7381 - val_loss: 0.8151 - val_acc: 0.7643\n",
      "Epoch 29/200\n",
      "2048/2100 [============================>.] - ETA: 0s - loss: 0.8418 - acc: 0.7339\n",
      "Epoch 00029: val_loss improved from 0.81510 to 0.81123, saving model to /home/valborsf/Documents/UOC/PFMProject/MODELK1/BMODEL/Best_weightsModelK1_3.hdf5\n",
      "2100/2100 [==============================] - 2s 1ms/sample - loss: 0.8431 - acc: 0.7314 - val_loss: 0.8112 - val_acc: 0.7543\n",
      "Epoch 30/200\n",
      "2048/2100 [============================>.] - ETA: 0s - loss: 0.8182 - acc: 0.7446\n",
      "Epoch 00030: val_loss improved from 0.81123 to 0.80277, saving model to /home/valborsf/Documents/UOC/PFMProject/MODELK1/BMODEL/Best_weightsModelK1_3.hdf5\n",
      "2100/2100 [==============================] - 2s 1ms/sample - loss: 0.8180 - acc: 0.7433 - val_loss: 0.8028 - val_acc: 0.7643\n",
      "Epoch 31/200\n",
      "2048/2100 [============================>.] - ETA: 0s - loss: 0.8128 - acc: 0.7422\n",
      "Epoch 00031: val_loss improved from 0.80277 to 0.79492, saving model to /home/valborsf/Documents/UOC/PFMProject/MODELK1/BMODEL/Best_weightsModelK1_3.hdf5\n",
      "2100/2100 [==============================] - 2s 1ms/sample - loss: 0.8125 - acc: 0.7419 - val_loss: 0.7949 - val_acc: 0.7743\n",
      "Epoch 32/200\n",
      "2048/2100 [============================>.] - ETA: 0s - loss: 0.8164 - acc: 0.7324\n",
      "Epoch 00032: val_loss did not improve from 0.79492\n",
      "2100/2100 [==============================] - 2s 1ms/sample - loss: 0.8149 - acc: 0.7338 - val_loss: 0.7972 - val_acc: 0.7729\n",
      "Epoch 33/200\n",
      "2048/2100 [============================>.] - ETA: 0s - loss: 0.8106 - acc: 0.7368\n",
      "Epoch 00033: val_loss improved from 0.79492 to 0.79325, saving model to /home/valborsf/Documents/UOC/PFMProject/MODELK1/BMODEL/Best_weightsModelK1_3.hdf5\n",
      "2100/2100 [==============================] - 2s 1ms/sample - loss: 0.8095 - acc: 0.7362 - val_loss: 0.7933 - val_acc: 0.7457\n"
     ]
    },
    {
     "name": "stdout",
     "output_type": "stream",
     "text": [
      "Epoch 34/200\n",
      "2048/2100 [============================>.] - ETA: 0s - loss: 0.8131 - acc: 0.7339\n",
      "Epoch 00034: val_loss did not improve from 0.79325\n",
      "2100/2100 [==============================] - 2s 1ms/sample - loss: 0.8136 - acc: 0.7329 - val_loss: 0.8208 - val_acc: 0.7100\n",
      "Epoch 35/200\n",
      "2048/2100 [============================>.] - ETA: 0s - loss: 0.8088 - acc: 0.7358\n",
      "Epoch 00035: val_loss improved from 0.79325 to 0.78237, saving model to /home/valborsf/Documents/UOC/PFMProject/MODELK1/BMODEL/Best_weightsModelK1_3.hdf5\n",
      "2100/2100 [==============================] - 2s 1ms/sample - loss: 0.8069 - acc: 0.7376 - val_loss: 0.7824 - val_acc: 0.7600\n",
      "Epoch 36/200\n",
      "2048/2100 [============================>.] - ETA: 0s - loss: 0.7837 - acc: 0.7368\n",
      "Epoch 00036: val_loss improved from 0.78237 to 0.76637, saving model to /home/valborsf/Documents/UOC/PFMProject/MODELK1/BMODEL/Best_weightsModelK1_3.hdf5\n",
      "2100/2100 [==============================] - 2s 1ms/sample - loss: 0.7835 - acc: 0.7371 - val_loss: 0.7664 - val_acc: 0.7700\n",
      "Epoch 37/200\n",
      "2048/2100 [============================>.] - ETA: 0s - loss: 0.7681 - acc: 0.7603\n",
      "Epoch 00037: val_loss improved from 0.76637 to 0.76237, saving model to /home/valborsf/Documents/UOC/PFMProject/MODELK1/BMODEL/Best_weightsModelK1_3.hdf5\n",
      "2100/2100 [==============================] - 2s 1ms/sample - loss: 0.7687 - acc: 0.7605 - val_loss: 0.7624 - val_acc: 0.7629\n",
      "Epoch 38/200\n",
      "2048/2100 [============================>.] - ETA: 0s - loss: 0.7698 - acc: 0.7510\n",
      "Epoch 00038: val_loss did not improve from 0.76237\n",
      "2100/2100 [==============================] - 2s 1ms/sample - loss: 0.7674 - acc: 0.7519 - val_loss: 0.7649 - val_acc: 0.7543\n",
      "Epoch 39/200\n",
      "2048/2100 [============================>.] - ETA: 0s - loss: 0.7601 - acc: 0.7500\n",
      "Epoch 00039: val_loss did not improve from 0.76237\n",
      "2100/2100 [==============================] - 2s 1ms/sample - loss: 0.7613 - acc: 0.7495 - val_loss: 0.7725 - val_acc: 0.7443\n",
      "Epoch 40/200\n",
      "2048/2100 [============================>.] - ETA: 0s - loss: 0.7681 - acc: 0.7432\n",
      "Epoch 00040: val_loss improved from 0.76237 to 0.75341, saving model to /home/valborsf/Documents/UOC/PFMProject/MODELK1/BMODEL/Best_weightsModelK1_3.hdf5\n",
      "2100/2100 [==============================] - 2s 1ms/sample - loss: 0.7703 - acc: 0.7419 - val_loss: 0.7534 - val_acc: 0.7586\n",
      "Epoch 41/200\n",
      "2048/2100 [============================>.] - ETA: 0s - loss: 0.7560 - acc: 0.7505\n",
      "Epoch 00041: val_loss improved from 0.75341 to 0.74864, saving model to /home/valborsf/Documents/UOC/PFMProject/MODELK1/BMODEL/Best_weightsModelK1_3.hdf5\n",
      "2100/2100 [==============================] - 2s 1ms/sample - loss: 0.7581 - acc: 0.7486 - val_loss: 0.7486 - val_acc: 0.7700\n",
      "Epoch 42/200\n",
      "2048/2100 [============================>.] - ETA: 0s - loss: 0.7462 - acc: 0.7578\n",
      "Epoch 00042: val_loss did not improve from 0.74864\n",
      "2100/2100 [==============================] - 2s 1ms/sample - loss: 0.7468 - acc: 0.7571 - val_loss: 0.7583 - val_acc: 0.7543\n",
      "Epoch 43/200\n",
      "2048/2100 [============================>.] - ETA: 0s - loss: 0.7454 - acc: 0.7500\n",
      "Epoch 00043: val_loss improved from 0.74864 to 0.74482, saving model to /home/valborsf/Documents/UOC/PFMProject/MODELK1/BMODEL/Best_weightsModelK1_3.hdf5\n",
      "2100/2100 [==============================] - 2s 1ms/sample - loss: 0.7431 - acc: 0.7519 - val_loss: 0.7448 - val_acc: 0.7629\n",
      "Epoch 44/200\n",
      "2048/2100 [============================>.] - ETA: 0s - loss: 0.7447 - acc: 0.7515\n",
      "Epoch 00044: val_loss did not improve from 0.74482\n",
      "2100/2100 [==============================] - 2s 1ms/sample - loss: 0.7437 - acc: 0.7505 - val_loss: 0.7585 - val_acc: 0.7500\n",
      "Epoch 45/200\n",
      "2048/2100 [============================>.] - ETA: 0s - loss: 0.7406 - acc: 0.7578\n",
      "Epoch 00045: val_loss improved from 0.74482 to 0.74050, saving model to /home/valborsf/Documents/UOC/PFMProject/MODELK1/BMODEL/Best_weightsModelK1_3.hdf5\n",
      "2100/2100 [==============================] - 2s 1ms/sample - loss: 0.7396 - acc: 0.7586 - val_loss: 0.7405 - val_acc: 0.7543\n",
      "Epoch 46/200\n",
      "2048/2100 [============================>.] - ETA: 0s - loss: 0.7404 - acc: 0.7598\n",
      "Epoch 00046: val_loss did not improve from 0.74050\n",
      "2100/2100 [==============================] - 2s 1ms/sample - loss: 0.7393 - acc: 0.7610 - val_loss: 0.7530 - val_acc: 0.7557\n",
      "Epoch 47/200\n",
      "2048/2100 [============================>.] - ETA: 0s - loss: 0.7340 - acc: 0.7485\n",
      "Epoch 00047: val_loss did not improve from 0.74050\n",
      "2100/2100 [==============================] - 2s 1ms/sample - loss: 0.7335 - acc: 0.7476 - val_loss: 0.7470 - val_acc: 0.7571\n",
      "Epoch 48/200\n",
      "2048/2100 [============================>.] - ETA: 0s - loss: 0.7301 - acc: 0.7593\n",
      "Epoch 00048: val_loss improved from 0.74050 to 0.72866, saving model to /home/valborsf/Documents/UOC/PFMProject/MODELK1/BMODEL/Best_weightsModelK1_3.hdf5\n",
      "2100/2100 [==============================] - 2s 1ms/sample - loss: 0.7295 - acc: 0.7600 - val_loss: 0.7287 - val_acc: 0.7600\n",
      "Epoch 49/200\n",
      "2048/2100 [============================>.] - ETA: 0s - loss: 0.7227 - acc: 0.7534\n",
      "Epoch 00049: val_loss did not improve from 0.72866\n",
      "2100/2100 [==============================] - 2s 1ms/sample - loss: 0.7209 - acc: 0.7557 - val_loss: 0.7397 - val_acc: 0.7514\n",
      "Epoch 50/200\n",
      "2048/2100 [============================>.] - ETA: 0s - loss: 0.7163 - acc: 0.7563\n",
      "Epoch 00050: val_loss improved from 0.72866 to 0.71839, saving model to /home/valborsf/Documents/UOC/PFMProject/MODELK1/BMODEL/Best_weightsModelK1_3.hdf5\n",
      "2100/2100 [==============================] - 2s 1ms/sample - loss: 0.7151 - acc: 0.7590 - val_loss: 0.7184 - val_acc: 0.7700\n",
      "Epoch 51/200\n",
      "2048/2100 [============================>.] - ETA: 0s - loss: 0.7107 - acc: 0.7622\n",
      "Epoch 00051: val_loss did not improve from 0.71839\n",
      "2100/2100 [==============================] - 2s 1ms/sample - loss: 0.7128 - acc: 0.7610 - val_loss: 0.7205 - val_acc: 0.7600\n",
      "Epoch 52/200\n",
      "2048/2100 [============================>.] - ETA: 0s - loss: 0.7217 - acc: 0.7549\n",
      "Epoch 00052: val_loss did not improve from 0.71839\n",
      "2100/2100 [==============================] - 2s 1ms/sample - loss: 0.7198 - acc: 0.7567 - val_loss: 0.7649 - val_acc: 0.7186\n",
      "Epoch 53/200\n",
      "2048/2100 [============================>.] - ETA: 0s - loss: 0.7179 - acc: 0.7603\n",
      "Epoch 00053: val_loss did not improve from 0.71839\n",
      "2100/2100 [==============================] - 2s 1ms/sample - loss: 0.7165 - acc: 0.7610 - val_loss: 0.7263 - val_acc: 0.7443\n",
      "Epoch 54/200\n",
      "2048/2100 [============================>.] - ETA: 0s - loss: 0.7087 - acc: 0.7686\n",
      "Epoch 00054: val_loss did not improve from 0.71839\n",
      "2100/2100 [==============================] - 2s 1ms/sample - loss: 0.7083 - acc: 0.7700 - val_loss: 0.7195 - val_acc: 0.7529\n",
      "Epoch 00054: early stopping\n",
      "Time spent in training :00:02:06\n"
     ]
    }
   ],
   "source": [
    "# Model fit\n",
    "epochs= 200\n",
    "batch_size = 128\n",
    "import time\n",
    "start_time = time.time()\n",
    "history = model.fit (train_image_tensor, \n",
    "           train_label_tensor, \n",
    "           epochs = epochs, \n",
    "           batch_size = batch_size, \n",
    "           callbacks=callbacks_list,\n",
    "           validation_data =( val_image_tensor,val_label_tensor))\n",
    "\n",
    "elapsed_time = time.time() - start_time\n",
    "\n",
    "print( time.strftime('Time spent in training :'\"%H:%M:%S\", time.gmtime(elapsed_time)))\n",
    "\n",
    "save_model(model, history, model_bin_dir, Model_name)"
   ]
  },
  {
   "cell_type": "code",
   "execution_count": 18,
   "metadata": {},
   "outputs": [],
   "source": [
    "# Import Model Test if not need to Train \n",
    "if not TRAIN :\n",
    "    model = model_load ( model_bin_dir, Model_name)"
   ]
  },
  {
   "cell_type": "code",
   "execution_count": 19,
   "metadata": {},
   "outputs": [
    {
     "data": {
      "image/png": "[encoded data removed]",
      "text/plain": [
       "<Figure size 432x288 with 1 Axes>"
      ]
     },
     "metadata": {
      "needs_background": "light"
     },
     "output_type": "display_data"
    },
    {
     "data": {
      "image/png": "[encoded data removed]",
      "text/plain": [
       "<Figure size 432x288 with 1 Axes>"
      ]
     },
     "metadata": {
      "needs_background": "light"
     },
     "output_type": "display_data"
    }
   ],
   "source": [
    "# Display curves of loss and accuracy during training and save results \n",
    "plot_save_acc_loss(results_dir, history.history, Model_name)"
   ]
  },
  {
   "cell_type": "code",
   "execution_count": 20,
   "metadata": {},
   "outputs": [
    {
     "name": "stdout",
     "output_type": "stream",
     "text": [
      "Executing op VarHandleOp in device /job:localhost/replica:0/task:0/device:GPU:0\n",
      "Executing op Fill in device /job:localhost/replica:0/task:0/device:GPU:0\n",
      "Executing op VarHandleOp in device /job:localhost/replica:0/task:0/device:GPU:0\n",
      "Executing op VarHandleOp in device /job:localhost/replica:0/task:0/device:GPU:0\n",
      "Executing op VarHandleOp in device /job:localhost/replica:0/task:0/device:GPU:0\n",
      "Executing op VarHandleOp in device /job:localhost/replica:0/task:0/device:GPU:0\n",
      "Executing op VarHandleOp in device /job:localhost/replica:0/task:0/device:GPU:0\n",
      "Executing op VarHandleOp in device /job:localhost/replica:0/task:0/device:GPU:0\n",
      "Executing op VarHandleOp in device /job:localhost/replica:0/task:0/device:GPU:0\n",
      "Executing op VarHandleOp in device /job:localhost/replica:0/task:0/device:GPU:0\n",
      "Executing op VarHandleOp in device /job:localhost/replica:0/task:0/device:GPU:0\n",
      "Executing op VarHandleOp in device /job:localhost/replica:0/task:0/device:GPU:0\n",
      "Executing op Reshape in device /job:localhost/replica:0/task:0/device:GPU:0\n",
      "Executing op VarHandleOp in device /job:localhost/replica:0/task:0/device:GPU:0\n"
     ]
    }
   ],
   "source": [
    "# Load Model \n",
    "# Load weights \n",
    "\n",
    "#model = build_model()\n",
    "#model.load_weights('my_weights.model')\n",
    "TRAIN = False\n",
    "if not TRAIN :\n",
    "    Model_name = \"ModelK7_2\"\n",
    "    model = model_load ( model_bin_dir, Model_name)\n",
    "    model.load_weights(model_bin_dir+\"Best_weights\"+Model_name+\".hdf5\")"
   ]
  },
  {
   "cell_type": "code",
   "execution_count": 21,
   "metadata": {},
   "outputs": [
    {
     "name": "stdout",
     "output_type": "stream",
     "text": [
      "(700, 150, 150, 3)\n"
     ]
    }
   ],
   "source": [
    "# Create tensors from images\n",
    "# Load Images \n",
    "\n",
    "# This step is very time consuming !!!!!!!\n",
    "test_image_tensor  = load_images_tf(dftest,height_imag,width_imag)"
   ]
  },
  {
   "cell_type": "code",
   "execution_count": 22,
   "metadata": {},
   "outputs": [],
   "source": [
    "# Define the label tensor\n",
    "test_label_tensor = create_label_tensor(dftest)"
   ]
  },
  {
   "cell_type": "code",
   "execution_count": 23,
   "metadata": {},
   "outputs": [
    {
     "name": "stdout",
     "output_type": "stream",
     "text": [
      "Executing op MapDataset in device /job:localhost/replica:0/task:0/device:CPU:0\n",
      "Executing op FlatMapDataset in device /job:localhost/replica:0/task:0/device:CPU:0\n",
      "Executing op ParallelMapDataset in device /job:localhost/replica:0/task:0/device:CPU:0\n",
      "Executing op __inference_distributed_function_48935 in device /job:localhost/replica:0/task:0/device:GPU:0\n",
      "700/1 - 1s - loss: 0.7253 - acc: 0.7600\n"
     ]
    }
   ],
   "source": [
    "#  ROC /AUC\n",
    "scores = model.evaluate(test_image_tensor, test_label_tensor, verbose=2)"
   ]
  },
  {
   "cell_type": "code",
   "execution_count": 24,
   "metadata": {},
   "outputs": [
    {
     "data": {
      "text/plain": [
       "[0.7297748075212751, 0.76]"
      ]
     },
     "execution_count": 24,
     "metadata": {},
     "output_type": "execute_result"
    }
   ],
   "source": [
    "model.metrics_names\n",
    "scores"
   ]
  },
  {
   "cell_type": "code",
   "execution_count": 26,
   "metadata": {},
   "outputs": [],
   "source": [
    "# Loss 0.73  Acc=0.76"
   ]
  },
  {
   "cell_type": "code",
   "execution_count": 27,
   "metadata": {},
   "outputs": [
    {
     "name": "stdout",
     "output_type": "stream",
     "text": [
      "Executing op MapDataset in device /job:localhost/replica:0/task:0/device:CPU:0\n",
      "Executing op FlatMapDataset in device /job:localhost/replica:0/task:0/device:CPU:0\n",
      "Executing op TensorDataset in device /job:localhost/replica:0/task:0/device:CPU:0\n",
      "Executing op RepeatDataset in device /job:localhost/replica:0/task:0/device:CPU:0\n",
      "Executing op ZipDataset in device /job:localhost/replica:0/task:0/device:CPU:0\n",
      "Executing op ParallelMapDataset in device /job:localhost/replica:0/task:0/device:CPU:0\n",
      "Executing op ModelDataset in device /job:localhost/replica:0/task:0/device:CPU:0\n",
      "Executing op AnonymousIteratorV2 in device /job:localhost/replica:0/task:0/device:CPU:0\n",
      "Executing op __inference_distributed_function_49112 in device /job:localhost/replica:0/task:0/device:GPU:0\n"
     ]
    }
   ],
   "source": [
    "# Compute predictions\n",
    "# This takes time !!!!!!!!!!!!!!!!!!!!!!!!!!!!!!!!!\n",
    "y_pred_keras = model.predict(test_image_tensor).ravel()   # y_pred_probabilities\n",
    "y_pred = y_pred_keras > 0.5                                # y_pred_class : if >0.5  = True => Malignant\n",
    "y_test = dftest.bm.astype('category').cat.codes            # Ground truth \n",
    "class_labels= dftest.bm.unique()                           # Labels of ground truth \n"
   ]
  },
  {
   "cell_type": "code",
   "execution_count": 28,
   "metadata": {},
   "outputs": [
    {
     "name": "stdout",
     "output_type": "stream",
     "text": [
      "Metrics ModelK1_3\n",
      "===========================================\n",
      "Confusion Matrix:\n",
      "[[225 115]\n",
      " [ 53 307]]\n",
      "+----------------------------+-------------+\n",
      "|            Type            |  # samples  |\n",
      "+============================+=============+\n",
      "| True Positives- Malignants | 307         |\n",
      "+----------------------------+-------------+\n",
      "| True Negatives- Benign     | 225         |\n",
      "+----------------------------+-------------+\n",
      "| False Positive             | 115         |\n",
      "+----------------------------+-------------+\n",
      "| False Negative             | 53          |\n",
      "+----------------------------+-------------+\n",
      "Summary classification Report: \n",
      "              precision    recall  f1-score   support\n",
      "\n",
      "   malignant       0.81      0.66      0.73       340\n",
      "      benign       0.73      0.85      0.79       360\n",
      "\n",
      "    accuracy                           0.76       700\n",
      "   macro avg       0.77      0.76      0.76       700\n",
      "weighted avg       0.77      0.76      0.76       700\n",
      "\n",
      "+-------------+---------+\n",
      "|   Metrics   |         |\n",
      "+=============+=========+\n",
      "| Accuracy    | 0.760   |\n",
      "+-------------+---------+\n",
      "| Sensitivity | 0.850   |\n",
      "+-------------+---------+\n",
      "| Specificity | 0.660   |\n",
      "+-------------+---------+\n",
      "| AUC         | 0.840   |\n",
      "+-------------+---------+\n"
     ]
    },
    {
     "data": {
      "image/png": "[encoded data removed]",
      "text/plain": [
       "<Figure size 432x288 with 1 Axes>"
      ]
     },
     "metadata": {
      "needs_background": "light"
     },
     "output_type": "display_data"
    },
    {
     "data": {
      "image/png": "[encoded data removed]",
      "text/plain": [
       "<Figure size 432x288 with 1 Axes>"
      ]
     },
     "metadata": {
      "needs_background": "light"
     },
     "output_type": "display_data"
    }
   ],
   "source": [
    "#Print Metrics + Confusion ROC AUC\n",
    "confusion_ROC_AUC ( y_test, y_pred, y_pred_keras, class_labels, results_dir, Model_name )"
   ]
  },
  {
   "cell_type": "code",
   "execution_count": null,
   "metadata": {},
   "outputs": [],
   "source": [
    "tf.keras.backend.clear_session()  # Reset"
   ]
  }
 ],
 "metadata": {
  "accelerator": "GPU",
  "colab": {
   "collapsed_sections": [],
   "name": "Preprocess_Fit4.ipynb",
   "provenance": []
  },
  "kernelspec": {
   "display_name": "“gpu2”",
   "language": "python",
   "name": "gpu2"
  },
  "language_info": {
   "codemirror_mode": {
    "name": "ipython",
    "version": 3
   },
   "file_extension": ".py",
   "mimetype": "text/x-python",
   "name": "python",
   "nbconvert_exporter": "python",
   "pygments_lexer": "ipython3",
   "version": "3.7.5"
  }
 },
 "nbformat": 4,
 "nbformat_minor": 1
}

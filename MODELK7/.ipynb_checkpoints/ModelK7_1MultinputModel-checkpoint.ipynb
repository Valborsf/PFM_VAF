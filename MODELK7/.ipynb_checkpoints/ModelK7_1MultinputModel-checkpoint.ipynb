{
 "cells": [
  {
   "cell_type": "markdown",
   "metadata": {
    "colab_type": "text",
    "id": "Ur34g7Fbi5lr"
   },
   "source": [
    "# Notebook- Multi input Model   \n",
    "# Author : V.Albors   Date : 07.02.2020\n",
    "# Purpose : Test Multi input Model   \n",
    "\n",
    "\n",
    "**Input** :  \n",
    "  * CSV files that identify the images to use as train and validation. CSV files are in directory csv_dir   \n",
    "  * Images from train and validation. Images are in directory : imag_dir  \n",
    "  * Saved model. Model is in directory : model_bin_dir  \n",
    "  \n",
    "**Output**:  \n",
    "  * JMODEL dir - Json network model\n",
    "  * BMODEL dir - Optimum model with weights\n",
    "  * RESULTS dir - Print of Network architecture \n",
    "                - Train and Validation Accuracy and Loss Curves\n",
    "                - Metrics of the Model \n",
    "  \n",
    "\n",
    "**Process**:  \n",
    " * Read Train and Validation images ( identified in the .csv files ) from the imag_dir directory   \n",
    " * Read Train & Validation clinical variables \n",
    " * Create a train and validation input & label tensors (no augmentation)\n",
    " * Define the architecture of the Multi input model : \n",
    "                        Dense Module to train the clinical input\n",
    "                        Covent Module to train the Images\n",
    "                        Merging module to merge clinical + Images\n",
    "                        Dense layers \n",
    "                        Classifier module to class : Benign (0) or Malignant (1)\n",
    " * Train the model with the train dataset with callbacks (  ModuleCheckPoint ) ( Batch size 128 ) \n",
    " * Save the trained model and history of the model in directory model_bin_dir \n",
    " * Paint the Accuracy and Loss curves\n",
    " * Create results : Metrics \n",
    " \n",
    "\n"
   ]
  },
  {
   "cell_type": "code",
   "execution_count": 1,
   "metadata": {},
   "outputs": [],
   "source": [
    "from __future__ import absolute_import, division, print_function, unicode_literals\n",
    "import tensorflow as tf\n",
    "\n",
    "tf.keras.backend.clear_session()  # Reset"
   ]
  },
  {
   "cell_type": "code",
   "execution_count": 2,
   "metadata": {},
   "outputs": [
    {
     "name": "stdout",
     "output_type": "stream",
     "text": [
      "Num GPUs Available:  1\n"
     ]
    }
   ],
   "source": [
    "import tensorflow as tf\n",
    "print(\"Num GPUs Available: \", len(tf.config.experimental.list_physical_devices('GPU')))\n",
    "tf.config.experimental.list_physical_devices('GPU') \n",
    "physical_devices = tf.config.experimental.list_physical_devices('GPU')\n",
    "assert len(physical_devices) > 0, \"Not enough GPU hardware devices available\"\n",
    "tf.config.experimental.set_memory_growth(physical_devices[0], True)\n",
    "tf.debugging.set_log_device_placement(True)\n",
    "tf.keras.backend.clear_session()"
   ]
  },
  {
   "cell_type": "code",
   "execution_count": 3,
   "metadata": {},
   "outputs": [],
   "source": [
    "# Define the name of the model \n",
    "Model_directory = \"MODELK7\"\n",
    "Model_name = \"ModelK7_1\"\n",
    "TRAIN = True"
   ]
  },
  {
   "cell_type": "code",
   "execution_count": 4,
   "metadata": {},
   "outputs": [
    {
     "name": "stdout",
     "output_type": "stream",
     "text": [
      "['confusion_ROC_AUC', 'create_column_tensor', 'create_label_tensor', 'create_val_test', 'define_dirs', 'extract_images_bm', 'extract_images_train', 'load_hist_model', 'load_images', 'load_images_tf', 'model_load', 'plot_save_acc_loss', 'print_network', 'process_clinical_info', 'read_dataframes', 'read_dataframes_tables', 'reproducible_results', 'save_model', 'save_network_json', 'start', 'stop', 'to_one_hot', 'to_one_hot_words', 'xi_squared']\n"
     ]
    }
   ],
   "source": [
    "# Import routines\n",
    "import sys  \n",
    "subrc_dir = \"/home/valborsf/Documents/UOC/PFMProject/\"\n",
    "\n",
    "\n",
    "sys.path.append(subrc_dir)  \n",
    "from  Models_routines import *\n",
    "import inspect\n",
    "\n",
    "# List functions inside the module\n",
    "import Models_routines as module\n",
    "functions = inspect.getmembers(module, inspect.isfunction)\n",
    "lsfunctions = [item[0] for item in functions]\n",
    "print ( lsfunctions )"
   ]
  },
  {
   "cell_type": "code",
   "execution_count": 5,
   "metadata": {},
   "outputs": [],
   "source": [
    "# Reproducible results \n",
    "reproducible_results ()"
   ]
  },
  {
   "cell_type": "code",
   "execution_count": 6,
   "metadata": {},
   "outputs": [],
   "source": [
    "# Define directories\n",
    "(root_dir,json_dir,imag_dir,csv_dir,model_json_dir,model_bin_dir,results_dir,Tensor_dir) = define_dirs(Model_directory)"
   ]
  },
  {
   "cell_type": "code",
   "execution_count": 7,
   "metadata": {},
   "outputs": [],
   "source": [
    "# New dataset without SONIC disturbing images\n",
    "json_dir =  root_dir +\"/DataNew/ALL_JSON/\"                # .json dir images\n",
    "imag_dir =  root_dir +\"/DataNew/ALL_IMAGES/\"              # .png dir - images\n",
    "\n",
    "# directories for  CSV's\n",
    "csv_dir =  root_dir +\"/DataNew4/CSV/\"                      # .csv dir - dftrain, dfval, dftest"
   ]
  },
  {
   "cell_type": "code",
   "execution_count": 8,
   "metadata": {},
   "outputs": [
    {
     "name": "stdout",
     "output_type": "stream",
     "text": [
      "/home/valborsf/Documents/UOC/PFMProject/DataNew4/CSV/\n"
     ]
    }
   ],
   "source": [
    "# Load train,validation & Test \n",
    "(dftrain, dfval, dftest) = read_dataframes(csv_dir)"
   ]
  },
  {
   "cell_type": "code",
   "execution_count": 9,
   "metadata": {},
   "outputs": [],
   "source": [
    "# Define the label tensor\n",
    "train_label_tensor = create_label_tensor(dftrain)\n",
    "val_label_tensor = create_label_tensor(dfval)\n",
    "#test_label_tensor = create_label_tensor(dftest)"
   ]
  },
  {
   "cell_type": "code",
   "execution_count": 11,
   "metadata": {},
   "outputs": [
    {
     "name": "stdout",
     "output_type": "stream",
     "text": [
      "(2100, 150, 150, 3)\n",
      "(700, 150, 150, 3)\n"
     ]
    }
   ],
   "source": [
    "# Create tensors from images\n",
    "# Load Images \n",
    "height_imag = 150 \n",
    "width_imag = 150\n",
    "# This step is very time consuming !!!!!!!\n",
    "train_image_tensor  = load_images_tf(dftrain,height_imag,width_imag)\n",
    "val_image_tensor  = load_images_tf(dfval,height_imag,width_imag)\n",
    "#test_image_tensor  = load_images(dftest,height_imag,width_imag)"
   ]
  },
  {
   "cell_type": "code",
   "execution_count": 12,
   "metadata": {},
   "outputs": [],
   "source": [
    "# Process the clinical information \n",
    "#  1. min-max scaling on continuous features  ( age )\n",
    "#  2. one-hot encoding on categorical features,  (sex, region)\n",
    "train_clinical_tensor = process_clinical_info(dftrain)\n",
    "val_clinical_tensor = process_clinical_info(dfval)\n",
    "#test_clinical_tensor = process_clinical_info(dftest)\n"
   ]
  },
  {
   "cell_type": "code",
   "execution_count": 13,
   "metadata": {},
   "outputs": [
    {
     "name": "stdout",
     "output_type": "stream",
     "text": [
      "Executing op RandomUniform in device /job:localhost/replica:0/task:0/device:GPU:0\n",
      "Executing op Sub in device /job:localhost/replica:0/task:0/device:GPU:0\n",
      "Executing op Mul in device /job:localhost/replica:0/task:0/device:GPU:0\n",
      "Executing op Add in device /job:localhost/replica:0/task:0/device:GPU:0\n",
      "Executing op VarHandleOp in device /job:localhost/replica:0/task:0/device:GPU:0\n",
      "Executing op VarIsInitializedOp in device /job:localhost/replica:0/task:0/device:GPU:0\n",
      "Executing op LogicalNot in device /job:localhost/replica:0/task:0/device:GPU:0\n",
      "Executing op Assert in device /job:localhost/replica:0/task:0/device:GPU:0\n",
      "Executing op AssignVariableOp in device /job:localhost/replica:0/task:0/device:GPU:0\n",
      "Executing op Fill in device /job:localhost/replica:0/task:0/device:GPU:0\n",
      "Executing op VarHandleOp in device /job:localhost/replica:0/task:0/device:GPU:0\n",
      "Executing op VarHandleOp in device /job:localhost/replica:0/task:0/device:GPU:0\n",
      "Executing op VarHandleOp in device /job:localhost/replica:0/task:0/device:GPU:0\n",
      "Executing op VarHandleOp in device /job:localhost/replica:0/task:0/device:GPU:0\n",
      "Executing op VarHandleOp in device /job:localhost/replica:0/task:0/device:GPU:0\n",
      "Executing op VarHandleOp in device /job:localhost/replica:0/task:0/device:GPU:0\n",
      "Executing op VarHandleOp in device /job:localhost/replica:0/task:0/device:GPU:0\n",
      "Executing op VarHandleOp in device /job:localhost/replica:0/task:0/device:GPU:0\n",
      "Executing op VarHandleOp in device /job:localhost/replica:0/task:0/device:GPU:0\n",
      "Executing op VarHandleOp in device /job:localhost/replica:0/task:0/device:GPU:0\n",
      "Executing op Reshape in device /job:localhost/replica:0/task:0/device:GPU:0\n",
      "Executing op VarHandleOp in device /job:localhost/replica:0/task:0/device:GPU:0\n"
     ]
    }
   ],
   "source": [
    "#import keras\n",
    "from tensorflow.keras.models import Model\n",
    "from tensorflow.keras import layers\n",
    "from tensorflow.keras import Input\n",
    "from tensorflow.keras import regularizers\n",
    "from tensorflow.keras.callbacks import ModelCheckpoint\n",
    "\n",
    "\n",
    "# Model 1 : Age and Sex to predict Melanoma\n",
    "clinical_inputs = Input(shape=( train_clinical_tensor.shape[1],))\n",
    "\n",
    "# Release 2.0\n",
    "# Eliminate the next two lines !!!!\n",
    "#---------------------------------------------------------\n",
    "\n",
    "#m1 = layers.Dense (32, activation='relu')(clinical_inputs)\n",
    "#output_clinical= layers.Dense (16, activation='relu')(m1)\n",
    "\n",
    "# Model 2 : Image to Predict Melanoma\n",
    "\n",
    "image_inputs = Input(shape=(height_imag,width_imag,3))\n",
    "m2 = layers.Conv2D(32, (3,3), activation='relu')(image_inputs)\n",
    "m2 = layers.MaxPooling2D((2,2))(m2)\n",
    "m2 = layers.Conv2D(64, (3,3), activation='relu')(m2)\n",
    "m2 = layers.MaxPooling2D((2,2))(m2)\n",
    "m2 = layers.Conv2D(128, (3,3), activation='relu')(m2)\n",
    "m2 = layers.MaxPooling2D((4,4))(m2)                               # <- Max pooling 4,4\n",
    "m2 = layers.Flatten()(m2)\n",
    "output_image = layers.Dense (512, activation='relu')(m2)\n",
    "\n",
    "\n",
    "# Release 2.0  Uncomment concatenate and comment next concatenated\n",
    "# Concatenate models  !!!!!\n",
    "concatenated = layers.concatenate ( [clinical_inputs,output_image ], axis=-1)\n",
    "#--------------------------------------------------------------------------------\n",
    "\n",
    "# Release 1.0\n",
    "#concatenated = layers.concatenate ( [output_clinical,output_image ], axis=-1)\n",
    "\n",
    "# Release 2.0  Add 2 more dense layers  !!!!!\n",
    "#---------------------------------------------\n",
    "\n",
    "m2 = layers.Dense(512, activation='relu')(concatenated)\n",
    "m2 = layers.Dropout(0.2)(m2)                                  # Dropout\n",
    "m2 = layers.Dense(128, activation='relu')(m2)\n",
    "\n",
    "benign_malign = layers.Dense (1, activation='sigmoid')(m2)\n",
    "\n",
    "# Add classifier on top \n",
    "#benign_malign = layers.Dense (1, activation='sigmoid')(concatenated)\n",
    "\n",
    "# Model instantiation\n",
    "model = Model([clinical_inputs,image_inputs],benign_malign)\n",
    "\n"
   ]
  },
  {
   "cell_type": "code",
   "execution_count": 14,
   "metadata": {},
   "outputs": [
    {
     "name": "stdout",
     "output_type": "stream",
     "text": [
      "Model: \"model\"\n",
      "__________________________________________________________________________________________________\n",
      "Layer (type)                    Output Shape         Param #     Connected to                     \n",
      "==================================================================================================\n",
      "input_2 (InputLayer)            [(None, 150, 150, 3) 0                                            \n",
      "__________________________________________________________________________________________________\n",
      "conv2d (Conv2D)                 (None, 148, 148, 32) 896         input_2[0][0]                    \n",
      "__________________________________________________________________________________________________\n",
      "max_pooling2d (MaxPooling2D)    (None, 74, 74, 32)   0           conv2d[0][0]                     \n",
      "__________________________________________________________________________________________________\n",
      "conv2d_1 (Conv2D)               (None, 72, 72, 64)   18496       max_pooling2d[0][0]              \n",
      "__________________________________________________________________________________________________\n",
      "max_pooling2d_1 (MaxPooling2D)  (None, 36, 36, 64)   0           conv2d_1[0][0]                   \n",
      "__________________________________________________________________________________________________\n",
      "conv2d_2 (Conv2D)               (None, 34, 34, 128)  73856       max_pooling2d_1[0][0]            \n",
      "__________________________________________________________________________________________________\n",
      "max_pooling2d_2 (MaxPooling2D)  (None, 8, 8, 128)    0           conv2d_2[0][0]                   \n",
      "__________________________________________________________________________________________________\n",
      "flatten (Flatten)               (None, 8192)         0           max_pooling2d_2[0][0]            \n",
      "__________________________________________________________________________________________________\n",
      "input_1 (InputLayer)            [(None, 3)]          0                                            \n",
      "__________________________________________________________________________________________________\n",
      "dense (Dense)                   (None, 512)          4194816     flatten[0][0]                    \n",
      "__________________________________________________________________________________________________\n",
      "concatenate (Concatenate)       (None, 515)          0           input_1[0][0]                    \n",
      "                                                                 dense[0][0]                      \n",
      "__________________________________________________________________________________________________\n",
      "dense_1 (Dense)                 (None, 512)          264192      concatenate[0][0]                \n",
      "__________________________________________________________________________________________________\n",
      "dropout (Dropout)               (None, 512)          0           dense_1[0][0]                    \n",
      "__________________________________________________________________________________________________\n",
      "dense_2 (Dense)                 (None, 128)          65664       dropout[0][0]                    \n",
      "__________________________________________________________________________________________________\n",
      "dense_3 (Dense)                 (None, 1)            129         dense_2[0][0]                    \n",
      "==================================================================================================\n",
      "Total params: 4,618,049\n",
      "Trainable params: 4,618,049\n",
      "Non-trainable params: 0\n",
      "__________________________________________________________________________________________________\n"
     ]
    }
   ],
   "source": [
    "model.summary()"
   ]
  },
  {
   "cell_type": "code",
   "execution_count": 15,
   "metadata": {},
   "outputs": [],
   "source": [
    "#Print Network \n",
    "print_network (results_dir, model, Model_name)\n",
    "#Save Network \n",
    "save_network_json (model_json_dir, model, Model_name)"
   ]
  },
  {
   "cell_type": "code",
   "execution_count": 16,
   "metadata": {},
   "outputs": [
    {
     "name": "stdout",
     "output_type": "stream",
     "text": [
      "Executing op VarHandleOp in device /job:localhost/replica:0/task:0/device:GPU:0\n"
     ]
    }
   ],
   "source": [
    "# Model Compile\n",
    "from tensorflow.keras import optimizers\n",
    "\n",
    "model.compile ( loss='binary_crossentropy',\n",
    "#               optimizer = optimizers.RMSprop(lr=1e-4),\n",
    "               optimizer = optimizers.Adam(lr=1e-4),\n",
    "               metrics= ['acc'])"
   ]
  },
  {
   "cell_type": "code",
   "execution_count": 17,
   "metadata": {},
   "outputs": [],
   "source": [
    "# Callbacks\n",
    "callbacks_list = [\n",
    "# EarlyStopping\n",
    "         tf.keras.callbacks.EarlyStopping (\n",
    "             monitor = 'val_loss',             # Monitors the accuracy\n",
    "             patience = 6,),              # Interrupt if acc no improve in 3 epochs\n",
    "\n",
    "#  ModelCheckpoint to store the weights of the best performing epoch. \n",
    "    \n",
    "         tf.keras.callbacks.ModelCheckpoint(filepath=model_bin_dir+\"Best_weights\"+Model_name+\".hdf5\", \n",
    "             monitor = 'val_loss', # Won't overwritte the model file unless val_loss has\n",
    "             verbose=1,            # improve \n",
    "             save_best_only=True),\n",
    "         \n",
    "#         keras.callbacks.TensorBoard(\n",
    "#             log_dir =  Tensor_dir, \n",
    "#            histogram_freq = 1,\n",
    "#            )\n",
    "                ]"
   ]
  },
  {
   "cell_type": "code",
   "execution_count": 18,
   "metadata": {},
   "outputs": [
    {
     "name": "stdout",
     "output_type": "stream",
     "text": [
      "Executing op RangeDataset in device /job:localhost/replica:0/task:0/device:CPU:0\n",
      "Executing op RepeatDataset in device /job:localhost/replica:0/task:0/device:CPU:0\n",
      "Executing op MapDataset in device /job:localhost/replica:0/task:0/device:CPU:0\n",
      "Executing op PrefetchDataset in device /job:localhost/replica:0/task:0/device:CPU:0\n",
      "Executing op FlatMapDataset in device /job:localhost/replica:0/task:0/device:CPU:0\n",
      "Executing op TensorDataset in device /job:localhost/replica:0/task:0/device:CPU:0\n",
      "Executing op RepeatDataset in device /job:localhost/replica:0/task:0/device:CPU:0\n",
      "Executing op ZipDataset in device /job:localhost/replica:0/task:0/device:CPU:0\n",
      "Executing op ParallelMapDataset in device /job:localhost/replica:0/task:0/device:CPU:0\n",
      "Executing op MapDataset in device /job:localhost/replica:0/task:0/device:CPU:0\n",
      "Executing op PrefetchDataset in device /job:localhost/replica:0/task:0/device:CPU:0\n",
      "Executing op FlatMapDataset in device /job:localhost/replica:0/task:0/device:CPU:0\n",
      "Executing op TensorDataset in device /job:localhost/replica:0/task:0/device:CPU:0\n",
      "Executing op RepeatDataset in device /job:localhost/replica:0/task:0/device:CPU:0\n",
      "Executing op ZipDataset in device /job:localhost/replica:0/task:0/device:CPU:0\n",
      "Executing op ParallelMapDataset in device /job:localhost/replica:0/task:0/device:CPU:0\n",
      "Executing op DatasetCardinality in device /job:localhost/replica:0/task:0/device:CPU:0\n",
      "Train on 2100 samples, validate on 700 samples\n",
      "Epoch 1/200\n",
      "Executing op ModelDataset in device /job:localhost/replica:0/task:0/device:CPU:0\n",
      "Executing op AnonymousIteratorV2 in device /job:localhost/replica:0/task:0/device:CPU:0\n",
      "Executing op MakeIterator in device /job:localhost/replica:0/task:0/device:CPU:0\n",
      "Executing op VarHandleOp in device /job:localhost/replica:0/task:0/device:GPU:0\n",
      "Executing op AssignVariableOp in device /job:localhost/replica:0/task:0/device:GPU:0\n",
      "Executing op VarHandleOp in device /job:localhost/replica:0/task:0/device:GPU:0\n",
      "Executing op VarHandleOp in device /job:localhost/replica:0/task:0/device:GPU:0\n",
      "Executing op VarHandleOp in device /job:localhost/replica:0/task:0/device:GPU:0\n",
      "Executing op VarHandleOp in device /job:localhost/replica:0/task:0/device:GPU:0\n",
      "Executing op VarHandleOp in device /job:localhost/replica:0/task:0/device:GPU:0\n",
      "Executing op LogicalNot in device /job:localhost/replica:0/task:0/device:GPU:0\n",
      "Executing op Assert in device /job:localhost/replica:0/task:0/device:GPU:0\n",
      "Executing op VarHandleOp in device /job:localhost/replica:0/task:0/device:GPU:0\n",
      "Executing op VarHandleOp in device /job:localhost/replica:0/task:0/device:GPU:0\n",
      "Executing op VarHandleOp in device /job:localhost/replica:0/task:0/device:GPU:0\n",
      "Executing op VarHandleOp in device /job:localhost/replica:0/task:0/device:GPU:0\n",
      "Executing op VarHandleOp in device /job:localhost/replica:0/task:0/device:GPU:0\n",
      "Executing op VarHandleOp in device /job:localhost/replica:0/task:0/device:GPU:0\n",
      "Executing op VarHandleOp in device /job:localhost/replica:0/task:0/device:GPU:0\n",
      "Executing op VarHandleOp in device /job:localhost/replica:0/task:0/device:GPU:0\n",
      "Executing op VarHandleOp in device /job:localhost/replica:0/task:0/device:GPU:0\n",
      "Executing op VarHandleOp in device /job:localhost/replica:0/task:0/device:GPU:0\n",
      "Executing op VarHandleOp in device /job:localhost/replica:0/task:0/device:GPU:0\n",
      "Executing op VarHandleOp in device /job:localhost/replica:0/task:0/device:GPU:0\n",
      "Executing op VarHandleOp in device /job:localhost/replica:0/task:0/device:GPU:0\n",
      "Executing op VarHandleOp in device /job:localhost/replica:0/task:0/device:GPU:0\n",
      "Executing op VarHandleOp in device /job:localhost/replica:0/task:0/device:GPU:0\n",
      "Executing op VarHandleOp in device /job:localhost/replica:0/task:0/device:GPU:0\n",
      "Executing op VarHandleOp in device /job:localhost/replica:0/task:0/device:GPU:0\n",
      "Executing op VarHandleOp in device /job:localhost/replica:0/task:0/device:GPU:0\n",
      "Executing op VarHandleOp in device /job:localhost/replica:0/task:0/device:GPU:0\n",
      "Executing op VarHandleOp in device /job:localhost/replica:0/task:0/device:GPU:0\n",
      "Executing op VarHandleOp in device /job:localhost/replica:0/task:0/device:GPU:0\n",
      "Executing op VarHandleOp in device /job:localhost/replica:0/task:0/device:GPU:0\n",
      "Executing op VarHandleOp in device /job:localhost/replica:0/task:0/device:GPU:0\n",
      "Executing op VarHandleOp in device /job:localhost/replica:0/task:0/device:GPU:0\n",
      "Executing op VarHandleOp in device /job:localhost/replica:0/task:0/device:GPU:0\n",
      "Executing op VarHandleOp in device /job:localhost/replica:0/task:0/device:GPU:0\n",
      "Executing op VarHandleOp in device /job:localhost/replica:0/task:0/device:GPU:0\n",
      "Executing op __inference_initialize_variables_62727 in device /job:localhost/replica:0/task:0/device:GPU:0\n",
      "Executing op __inference_distributed_function_63102 in device /job:localhost/replica:0/task:0/device:GPU:0\n",
      "2048/2100 [============================>.] - ETA: 0s - loss: 0.6466 - acc: 0.6748Executing op __inference_distributed_function_63284 in device /job:localhost/replica:0/task:0/device:GPU:0\n",
      "\n",
      "Epoch 00001: val_loss improved from inf to 0.62118, saving model to /home/valborsf/Documents/UOC/PFMProject/MODELK7/BMODEL/Best_weightsModelK7_1.hdf5\n",
      "Executing op ReadVariableOp in device /job:localhost/replica:0/task:0/device:GPU:0\n",
      "Executing op ReadVariableOp in device /job:localhost/replica:0/task:0/device:GPU:0\n",
      "2100/2100 [==============================] - 24s 11ms/sample - loss: 0.6452 - acc: 0.6767 - val_loss: 0.6212 - val_acc: 0.6843\n",
      "Epoch 2/200\n",
      "2048/2100 [============================>.] - ETA: 0s - loss: 0.6047 - acc: 0.7017Executing op DeleteIterator in device /job:localhost/replica:0/task:0/device:CPU:0\n",
      "\n",
      "Epoch 00002: val_loss improved from 0.62118 to 0.57440, saving model to /home/valborsf/Documents/UOC/PFMProject/MODELK7/BMODEL/Best_weightsModelK7_1.hdf5\n",
      "2100/2100 [==============================] - 10s 5ms/sample - loss: 0.6047 - acc: 0.7005 - val_loss: 0.5744 - val_acc: 0.7500\n",
      "Epoch 3/200\n",
      "2048/2100 [============================>.] - ETA: 0s - loss: 0.5747 - acc: 0.7241\n",
      "Epoch 00003: val_loss improved from 0.57440 to 0.54232, saving model to /home/valborsf/Documents/UOC/PFMProject/MODELK7/BMODEL/Best_weightsModelK7_1.hdf5\n",
      "2100/2100 [==============================] - 11s 5ms/sample - loss: 0.5738 - acc: 0.7257 - val_loss: 0.5423 - val_acc: 0.7643\n",
      "Epoch 4/200\n",
      "2048/2100 [============================>.] - ETA: 0s - loss: 0.5488 - acc: 0.7192\n",
      "Epoch 00004: val_loss improved from 0.54232 to 0.51856, saving model to /home/valborsf/Documents/UOC/PFMProject/MODELK7/BMODEL/Best_weightsModelK7_1.hdf5\n",
      "2100/2100 [==============================] - 10s 5ms/sample - loss: 0.5503 - acc: 0.7186 - val_loss: 0.5186 - val_acc: 0.7600\n",
      "Epoch 5/200\n",
      "2048/2100 [============================>.] - ETA: 0s - loss: 0.5514 - acc: 0.7236\n",
      "Epoch 00005: val_loss improved from 0.51856 to 0.51151, saving model to /home/valborsf/Documents/UOC/PFMProject/MODELK7/BMODEL/Best_weightsModelK7_1.hdf5\n",
      "2100/2100 [==============================] - 11s 5ms/sample - loss: 0.5507 - acc: 0.7243 - val_loss: 0.5115 - val_acc: 0.7743\n",
      "Epoch 6/200\n",
      "2048/2100 [============================>.] - ETA: 0s - loss: 0.5257 - acc: 0.7300\n",
      "Epoch 00006: val_loss did not improve from 0.51151\n",
      "2100/2100 [==============================] - 11s 5ms/sample - loss: 0.5260 - acc: 0.7314 - val_loss: 0.5216 - val_acc: 0.7629\n",
      "Epoch 7/200\n",
      "2048/2100 [============================>.] - ETA: 0s - loss: 0.5311 - acc: 0.7363\n",
      "Epoch 00007: val_loss improved from 0.51151 to 0.49993, saving model to /home/valborsf/Documents/UOC/PFMProject/MODELK7/BMODEL/Best_weightsModelK7_1.hdf5\n",
      "2100/2100 [==============================] - 11s 5ms/sample - loss: 0.5324 - acc: 0.7352 - val_loss: 0.4999 - val_acc: 0.7586\n",
      "Epoch 8/200\n",
      "2048/2100 [============================>.] - ETA: 0s - loss: 0.5176 - acc: 0.7432\n",
      "Epoch 00008: val_loss improved from 0.49993 to 0.48527, saving model to /home/valborsf/Documents/UOC/PFMProject/MODELK7/BMODEL/Best_weightsModelK7_1.hdf5\n",
      "2100/2100 [==============================] - 10s 5ms/sample - loss: 0.5168 - acc: 0.7424 - val_loss: 0.4853 - val_acc: 0.7700\n",
      "Epoch 9/200\n",
      "2048/2100 [============================>.] - ETA: 0s - loss: 0.4964 - acc: 0.7563\n",
      "Epoch 00009: val_loss improved from 0.48527 to 0.48003, saving model to /home/valborsf/Documents/UOC/PFMProject/MODELK7/BMODEL/Best_weightsModelK7_1.hdf5\n",
      "2100/2100 [==============================] - 11s 5ms/sample - loss: 0.4992 - acc: 0.7543 - val_loss: 0.4800 - val_acc: 0.7871\n"
     ]
    },
    {
     "name": "stdout",
     "output_type": "stream",
     "text": [
      "Epoch 10/200\n",
      "2048/2100 [============================>.] - ETA: 0s - loss: 0.4929 - acc: 0.7598\n",
      "Epoch 00010: val_loss improved from 0.48003 to 0.47425, saving model to /home/valborsf/Documents/UOC/PFMProject/MODELK7/BMODEL/Best_weightsModelK7_1.hdf5\n",
      "2100/2100 [==============================] - 10s 5ms/sample - loss: 0.4950 - acc: 0.7586 - val_loss: 0.4742 - val_acc: 0.7757\n",
      "Epoch 11/200\n",
      "2048/2100 [============================>.] - ETA: 0s - loss: 0.5048 - acc: 0.7446\n",
      "Epoch 00011: val_loss did not improve from 0.47425\n",
      "2100/2100 [==============================] - 8s 4ms/sample - loss: 0.5044 - acc: 0.7462 - val_loss: 0.4808 - val_acc: 0.7757\n",
      "Epoch 12/200\n",
      "2048/2100 [============================>.] - ETA: 0s - loss: 0.4947 - acc: 0.7461\n",
      "Epoch 00012: val_loss did not improve from 0.47425\n",
      "2100/2100 [==============================] - 9s 4ms/sample - loss: 0.4944 - acc: 0.7471 - val_loss: 0.5430 - val_acc: 0.7314\n",
      "Epoch 13/200\n",
      "2048/2100 [============================>.] - ETA: 0s - loss: 0.5051 - acc: 0.7520\n",
      "Epoch 00013: val_loss improved from 0.47425 to 0.46068, saving model to /home/valborsf/Documents/UOC/PFMProject/MODELK7/BMODEL/Best_weightsModelK7_1.hdf5\n",
      "2100/2100 [==============================] - 11s 5ms/sample - loss: 0.5062 - acc: 0.7500 - val_loss: 0.4607 - val_acc: 0.7943\n",
      "Epoch 14/200\n",
      "2048/2100 [============================>.] - ETA: 0s - loss: 0.4797 - acc: 0.7554\n",
      "Epoch 00014: val_loss did not improve from 0.46068\n",
      "2100/2100 [==============================] - 9s 4ms/sample - loss: 0.4811 - acc: 0.7557 - val_loss: 0.4782 - val_acc: 0.7729\n",
      "Epoch 15/200\n",
      "2048/2100 [============================>.] - ETA: 0s - loss: 0.4861 - acc: 0.7666\n",
      "Epoch 00015: val_loss improved from 0.46068 to 0.45307, saving model to /home/valborsf/Documents/UOC/PFMProject/MODELK7/BMODEL/Best_weightsModelK7_1.hdf5\n",
      "2100/2100 [==============================] - 10s 5ms/sample - loss: 0.4837 - acc: 0.7686 - val_loss: 0.4531 - val_acc: 0.7914\n",
      "Epoch 16/200\n",
      "2048/2100 [============================>.] - ETA: 0s - loss: 0.4631 - acc: 0.7764\n",
      "Epoch 00016: val_loss improved from 0.45307 to 0.44293, saving model to /home/valborsf/Documents/UOC/PFMProject/MODELK7/BMODEL/Best_weightsModelK7_1.hdf5\n",
      "2100/2100 [==============================] - 10s 5ms/sample - loss: 0.4643 - acc: 0.7757 - val_loss: 0.4429 - val_acc: 0.7986\n",
      "Epoch 17/200\n",
      "2048/2100 [============================>.] - ETA: 0s - loss: 0.4629 - acc: 0.7822\n",
      "Epoch 00017: val_loss did not improve from 0.44293\n",
      "2100/2100 [==============================] - 10s 5ms/sample - loss: 0.4622 - acc: 0.7838 - val_loss: 0.4547 - val_acc: 0.7914\n",
      "Epoch 18/200\n",
      "2048/2100 [============================>.] - ETA: 0s - loss: 0.4658 - acc: 0.7651\n",
      "Epoch 00018: val_loss did not improve from 0.44293\n",
      "2100/2100 [==============================] - 10s 5ms/sample - loss: 0.4674 - acc: 0.7643 - val_loss: 0.4706 - val_acc: 0.7643\n",
      "Epoch 19/200\n",
      "2048/2100 [============================>.] - ETA: 0s - loss: 0.4636 - acc: 0.7783\n",
      "Epoch 00019: val_loss improved from 0.44293 to 0.43804, saving model to /home/valborsf/Documents/UOC/PFMProject/MODELK7/BMODEL/Best_weightsModelK7_1.hdf5\n",
      "2100/2100 [==============================] - 10s 5ms/sample - loss: 0.4620 - acc: 0.7790 - val_loss: 0.4380 - val_acc: 0.8071\n",
      "Epoch 20/200\n",
      "2048/2100 [============================>.] - ETA: 0s - loss: 0.4551 - acc: 0.7769\n",
      "Epoch 00020: val_loss did not improve from 0.43804\n",
      "2100/2100 [==============================] - 10s 5ms/sample - loss: 0.4541 - acc: 0.7776 - val_loss: 0.4453 - val_acc: 0.7957\n",
      "Epoch 21/200\n",
      "2048/2100 [============================>.] - ETA: 0s - loss: 0.4642 - acc: 0.7734\n",
      "Epoch 00021: val_loss did not improve from 0.43804\n",
      "2100/2100 [==============================] - 10s 5ms/sample - loss: 0.4644 - acc: 0.7724 - val_loss: 0.4513 - val_acc: 0.7857\n",
      "Epoch 22/200\n",
      "2048/2100 [============================>.] - ETA: 0s - loss: 0.4377 - acc: 0.7832\n",
      "Epoch 00022: val_loss improved from 0.43804 to 0.42987, saving model to /home/valborsf/Documents/UOC/PFMProject/MODELK7/BMODEL/Best_weightsModelK7_1.hdf5\n",
      "2100/2100 [==============================] - 10s 5ms/sample - loss: 0.4396 - acc: 0.7819 - val_loss: 0.4299 - val_acc: 0.8071\n",
      "Epoch 23/200\n",
      "2048/2100 [============================>.] - ETA: 0s - loss: 0.4484 - acc: 0.7778\n",
      "Epoch 00023: val_loss did not improve from 0.42987\n",
      "2100/2100 [==============================] - 10s 5ms/sample - loss: 0.4447 - acc: 0.7810 - val_loss: 0.4391 - val_acc: 0.8000\n",
      "Epoch 24/200\n",
      "2048/2100 [============================>.] - ETA: 0s - loss: 0.4449 - acc: 0.7837\n",
      "Epoch 00024: val_loss did not improve from 0.42987\n",
      "2100/2100 [==============================] - 9s 4ms/sample - loss: 0.4468 - acc: 0.7829 - val_loss: 0.4958 - val_acc: 0.7571\n",
      "Epoch 25/200\n",
      "2048/2100 [============================>.] - ETA: 0s - loss: 0.4503 - acc: 0.7729\n",
      "Epoch 00025: val_loss did not improve from 0.42987\n",
      "2100/2100 [==============================] - 9s 4ms/sample - loss: 0.4494 - acc: 0.7738 - val_loss: 0.4424 - val_acc: 0.8014\n",
      "Epoch 26/200\n",
      "2048/2100 [============================>.] - ETA: 0s - loss: 0.4246 - acc: 0.7900\n",
      "Epoch 00026: val_loss did not improve from 0.42987\n",
      "2100/2100 [==============================] - 9s 4ms/sample - loss: 0.4268 - acc: 0.7886 - val_loss: 0.4534 - val_acc: 0.7943\n",
      "Epoch 27/200\n",
      "2048/2100 [============================>.] - ETA: 0s - loss: 0.4237 - acc: 0.8003\n",
      "Epoch 00027: val_loss did not improve from 0.42987\n",
      "2100/2100 [==============================] - 9s 4ms/sample - loss: 0.4247 - acc: 0.7995 - val_loss: 0.4372 - val_acc: 0.8057\n",
      "Epoch 28/200\n",
      "2048/2100 [============================>.] - ETA: 0s - loss: 0.4230 - acc: 0.7861\n",
      "Epoch 00028: val_loss did not improve from 0.42987\n",
      "2100/2100 [==============================] - 9s 4ms/sample - loss: 0.4240 - acc: 0.7867 - val_loss: 0.4652 - val_acc: 0.7786\n",
      "Time spent in training :00:04:49\n"
     ]
    }
   ],
   "source": [
    "# Feeding Data to a multi-input model\n",
    "epochs= 200\n",
    "batch_size = 128\n",
    "import time\n",
    "start_time = time.time()\n",
    "\n",
    "history = model.fit ([train_clinical_tensor, train_image_tensor], \n",
    "           train_label_tensor, \n",
    "           epochs = epochs, \n",
    "           batch_size = batch_size, \n",
    "           callbacks=callbacks_list,\n",
    "           validation_data =( [val_clinical_tensor, val_image_tensor],val_label_tensor))\n",
    "\n",
    "elapsed_time = time.time() - start_time\n",
    "\n",
    "print( time.strftime('Time spent in training :'\"%H:%M:%S\", time.gmtime(elapsed_time)))\n",
    "\n",
    "save_model(model, history, model_bin_dir, Model_name)"
   ]
  },
  {
   "cell_type": "code",
   "execution_count": 19,
   "metadata": {},
   "outputs": [],
   "source": [
    "# Import Model Test if not need to Train \n",
    "if not TRAIN :\n",
    "    model = model_load ( model_bin_dir, Model_name)"
   ]
  },
  {
   "cell_type": "code",
   "execution_count": 20,
   "metadata": {},
   "outputs": [
    {
     "data": {
      "image/png": "[encoded data removed]",
      "text/plain": [
       "<Figure size 432x288 with 1 Axes>"
      ]
     },
     "metadata": {
      "needs_background": "light"
     },
     "output_type": "display_data"
    },
    {
     "data": {
      "image/png": "[encoded data removed]",
      "text/plain": [
       "<Figure size 432x288 with 1 Axes>"
      ]
     },
     "metadata": {
      "needs_background": "light"
     },
     "output_type": "display_data"
    }
   ],
   "source": [
    "# Display curves of loss and accuracy during training and save results \n",
    "plot_save_acc_loss(results_dir, history.history, Model_name)"
   ]
  },
  {
   "cell_type": "code",
   "execution_count": 21,
   "metadata": {},
   "outputs": [
    {
     "name": "stdout",
     "output_type": "stream",
     "text": [
      "Executing op VarHandleOp in device /job:localhost/replica:0/task:0/device:GPU:0\n",
      "Executing op Fill in device /job:localhost/replica:0/task:0/device:GPU:0\n",
      "Executing op VarHandleOp in device /job:localhost/replica:0/task:0/device:GPU:0\n",
      "Executing op VarHandleOp in device /job:localhost/replica:0/task:0/device:GPU:0\n",
      "Executing op VarHandleOp in device /job:localhost/replica:0/task:0/device:GPU:0\n",
      "Executing op VarHandleOp in device /job:localhost/replica:0/task:0/device:GPU:0\n",
      "Executing op VarHandleOp in device /job:localhost/replica:0/task:0/device:GPU:0\n",
      "Executing op VarHandleOp in device /job:localhost/replica:0/task:0/device:GPU:0\n",
      "Executing op VarHandleOp in device /job:localhost/replica:0/task:0/device:GPU:0\n",
      "Executing op VarHandleOp in device /job:localhost/replica:0/task:0/device:GPU:0\n",
      "Executing op VarHandleOp in device /job:localhost/replica:0/task:0/device:GPU:0\n",
      "Executing op VarHandleOp in device /job:localhost/replica:0/task:0/device:GPU:0\n",
      "Executing op VarHandleOp in device /job:localhost/replica:0/task:0/device:GPU:0\n",
      "Executing op Reshape in device /job:localhost/replica:0/task:0/device:GPU:0\n",
      "Executing op VarHandleOp in device /job:localhost/replica:0/task:0/device:GPU:0\n"
     ]
    }
   ],
   "source": [
    "# Load Model \n",
    "# Load weights \n",
    "\n",
    "#model = build_model()\n",
    "#model.load_weights('my_weights.model')\n",
    "TRAIN = False\n",
    "if not TRAIN :\n",
    "    Model_name = \"ModelK7_1\"\n",
    "    model = model_load ( model_bin_dir, Model_name)\n",
    "    model.load_weights(model_bin_dir+\"Best_weights\"+Model_name+\".hdf5\")"
   ]
  },
  {
   "cell_type": "code",
   "execution_count": 22,
   "metadata": {},
   "outputs": [],
   "source": [
    "# Create tensors from images\n",
    "# Load Images \n",
    "\n",
    "# This step is very time consuming !!!!!!!\n",
    "test_image_tensor  = load_images(dftest,height_imag,width_imag)"
   ]
  },
  {
   "cell_type": "code",
   "execution_count": 23,
   "metadata": {},
   "outputs": [],
   "source": [
    "# Process the clinical information \n",
    "#  1. min-max scaling on continuous features  ( age )\n",
    "#  2. one-hot encoding on categorical features,  (sex, region)\n",
    "test_clinical_tensor = process_clinical_info(dftest)"
   ]
  },
  {
   "cell_type": "code",
   "execution_count": 24,
   "metadata": {},
   "outputs": [],
   "source": [
    "# Define the label tensor\n",
    "test_label_tensor = create_label_tensor(dftest)"
   ]
  },
  {
   "cell_type": "code",
   "execution_count": 26,
   "metadata": {},
   "outputs": [
    {
     "name": "stdout",
     "output_type": "stream",
     "text": [
      "Executing op MapDataset in device /job:localhost/replica:0/task:0/device:CPU:0\n",
      "Executing op FlatMapDataset in device /job:localhost/replica:0/task:0/device:CPU:0\n",
      "Executing op ParallelMapDataset in device /job:localhost/replica:0/task:0/device:CPU:0\n",
      "700/1 - 1s - loss: 0.4667 - acc: 0.7871\n"
     ]
    }
   ],
   "source": [
    "#  ROC /AUC\n",
    "scores = model.evaluate([test_clinical_tensor, test_image_tensor], test_label_tensor, verbose=2)"
   ]
  },
  {
   "cell_type": "code",
   "execution_count": 27,
   "metadata": {},
   "outputs": [
    {
     "data": {
      "text/plain": [
       "[0.43854349272591725, 0.7871429]"
      ]
     },
     "execution_count": 27,
     "metadata": {},
     "output_type": "execute_result"
    }
   ],
   "source": [
    "model.metrics_names\n",
    "scores"
   ]
  },
  {
   "cell_type": "code",
   "execution_count": 28,
   "metadata": {},
   "outputs": [],
   "source": [
    "# Loss 0.44  Acc=0.79"
   ]
  },
  {
   "cell_type": "code",
   "execution_count": 29,
   "metadata": {},
   "outputs": [
    {
     "name": "stdout",
     "output_type": "stream",
     "text": [
      "Executing op MapDataset in device /job:localhost/replica:0/task:0/device:CPU:0\n",
      "Executing op FlatMapDataset in device /job:localhost/replica:0/task:0/device:CPU:0\n",
      "Executing op TensorDataset in device /job:localhost/replica:0/task:0/device:CPU:0\n",
      "Executing op RepeatDataset in device /job:localhost/replica:0/task:0/device:CPU:0\n",
      "Executing op ZipDataset in device /job:localhost/replica:0/task:0/device:CPU:0\n",
      "Executing op ParallelMapDataset in device /job:localhost/replica:0/task:0/device:CPU:0\n",
      "Executing op ModelDataset in device /job:localhost/replica:0/task:0/device:CPU:0\n",
      "Executing op AnonymousIteratorV2 in device /job:localhost/replica:0/task:0/device:CPU:0\n",
      "Executing op __inference_distributed_function_68716 in device /job:localhost/replica:0/task:0/device:GPU:0\n"
     ]
    }
   ],
   "source": [
    "# Compute predictions\n",
    "# This takes time !!!!!!!!!!!!!!!!!!!!!!!!!!!!!!!!!\n",
    "y_pred_keras = model.predict([test_clinical_tensor, test_image_tensor]).ravel()      # y_pred_probabilities\n",
    "y_pred = y_pred_keras > 0.5                                # y_pred_class : if >0.5  = True => Malignant\n",
    "y_test = dftest.bm.astype('category').cat.codes            # Ground truth \n",
    "class_labels= dftest.bm.unique()                           # Labels of ground truth "
   ]
  },
  {
   "cell_type": "code",
   "execution_count": 30,
   "metadata": {},
   "outputs": [
    {
     "name": "stdout",
     "output_type": "stream",
     "text": [
      "Metrics ModelK7_1\n",
      "===========================================\n",
      "Confusion Matrix:\n",
      "[[241  99]\n",
      " [ 50 310]]\n",
      "+----------------------------+-------------+\n",
      "|            Type            |  # samples  |\n",
      "+============================+=============+\n",
      "| True Positives- Malignants | 310         |\n",
      "+----------------------------+-------------+\n",
      "| True Negatives- Benign     | 241         |\n",
      "+----------------------------+-------------+\n",
      "| False Positive             | 99          |\n",
      "+----------------------------+-------------+\n",
      "| False Negative             | 50          |\n",
      "+----------------------------+-------------+\n",
      "Summary classification Report: \n",
      "              precision    recall  f1-score   support\n",
      "\n",
      "   malignant       0.83      0.71      0.76       340\n",
      "      benign       0.76      0.86      0.81       360\n",
      "\n",
      "    accuracy                           0.79       700\n",
      "   macro avg       0.79      0.78      0.79       700\n",
      "weighted avg       0.79      0.79      0.79       700\n",
      "\n",
      "+-------------+---------+\n",
      "|   Metrics   |         |\n",
      "+=============+=========+\n",
      "| Accuracy    | 0.790   |\n",
      "+-------------+---------+\n",
      "| Sensitivity | 0.860   |\n",
      "+-------------+---------+\n",
      "| Specificity | 0.710   |\n",
      "+-------------+---------+\n",
      "| AUC         | 0.870   |\n",
      "+-------------+---------+\n"
     ]
    },
    {
     "data": {
      "image/png": "[encoded data removed]",
      "text/plain": [
       "<Figure size 432x288 with 1 Axes>"
      ]
     },
     "metadata": {
      "needs_background": "light"
     },
     "output_type": "display_data"
    },
    {
     "data": {
      "image/png": "[encoded data removed]",
      "text/plain": [
       "<Figure size 432x288 with 1 Axes>"
      ]
     },
     "metadata": {
      "needs_background": "light"
     },
     "output_type": "display_data"
    }
   ],
   "source": [
    "#Print Metrics + Confusion ROC AUC\n",
    "confusion_ROC_AUC ( y_test, y_pred, y_pred_keras, class_labels, results_dir, Model_name )"
   ]
  },
  {
   "cell_type": "code",
   "execution_count": null,
   "metadata": {},
   "outputs": [],
   "source": []
  }
 ],
 "metadata": {
  "accelerator": "GPU",
  "colab": {
   "collapsed_sections": [],
   "name": "Preprocess_Fit4.ipynb",
   "provenance": []
  },
  "kernelspec": {
   "display_name": "tf-gpu",
   "language": "python",
   "name": "tf-gpu"
  },
  "language_info": {
   "codemirror_mode": {
    "name": "ipython",
    "version": 3
   },
   "file_extension": ".py",
   "mimetype": "text/x-python",
   "name": "python",
   "nbconvert_exporter": "python",
   "pygments_lexer": "ipython3",
   "version": "3.7.6"
  }
 },
 "nbformat": 4,
 "nbformat_minor": 1
}

{
 "cells": [
  {
   "cell_type": "markdown",
   "metadata": {
    "colab_type": "text",
    "id": "Ur34g7Fbi5lr"
   },
   "source": [
    "# Notebook- Multi input Model   \n",
    "# Author : V.Albors   Date : 07.02.2020\n",
    "# Purpose : Test Multi input Model   ( Prueba con el modelo Tensors 2)\n",
    "\n",
    "\n",
    "\n",
    "Cambio en la estructura y batch size = 128 \n",
    "\n",
    "**Input** :  \n",
    "  * CSV files that identify the images to use as train and validation. CSV files are in directory csv_dir   \n",
    "  * Images from train and validation. Images are in directory : imag_dir  \n",
    "  * Saved model. Model is in directory : model_bin_dir  \n",
    "  \n",
    "**Output**:  \n",
    "  * Download of the model trained with train dataset - \n",
    "  * Download the history of the model in order to be evaluated \n",
    "\n",
    "**Process**:  \n",
    " * Read Train and Validation images ( identified in the .csv files ) from the imag_dir directory   \n",
    " * Read Train & Validation clinical variables \n",
    " * Create a train and validation input & label tensors (no augmentation)\n",
    " * Define the architecture of the Multi input model : \n",
    "                        Dense Module to train the clinical input\n",
    "                        Covent Module to train the Images\n",
    "                        Merging module to merge clinical + Images\n",
    "                        Dense layers \n",
    "                        Classifier module to class : Benign (0) or Malignant (1)\n",
    " * Train the model with the train dataset with callbacks (  ModuleCheckPoint )\n",
    " * Save the trained model and history of the model in directory model_bin_dir \n",
    " \n",
    "\n"
   ]
  },
  {
   "cell_type": "code",
   "execution_count": null,
   "metadata": {},
   "outputs": [],
   "source": [
    "from __future__ import absolute_import, division, print_function, unicode_literals\n",
    "import tensorflow as tf\n",
    "\n",
    "tf.keras.backend.clear_session()  # Reset"
   ]
  },
  {
   "cell_type": "code",
   "execution_count": 2,
   "metadata": {},
   "outputs": [
    {
     "name": "stdout",
     "output_type": "stream",
     "text": [
      "Num GPUs Available:  1\n"
     ]
    }
   ],
   "source": [
    "import tensorflow as tf\n",
    "print(\"Num GPUs Available: \", len(tf.config.experimental.list_physical_devices('GPU')))\n",
    "tf.config.experimental.list_physical_devices('GPU') \n",
    "physical_devices = tf.config.experimental.list_physical_devices('GPU')\n",
    "assert len(physical_devices) > 0, \"Not enough GPU hardware devices available\"\n",
    "tf.config.experimental.set_memory_growth(physical_devices[0], True)\n",
    "tf.debugging.set_log_device_placement(True)\n",
    "tf.keras.backend.clear_session()"
   ]
  },
  {
   "cell_type": "code",
   "execution_count": 3,
   "metadata": {},
   "outputs": [],
   "source": [
    "# Define the name of the model \n",
    "Model_directory = \"MODELK7\"\n",
    "Model_name = \"ModelK7_1\"\n",
    "TRAIN = True"
   ]
  },
  {
   "cell_type": "code",
   "execution_count": 4,
   "metadata": {},
   "outputs": [
    {
     "name": "stdout",
     "output_type": "stream",
     "text": [
      "['confusion_ROC_AUC', 'create_column_tensor', 'create_label_tensor', 'create_val_test', 'define_dirs', 'extract_images_bm', 'extract_images_train', 'load_hist_model', 'load_images', 'model_load', 'plot_save_acc_loss', 'print_network', 'process_clinical_info', 'read_dataframes', 'read_dataframes_tables', 'reproducible_results', 'save_model', 'save_network_json', 'start', 'stop', 'to_one_hot', 'to_one_hot_words', 'xi_squared']\n"
     ]
    }
   ],
   "source": [
    "# Import routines\n",
    "import sys  \n",
    "subrc_dir = \"/home/valborsf/Documents/UOC/PFMProject/\"\n",
    "\n",
    "\n",
    "sys.path.append(subrc_dir)  \n",
    "from  Models_routines import *\n",
    "import inspect\n",
    "\n",
    "# List functions inside the module\n",
    "import Models_routines as module\n",
    "functions = inspect.getmembers(module, inspect.isfunction)\n",
    "lsfunctions = [item[0] for item in functions]\n",
    "print ( lsfunctions )"
   ]
  },
  {
   "cell_type": "code",
   "execution_count": 5,
   "metadata": {},
   "outputs": [
    {
     "name": "stderr",
     "output_type": "stream",
     "text": [
      "Using TensorFlow backend.\n"
     ]
    }
   ],
   "source": [
    "# Reproducible results \n",
    "reproducible_results ()"
   ]
  },
  {
   "cell_type": "code",
   "execution_count": 6,
   "metadata": {},
   "outputs": [],
   "source": [
    "# Define directories\n",
    "(root_dir,json_dir,imag_dir,csv_dir,model_json_dir,model_bin_dir,results_dir,Tensor_dir) = define_dirs(Model_directory)"
   ]
  },
  {
   "cell_type": "code",
   "execution_count": 7,
   "metadata": {},
   "outputs": [],
   "source": [
    "# New dataset without SONIC disturbing images\n",
    "json_dir =  root_dir +\"/DataNew/ALL_JSON/\"                # .json dir images\n",
    "imag_dir =  root_dir +\"/DataNew/ALL_IMAGES/\"              # .png dir - images\n",
    "\n",
    "# directories for  CSV's\n",
    "csv_dir =  root_dir +\"/DataNew3/CSV/\"                      # .csv dir - dftrain, dfval, dftest"
   ]
  },
  {
   "cell_type": "code",
   "execution_count": 8,
   "metadata": {},
   "outputs": [
    {
     "name": "stdout",
     "output_type": "stream",
     "text": [
      "/home/valborsf/Documents/UOC/PFMProject/DataNew3/CSV/\n"
     ]
    }
   ],
   "source": [
    "# Load train,validation & Test \n",
    "(dftrain, dfval, dftest) = read_dataframes(csv_dir)"
   ]
  },
  {
   "cell_type": "code",
   "execution_count": 9,
   "metadata": {},
   "outputs": [],
   "source": [
    "# Define the label tensor\n",
    "train_label_tensor = create_label_tensor(dftrain)\n",
    "val_label_tensor = create_label_tensor(dfval)\n",
    "#test_label_tensor = create_label_tensor(dftest)"
   ]
  },
  {
   "cell_type": "code",
   "execution_count": 10,
   "metadata": {},
   "outputs": [],
   "source": [
    "# Create tensors from images\n",
    "# Load Images \n",
    "height_imag = 150 \n",
    "width_imag = 150\n",
    "# This step is very time consuming !!!!!!!\n",
    "train_image_tensor  = load_images(dftrain,height_imag,width_imag)\n",
    "val_image_tensor  = load_images(dfval,height_imag,width_imag)\n",
    "#test_image_tensor  = load_images(dftest,height_imag,width_imag)"
   ]
  },
  {
   "cell_type": "code",
   "execution_count": 11,
   "metadata": {},
   "outputs": [],
   "source": [
    "# Process the clinical information \n",
    "#  1. min-max scaling on continuous features  ( age )\n",
    "#  2. one-hot encoding on categorical features,  (sex, region)\n",
    "train_clinical_tensor = process_clinical_info(dftrain)\n",
    "val_clinical_tensor = process_clinical_info(dfval)\n",
    "#test_clinical_tensor = process_clinical_info(dftest)\n"
   ]
  },
  {
   "cell_type": "code",
   "execution_count": 12,
   "metadata": {},
   "outputs": [],
   "source": [
    "import keras\n",
    "from keras.models import Model\n",
    "from keras import layers\n",
    "from keras import Input\n",
    "from keras.callbacks import ModelCheckpoint\n",
    "\n",
    "\n",
    "# Model 1 : Age and Sex to predict Melanoma\n",
    "clinical_inputs = Input(shape=( train_clinical_tensor.shape[1],))\n",
    "\n",
    "# Release 2.0\n",
    "# Eliminate the next two lines !!!!\n",
    "#---------------------------------------------------------\n",
    "\n",
    "#m1 = layers.Dense (32, activation='relu')(clinical_inputs)\n",
    "#output_clinical= layers.Dense (16, activation='relu')(m1)\n",
    "\n",
    "# Model 2 : Image to Predict Melanoma\n",
    "\n",
    "image_inputs = Input(shape=(height_imag,width_imag,3))\n",
    "m2 = layers.Conv2D(32, (3,3), activation='relu')(image_inputs)\n",
    "m2 = layers.MaxPooling2D((2,2))(m2)\n",
    "m2 = layers.Conv2D(64, (3,3), activation='relu')(m2)\n",
    "m2 = layers.MaxPooling2D((2,2))(m2)\n",
    "m2 = layers.Conv2D(128, (3,3), activation='relu')(m2)\n",
    "m2 = layers.MaxPooling2D((4,4))(m2)                               # <- Max pooling 4,4\n",
    "m2 = layers.Flatten()(m2)\n",
    "output_image = layers.Dense (512, activation='relu')(m2)\n",
    "\n",
    "\n",
    "# Release 2.0  Uncomment concatenate and comment next concatenated\n",
    "# Concatenate models  !!!!!\n",
    "concatenated = layers.concatenate ( [clinical_inputs,output_image ], axis=-1)\n",
    "#--------------------------------------------------------------------------------\n",
    "\n",
    "# Release 1.0\n",
    "#concatenated = layers.concatenate ( [output_clinical,output_image ], axis=-1)\n",
    "\n",
    "# Release 2.0  Add 2 more dense layers  !!!!!\n",
    "#---------------------------------------------\n",
    "\n",
    "m2 = layers.Dense(512, activation='relu')(concatenated)\n",
    "m2 = layers.Dropout(0.2)(m2)                                  # Dropout\n",
    "m2 = layers.Dense(128, activation='relu')(m2)\n",
    "\n",
    "benign_malign = layers.Dense (1, activation='sigmoid')(m2)\n",
    "\n",
    "# Add classifier on top \n",
    "#benign_malign = layers.Dense (1, activation='sigmoid')(concatenated)\n",
    "\n",
    "# Model instantiation\n",
    "model = Model([clinical_inputs,image_inputs],benign_malign)\n",
    "\n"
   ]
  },
  {
   "cell_type": "code",
   "execution_count": 13,
   "metadata": {},
   "outputs": [
    {
     "name": "stdout",
     "output_type": "stream",
     "text": [
      "Model: \"model_1\"\n",
      "__________________________________________________________________________________________________\n",
      "Layer (type)                    Output Shape         Param #     Connected to                     \n",
      "==================================================================================================\n",
      "input_2 (InputLayer)            (None, 150, 150, 3)  0                                            \n",
      "__________________________________________________________________________________________________\n",
      "conv2d_1 (Conv2D)               (None, 148, 148, 32) 896         input_2[0][0]                    \n",
      "__________________________________________________________________________________________________\n",
      "max_pooling2d_1 (MaxPooling2D)  (None, 74, 74, 32)   0           conv2d_1[0][0]                   \n",
      "__________________________________________________________________________________________________\n",
      "conv2d_2 (Conv2D)               (None, 72, 72, 64)   18496       max_pooling2d_1[0][0]            \n",
      "__________________________________________________________________________________________________\n",
      "max_pooling2d_2 (MaxPooling2D)  (None, 36, 36, 64)   0           conv2d_2[0][0]                   \n",
      "__________________________________________________________________________________________________\n",
      "conv2d_3 (Conv2D)               (None, 34, 34, 128)  73856       max_pooling2d_2[0][0]            \n",
      "__________________________________________________________________________________________________\n",
      "max_pooling2d_3 (MaxPooling2D)  (None, 8, 8, 128)    0           conv2d_3[0][0]                   \n",
      "__________________________________________________________________________________________________\n",
      "flatten_1 (Flatten)             (None, 8192)         0           max_pooling2d_3[0][0]            \n",
      "__________________________________________________________________________________________________\n",
      "input_1 (InputLayer)            (None, 3)            0                                            \n",
      "__________________________________________________________________________________________________\n",
      "dense_1 (Dense)                 (None, 512)          4194816     flatten_1[0][0]                  \n",
      "__________________________________________________________________________________________________\n",
      "concatenate_1 (Concatenate)     (None, 515)          0           input_1[0][0]                    \n",
      "                                                                 dense_1[0][0]                    \n",
      "__________________________________________________________________________________________________\n",
      "dense_2 (Dense)                 (None, 512)          264192      concatenate_1[0][0]              \n",
      "__________________________________________________________________________________________________\n",
      "dropout_1 (Dropout)             (None, 512)          0           dense_2[0][0]                    \n",
      "__________________________________________________________________________________________________\n",
      "dense_3 (Dense)                 (None, 128)          65664       dropout_1[0][0]                  \n",
      "__________________________________________________________________________________________________\n",
      "dense_4 (Dense)                 (None, 1)            129         dense_3[0][0]                    \n",
      "==================================================================================================\n",
      "Total params: 4,618,049\n",
      "Trainable params: 4,618,049\n",
      "Non-trainable params: 0\n",
      "__________________________________________________________________________________________________\n"
     ]
    }
   ],
   "source": [
    "model.summary()"
   ]
  },
  {
   "cell_type": "code",
   "execution_count": 14,
   "metadata": {},
   "outputs": [],
   "source": [
    "#Print Network \n",
    "print_network (results_dir, model, Model_name)\n",
    "#Save Network \n",
    "save_network_json (model_json_dir, model, Model_name)"
   ]
  },
  {
   "cell_type": "code",
   "execution_count": 15,
   "metadata": {},
   "outputs": [],
   "source": [
    "# Model Compile\n",
    "from keras import optimizers\n",
    "model.compile ( loss='binary_crossentropy',\n",
    "#               optimizer = optimizers.RMSprop(lr=1e-4),\n",
    "               optimizer = optimizers.Adam(lr=1e-4),\n",
    "               metrics= ['acc'])"
   ]
  },
  {
   "cell_type": "code",
   "execution_count": 16,
   "metadata": {},
   "outputs": [],
   "source": [
    "# Callbacks\n",
    "callbacks_list = [\n",
    "# EarlyStopping\n",
    "         keras.callbacks.EarlyStopping (\n",
    "             monitor = 'val_loss',             # Monitors the accuracy\n",
    "             patience = 6,),              # Interrupt if acc no improve in 3 epochs\n",
    "\n",
    "#  ModelCheckpoint to store the weights of the best performing epoch. \n",
    "    \n",
    "         keras.callbacks.ModelCheckpoint(filepath=model_bin_dir+\"Best_weights\"+Model_name+\".hdf5\", \n",
    "             monitor = 'val_loss', # Won't overwritte the model file unless val_loss has\n",
    "             verbose=1,            # improve \n",
    "             save_best_only=True),\n",
    "         \n",
    "#         keras.callbacks.TensorBoard(\n",
    "#             log_dir =  Tensor_dir, \n",
    "#            histogram_freq = 1,\n",
    "#            )\n",
    "                ]"
   ]
  },
  {
   "cell_type": "code",
   "execution_count": 17,
   "metadata": {},
   "outputs": [
    {
     "name": "stdout",
     "output_type": "stream",
     "text": [
      "Train on 2614 samples, validate on 872 samples\n",
      "Epoch 1/100\n",
      "2614/2614 [==============================] - 7s 3ms/step - loss: 0.6568 - acc: 0.6588 - val_loss: 0.6208 - val_acc: 0.7144\n",
      "\n",
      "Epoch 00001: val_loss improved from inf to 0.62082, saving model to /home/valborsf/Documents/UOC/PFMProject/MODELN7/BMODEL/Best_weightsModelN7_1.hdf5\n",
      "Epoch 2/100\n",
      "2614/2614 [==============================] - 2s 813us/step - loss: 0.6165 - acc: 0.6932 - val_loss: 0.5891 - val_acc: 0.7156\n",
      "\n",
      "Epoch 00002: val_loss improved from 0.62082 to 0.58908, saving model to /home/valborsf/Documents/UOC/PFMProject/MODELN7/BMODEL/Best_weightsModelN7_1.hdf5\n",
      "Epoch 3/100\n",
      "2614/2614 [==============================] - 2s 836us/step - loss: 0.5887 - acc: 0.7165 - val_loss: 0.5659 - val_acc: 0.7477\n",
      "\n",
      "Epoch 00003: val_loss improved from 0.58908 to 0.56594, saving model to /home/valborsf/Documents/UOC/PFMProject/MODELN7/BMODEL/Best_weightsModelN7_1.hdf5\n",
      "Epoch 4/100\n",
      "2614/2614 [==============================] - 2s 835us/step - loss: 0.5782 - acc: 0.7119 - val_loss: 0.5756 - val_acc: 0.7236\n",
      "\n",
      "Epoch 00004: val_loss did not improve from 0.56594\n",
      "Epoch 5/100\n",
      "2614/2614 [==============================] - 2s 833us/step - loss: 0.5624 - acc: 0.7192 - val_loss: 0.5325 - val_acc: 0.7511\n",
      "\n",
      "Epoch 00005: val_loss improved from 0.56594 to 0.53249, saving model to /home/valborsf/Documents/UOC/PFMProject/MODELN7/BMODEL/Best_weightsModelN7_1.hdf5\n",
      "Epoch 6/100\n",
      "2614/2614 [==============================] - 2s 828us/step - loss: 0.5410 - acc: 0.7337 - val_loss: 0.5189 - val_acc: 0.7626\n",
      "\n",
      "Epoch 00006: val_loss improved from 0.53249 to 0.51888, saving model to /home/valborsf/Documents/UOC/PFMProject/MODELN7/BMODEL/Best_weightsModelN7_1.hdf5\n",
      "Epoch 7/100\n",
      "2614/2614 [==============================] - 2s 841us/step - loss: 0.5231 - acc: 0.7502 - val_loss: 0.5178 - val_acc: 0.7420\n",
      "\n",
      "Epoch 00007: val_loss improved from 0.51888 to 0.51781, saving model to /home/valborsf/Documents/UOC/PFMProject/MODELN7/BMODEL/Best_weightsModelN7_1.hdf5\n",
      "Epoch 8/100\n",
      "2614/2614 [==============================] - 2s 842us/step - loss: 0.5197 - acc: 0.7402 - val_loss: 0.5041 - val_acc: 0.7592\n",
      "\n",
      "Epoch 00008: val_loss improved from 0.51781 to 0.50412, saving model to /home/valborsf/Documents/UOC/PFMProject/MODELN7/BMODEL/Best_weightsModelN7_1.hdf5\n",
      "Epoch 9/100\n",
      "2614/2614 [==============================] - 2s 872us/step - loss: 0.5088 - acc: 0.7643 - val_loss: 0.4904 - val_acc: 0.7718\n",
      "\n",
      "Epoch 00009: val_loss improved from 0.50412 to 0.49041, saving model to /home/valborsf/Documents/UOC/PFMProject/MODELN7/BMODEL/Best_weightsModelN7_1.hdf5\n",
      "Epoch 10/100\n",
      "2614/2614 [==============================] - 2s 868us/step - loss: 0.4980 - acc: 0.7670 - val_loss: 0.4871 - val_acc: 0.7695\n",
      "\n",
      "Epoch 00010: val_loss improved from 0.49041 to 0.48714, saving model to /home/valborsf/Documents/UOC/PFMProject/MODELN7/BMODEL/Best_weightsModelN7_1.hdf5\n",
      "Epoch 11/100\n",
      "2614/2614 [==============================] - 2s 862us/step - loss: 0.5094 - acc: 0.7521 - val_loss: 0.5144 - val_acc: 0.7557\n",
      "\n",
      "Epoch 00011: val_loss did not improve from 0.48714\n",
      "Epoch 12/100\n",
      "2614/2614 [==============================] - 2s 875us/step - loss: 0.4969 - acc: 0.7678 - val_loss: 0.4757 - val_acc: 0.7787\n",
      "\n",
      "Epoch 00012: val_loss improved from 0.48714 to 0.47574, saving model to /home/valborsf/Documents/UOC/PFMProject/MODELN7/BMODEL/Best_weightsModelN7_1.hdf5\n",
      "Epoch 13/100\n",
      "2614/2614 [==============================] - 2s 853us/step - loss: 0.4843 - acc: 0.7735 - val_loss: 0.4736 - val_acc: 0.7821\n",
      "\n",
      "Epoch 00013: val_loss improved from 0.47574 to 0.47362, saving model to /home/valborsf/Documents/UOC/PFMProject/MODELN7/BMODEL/Best_weightsModelN7_1.hdf5\n",
      "Epoch 14/100\n",
      "2614/2614 [==============================] - 2s 872us/step - loss: 0.4785 - acc: 0.7689 - val_loss: 0.4702 - val_acc: 0.7729\n",
      "\n",
      "Epoch 00014: val_loss improved from 0.47362 to 0.47024, saving model to /home/valborsf/Documents/UOC/PFMProject/MODELN7/BMODEL/Best_weightsModelN7_1.hdf5\n",
      "Epoch 15/100\n",
      "2614/2614 [==============================] - 2s 875us/step - loss: 0.4716 - acc: 0.7823 - val_loss: 0.4609 - val_acc: 0.7867\n",
      "\n",
      "Epoch 00015: val_loss improved from 0.47024 to 0.46087, saving model to /home/valborsf/Documents/UOC/PFMProject/MODELN7/BMODEL/Best_weightsModelN7_1.hdf5\n",
      "Epoch 16/100\n",
      "2614/2614 [==============================] - 2s 871us/step - loss: 0.4698 - acc: 0.7781 - val_loss: 0.4624 - val_acc: 0.7867\n",
      "\n",
      "Epoch 00016: val_loss did not improve from 0.46087\n",
      "Epoch 17/100\n",
      "2614/2614 [==============================] - 2s 871us/step - loss: 0.4616 - acc: 0.7896 - val_loss: 0.4840 - val_acc: 0.7729\n",
      "\n",
      "Epoch 00017: val_loss did not improve from 0.46087\n",
      "Epoch 18/100\n",
      "2614/2614 [==============================] - 2s 881us/step - loss: 0.4652 - acc: 0.7846 - val_loss: 0.4532 - val_acc: 0.7833\n",
      "\n",
      "Epoch 00018: val_loss improved from 0.46087 to 0.45315, saving model to /home/valborsf/Documents/UOC/PFMProject/MODELN7/BMODEL/Best_weightsModelN7_1.hdf5\n",
      "Epoch 19/100\n",
      "2614/2614 [==============================] - 2s 809us/step - loss: 0.4601 - acc: 0.7819 - val_loss: 0.4498 - val_acc: 0.7913\n",
      "\n",
      "Epoch 00019: val_loss improved from 0.45315 to 0.44977, saving model to /home/valborsf/Documents/UOC/PFMProject/MODELN7/BMODEL/Best_weightsModelN7_1.hdf5\n",
      "Epoch 20/100\n",
      "2614/2614 [==============================] - 2s 827us/step - loss: 0.4511 - acc: 0.7930 - val_loss: 0.4505 - val_acc: 0.7821\n",
      "\n",
      "Epoch 00020: val_loss did not improve from 0.44977\n",
      "Epoch 21/100\n",
      "2614/2614 [==============================] - 2s 896us/step - loss: 0.4588 - acc: 0.7873 - val_loss: 0.5191 - val_acc: 0.7443\n",
      "\n",
      "Epoch 00021: val_loss did not improve from 0.44977\n",
      "Epoch 22/100\n",
      "2614/2614 [==============================] - 2s 853us/step - loss: 0.4701 - acc: 0.7716 - val_loss: 0.4761 - val_acc: 0.7752\n",
      "\n",
      "Epoch 00022: val_loss did not improve from 0.44977\n",
      "Epoch 23/100\n",
      "2614/2614 [==============================] - 2s 861us/step - loss: 0.4471 - acc: 0.7907 - val_loss: 0.4470 - val_acc: 0.7821\n",
      "\n",
      "Epoch 00023: val_loss improved from 0.44977 to 0.44700, saving model to /home/valborsf/Documents/UOC/PFMProject/MODELN7/BMODEL/Best_weightsModelN7_1.hdf5\n",
      "Epoch 24/100\n",
      "2614/2614 [==============================] - 2s 864us/step - loss: 0.4394 - acc: 0.7961 - val_loss: 0.4448 - val_acc: 0.7959\n",
      "\n",
      "Epoch 00024: val_loss improved from 0.44700 to 0.44483, saving model to /home/valborsf/Documents/UOC/PFMProject/MODELN7/BMODEL/Best_weightsModelN7_1.hdf5\n",
      "Epoch 25/100\n",
      "2614/2614 [==============================] - 2s 869us/step - loss: 0.4407 - acc: 0.7976 - val_loss: 0.4456 - val_acc: 0.7959\n",
      "\n",
      "Epoch 00025: val_loss did not improve from 0.44483\n",
      "Epoch 26/100\n",
      "2614/2614 [==============================] - 2s 863us/step - loss: 0.4382 - acc: 0.7988 - val_loss: 0.4410 - val_acc: 0.7890\n",
      "\n",
      "Epoch 00026: val_loss improved from 0.44483 to 0.44102, saving model to /home/valborsf/Documents/UOC/PFMProject/MODELN7/BMODEL/Best_weightsModelN7_1.hdf5\n",
      "Epoch 27/100\n",
      "2614/2614 [==============================] - 2s 869us/step - loss: 0.4392 - acc: 0.7980 - val_loss: 0.4462 - val_acc: 0.7890\n",
      "\n",
      "Epoch 00027: val_loss did not improve from 0.44102\n",
      "Epoch 28/100\n",
      "2614/2614 [==============================] - 2s 865us/step - loss: 0.4339 - acc: 0.7938 - val_loss: 0.4544 - val_acc: 0.7821\n",
      "\n",
      "Epoch 00028: val_loss did not improve from 0.44102\n",
      "Epoch 29/100\n",
      "2614/2614 [==============================] - 2s 867us/step - loss: 0.4346 - acc: 0.7961 - val_loss: 0.4425 - val_acc: 0.7936\n",
      "\n",
      "Epoch 00029: val_loss did not improve from 0.44102\n",
      "Epoch 30/100\n",
      "2614/2614 [==============================] - 2s 873us/step - loss: 0.4276 - acc: 0.8041 - val_loss: 0.4407 - val_acc: 0.7947\n",
      "\n",
      "Epoch 00030: val_loss improved from 0.44102 to 0.44072, saving model to /home/valborsf/Documents/UOC/PFMProject/MODELN7/BMODEL/Best_weightsModelN7_1.hdf5\n",
      "Epoch 31/100\n",
      "2614/2614 [==============================] - 2s 858us/step - loss: 0.4281 - acc: 0.8003 - val_loss: 0.4431 - val_acc: 0.7924\n",
      "\n",
      "Epoch 00031: val_loss did not improve from 0.44072\n",
      "Epoch 32/100\n",
      "2614/2614 [==============================] - 2s 865us/step - loss: 0.4231 - acc: 0.8018 - val_loss: 0.4513 - val_acc: 0.7867\n",
      "\n",
      "Epoch 00032: val_loss did not improve from 0.44072\n",
      "Epoch 33/100\n",
      "2614/2614 [==============================] - 2s 863us/step - loss: 0.4182 - acc: 0.8099 - val_loss: 0.4449 - val_acc: 0.7959\n"
     ]
    },
    {
     "name": "stdout",
     "output_type": "stream",
     "text": [
      "\n",
      "Epoch 00033: val_loss did not improve from 0.44072\n",
      "Epoch 34/100\n",
      "2614/2614 [==============================] - 2s 825us/step - loss: 0.4131 - acc: 0.8087 - val_loss: 0.4495 - val_acc: 0.7970\n",
      "\n",
      "Epoch 00034: val_loss did not improve from 0.44072\n",
      "Epoch 35/100\n",
      "2614/2614 [==============================] - 2s 853us/step - loss: 0.4143 - acc: 0.8060 - val_loss: 0.4586 - val_acc: 0.7752\n",
      "\n",
      "Epoch 00035: val_loss did not improve from 0.44072\n",
      "Epoch 36/100\n",
      "2614/2614 [==============================] - 2s 859us/step - loss: 0.4278 - acc: 0.8045 - val_loss: 0.4410 - val_acc: 0.7924\n",
      "\n",
      "Epoch 00036: val_loss did not improve from 0.44072\n"
     ]
    }
   ],
   "source": [
    "# Feeding Data to a multi-input model\n",
    "epochs= 100\n",
    "\n",
    "batch_size = 256\n",
    "history = model.fit ([train_clinical_tensor, train_image_tensor], \n",
    "           train_label_tensor, \n",
    "           epochs = epochs, \n",
    "           batch_size = batch_size, \n",
    "           callbacks=callbacks_list,\n",
    "           validation_data =( [val_clinical_tensor, val_image_tensor],val_label_tensor))\n",
    "\n",
    "\n",
    "\n",
    "save_model(model, history, model_bin_dir, Model_name)"
   ]
  },
  {
   "cell_type": "code",
   "execution_count": 18,
   "metadata": {},
   "outputs": [],
   "source": [
    "# Import Model Test if not need to Train \n",
    "if not TRAIN :\n",
    "    model = model_load ( model_bin_dir, Model_name)"
   ]
  },
  {
   "cell_type": "code",
   "execution_count": 19,
   "metadata": {},
   "outputs": [
    {
     "data": {
      "image/png": "[encoded data removed]",
      "text/plain": [
       "<Figure size 432x288 with 1 Axes>"
      ]
     },
     "metadata": {
      "needs_background": "light"
     },
     "output_type": "display_data"
    },
    {
     "data": {
      "image/png": "[encoded data removed]",
      "text/plain": [
       "<Figure size 432x288 with 1 Axes>"
      ]
     },
     "metadata": {
      "needs_background": "light"
     },
     "output_type": "display_data"
    }
   ],
   "source": [
    "# Display curves of loss and accuracy during training and save results \n",
    "plot_save_acc_loss(results_dir, history.history, Model_name)"
   ]
  },
  {
   "cell_type": "code",
   "execution_count": 20,
   "metadata": {},
   "outputs": [],
   "source": [
    "# Load Model \n",
    "# Load weights \n",
    "\n",
    "#model = build_model()\n",
    "#model.load_weights('my_weights.model')\n",
    "TRAIN = False\n",
    "if not TRAIN :\n",
    "    Model_name = \"ModelN7_1\"\n",
    "    model = model_load ( model_bin_dir, Model_name)\n",
    "    model.load_weights(model_bin_dir+\"Best_weights\"+Model_name+\".hdf5\")"
   ]
  },
  {
   "cell_type": "code",
   "execution_count": 21,
   "metadata": {},
   "outputs": [],
   "source": [
    "# Create tensors from images\n",
    "# Load Images \n",
    "\n",
    "# This step is very time consuming !!!!!!!\n",
    "test_image_tensor  = load_images(dftest,height_imag,width_imag)"
   ]
  },
  {
   "cell_type": "code",
   "execution_count": 22,
   "metadata": {},
   "outputs": [],
   "source": [
    "# Process the clinical information \n",
    "#  1. min-max scaling on continuous features  ( age )\n",
    "#  2. one-hot encoding on categorical features,  (sex, region)\n",
    "test_clinical_tensor = process_clinical_info(dftest)"
   ]
  },
  {
   "cell_type": "code",
   "execution_count": 23,
   "metadata": {},
   "outputs": [],
   "source": [
    "# Define the label tensor\n",
    "test_label_tensor = create_label_tensor(dftest)"
   ]
  },
  {
   "cell_type": "code",
   "execution_count": 24,
   "metadata": {},
   "outputs": [
    {
     "name": "stdout",
     "output_type": "stream",
     "text": [
      "870/870 [==============================] - 1s 723us/step\n"
     ]
    }
   ],
   "source": [
    "#  ROC /AUC\n",
    "scores = model.evaluate([test_clinical_tensor, test_image_tensor], test_label_tensor, verbose=1)"
   ]
  },
  {
   "cell_type": "code",
   "execution_count": 25,
   "metadata": {},
   "outputs": [
    {
     "data": {
      "text/plain": [
       "[0.4389943523311067, 0.7816091775894165]"
      ]
     },
     "execution_count": 25,
     "metadata": {},
     "output_type": "execute_result"
    }
   ],
   "source": [
    "model.metrics_names\n",
    "scores"
   ]
  },
  {
   "cell_type": "code",
   "execution_count": 26,
   "metadata": {},
   "outputs": [],
   "source": [
    "# Loss 0.44  Acc=0.78"
   ]
  },
  {
   "cell_type": "code",
   "execution_count": 27,
   "metadata": {},
   "outputs": [],
   "source": [
    "# Compute predictions\n",
    "# This takes time !!!!!!!!!!!!!!!!!!!!!!!!!!!!!!!!!\n",
    "y_pred_keras = model.predict([test_clinical_tensor, test_image_tensor]).ravel()      # y_pred_probabilities\n",
    "y_pred = y_pred_keras > 0.5                                # y_pred_class : if >0.5  = True => Malignant\n",
    "y_test = dftest.bm.astype('category').cat.codes            # Ground truth \n",
    "class_labels= dftest.bm.unique()                           # Labels of ground truth "
   ]
  },
  {
   "cell_type": "code",
   "execution_count": 28,
   "metadata": {},
   "outputs": [
    {
     "name": "stdout",
     "output_type": "stream",
     "text": [
      "Metrics ModelN7_1\n",
      "===========================================\n",
      "Confusion Matrix:\n",
      "[[302 124]\n",
      " [ 66 378]]\n",
      "+----------------------------+-------------+\n",
      "|            Type            |  # samples  |\n",
      "+============================+=============+\n",
      "| True Positives- Malignants | 378         |\n",
      "+----------------------------+-------------+\n",
      "| True Negatives- Benign     | 302         |\n",
      "+----------------------------+-------------+\n",
      "| False Positive             | 124         |\n",
      "+----------------------------+-------------+\n",
      "| False Negative             | 66          |\n",
      "+----------------------------+-------------+\n",
      "Summary classification Report: \n",
      "              precision    recall  f1-score   support\n",
      "\n",
      "      benign       0.82      0.71      0.76       426\n",
      "   malignant       0.75      0.85      0.80       444\n",
      "\n",
      "    accuracy                           0.78       870\n",
      "   macro avg       0.79      0.78      0.78       870\n",
      "weighted avg       0.79      0.78      0.78       870\n",
      "\n",
      "+-------------+---------+\n",
      "|   Metrics   |         |\n",
      "+=============+=========+\n",
      "| Accuracy    | 0.780   |\n",
      "+-------------+---------+\n",
      "| Sensitivity | 0.850   |\n",
      "+-------------+---------+\n",
      "| Specificity | 0.710   |\n",
      "+-------------+---------+\n",
      "| AUC         | 0.880   |\n",
      "+-------------+---------+\n"
     ]
    },
    {
     "data": {
      "image/png": "[encoded data removed]",
      "text/plain": [
       "<Figure size 432x288 with 1 Axes>"
      ]
     },
     "metadata": {
      "needs_background": "light"
     },
     "output_type": "display_data"
    },
    {
     "data": {
      "image/png": "[encoded data removed]",
      "text/plain": [
       "<Figure size 432x288 with 1 Axes>"
      ]
     },
     "metadata": {
      "needs_background": "light"
     },
     "output_type": "display_data"
    }
   ],
   "source": [
    "#Print Metrics + Confusion ROC AUC\n",
    "confusion_ROC_AUC ( y_test, y_pred, y_pred_keras, class_labels, results_dir, Model_name )"
   ]
  },
  {
   "cell_type": "code",
   "execution_count": null,
   "metadata": {},
   "outputs": [],
   "source": []
  }
 ],
 "metadata": {
  "accelerator": "GPU",
  "colab": {
   "collapsed_sections": [],
   "name": "Preprocess_Fit4.ipynb",
   "provenance": []
  },
  "kernelspec": {
   "display_name": "“gpu2”",
   "language": "python",
   "name": "gpu2"
  },
  "language_info": {
   "codemirror_mode": {
    "name": "ipython",
    "version": 3
   },
   "file_extension": ".py",
   "mimetype": "text/x-python",
   "name": "python",
   "nbconvert_exporter": "python",
   "pygments_lexer": "ipython3",
   "version": "3.7.5"
  }
 },
 "nbformat": 4,
 "nbformat_minor": 1
}

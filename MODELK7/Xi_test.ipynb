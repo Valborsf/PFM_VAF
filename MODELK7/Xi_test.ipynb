{
 "cells": [
  {
   "cell_type": "markdown",
   "metadata": {},
   "source": [
    "# Notebook- Xi test \n",
    "# Author : V.Albors   Date : 07.02.2019\n",
    "# Purpose : Do a Xi test on the crosstabs bm / sex / age\n",
    " \n",
    "**Input** :  \n",
    "  The .csv files for the table \n",
    "  Files are located in directory :   \n",
    "   * csv files : root_dir + csv_dir \n",
    "   \n",
    "  * table_bm_sex\n",
    "  * table_bm_age\n",
    "  * table_bm_sex_age\n",
    "\n",
    "  \n",
    "   \n",
    "**Output**:  \n",
    "  * Xi Test on Dependance of categorical variables \n",
    "\n",
    "**Method** :\n",
    "  * Use Xi -squared Test\n",
    "  "
   ]
  },
  {
   "cell_type": "code",
   "execution_count": 1,
   "metadata": {},
   "outputs": [],
   "source": [
    "from __future__ import absolute_import, division, print_function, unicode_literals\n",
    "import tensorflow as tf\n",
    "\n",
    "tf.keras.backend.clear_session()  # Reset"
   ]
  },
  {
   "cell_type": "code",
   "execution_count": 2,
   "metadata": {},
   "outputs": [
    {
     "name": "stdout",
     "output_type": "stream",
     "text": [
      "Num GPUs Available:  1\n"
     ]
    }
   ],
   "source": [
    "import tensorflow as tf\n",
    "print(\"Num GPUs Available: \", len(tf.config.experimental.list_physical_devices('GPU')))\n",
    "tf.config.experimental.list_physical_devices('GPU') \n",
    "physical_devices = tf.config.experimental.list_physical_devices('GPU')\n",
    "assert len(physical_devices) > 0, \"Not enough GPU hardware devices available\"\n",
    "tf.config.experimental.set_memory_growth(physical_devices[0], True)\n",
    "tf.debugging.set_log_device_placement(True)"
   ]
  },
  {
   "cell_type": "code",
   "execution_count": 3,
   "metadata": {},
   "outputs": [
    {
     "name": "stdout",
     "output_type": "stream",
     "text": [
      "2.0.0\n",
      "10.0\n",
      "7.6\n"
     ]
    }
   ],
   "source": [
    "#Tensorflow version \n",
    "print(tf.__version__)\n",
    "from tensorflow.python.platform import build_info as tf_build_info\n",
    "print(tf_build_info.cuda_version_number)\n",
    "# Cuda Version 9.0 in v1.10.0\n",
    "print(tf_build_info.cudnn_version_number)\n",
    "# CudNN 7 in v1.10.0"
   ]
  },
  {
   "cell_type": "code",
   "execution_count": 4,
   "metadata": {},
   "outputs": [],
   "source": [
    "# Define the name of the model \n",
    "Model_directory = \"MODELK7\"\n",
    "Model_name = \"ModelK1_Xi\"\n",
    "TRAIN = True"
   ]
  },
  {
   "cell_type": "code",
   "execution_count": 5,
   "metadata": {},
   "outputs": [
    {
     "name": "stdout",
     "output_type": "stream",
     "text": [
      "['confusion_ROC_AUC', 'create_column_tensor', 'create_label_tensor', 'create_val_test', 'define_dirs', 'extract_images_bm', 'extract_images_train', 'load_hist_model', 'load_images', 'load_images_tf', 'model_load', 'plot_save_acc_loss', 'print_network', 'process_clinical_info', 'read_dataframes', 'read_dataframes_tables', 'reproducible_results', 'save_model', 'save_network_json', 'start', 'stop', 'to_one_hot', 'to_one_hot_words', 'xi_squared']\n"
     ]
    }
   ],
   "source": [
    "# Import routines\n",
    "import sys  \n",
    "subrc_dir = \"/home/valborsf/Documents/UOC/PFMProject/\"\n",
    "\n",
    "\n",
    "sys.path.append(subrc_dir) \n",
    "from  Models_routines import *\n",
    "import inspect\n",
    "\n",
    "# List functions inside the module\n",
    "import Models_routines as module\n",
    "functions = inspect.getmembers(module, inspect.isfunction)\n",
    "lsfunctions = [item[0] for item in functions]\n",
    "print ( lsfunctions )"
   ]
  },
  {
   "cell_type": "code",
   "execution_count": 6,
   "metadata": {},
   "outputs": [],
   "source": [
    "# Define directories\n",
    "(root_dir,json_dir,imag_dir,csv_dir,model_json_dir,model_bin_dir,results_dir,Tensor_dir) = define_dirs(\"\")"
   ]
  },
  {
   "cell_type": "code",
   "execution_count": 7,
   "metadata": {},
   "outputs": [],
   "source": [
    "# New dataset without SONIC disturbing images\n",
    "json_dir =  root_dir +\"/DataNew/ALL_JSON/\"                # .json dir images\n",
    "imag_dir =  root_dir +\"/DataNew/ALL_IMAGES/\"              # .png dir - images\n",
    "\n",
    "# directories for  CSV's\n",
    "csv_dir =  root_dir +\"/DataNew4/CSV/\"                      # .csv dir - dftrain, dfval, dftest"
   ]
  },
  {
   "cell_type": "code",
   "execution_count": 9,
   "metadata": {},
   "outputs": [],
   "source": [
    "# Load tables to do the Xi Test \n",
    "(table_bm_sex, table_bm_age, table_bm_sex_age) = read_dataframes_tables(csv_dir)"
   ]
  },
  {
   "cell_type": "code",
   "execution_count": 10,
   "metadata": {},
   "outputs": [],
   "source": [
    "#print ( table_bm_sex.shape)\n",
    "#print ( type (table_bm_sex ))\n",
    "# Eliminate the first column of the dataframe has the label benign/malignant\n",
    "#print ( table_bm_sex.iloc[:,1:])"
   ]
  },
  {
   "cell_type": "code",
   "execution_count": 11,
   "metadata": {},
   "outputs": [
    {
     "name": "stdout",
     "output_type": "stream",
     "text": [
      "          bm  female  male\n",
      "0     benign    4818  4957\n",
      "1  malignant     816  1362\n",
      "Xi results:\n",
      "dof=1\n",
      "[[4607.40818205 5167.59181795]\n",
      " [1026.59181795 1151.40818205]]\n",
      "probability=0.950, critical=3.841, stat=99.451\n",
      "Dependent (reject H0)\n",
      "significance=0.050, p=0.000\n",
      "Dependent (reject H0)\n"
     ]
    }
   ],
   "source": [
    "# Eliminate the first column of the dataframe has the label benign/malignant\n",
    "print (table_bm_sex )\n",
    "xi_squared(table_bm_sex.iloc[:,1:])"
   ]
  },
  {
   "cell_type": "code",
   "execution_count": 12,
   "metadata": {},
   "outputs": [],
   "source": [
    "# It seems that bm is dependent on sex "
   ]
  },
  {
   "cell_type": "code",
   "execution_count": 13,
   "metadata": {},
   "outputs": [
    {
     "name": "stdout",
     "output_type": "stream",
     "text": [
      "          bm  0-30  31-60  61>91\n",
      "0     benign  1640   6302   1833\n",
      "1  malignant   114    890   1174\n",
      "Xi results:\n",
      "dof=2\n",
      "[[1434.39722245 5881.51928386 2459.08349368]\n",
      " [ 319.60277755 1310.48071614  547.91650632]]\n",
      "probability=0.950, critical=5.991, stat=1201.516\n",
      "Dependent (reject H0)\n",
      "significance=0.050, p=0.000\n",
      "Dependent (reject H0)\n"
     ]
    }
   ],
   "source": [
    "# Eliminate the first column of the dataframe has the label benign/malignant\n",
    "print (table_bm_age )\n",
    "xi_squared(table_bm_age.iloc[:,1:])"
   ]
  },
  {
   "cell_type": "code",
   "execution_count": 14,
   "metadata": {},
   "outputs": [],
   "source": [
    "# It seems that bm is dependent on age"
   ]
  },
  {
   "cell_type": "code",
   "execution_count": 15,
   "metadata": {},
   "outputs": [
    {
     "name": "stdout",
     "output_type": "stream",
     "text": [
      "         sex female female.1 female.2  male male.1 male.2\n",
      "0  age_rang2   0-30    31-60    61>91  0-30  31-60  61>91\n",
      "1         bm    NaN      NaN      NaN   NaN    NaN    NaN\n",
      "2     benign    959     3233      626   681   3069   1207\n",
      "3  malignant     65      408      343    49    482    831\n",
      "Xi results:\n",
      "dof=5\n",
      "[[ 837.41320171 2977.56002677  792.43495357  596.98402075 2903.95925709\n",
      "  1666.64854012]\n",
      " [ 186.58679829  663.43997323  176.56504643  133.01597925  647.04074291\n",
      "   371.35145988]]\n",
      "probability=0.950, critical=11.070, stat=1221.065\n",
      "Dependent (reject H0)\n",
      "significance=0.050, p=0.000\n",
      "Dependent (reject H0)\n"
     ]
    }
   ],
   "source": [
    "# Eliminate the 2 rows, age, bm and first column of the dataframe has the label benign/malignant\n",
    "print (table_bm_sex_age )\n",
    "xi_squared(table_bm_sex_age.iloc[2:,1:])"
   ]
  },
  {
   "cell_type": "code",
   "execution_count": null,
   "metadata": {},
   "outputs": [],
   "source": [
    "# It seems that bm is dependent on sex/age"
   ]
  }
 ],
 "metadata": {
  "kernelspec": {
   "display_name": "“gpu2”",
   "language": "python",
   "name": "gpu2"
  },
  "language_info": {
   "codemirror_mode": {
    "name": "ipython",
    "version": 3
   },
   "file_extension": ".py",
   "mimetype": "text/x-python",
   "name": "python",
   "nbconvert_exporter": "python",
   "pygments_lexer": "ipython3",
   "version": "3.7.6"
  }
 },
 "nbformat": 4,
 "nbformat_minor": 2
}

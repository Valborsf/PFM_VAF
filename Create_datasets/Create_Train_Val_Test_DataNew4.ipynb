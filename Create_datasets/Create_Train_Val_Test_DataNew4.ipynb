{
 "cells": [
  {
   "cell_type": "markdown",
   "metadata": {},
   "source": [
    "# Notebook- Create train, validation, test datasets \n",
    "# Author : V.Albors   Date : 20.01.2020\n",
    "# Purpose :\n",
    "Create the train, validation and tests datasets from the ISIC images.  \n",
    "**Input** :  \n",
    "  The .json files describing the type of images ( one .json per image )\n",
    "  Files are located in directory :   \n",
    "   * Json files : root_dir + json_dir \n",
    "  \n",
    "   \n",
    "**Output**:  \n",
    "  Files :dftrain.csv, dfval.csv, dftest.csv - train, validation and test datasets. \n",
    "  Files separated by \";\"  containing the following attributes per image :  \n",
    "    * Image file name \n",
    "    * sex\n",
    "    * benign/malignant\n",
    "    * age \n",
    "    * site ( part where the nevus is located )\n",
    "    * age_rang  (Rang of ages ['0-10', '11-20', '21-30', '31-40','41-50','51-60','61-70','71-80','81-90'])\n",
    "    * age_rang2 (Rangs of ages ['0-30', '31-60', '61-91'] ) \n",
    "    * Image file name with extension .png\n",
    "    \n",
    "   * Convert the Crosstabs in dataframes to do a Chi ^2 test \n",
    "     Dataframes : \n",
    "        * table_bm_sex  \n",
    "        * table_bm_age  \n",
    "        * table_bm_sex_age\n",
    "   * Save the data frames in the csv directory \n",
    "   \n",
    "  These files are downloaded in directory : root_dir + csv_dir  \n",
    "\n",
    "**Method** :\n",
    "  Creation of a balanced train, validation, and test dataset \n",
    "  From total # of images 11.953  images reduce to a Total = 4.356 samples \n",
    "  \n",
    "      * Total samples to test = 3.500  \n",
    "      * 3.500  = 1.750 Benigm & 1.750 Malignant\n",
    "      * Distribute the 3.500 images randomly into 60% train, 20% Val and 20% test\n",
    "  \n",
    "  * Read image characteristic from the .json file\n",
    "  * Create groups acording to the ages ( Rangs of ages ['0-30'-young, '31-60'-middle, '61-91'-old]\n",
    "  * Select the number of images for each of the 12 groups \n",
    "  * Create the .csv files that contain the train, validation and test datasets ( shuffled ) \n",
    "  * CSV files with fields :\n",
    "        * internal image id\n",
    "        * file name\n",
    "        * sex  ( male, female )\n",
    "        * bm ( benigm / malignant )\n",
    "        * age\n",
    "        * site ( location of the nevus ) \n",
    "        * age_rang   ( age rang : Rang of ages ['0-10', '11-20', '21-30', '31-40','41-50','51-60','61-70','71-80','81-90'] ) \n",
    "        * age_rang2 ( (Rangs of ages ['0-30', '31-60', '61-91'] ) \n",
    "        * file_name_ext  ( file name with extension ) "
   ]
  },
  {
   "cell_type": "code",
   "execution_count": 1,
   "metadata": {},
   "outputs": [
    {
     "name": "stdout",
     "output_type": "stream",
     "text": [
      "['confusion_ROC_AUC', 'create_column_tensor', 'create_label_tensor', 'create_val_test', 'define_dirs', 'extract_images_bm', 'extract_images_train', 'load_hist_model', 'load_images', 'model_load', 'plot_save_acc_loss', 'print_network', 'process_clinical_info', 'read_dataframes', 'read_dataframes_tables', 'reproducible_results', 'save_model', 'save_network_json', 'start', 'stop', 'to_one_hot', 'to_one_hot_words', 'xi_squared']\n"
     ]
    }
   ],
   "source": [
    "# Import routines\n",
    "import sys  \n",
    "subrc_dir = \"/home/user/Documentos/UOC/PFM/PFMProject/\"\n",
    "sys.path.append(subrc_dir) \n",
    "from  Models_routines import *\n",
    "import inspect\n",
    "\n",
    "# List functions inside the module\n",
    "import Models_routines as module\n",
    "functions = inspect.getmembers(module, inspect.isfunction)\n",
    "lsfunctions = [item[0] for item in functions]\n",
    "print ( lsfunctions )"
   ]
  },
  {
   "cell_type": "code",
   "execution_count": 2,
   "metadata": {},
   "outputs": [
    {
     "name": "stderr",
     "output_type": "stream",
     "text": [
      "Using TensorFlow backend.\n"
     ]
    }
   ],
   "source": [
    "# Reproducible results \n",
    "reproducible_results ()"
   ]
  },
  {
   "cell_type": "code",
   "execution_count": 3,
   "metadata": {},
   "outputs": [],
   "source": [
    "# Define directories\n",
    "(root_dir,json_dir,imag_dir,csv_dir,model_json_dir,model_bin_dir,results_dir,Tensor_dir) = define_dirs(\"\")"
   ]
  },
  {
   "cell_type": "code",
   "execution_count": 4,
   "metadata": {},
   "outputs": [
    {
     "name": "stdout",
     "output_type": "stream",
     "text": [
      "/home/valborsf/Documents/UOC/PFMProject \n",
      "/home/valborsf/Documents/UOC/PFMProject/DataNew/ALL_JSON/\n",
      "/home/valborsf/Documents/UOC/PFMProject/DataNew/ALL_IMAGES/\n"
     ]
    }
   ],
   "source": [
    "print (csv_dir)\n",
    "print (json_dir)\n",
    "print (imag_dir)"
   ]
  },
  {
   "cell_type": "code",
   "execution_count": 5,
   "metadata": {},
   "outputs": [],
   "source": [
    "# New dataset without SONIC disturbing images\n",
    "json_dir =  root_dir +\"/DataNew/ALL_JSON/\"                # .json dir images\n",
    "imag_dir =  root_dir +\"/DataNew/ALL_IMAGES/\"              # .png dir - images\n",
    "\n",
    "# directories for  CSV's\n",
    "csv_dir =  root_dir +\"/DataNew4/CSV/\"                      # .csv dir - dftrain, dfval, dftest"
   ]
  },
  {
   "cell_type": "code",
   "execution_count": 6,
   "metadata": {},
   "outputs": [
    {
     "name": "stdout",
     "output_type": "stream",
     "text": [
      "11953\n"
     ]
    }
   ],
   "source": [
    "# Get a list of the files that are located in the directory: root_dir +\"/Data/ALL_JSON/\"\n",
    "import glob\n",
    "import numpy\n",
    "\n",
    "files_json = (glob.glob(json_dir+\"*.json\"))\n",
    "\n",
    "print (len(files_json))                                # Number of images"
   ]
  },
  {
   "cell_type": "code",
   "execution_count": 7,
   "metadata": {
    "scrolled": true
   },
   "outputs": [],
   "source": [
    "# Extract data from the .json file \n",
    "import json\n",
    "import pandas as pd \n",
    "\n",
    "#data = json.load(open('/home/user/Documentos/UOC/PFM/Data/Original/Alot/ISIC-images/ISIC_0024524.json'\n",
    "\n",
    "#  A dataframe is created (dfimages) with the following attributes : \n",
    "#                 file_name (image file), sex, benign-malignant, age\n",
    "#  With .get load = None if no information exist\n",
    "\n",
    "columns = ['file_name','sex', 'bm','age','site']\n",
    "\n",
    "dfimages = pd.DataFrame(columns=columns)\n",
    "data = {}\n",
    "for i in range(len(files_json)):\n",
    "   data[i] = json.load(open(files_json[i]))\n",
    "   dfimages = dfimages.append ({'file_name': data[i]['name'],\n",
    "                                'sex':       data[i]['meta']['clinical']['sex'],\n",
    "                                'bm':        data[i]['meta']['clinical']['benign_malignant'],\n",
    "                                'age':       data[i]['meta']['clinical']['age_approx'],\n",
    "                                'site':      data[i]['meta']['clinical'].get('anatom_site_general')\n",
    "                               },ignore_index=True)\n",
    "\n"
   ]
  },
  {
   "cell_type": "code",
   "execution_count": 8,
   "metadata": {},
   "outputs": [
    {
     "name": "stdout",
     "output_type": "stream",
     "text": [
      "male\n",
      "benign\n",
      "45\n",
      "posterior torso\n",
      "<class 'pandas.core.frame.DataFrame'>\n",
      "RangeIndex: 11953 entries, 0 to 11952\n",
      "Data columns (total 5 columns):\n",
      "file_name    11953 non-null object\n",
      "sex          11953 non-null object\n",
      "bm           11953 non-null object\n",
      "age          11953 non-null object\n",
      "site         9888 non-null object\n",
      "dtypes: object(5)\n",
      "memory usage: 467.0+ KB\n",
      "None\n"
     ]
    }
   ],
   "source": [
    "# How to access info to the data\n",
    "print(data[0]['meta']['clinical']['sex'])\n",
    "print(data[0]['meta']['clinical']['benign_malignant'])\n",
    "print(data[0]['meta']['clinical']['age_approx'])\n",
    "print(data[0]['meta']['clinical']['anatom_site_general'])\n",
    "print(dfimages.info())"
   ]
  },
  {
   "cell_type": "code",
   "execution_count": 9,
   "metadata": {},
   "outputs": [
    {
     "name": "stdout",
     "output_type": "stream",
     "text": [
      "file_name    object\n",
      "sex          object\n",
      "bm           object\n",
      "age           int64\n",
      "site         object\n",
      "dtype: object\n"
     ]
    }
   ],
   "source": [
    "# Print type of dataframe attributes\n",
    "# Convert attribute age to numeric \n",
    "\n",
    "dfimages[\"age\"] = pd.to_numeric(dfimages[\"age\"])\n",
    "print(dfimages.dtypes)"
   ]
  },
  {
   "cell_type": "code",
   "execution_count": 10,
   "metadata": {},
   "outputs": [
    {
     "name": "stdout",
     "output_type": "stream",
     "text": [
      "      file_name   sex      bm  age             site\n",
      "0  ISIC_0032490  male  benign   45  posterior torso\n",
      "20\n"
     ]
    }
   ],
   "source": [
    "# Print example of data frame dfimages\n",
    "print (dfimages[0:1])\n",
    "print (dfimages['age'][3])"
   ]
  },
  {
   "cell_type": "code",
   "execution_count": 11,
   "metadata": {},
   "outputs": [
    {
     "name": "stdout",
     "output_type": "stream",
     "text": [
      "       file_name     sex         bm  age             site age_rang age_rang2\n",
      "0   ISIC_0032490    male     benign   45  posterior torso    41-50     31-60\n",
      "1   ISIC_0032224  female     benign   45             None    41-50     31-60\n",
      "2   ISIC_0027277    male  malignant   40  lower extremity    31-40     31-60\n",
      "3   ISIC_0034231  female     benign   20  posterior torso    11-20      0-30\n",
      "4   ISIC_0032483  female     benign   45             None    41-50     31-60\n",
      "5   ISIC_0034275    male  malignant   70             None    61-70     61>91\n",
      "6   ISIC_0032218  female     benign   40             None    31-40     31-60\n",
      "7   ISIC_0031441    male     benign   55             None    51-60     31-60\n",
      "8   ISIC_0034263    male  malignant   80  upper extremity    71-80     61>91\n",
      "9   ISIC_0024273    male  malignant   70             None    61-70     61>91\n",
      "10  ISIC_0024813    male     benign   30  posterior torso    21-30      0-30\n",
      "11  ISIC_0028322    male     benign   45             None    41-50     31-60\n",
      "12  ISIC_0010532  female  malignant   80  lower extremity    71-80     61>91\n",
      "13  ISIC_0028777    male  malignant   60  lower extremity    51-60     31-60\n",
      "14  ISIC_0027561  female  malignant   70  upper extremity    61-70     61>91\n"
     ]
    }
   ],
   "source": [
    "# Try a first gouping for the images based on age  : age_rang\n",
    "#     a second grouping                            : age_rang2\n",
    "# age_rang = ['0-10', '11-20', '21-30', '31-40','41-50','51-60','61-70','71-80','81-90'] \n",
    "# age_rang2 = ['0-30', '31-60', '61-91'] \n",
    "# list compresion technique : [f(x) for x in sequence if condition]\n",
    "#                             [f(x) if condition else g(x) for x in sequence]\n",
    "# for index, row in df.iterrows():\n",
    "#     df.at[index, 'new_column'] = new_value\n",
    "\n",
    "for index, row in dfimages.iterrows():\n",
    "    y = dfimages['age'][index]\n",
    "    if y <= 10 :\n",
    "        dfimages.at[index,'age_rang'] = '0-10'\n",
    "        dfimages.at[index,'age_rang2'] = '0-30'\n",
    "    elif  y >= 11 and y <= 20 :\n",
    "        dfimages.at[index,'age_rang'] = '11-20'\n",
    "        dfimages.at[index,'age_rang2'] = '0-30'\n",
    "    elif  y >= 21 and y <= 30 :\n",
    "        dfimages.at[index,'age_rang'] = '21-30'\n",
    "        dfimages.at[index,'age_rang2'] = '0-30'\n",
    "    elif  y >= 31 and y <= 40 :\n",
    "        dfimages.at[index,'age_rang'] = '31-40'\n",
    "        dfimages.at[index,'age_rang2'] ='31-60'\n",
    "    elif  y >= 41 and y <= 50 :\n",
    "        dfimages.at[index,'age_rang'] = '41-50'\n",
    "        dfimages.at[index,'age_rang2'] ='31-60'\n",
    "    elif  y >= 51 and y <= 60 :\n",
    "        dfimages.at[index,'age_rang'] = '51-60'\n",
    "        dfimages.at[index,'age_rang2'] ='31-60'\n",
    "    elif  y >= 61 and y <= 70 :\n",
    "        dfimages.at[index,'age_rang'] = '61-70'\n",
    "        dfimages.at[index,'age_rang2'] ='61>91'\n",
    "    elif  y >= 71 and y <= 80 :\n",
    "        dfimages.at[index,'age_rang'] = '71-80'\n",
    "        dfimages.at[index,'age_rang2'] ='61>91'\n",
    "    elif  y >= 81 and y <= 90 :\n",
    "        dfimages.at[index,'age_rang'] = '81-90'\n",
    "        dfimages.at[index,'age_rang2'] ='61>91'\n",
    "    elif  y >= 91 :\n",
    "        dfimages.at[index,'age_rang'] = '>91'\n",
    "        dfimages.at[index,'age_rang2'] ='61>91'\n",
    "\n",
    "print(dfimages[0:15])"
   ]
  },
  {
   "cell_type": "code",
   "execution_count": 12,
   "metadata": {},
   "outputs": [
    {
     "data": {
      "text/html": [
       "<div>\n",
       "<style scoped>\n",
       "    .dataframe tbody tr th:only-of-type {\n",
       "        vertical-align: middle;\n",
       "    }\n",
       "\n",
       "    .dataframe tbody tr th {\n",
       "        vertical-align: top;\n",
       "    }\n",
       "\n",
       "    .dataframe thead th {\n",
       "        text-align: right;\n",
       "    }\n",
       "</style>\n",
       "<table border=\"1\" class=\"dataframe\">\n",
       "  <thead>\n",
       "    <tr style=\"text-align: right;\">\n",
       "      <th></th>\n",
       "      <th>age_rang</th>\n",
       "      <th>0-10</th>\n",
       "      <th>11-20</th>\n",
       "      <th>21-30</th>\n",
       "      <th>31-40</th>\n",
       "      <th>41-50</th>\n",
       "      <th>51-60</th>\n",
       "      <th>61-70</th>\n",
       "      <th>71-80</th>\n",
       "      <th>81-90</th>\n",
       "      <th>All</th>\n",
       "    </tr>\n",
       "    <tr>\n",
       "      <th>bm</th>\n",
       "      <th>sex</th>\n",
       "      <th></th>\n",
       "      <th></th>\n",
       "      <th></th>\n",
       "      <th></th>\n",
       "      <th></th>\n",
       "      <th></th>\n",
       "      <th></th>\n",
       "      <th></th>\n",
       "      <th></th>\n",
       "      <th></th>\n",
       "    </tr>\n",
       "  </thead>\n",
       "  <tbody>\n",
       "    <tr>\n",
       "      <th rowspan=\"2\" valign=\"top\">benign</th>\n",
       "      <th>female</th>\n",
       "      <td>91</td>\n",
       "      <td>221</td>\n",
       "      <td>647</td>\n",
       "      <td>1106</td>\n",
       "      <td>1406</td>\n",
       "      <td>721</td>\n",
       "      <td>370</td>\n",
       "      <td>179</td>\n",
       "      <td>77</td>\n",
       "      <td>4818</td>\n",
       "    </tr>\n",
       "    <tr>\n",
       "      <th>male</th>\n",
       "      <td>93</td>\n",
       "      <td>163</td>\n",
       "      <td>425</td>\n",
       "      <td>897</td>\n",
       "      <td>1216</td>\n",
       "      <td>956</td>\n",
       "      <td>691</td>\n",
       "      <td>406</td>\n",
       "      <td>110</td>\n",
       "      <td>4957</td>\n",
       "    </tr>\n",
       "    <tr>\n",
       "      <th rowspan=\"2\" valign=\"top\">malignant</th>\n",
       "      <th>female</th>\n",
       "      <td>1</td>\n",
       "      <td>5</td>\n",
       "      <td>59</td>\n",
       "      <td>114</td>\n",
       "      <td>129</td>\n",
       "      <td>165</td>\n",
       "      <td>169</td>\n",
       "      <td>105</td>\n",
       "      <td>69</td>\n",
       "      <td>816</td>\n",
       "    </tr>\n",
       "    <tr>\n",
       "      <th>male</th>\n",
       "      <td>1</td>\n",
       "      <td>9</td>\n",
       "      <td>39</td>\n",
       "      <td>47</td>\n",
       "      <td>168</td>\n",
       "      <td>267</td>\n",
       "      <td>423</td>\n",
       "      <td>268</td>\n",
       "      <td>140</td>\n",
       "      <td>1362</td>\n",
       "    </tr>\n",
       "    <tr>\n",
       "      <th>All</th>\n",
       "      <th></th>\n",
       "      <td>186</td>\n",
       "      <td>398</td>\n",
       "      <td>1170</td>\n",
       "      <td>2164</td>\n",
       "      <td>2919</td>\n",
       "      <td>2109</td>\n",
       "      <td>1653</td>\n",
       "      <td>958</td>\n",
       "      <td>396</td>\n",
       "      <td>11953</td>\n",
       "    </tr>\n",
       "  </tbody>\n",
       "</table>\n",
       "</div>"
      ],
      "text/plain": [
       "age_rang          0-10  11-20  21-30  31-40  41-50  51-60  61-70  71-80  \\\n",
       "bm        sex                                                             \n",
       "benign    female    91    221    647   1106   1406    721    370    179   \n",
       "          male      93    163    425    897   1216    956    691    406   \n",
       "malignant female     1      5     59    114    129    165    169    105   \n",
       "          male       1      9     39     47    168    267    423    268   \n",
       "All                186    398   1170   2164   2919   2109   1653    958   \n",
       "\n",
       "age_rang          81-90    All  \n",
       "bm        sex                   \n",
       "benign    female     77   4818  \n",
       "          male      110   4957  \n",
       "malignant female     69    816  \n",
       "          male      140   1362  \n",
       "All                 396  11953  "
      ]
     },
     "execution_count": 12,
     "metadata": {},
     "output_type": "execute_result"
    }
   ],
   "source": [
    "# Print crosstabs\n",
    "#df_images[surveys_images.sex == \"female\"]\n",
    "pd.crosstab (dfimages.sex, dfimages.age_rang, margins=True)\n",
    "pd.crosstab ([dfimages.bm, dfimages.sex], dfimages.age_rang, margins=True)"
   ]
  },
  {
   "cell_type": "code",
   "execution_count": 13,
   "metadata": {},
   "outputs": [
    {
     "data": {
      "text/html": [
       "<div>\n",
       "<style scoped>\n",
       "    .dataframe tbody tr th:only-of-type {\n",
       "        vertical-align: middle;\n",
       "    }\n",
       "\n",
       "    .dataframe tbody tr th {\n",
       "        vertical-align: top;\n",
       "    }\n",
       "\n",
       "    .dataframe thead th {\n",
       "        text-align: right;\n",
       "    }\n",
       "</style>\n",
       "<table border=\"1\" class=\"dataframe\">\n",
       "  <thead>\n",
       "    <tr style=\"text-align: right;\">\n",
       "      <th>age_rang2</th>\n",
       "      <th>0-30</th>\n",
       "      <th>31-60</th>\n",
       "      <th>61&gt;91</th>\n",
       "      <th>All</th>\n",
       "    </tr>\n",
       "    <tr>\n",
       "      <th>sex</th>\n",
       "      <th></th>\n",
       "      <th></th>\n",
       "      <th></th>\n",
       "      <th></th>\n",
       "    </tr>\n",
       "  </thead>\n",
       "  <tbody>\n",
       "    <tr>\n",
       "      <th>female</th>\n",
       "      <td>1024</td>\n",
       "      <td>3641</td>\n",
       "      <td>969</td>\n",
       "      <td>5634</td>\n",
       "    </tr>\n",
       "    <tr>\n",
       "      <th>male</th>\n",
       "      <td>730</td>\n",
       "      <td>3551</td>\n",
       "      <td>2038</td>\n",
       "      <td>6319</td>\n",
       "    </tr>\n",
       "    <tr>\n",
       "      <th>All</th>\n",
       "      <td>1754</td>\n",
       "      <td>7192</td>\n",
       "      <td>3007</td>\n",
       "      <td>11953</td>\n",
       "    </tr>\n",
       "  </tbody>\n",
       "</table>\n",
       "</div>"
      ],
      "text/plain": [
       "age_rang2  0-30  31-60  61>91    All\n",
       "sex                                 \n",
       "female     1024   3641    969   5634\n",
       "male        730   3551   2038   6319\n",
       "All        1754   7192   3007  11953"
      ]
     },
     "execution_count": 13,
     "metadata": {},
     "output_type": "execute_result"
    }
   ],
   "source": [
    "pd.crosstab (dfimages.sex, dfimages.age_rang2, margins=True)"
   ]
  },
  {
   "cell_type": "code",
   "execution_count": 14,
   "metadata": {},
   "outputs": [
    {
     "data": {
      "text/html": [
       "<div>\n",
       "<style scoped>\n",
       "    .dataframe tbody tr th:only-of-type {\n",
       "        vertical-align: middle;\n",
       "    }\n",
       "\n",
       "    .dataframe tbody tr th {\n",
       "        vertical-align: top;\n",
       "    }\n",
       "\n",
       "    .dataframe thead th {\n",
       "        text-align: right;\n",
       "    }\n",
       "</style>\n",
       "<table border=\"1\" class=\"dataframe\">\n",
       "  <thead>\n",
       "    <tr style=\"text-align: right;\">\n",
       "      <th>age_rang2</th>\n",
       "      <th>0-30</th>\n",
       "      <th>31-60</th>\n",
       "      <th>61&gt;91</th>\n",
       "      <th>All</th>\n",
       "    </tr>\n",
       "    <tr>\n",
       "      <th>bm</th>\n",
       "      <th></th>\n",
       "      <th></th>\n",
       "      <th></th>\n",
       "      <th></th>\n",
       "    </tr>\n",
       "  </thead>\n",
       "  <tbody>\n",
       "    <tr>\n",
       "      <th>benign</th>\n",
       "      <td>1640</td>\n",
       "      <td>6302</td>\n",
       "      <td>1833</td>\n",
       "      <td>9775</td>\n",
       "    </tr>\n",
       "    <tr>\n",
       "      <th>malignant</th>\n",
       "      <td>114</td>\n",
       "      <td>890</td>\n",
       "      <td>1174</td>\n",
       "      <td>2178</td>\n",
       "    </tr>\n",
       "    <tr>\n",
       "      <th>All</th>\n",
       "      <td>1754</td>\n",
       "      <td>7192</td>\n",
       "      <td>3007</td>\n",
       "      <td>11953</td>\n",
       "    </tr>\n",
       "  </tbody>\n",
       "</table>\n",
       "</div>"
      ],
      "text/plain": [
       "age_rang2  0-30  31-60  61>91    All\n",
       "bm                                  \n",
       "benign     1640   6302   1833   9775\n",
       "malignant   114    890   1174   2178\n",
       "All        1754   7192   3007  11953"
      ]
     },
     "execution_count": 14,
     "metadata": {},
     "output_type": "execute_result"
    }
   ],
   "source": [
    "pd.crosstab (dfimages.bm, dfimages.age_rang2, margins=True)"
   ]
  },
  {
   "cell_type": "code",
   "execution_count": 15,
   "metadata": {},
   "outputs": [
    {
     "data": {
      "text/html": [
       "<div>\n",
       "<style scoped>\n",
       "    .dataframe tbody tr th:only-of-type {\n",
       "        vertical-align: middle;\n",
       "    }\n",
       "\n",
       "    .dataframe tbody tr th {\n",
       "        vertical-align: top;\n",
       "    }\n",
       "\n",
       "    .dataframe thead th {\n",
       "        text-align: right;\n",
       "    }\n",
       "</style>\n",
       "<table border=\"1\" class=\"dataframe\">\n",
       "  <thead>\n",
       "    <tr style=\"text-align: right;\">\n",
       "      <th></th>\n",
       "      <th>age_rang2</th>\n",
       "      <th>0-30</th>\n",
       "      <th>31-60</th>\n",
       "      <th>61&gt;91</th>\n",
       "      <th>All</th>\n",
       "    </tr>\n",
       "    <tr>\n",
       "      <th>bm</th>\n",
       "      <th>sex</th>\n",
       "      <th></th>\n",
       "      <th></th>\n",
       "      <th></th>\n",
       "      <th></th>\n",
       "    </tr>\n",
       "  </thead>\n",
       "  <tbody>\n",
       "    <tr>\n",
       "      <th rowspan=\"2\" valign=\"top\">benign</th>\n",
       "      <th>female</th>\n",
       "      <td>959</td>\n",
       "      <td>3233</td>\n",
       "      <td>626</td>\n",
       "      <td>4818</td>\n",
       "    </tr>\n",
       "    <tr>\n",
       "      <th>male</th>\n",
       "      <td>681</td>\n",
       "      <td>3069</td>\n",
       "      <td>1207</td>\n",
       "      <td>4957</td>\n",
       "    </tr>\n",
       "    <tr>\n",
       "      <th rowspan=\"2\" valign=\"top\">malignant</th>\n",
       "      <th>female</th>\n",
       "      <td>65</td>\n",
       "      <td>408</td>\n",
       "      <td>343</td>\n",
       "      <td>816</td>\n",
       "    </tr>\n",
       "    <tr>\n",
       "      <th>male</th>\n",
       "      <td>49</td>\n",
       "      <td>482</td>\n",
       "      <td>831</td>\n",
       "      <td>1362</td>\n",
       "    </tr>\n",
       "    <tr>\n",
       "      <th>All</th>\n",
       "      <th></th>\n",
       "      <td>1754</td>\n",
       "      <td>7192</td>\n",
       "      <td>3007</td>\n",
       "      <td>11953</td>\n",
       "    </tr>\n",
       "  </tbody>\n",
       "</table>\n",
       "</div>"
      ],
      "text/plain": [
       "age_rang2         0-30  31-60  61>91    All\n",
       "bm        sex                              \n",
       "benign    female   959   3233    626   4818\n",
       "          male     681   3069   1207   4957\n",
       "malignant female    65    408    343    816\n",
       "          male      49    482    831   1362\n",
       "All               1754   7192   3007  11953"
      ]
     },
     "execution_count": 15,
     "metadata": {},
     "output_type": "execute_result"
    }
   ],
   "source": [
    "pd.crosstab ([dfimages.bm, dfimages.sex], dfimages.age_rang2, margins=True)"
   ]
  },
  {
   "cell_type": "code",
   "execution_count": 16,
   "metadata": {},
   "outputs": [
    {
     "name": "stdout",
     "output_type": "stream",
     "text": [
      "Malignant: 2178\n",
      "Benign: 9775\n"
     ]
    }
   ],
   "source": [
    "#Contar nº de filas con una condicion en una columna\n",
    "#df[df.a > 1].sum()   \n",
    "#\n",
    "# dfimages[dfimages.bm == 'malignant'].count()\n",
    "print ('Malignant:', dfimages.bm.value_counts()['malignant'])\n",
    "print ('Benign:', dfimages.bm.value_counts()['benign'])"
   ]
  },
  {
   "cell_type": "code",
   "execution_count": null,
   "metadata": {},
   "outputs": [],
   "source": [
    "# Convert the Crosstabs in dataframes to do a Chi ^2 test \n",
    "# Save the data frames in the csv directory \n",
    "table_bm_sex  = pd.crosstab (dfimages.bm, dfimages.sex, margins=False)\n",
    "table_bm_age  = pd.crosstab (dfimages.bm, dfimages.age_rang2, margins=False)\n",
    "table_bm_sex_age  = pd.crosstab (dfimages.bm, [dfimages.sex, dfimages.age_rang2], margins=False)\n",
    "#print( type(table_bm_sex ))\n",
    "#print (  table_bm_sex.shape)\n",
    "#print( type(table_bm_age ))\n",
    "#print (  table_bm_age.shape)\n",
    "#print( type(table_bm_sex_age ))\n",
    "#print (  table_bm_sex_age.shape)\n",
    "#print (  table_bm_sex_age)\n",
    "table_bm_sex.to_csv(csv_dir+'table_bm_sex.csv')\n",
    "table_bm_age.to_csv(csv_dir+'table_bm_age.csv')\n",
    "table_bm_sex_age.to_csv(csv_dir+'table_bm_sex_age.csv')"
   ]
  },
  {
   "cell_type": "code",
   "execution_count": 17,
   "metadata": {},
   "outputs": [],
   "source": [
    "#Shuffle dataframes in sklearn\n",
    "from sklearn.utils import shuffle\n",
    "# Shuffle before distributing \n",
    "dfimages_shuf = shuffle(dfimages, random_state=20)\n",
    "\n",
    "# Images are selected 1/2 Malignant & 1/2 Benign  \n",
    "# Create train dataframe\n",
    "# def extract_images_bm ( df,benign,n_benign,n_malignant,perc_train, perc_val\n",
    "# Selects the number of benigm and malignant samples, shuffles them and then extracts the % of training, validation\n",
    "# and rest test \n",
    "# benigm = 'benign'\n",
    "# n_benign = nº of benign samples\n",
    "# n_malignant = nº of malignant samples\n",
    "# perc_train = % training\n",
    "# perc_val = % validation \n",
    "\n",
    "(dftrain, dfval, dftest)  = extract_images_bm(dfimages_shuf,'benign',1750, 1750, 60, 20)\n",
    "\n"
   ]
  },
  {
   "cell_type": "code",
   "execution_count": 18,
   "metadata": {},
   "outputs": [
    {
     "name": "stdout",
     "output_type": "stream",
     "text": [
      "(2100, 7)\n",
      "(700, 7)\n",
      "(700, 7)\n",
      "         file_name   sex         bm  age             site age_rang age_rang2\n",
      "5043  ISIC_0028860  male  malignant   65  posterior torso    61-70     61>91\n",
      "3076  ISIC_0025918  male     benign   75  posterior torso    71-80     61>91\n",
      "         file_name     sex         bm  age             site age_rang age_rang2\n",
      "6417  ISIC_0028244    male     benign   50  lower extremity    41-50     31-60\n",
      "5959  ISIC_0032993  female  malignant   35   anterior torso    31-40     31-60\n",
      "         file_name     sex         bm  age  site age_rang age_rang2\n",
      "9498  ISIC_0024233    male  malignant   60  None    51-60     31-60\n",
      "4964  ISIC_0029624  female     benign   45  None    41-50     31-60\n"
     ]
    }
   ],
   "source": [
    "print ( dftrain.shape)\n",
    "print ( dfval.shape)\n",
    "print ( dftest.shape)\n",
    "print ( dftrain[1:3])\n",
    "print ( dfval[1:3])\n",
    "print ( dftest[1:3])"
   ]
  },
  {
   "cell_type": "code",
   "execution_count": 19,
   "metadata": {},
   "outputs": [
    {
     "name": "stdout",
     "output_type": "stream",
     "text": [
      "Benign Train : 1049\n",
      "Malignant Train: 1051\n",
      "Benign val : 361\n",
      "Malignant val: 339\n",
      "Benign Test : 340\n",
      "Malignant Test: 360\n"
     ]
    }
   ],
   "source": [
    "print ('Benign Train :', dftrain.bm.value_counts()['benign'])\n",
    "print ('Malignant Train:', dftrain.bm.value_counts()['malignant'])\n",
    "print ('Benign val :', dfval.bm.value_counts()['benign'])\n",
    "print ('Malignant val:', dfval.bm.value_counts()['malignant'])\n",
    "print ('Benign Test :', dftest.bm.value_counts()['benign'])\n",
    "print ('Malignant Test:', dftest.bm.value_counts()['malignant'])"
   ]
  },
  {
   "cell_type": "code",
   "execution_count": 20,
   "metadata": {},
   "outputs": [],
   "source": [
    "# Add extension to the file name\n",
    "dftrain['file_name_ext'] = dftrain['file_name'] + \".jpg\" \n",
    "dfval['file_name_ext'] = dfval['file_name'] + \".jpg\" \n",
    "dftest['file_name_ext'] = dftest['file_name'] + \".jpg\" "
   ]
  },
  {
   "cell_type": "code",
   "execution_count": 21,
   "metadata": {},
   "outputs": [],
   "source": [
    "# To check if file exist \n",
    "#from pathlib import Path\n",
    "# my_file = Path(\"/path/to/file\")\n",
    "#if my_file.is_file():\n",
    "    # file exists"
   ]
  },
  {
   "cell_type": "code",
   "execution_count": 22,
   "metadata": {},
   "outputs": [
    {
     "name": "stdout",
     "output_type": "stream",
     "text": [
      "/home/valborsf/Documents/UOC/PFMProject/DataNew4/CSV/\n"
     ]
    }
   ],
   "source": [
    "print( csv_dir)"
   ]
  },
  {
   "cell_type": "code",
   "execution_count": 23,
   "metadata": {},
   "outputs": [
    {
     "name": "stdout",
     "output_type": "stream",
     "text": [
      "         file_name     sex         bm  age             site age_rang  \\\n",
      "3921  ISIC_0025496  female     benign   45             None    41-50   \n",
      "1791  ISIC_0033804  female  malignant   30  posterior torso    21-30   \n",
      "7930  ISIC_0013707  female     benign   85  lower extremity    81-90   \n",
      "8347  ISIC_0010901  female     benign   65  posterior torso    61-70   \n",
      "5139  ISIC_0009882  female  malignant   60  upper extremity    51-60   \n",
      "\n",
      "     age_rang2     file_name_ext  \n",
      "3921     31-60  ISIC_0025496.jpg  \n",
      "1791      0-30  ISIC_0033804.jpg  \n",
      "7930     61>91  ISIC_0013707.jpg  \n",
      "8347     61>91  ISIC_0010901.jpg  \n",
      "5139     31-60  ISIC_0009882.jpg  \n",
      "          file_name     sex         bm  age             site age_rang  \\\n",
      "11141  ISIC_0010834    male  malignant   55  lower extremity    51-60   \n",
      "9383   ISIC_0033920  female     benign   25  upper extremity    21-30   \n",
      "8651   ISIC_0010760    male     benign   45  posterior torso    41-50   \n",
      "9761   ISIC_0001106    male  malignant   70  lower extremity    61-70   \n",
      "1773   ISIC_0027293  female     benign   15        head/neck    11-20   \n",
      "\n",
      "      age_rang2     file_name_ext  \n",
      "11141     31-60  ISIC_0010834.jpg  \n",
      "9383       0-30  ISIC_0033920.jpg  \n",
      "8651      31-60  ISIC_0010760.jpg  \n",
      "9761      61>91  ISIC_0001106.jpg  \n",
      "1773       0-30  ISIC_0027293.jpg  \n"
     ]
    }
   ],
   "source": [
    "# writte the result to a .csv  file\n",
    "# Shuffle \n",
    "# Once the train, val and test are set, shuffle them\n",
    "dftrain_shuf = shuffle(dftrain, random_state=20)\n",
    "dfval_shuf = shuffle(dfval, random_state=20)\n",
    "dftest_shuf = shuffle(dftest, random_state=20)\n",
    "\n",
    "# Print head\n",
    "print(dftrain_shuf[:5])\n",
    "print(dftrain_shuf[210:215])\n",
    "\n",
    "#Create files with shuffle result\n",
    "dftrain_shuf.to_csv(csv_dir+'dftrain.csv')\n",
    "dfval_shuf.to_csv(csv_dir+'dfval.csv')\n",
    "dftest_shuf.to_csv(csv_dir+'dftest.csv')"
   ]
  },
  {
   "cell_type": "code",
   "execution_count": null,
   "metadata": {},
   "outputs": [],
   "source": [
    "# Copy Images in directory Collab\n",
    "#import os, shutil \n",
    "\n",
    "#collab_dir = root_dir + \"/Data/COLLAB/\"\n",
    "\n",
    "#for index, row in dftrain.iterrows():\n",
    "#    file = dftrain['file_name'][index]\n",
    "#    file_jpg  = file + \".jpg\"\n",
    "#    file_json = file + \".json\" \n",
    "#    dst = collab_dir + file_json     \n",
    "#    src = json_dir + file_json \n",
    "#    shutil.copyfile ( src,dst)   # Copy file .json to COLLAB dir\n",
    "#    dst = collab_dir + file_jpg \n",
    "#    src = imag_dir + file_jpg \n",
    "#    shutil.copyfile ( src,dst)   # Copy file .png to COLLAB dir\n",
    "\n",
    "#for index, row in dfval.iterrows():\n",
    "#    file = dfval['file_name'][index]\n",
    "#    file_jpg  = file + \".jpg\"\n",
    "#    file_json = file + \".json\" \n",
    "#    dst = collab_dir + file_json     \n",
    "#    src = json_dir + file_json \n",
    "#    shutil.copyfile ( src,dst)   # Copy file .json to COLLAB dir\n",
    "#    dst = collab_dir + file_jpg \n",
    "#    src = imag_dir + file_jpg \n",
    "#    shutil.copyfile ( src,dst)   # Copy file .png to COLLAB dir\n",
    "\n",
    "#for index, row in dftest.iterrows():\n",
    "#    file = dftest['file_name'][index]\n",
    "#    file_jpg  = file + \".jpg\"\n",
    "#    file_json = file + \".json\" \n",
    "#    dst = collab_dir + file_json     \n",
    "#    src = json_dir + file_json \n",
    "#    shutil.copyfile ( src,dst)   # Copy file .json to COLLAB dir\n",
    "#    dst = collab_dir + file_jpg \n",
    "#   src = imag_dir + file_jpg \n",
    "#    shutil.copyfile ( src,dst)   # Copy file .png to COLLAB dir"
   ]
  },
  {
   "cell_type": "code",
   "execution_count": null,
   "metadata": {},
   "outputs": [],
   "source": [
    "#!ls"
   ]
  },
  {
   "cell_type": "code",
   "execution_count": 24,
   "metadata": {},
   "outputs": [
    {
     "data": {
      "text/html": [
       "<div>\n",
       "<style scoped>\n",
       "    .dataframe tbody tr th:only-of-type {\n",
       "        vertical-align: middle;\n",
       "    }\n",
       "\n",
       "    .dataframe tbody tr th {\n",
       "        vertical-align: top;\n",
       "    }\n",
       "\n",
       "    .dataframe thead th {\n",
       "        text-align: right;\n",
       "    }\n",
       "</style>\n",
       "<table border=\"1\" class=\"dataframe\">\n",
       "  <thead>\n",
       "    <tr style=\"text-align: right;\">\n",
       "      <th></th>\n",
       "      <th>age_rang2</th>\n",
       "      <th>0-30</th>\n",
       "      <th>31-60</th>\n",
       "      <th>61&gt;91</th>\n",
       "      <th>All</th>\n",
       "    </tr>\n",
       "    <tr>\n",
       "      <th>bm</th>\n",
       "      <th>sex</th>\n",
       "      <th></th>\n",
       "      <th></th>\n",
       "      <th></th>\n",
       "      <th></th>\n",
       "    </tr>\n",
       "  </thead>\n",
       "  <tbody>\n",
       "    <tr>\n",
       "      <th rowspan=\"2\" valign=\"top\">benign</th>\n",
       "      <th>female</th>\n",
       "      <td>112</td>\n",
       "      <td>337</td>\n",
       "      <td>74</td>\n",
       "      <td>523</td>\n",
       "    </tr>\n",
       "    <tr>\n",
       "      <th>male</th>\n",
       "      <td>80</td>\n",
       "      <td>320</td>\n",
       "      <td>126</td>\n",
       "      <td>526</td>\n",
       "    </tr>\n",
       "    <tr>\n",
       "      <th rowspan=\"2\" valign=\"top\">malignant</th>\n",
       "      <th>female</th>\n",
       "      <td>32</td>\n",
       "      <td>207</td>\n",
       "      <td>164</td>\n",
       "      <td>403</td>\n",
       "    </tr>\n",
       "    <tr>\n",
       "      <th>male</th>\n",
       "      <td>21</td>\n",
       "      <td>219</td>\n",
       "      <td>408</td>\n",
       "      <td>648</td>\n",
       "    </tr>\n",
       "    <tr>\n",
       "      <th>All</th>\n",
       "      <th></th>\n",
       "      <td>245</td>\n",
       "      <td>1083</td>\n",
       "      <td>772</td>\n",
       "      <td>2100</td>\n",
       "    </tr>\n",
       "  </tbody>\n",
       "</table>\n",
       "</div>"
      ],
      "text/plain": [
       "age_rang2         0-30  31-60  61>91   All\n",
       "bm        sex                             \n",
       "benign    female   112    337     74   523\n",
       "          male      80    320    126   526\n",
       "malignant female    32    207    164   403\n",
       "          male      21    219    408   648\n",
       "All                245   1083    772  2100"
      ]
     },
     "execution_count": 24,
     "metadata": {},
     "output_type": "execute_result"
    }
   ],
   "source": [
    "# Train set of data \n",
    "pd.crosstab ([dftrain_shuf.bm, dftrain_shuf.sex], dftrain_shuf.age_rang2, margins=True)"
   ]
  },
  {
   "cell_type": "code",
   "execution_count": 25,
   "metadata": {},
   "outputs": [
    {
     "data": {
      "text/html": [
       "<div>\n",
       "<style scoped>\n",
       "    .dataframe tbody tr th:only-of-type {\n",
       "        vertical-align: middle;\n",
       "    }\n",
       "\n",
       "    .dataframe tbody tr th {\n",
       "        vertical-align: top;\n",
       "    }\n",
       "\n",
       "    .dataframe thead th {\n",
       "        text-align: right;\n",
       "    }\n",
       "</style>\n",
       "<table border=\"1\" class=\"dataframe\">\n",
       "  <thead>\n",
       "    <tr style=\"text-align: right;\">\n",
       "      <th></th>\n",
       "      <th>age_rang2</th>\n",
       "      <th>0-30</th>\n",
       "      <th>31-60</th>\n",
       "      <th>61&gt;91</th>\n",
       "      <th>All</th>\n",
       "    </tr>\n",
       "    <tr>\n",
       "      <th>bm</th>\n",
       "      <th>sex</th>\n",
       "      <th></th>\n",
       "      <th></th>\n",
       "      <th></th>\n",
       "      <th></th>\n",
       "    </tr>\n",
       "  </thead>\n",
       "  <tbody>\n",
       "    <tr>\n",
       "      <th rowspan=\"2\" valign=\"top\">benign</th>\n",
       "      <th>female</th>\n",
       "      <td>31</td>\n",
       "      <td>121</td>\n",
       "      <td>20</td>\n",
       "      <td>172</td>\n",
       "    </tr>\n",
       "    <tr>\n",
       "      <th>male</th>\n",
       "      <td>34</td>\n",
       "      <td>114</td>\n",
       "      <td>41</td>\n",
       "      <td>189</td>\n",
       "    </tr>\n",
       "    <tr>\n",
       "      <th rowspan=\"2\" valign=\"top\">malignant</th>\n",
       "      <th>female</th>\n",
       "      <td>13</td>\n",
       "      <td>51</td>\n",
       "      <td>57</td>\n",
       "      <td>121</td>\n",
       "    </tr>\n",
       "    <tr>\n",
       "      <th>male</th>\n",
       "      <td>7</td>\n",
       "      <td>78</td>\n",
       "      <td>133</td>\n",
       "      <td>218</td>\n",
       "    </tr>\n",
       "    <tr>\n",
       "      <th>All</th>\n",
       "      <th></th>\n",
       "      <td>85</td>\n",
       "      <td>364</td>\n",
       "      <td>251</td>\n",
       "      <td>700</td>\n",
       "    </tr>\n",
       "  </tbody>\n",
       "</table>\n",
       "</div>"
      ],
      "text/plain": [
       "age_rang2         0-30  31-60  61>91  All\n",
       "bm        sex                            \n",
       "benign    female    31    121     20  172\n",
       "          male      34    114     41  189\n",
       "malignant female    13     51     57  121\n",
       "          male       7     78    133  218\n",
       "All                 85    364    251  700"
      ]
     },
     "execution_count": 25,
     "metadata": {},
     "output_type": "execute_result"
    }
   ],
   "source": [
    "# Validation set of data\n",
    "pd.crosstab ([dfval_shuf.bm, dfval_shuf.sex], dfval_shuf.age_rang2, margins=True)"
   ]
  },
  {
   "cell_type": "code",
   "execution_count": 26,
   "metadata": {},
   "outputs": [
    {
     "data": {
      "text/html": [
       "<div>\n",
       "<style scoped>\n",
       "    .dataframe tbody tr th:only-of-type {\n",
       "        vertical-align: middle;\n",
       "    }\n",
       "\n",
       "    .dataframe tbody tr th {\n",
       "        vertical-align: top;\n",
       "    }\n",
       "\n",
       "    .dataframe thead th {\n",
       "        text-align: right;\n",
       "    }\n",
       "</style>\n",
       "<table border=\"1\" class=\"dataframe\">\n",
       "  <thead>\n",
       "    <tr style=\"text-align: right;\">\n",
       "      <th></th>\n",
       "      <th>age_rang2</th>\n",
       "      <th>0-30</th>\n",
       "      <th>31-60</th>\n",
       "      <th>61&gt;91</th>\n",
       "      <th>All</th>\n",
       "    </tr>\n",
       "    <tr>\n",
       "      <th>bm</th>\n",
       "      <th>sex</th>\n",
       "      <th></th>\n",
       "      <th></th>\n",
       "      <th></th>\n",
       "      <th></th>\n",
       "    </tr>\n",
       "  </thead>\n",
       "  <tbody>\n",
       "    <tr>\n",
       "      <th rowspan=\"2\" valign=\"top\">benign</th>\n",
       "      <th>female</th>\n",
       "      <td>34</td>\n",
       "      <td>113</td>\n",
       "      <td>22</td>\n",
       "      <td>169</td>\n",
       "    </tr>\n",
       "    <tr>\n",
       "      <th>male</th>\n",
       "      <td>18</td>\n",
       "      <td>113</td>\n",
       "      <td>40</td>\n",
       "      <td>171</td>\n",
       "    </tr>\n",
       "    <tr>\n",
       "      <th rowspan=\"2\" valign=\"top\">malignant</th>\n",
       "      <th>female</th>\n",
       "      <td>13</td>\n",
       "      <td>68</td>\n",
       "      <td>57</td>\n",
       "      <td>138</td>\n",
       "    </tr>\n",
       "    <tr>\n",
       "      <th>male</th>\n",
       "      <td>9</td>\n",
       "      <td>86</td>\n",
       "      <td>127</td>\n",
       "      <td>222</td>\n",
       "    </tr>\n",
       "    <tr>\n",
       "      <th>All</th>\n",
       "      <th></th>\n",
       "      <td>74</td>\n",
       "      <td>380</td>\n",
       "      <td>246</td>\n",
       "      <td>700</td>\n",
       "    </tr>\n",
       "  </tbody>\n",
       "</table>\n",
       "</div>"
      ],
      "text/plain": [
       "age_rang2         0-30  31-60  61>91  All\n",
       "bm        sex                            \n",
       "benign    female    34    113     22  169\n",
       "          male      18    113     40  171\n",
       "malignant female    13     68     57  138\n",
       "          male       9     86    127  222\n",
       "All                 74    380    246  700"
      ]
     },
     "execution_count": 26,
     "metadata": {},
     "output_type": "execute_result"
    }
   ],
   "source": [
    "# Test set of data\n",
    "pd.crosstab ([dftest_shuf.bm, dftest_shuf.sex], dftest_shuf.age_rang2, margins=True)"
   ]
  },
  {
   "cell_type": "code",
   "execution_count": null,
   "metadata": {},
   "outputs": [],
   "source": []
  }
 ],
 "metadata": {
  "kernelspec": {
   "display_name": "“gpu2”",
   "language": "python",
   "name": "gpu2"
  },
  "language_info": {
   "codemirror_mode": {
    "name": "ipython",
    "version": 3
   },
   "file_extension": ".py",
   "mimetype": "text/x-python",
   "name": "python",
   "nbconvert_exporter": "python",
   "pygments_lexer": "ipython3",
   "version": "3.7.5"
  }
 },
 "nbformat": 4,
 "nbformat_minor": 2
}

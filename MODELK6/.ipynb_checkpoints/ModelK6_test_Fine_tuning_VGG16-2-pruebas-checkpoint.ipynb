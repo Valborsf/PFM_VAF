{
 "cells": [
  {
   "cell_type": "markdown",
   "metadata": {
    "colab_type": "text",
    "id": "Ur34g7Fbi5lr"
   },
   "source": [
    "# Notebook- Model K6_1 Fine Tuning VGG16 -Test\n",
    "# Author : V.Albors   Date : 08.02.2020\n",
    "# Purpose : Fine Tuning\n",
    "\n",
    "\n",
    "**Input** :  \n",
    "  * CSV files that identify the images to use as train and validation. CSV files are in directory csv_dir   \n",
    "  * Images from train and validation. Images are in directory : imag_dir  \n",
    "  * Saved model. Model is in directory : model_bin_dir  \n",
    "  \n",
    "**Output**:  \n",
    "  * Download of the model trained with train dataset - with Data Augmentation\n",
    "  * Download the history of the model in order to be evaluated \n",
    "\n",
    "**Process**:  \n",
    " * Read Train and Validation images ( identified in the .csv files ) from the imag_dir directory   \n",
    " * Import Pre-Trained Network ( VGG16 or ResNett50 ) \n",
    " \n",
    " \n",
    " * Add custom network on top already trained network\n",
    " * Freeze the base Network\n",
    " * Train the part Added  ( Train with Augmentation + No callback ) \n",
    " \n",
    " * Fine Tune : \n",
    " * Unfreeze some layers in the base network\n",
    " * Jointly train both these layers and the part added ( Train with Augmentation + No callback ) \n",
    " \n",
    " \n",
    " * Save the trained model and history of the model in directory model_bin_dir \n",
    "\n"
   ]
  },
  {
   "cell_type": "code",
   "execution_count": 1,
   "metadata": {},
   "outputs": [],
   "source": [
    "from __future__ import absolute_import, division, print_function, unicode_literals\n",
    "import tensorflow as tf\n",
    "\n",
    "tf.keras.backend.clear_session()  # Reset"
   ]
  },
  {
   "cell_type": "code",
   "execution_count": 2,
   "metadata": {},
   "outputs": [
    {
     "name": "stdout",
     "output_type": "stream",
     "text": [
      "Num GPUs Available:  1\n"
     ]
    }
   ],
   "source": [
    "import tensorflow as tf\n",
    "#gpus = tf.config.experimental.list_physical_devices('GPU')\n",
    "print(\"Num GPUs Available: \", len(tf.config.experimental.list_physical_devices('GPU')))\n",
    "tf.config.experimental.list_physical_devices('GPU') \n",
    "physical_devices = tf.config.experimental.list_physical_devices('GPU')\n",
    "assert len(physical_devices) > 0, \"Not enough GPU hardware devices available\"\n",
    "tf.config.experimental.set_memory_growth(physical_devices[0], True)\n",
    "tf.debugging.set_log_device_placement(False)"
   ]
  },
  {
   "cell_type": "code",
   "execution_count": 3,
   "metadata": {},
   "outputs": [
    {
     "name": "stdout",
     "output_type": "stream",
     "text": [
      "2.3.1\n",
      "2.0.0\n",
      "10.0\n",
      "7.6\n"
     ]
    },
    {
     "name": "stderr",
     "output_type": "stream",
     "text": [
      "Using TensorFlow backend.\n"
     ]
    }
   ],
   "source": [
    "import keras\n",
    "print(keras.__version__)\n",
    "\n",
    "#Tensorflow version \n",
    "print(tf.__version__)\n",
    "from tensorflow.python.platform import build_info as tf_build_info\n",
    "print(tf_build_info.cuda_version_number)\n",
    "# Cuda Version 9.0 in v1.10.0\n",
    "print(tf_build_info.cudnn_version_number)\n",
    "# CudNN 7 in v1.10.0"
   ]
  },
  {
   "cell_type": "code",
   "execution_count": 4,
   "metadata": {},
   "outputs": [],
   "source": [
    "# Define the name of the model, directories & if to train the model \n",
    "Pre_model = \"VGG16\"\n",
    "#Pre_model = \"ResNet50\"\n",
    "if Pre_model == \"ResNet50\":\n",
    "    Model_name = \"ModelK6_1_ResNet50\"\n",
    "else:\n",
    "    Model_name = \"ModelK6_1_VGG16\"\n",
    "\n",
    "Model_directory = \"MODELK6\"\n",
    "\n",
    "TRAIN = True"
   ]
  },
  {
   "cell_type": "code",
   "execution_count": 5,
   "metadata": {},
   "outputs": [
    {
     "name": "stdout",
     "output_type": "stream",
     "text": [
      "['confusion_ROC_AUC', 'create_column_tensor', 'create_label_tensor', 'create_val_test', 'define_dirs', 'extract_images_bm', 'extract_images_train', 'load_hist_model', 'load_images', 'load_images_tf', 'model_load', 'plot_save_acc_loss', 'print_network', 'process_clinical_info', 'read_dataframes', 'read_dataframes_tables', 'reproducible_results', 'save_model', 'save_model_no_opt', 'save_network_json', 'start', 'stop', 'to_one_hot', 'to_one_hot_words', 'xi_squared']\n"
     ]
    }
   ],
   "source": [
    "# Import routines\n",
    "import sys  \n",
    "subrc_dir = \"/home/valborsf/Documents/UOC/PFMProject/\"\n",
    "\n",
    "sys.path.append(subrc_dir)  \n",
    "from  Models_routines import *\n",
    "import inspect\n",
    "\n",
    "# List functions inside the module\n",
    "import Models_routines as module\n",
    "functions = inspect.getmembers(module, inspect.isfunction)\n",
    "lsfunctions = [item[0] for item in functions]\n",
    "print ( lsfunctions )"
   ]
  },
  {
   "cell_type": "code",
   "execution_count": 6,
   "metadata": {},
   "outputs": [],
   "source": [
    "# Define directories\n",
    "(root_dir,json_dir,imag_dir,csv_dir,model_json_dir,model_bin_dir,results_dir,Tensor_dir) = define_dirs(Model_directory)"
   ]
  },
  {
   "cell_type": "code",
   "execution_count": 7,
   "metadata": {},
   "outputs": [],
   "source": [
    "# New dataset without SONIC disturbing images\n",
    "json_dir =  root_dir +\"/DataNew/ALL_JSON/\"                # .json dir images\n",
    "imag_dir =  root_dir +\"/DataNew/ALL_IMAGES/\"              # .png dir - images\n",
    "\n",
    "# directories for  CSV's\n",
    "csv_dir =  root_dir +\"/DataNew4/CSV/\"                      # .csv dir - dftrain, dfval, dftest"
   ]
  },
  {
   "cell_type": "code",
   "execution_count": 8,
   "metadata": {},
   "outputs": [],
   "source": [
    "if Pre_model == \"ResNet50\":\n",
    "    from keras.applications import ResNet50\n",
    "elif Pre_model == \"VGG16\":\n",
    "    from keras.applications import VGG16"
   ]
  },
  {
   "cell_type": "code",
   "execution_count": 9,
   "metadata": {},
   "outputs": [],
   "source": [
    "if Pre_model == \"ResNet50\":\n",
    "       conv_base = ResNet50 ( weights='imagenet',       # Weight checkpoint from which to initialize the model \n",
    "                     include_top = False,        # No include the dense connected classifier on top\n",
    "                     input_shape = (150,150,3))  # Shape of the image tensors to feed in the network\n",
    "\n",
    "elif Pre_model == \"VGG16\":\n",
    "       conv_base = VGG16  ( weights='imagenet',       # Weight checkpoint from which to initialize the model \n",
    "                     include_top = False,        # No include the dense connected classifier on top\n",
    "                     input_shape = (150,150,3))  # Shape of the image tensors to feed in the network"
   ]
  },
  {
   "cell_type": "code",
   "execution_count": 10,
   "metadata": {},
   "outputs": [],
   "source": [
    "# See conv Architecture\n",
    "#conv_base.summary()"
   ]
  },
  {
   "cell_type": "code",
   "execution_count": 11,
   "metadata": {},
   "outputs": [],
   "source": [
    "# Extendind the conv_base model \n",
    "\n",
    "from keras import layers\n",
    "from keras import models\n",
    "\n",
    "model = models.Sequential ()\n",
    "model.add(conv_base)\n",
    "model.add(layers.Flatten())\n",
    "model.add(layers.Dropout(0.5))\n",
    "model.add(layers.Dense(512, activation='relu'))\n",
    "model.add(layers.Dense(1, activation='sigmoid'))"
   ]
  },
  {
   "cell_type": "code",
   "execution_count": 12,
   "metadata": {},
   "outputs": [],
   "source": [
    "#Print Network \n",
    "print_network (results_dir, model, Model_name)\n",
    "#Save Network \n",
    "save_network_json (model_json_dir, model, Model_name)"
   ]
  },
  {
   "cell_type": "code",
   "execution_count": 13,
   "metadata": {},
   "outputs": [
    {
     "name": "stdout",
     "output_type": "stream",
     "text": [
      "Model: \"sequential_1\"\n",
      "_________________________________________________________________\n",
      "Layer (type)                 Output Shape              Param #   \n",
      "=================================================================\n",
      "vgg16 (Model)                (None, 4, 4, 512)         14714688  \n",
      "_________________________________________________________________\n",
      "flatten_1 (Flatten)          (None, 8192)              0         \n",
      "_________________________________________________________________\n",
      "dropout_1 (Dropout)          (None, 8192)              0         \n",
      "_________________________________________________________________\n",
      "dense_1 (Dense)              (None, 512)               4194816   \n",
      "_________________________________________________________________\n",
      "dense_2 (Dense)              (None, 1)                 513       \n",
      "=================================================================\n",
      "Total params: 18,910,017\n",
      "Trainable params: 18,910,017\n",
      "Non-trainable params: 0\n",
      "_________________________________________________________________\n"
     ]
    }
   ],
   "source": [
    "model.summary()"
   ]
  },
  {
   "cell_type": "code",
   "execution_count": 14,
   "metadata": {},
   "outputs": [
    {
     "name": "stdout",
     "output_type": "stream",
     "text": [
      "Model before freezing:\n",
      "30\n",
      "Model After freezing:\n",
      "4\n"
     ]
    }
   ],
   "source": [
    "# Freeze the convolutional base\n",
    "print ( 'Model before freezing:')\n",
    "print(len(model.trainable_weights))\n",
    "conv_base.trainable = False\n",
    "print ( 'Model After freezing:')\n",
    "print(len(model.trainable_weights))"
   ]
  },
  {
   "cell_type": "code",
   "execution_count": 15,
   "metadata": {},
   "outputs": [
    {
     "name": "stdout",
     "output_type": "stream",
     "text": [
      "layer name: input_1 False\n",
      "layer name: block1_conv1 False\n",
      "layer name: block1_conv2 False\n",
      "layer name: block1_pool False\n",
      "layer name: block2_conv1 False\n",
      "layer name: block2_conv2 False\n",
      "layer name: block2_pool False\n",
      "layer name: block3_conv1 False\n",
      "layer name: block3_conv2 False\n",
      "layer name: block3_conv3 False\n",
      "layer name: block3_pool False\n",
      "layer name: block4_conv1 False\n",
      "layer name: block4_conv2 False\n",
      "layer name: block4_conv3 False\n",
      "layer name: block4_pool False\n",
      "layer name: block5_conv1 False\n",
      "layer name: block5_conv2 False\n",
      "layer name: block5_conv3 False\n",
      "layer name: block5_pool False\n"
     ]
    }
   ],
   "source": [
    "#### VERY IMPORTANT !!!!\n",
    "#### Set the layers as trainable or not, otherwise when loading the model doesn't recover the optimizer parameters\n",
    "#### and error when compiling the optimizer\n",
    "####\n",
    "\n",
    "conv_base.trainable = False\n",
    "set_trainable = False\n",
    "for layer in conv_base.layers:\n",
    "    \n",
    "    if layer.name == ' ':\n",
    "        set_trainable = False\n",
    "    if set_trainable:\n",
    "        layer.trainable = True\n",
    "    else:\n",
    "        layer.trainable = False\n",
    "    print ( \"layer name:\", layer.name, layer.trainable)"
   ]
  },
  {
   "cell_type": "code",
   "execution_count": 16,
   "metadata": {},
   "outputs": [
    {
     "name": "stdout",
     "output_type": "stream",
     "text": [
      "Model: \"sequential_1\"\n",
      "_________________________________________________________________\n",
      "Layer (type)                 Output Shape              Param #   \n",
      "=================================================================\n",
      "vgg16 (Model)                (None, 4, 4, 512)         14714688  \n",
      "_________________________________________________________________\n",
      "flatten_1 (Flatten)          (None, 8192)              0         \n",
      "_________________________________________________________________\n",
      "dropout_1 (Dropout)          (None, 8192)              0         \n",
      "_________________________________________________________________\n",
      "dense_1 (Dense)              (None, 512)               4194816   \n",
      "_________________________________________________________________\n",
      "dense_2 (Dense)              (None, 1)                 513       \n",
      "=================================================================\n",
      "Total params: 18,910,017\n",
      "Trainable params: 4,195,329\n",
      "Non-trainable params: 14,714,688\n",
      "_________________________________________________________________\n"
     ]
    }
   ],
   "source": [
    "model.summary()"
   ]
  },
  {
   "cell_type": "code",
   "execution_count": 17,
   "metadata": {},
   "outputs": [],
   "source": [
    "# Compile Network \n",
    "#from tensorflow.keras import optimizers\n",
    "from keras.optimizers import Adam\n",
    "\n",
    "model.compile ( loss='binary_crossentropy',\n",
    "#               optimizer = optimizers.RMSprop(lr=1e-4),\n",
    "               optimizer = Adam(lr=1e-4),\n",
    "               metrics= ['acc'])\n",
    "\n",
    "\n",
    " "
   ]
  },
  {
   "cell_type": "code",
   "execution_count": 18,
   "metadata": {},
   "outputs": [
    {
     "name": "stdout",
     "output_type": "stream",
     "text": [
      "Model: \"sequential_1\"\n",
      "_________________________________________________________________\n",
      "Layer (type)                 Output Shape              Param #   \n",
      "=================================================================\n",
      "vgg16 (Model)                (None, 4, 4, 512)         14714688  \n",
      "_________________________________________________________________\n",
      "flatten_1 (Flatten)          (None, 8192)              0         \n",
      "_________________________________________________________________\n",
      "dropout_1 (Dropout)          (None, 8192)              0         \n",
      "_________________________________________________________________\n",
      "dense_1 (Dense)              (None, 512)               4194816   \n",
      "_________________________________________________________________\n",
      "dense_2 (Dense)              (None, 1)                 513       \n",
      "=================================================================\n",
      "Total params: 18,910,017\n",
      "Trainable params: 4,195,329\n",
      "Non-trainable params: 14,714,688\n",
      "_________________________________________________________________\n"
     ]
    }
   ],
   "source": [
    "model.summary()"
   ]
  },
  {
   "cell_type": "code",
   "execution_count": 19,
   "metadata": {},
   "outputs": [
    {
     "name": "stdout",
     "output_type": "stream",
     "text": [
      "/home/valborsf/Documents/UOC/PFMProject/DataNew4/CSV/\n"
     ]
    }
   ],
   "source": [
    "# Load train,validation & Test \n",
    "(dftrain, dfval, dftest) = read_dataframes(csv_dir)"
   ]
  },
  {
   "cell_type": "code",
   "execution_count": 20,
   "metadata": {},
   "outputs": [],
   "source": [
    "# Callbackt to be used \n",
    "\n",
    "import keras\n",
    "from keras.callbacks import ModelCheckpoint\n",
    "from keras.callbacks import EarlyStopping\n",
    "\n",
    "callbacks_list = [\n",
    "#         keras.callbacks.EarlyStopping (\n",
    "#             monitor = 'acc',             # Monitors the accuracy\n",
    "#             patience = 2,),              # Interrupt if acc no improve in 3 epochs\n",
    "\n",
    "#  ModelCheckpoint to store the weights of the best performing epoch. \n",
    "    \n",
    "         keras.callbacks.ModelCheckpoint(filepath=model_bin_dir+\"Best_weights\"+Model_name+\".hdf5\", \n",
    "             monitor = 'val_loss', # Won't overwritte the model file unless val_loss has\n",
    "             verbose=1,            # improve \n",
    "             save_best_only=True),\n",
    "         \n",
    "#         keras.callbacks.TensorBoard(\n",
    "#             log_dir =  Tensor_dir, \n",
    "#            histogram_freq = 0,  ) # No histograms - validation data must be provided as a tensor\n",
    "          ]"
   ]
  },
  {
   "cell_type": "code",
   "execution_count": 21,
   "metadata": {
    "colab": {
     "base_uri": "https://localhost:8080/",
     "height": 52
    },
    "colab_type": "code",
    "executionInfo": {
     "elapsed": 3126,
     "status": "ok",
     "timestamp": 1572217564583,
     "user": {
      "displayName": "Victoria Albors",
      "photoUrl": "",
      "userId": "00745240505511363037"
     },
     "user_tz": -60
    },
    "id": "8UzGZWV_i5mX",
    "outputId": "7543fba5-0b25-4af2-eb57-716cb6ad1bac"
   },
   "outputs": [
    {
     "name": "stdout",
     "output_type": "stream",
     "text": [
      "Found 2100 validated image filenames belonging to 2 classes.\n",
      "Found 700 validated image filenames belonging to 2 classes.\n",
      "Found 700 validated image filenames belonging to 2 classes.\n"
     ]
    }
   ],
   "source": [
    "from keras.preprocessing.image import ImageDataGenerator\n",
    "\n",
    "#Rescale images  1/255\n",
    "\n",
    "train_datagen = ImageDataGenerator(\n",
    "    rescale=1./255,\n",
    "    rotation_range =40,\n",
    "    width_shift_range = 0.2,\n",
    "    height_shift_range = 0.2,\n",
    "    shear_range = 0.2,\n",
    "    zoom_range=0.2,\n",
    "    horizontal_flip=True, ) \n",
    "                                   \n",
    "validation_datagen = ImageDataGenerator(rescale=1./255)\n",
    "test_datagen = ImageDataGenerator(rescale=1./255)\n",
    "\n",
    "#batch size = 20 . In this way \"steps per epoch\" ( how many batches have to been treated before going to \n",
    "# the next epoch  is exact  2000 samples =  20 samples x batch  and steps per epoch = 100 - 1 epoch)\n",
    "\n",
    "train_generator = train_datagen.flow_from_dataframe(\n",
    "        dataframe=dftrain,         # Data frame with info of the files and targets\n",
    "        directory=imag_dir,        # path to the directory to read the images from\n",
    "        x_col='file_name_ext',     # column in the data frame that contains the file names \n",
    "        y_col='bm',                # column in the data frame that has the target data\n",
    "        target_size=(150, 150),    # dimensions that the images will be resized\n",
    "        batch_size=32,             # size of the batches of data (default: 32).\n",
    "        class_mode='binary')       # Mode for yielding the targets:1D numpy array of binary labels\n",
    "\n",
    "validation_generator = validation_datagen.flow_from_dataframe(\n",
    "        dataframe=dfval,           # Data frame with info of the files and targets\n",
    "        directory=imag_dir,        # path to the directory to read the images from\n",
    "        x_col='file_name_ext',     # column in the data frame that contains the file names \n",
    "        y_col='bm',                # column in the data frame that has the target data\n",
    "        target_size=(150, 150),    # dimensions that the images will be resized\n",
    "        batch_size=32,             # size of the batches of data (default: 32).\n",
    "        class_mode='binary')       # Mode for yielding the targets:1D numpy array of binary labels\n",
    "\n",
    "test_generator = test_datagen.flow_from_dataframe(\n",
    "        dataframe=dftest,         # Data frame with info of the files and targets\n",
    "        directory=imag_dir,        # path to the directory to read the images from\n",
    "        x_col='file_name_ext',     # column in the data frame that contains the file names \n",
    "        y_col='bm',                # column in the data frame that has the target data\n",
    "        target_size=(150, 150),    # dimensions that the images will be resized\n",
    "        batch_size=32,             # size of the batches of data (default: 32).\n",
    "        shuffle=False,             # IMPORTANT !!! Do not shuffle test data !!!!!!!!!!!!!\n",
    "        class_mode='binary')       # Mode for yielding the targets:1D numpy array of binary labels\n",
    "#        class_mode=None)       # Mode for yielding the targets:1D numpy array of binary labels\n",
    "    \n",
    "    "
   ]
  },
  {
   "cell_type": "code",
   "execution_count": null,
   "metadata": {
    "colab": {
     "base_uri": "https://localhost:8080/",
     "height": 1000
    },
    "colab_type": "code",
    "executionInfo": {
     "elapsed": 20824275,
     "status": "ok",
     "timestamp": 1572238403431,
     "user": {
      "displayName": "Victoria Albors",
      "photoUrl": "",
      "userId": "00745240505511363037"
     },
     "user_tz": -60
    },
    "id": "uCoVQU7Xi5mj",
    "outputId": "4f4f09d8-0b79-430f-cdc2-e5e6389a0eac"
   },
   "outputs": [],
   "source": [
    "num_train = 2100\n",
    "num_val = 700\n",
    "num_test = 700\n",
    "import time\n",
    "\n",
    "if TRAIN :\n",
    "    epochs = 100\n",
    "    start_time = time.time()   \n",
    "    history = model.fit_generator ( \n",
    "      train_generator,\n",
    "      steps_per_epoch =66,                      # nº samples training/ Batch size  = 2100 / 32 \n",
    "      epochs = epochs,\n",
    "      callbacks=callbacks_list,                 # callbacks\n",
    "      validation_data= validation_generator,\n",
    "      validation_steps =22 )                     # nº samples validation / Batch size = 700 /32\n",
    "\n",
    "\n",
    "#    This was need when the layers where not marked as trainable and I get an error when loading the model\n",
    "#    and compiling\n",
    "#    save_model_no_opt(model, history, model_bin_dir, Model_name)   # save model without optimizer \n",
    "    save_model (model, history, model_bin_dir, Model_name)   # save model without optimizer\n",
    "    elapsed_time = time.time() - start_time\n",
    "\n",
    "    print( time.strftime('Time spent in training :'\"%H:%M:%S\", time.gmtime(elapsed_time)))"
   ]
  },
  {
   "cell_type": "code",
   "execution_count": null,
   "metadata": {},
   "outputs": [],
   "source": [
    "# Import Model Test if not need to Train \n",
    "TRAIN = True\n",
    "if not TRAIN :\n",
    "    model = model_load ( model_bin_dir, Model_name)"
   ]
  },
  {
   "cell_type": "code",
   "execution_count": null,
   "metadata": {},
   "outputs": [],
   "source": [
    "# Display curves of loss and accuracy during training and save results \n",
    "\n",
    "plot_save_acc_loss(results_dir, history.history, Model_name)"
   ]
  },
  {
   "cell_type": "code",
   "execution_count": 22,
   "metadata": {},
   "outputs": [
    {
     "name": "stdout",
     "output_type": "stream",
     "text": [
      "Load Weights: \n"
     ]
    }
   ],
   "source": [
    "# Load Model \n",
    "# Load weights \n",
    "\n",
    "#model = build_model()\n",
    "#model.load_weights('my_weights.model')\n",
    "TRAIN = False\n",
    "if not TRAIN :\n",
    "    Model_name = \"ModelK6_1_VGG16\"\n",
    "#    tf.keras.backend.clear_session()  # Reset\n",
    "    model = model_load ( model_bin_dir, Model_name)                     # we load the model without optimizer\n",
    "    print ( \"Load Weights: \")\n",
    "    model.load_weights(model_bin_dir+\"Best_weights\"+Model_name+\".hdf5\")\n",
    "    \n",
    "#  This was added when layers were not marked as trainable and I get error \n",
    "#    model.compile ( loss='binary_crossentropy',                        # we need to compiled after \n",
    "#               optimizer = Adam(lr=1e-4),\n",
    "#               metrics= ['acc'])"
   ]
  },
  {
   "cell_type": "code",
   "execution_count": 23,
   "metadata": {},
   "outputs": [
    {
     "name": "stdout",
     "output_type": "stream",
     "text": [
      "22/22 [==============================] - 51s 2s/step\n"
     ]
    }
   ],
   "source": [
    "# Reset the test generator\n",
    "test_generator.reset()\n",
    "scores = model.evaluate(test_generator, verbose=1)"
   ]
  },
  {
   "cell_type": "code",
   "execution_count": null,
   "metadata": {},
   "outputs": [],
   "source": [
    "model.metrics_names"
   ]
  },
  {
   "cell_type": "code",
   "execution_count": null,
   "metadata": {},
   "outputs": [],
   "source": [
    "scores"
   ]
  },
  {
   "cell_type": "code",
   "execution_count": null,
   "metadata": {},
   "outputs": [],
   "source": [
    "# Compute predictions\n",
    "# This takes time !!!!!!!!!!!!!!!!!!!!!!!!!!!!!!!!!\n",
    "y_pred_keras = model.predict(test_generator).ravel()       # y_pred_probabilities\n",
    "y_pred = y_pred_keras > 0.5                                # y_pred_class : if >0.5  = True => Malignant\n",
    "y_test = test_generator.classes                            # Ground truth\n",
    "class_labels = list(test_generator.class_indices.keys())   # Class labels"
   ]
  },
  {
   "cell_type": "code",
   "execution_count": null,
   "metadata": {},
   "outputs": [],
   "source": [
    "#Print Metrics + Confusion ROC AUC\n",
    "confusion_ROC_AUC ( y_test, y_pred, y_pred_keras, class_labels, results_dir, Model_name )"
   ]
  },
  {
   "cell_type": "code",
   "execution_count": 24,
   "metadata": {},
   "outputs": [],
   "source": [
    "# Fine Tuning\n",
    "# =========================================================================================================\n",
    "Model_name = \"ModelK6_1_Fine_VGG16\"\n",
    "Model_directory = \"MODELK6\"\n",
    "\n",
    "TRAIN = True"
   ]
  },
  {
   "cell_type": "code",
   "execution_count": 25,
   "metadata": {},
   "outputs": [],
   "source": [
    "# Reset Data Generators \n",
    "train_generator.reset()\n",
    "validation_generator.reset()"
   ]
  },
  {
   "cell_type": "code",
   "execution_count": 26,
   "metadata": {},
   "outputs": [
    {
     "name": "stdout",
     "output_type": "stream",
     "text": [
      "Model: \"vgg16\"\n",
      "_________________________________________________________________\n",
      "Layer (type)                 Output Shape              Param #   \n",
      "=================================================================\n",
      "input_1 (InputLayer)         (None, 150, 150, 3)       0         \n",
      "_________________________________________________________________\n",
      "block1_conv1 (Conv2D)        (None, 150, 150, 64)      1792      \n",
      "_________________________________________________________________\n",
      "block1_conv2 (Conv2D)        (None, 150, 150, 64)      36928     \n",
      "_________________________________________________________________\n",
      "block1_pool (MaxPooling2D)   (None, 75, 75, 64)        0         \n",
      "_________________________________________________________________\n",
      "block2_conv1 (Conv2D)        (None, 75, 75, 128)       73856     \n",
      "_________________________________________________________________\n",
      "block2_conv2 (Conv2D)        (None, 75, 75, 128)       147584    \n",
      "_________________________________________________________________\n",
      "block2_pool (MaxPooling2D)   (None, 37, 37, 128)       0         \n",
      "_________________________________________________________________\n",
      "block3_conv1 (Conv2D)        (None, 37, 37, 256)       295168    \n",
      "_________________________________________________________________\n",
      "block3_conv2 (Conv2D)        (None, 37, 37, 256)       590080    \n",
      "_________________________________________________________________\n",
      "block3_conv3 (Conv2D)        (None, 37, 37, 256)       590080    \n",
      "_________________________________________________________________\n",
      "block3_pool (MaxPooling2D)   (None, 18, 18, 256)       0         \n",
      "_________________________________________________________________\n",
      "block4_conv1 (Conv2D)        (None, 18, 18, 512)       1180160   \n",
      "_________________________________________________________________\n",
      "block4_conv2 (Conv2D)        (None, 18, 18, 512)       2359808   \n",
      "_________________________________________________________________\n",
      "block4_conv3 (Conv2D)        (None, 18, 18, 512)       2359808   \n",
      "_________________________________________________________________\n",
      "block4_pool (MaxPooling2D)   (None, 9, 9, 512)         0         \n",
      "_________________________________________________________________\n",
      "block5_conv1 (Conv2D)        (None, 9, 9, 512)         2359808   \n",
      "_________________________________________________________________\n",
      "block5_conv2 (Conv2D)        (None, 9, 9, 512)         2359808   \n",
      "_________________________________________________________________\n",
      "block5_conv3 (Conv2D)        (None, 9, 9, 512)         2359808   \n",
      "_________________________________________________________________\n",
      "block5_pool (MaxPooling2D)   (None, 4, 4, 512)         0         \n",
      "=================================================================\n",
      "Total params: 14,714,688\n",
      "Trainable params: 0\n",
      "Non-trainable params: 14,714,688\n",
      "_________________________________________________________________\n"
     ]
    }
   ],
   "source": [
    "# Base convolutional layer\n",
    "conv_base.summary()"
   ]
  },
  {
   "cell_type": "code",
   "execution_count": 27,
   "metadata": {},
   "outputs": [
    {
     "name": "stdout",
     "output_type": "stream",
     "text": [
      "Model: \"sequential_1\"\n",
      "_________________________________________________________________\n",
      "Layer (type)                 Output Shape              Param #   \n",
      "=================================================================\n",
      "vgg16 (Model)                (None, 4, 4, 512)         14714688  \n",
      "_________________________________________________________________\n",
      "flatten_1 (Flatten)          (None, 8192)              0         \n",
      "_________________________________________________________________\n",
      "dropout_1 (Dropout)          (None, 8192)              0         \n",
      "_________________________________________________________________\n",
      "dense_1 (Dense)              (None, 512)               4194816   \n",
      "_________________________________________________________________\n",
      "dense_2 (Dense)              (None, 1)                 513       \n",
      "=================================================================\n",
      "Total params: 18,910,017\n",
      "Trainable params: 4,195,329\n",
      "Non-trainable params: 14,714,688\n",
      "_________________________________________________________________\n"
     ]
    }
   ],
   "source": [
    "model.summary()"
   ]
  },
  {
   "cell_type": "code",
   "execution_count": null,
   "metadata": {},
   "outputs": [],
   "source": [
    "# We fine-tune the last three convolutional layers : all layers up tp block4_pool should be frozen.\n",
    "# Layers block5 should be trainable"
   ]
  },
  {
   "cell_type": "code",
   "execution_count": 28,
   "metadata": {},
   "outputs": [
    {
     "name": "stdout",
     "output_type": "stream",
     "text": [
      "layer name: input_1 False\n",
      "layer name: block1_conv1 False\n",
      "layer name: block1_conv2 False\n",
      "layer name: block1_pool False\n",
      "layer name: block2_conv1 False\n",
      "layer name: block2_conv2 False\n",
      "layer name: block2_pool False\n",
      "layer name: block3_conv1 False\n",
      "layer name: block3_conv2 False\n",
      "layer name: block3_conv3 False\n",
      "layer name: block3_pool False\n",
      "layer name: block4_conv1 False\n",
      "layer name: block4_conv2 False\n",
      "layer name: block4_conv3 False\n",
      "layer name: block4_pool False\n",
      "layer name: block5_conv1 True\n",
      "layer name: block5_conv2 True\n",
      "layer name: block5_conv3 True\n",
      "layer name: block5_pool True\n"
     ]
    }
   ],
   "source": [
    "conv_base.trainable = True\n",
    "set_trainable = False\n",
    "for layer in conv_base.layers:\n",
    "    \n",
    "    if layer.name == 'block5_conv1':\n",
    "        set_trainable = True\n",
    "    if layer.name == 'block5_conv2':\n",
    "        set_trainable = True\n",
    "    if layer.name == 'block5_conv3':\n",
    "        set_trainable = True\n",
    "    if set_trainable:\n",
    "        layer.trainable = True\n",
    "    else:\n",
    "        layer.trainable = False\n",
    "    print ( \"layer name:\", layer.name, layer.trainable)\n",
    "              \n",
    "        "
   ]
  },
  {
   "cell_type": "code",
   "execution_count": 29,
   "metadata": {},
   "outputs": [
    {
     "name": "stdout",
     "output_type": "stream",
     "text": [
      "Model: \"sequential_1\"\n",
      "_________________________________________________________________\n",
      "Layer (type)                 Output Shape              Param #   \n",
      "=================================================================\n",
      "vgg16 (Model)                (None, 4, 4, 512)         14714688  \n",
      "_________________________________________________________________\n",
      "flatten_1 (Flatten)          (None, 8192)              0         \n",
      "_________________________________________________________________\n",
      "dropout_1 (Dropout)          (None, 8192)              0         \n",
      "_________________________________________________________________\n",
      "dense_1 (Dense)              (None, 512)               4194816   \n",
      "_________________________________________________________________\n",
      "dense_2 (Dense)              (None, 1)                 513       \n",
      "=================================================================\n",
      "Total params: 18,910,017\n",
      "Trainable params: 4,195,329\n",
      "Non-trainable params: 14,714,688\n",
      "_________________________________________________________________\n"
     ]
    }
   ],
   "source": [
    "model.summary()"
   ]
  },
  {
   "cell_type": "code",
   "execution_count": 30,
   "metadata": {},
   "outputs": [],
   "source": [
    "# Important Need to add the conv base on top otherwise the layers of the conv base \n",
    "# are not considered as trainable !!\n",
    "\n",
    "# Extendind the conv_base model \n",
    "\n",
    "from keras import layers\n",
    "from keras import models\n",
    "\n",
    "model = models.Sequential ()\n",
    "model.add(conv_base)\n",
    "model.add(layers.Flatten())\n",
    "model.add(layers.Dropout(0.5))\n",
    "model.add(layers.Dense(512, activation='relu'))\n",
    "model.add(layers.Dense(1, activation='sigmoid'))"
   ]
  },
  {
   "cell_type": "code",
   "execution_count": 31,
   "metadata": {},
   "outputs": [
    {
     "name": "stdout",
     "output_type": "stream",
     "text": [
      "Model Trainable weights:\n",
      "10\n"
     ]
    }
   ],
   "source": [
    "print ( 'Model Trainable weights:')\n",
    "print(len(model.trainable_weights))\n"
   ]
  },
  {
   "cell_type": "code",
   "execution_count": 36,
   "metadata": {},
   "outputs": [
    {
     "name": "stdout",
     "output_type": "stream",
     "text": [
      "Conv base layer name: input_1 False\n",
      "Conv base layer name: block1_conv1 False\n",
      "Conv base layer name: block1_conv2 False\n",
      "Conv base layer name: block1_pool False\n",
      "Conv base layer name: block2_conv1 False\n",
      "Conv base layer name: block2_conv2 False\n",
      "Conv base layer name: block2_pool False\n",
      "Conv base layer name: block3_conv1 False\n",
      "Conv base layer name: block3_conv2 False\n",
      "Conv base layer name: block3_conv3 False\n",
      "Conv base layer name: block3_pool False\n",
      "Conv base layer name: block4_conv1 False\n",
      "Conv base layer name: block4_conv2 False\n",
      "Conv base layer name: block4_conv3 False\n",
      "Conv base layer name: block4_pool False\n",
      "Conv base layer name: block5_conv1 True\n",
      "Conv base layer name: block5_conv2 True\n",
      "Conv base layer name: block5_conv3 True\n",
      "Conv base layer name: block5_pool True\n",
      "Model layer name: vgg16 True\n",
      "Model layer name: flatten_2 True\n",
      "Model layer name: dropout_2 True\n",
      "Model layer name: dense_3 True\n",
      "Model layer name: dense_4 True\n"
     ]
    }
   ],
   "source": [
    "for layer in conv_base.layers:\n",
    "    print ( \"Conv base layer name:\", layer.name, layer.trainable)\n",
    "for layer in model.layers:\n",
    "    print ( \"Model layer name:\", layer.name, layer.trainable)\n"
   ]
  },
  {
   "cell_type": "code",
   "execution_count": 32,
   "metadata": {},
   "outputs": [
    {
     "name": "stdout",
     "output_type": "stream",
     "text": [
      "Model: \"sequential_2\"\n",
      "_________________________________________________________________\n",
      "Layer (type)                 Output Shape              Param #   \n",
      "=================================================================\n",
      "vgg16 (Model)                (None, 4, 4, 512)         14714688  \n",
      "_________________________________________________________________\n",
      "flatten_2 (Flatten)          (None, 8192)              0         \n",
      "_________________________________________________________________\n",
      "dropout_2 (Dropout)          (None, 8192)              0         \n",
      "_________________________________________________________________\n",
      "dense_3 (Dense)              (None, 512)               4194816   \n",
      "_________________________________________________________________\n",
      "dense_4 (Dense)              (None, 1)                 513       \n",
      "=================================================================\n",
      "Total params: 18,910,017\n",
      "Trainable params: 11,274,753\n",
      "Non-trainable params: 7,635,264\n",
      "_________________________________________________________________\n"
     ]
    }
   ],
   "source": [
    "model.summary()"
   ]
  },
  {
   "cell_type": "code",
   "execution_count": 37,
   "metadata": {},
   "outputs": [],
   "source": [
    "# Compile Network \n",
    "from keras.optimizers import Adam\n",
    "# very low learning rate - to limit the magnitude of the modifications  of the fine tuned layers \n",
    "\n",
    "model.compile ( loss='binary_crossentropy',\n",
    "#               optimizer = optimizers.RMSprop(lr=1e-4),\n",
    "               optimizer = Adam(lr=1e-5),\n",
    "               metrics= ['acc'])"
   ]
  },
  {
   "cell_type": "code",
   "execution_count": 38,
   "metadata": {},
   "outputs": [
    {
     "name": "stdout",
     "output_type": "stream",
     "text": [
      "Model: \"sequential_2\"\n",
      "_________________________________________________________________\n",
      "Layer (type)                 Output Shape              Param #   \n",
      "=================================================================\n",
      "vgg16 (Model)                (None, 4, 4, 512)         14714688  \n",
      "_________________________________________________________________\n",
      "flatten_2 (Flatten)          (None, 8192)              0         \n",
      "_________________________________________________________________\n",
      "dropout_2 (Dropout)          (None, 8192)              0         \n",
      "_________________________________________________________________\n",
      "dense_3 (Dense)              (None, 512)               4194816   \n",
      "_________________________________________________________________\n",
      "dense_4 (Dense)              (None, 1)                 513       \n",
      "=================================================================\n",
      "Total params: 18,910,017\n",
      "Trainable params: 11,274,753\n",
      "Non-trainable params: 7,635,264\n",
      "_________________________________________________________________\n"
     ]
    }
   ],
   "source": [
    "model.summary()"
   ]
  },
  {
   "cell_type": "code",
   "execution_count": 39,
   "metadata": {},
   "outputs": [],
   "source": [
    "# Important when fitting again if we do not use another call back list the modelchekpoint doesn't \n",
    "# save the file with the proper name, but the previous file name from the previous model \n",
    "# Callbackt to be used \n",
    "\n",
    "import keras\n",
    "from keras.callbacks import ModelCheckpoint\n",
    "from keras.callbacks import EarlyStopping\n",
    "\n",
    "callbacks_list2 = [\n",
    "#         keras.callbacks.EarlyStopping (\n",
    "#             monitor = 'acc',             # Monitors the accuracy\n",
    "#             patience = 2,),              # Interrupt if acc no improve in 3 epochs\n",
    "\n",
    "#  ModelCheckpoint to store the weights of the best performing epoch. \n",
    "    \n",
    "         keras.callbacks.ModelCheckpoint(filepath=model_bin_dir+\"Best_weights\"+Model_name+\".hdf5\", \n",
    "             monitor = 'val_loss', # Won't overwritte the model file unless val_loss has\n",
    "             verbose=1,            # improve \n",
    "             save_best_only=True),\n",
    "         \n",
    "#         keras.callbacks.TensorBoard(\n",
    "#             log_dir =  Tensor_dir, \n",
    "#            histogram_freq = 0,  ) # No histograms - validation data must be provided as a tensor\n",
    "          ]"
   ]
  },
  {
   "cell_type": "code",
   "execution_count": 40,
   "metadata": {},
   "outputs": [
    {
     "name": "stdout",
     "output_type": "stream",
     "text": [
      "Epoch 1/100\n",
      "66/66 [==============================] - 169s 3s/step - loss: 0.6932 - acc: 0.5657 - val_loss: 0.6150 - val_acc: 0.7343\n",
      "\n",
      "Epoch 00001: val_loss improved from inf to 0.61499, saving model to /home/valborsf/Documents/UOC/PFMProject/MODELK6/BMODEL/Best_weightsModelK6_1_Fine_VGG16.hdf5\n",
      "Epoch 2/100\n",
      "66/66 [==============================] - 150s 2s/step - loss: 0.5986 - acc: 0.6810 - val_loss: 0.4214 - val_acc: 0.7729\n",
      "\n",
      "Epoch 00002: val_loss improved from 0.61499 to 0.42137, saving model to /home/valborsf/Documents/UOC/PFMProject/MODELK6/BMODEL/Best_weightsModelK6_1_Fine_VGG16.hdf5\n",
      "Epoch 3/100\n",
      "66/66 [==============================] - 148s 2s/step - loss: 0.5752 - acc: 0.7029 - val_loss: 0.5333 - val_acc: 0.7629\n",
      "\n",
      "Epoch 00003: val_loss did not improve from 0.42137\n",
      "Epoch 4/100\n",
      "66/66 [==============================] - 151s 2s/step - loss: 0.5500 - acc: 0.7090 - val_loss: 0.4971 - val_acc: 0.7671\n",
      "\n",
      "Epoch 00004: val_loss did not improve from 0.42137\n",
      "Epoch 5/100\n",
      "66/66 [==============================] - 151s 2s/step - loss: 0.5480 - acc: 0.7214 - val_loss: 0.4243 - val_acc: 0.7686\n",
      "\n",
      "Epoch 00005: val_loss did not improve from 0.42137\n",
      "Epoch 6/100\n",
      "66/66 [==============================] - 149s 2s/step - loss: 0.5361 - acc: 0.7248 - val_loss: 0.4960 - val_acc: 0.7700\n",
      "\n",
      "Epoch 00006: val_loss did not improve from 0.42137\n",
      "Epoch 7/100\n",
      "66/66 [==============================] - 154s 2s/step - loss: 0.5211 - acc: 0.7338 - val_loss: 0.5721 - val_acc: 0.7629\n",
      "\n",
      "Epoch 00007: val_loss did not improve from 0.42137\n",
      "Epoch 8/100\n",
      "66/66 [==============================] - 150s 2s/step - loss: 0.5222 - acc: 0.7371 - val_loss: 0.3898 - val_acc: 0.7757\n",
      "\n",
      "Epoch 00008: val_loss improved from 0.42137 to 0.38978, saving model to /home/valborsf/Documents/UOC/PFMProject/MODELK6/BMODEL/Best_weightsModelK6_1_Fine_VGG16.hdf5\n",
      "Epoch 9/100\n",
      "66/66 [==============================] - 149s 2s/step - loss: 0.5190 - acc: 0.7157 - val_loss: 0.8748 - val_acc: 0.7843\n",
      "\n",
      "Epoch 00009: val_loss did not improve from 0.38978\n",
      "Epoch 10/100\n",
      "66/66 [==============================] - 150s 2s/step - loss: 0.4977 - acc: 0.7400 - val_loss: 0.5017 - val_acc: 0.7700\n",
      "\n",
      "Epoch 00010: val_loss did not improve from 0.38978\n",
      "Epoch 11/100\n",
      "66/66 [==============================] - 149s 2s/step - loss: 0.5007 - acc: 0.7424 - val_loss: 0.3814 - val_acc: 0.7871\n",
      "\n",
      "Epoch 00011: val_loss improved from 0.38978 to 0.38143, saving model to /home/valborsf/Documents/UOC/PFMProject/MODELK6/BMODEL/Best_weightsModelK6_1_Fine_VGG16.hdf5\n",
      "Epoch 12/100\n",
      "66/66 [==============================] - 154s 2s/step - loss: 0.4972 - acc: 0.7448 - val_loss: 0.6498 - val_acc: 0.7900\n",
      "\n",
      "Epoch 00012: val_loss did not improve from 0.38143\n",
      "Epoch 13/100\n",
      "66/66 [==============================] - 149s 2s/step - loss: 0.4818 - acc: 0.7495 - val_loss: 0.2754 - val_acc: 0.7671\n",
      "\n",
      "Epoch 00013: val_loss improved from 0.38143 to 0.27541, saving model to /home/valborsf/Documents/UOC/PFMProject/MODELK6/BMODEL/Best_weightsModelK6_1_Fine_VGG16.hdf5\n",
      "Epoch 14/100\n",
      "66/66 [==============================] - 146s 2s/step - loss: 0.4943 - acc: 0.7481 - val_loss: 0.5007 - val_acc: 0.7700\n",
      "\n",
      "Epoch 00014: val_loss did not improve from 0.27541\n",
      "Epoch 15/100\n",
      "66/66 [==============================] - 149s 2s/step - loss: 0.4825 - acc: 0.7529 - val_loss: 0.4838 - val_acc: 0.7614\n",
      "\n",
      "Epoch 00015: val_loss did not improve from 0.27541\n",
      "Epoch 16/100\n",
      "66/66 [==============================] - 148s 2s/step - loss: 0.4784 - acc: 0.7533 - val_loss: 0.4555 - val_acc: 0.7914\n",
      "\n",
      "Epoch 00016: val_loss did not improve from 0.27541\n",
      "Epoch 17/100\n",
      "66/66 [==============================] - 151s 2s/step - loss: 0.4633 - acc: 0.7719 - val_loss: 0.6081 - val_acc: 0.7800\n",
      "\n",
      "Epoch 00017: val_loss did not improve from 0.27541\n",
      "Epoch 18/100\n",
      "66/66 [==============================] - 150s 2s/step - loss: 0.4596 - acc: 0.7657 - val_loss: 0.5138 - val_acc: 0.7714\n",
      "\n",
      "Epoch 00018: val_loss did not improve from 0.27541\n",
      "Epoch 19/100\n",
      "66/66 [==============================] - 149s 2s/step - loss: 0.4551 - acc: 0.7667 - val_loss: 0.4629 - val_acc: 0.7800\n",
      "\n",
      "Epoch 00019: val_loss did not improve from 0.27541\n",
      "Epoch 20/100\n",
      "66/66 [==============================] - 146s 2s/step - loss: 0.4578 - acc: 0.7700 - val_loss: 0.5979 - val_acc: 0.7800\n",
      "\n",
      "Epoch 00020: val_loss did not improve from 0.27541\n",
      "Epoch 21/100\n",
      "66/66 [==============================] - 153s 2s/step - loss: 0.4469 - acc: 0.7757 - val_loss: 0.3678 - val_acc: 0.7686\n",
      "\n",
      "Epoch 00021: val_loss did not improve from 0.27541\n",
      "Epoch 22/100\n",
      "66/66 [==============================] - 149s 2s/step - loss: 0.4456 - acc: 0.7743 - val_loss: 0.6022 - val_acc: 0.7771\n",
      "\n",
      "Epoch 00022: val_loss did not improve from 0.27541\n",
      "Epoch 23/100\n",
      "66/66 [==============================] - 151s 2s/step - loss: 0.4364 - acc: 0.7824 - val_loss: 0.5794 - val_acc: 0.7971\n",
      "\n",
      "Epoch 00023: val_loss did not improve from 0.27541\n",
      "Epoch 24/100\n",
      "66/66 [==============================] - 146s 2s/step - loss: 0.4388 - acc: 0.7767 - val_loss: 0.6928 - val_acc: 0.7857\n",
      "\n",
      "Epoch 00024: val_loss did not improve from 0.27541\n",
      "Epoch 25/100\n",
      "66/66 [==============================] - 150s 2s/step - loss: 0.4217 - acc: 0.7957 - val_loss: 0.4478 - val_acc: 0.7800\n",
      "\n",
      "Epoch 00025: val_loss did not improve from 0.27541\n",
      "Epoch 26/100\n",
      "66/66 [==============================] - 147s 2s/step - loss: 0.4271 - acc: 0.7924 - val_loss: 0.4851 - val_acc: 0.7914\n",
      "\n",
      "Epoch 00026: val_loss did not improve from 0.27541\n",
      "Epoch 27/100\n",
      "66/66 [==============================] - 149s 2s/step - loss: 0.4164 - acc: 0.7943 - val_loss: 0.4604 - val_acc: 0.7886\n",
      "\n",
      "Epoch 00027: val_loss did not improve from 0.27541\n",
      "Epoch 28/100\n",
      "66/66 [==============================] - 151s 2s/step - loss: 0.4246 - acc: 0.7886 - val_loss: 0.4280 - val_acc: 0.7843\n",
      "\n",
      "Epoch 00028: val_loss did not improve from 0.27541\n",
      "Epoch 29/100\n",
      "66/66 [==============================] - 152s 2s/step - loss: 0.4131 - acc: 0.8052 - val_loss: 0.3706 - val_acc: 0.7971\n",
      "\n",
      "Epoch 00029: val_loss did not improve from 0.27541\n",
      "Epoch 30/100\n",
      "66/66 [==============================] - 153s 2s/step - loss: 0.3993 - acc: 0.8081 - val_loss: 0.3467 - val_acc: 0.7857\n",
      "\n",
      "Epoch 00030: val_loss did not improve from 0.27541\n",
      "Epoch 31/100\n",
      "66/66 [==============================] - 151s 2s/step - loss: 0.4030 - acc: 0.8024 - val_loss: 0.3499 - val_acc: 0.7829\n",
      "\n",
      "Epoch 00031: val_loss did not improve from 0.27541\n",
      "Epoch 32/100\n",
      "66/66 [==============================] - 148s 2s/step - loss: 0.4015 - acc: 0.8143 - val_loss: 0.4149 - val_acc: 0.7771\n",
      "\n",
      "Epoch 00032: val_loss did not improve from 0.27541\n",
      "Epoch 33/100\n",
      "66/66 [==============================] - 155s 2s/step - loss: 0.4100 - acc: 0.8095 - val_loss: 0.6165 - val_acc: 0.7829\n",
      "\n",
      "Epoch 00033: val_loss did not improve from 0.27541\n",
      "Epoch 34/100\n",
      "66/66 [==============================] - 147s 2s/step - loss: 0.3910 - acc: 0.8200 - val_loss: 0.3242 - val_acc: 0.7871\n",
      "\n",
      "Epoch 00034: val_loss did not improve from 0.27541\n",
      "Epoch 35/100\n",
      "66/66 [==============================] - 146s 2s/step - loss: 0.3883 - acc: 0.8181 - val_loss: 0.6377 - val_acc: 0.7914\n",
      "\n",
      "Epoch 00035: val_loss did not improve from 0.27541\n",
      "Epoch 36/100\n",
      "66/66 [==============================] - 152s 2s/step - loss: 0.3860 - acc: 0.8229 - val_loss: 0.3431 - val_acc: 0.7771\n",
      "\n",
      "Epoch 00036: val_loss did not improve from 0.27541\n",
      "Epoch 37/100\n",
      "66/66 [==============================] - 152s 2s/step - loss: 0.3772 - acc: 0.8176 - val_loss: 0.7262 - val_acc: 0.7700\n",
      "\n",
      "Epoch 00037: val_loss did not improve from 0.27541\n",
      "Epoch 38/100\n",
      "66/66 [==============================] - 152s 2s/step - loss: 0.3816 - acc: 0.8138 - val_loss: 0.7148 - val_acc: 0.7857\n",
      "\n",
      "Epoch 00038: val_loss did not improve from 0.27541\n",
      "Epoch 39/100\n",
      "66/66 [==============================] - 144s 2s/step - loss: 0.3758 - acc: 0.8224 - val_loss: 0.8375 - val_acc: 0.7886\n",
      "\n",
      "Epoch 00039: val_loss did not improve from 0.27541\n",
      "Epoch 40/100\n",
      "66/66 [==============================] - 152s 2s/step - loss: 0.3658 - acc: 0.8405 - val_loss: 0.8298 - val_acc: 0.7643\n",
      "\n",
      "Epoch 00040: val_loss did not improve from 0.27541\n",
      "Epoch 41/100\n",
      "66/66 [==============================] - 148s 2s/step - loss: 0.3758 - acc: 0.8248 - val_loss: 0.5056 - val_acc: 0.7814\n",
      "\n",
      "Epoch 00041: val_loss did not improve from 0.27541\n",
      "Epoch 42/100\n",
      "66/66 [==============================] - 151s 2s/step - loss: 0.3645 - acc: 0.8329 - val_loss: 0.4371 - val_acc: 0.7600\n",
      "\n",
      "Epoch 00042: val_loss did not improve from 0.27541\n",
      "Epoch 43/100\n",
      "66/66 [==============================] - 148s 2s/step - loss: 0.3610 - acc: 0.8233 - val_loss: 0.5274 - val_acc: 0.7814\n",
      "\n",
      "Epoch 00043: val_loss did not improve from 0.27541\n",
      "Epoch 44/100\n",
      "66/66 [==============================] - 151s 2s/step - loss: 0.3533 - acc: 0.8395 - val_loss: 0.2582 - val_acc: 0.7914\n",
      "\n",
      "Epoch 00044: val_loss improved from 0.27541 to 0.25818, saving model to /home/valborsf/Documents/UOC/PFMProject/MODELK6/BMODEL/Best_weightsModelK6_1_Fine_VGG16.hdf5\n",
      "Epoch 45/100\n",
      "66/66 [==============================] - 147s 2s/step - loss: 0.3601 - acc: 0.8310 - val_loss: 0.4816 - val_acc: 0.7843\n",
      "\n",
      "Epoch 00045: val_loss did not improve from 0.25818\n",
      "Epoch 46/100\n",
      "66/66 [==============================] - 155s 2s/step - loss: 0.3526 - acc: 0.8429 - val_loss: 0.2335 - val_acc: 0.7857\n",
      "\n",
      "Epoch 00046: val_loss improved from 0.25818 to 0.23348, saving model to /home/valborsf/Documents/UOC/PFMProject/MODELK6/BMODEL/Best_weightsModelK6_1_Fine_VGG16.hdf5\n",
      "Epoch 47/100\n",
      "66/66 [==============================] - 148s 2s/step - loss: 0.3384 - acc: 0.8448 - val_loss: 0.5243 - val_acc: 0.7843\n",
      "\n",
      "Epoch 00047: val_loss did not improve from 0.23348\n",
      "Epoch 48/100\n",
      "66/66 [==============================] - 149s 2s/step - loss: 0.3359 - acc: 0.8490 - val_loss: 0.7116 - val_acc: 0.7729\n",
      "\n",
      "Epoch 00048: val_loss did not improve from 0.23348\n",
      "Epoch 49/100\n",
      "66/66 [==============================] - 148s 2s/step - loss: 0.3457 - acc: 0.8438 - val_loss: 0.6094 - val_acc: 0.7629\n",
      "\n",
      "Epoch 00049: val_loss did not improve from 0.23348\n",
      "Epoch 50/100\n",
      "66/66 [==============================] - 150s 2s/step - loss: 0.3348 - acc: 0.8462 - val_loss: 0.6793 - val_acc: 0.7843\n",
      "\n",
      "Epoch 00050: val_loss did not improve from 0.23348\n",
      "Epoch 51/100\n",
      "66/66 [==============================] - 147s 2s/step - loss: 0.3303 - acc: 0.8510 - val_loss: 0.3634 - val_acc: 0.7614\n",
      "\n",
      "Epoch 00051: val_loss did not improve from 0.23348\n",
      "Epoch 52/100\n",
      "66/66 [==============================] - 147s 2s/step - loss: 0.3328 - acc: 0.8390 - val_loss: 0.3214 - val_acc: 0.7786\n",
      "\n",
      "Epoch 00052: val_loss did not improve from 0.23348\n",
      "Epoch 53/100\n",
      "66/66 [==============================] - 153s 2s/step - loss: 0.3232 - acc: 0.8571 - val_loss: 0.7419 - val_acc: 0.7829\n",
      "\n",
      "Epoch 00053: val_loss did not improve from 0.23348\n",
      "Epoch 54/100\n",
      "66/66 [==============================] - 144s 2s/step - loss: 0.3208 - acc: 0.8524 - val_loss: 0.4054 - val_acc: 0.7857\n",
      "\n",
      "Epoch 00054: val_loss did not improve from 0.23348\n",
      "Epoch 55/100\n",
      "66/66 [==============================] - 146s 2s/step - loss: 0.3169 - acc: 0.8643 - val_loss: 0.2662 - val_acc: 0.7743\n",
      "\n",
      "Epoch 00055: val_loss did not improve from 0.23348\n",
      "Epoch 56/100\n",
      "66/66 [==============================] - 152s 2s/step - loss: 0.3237 - acc: 0.8495 - val_loss: 0.2907 - val_acc: 0.7914\n",
      "\n",
      "Epoch 00056: val_loss did not improve from 0.23348\n",
      "Epoch 57/100\n",
      "66/66 [==============================] - 143s 2s/step - loss: 0.3004 - acc: 0.8667 - val_loss: 0.5311 - val_acc: 0.7771\n",
      "\n",
      "Epoch 00057: val_loss did not improve from 0.23348\n",
      "Epoch 58/100\n",
      "66/66 [==============================] - 151s 2s/step - loss: 0.3164 - acc: 0.8629 - val_loss: 0.6347 - val_acc: 0.7871\n",
      "\n",
      "Epoch 00058: val_loss did not improve from 0.23348\n",
      "Epoch 59/100\n",
      "66/66 [==============================] - 150s 2s/step - loss: 0.3026 - acc: 0.8690 - val_loss: 0.6169 - val_acc: 0.7914\n",
      "\n",
      "Epoch 00059: val_loss did not improve from 0.23348\n",
      "Epoch 60/100\n",
      "66/66 [==============================] - 148s 2s/step - loss: 0.3035 - acc: 0.8633 - val_loss: 0.5979 - val_acc: 0.7814\n",
      "\n",
      "Epoch 00060: val_loss did not improve from 0.23348\n",
      "Epoch 61/100\n",
      "66/66 [==============================] - 149s 2s/step - loss: 0.3035 - acc: 0.8519 - val_loss: 0.5994 - val_acc: 0.7871\n",
      "\n",
      "Epoch 00061: val_loss did not improve from 0.23348\n",
      "Epoch 62/100\n",
      "66/66 [==============================] - 151s 2s/step - loss: 0.2884 - acc: 0.8733 - val_loss: 0.4428 - val_acc: 0.7843\n",
      "\n",
      "Epoch 00062: val_loss did not improve from 0.23348\n",
      "Epoch 63/100\n",
      "66/66 [==============================] - 154s 2s/step - loss: 0.2918 - acc: 0.8662 - val_loss: 0.4636 - val_acc: 0.7829\n",
      "\n",
      "Epoch 00063: val_loss did not improve from 0.23348\n",
      "Epoch 64/100\n",
      "66/66 [==============================] - 146s 2s/step - loss: 0.2966 - acc: 0.8662 - val_loss: 0.8115 - val_acc: 0.7686\n",
      "\n",
      "Epoch 00064: val_loss did not improve from 0.23348\n",
      "Epoch 65/100\n",
      "66/66 [==============================] - 154s 2s/step - loss: 0.2807 - acc: 0.8771 - val_loss: 0.3674 - val_acc: 0.7800\n",
      "\n",
      "Epoch 00065: val_loss did not improve from 0.23348\n",
      "Epoch 66/100\n",
      "66/66 [==============================] - 145s 2s/step - loss: 0.2922 - acc: 0.8671 - val_loss: 0.6106 - val_acc: 0.7857\n",
      "\n",
      "Epoch 00066: val_loss did not improve from 0.23348\n",
      "Epoch 67/100\n",
      "66/66 [==============================] - 154s 2s/step - loss: 0.2887 - acc: 0.8686 - val_loss: 0.5318 - val_acc: 0.7843\n",
      "\n",
      "Epoch 00067: val_loss did not improve from 0.23348\n",
      "Epoch 68/100\n",
      "66/66 [==============================] - 144s 2s/step - loss: 0.2803 - acc: 0.8676 - val_loss: 0.5394 - val_acc: 0.7943\n",
      "\n",
      "Epoch 00068: val_loss did not improve from 0.23348\n",
      "Epoch 69/100\n",
      "66/66 [==============================] - 156s 2s/step - loss: 0.2689 - acc: 0.8843 - val_loss: 0.3423 - val_acc: 0.7843\n",
      "\n",
      "Epoch 00069: val_loss did not improve from 0.23348\n",
      "Epoch 70/100\n",
      "66/66 [==============================] - 148s 2s/step - loss: 0.2721 - acc: 0.8819 - val_loss: 0.4318 - val_acc: 0.7914\n",
      "\n",
      "Epoch 00070: val_loss did not improve from 0.23348\n",
      "Epoch 71/100\n",
      "66/66 [==============================] - 151s 2s/step - loss: 0.2767 - acc: 0.8800 - val_loss: 0.1799 - val_acc: 0.7886\n",
      "\n",
      "Epoch 00071: val_loss improved from 0.23348 to 0.17987, saving model to /home/valborsf/Documents/UOC/PFMProject/MODELK6/BMODEL/Best_weightsModelK6_1_Fine_VGG16.hdf5\n",
      "Epoch 72/100\n",
      "66/66 [==============================] - 147s 2s/step - loss: 0.2651 - acc: 0.8843 - val_loss: 0.9194 - val_acc: 0.8029\n",
      "\n",
      "Epoch 00072: val_loss did not improve from 0.17987\n",
      "Epoch 73/100\n",
      "66/66 [==============================] - 156s 2s/step - loss: 0.2629 - acc: 0.8848 - val_loss: 0.4707 - val_acc: 0.7886\n",
      "\n",
      "Epoch 00073: val_loss did not improve from 0.17987\n",
      "Epoch 74/100\n",
      "66/66 [==============================] - 149s 2s/step - loss: 0.2593 - acc: 0.8833 - val_loss: 0.5547 - val_acc: 0.7871\n",
      "\n",
      "Epoch 00074: val_loss did not improve from 0.17987\n",
      "Epoch 75/100\n",
      "66/66 [==============================] - 150s 2s/step - loss: 0.2648 - acc: 0.8833 - val_loss: 0.4701 - val_acc: 0.7900\n",
      "\n",
      "Epoch 00075: val_loss did not improve from 0.17987\n",
      "Epoch 76/100\n",
      "66/66 [==============================] - 146s 2s/step - loss: 0.2456 - acc: 0.8986 - val_loss: 0.9973 - val_acc: 0.7943\n",
      "\n",
      "Epoch 00076: val_loss did not improve from 0.17987\n",
      "Epoch 77/100\n",
      "66/66 [==============================] - 148s 2s/step - loss: 0.2487 - acc: 0.8943 - val_loss: 0.2774 - val_acc: 0.7914\n",
      "\n",
      "Epoch 00077: val_loss did not improve from 0.17987\n",
      "Epoch 78/100\n",
      "66/66 [==============================] - 152s 2s/step - loss: 0.2651 - acc: 0.8805 - val_loss: 0.5762 - val_acc: 0.7871\n",
      "\n",
      "Epoch 00078: val_loss did not improve from 0.17987\n",
      "Epoch 79/100\n",
      "66/66 [==============================] - 148s 2s/step - loss: 0.2421 - acc: 0.8943 - val_loss: 0.5168 - val_acc: 0.7800\n",
      "\n",
      "Epoch 00079: val_loss did not improve from 0.17987\n",
      "Epoch 80/100\n",
      "66/66 [==============================] - 152s 2s/step - loss: 0.2431 - acc: 0.8929 - val_loss: 0.2195 - val_acc: 0.7829\n",
      "\n",
      "Epoch 00080: val_loss did not improve from 0.17987\n",
      "Epoch 81/100\n",
      "66/66 [==============================] - 145s 2s/step - loss: 0.2549 - acc: 0.8771 - val_loss: 0.5172 - val_acc: 0.7871\n",
      "\n",
      "Epoch 00081: val_loss did not improve from 0.17987\n",
      "Epoch 82/100\n",
      "66/66 [==============================] - 147s 2s/step - loss: 0.2562 - acc: 0.8881 - val_loss: 0.7389 - val_acc: 0.7900\n",
      "\n",
      "Epoch 00082: val_loss did not improve from 0.17987\n",
      "Epoch 83/100\n",
      "66/66 [==============================] - 150s 2s/step - loss: 0.2328 - acc: 0.8957 - val_loss: 0.9446 - val_acc: 0.7843\n",
      "\n",
      "Epoch 00083: val_loss did not improve from 0.17987\n",
      "Epoch 84/100\n",
      "66/66 [==============================] - 152s 2s/step - loss: 0.2444 - acc: 0.8895 - val_loss: 0.7798 - val_acc: 0.7800\n"
     ]
    },
    {
     "name": "stdout",
     "output_type": "stream",
     "text": [
      "\n",
      "Epoch 00084: val_loss did not improve from 0.17987\n",
      "Epoch 85/100\n",
      "66/66 [==============================] - 148s 2s/step - loss: 0.2248 - acc: 0.8990 - val_loss: 0.5697 - val_acc: 0.7700\n",
      "\n",
      "Epoch 00085: val_loss did not improve from 0.17987\n",
      "Epoch 86/100\n",
      "66/66 [==============================] - 150s 2s/step - loss: 0.2258 - acc: 0.9000 - val_loss: 1.0219 - val_acc: 0.7871\n",
      "\n",
      "Epoch 00086: val_loss did not improve from 0.17987\n",
      "Epoch 87/100\n",
      "66/66 [==============================] - 151s 2s/step - loss: 0.2303 - acc: 0.9005 - val_loss: 0.9410 - val_acc: 0.7914\n",
      "\n",
      "Epoch 00087: val_loss did not improve from 0.17987\n",
      "Epoch 88/100\n",
      "66/66 [==============================] - 148s 2s/step - loss: 0.2288 - acc: 0.9000 - val_loss: 0.6633 - val_acc: 0.7843\n",
      "\n",
      "Epoch 00088: val_loss did not improve from 0.17987\n",
      "Epoch 89/100\n",
      "66/66 [==============================] - 152s 2s/step - loss: 0.2200 - acc: 0.8995 - val_loss: 0.7105 - val_acc: 0.7943\n",
      "\n",
      "Epoch 00089: val_loss did not improve from 0.17987\n",
      "Epoch 90/100\n",
      "66/66 [==============================] - 150s 2s/step - loss: 0.2408 - acc: 0.8886 - val_loss: 0.6288 - val_acc: 0.7657\n",
      "\n",
      "Epoch 00090: val_loss did not improve from 0.17987\n",
      "Epoch 91/100\n",
      "66/66 [==============================] - 153s 2s/step - loss: 0.2057 - acc: 0.9033 - val_loss: 0.6481 - val_acc: 0.7843\n",
      "\n",
      "Epoch 00091: val_loss did not improve from 0.17987\n",
      "Epoch 92/100\n",
      "66/66 [==============================] - 148s 2s/step - loss: 0.2526 - acc: 0.8881 - val_loss: 0.6891 - val_acc: 0.7914\n",
      "\n",
      "Epoch 00092: val_loss did not improve from 0.17987\n",
      "Epoch 93/100\n",
      "66/66 [==============================] - 151s 2s/step - loss: 0.2060 - acc: 0.9110 - val_loss: 0.4159 - val_acc: 0.7671\n",
      "\n",
      "Epoch 00093: val_loss did not improve from 0.17987\n",
      "Epoch 94/100\n",
      "66/66 [==============================] - 149s 2s/step - loss: 0.2113 - acc: 0.9071 - val_loss: 1.1286 - val_acc: 0.7786\n",
      "\n",
      "Epoch 00094: val_loss did not improve from 0.17987\n",
      "Epoch 95/100\n",
      "66/66 [==============================] - 152s 2s/step - loss: 0.2191 - acc: 0.9038 - val_loss: 0.6043 - val_acc: 0.7386\n",
      "\n",
      "Epoch 00095: val_loss did not improve from 0.17987\n",
      "Epoch 96/100\n",
      "66/66 [==============================] - 149s 2s/step - loss: 0.2237 - acc: 0.9033 - val_loss: 0.4935 - val_acc: 0.7786\n",
      "\n",
      "Epoch 00096: val_loss did not improve from 0.17987\n",
      "Epoch 97/100\n",
      "66/66 [==============================] - 147s 2s/step - loss: 0.2009 - acc: 0.9100 - val_loss: 0.4840 - val_acc: 0.7700\n",
      "\n",
      "Epoch 00097: val_loss did not improve from 0.17987\n",
      "Epoch 98/100\n",
      "66/66 [==============================] - 146s 2s/step - loss: 0.2164 - acc: 0.9062 - val_loss: 0.9286 - val_acc: 0.7757\n",
      "\n",
      "Epoch 00098: val_loss did not improve from 0.17987\n",
      "Epoch 99/100\n",
      "66/66 [==============================] - 155s 2s/step - loss: 0.1999 - acc: 0.9148 - val_loss: 0.5862 - val_acc: 0.7814\n",
      "\n",
      "Epoch 00099: val_loss did not improve from 0.17987\n",
      "Epoch 100/100\n",
      "66/66 [==============================] - 147s 2s/step - loss: 0.1999 - acc: 0.9190 - val_loss: 0.5630 - val_acc: 0.7771\n",
      "\n",
      "Epoch 00100: val_loss did not improve from 0.17987\n",
      "Time spent in training :04:09:39\n"
     ]
    }
   ],
   "source": [
    "import time\n",
    "num_train = 2100\n",
    "num_val = 700\n",
    "num_test = 700\n",
    "\n",
    "if TRAIN :\n",
    "    epochs = 100\n",
    "    start_time = time.time()   \n",
    "    history = model.fit_generator ( \n",
    "      train_generator,\n",
    "      steps_per_epoch =66,                      # nº samples training/ Batch size  = 2100 / 32 \n",
    "      epochs = epochs,\n",
    "      callbacks=callbacks_list2,                 # callbacks\n",
    "      validation_data= validation_generator,\n",
    "      validation_steps =22 )                     # nº samples validation / Batch size = 700 /32\n",
    "\n",
    "\n",
    "    \n",
    "    save_model(model, history, model_bin_dir, Model_name)\n",
    "    elapsed_time = time.time() - start_time\n",
    "\n",
    "    print( time.strftime('Time spent in training :'\"%H:%M:%S\", time.gmtime(elapsed_time)))"
   ]
  },
  {
   "cell_type": "code",
   "execution_count": 41,
   "metadata": {},
   "outputs": [],
   "source": [
    "# Import Model Test if not need to Train \n",
    "if not TRAIN :\n",
    "    model = model_load ( model_bin_dir, Model_name)"
   ]
  },
  {
   "cell_type": "code",
   "execution_count": 42,
   "metadata": {},
   "outputs": [
    {
     "data": {
      "image/png": "[encoded data removed]",
      "text/plain": [
       "<Figure size 432x288 with 1 Axes>"
      ]
     },
     "metadata": {
      "needs_background": "light"
     },
     "output_type": "display_data"
    },
    {
     "data": {
      "image/png": "[encoded data removed]",
      "text/plain": [
       "<Figure size 432x288 with 1 Axes>"
      ]
     },
     "metadata": {
      "needs_background": "light"
     },
     "output_type": "display_data"
    }
   ],
   "source": [
    "# Display curves of loss and accuracy during training and save results \n",
    "\n",
    "plot_save_acc_loss(results_dir, history.history, Model_name)"
   ]
  },
  {
   "cell_type": "code",
   "execution_count": 43,
   "metadata": {},
   "outputs": [
    {
     "name": "stdout",
     "output_type": "stream",
     "text": [
      "Load Weights :\n"
     ]
    }
   ],
   "source": [
    "# Load Model \n",
    "# Load weights \n",
    "\n",
    "#model = build_model()\n",
    "#model.load_weights('my_weights.model')\n",
    "TRAIN = False\n",
    "if not TRAIN :\n",
    "\n",
    "    Model_name = \"ModelK6_1_Fine_VGG16\"\n",
    "\n",
    "    model = model_load ( model_bin_dir, Model_name)\n",
    "    print ( \"Load Weights :\")\n",
    "    model.load_weights(model_bin_dir+\"Best_weights\"+Model_name+\".hdf5\")"
   ]
  },
  {
   "cell_type": "code",
   "execution_count": 44,
   "metadata": {},
   "outputs": [],
   "source": [
    "test_generator.reset()"
   ]
  },
  {
   "cell_type": "code",
   "execution_count": 45,
   "metadata": {},
   "outputs": [
    {
     "name": "stdout",
     "output_type": "stream",
     "text": [
      "22/22 [==============================] - 49s 2s/step\n"
     ]
    }
   ],
   "source": [
    "# STEP 4 - ROC /AUC\n",
    "#Evaluate your model  -> Evaluation number -> nº samples/ size batch times\n",
    "#scores = model.evaluate(test_generator, verbose=1, steps = 31)\n",
    "scores = model.evaluate(test_generator, verbose=1)"
   ]
  },
  {
   "cell_type": "code",
   "execution_count": 46,
   "metadata": {},
   "outputs": [
    {
     "data": {
      "text/plain": [
       "['loss', 'acc']"
      ]
     },
     "execution_count": 46,
     "metadata": {},
     "output_type": "execute_result"
    }
   ],
   "source": [
    "model.metrics_names"
   ]
  },
  {
   "cell_type": "code",
   "execution_count": 47,
   "metadata": {},
   "outputs": [
    {
     "data": {
      "text/plain": [
       "[0.38050273060798645, 0.7671428322792053]"
      ]
     },
     "execution_count": 47,
     "metadata": {},
     "output_type": "execute_result"
    }
   ],
   "source": [
    "scores"
   ]
  },
  {
   "cell_type": "code",
   "execution_count": 48,
   "metadata": {},
   "outputs": [],
   "source": [
    "# Loss = 38 % \n",
    "# Accuracy of 77%"
   ]
  },
  {
   "cell_type": "code",
   "execution_count": 49,
   "metadata": {},
   "outputs": [],
   "source": [
    "# Compute predictions\n",
    "# This takes time !!!!!!!!!!!!!!!!!!!!!!!!!!!!!!!!!\n",
    "y_pred_keras = model.predict(test_generator).ravel()       # y_pred_probabilities\n",
    "y_pred = y_pred_keras > 0.5                                # y_pred_class : if >0.5  = True => Malignant\n",
    "y_test = test_generator.classes                            # Ground truth\n",
    "class_labels = list(test_generator.class_indices.keys())   # Class labels"
   ]
  },
  {
   "cell_type": "code",
   "execution_count": 50,
   "metadata": {},
   "outputs": [
    {
     "name": "stdout",
     "output_type": "stream",
     "text": [
      "Metrics ModelK6_1_Fine_VGG16\n",
      "===========================================\n",
      "Confusion Matrix:\n",
      "[[222 118]\n",
      " [ 45 315]]\n",
      "+----------------------------+-------------+\n",
      "|            Type            |  # samples  |\n",
      "+============================+=============+\n",
      "| True Positives- Malignants | 315         |\n",
      "+----------------------------+-------------+\n",
      "| True Negatives- Benign     | 222         |\n",
      "+----------------------------+-------------+\n",
      "| False Positive             | 118         |\n",
      "+----------------------------+-------------+\n",
      "| False Negative             | 45          |\n",
      "+----------------------------+-------------+\n",
      "Summary classification Report: \n",
      "              precision    recall  f1-score   support\n",
      "\n",
      "      benign       0.83      0.65      0.73       340\n",
      "   malignant       0.73      0.88      0.79       360\n",
      "\n",
      "    accuracy                           0.77       700\n",
      "   macro avg       0.78      0.76      0.76       700\n",
      "weighted avg       0.78      0.77      0.76       700\n",
      "\n",
      "+-------------+---------+\n",
      "|   Metrics   |         |\n",
      "+=============+=========+\n",
      "| Accuracy    | 0.770   |\n",
      "+-------------+---------+\n",
      "| Sensitivity | 0.880   |\n",
      "+-------------+---------+\n",
      "| Specificity | 0.650   |\n",
      "+-------------+---------+\n",
      "| AUC         | 0.850   |\n",
      "+-------------+---------+\n"
     ]
    },
    {
     "data": {
      "image/png": "[encoded data removed]",
      "text/plain": [
       "<Figure size 432x288 with 1 Axes>"
      ]
     },
     "metadata": {
      "needs_background": "light"
     },
     "output_type": "display_data"
    },
    {
     "data": {
      "image/png": "[encoded data removed]",
      "text/plain": [
       "<Figure size 432x288 with 1 Axes>"
      ]
     },
     "metadata": {
      "needs_background": "light"
     },
     "output_type": "display_data"
    }
   ],
   "source": [
    "#Print Metrics + Confusion ROC AUC\n",
    "confusion_ROC_AUC ( y_test, y_pred, y_pred_keras, class_labels, results_dir, Model_name )"
   ]
  }
 ],
 "metadata": {
  "accelerator": "GPU",
  "colab": {
   "collapsed_sections": [],
   "name": "Preprocess_Fit2.ipynb",
   "provenance": []
  },
  "kernelspec": {
   "display_name": "“gpu2”",
   "language": "python",
   "name": "gpu2"
  },
  "language_info": {
   "codemirror_mode": {
    "name": "ipython",
    "version": 3
   },
   "file_extension": ".py",
   "mimetype": "text/x-python",
   "name": "python",
   "nbconvert_exporter": "python",
   "pygments_lexer": "ipython3",
   "version": "3.7.6"
  }
 },
 "nbformat": 4,
 "nbformat_minor": 1
}

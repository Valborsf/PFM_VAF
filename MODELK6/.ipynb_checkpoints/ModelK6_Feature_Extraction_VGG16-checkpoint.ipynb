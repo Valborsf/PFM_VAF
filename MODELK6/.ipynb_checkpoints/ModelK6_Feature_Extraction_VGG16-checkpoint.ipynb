{
 "cells": [
  {
   "cell_type": "markdown",
   "metadata": {
    "colab_type": "text",
    "id": "Ur34g7Fbi5lr"
   },
   "source": [
    "# Notebook- Fast Feature Extraction  -Model K6_0\n",
    "# Author : V.Albors   Date : 07.02.2020\n",
    "# Purpose : Fast Feature Extraction without Data augmentation ( on VGG16 and ResNet50 ) \n",
    "\n",
    "\n",
    "**Input** :  \n",
    "  * CSV files that identify the images to use as train and validation. CSV files are in directory csv_dir   \n",
    "  * Images from train and validation. Images are in directory : imag_dir  \n",
    "  * Saved model. Model is in directory : model_bin_dir  \n",
    "  \n",
    "**Output**:  \n",
    "  * JMODEL dir - Json network model\n",
    "  * BMODEL dir - Optimum model with weights\n",
    "  * RESULTS dir - Print of Network architecture \n",
    "                - Train and Validation Accuracy and Loss Curves\n",
    "                - Metrics of the Model \n",
    "\n",
    "**Process**:  \n",
    "  * Import VGG16 or ResNet50\n",
    "  * Configure the convolutional base  ( use weights from imagenet, no use the dense classifier on top, shape of tensors feed ) \n",
    "  *  Print Network, save network\n",
    "  *  Dataframes are created for Training and Validation\n",
    "  *  Extract features from the data and labels using the  conv.base.predict  operation. \n",
    "  *  Flatten the extracted features knowing the dimensions of the last layer of the VGG16 or ResNet50 . \n",
    "  *  Build a densely connected classifier \n",
    "  *  Compile network\n",
    "  *  Train the model  using the flatten extracted features using model.fit \n",
    "  *  With Callbacks \n",
    "  *  The model is Saved\n",
    "  *  Paint the Accuracy and Loss curves\n",
    "  *  Create results : Metrics \n",
    "\n",
    "  \n"
   ]
  },
  {
   "cell_type": "code",
   "execution_count": 1,
   "metadata": {},
   "outputs": [],
   "source": [
    "from __future__ import absolute_import, division, print_function, unicode_literals\n",
    "import tensorflow as tf\n",
    "\n",
    "tf.keras.backend.clear_session()  # Reset"
   ]
  },
  {
   "cell_type": "code",
   "execution_count": 2,
   "metadata": {},
   "outputs": [
    {
     "name": "stdout",
     "output_type": "stream",
     "text": [
      "Num GPUs Available:  1\n"
     ]
    }
   ],
   "source": [
    "import tensorflow as tf\n",
    "#gpus = tf.config.experimental.list_physical_devices('GPU')\n",
    "print(\"Num GPUs Available: \", len(tf.config.experimental.list_physical_devices('GPU')))\n",
    "tf.config.experimental.list_physical_devices('GPU') \n",
    "physical_devices = tf.config.experimental.list_physical_devices('GPU')\n",
    "assert len(physical_devices) > 0, \"Not enough GPU hardware devices available\"\n",
    "tf.config.experimental.set_memory_growth(physical_devices[0], True)\n",
    "tf.debugging.set_log_device_placement(True)"
   ]
  },
  {
   "cell_type": "code",
   "execution_count": 3,
   "metadata": {},
   "outputs": [
    {
     "name": "stdout",
     "output_type": "stream",
     "text": [
      "2.0.0\n",
      "10.0\n",
      "7.6\n"
     ]
    }
   ],
   "source": [
    "#Tensorflow version \n",
    "print(tf.__version__)\n",
    "from tensorflow.python.platform import build_info as tf_build_info\n",
    "print(tf_build_info.cuda_version_number)\n",
    "# Cuda Version 9.0 in v1.10.0\n",
    "print(tf_build_info.cudnn_version_number)\n",
    "# CudNN 7 in v1.10.0"
   ]
  },
  {
   "cell_type": "code",
   "execution_count": 4,
   "metadata": {},
   "outputs": [],
   "source": [
    "# Define the name of the model, directories & if to train the model \n",
    "#Pre_model = \"ResNet50\"\n",
    "Pre_model = \"VGG16\"\n",
    "Model_directory = \"MODELK6\"\n",
    "if Pre_model == \"ResNet50\":\n",
    "    Model_name = \"Model6_0_ResNet50\"\n",
    "else:\n",
    "    Model_name = \"Model6_0_VGG16\"\n",
    "TRAIN = True"
   ]
  },
  {
   "cell_type": "code",
   "execution_count": 5,
   "metadata": {},
   "outputs": [
    {
     "name": "stdout",
     "output_type": "stream",
     "text": [
      "['confusion_ROC_AUC', 'create_column_tensor', 'create_label_tensor', 'create_val_test', 'define_dirs', 'extract_images_bm', 'extract_images_train', 'load_hist_model', 'load_images', 'load_images_tf', 'model_load', 'plot_save_acc_loss', 'print_network', 'process_clinical_info', 'read_dataframes', 'read_dataframes_tables', 'reproducible_results', 'save_model', 'save_network_json', 'start', 'stop', 'to_one_hot', 'to_one_hot_words', 'xi_squared']\n"
     ]
    }
   ],
   "source": [
    "# Import routines\n",
    "import sys  \n",
    "subrc_dir = \"/home/valborsf/Documents/UOC/PFMProject/\"\n",
    "\n",
    "\n",
    "sys.path.append(subrc_dir)  \n",
    "from  Models_routines import *\n",
    "import inspect\n",
    "\n",
    "# List functions inside the module\n",
    "import Models_routines as module\n",
    "functions = inspect.getmembers(module, inspect.isfunction)\n",
    "lsfunctions = [item[0] for item in functions]\n",
    "print ( lsfunctions )"
   ]
  },
  {
   "cell_type": "code",
   "execution_count": 6,
   "metadata": {},
   "outputs": [],
   "source": [
    "# Reproducible results \n",
    "reproducible_results ()"
   ]
  },
  {
   "cell_type": "code",
   "execution_count": 7,
   "metadata": {},
   "outputs": [],
   "source": [
    "#Define directories\n",
    "(root_dir,json_dir,imag_dir,csv_dir,model_json_dir,model_bin_dir,results_dir,Tensor_dir) = define_dirs(Model_directory)"
   ]
  },
  {
   "cell_type": "code",
   "execution_count": 8,
   "metadata": {},
   "outputs": [],
   "source": [
    "# New dataset without SONIC disturbing images\n",
    "json_dir =  root_dir +\"/DataNew/ALL_JSON/\"                # .json dir images\n",
    "imag_dir =  root_dir +\"/DataNew/ALL_IMAGES/\"              # .png dir - images\n",
    "\n",
    "# directories for  CSV's\n",
    "csv_dir =  root_dir +\"/DataNew4/CSV/\"                      # .csv dir - dftrain, dfval, dftest"
   ]
  },
  {
   "cell_type": "code",
   "execution_count": 9,
   "metadata": {},
   "outputs": [
    {
     "name": "stderr",
     "output_type": "stream",
     "text": [
      "Using TensorFlow backend.\n"
     ]
    }
   ],
   "source": [
    "if Pre_model == \"ResNet50\":\n",
    "    from keras.applications import ResNet50\n",
    "elif Pre_model == \"VGG16\":\n",
    "    from keras.applications import VGG16"
   ]
  },
  {
   "cell_type": "code",
   "execution_count": 10,
   "metadata": {},
   "outputs": [
    {
     "name": "stdout",
     "output_type": "stream",
     "text": [
      "Executing op RandomUniform in device /job:localhost/replica:0/task:0/device:GPU:0\n",
      "Executing op Sub in device /job:localhost/replica:0/task:0/device:GPU:0\n",
      "Executing op Mul in device /job:localhost/replica:0/task:0/device:GPU:0\n",
      "Executing op Add in device /job:localhost/replica:0/task:0/device:GPU:0\n",
      "Executing op VarHandleOp in device /job:localhost/replica:0/task:0/device:GPU:0\n",
      "Executing op VarIsInitializedOp in device /job:localhost/replica:0/task:0/device:GPU:0\n",
      "Executing op LogicalNot in device /job:localhost/replica:0/task:0/device:GPU:0\n",
      "Executing op Assert in device /job:localhost/replica:0/task:0/device:GPU:0\n",
      "Executing op AssignVariableOp in device /job:localhost/replica:0/task:0/device:GPU:0\n",
      "Executing op Fill in device /job:localhost/replica:0/task:0/device:GPU:0\n",
      "Executing op VarHandleOp in device /job:localhost/replica:0/task:0/device:GPU:0\n",
      "Executing op RandomUniform in device /job:localhost/replica:0/task:0/device:GPU:0\n",
      "Executing op VarHandleOp in device /job:localhost/replica:0/task:0/device:GPU:0\n",
      "Executing op RandomUniform in device /job:localhost/replica:0/task:0/device:GPU:0\n",
      "Executing op VarHandleOp in device /job:localhost/replica:0/task:0/device:GPU:0\n",
      "Executing op VarHandleOp in device /job:localhost/replica:0/task:0/device:GPU:0\n",
      "Executing op RandomUniform in device /job:localhost/replica:0/task:0/device:GPU:0\n",
      "Executing op VarHandleOp in device /job:localhost/replica:0/task:0/device:GPU:0\n",
      "Executing op RandomUniform in device /job:localhost/replica:0/task:0/device:GPU:0\n",
      "Executing op VarHandleOp in device /job:localhost/replica:0/task:0/device:GPU:0\n",
      "Executing op VarHandleOp in device /job:localhost/replica:0/task:0/device:GPU:0\n",
      "Executing op RandomUniform in device /job:localhost/replica:0/task:0/device:GPU:0\n",
      "Executing op VarHandleOp in device /job:localhost/replica:0/task:0/device:GPU:0\n",
      "Executing op RandomUniform in device /job:localhost/replica:0/task:0/device:GPU:0\n",
      "Executing op RandomUniform in device /job:localhost/replica:0/task:0/device:GPU:0\n",
      "Executing op VarHandleOp in device /job:localhost/replica:0/task:0/device:GPU:0\n",
      "Executing op VarHandleOp in device /job:localhost/replica:0/task:0/device:GPU:0\n",
      "Executing op RandomUniform in device /job:localhost/replica:0/task:0/device:GPU:0\n",
      "Executing op VarHandleOp in device /job:localhost/replica:0/task:0/device:GPU:0\n",
      "Executing op RandomUniform in device /job:localhost/replica:0/task:0/device:GPU:0\n",
      "Executing op RandomUniform in device /job:localhost/replica:0/task:0/device:GPU:0\n",
      "Executing op RandomUniform in device /job:localhost/replica:0/task:0/device:GPU:0\n",
      "Executing op RandomUniform in device /job:localhost/replica:0/task:0/device:GPU:0\n"
     ]
    }
   ],
   "source": [
    "if Pre_model == \"ResNet50\":\n",
    "       conv_base = ResNet50 ( weights='imagenet',  # Weight checkpoint from which to initialize the model \n",
    "                     include_top = False,        # No include the dense connected classifier on top\n",
    "                     input_shape = (150,150,3))  # Shape of the image tensors to feed in the network\n",
    "\n",
    "elif Pre_model == \"VGG16\":\n",
    "       conv_base = VGG16  ( weights='imagenet',    # Weight checkpoint from which to initialize the model \n",
    "                     include_top = False,        # No include the dense connected classifier on top\n",
    "                     input_shape = (150,150,3))  # Shape of the image tensors to feed in the network"
   ]
  },
  {
   "cell_type": "code",
   "execution_count": 11,
   "metadata": {},
   "outputs": [
    {
     "name": "stdout",
     "output_type": "stream",
     "text": [
      "Model: \"vgg16\"\n",
      "_________________________________________________________________\n",
      "Layer (type)                 Output Shape              Param #   \n",
      "=================================================================\n",
      "input_1 (InputLayer)         (None, 150, 150, 3)       0         \n",
      "_________________________________________________________________\n",
      "block1_conv1 (Conv2D)        (None, 150, 150, 64)      1792      \n",
      "_________________________________________________________________\n",
      "block1_conv2 (Conv2D)        (None, 150, 150, 64)      36928     \n",
      "_________________________________________________________________\n",
      "block1_pool (MaxPooling2D)   (None, 75, 75, 64)        0         \n",
      "_________________________________________________________________\n",
      "block2_conv1 (Conv2D)        (None, 75, 75, 128)       73856     \n",
      "_________________________________________________________________\n",
      "block2_conv2 (Conv2D)        (None, 75, 75, 128)       147584    \n",
      "_________________________________________________________________\n",
      "block2_pool (MaxPooling2D)   (None, 37, 37, 128)       0         \n",
      "_________________________________________________________________\n",
      "block3_conv1 (Conv2D)        (None, 37, 37, 256)       295168    \n",
      "_________________________________________________________________\n",
      "block3_conv2 (Conv2D)        (None, 37, 37, 256)       590080    \n",
      "_________________________________________________________________\n",
      "block3_conv3 (Conv2D)        (None, 37, 37, 256)       590080    \n",
      "_________________________________________________________________\n",
      "block3_pool (MaxPooling2D)   (None, 18, 18, 256)       0         \n",
      "_________________________________________________________________\n",
      "block4_conv1 (Conv2D)        (None, 18, 18, 512)       1180160   \n",
      "_________________________________________________________________\n",
      "block4_conv2 (Conv2D)        (None, 18, 18, 512)       2359808   \n",
      "_________________________________________________________________\n",
      "block4_conv3 (Conv2D)        (None, 18, 18, 512)       2359808   \n",
      "_________________________________________________________________\n",
      "block4_pool (MaxPooling2D)   (None, 9, 9, 512)         0         \n",
      "_________________________________________________________________\n",
      "block5_conv1 (Conv2D)        (None, 9, 9, 512)         2359808   \n",
      "_________________________________________________________________\n",
      "block5_conv2 (Conv2D)        (None, 9, 9, 512)         2359808   \n",
      "_________________________________________________________________\n",
      "block5_conv3 (Conv2D)        (None, 9, 9, 512)         2359808   \n",
      "_________________________________________________________________\n",
      "block5_pool (MaxPooling2D)   (None, 4, 4, 512)         0         \n",
      "=================================================================\n",
      "Total params: 14,714,688\n",
      "Trainable params: 14,714,688\n",
      "Non-trainable params: 0\n",
      "_________________________________________________________________\n"
     ]
    }
   ],
   "source": [
    "conv_base.summary()"
   ]
  },
  {
   "cell_type": "code",
   "execution_count": 12,
   "metadata": {},
   "outputs": [],
   "source": [
    "#Print Network \n",
    "#print_network (results_dir, conv_base, Model_name)\n",
    "#Save Network \n",
    "save_network_json (model_json_dir, conv_base, Model_name)"
   ]
  },
  {
   "cell_type": "code",
   "execution_count": 13,
   "metadata": {},
   "outputs": [
    {
     "name": "stdout",
     "output_type": "stream",
     "text": [
      "/home/valborsf/Documents/UOC/PFMProject/DataNew4/CSV/\n"
     ]
    }
   ],
   "source": [
    "# Load train,validation & Test \n",
    "(dftrain, dfval, dftest) = read_dataframes(csv_dir)"
   ]
  },
  {
   "cell_type": "code",
   "execution_count": 14,
   "metadata": {},
   "outputs": [
    {
     "name": "stdout",
     "output_type": "stream",
     "text": [
      "Found 2100 validated image filenames belonging to 2 classes.\n",
      "Executing op __inference_keras_scratch_graph_512 in device /job:localhost/replica:0/task:0/device:GPU:0\n",
      "Found 700 validated image filenames belonging to 2 classes.\n",
      "Found 700 validated image filenames belonging to 2 classes.\n"
     ]
    }
   ],
   "source": [
    "# This is time consuming !\n",
    "import os\n",
    "import numpy as np\n",
    "from keras.preprocessing.image import ImageDataGenerator\n",
    "\n",
    "datagen = ImageDataGenerator(rescale=1./255)\n",
    "batch_size = 32\n",
    "\n",
    "def extract_features( dataframe, sample_count, Pre_model, test_dataframe):\n",
    "    if Pre_model == \"VGG16\":\n",
    "           features = np.zeros(shape=(sample_count,4,4,512))  #Last layer VGG16\n",
    "    elif Pre_model == \"ResNet50\":\n",
    "           features = np.zeros(shape=(sample_count,5,5,2048))  #Last layer ResNet50\n",
    "    labels = np.zeros (shape=(sample_count))\n",
    "    \n",
    "    if test_dataframe == \"N\":\n",
    "        generator = datagen.flow_from_dataframe(\n",
    "           dataframe=dataframe,       # Data frame with info of the files and targets\n",
    "           directory=imag_dir,        # path to the directory to read the images from\n",
    "           x_col='file_name_ext',     # column in the data frame that contains the file names \n",
    "           y_col='bm',                # column in the data frame that has the target data\n",
    "           target_size=(150, 150),    # dimensions that the images will be resized\n",
    "           batch_size=batch_size,     # size of the batches of data (default: 32).\n",
    "           class_mode='binary')       # Mode for yielding the targets:1D numpy array of binary labels\n",
    "        \n",
    "    elif test_dataframe == \"Y\":\n",
    "        generator = datagen.flow_from_dataframe(\n",
    "            dataframe=dataframe,       # Data frame with info of the files and targets\n",
    "            directory=imag_dir,        # path to the directory to read the images from\n",
    "            x_col='file_name_ext',     # column in the data frame that contains the file names \n",
    "            y_col='bm',                # column in the data frame that has the target data\n",
    "            target_size=(150, 150),    # dimensions that the images will be resized\n",
    "            batch_size=batch_size,             # size of the batches of data (default: 32).\n",
    "            shuffle=False,             # IMPORTANT !!! Do not shuffle test data !!!!!!!!!!!!!\n",
    "            class_mode='binary')       # Mode for yielding the targets:1D numpy array of binary labels\n",
    "    \n",
    "    i=0\n",
    "    \n",
    "    for inputs_batch, labels_batch in generator:\n",
    "        features_batch = conv_base.predict(inputs_batch)\n",
    "        features[i * batch_size :(i+1)* batch_size] = features_batch\n",
    "        labels [i*batch_size : (i+1) * batch_size]= labels_batch\n",
    "        i += 1\n",
    "        if i * batch_size >= sample_count:\n",
    "            break\n",
    "    return features, labels \n",
    "\n",
    "num_train = 2100\n",
    "num_val = 700\n",
    "num_test = 700\n",
    "\n",
    "train_features, train_labels = extract_features(dftrain,  num_train, Pre_model, \"N\")\n",
    "validation_features, validation_labels = extract_features ( dfval, num_val, Pre_model, \"N\")\n",
    "test_features, test_labels = extract_features(dftest, num_test, Pre_model, \"Y\")\n"
   ]
  },
  {
   "cell_type": "code",
   "execution_count": 15,
   "metadata": {},
   "outputs": [
    {
     "name": "stdout",
     "output_type": "stream",
     "text": [
      "VGG16\n",
      "<class 'numpy.ndarray'>\n",
      "<class 'numpy.ndarray'>\n",
      "(2100, 4, 4, 512)\n",
      "(2100,)\n"
     ]
    }
   ],
   "source": [
    "# Check tensors \n",
    "print ( Pre_model)\n",
    "print (type (train_features) )\n",
    "print (type (train_labels) )\n",
    "print (train_features.shape) \n",
    "print (train_labels.shape) \n",
    "#print (train_features[0,0,0])\n",
    "#print (train_labels[0])"
   ]
  },
  {
   "cell_type": "code",
   "execution_count": 16,
   "metadata": {},
   "outputs": [],
   "source": [
    "# Preprocess Tensors shape for the different PreNets\n",
    "\n",
    "if Pre_model == \"ResNet50\":\n",
    "# ResNet50\n",
    "       train_features = np.reshape ( train_features, (num_train, 5*5*2048))\n",
    "       validation_features = np.reshape ( validation_features, (num_val, 5*5*2048))\n",
    "       test_features = np.reshape ( test_features, (num_test, 5*5*2048))\n",
    "elif Pre_model == \"VGG16\":\n",
    "#VGG16\n",
    "       train_features = np.reshape ( train_features, (num_train, 4*4*512))\n",
    "       validation_features = np.reshape ( validation_features, (num_val, 4*4*512))\n",
    "       test_features = np.reshape ( test_features, (num_test, 4*4*512))"
   ]
  },
  {
   "cell_type": "code",
   "execution_count": 17,
   "metadata": {},
   "outputs": [
    {
     "name": "stdout",
     "output_type": "stream",
     "text": [
      "Executing op RandomUniform in device /job:localhost/replica:0/task:0/device:GPU:0\n",
      "Executing op VarHandleOp in device /job:localhost/replica:0/task:0/device:GPU:0\n",
      "Executing op RandomUniform in device /job:localhost/replica:0/task:0/device:GPU:0\n",
      "Executing op VarHandleOp in device /job:localhost/replica:0/task:0/device:GPU:0\n",
      "Executing op VarHandleOp in device /job:localhost/replica:0/task:0/device:GPU:0\n",
      "Executing op RandomUniform in device /job:localhost/replica:0/task:0/device:GPU:0\n",
      "Executing op VarHandleOp in device /job:localhost/replica:0/task:0/device:GPU:0\n",
      "Executing op VarHandleOp in device /job:localhost/replica:0/task:0/device:GPU:0\n",
      "Executing op RandomUniform in device /job:localhost/replica:0/task:0/device:GPU:0\n",
      "Executing op VarHandleOp in device /job:localhost/replica:0/task:0/device:GPU:0\n",
      "Executing op Reshape in device /job:localhost/replica:0/task:0/device:GPU:0\n",
      "Executing op VarHandleOp in device /job:localhost/replica:0/task:0/device:GPU:0\n"
     ]
    }
   ],
   "source": [
    "#Build Network \n",
    "from keras import layers\n",
    "from keras import models\n",
    "from keras.regularizers import l2\n",
    "model = models.Sequential ()\n",
    "\n",
    "if Pre_model == \"VGG16\":\n",
    "    model.add(layers.Dense(256, kernel_regularizer=l2(0.0005), activation='relu', input_dim = 4*4*512))    # VGG16\n",
    "\n",
    "elif Pre_model == \"ResNet50\":\n",
    "    model.add(layers.Dense(256, kernel_regularizer=l2(0.0005), activation='relu', input_dim = 5*5*2048))  # ResNet50\n",
    "\n",
    "model.add(layers.Dense(1000, kernel_regularizer=l2(0.0005), activation='relu'))\n",
    "model.add(layers.Dropout(0.5))\n",
    "model.add(layers.Dense(200, kernel_regularizer=l2(0.0005), activation='relu'))\n",
    "model.add(layers.Dropout(0.5))\n",
    "model.add(layers.Dense(1, activation='sigmoid'))\n"
   ]
  },
  {
   "cell_type": "code",
   "execution_count": 18,
   "metadata": {},
   "outputs": [
    {
     "name": "stdout",
     "output_type": "stream",
     "text": [
      "Executing op VarHandleOp in device /job:localhost/replica:0/task:0/device:GPU:0\n",
      "Executing op AssignVariableOp in device /job:localhost/replica:0/task:0/device:GPU:0\n",
      "Executing op VarHandleOp in device /job:localhost/replica:0/task:0/device:GPU:0\n"
     ]
    }
   ],
   "source": [
    "#Compile Network \n",
    "from keras import optimizers \n",
    "model.compile ( loss='binary_crossentropy',\n",
    "#               optimizer = optimizers.RMSprop(lr=1e-4),\n",
    "               optimizer = optimizers.Adam(lr=1e-4),\n",
    "               metrics= ['acc'])"
   ]
  },
  {
   "cell_type": "code",
   "execution_count": 19,
   "metadata": {},
   "outputs": [
    {
     "name": "stdout",
     "output_type": "stream",
     "text": [
      "Model: \"sequential_1\"\n",
      "_________________________________________________________________\n",
      "Layer (type)                 Output Shape              Param #   \n",
      "=================================================================\n",
      "dense_1 (Dense)              (None, 256)               2097408   \n",
      "_________________________________________________________________\n",
      "dense_2 (Dense)              (None, 1000)              257000    \n",
      "_________________________________________________________________\n",
      "dropout_1 (Dropout)          (None, 1000)              0         \n",
      "_________________________________________________________________\n",
      "dense_3 (Dense)              (None, 200)               200200    \n",
      "_________________________________________________________________\n",
      "dropout_2 (Dropout)          (None, 200)               0         \n",
      "_________________________________________________________________\n",
      "dense_4 (Dense)              (None, 1)                 201       \n",
      "=================================================================\n",
      "Total params: 2,554,809\n",
      "Trainable params: 2,554,809\n",
      "Non-trainable params: 0\n",
      "_________________________________________________________________\n"
     ]
    }
   ],
   "source": [
    "model.summary()"
   ]
  },
  {
   "cell_type": "code",
   "execution_count": 20,
   "metadata": {},
   "outputs": [],
   "source": [
    "#Print Network \n",
    "Model_name_train = Model_name + \"_train\"\n",
    "#print_network (results_dir, model, Model_name_train)\n",
    "#Save Network \n",
    "save_network_json (model_json_dir, model, Model_name_train)"
   ]
  },
  {
   "cell_type": "code",
   "execution_count": 21,
   "metadata": {},
   "outputs": [],
   "source": [
    "# Callbackt to be used \n",
    "import keras\n",
    "from keras.callbacks import ModelCheckpoint\n",
    "from keras.callbacks import EarlyStopping\n",
    "\n",
    "callbacks_list = [\n",
    "# No early stopping when augmentation \n",
    "         keras.callbacks.EarlyStopping (\n",
    "             monitor = 'val_loss',        # Monitors the val loss\n",
    "             patience = 10,),              # Interrupt if acc no improve in 10 epochs\n",
    "\n",
    "#  ModelCheckpoint to store the weights of the best performing epoch. \n",
    "    \n",
    "         keras.callbacks.ModelCheckpoint(filepath=model_bin_dir+\"Best_weights\"+Model_name+\".hdf5\", \n",
    "             monitor = 'val_loss', # Won't overwritte the model file unless val_loss has\n",
    "             verbose=1,            # improve \n",
    "             save_best_only=True),\n",
    "         \n",
    "#         keras.callbacks.TensorBoard(\n",
    "#             log_dir =  Tensor_dir, \n",
    "#            histogram_freq = 0,  ) # No histograms - validation data must be provided as a tensor\n",
    "          ]"
   ]
  },
  {
   "cell_type": "code",
   "execution_count": 22,
   "metadata": {},
   "outputs": [
    {
     "name": "stdout",
     "output_type": "stream",
     "text": [
      "Train on 2100 samples, validate on 700 samples\n",
      "Epoch 1/200\n",
      "Executing op __inference_keras_scratch_graph_2304 in device /job:localhost/replica:0/task:0/device:GPU:0\n",
      "2080/2100 [============================>.] - ETA: 0s - loss: 1.2141 - acc: 0.5966Executing op __inference_keras_scratch_graph_2417 in device /job:localhost/replica:0/task:0/device:GPU:0\n",
      "2100/2100 [==============================] - 1s 511us/step - loss: 1.2138 - acc: 0.5971 - val_loss: 1.0393 - val_acc: 0.7529\n",
      "\n",
      "Epoch 00001: val_loss improved from inf to 1.03933, saving model to /home/valborsf/Documents/UOC/PFMProject/MODELK6/BMODEL/Best_weightsModel6_0_VGG16.hdf5\n",
      "Executing op ReadVariableOp in device /job:localhost/replica:0/task:0/device:GPU:0\n",
      "Executing op ReadVariableOp in device /job:localhost/replica:0/task:0/device:GPU:0\n",
      "Epoch 2/200\n",
      "2100/2100 [==============================] - 0s 144us/step - loss: 1.0459 - acc: 0.6981 - val_loss: 0.9286 - val_acc: 0.7686\n",
      "\n",
      "Epoch 00002: val_loss improved from 1.03933 to 0.92860, saving model to /home/valborsf/Documents/UOC/PFMProject/MODELK6/BMODEL/Best_weightsModel6_0_VGG16.hdf5\n",
      "Epoch 3/200\n",
      "2100/2100 [==============================] - 0s 134us/step - loss: 0.9608 - acc: 0.7252 - val_loss: 0.8768 - val_acc: 0.7729\n",
      "\n",
      "Epoch 00003: val_loss improved from 0.92860 to 0.87681, saving model to /home/valborsf/Documents/UOC/PFMProject/MODELK6/BMODEL/Best_weightsModel6_0_VGG16.hdf5\n",
      "Epoch 4/200\n",
      "2100/2100 [==============================] - 0s 134us/step - loss: 0.9136 - acc: 0.7214 - val_loss: 0.8375 - val_acc: 0.7686\n",
      "\n",
      "Epoch 00004: val_loss improved from 0.87681 to 0.83750, saving model to /home/valborsf/Documents/UOC/PFMProject/MODELK6/BMODEL/Best_weightsModel6_0_VGG16.hdf5\n",
      "Epoch 5/200\n",
      "2100/2100 [==============================] - 0s 157us/step - loss: 0.8511 - acc: 0.7548 - val_loss: 0.8128 - val_acc: 0.7614\n",
      "\n",
      "Epoch 00005: val_loss improved from 0.83750 to 0.81279, saving model to /home/valborsf/Documents/UOC/PFMProject/MODELK6/BMODEL/Best_weightsModel6_0_VGG16.hdf5\n",
      "Epoch 6/200\n",
      "2100/2100 [==============================] - 0s 140us/step - loss: 0.8210 - acc: 0.7467 - val_loss: 0.7804 - val_acc: 0.7700\n",
      "\n",
      "Epoch 00006: val_loss improved from 0.81279 to 0.78044, saving model to /home/valborsf/Documents/UOC/PFMProject/MODELK6/BMODEL/Best_weightsModel6_0_VGG16.hdf5\n",
      "Epoch 7/200\n",
      "2100/2100 [==============================] - 0s 138us/step - loss: 0.7937 - acc: 0.7567 - val_loss: 0.8003 - val_acc: 0.7543\n",
      "\n",
      "Epoch 00007: val_loss did not improve from 0.78044\n",
      "Epoch 8/200\n",
      "2100/2100 [==============================] - 0s 150us/step - loss: 0.7608 - acc: 0.7681 - val_loss: 0.7574 - val_acc: 0.7657\n",
      "\n",
      "Epoch 00008: val_loss improved from 0.78044 to 0.75736, saving model to /home/valborsf/Documents/UOC/PFMProject/MODELK6/BMODEL/Best_weightsModel6_0_VGG16.hdf5\n",
      "Epoch 9/200\n",
      "2100/2100 [==============================] - 0s 133us/step - loss: 0.7256 - acc: 0.7867 - val_loss: 0.7504 - val_acc: 0.7786\n",
      "\n",
      "Epoch 00009: val_loss improved from 0.75736 to 0.75043, saving model to /home/valborsf/Documents/UOC/PFMProject/MODELK6/BMODEL/Best_weightsModel6_0_VGG16.hdf5\n",
      "Epoch 10/200\n",
      "2100/2100 [==============================] - 0s 144us/step - loss: 0.6887 - acc: 0.8133 - val_loss: 0.7468 - val_acc: 0.7643\n",
      "\n",
      "Epoch 00010: val_loss improved from 0.75043 to 0.74684, saving model to /home/valborsf/Documents/UOC/PFMProject/MODELK6/BMODEL/Best_weightsModel6_0_VGG16.hdf5\n",
      "Epoch 11/200\n",
      "2100/2100 [==============================] - 0s 145us/step - loss: 0.6681 - acc: 0.8138 - val_loss: 0.7379 - val_acc: 0.7686\n",
      "\n",
      "Epoch 00011: val_loss improved from 0.74684 to 0.73787, saving model to /home/valborsf/Documents/UOC/PFMProject/MODELK6/BMODEL/Best_weightsModel6_0_VGG16.hdf5\n",
      "Epoch 12/200\n",
      "2100/2100 [==============================] - 0s 136us/step - loss: 0.6495 - acc: 0.8181 - val_loss: 0.7607 - val_acc: 0.7700\n",
      "\n",
      "Epoch 00012: val_loss did not improve from 0.73787\n",
      "Epoch 13/200\n",
      "2100/2100 [==============================] - 0s 140us/step - loss: 0.5988 - acc: 0.8471 - val_loss: 0.8029 - val_acc: 0.7400\n",
      "\n",
      "Epoch 00013: val_loss did not improve from 0.73787\n",
      "Epoch 14/200\n",
      "2100/2100 [==============================] - 0s 148us/step - loss: 0.5883 - acc: 0.8538 - val_loss: 0.7352 - val_acc: 0.7786\n",
      "\n",
      "Epoch 00014: val_loss improved from 0.73787 to 0.73525, saving model to /home/valborsf/Documents/UOC/PFMProject/MODELK6/BMODEL/Best_weightsModel6_0_VGG16.hdf5\n",
      "Epoch 15/200\n",
      "2100/2100 [==============================] - 0s 139us/step - loss: 0.5527 - acc: 0.8767 - val_loss: 0.7699 - val_acc: 0.7386\n",
      "\n",
      "Epoch 00015: val_loss did not improve from 0.73525\n",
      "Epoch 16/200\n",
      "2100/2100 [==============================] - 0s 149us/step - loss: 0.5159 - acc: 0.8900 - val_loss: 0.8100 - val_acc: 0.7557\n",
      "\n",
      "Epoch 00016: val_loss did not improve from 0.73525\n",
      "Epoch 17/200\n",
      "2100/2100 [==============================] - 0s 145us/step - loss: 0.5005 - acc: 0.8862 - val_loss: 0.7915 - val_acc: 0.7786\n",
      "\n",
      "Epoch 00017: val_loss did not improve from 0.73525\n",
      "Epoch 18/200\n",
      "2100/2100 [==============================] - 0s 141us/step - loss: 0.4902 - acc: 0.8890 - val_loss: 0.8179 - val_acc: 0.7386\n",
      "\n",
      "Epoch 00018: val_loss did not improve from 0.73525\n",
      "Epoch 19/200\n",
      "2100/2100 [==============================] - 0s 140us/step - loss: 0.4752 - acc: 0.8914 - val_loss: 0.7941 - val_acc: 0.7514\n",
      "\n",
      "Epoch 00019: val_loss did not improve from 0.73525\n",
      "Epoch 20/200\n",
      "2100/2100 [==============================] - 0s 162us/step - loss: 0.4450 - acc: 0.9090 - val_loss: 0.8555 - val_acc: 0.7343\n",
      "\n",
      "Epoch 00020: val_loss did not improve from 0.73525\n",
      "Epoch 21/200\n",
      "2100/2100 [==============================] - 0s 145us/step - loss: 0.4208 - acc: 0.9162 - val_loss: 0.8594 - val_acc: 0.7457\n",
      "\n",
      "Epoch 00021: val_loss did not improve from 0.73525\n",
      "Epoch 22/200\n",
      "2100/2100 [==============================] - 0s 145us/step - loss: 0.3994 - acc: 0.9295 - val_loss: 0.8889 - val_acc: 0.7457\n",
      "\n",
      "Epoch 00022: val_loss did not improve from 0.73525\n",
      "Epoch 23/200\n",
      "2100/2100 [==============================] - 0s 141us/step - loss: 0.3761 - acc: 0.9390 - val_loss: 0.9343 - val_acc: 0.7343\n",
      "\n",
      "Epoch 00023: val_loss did not improve from 0.73525\n",
      "Epoch 24/200\n",
      "2100/2100 [==============================] - 0s 138us/step - loss: 0.3778 - acc: 0.9386 - val_loss: 0.9216 - val_acc: 0.7586\n",
      "\n",
      "Epoch 00024: val_loss did not improve from 0.73525\n",
      "Time spent in training :00:00:09\n"
     ]
    }
   ],
   "source": [
    "# train Network\n",
    "import time\n",
    "\n",
    "if TRAIN :\n",
    "    start_time = time.time()   \n",
    "    history = model.fit ( train_features, train_labels, \n",
    "                      epochs = 200,\n",
    "                      callbacks=callbacks_list,   \n",
    "                      batch_size = 32, \n",
    "                      validation_data = ( validation_features, validation_labels))\n",
    "    save_model(model, history, model_bin_dir, Model_name)\n",
    "    elapsed_time = time.time() - start_time\n",
    "\n",
    "    print( time.strftime('Time spent in training :'\"%H:%M:%S\", time.gmtime(elapsed_time)))"
   ]
  },
  {
   "cell_type": "code",
   "execution_count": 23,
   "metadata": {},
   "outputs": [],
   "source": [
    "# Import Model Test if not need to Train \n",
    "if not TRAIN :\n",
    "    model = model_load ( model_bin_dir, Model_name)"
   ]
  },
  {
   "cell_type": "code",
   "execution_count": 24,
   "metadata": {},
   "outputs": [
    {
     "data": {
      "image/png": "[encoded data removed]",
      "text/plain": [
       "<Figure size 432x288 with 1 Axes>"
      ]
     },
     "metadata": {
      "needs_background": "light"
     },
     "output_type": "display_data"
    },
    {
     "data": {
      "image/png": "[encoded data removed]",
      "text/plain": [
       "<Figure size 432x288 with 1 Axes>"
      ]
     },
     "metadata": {
      "needs_background": "light"
     },
     "output_type": "display_data"
    }
   ],
   "source": [
    "# Display curves of loss and accuracy during training and save results \n",
    "plot_save_acc_loss(results_dir, history.history, Model_name)"
   ]
  },
  {
   "cell_type": "code",
   "execution_count": 25,
   "metadata": {},
   "outputs": [
    {
     "name": "stdout",
     "output_type": "stream",
     "text": [
      "Executing op RandomUniform in device /job:localhost/replica:0/task:0/device:GPU:0\n",
      "Executing op Fill in device /job:localhost/replica:0/task:0/device:GPU:0\n",
      "Executing op VarHandleOp in device /job:localhost/replica:0/task:0/device:GPU:0\n",
      "Executing op LogicalNot in device /job:localhost/replica:0/task:0/device:GPU:0\n",
      "Executing op Assert in device /job:localhost/replica:0/task:0/device:GPU:0\n",
      "Executing op VarHandleOp in device /job:localhost/replica:0/task:0/device:GPU:0\n",
      "Executing op VarHandleOp in device /job:localhost/replica:0/task:0/device:GPU:0\n",
      "Executing op VarHandleOp in device /job:localhost/replica:0/task:0/device:GPU:0\n",
      "Executing op VarHandleOp in device /job:localhost/replica:0/task:0/device:GPU:0\n",
      "Executing op VarHandleOp in device /job:localhost/replica:0/task:0/device:GPU:0\n",
      "Executing op VarHandleOp in device /job:localhost/replica:0/task:0/device:GPU:0\n",
      "Executing op Reshape in device /job:localhost/replica:0/task:0/device:GPU:0\n",
      "Executing op VarHandleOp in device /job:localhost/replica:0/task:0/device:GPU:0\n"
     ]
    }
   ],
   "source": [
    "# Import Model Test if not need to Train \n",
    "\n",
    "if Pre_model == \"ResNet50\":\n",
    "        Model_name = \"Model6_0_ResNet50\"\n",
    "else:\n",
    "        Model_name = \"Model6_0_VGG16\"\n",
    "model = model_load ( model_bin_dir, Model_name)\n",
    "model.load_weights(model_bin_dir+\"Best_weights\"+Model_name+\".hdf5\")"
   ]
  },
  {
   "cell_type": "code",
   "execution_count": 26,
   "metadata": {},
   "outputs": [
    {
     "name": "stdout",
     "output_type": "stream",
     "text": [
      "Executing op RangeDataset in device /job:localhost/replica:0/task:0/device:CPU:0\n",
      "Executing op RepeatDataset in device /job:localhost/replica:0/task:0/device:CPU:0\n",
      "Executing op MapDataset in device /job:localhost/replica:0/task:0/device:CPU:0\n",
      "Executing op PrefetchDataset in device /job:localhost/replica:0/task:0/device:CPU:0\n",
      "Executing op FlatMapDataset in device /job:localhost/replica:0/task:0/device:CPU:0\n",
      "Executing op TensorDataset in device /job:localhost/replica:0/task:0/device:CPU:0\n",
      "Executing op RepeatDataset in device /job:localhost/replica:0/task:0/device:CPU:0\n",
      "Executing op ZipDataset in device /job:localhost/replica:0/task:0/device:CPU:0\n",
      "Executing op ParallelMapDataset in device /job:localhost/replica:0/task:0/device:CPU:0\n",
      "Executing op ModelDataset in device /job:localhost/replica:0/task:0/device:CPU:0\n",
      "Executing op AnonymousIteratorV2 in device /job:localhost/replica:0/task:0/device:CPU:0\n",
      "Executing op MakeIterator in device /job:localhost/replica:0/task:0/device:CPU:0\n",
      "Executing op __inference_distributed_function_17545 in device /job:localhost/replica:0/task:0/device:GPU:0\n",
      "700/1 - 0s - loss: 0.7622 - acc: 0.7629\n",
      "Executing op DeleteIterator in device /job:localhost/replica:0/task:0/device:CPU:0\n"
     ]
    }
   ],
   "source": [
    "#Evaluate your model  -> Evaluation number -> nº samples/ size batch times\n",
    "#scores = model.evaluate(test_generator, verbose=1, steps = 31)\n",
    "# Evaluates with numpy arrays\n",
    "scores = model.evaluate(test_features, test_labels, verbose=2)"
   ]
  },
  {
   "cell_type": "code",
   "execution_count": 27,
   "metadata": {},
   "outputs": [
    {
     "data": {
      "text/plain": [
       "['loss', 'acc']"
      ]
     },
     "execution_count": 27,
     "metadata": {},
     "output_type": "execute_result"
    }
   ],
   "source": [
    "model.metrics_names"
   ]
  },
  {
   "cell_type": "code",
   "execution_count": 28,
   "metadata": {},
   "outputs": [
    {
     "data": {
      "text/plain": [
       "[0.7613686946460179, 0.76285714]"
      ]
     },
     "execution_count": 28,
     "metadata": {},
     "output_type": "execute_result"
    }
   ],
   "source": [
    "scores"
   ]
  },
  {
   "cell_type": "code",
   "execution_count": null,
   "metadata": {},
   "outputs": [],
   "source": [
    "# Res net50  loss = 0.52  acc=0.74\n",
    "# VGG        Loss = 76    Accuracy of 76%"
   ]
  },
  {
   "cell_type": "code",
   "execution_count": 29,
   "metadata": {},
   "outputs": [
    {
     "name": "stdout",
     "output_type": "stream",
     "text": [
      "Executing op MapDataset in device /job:localhost/replica:0/task:0/device:CPU:0\n",
      "Executing op FlatMapDataset in device /job:localhost/replica:0/task:0/device:CPU:0\n",
      "Executing op TensorDataset in device /job:localhost/replica:0/task:0/device:CPU:0\n",
      "Executing op RepeatDataset in device /job:localhost/replica:0/task:0/device:CPU:0\n",
      "Executing op ZipDataset in device /job:localhost/replica:0/task:0/device:CPU:0\n",
      "Executing op ParallelMapDataset in device /job:localhost/replica:0/task:0/device:CPU:0\n",
      "Executing op ModelDataset in device /job:localhost/replica:0/task:0/device:CPU:0\n",
      "Executing op AnonymousIteratorV2 in device /job:localhost/replica:0/task:0/device:CPU:0\n",
      "Executing op __inference_distributed_function_17705 in device /job:localhost/replica:0/task:0/device:GPU:0\n"
     ]
    }
   ],
   "source": [
    "# Compute predictions\n",
    "# This takes time !!!!!!!!!!!!!!!!!!!!!!!!!!!!!!!!!\n",
    "y_pred_keras = model.predict(test_features).ravel()        # y_pred probabilities\n",
    "y_pred = y_pred_keras > 0.5                                # y_pred_class : if >0.5  = True => Malignant\n",
    "#y_test = test_generator.classes                            # Ground truth\n",
    "#class_labels = list(test_generator.class_indices.keys())   # Class labels\n",
    "y_test = dftest.bm.astype('category').cat.codes\n",
    "class_labels= dftest.bm.unique()"
   ]
  },
  {
   "cell_type": "code",
   "execution_count": 30,
   "metadata": {},
   "outputs": [
    {
     "name": "stdout",
     "output_type": "stream",
     "text": [
      "Metrics Model6_0_VGG16\n",
      "===========================================\n",
      "Confusion Matrix:\n",
      "[[247  93]\n",
      " [ 73 287]]\n",
      "+----------------------------+-------------+\n",
      "|            Type            |  # samples  |\n",
      "+============================+=============+\n",
      "| True Positives- Malignants | 287         |\n",
      "+----------------------------+-------------+\n",
      "| True Negatives- Benign     | 247         |\n",
      "+----------------------------+-------------+\n",
      "| False Positive             | 93          |\n",
      "+----------------------------+-------------+\n",
      "| False Negative             | 73          |\n",
      "+----------------------------+-------------+\n",
      "Summary classification Report: \n",
      "              precision    recall  f1-score   support\n",
      "\n",
      "   malignant       0.77      0.73      0.75       340\n",
      "      benign       0.76      0.80      0.78       360\n",
      "\n",
      "    accuracy                           0.76       700\n",
      "   macro avg       0.76      0.76      0.76       700\n",
      "weighted avg       0.76      0.76      0.76       700\n",
      "\n",
      "+-------------+---------+\n",
      "|   Metrics   |         |\n",
      "+=============+=========+\n",
      "| Accuracy    | 0.760   |\n",
      "+-------------+---------+\n",
      "| Sensitivity | 0.800   |\n",
      "+-------------+---------+\n",
      "| Specificity | 0.730   |\n",
      "+-------------+---------+\n",
      "| AUC         | 0.840   |\n",
      "+-------------+---------+\n"
     ]
    },
    {
     "data": {
      "image/png": "[encoded data removed]",
      "text/plain": [
       "<Figure size 432x288 with 1 Axes>"
      ]
     },
     "metadata": {
      "needs_background": "light"
     },
     "output_type": "display_data"
    },
    {
     "data": {
      "image/png": "[encoded data removed]",
      "text/plain": [
       "<Figure size 432x288 with 1 Axes>"
      ]
     },
     "metadata": {
      "needs_background": "light"
     },
     "output_type": "display_data"
    }
   ],
   "source": [
    "#Print Metrics + Confusion ROC AUC\n",
    "confusion_ROC_AUC ( y_test, y_pred, y_pred_keras, class_labels, results_dir, Model_name )"
   ]
  },
  {
   "cell_type": "code",
   "execution_count": null,
   "metadata": {},
   "outputs": [],
   "source": []
  }
 ],
 "metadata": {
  "accelerator": "GPU",
  "colab": {
   "collapsed_sections": [],
   "name": "Preprocess_Fit4.ipynb",
   "provenance": []
  },
  "kernelspec": {
   "display_name": "“gpu2”",
   "language": "python",
   "name": "gpu2"
  },
  "language_info": {
   "codemirror_mode": {
    "name": "ipython",
    "version": 3
   },
   "file_extension": ".py",
   "mimetype": "text/x-python",
   "name": "python",
   "nbconvert_exporter": "python",
   "pygments_lexer": "ipython3",
   "version": "3.7.6"
  }
 },
 "nbformat": 4,
 "nbformat_minor": 1
}

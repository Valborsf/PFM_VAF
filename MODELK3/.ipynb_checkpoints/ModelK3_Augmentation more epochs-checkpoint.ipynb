{
 "cells": [
  {
   "cell_type": "markdown",
   "metadata": {
    "colab_type": "text",
    "id": "Ur34g7Fbi5lr"
   },
   "source": [
    "# Notebook- Data Augmentation ( Model K3_1 ) \n",
    "# Author : V.Albors   Date : 06.02.2020\n",
    "# Purpose : Preprocess and Train the CNN (Data Augmentation )\n",
    "# more layers (less params) w/o reg or dropout\n",
    "\n",
    "**Input** :  \n",
    "  * CSV files that identify the images to use as train and validation. CSV files are in directory csv_dir   \n",
    "  * Images from train and validation. Images are in directory : imag_dir  \n",
    "  \n",
    "  \n",
    "**Output**:  \n",
    "  * Download of the model trained with train dataset - with Data Augmentation\n",
    "  * Download the history of the model in order to be evaluated \n",
    "\n",
    "**Process**:  \n",
    " * Read Train and Validation images ( identified in the .csv files ) from the imag_dir directory   \n",
    " * Define Network \n",
    " * Print Network + Save Network Definition\n",
    " * Compile Network \n",
    " * Create a train and validation generator   \n",
    " * Train the model with the train dataset with 100 epochs ( with data Augmentation. Callbacks :ModelCheckpoint)  \n",
    " * Save the trained model and history of the model in directory model_bin_dir \n",
    "\n"
   ]
  },
  {
   "cell_type": "code",
   "execution_count": 1,
   "metadata": {},
   "outputs": [],
   "source": [
    "from __future__ import absolute_import, division, print_function, unicode_literals\n",
    "import tensorflow as tf\n",
    "\n",
    "tf.keras.backend.clear_session()  # Reset"
   ]
  },
  {
   "cell_type": "code",
   "execution_count": 2,
   "metadata": {},
   "outputs": [
    {
     "name": "stdout",
     "output_type": "stream",
     "text": [
      "Num GPUs Available:  1\n"
     ]
    }
   ],
   "source": [
    "import tensorflow as tf\n",
    "print(\"Num GPUs Available: \", len(tf.config.experimental.list_physical_devices('GPU')))\n",
    "tf.config.experimental.list_physical_devices('GPU') \n",
    "physical_devices = tf.config.experimental.list_physical_devices('GPU')\n",
    "assert len(physical_devices) > 0, \"Not enough GPU hardware devices available\"\n",
    "tf.config.experimental.set_memory_growth(physical_devices[0], True)\n",
    "tf.debugging.set_log_device_placement(True)"
   ]
  },
  {
   "cell_type": "code",
   "execution_count": 3,
   "metadata": {},
   "outputs": [
    {
     "name": "stdout",
     "output_type": "stream",
     "text": [
      "2.0.0\n",
      "10.0\n",
      "7.6\n"
     ]
    }
   ],
   "source": [
    "#Tensorflow version \n",
    "print(tf.__version__)\n",
    "from tensorflow.python.platform import build_info as tf_build_info\n",
    "print(tf_build_info.cuda_version_number)\n",
    "# Cuda Version 9.0 in v1.10.0\n",
    "print(tf_build_info.cudnn_version_number)\n",
    "# CudNN 7 in v1.10.0"
   ]
  },
  {
   "cell_type": "code",
   "execution_count": 4,
   "metadata": {},
   "outputs": [],
   "source": [
    "# Define the name of the model, directories & if to train the model \n",
    "Model_directory = \"MODELK3\"\n",
    "Model_name = \"ModelK3_3\"\n",
    "TRAIN = True"
   ]
  },
  {
   "cell_type": "code",
   "execution_count": 5,
   "metadata": {},
   "outputs": [
    {
     "name": "stdout",
     "output_type": "stream",
     "text": [
      "['confusion_ROC_AUC', 'create_column_tensor', 'create_label_tensor', 'create_val_test', 'define_dirs', 'extract_images_bm', 'extract_images_train', 'load_hist_model', 'load_images', 'load_images_tf', 'model_load', 'plot_save_acc_loss', 'print_network', 'process_clinical_info', 'read_dataframes', 'read_dataframes_tables', 'reproducible_results', 'save_model', 'save_network_json', 'start', 'stop', 'to_one_hot', 'to_one_hot_words', 'xi_squared']\n"
     ]
    }
   ],
   "source": [
    "# Import routines\n",
    "import sys  \n",
    "subrc_dir = \"/home/valborsf/Documents/UOC/PFMProject/\"\n",
    "sys.path.append(subrc_dir)  \n",
    "from  Models_routines import *\n",
    "import inspect\n",
    "\n",
    "# List functions inside the module\n",
    "import Models_routines as module\n",
    "functions = inspect.getmembers(module, inspect.isfunction)\n",
    "lsfunctions = [item[0] for item in functions]\n",
    "print ( lsfunctions )"
   ]
  },
  {
   "cell_type": "code",
   "execution_count": 6,
   "metadata": {},
   "outputs": [],
   "source": [
    "# Reproducible results \n",
    "reproducible_results ()"
   ]
  },
  {
   "cell_type": "code",
   "execution_count": 7,
   "metadata": {},
   "outputs": [],
   "source": [
    "# Define directories\n",
    "(root_dir,json_dir,imag_dir,csv_dir,model_json_dir,model_bin_dir,results_dir,Tensor_dir) = define_dirs(Model_directory)"
   ]
  },
  {
   "cell_type": "code",
   "execution_count": 8,
   "metadata": {},
   "outputs": [],
   "source": [
    "# New dataset without SONIC disturbing images\n",
    "json_dir =  root_dir +\"/DataNew/ALL_JSON/\"                # .json dir images\n",
    "imag_dir =  root_dir +\"/DataNew/ALL_IMAGES/\"              # .png dir - images\n",
    "\n",
    "# directories for  CSV's\n",
    "csv_dir =  root_dir +\"/DataNew4/CSV/\"                      # .csv dir - dftrain, dfval, dftest"
   ]
  },
  {
   "cell_type": "code",
   "execution_count": 9,
   "metadata": {},
   "outputs": [
    {
     "name": "stdout",
     "output_type": "stream",
     "text": [
      "Executing op RandomUniform in device /job:localhost/replica:0/task:0/device:GPU:0\n",
      "Executing op Sub in device /job:localhost/replica:0/task:0/device:GPU:0\n",
      "Executing op Mul in device /job:localhost/replica:0/task:0/device:GPU:0\n",
      "Executing op Add in device /job:localhost/replica:0/task:0/device:GPU:0\n",
      "Executing op VarHandleOp in device /job:localhost/replica:0/task:0/device:GPU:0\n",
      "Executing op VarIsInitializedOp in device /job:localhost/replica:0/task:0/device:GPU:0\n",
      "Executing op LogicalNot in device /job:localhost/replica:0/task:0/device:GPU:0\n",
      "Executing op Assert in device /job:localhost/replica:0/task:0/device:GPU:0\n",
      "Executing op AssignVariableOp in device /job:localhost/replica:0/task:0/device:GPU:0\n",
      "Executing op Fill in device /job:localhost/replica:0/task:0/device:GPU:0\n",
      "Executing op VarHandleOp in device /job:localhost/replica:0/task:0/device:GPU:0\n",
      "Executing op VarHandleOp in device /job:localhost/replica:0/task:0/device:GPU:0\n",
      "Executing op VarHandleOp in device /job:localhost/replica:0/task:0/device:GPU:0\n",
      "Executing op VarHandleOp in device /job:localhost/replica:0/task:0/device:GPU:0\n",
      "Executing op VarHandleOp in device /job:localhost/replica:0/task:0/device:GPU:0\n",
      "Executing op VarHandleOp in device /job:localhost/replica:0/task:0/device:GPU:0\n",
      "Executing op VarHandleOp in device /job:localhost/replica:0/task:0/device:GPU:0\n",
      "Executing op VarHandleOp in device /job:localhost/replica:0/task:0/device:GPU:0\n",
      "Executing op VarHandleOp in device /job:localhost/replica:0/task:0/device:GPU:0\n",
      "Executing op VarHandleOp in device /job:localhost/replica:0/task:0/device:GPU:0\n",
      "Executing op Reshape in device /job:localhost/replica:0/task:0/device:GPU:0\n",
      "Executing op VarHandleOp in device /job:localhost/replica:0/task:0/device:GPU:0\n"
     ]
    }
   ],
   "source": [
    "from tensorflow.keras import models\n",
    "from tensorflow.keras import layers\n",
    "from tensorflow.keras import Input\n",
    "from tensorflow.keras import regularizers\n",
    "from tensorflow.keras.callbacks import ModelCheckpoint\n",
    "\n",
    "\n",
    "#from keras import layers\n",
    "#from keras import models\n",
    "model = models.Sequential ()\n",
    "model.add(layers.Conv2D(32, (3,3), activation='relu', input_shape=(150,150,3)))\n",
    "model.add(layers.MaxPooling2D((2,2)))\n",
    "model.add(layers.Conv2D(64, (3,3), activation='relu'))\n",
    "model.add(layers.MaxPooling2D((2,2)))\n",
    "model.add(layers.Conv2D(128, (3,3), activation='relu'))\n",
    "model.add(layers.MaxPooling2D((2,2)))\n",
    "model.add(layers.Conv2D(128, (3,3),activation='relu'))\n",
    "model.add(layers.MaxPooling2D((2,2)))\n",
    "model.add(layers.Flatten())\n",
    "model.add(layers.Dense(512, activation='relu'))\n",
    "model.add(layers.Dense(128, activation='relu'))\n",
    "model.add(layers.Dense(1, activation='sigmoid'))"
   ]
  },
  {
   "cell_type": "code",
   "execution_count": 10,
   "metadata": {},
   "outputs": [
    {
     "name": "stdout",
     "output_type": "stream",
     "text": [
      "Model: \"sequential\"\n",
      "_________________________________________________________________\n",
      "Layer (type)                 Output Shape              Param #   \n",
      "=================================================================\n",
      "conv2d (Conv2D)              (None, 148, 148, 32)      896       \n",
      "_________________________________________________________________\n",
      "max_pooling2d (MaxPooling2D) (None, 74, 74, 32)        0         \n",
      "_________________________________________________________________\n",
      "conv2d_1 (Conv2D)            (None, 72, 72, 64)        18496     \n",
      "_________________________________________________________________\n",
      "max_pooling2d_1 (MaxPooling2 (None, 36, 36, 64)        0         \n",
      "_________________________________________________________________\n",
      "conv2d_2 (Conv2D)            (None, 34, 34, 128)       73856     \n",
      "_________________________________________________________________\n",
      "max_pooling2d_2 (MaxPooling2 (None, 17, 17, 128)       0         \n",
      "_________________________________________________________________\n",
      "conv2d_3 (Conv2D)            (None, 15, 15, 128)       147584    \n",
      "_________________________________________________________________\n",
      "max_pooling2d_3 (MaxPooling2 (None, 7, 7, 128)         0         \n",
      "_________________________________________________________________\n",
      "flatten (Flatten)            (None, 6272)              0         \n",
      "_________________________________________________________________\n",
      "dense (Dense)                (None, 512)               3211776   \n",
      "_________________________________________________________________\n",
      "dense_1 (Dense)              (None, 128)               65664     \n",
      "_________________________________________________________________\n",
      "dense_2 (Dense)              (None, 1)                 129       \n",
      "=================================================================\n",
      "Total params: 3,518,401\n",
      "Trainable params: 3,518,401\n",
      "Non-trainable params: 0\n",
      "_________________________________________________________________\n"
     ]
    }
   ],
   "source": [
    "model.summary()"
   ]
  },
  {
   "cell_type": "code",
   "execution_count": 11,
   "metadata": {},
   "outputs": [],
   "source": [
    "#Print Network \n",
    "print_network (results_dir, model, Model_name)\n",
    "#Save Network \n",
    "save_network_json (model_json_dir, model, Model_name)"
   ]
  },
  {
   "cell_type": "code",
   "execution_count": 12,
   "metadata": {},
   "outputs": [
    {
     "name": "stdout",
     "output_type": "stream",
     "text": [
      "Executing op VarHandleOp in device /job:localhost/replica:0/task:0/device:GPU:0\n"
     ]
    }
   ],
   "source": [
    "# Compile Network \n",
    "#from keras import optimizers \n",
    "from tensorflow.keras import optimizers\n",
    "model.compile ( loss='binary_crossentropy',\n",
    "#               optimizer = optimizers.RMSprop(lr=1e-4),\n",
    "#                optimizer = optimizers.RMSprop(lr=1e-5),\n",
    "                optimizer = optimizers.Adam(lr=1e-4),\n",
    "               metrics= ['acc'])"
   ]
  },
  {
   "cell_type": "code",
   "execution_count": 13,
   "metadata": {},
   "outputs": [
    {
     "name": "stdout",
     "output_type": "stream",
     "text": [
      "/home/valborsf/Documents/UOC/PFMProject/DataNew4/CSV/\n"
     ]
    }
   ],
   "source": [
    "# Load train,validation & Test \n",
    "(dftrain, dfval, dftest) = read_dataframes(csv_dir)"
   ]
  },
  {
   "cell_type": "code",
   "execution_count": 14,
   "metadata": {},
   "outputs": [],
   "source": [
    "# Callbackt to be used \n",
    "#import keras\n",
    "#from keras.callbacks import ModelCheckpoint\n",
    "#from keras.callbacks import EarlyStopping\n",
    "\n",
    "callbacks_list = [\n",
    "#        tf.keras.callbacks.EarlyStopping (\n",
    "#             monitor = 'val_loss',             # Monitors the accuracy\n",
    "#             verbose=1,                        # log when finishes\n",
    "#             patience = 4,),              # Interrupt if acc no improve in 3 epochs\n",
    "\n",
    "#  ModelCheckpoint to store the weights of the best performing epoch. \n",
    "    \n",
    "         tf.keras.callbacks.ModelCheckpoint(filepath=model_bin_dir+\"Best_weights\"+Model_name+\".hdf5\", \n",
    "             monitor = 'val_loss', # Won't overwritte the model file unless val_loss has\n",
    "             verbose=1,            # improve \n",
    "             save_best_only=True),\n",
    "         \n",
    "#         keras.callbacks.TensorBoard(\n",
    "#             log_dir =  Tensor_dir, \n",
    "#            histogram_freq = 0,  ) # No histograms - validation data must be provided as a tensor\n",
    "          ]"
   ]
  },
  {
   "cell_type": "code",
   "execution_count": 15,
   "metadata": {
    "colab": {
     "base_uri": "https://localhost:8080/",
     "height": 52
    },
    "colab_type": "code",
    "executionInfo": {
     "elapsed": 3126,
     "status": "ok",
     "timestamp": 1572217564583,
     "user": {
      "displayName": "Victoria Albors",
      "photoUrl": "",
      "userId": "00745240505511363037"
     },
     "user_tz": -60
    },
    "id": "8UzGZWV_i5mX",
    "outputId": "7543fba5-0b25-4af2-eb57-716cb6ad1bac"
   },
   "outputs": [
    {
     "name": "stdout",
     "output_type": "stream",
     "text": [
      "Found 2100 validated image filenames belonging to 2 classes.\n",
      "Found 700 validated image filenames belonging to 2 classes.\n",
      "Found 700 validated image filenames belonging to 2 classes.\n"
     ]
    }
   ],
   "source": [
    "#from keras.preprocessing.image import ImageDataGenerator\n",
    "from tensorflow.keras.preprocessing.image import ImageDataGenerator\n",
    "#Rescale images  1/255\n",
    "\n",
    "train_datagen = ImageDataGenerator(\n",
    "    rescale=1./255,\n",
    "    rotation_range =40,\n",
    "    width_shift_range = 0.2,\n",
    "    height_shift_range = 0.2,\n",
    "    shear_range = 0.2,\n",
    "    zoom_range=0.2,\n",
    "    horizontal_flip=True, ) \n",
    "                                   \n",
    "validation_datagen = ImageDataGenerator(rescale=1./255)\n",
    "test_datagen = ImageDataGenerator(rescale=1./255)\n",
    "\n",
    "#batch size = 32 . In this way \"steps per epoch\" ( how many batches have to been treated before going to \n",
    "# the next epoch  is exact  2000 samples =  20 samples x batch  and steps per epoch = 100 - 1 epoch)\n",
    "\n",
    "train_generator = train_datagen.flow_from_dataframe(\n",
    "        dataframe=dftrain,         # Data frame with info of the files and targets\n",
    "        directory=imag_dir,        # path to the directory to read the images from\n",
    "        x_col='file_name_ext',     # column in the data frame that contains the file names \n",
    "        y_col='bm',                # column in the data frame that has the target data\n",
    "        target_size=(150, 150),    # dimensions that the images will be resized\n",
    "        batch_size=128,             # size of the batches of data (default: 32).\n",
    "        class_mode='binary')       # Mode for yielding the targets:1D numpy array of binary labels\n",
    "\n",
    "validation_generator = validation_datagen.flow_from_dataframe(\n",
    "        dataframe=dfval,           # Data frame with info of the files and targets\n",
    "        directory=imag_dir,        # path to the directory to read the images from\n",
    "        x_col='file_name_ext',     # column in the data frame that contains the file names \n",
    "        y_col='bm',                # column in the data frame that has the target data\n",
    "        target_size=(150, 150),    # dimensions that the images will be resized\n",
    "        batch_size=128,             # size of the batches of data (default: 32).\n",
    "        class_mode='binary')       # Mode for yielding the targets:1D numpy array of binary labels\n",
    "\n",
    "test_generator = test_datagen.flow_from_dataframe(\n",
    "        dataframe=dftest,         # Data frame with info of the files and targets\n",
    "        directory=imag_dir,        # path to the directory to read the images from\n",
    "        x_col='file_name_ext',     # column in the data frame that contains the file names \n",
    "        y_col='bm',                # column in the data frame that has the target data\n",
    "        target_size=(150, 150),    # dimensions that the images will be resized\n",
    "        batch_size=128,             # size of the batches of data (default: 32).\n",
    "        shuffle=False,             # IMPORTANT !!! Do not shuffle test data !!!!!!!!!!!!!\n",
    "        class_mode='binary')       # Mode for yielding the targets:1D numpy array of binary labels\n",
    "#        class_mode=None)       # Mode for yielding the targets:1D numpy array of binary labels\n",
    "    "
   ]
  },
  {
   "cell_type": "code",
   "execution_count": 16,
   "metadata": {
    "colab": {
     "base_uri": "https://localhost:8080/",
     "height": 1000
    },
    "colab_type": "code",
    "executionInfo": {
     "elapsed": 20824275,
     "status": "ok",
     "timestamp": 1572238403431,
     "user": {
      "displayName": "Victoria Albors",
      "photoUrl": "",
      "userId": "00745240505511363037"
     },
     "user_tz": -60
    },
    "id": "uCoVQU7Xi5mj",
    "outputId": "4f4f09d8-0b79-430f-cdc2-e5e6389a0eac"
   },
   "outputs": [
    {
     "name": "stdout",
     "output_type": "stream",
     "text": [
      "Epoch 1/100\n",
      "Executing op Shape in device /job:localhost/replica:0/task:0/device:GPU:0\n",
      "Executing op StridedSlice in device /job:localhost/replica:0/task:0/device:GPU:0\n",
      "Executing op ReadVariableOp in device /job:localhost/replica:0/task:0/device:GPU:0\n",
      "Executing op Conv2D in device /job:localhost/replica:0/task:0/device:GPU:0\n",
      "Executing op BiasAdd in device /job:localhost/replica:0/task:0/device:GPU:0\n",
      "Executing op Relu in device /job:localhost/replica:0/task:0/device:GPU:0\n",
      "Executing op MaxPool in device /job:localhost/replica:0/task:0/device:GPU:0\n",
      "Executing op MatMul in device /job:localhost/replica:0/task:0/device:GPU:0\n",
      "Executing op Sigmoid in device /job:localhost/replica:0/task:0/device:GPU:0\n",
      "Executing op Minimum in device /job:localhost/replica:0/task:0/device:GPU:0\n",
      "Executing op Maximum in device /job:localhost/replica:0/task:0/device:GPU:0\n",
      "Executing op AddV2 in device /job:localhost/replica:0/task:0/device:GPU:0\n",
      "Executing op Log in device /job:localhost/replica:0/task:0/device:GPU:0\n",
      "Executing op Neg in device /job:localhost/replica:0/task:0/device:GPU:0\n",
      "Executing op Mean in device /job:localhost/replica:0/task:0/device:GPU:0\n",
      "Executing op NoOp in device /job:localhost/replica:0/task:0/device:GPU:0\n",
      "Executing op Sum in device /job:localhost/replica:0/task:0/device:GPU:0\n",
      "Executing op Cast in device /job:localhost/replica:0/task:0/device:GPU:0\n",
      "Executing op DivNoNan in device /job:localhost/replica:0/task:0/device:GPU:0\n",
      "Executing op BroadcastGradientArgs in device /job:localhost/replica:0/task:0/device:GPU:0\n",
      "Executing op Tile in device /job:localhost/replica:0/task:0/device:GPU:0\n",
      "Executing op Maximum in device /job:localhost/replica:0/task:0/device:GPU:0\n",
      "Executing op FloorDiv in device /job:localhost/replica:0/task:0/device:GPU:0\n",
      "Executing op RealDiv in device /job:localhost/replica:0/task:0/device:GPU:0\n",
      "Executing op Reciprocal in device /job:localhost/replica:0/task:0/device:GPU:0\n",
      "Executing op AddN in device /job:localhost/replica:0/task:0/device:GPU:0\n",
      "Executing op ZerosLike in device /job:localhost/replica:0/task:0/device:GPU:0\n",
      "Executing op GreaterEqual in device /job:localhost/replica:0/task:0/device:GPU:0\n",
      "Executing op Select in device /job:localhost/replica:0/task:0/device:GPU:0\n",
      "Executing op LessEqual in device /job:localhost/replica:0/task:0/device:GPU:0\n",
      "Executing op SigmoidGrad in device /job:localhost/replica:0/task:0/device:GPU:0\n",
      "Executing op BiasAddGrad in device /job:localhost/replica:0/task:0/device:GPU:0\n",
      "Executing op MatMul in device /job:localhost/replica:0/task:0/device:GPU:0\n",
      "Executing op MatMul in device /job:localhost/replica:0/task:0/device:GPU:0\n",
      "Executing op ReluGrad in device /job:localhost/replica:0/task:0/device:GPU:0\n",
      "Executing op MaxPoolGrad in device /job:localhost/replica:0/task:0/device:GPU:0\n",
      "Executing op ShapeN in device /job:localhost/replica:0/task:0/device:GPU:0\n",
      "Executing op Conv2DBackpropInput in device /job:localhost/replica:0/task:0/device:GPU:0\n",
      "Executing op Conv2DBackpropFilter in device /job:localhost/replica:0/task:0/device:GPU:0\n",
      "Executing op VarHandleOp in device /job:localhost/replica:0/task:0/device:GPU:0\n",
      "Executing op AssignVariableOp in device /job:localhost/replica:0/task:0/device:GPU:0\n",
      "Executing op Fill in device /job:localhost/replica:0/task:0/device:GPU:0\n",
      "Executing op VarHandleOp in device /job:localhost/replica:0/task:0/device:GPU:0\n",
      "Executing op LogicalNot in device /job:localhost/replica:0/task:0/device:GPU:0\n",
      "Executing op Assert in device /job:localhost/replica:0/task:0/device:GPU:0\n",
      "Executing op VarHandleOp in device /job:localhost/replica:0/task:0/device:GPU:0\n",
      "Executing op VarHandleOp in device /job:localhost/replica:0/task:0/device:GPU:0\n",
      "Executing op VarHandleOp in device /job:localhost/replica:0/task:0/device:GPU:0\n",
      "Executing op VarHandleOp in device /job:localhost/replica:0/task:0/device:GPU:0\n",
      "Executing op VarHandleOp in device /job:localhost/replica:0/task:0/device:GPU:0\n",
      "Executing op VarHandleOp in device /job:localhost/replica:0/task:0/device:GPU:0\n",
      "Executing op VarHandleOp in device /job:localhost/replica:0/task:0/device:GPU:0\n",
      "Executing op VarHandleOp in device /job:localhost/replica:0/task:0/device:GPU:0\n",
      "Executing op VarHandleOp in device /job:localhost/replica:0/task:0/device:GPU:0\n",
      "Executing op VarHandleOp in device /job:localhost/replica:0/task:0/device:GPU:0\n",
      "Executing op Reshape in device /job:localhost/replica:0/task:0/device:GPU:0\n",
      "Executing op VarHandleOp in device /job:localhost/replica:0/task:0/device:GPU:0\n",
      "Executing op ReadVariableOp in device /job:localhost/replica:0/task:0/device:GPU:0\n",
      "Executing op AddV2 in device /job:localhost/replica:0/task:0/device:GPU:0\n",
      "Executing op Cast in device /job:localhost/replica:0/task:0/device:GPU:0\n",
      "Executing op Pow in device /job:localhost/replica:0/task:0/device:GPU:0\n",
      "Executing op Sub in device /job:localhost/replica:0/task:0/device:GPU:0\n",
      "Executing op Sqrt in device /job:localhost/replica:0/task:0/device:GPU:0\n",
      "Executing op RealDiv in device /job:localhost/replica:0/task:0/device:GPU:0\n",
      "Executing op Mul in device /job:localhost/replica:0/task:0/device:GPU:0\n",
      "Executing op ResourceApplyAdam in device /job:localhost/replica:0/task:0/device:GPU:0\n",
      "Executing op AssignAddVariableOp in device /job:localhost/replica:0/task:0/device:GPU:0\n",
      "Executing op Greater in device /job:localhost/replica:0/task:0/device:GPU:0\n",
      "Executing op Cast in device /job:localhost/replica:0/task:0/device:GPU:0\n",
      "Executing op Equal in device /job:localhost/replica:0/task:0/device:GPU:0\n",
      "Executing op AssignAddVariableOp in device /job:localhost/replica:0/task:0/device:GPU:0\n",
      "Executing op Cast in device /job:localhost/replica:0/task:0/device:GPU:0\n",
      "16/17 [===========================>..] - ETA: 8s - loss: 0.6901 - acc: 0.5502 \n",
      "Epoch 00001: val_loss improved from inf to 0.67673, saving model to /home/valborsf/Documents/UOC/PFMProject/MODELK3/BMODEL/Best_weightsModelK3_3.hdf5\n",
      "17/17 [==============================] - 191s 11s/step - loss: 0.6896 - acc: 0.5524 - val_loss: 0.6767 - val_acc: 0.6300\n",
      "Epoch 2/100\n",
      "16/17 [===========================>..] - ETA: 5s - loss: 0.6756 - acc: 0.5933 \n",
      "Epoch 00002: val_loss improved from 0.67673 to 0.65216, saving model to /home/valborsf/Documents/UOC/PFMProject/MODELK3/BMODEL/Best_weightsModelK3_3.hdf5\n",
      "17/17 [==============================] - 148s 9s/step - loss: 0.6771 - acc: 0.5871 - val_loss: 0.6522 - val_acc: 0.6643\n",
      "Epoch 3/100\n",
      "16/17 [===========================>..] - ETA: 5s - loss: 0.6600 - acc: 0.5776 \n",
      "Epoch 00003: val_loss improved from 0.65216 to 0.62740, saving model to /home/valborsf/Documents/UOC/PFMProject/MODELK3/BMODEL/Best_weightsModelK3_3.hdf5\n",
      "17/17 [==============================] - 146s 9s/step - loss: 0.6580 - acc: 0.5824 - val_loss: 0.6274 - val_acc: 0.6900\n",
      "Epoch 4/100\n",
      "16/17 [===========================>..] - ETA: 5s - loss: 0.6269 - acc: 0.6329 \n",
      "Epoch 00004: val_loss improved from 0.62740 to 0.57468, saving model to /home/valborsf/Documents/UOC/PFMProject/MODELK3/BMODEL/Best_weightsModelK3_3.hdf5\n",
      "17/17 [==============================] - 147s 9s/step - loss: 0.6243 - acc: 0.6390 - val_loss: 0.5747 - val_acc: 0.7000\n",
      "Epoch 5/100\n",
      "16/17 [===========================>..] - ETA: 5s - loss: 0.5916 - acc: 0.6557 \n",
      "Epoch 00005: val_loss improved from 0.57468 to 0.56774, saving model to /home/valborsf/Documents/UOC/PFMProject/MODELK3/BMODEL/Best_weightsModelK3_3.hdf5\n",
      "17/17 [==============================] - 146s 9s/step - loss: 0.5919 - acc: 0.6533 - val_loss: 0.5677 - val_acc: 0.6629\n",
      "Epoch 6/100\n",
      "16/17 [===========================>..] - ETA: 5s - loss: 0.5968 - acc: 0.6491 \n",
      "Epoch 00006: val_loss improved from 0.56774 to 0.56208, saving model to /home/valborsf/Documents/UOC/PFMProject/MODELK3/BMODEL/Best_weightsModelK3_3.hdf5\n",
      "17/17 [==============================] - 145s 9s/step - loss: 0.5961 - acc: 0.6529 - val_loss: 0.5621 - val_acc: 0.7029\n",
      "Epoch 7/100\n",
      "16/17 [===========================>..] - ETA: 5s - loss: 0.5695 - acc: 0.6744 \n",
      "Epoch 00007: val_loss improved from 0.56208 to 0.53018, saving model to /home/valborsf/Documents/UOC/PFMProject/MODELK3/BMODEL/Best_weightsModelK3_3.hdf5\n",
      "17/17 [==============================] - 146s 9s/step - loss: 0.5694 - acc: 0.6738 - val_loss: 0.5302 - val_acc: 0.7343\n",
      "Epoch 8/100\n",
      "16/17 [===========================>..] - ETA: 5s - loss: 0.5627 - acc: 0.6886 \n",
      "Epoch 00008: val_loss improved from 0.53018 to 0.51834, saving model to /home/valborsf/Documents/UOC/PFMProject/MODELK3/BMODEL/Best_weightsModelK3_3.hdf5\n",
      "17/17 [==============================] - 147s 9s/step - loss: 0.5646 - acc: 0.6871 - val_loss: 0.5183 - val_acc: 0.7357\n",
      "Epoch 9/100\n",
      "16/17 [===========================>..] - ETA: 5s - loss: 0.5426 - acc: 0.7140 \n",
      "Epoch 00009: val_loss improved from 0.51834 to 0.51669, saving model to /home/valborsf/Documents/UOC/PFMProject/MODELK3/BMODEL/Best_weightsModelK3_3.hdf5\n",
      "17/17 [==============================] - 145s 9s/step - loss: 0.5419 - acc: 0.7148 - val_loss: 0.5167 - val_acc: 0.7314\n",
      "Epoch 10/100\n",
      "16/17 [===========================>..] - ETA: 5s - loss: 0.5466 - acc: 0.7120 \n",
      "Epoch 00010: val_loss improved from 0.51669 to 0.50256, saving model to /home/valborsf/Documents/UOC/PFMProject/MODELK3/BMODEL/Best_weightsModelK3_3.hdf5\n",
      "17/17 [==============================] - 147s 9s/step - loss: 0.5438 - acc: 0.7162 - val_loss: 0.5026 - val_acc: 0.7471\n",
      "Epoch 11/100\n",
      "16/17 [===========================>..] - ETA: 5s - loss: 0.5434 - acc: 0.7059 \n",
      "Epoch 00011: val_loss did not improve from 0.50256\n",
      "17/17 [==============================] - 147s 9s/step - loss: 0.5403 - acc: 0.7086 - val_loss: 0.5647 - val_acc: 0.7100\n",
      "Epoch 12/100\n",
      "16/17 [===========================>..] - ETA: 5s - loss: 0.5402 - acc: 0.7003 \n",
      "Epoch 00012: val_loss improved from 0.50256 to 0.49384, saving model to /home/valborsf/Documents/UOC/PFMProject/MODELK3/BMODEL/Best_weightsModelK3_3.hdf5\n",
      "17/17 [==============================] - 144s 8s/step - loss: 0.5406 - acc: 0.7005 - val_loss: 0.4938 - val_acc: 0.7714\n",
      "Epoch 13/100\n",
      "16/17 [===========================>..] - ETA: 5s - loss: 0.5205 - acc: 0.7343 \n",
      "Epoch 00013: val_loss did not improve from 0.49384\n",
      "17/17 [==============================] - 148s 9s/step - loss: 0.5221 - acc: 0.7324 - val_loss: 0.4963 - val_acc: 0.7657\n",
      "Epoch 14/100\n",
      "16/17 [===========================>..] - ETA: 5s - loss: 0.5347 - acc: 0.7175 \n",
      "Epoch 00014: val_loss did not improve from 0.49384\n",
      "17/17 [==============================] - 145s 9s/step - loss: 0.5356 - acc: 0.7148 - val_loss: 0.5902 - val_acc: 0.6471\n",
      "Epoch 15/100\n",
      "16/17 [===========================>..] - ETA: 5s - loss: 0.5400 - acc: 0.7069 \n",
      "Epoch 00015: val_loss did not improve from 0.49384\n",
      "17/17 [==============================] - 145s 9s/step - loss: 0.5408 - acc: 0.7052 - val_loss: 0.5202 - val_acc: 0.7243\n",
      "Epoch 16/100\n",
      "16/17 [===========================>..] - ETA: 5s - loss: 0.5290 - acc: 0.7120 \n",
      "Epoch 00016: val_loss did not improve from 0.49384\n",
      "17/17 [==============================] - 145s 9s/step - loss: 0.5307 - acc: 0.7110 - val_loss: 0.4982 - val_acc: 0.7386\n",
      "Epoch 17/100\n",
      "16/17 [===========================>..] - ETA: 5s - loss: 0.5307 - acc: 0.7074 \n",
      "Epoch 00017: val_loss did not improve from 0.49384\n",
      "17/17 [==============================] - 147s 9s/step - loss: 0.5287 - acc: 0.7105 - val_loss: 0.5105 - val_acc: 0.7343\n",
      "Epoch 18/100\n",
      "16/17 [===========================>..] - ETA: 5s - loss: 0.5252 - acc: 0.7201 \n",
      "Epoch 00018: val_loss improved from 0.49384 to 0.48254, saving model to /home/valborsf/Documents/UOC/PFMProject/MODELK3/BMODEL/Best_weightsModelK3_3.hdf5\n",
      "17/17 [==============================] - 146s 9s/step - loss: 0.5263 - acc: 0.7186 - val_loss: 0.4825 - val_acc: 0.7714\n",
      "Epoch 19/100\n",
      "16/17 [===========================>..] - ETA: 5s - loss: 0.5207 - acc: 0.7307 \n",
      "Epoch 00019: val_loss did not improve from 0.48254\n",
      "17/17 [==============================] - 148s 9s/step - loss: 0.5215 - acc: 0.7271 - val_loss: 0.5065 - val_acc: 0.7257\n",
      "Epoch 20/100\n",
      "16/17 [===========================>..] - ETA: 5s - loss: 0.5294 - acc: 0.7023 \n",
      "Epoch 00020: val_loss did not improve from 0.48254\n",
      "17/17 [==============================] - 149s 9s/step - loss: 0.5281 - acc: 0.7033 - val_loss: 0.4995 - val_acc: 0.7657\n",
      "Epoch 21/100\n",
      "16/17 [===========================>..] - ETA: 5s - loss: 0.5229 - acc: 0.7155 \n",
      "Epoch 00021: val_loss did not improve from 0.48254\n",
      "17/17 [==============================] - 149s 9s/step - loss: 0.5218 - acc: 0.7176 - val_loss: 0.4829 - val_acc: 0.7543\n",
      "Epoch 22/100\n",
      "16/17 [===========================>..] - ETA: 5s - loss: 0.5087 - acc: 0.7272 \n",
      "Epoch 00022: val_loss improved from 0.48254 to 0.48005, saving model to /home/valborsf/Documents/UOC/PFMProject/MODELK3/BMODEL/Best_weightsModelK3_3.hdf5\n",
      "17/17 [==============================] - 146s 9s/step - loss: 0.5061 - acc: 0.7286 - val_loss: 0.4800 - val_acc: 0.7629\n",
      "Epoch 23/100\n",
      "16/17 [===========================>..] - ETA: 6s - loss: 0.5164 - acc: 0.7227 \n",
      "Epoch 00023: val_loss did not improve from 0.48005\n",
      "17/17 [==============================] - 147s 9s/step - loss: 0.5131 - acc: 0.7248 - val_loss: 0.4901 - val_acc: 0.7486\n",
      "Epoch 24/100\n",
      "16/17 [===========================>..] - ETA: 5s - loss: 0.5213 - acc: 0.7302 \n",
      "Epoch 00024: val_loss did not improve from 0.48005\n",
      "17/17 [==============================] - 148s 9s/step - loss: 0.5225 - acc: 0.7295 - val_loss: 0.4927 - val_acc: 0.7500\n",
      "Epoch 25/100\n",
      "16/17 [===========================>..] - ETA: 5s - loss: 0.5103 - acc: 0.7317 \n",
      "Epoch 00025: val_loss did not improve from 0.48005\n",
      "17/17 [==============================] - 146s 9s/step - loss: 0.5110 - acc: 0.7310 - val_loss: 0.5142 - val_acc: 0.7229\n",
      "Epoch 26/100\n",
      "16/17 [===========================>..] - ETA: 6s - loss: 0.5274 - acc: 0.7099 \n",
      "Epoch 00026: val_loss did not improve from 0.48005\n",
      "17/17 [==============================] - 147s 9s/step - loss: 0.5324 - acc: 0.7086 - val_loss: 0.5463 - val_acc: 0.6971\n",
      "Epoch 27/100\n",
      "16/17 [===========================>..] - ETA: 5s - loss: 0.5463 - acc: 0.6998 \n",
      "Epoch 00027: val_loss did not improve from 0.48005\n",
      "17/17 [==============================] - 149s 9s/step - loss: 0.5477 - acc: 0.7014 - val_loss: 0.5299 - val_acc: 0.7329\n",
      "Epoch 28/100\n",
      "16/17 [===========================>..] - ETA: 5s - loss: 0.5210 - acc: 0.7160 \n",
      "Epoch 00028: val_loss did not improve from 0.48005\n",
      "17/17 [==============================] - 151s 9s/step - loss: 0.5211 - acc: 0.7167 - val_loss: 0.4915 - val_acc: 0.7557\n",
      "Epoch 29/100\n",
      "16/17 [===========================>..] - ETA: 5s - loss: 0.5101 - acc: 0.7323 \n",
      "Epoch 00029: val_loss did not improve from 0.48005\n",
      "17/17 [==============================] - 147s 9s/step - loss: 0.5115 - acc: 0.7300 - val_loss: 0.4915 - val_acc: 0.7243\n",
      "Epoch 30/100\n",
      "16/17 [===========================>..] - ETA: 5s - loss: 0.5033 - acc: 0.7292 \n",
      "Epoch 00030: val_loss did not improve from 0.48005\n",
      "17/17 [==============================] - 146s 9s/step - loss: 0.5068 - acc: 0.7290 - val_loss: 0.5014 - val_acc: 0.7543\n",
      "Epoch 31/100\n",
      "16/17 [===========================>..] - ETA: 5s - loss: 0.5062 - acc: 0.7236 \n",
      "Epoch 00031: val_loss did not improve from 0.48005\n",
      "17/17 [==============================] - 147s 9s/step - loss: 0.5019 - acc: 0.7295 - val_loss: 0.4888 - val_acc: 0.7529\n",
      "Epoch 32/100\n",
      "16/17 [===========================>..] - ETA: 5s - loss: 0.5037 - acc: 0.7317 \n",
      "Epoch 00032: val_loss did not improve from 0.48005\n",
      "17/17 [==============================] - 145s 9s/step - loss: 0.5046 - acc: 0.7305 - val_loss: 0.4842 - val_acc: 0.7243\n",
      "Epoch 33/100\n",
      "16/17 [===========================>..] - ETA: 5s - loss: 0.5134 - acc: 0.7145 \n",
      "Epoch 00033: val_loss improved from 0.48005 to 0.47927, saving model to /home/valborsf/Documents/UOC/PFMProject/MODELK3/BMODEL/Best_weightsModelK3_3.hdf5\n",
      "17/17 [==============================] - 145s 9s/step - loss: 0.5150 - acc: 0.7133 - val_loss: 0.4793 - val_acc: 0.7657\n",
      "Epoch 34/100\n",
      "16/17 [===========================>..] - ETA: 5s - loss: 0.4993 - acc: 0.7419 \n",
      "Epoch 00034: val_loss did not improve from 0.47927\n",
      "17/17 [==============================] - 148s 9s/step - loss: 0.5007 - acc: 0.7395 - val_loss: 0.4891 - val_acc: 0.7229\n",
      "Epoch 35/100\n",
      "16/17 [===========================>..] - ETA: 5s - loss: 0.5034 - acc: 0.7287 \n",
      "Epoch 00035: val_loss did not improve from 0.47927\n",
      "17/17 [==============================] - 146s 9s/step - loss: 0.5058 - acc: 0.7276 - val_loss: 0.4800 - val_acc: 0.7671\n",
      "Epoch 36/100\n",
      "16/17 [===========================>..] - ETA: 5s - loss: 0.4905 - acc: 0.7257 \n",
      "Epoch 00036: val_loss improved from 0.47927 to 0.46440, saving model to /home/valborsf/Documents/UOC/PFMProject/MODELK3/BMODEL/Best_weightsModelK3_3.hdf5\n",
      "17/17 [==============================] - 147s 9s/step - loss: 0.4907 - acc: 0.7276 - val_loss: 0.4644 - val_acc: 0.7400\n"
     ]
    },
    {
     "name": "stdout",
     "output_type": "stream",
     "text": [
      "Epoch 37/100\n",
      "16/17 [===========================>..] - ETA: 5s - loss: 0.5106 - acc: 0.7216 \n",
      "Epoch 00037: val_loss did not improve from 0.46440\n",
      "17/17 [==============================] - 146s 9s/step - loss: 0.5089 - acc: 0.7219 - val_loss: 0.4718 - val_acc: 0.7486\n",
      "Epoch 38/100\n",
      "16/17 [===========================>..] - ETA: 5s - loss: 0.4975 - acc: 0.7312 \n",
      "Epoch 00038: val_loss did not improve from 0.46440\n",
      "17/17 [==============================] - 145s 9s/step - loss: 0.4951 - acc: 0.7310 - val_loss: 0.4653 - val_acc: 0.7614\n",
      "Epoch 39/100\n",
      "16/17 [===========================>..] - ETA: 5s - loss: 0.5038 - acc: 0.7201 \n",
      "Epoch 00039: val_loss did not improve from 0.46440\n",
      "17/17 [==============================] - 147s 9s/step - loss: 0.5020 - acc: 0.7233 - val_loss: 0.4724 - val_acc: 0.7700\n",
      "Epoch 40/100\n",
      "16/17 [===========================>..] - ETA: 5s - loss: 0.5031 - acc: 0.7317 \n",
      "Epoch 00040: val_loss improved from 0.46440 to 0.45447, saving model to /home/valborsf/Documents/UOC/PFMProject/MODELK3/BMODEL/Best_weightsModelK3_3.hdf5\n",
      "17/17 [==============================] - 146s 9s/step - loss: 0.4993 - acc: 0.7338 - val_loss: 0.4545 - val_acc: 0.7543\n",
      "Epoch 41/100\n",
      "16/17 [===========================>..] - ETA: 5s - loss: 0.4853 - acc: 0.7378 \n",
      "Epoch 00041: val_loss did not improve from 0.45447\n",
      "17/17 [==============================] - 144s 8s/step - loss: 0.4846 - acc: 0.7390 - val_loss: 0.4574 - val_acc: 0.7543\n",
      "Epoch 42/100\n",
      "16/17 [===========================>..] - ETA: 5s - loss: 0.4936 - acc: 0.7312 \n",
      "Epoch 00042: val_loss did not improve from 0.45447\n",
      "17/17 [==============================] - 146s 9s/step - loss: 0.4961 - acc: 0.7314 - val_loss: 0.4651 - val_acc: 0.7614\n",
      "Epoch 43/100\n",
      "16/17 [===========================>..] - ETA: 5s - loss: 0.4845 - acc: 0.7424 \n",
      "Epoch 00043: val_loss did not improve from 0.45447\n",
      "17/17 [==============================] - 146s 9s/step - loss: 0.4857 - acc: 0.7395 - val_loss: 0.4662 - val_acc: 0.7357\n",
      "Epoch 44/100\n",
      "16/17 [===========================>..] - ETA: 5s - loss: 0.5007 - acc: 0.7328 \n",
      "Epoch 00044: val_loss did not improve from 0.45447\n",
      "17/17 [==============================] - 148s 9s/step - loss: 0.5043 - acc: 0.7286 - val_loss: 0.4577 - val_acc: 0.7643\n",
      "Epoch 45/100\n",
      "16/17 [===========================>..] - ETA: 5s - loss: 0.4947 - acc: 0.7404 \n",
      "Epoch 00045: val_loss did not improve from 0.45447\n",
      "17/17 [==============================] - 147s 9s/step - loss: 0.4940 - acc: 0.7390 - val_loss: 0.4965 - val_acc: 0.7500\n",
      "Epoch 46/100\n",
      "16/17 [===========================>..] - ETA: 5s - loss: 0.5248 - acc: 0.7130 \n",
      "Epoch 00046: val_loss did not improve from 0.45447\n",
      "17/17 [==============================] - 146s 9s/step - loss: 0.5244 - acc: 0.7138 - val_loss: 0.4952 - val_acc: 0.7243\n",
      "Epoch 47/100\n",
      "16/17 [===========================>..] - ETA: 5s - loss: 0.5090 - acc: 0.7252 \n",
      "Epoch 00047: val_loss did not improve from 0.45447\n",
      "17/17 [==============================] - 146s 9s/step - loss: 0.5062 - acc: 0.7267 - val_loss: 0.4765 - val_acc: 0.7643\n",
      "Epoch 48/100\n",
      "16/17 [===========================>..] - ETA: 6s - loss: 0.5010 - acc: 0.7310 \n",
      "Epoch 00048: val_loss did not improve from 0.45447\n",
      "17/17 [==============================] - 148s 9s/step - loss: 0.4968 - acc: 0.7305 - val_loss: 0.4725 - val_acc: 0.7557\n",
      "Epoch 49/100\n",
      "16/17 [===========================>..] - ETA: 5s - loss: 0.4859 - acc: 0.7505 \n",
      "Epoch 00049: val_loss did not improve from 0.45447\n",
      "17/17 [==============================] - 147s 9s/step - loss: 0.4869 - acc: 0.7495 - val_loss: 0.4734 - val_acc: 0.7657\n",
      "Epoch 50/100\n",
      "16/17 [===========================>..] - ETA: 6s - loss: 0.4927 - acc: 0.7466 \n",
      "Epoch 00050: val_loss improved from 0.45447 to 0.45200, saving model to /home/valborsf/Documents/UOC/PFMProject/MODELK3/BMODEL/Best_weightsModelK3_3.hdf5\n",
      "17/17 [==============================] - 148s 9s/step - loss: 0.4931 - acc: 0.7448 - val_loss: 0.4520 - val_acc: 0.7643\n",
      "Epoch 51/100\n",
      "16/17 [===========================>..] - ETA: 5s - loss: 0.4877 - acc: 0.7388 \n",
      "Epoch 00051: val_loss did not improve from 0.45200\n",
      "17/17 [==============================] - 148s 9s/step - loss: 0.4871 - acc: 0.7381 - val_loss: 0.4785 - val_acc: 0.7300\n",
      "Epoch 52/100\n",
      "16/17 [===========================>..] - ETA: 5s - loss: 0.4944 - acc: 0.7348 \n",
      "Epoch 00052: val_loss did not improve from 0.45200\n",
      "17/17 [==============================] - 147s 9s/step - loss: 0.4946 - acc: 0.7348 - val_loss: 0.4560 - val_acc: 0.7614\n",
      "Epoch 53/100\n",
      "16/17 [===========================>..] - ETA: 5s - loss: 0.4998 - acc: 0.7282 \n",
      "Epoch 00053: val_loss did not improve from 0.45200\n",
      "17/17 [==============================] - 150s 9s/step - loss: 0.4969 - acc: 0.7329 - val_loss: 0.4550 - val_acc: 0.7586\n",
      "Epoch 54/100\n",
      "16/17 [===========================>..] - ETA: 5s - loss: 0.4784 - acc: 0.7439 \n",
      "Epoch 00054: val_loss did not improve from 0.45200\n",
      "17/17 [==============================] - 149s 9s/step - loss: 0.4773 - acc: 0.7452 - val_loss: 0.4563 - val_acc: 0.7486\n",
      "Epoch 55/100\n",
      "16/17 [===========================>..] - ETA: 6s - loss: 0.4826 - acc: 0.7446 \n",
      "Epoch 00055: val_loss did not improve from 0.45200\n",
      "17/17 [==============================] - 147s 9s/step - loss: 0.4835 - acc: 0.7443 - val_loss: 0.4536 - val_acc: 0.7557\n",
      "Epoch 56/100\n",
      "16/17 [===========================>..] - ETA: 5s - loss: 0.4863 - acc: 0.7378 \n",
      "Epoch 00056: val_loss did not improve from 0.45200\n",
      "17/17 [==============================] - 148s 9s/step - loss: 0.4873 - acc: 0.7371 - val_loss: 0.4746 - val_acc: 0.7529\n",
      "Epoch 57/100\n",
      "16/17 [===========================>..] - ETA: 5s - loss: 0.4896 - acc: 0.7363 \n",
      "Epoch 00057: val_loss did not improve from 0.45200\n",
      "17/17 [==============================] - 149s 9s/step - loss: 0.4868 - acc: 0.7376 - val_loss: 0.4735 - val_acc: 0.7543\n",
      "Epoch 58/100\n",
      "16/17 [===========================>..] - ETA: 5s - loss: 0.4861 - acc: 0.7434 \n",
      "Epoch 00058: val_loss did not improve from 0.45200\n",
      "17/17 [==============================] - 147s 9s/step - loss: 0.4890 - acc: 0.7410 - val_loss: 0.4649 - val_acc: 0.7586\n",
      "Epoch 59/100\n",
      "16/17 [===========================>..] - ETA: 5s - loss: 0.4997 - acc: 0.7323 \n",
      "Epoch 00059: val_loss did not improve from 0.45200\n",
      "17/17 [==============================] - 147s 9s/step - loss: 0.4996 - acc: 0.7319 - val_loss: 0.5238 - val_acc: 0.6900\n",
      "Epoch 60/100\n",
      "16/17 [===========================>..] - ETA: 5s - loss: 0.5099 - acc: 0.7211 \n",
      "Epoch 00060: val_loss did not improve from 0.45200\n",
      "17/17 [==============================] - 146s 9s/step - loss: 0.5056 - acc: 0.7248 - val_loss: 0.4683 - val_acc: 0.7714\n",
      "Epoch 61/100\n",
      "16/17 [===========================>..] - ETA: 5s - loss: 0.4939 - acc: 0.7363 \n",
      "Epoch 00061: val_loss did not improve from 0.45200\n",
      "17/17 [==============================] - 148s 9s/step - loss: 0.4939 - acc: 0.7352 - val_loss: 0.4723 - val_acc: 0.7400\n",
      "Epoch 62/100\n",
      "16/17 [===========================>..] - ETA: 5s - loss: 0.5007 - acc: 0.7378 \n",
      "Epoch 00062: val_loss did not improve from 0.45200\n",
      "17/17 [==============================] - 147s 9s/step - loss: 0.5010 - acc: 0.7386 - val_loss: 0.4937 - val_acc: 0.7329\n",
      "Epoch 63/100\n",
      "16/17 [===========================>..] - ETA: 5s - loss: 0.4975 - acc: 0.7246 \n",
      "Epoch 00063: val_loss did not improve from 0.45200\n",
      "17/17 [==============================] - 149s 9s/step - loss: 0.4941 - acc: 0.7267 - val_loss: 0.4636 - val_acc: 0.7571\n",
      "Epoch 64/100\n",
      "16/17 [===========================>..] - ETA: 6s - loss: 0.4838 - acc: 0.7456 \n",
      "Epoch 00064: val_loss did not improve from 0.45200\n",
      "17/17 [==============================] - 148s 9s/step - loss: 0.4796 - acc: 0.7476 - val_loss: 0.4615 - val_acc: 0.7586\n",
      "Epoch 65/100\n",
      "16/17 [===========================>..] - ETA: 5s - loss: 0.4858 - acc: 0.7378 \n",
      "Epoch 00065: val_loss did not improve from 0.45200\n",
      "17/17 [==============================] - 149s 9s/step - loss: 0.4856 - acc: 0.7395 - val_loss: 0.4578 - val_acc: 0.7486\n",
      "Epoch 66/100\n",
      "16/17 [===========================>..] - ETA: 5s - loss: 0.4763 - acc: 0.7520 \n",
      "Epoch 00066: val_loss improved from 0.45200 to 0.44871, saving model to /home/valborsf/Documents/UOC/PFMProject/MODELK3/BMODEL/Best_weightsModelK3_3.hdf5\n",
      "17/17 [==============================] - 146s 9s/step - loss: 0.4801 - acc: 0.7467 - val_loss: 0.4487 - val_acc: 0.7614\n"
     ]
    },
    {
     "name": "stdout",
     "output_type": "stream",
     "text": [
      "Epoch 67/100\n",
      "16/17 [===========================>..] - ETA: 5s - loss: 0.4783 - acc: 0.7434 \n",
      "Epoch 00067: val_loss did not improve from 0.44871\n",
      "17/17 [==============================] - 147s 9s/step - loss: 0.4788 - acc: 0.7452 - val_loss: 0.4517 - val_acc: 0.7657\n",
      "Epoch 68/100\n",
      "16/17 [===========================>..] - ETA: 5s - loss: 0.4852 - acc: 0.7368 \n",
      "Epoch 00068: val_loss did not improve from 0.44871\n",
      "17/17 [==============================] - 147s 9s/step - loss: 0.4836 - acc: 0.7395 - val_loss: 0.4747 - val_acc: 0.7457\n",
      "Epoch 69/100\n",
      "16/17 [===========================>..] - ETA: 5s - loss: 0.4801 - acc: 0.7404 \n",
      "Epoch 00069: val_loss did not improve from 0.44871\n",
      "17/17 [==============================] - 147s 9s/step - loss: 0.4824 - acc: 0.7390 - val_loss: 0.4527 - val_acc: 0.7543\n",
      "Epoch 70/100\n",
      "16/17 [===========================>..] - ETA: 5s - loss: 0.4700 - acc: 0.7586 \n",
      "Epoch 00070: val_loss did not improve from 0.44871\n",
      "17/17 [==============================] - 147s 9s/step - loss: 0.4738 - acc: 0.7552 - val_loss: 0.4997 - val_acc: 0.7286\n",
      "Epoch 71/100\n",
      "16/17 [===========================>..] - ETA: 5s - loss: 0.4901 - acc: 0.7368 \n",
      "Epoch 00071: val_loss did not improve from 0.44871\n",
      "17/17 [==============================] - 148s 9s/step - loss: 0.4918 - acc: 0.7362 - val_loss: 0.4743 - val_acc: 0.7571\n",
      "Epoch 72/100\n",
      "16/17 [===========================>..] - ETA: 5s - loss: 0.4872 - acc: 0.7470 \n",
      "Epoch 00072: val_loss did not improve from 0.44871\n",
      "17/17 [==============================] - 147s 9s/step - loss: 0.4881 - acc: 0.7443 - val_loss: 0.4729 - val_acc: 0.7529\n",
      "Epoch 73/100\n",
      "16/17 [===========================>..] - ETA: 5s - loss: 0.4703 - acc: 0.7561 \n",
      "Epoch 00073: val_loss did not improve from 0.44871\n",
      "17/17 [==============================] - 150s 9s/step - loss: 0.4801 - acc: 0.7495 - val_loss: 0.4792 - val_acc: 0.7371\n",
      "Epoch 74/100\n",
      "16/17 [===========================>..] - ETA: 5s - loss: 0.4783 - acc: 0.7414 \n",
      "Epoch 00074: val_loss did not improve from 0.44871\n",
      "17/17 [==============================] - 147s 9s/step - loss: 0.4733 - acc: 0.7462 - val_loss: 0.4602 - val_acc: 0.7600\n",
      "Epoch 75/100\n",
      "16/17 [===========================>..] - ETA: 5s - loss: 0.4892 - acc: 0.7465 \n",
      "Epoch 00075: val_loss did not improve from 0.44871\n",
      "17/17 [==============================] - 148s 9s/step - loss: 0.4915 - acc: 0.7448 - val_loss: 0.4795 - val_acc: 0.7543\n",
      "Epoch 76/100\n",
      "16/17 [===========================>..] - ETA: 5s - loss: 0.4991 - acc: 0.7383 \n",
      "Epoch 00076: val_loss did not improve from 0.44871\n",
      "17/17 [==============================] - 149s 9s/step - loss: 0.4968 - acc: 0.7390 - val_loss: 0.4648 - val_acc: 0.7586\n",
      "Epoch 77/100\n",
      "16/17 [===========================>..] - ETA: 5s - loss: 0.4754 - acc: 0.7454 \n",
      "Epoch 00077: val_loss did not improve from 0.44871\n",
      "17/17 [==============================] - 149s 9s/step - loss: 0.4749 - acc: 0.7476 - val_loss: 0.4941 - val_acc: 0.7443\n",
      "Epoch 78/100\n",
      "16/17 [===========================>..] - ETA: 5s - loss: 0.4798 - acc: 0.7444 \n",
      "Epoch 00078: val_loss did not improve from 0.44871\n",
      "17/17 [==============================] - 149s 9s/step - loss: 0.4787 - acc: 0.7452 - val_loss: 0.4801 - val_acc: 0.7543\n",
      "Epoch 79/100\n",
      "16/17 [===========================>..] - ETA: 5s - loss: 0.4798 - acc: 0.7454 \n",
      "Epoch 00079: val_loss improved from 0.44871 to 0.44717, saving model to /home/valborsf/Documents/UOC/PFMProject/MODELK3/BMODEL/Best_weightsModelK3_3.hdf5\n",
      "17/17 [==============================] - 147s 9s/step - loss: 0.4786 - acc: 0.7462 - val_loss: 0.4472 - val_acc: 0.7529\n",
      "Epoch 80/100\n",
      "16/17 [===========================>..] - ETA: 5s - loss: 0.4847 - acc: 0.7383 \n",
      "Epoch 00080: val_loss did not improve from 0.44717\n",
      "17/17 [==============================] - 146s 9s/step - loss: 0.4869 - acc: 0.7367 - val_loss: 0.4745 - val_acc: 0.7543\n",
      "Epoch 81/100\n",
      "16/17 [===========================>..] - ETA: 5s - loss: 0.4936 - acc: 0.7388 \n",
      "Epoch 00081: val_loss did not improve from 0.44717\n",
      "17/17 [==============================] - 147s 9s/step - loss: 0.4920 - acc: 0.7410 - val_loss: 0.4553 - val_acc: 0.7671\n",
      "Epoch 82/100\n",
      "16/17 [===========================>..] - ETA: 5s - loss: 0.4761 - acc: 0.7520 \n",
      "Epoch 00082: val_loss did not improve from 0.44717\n",
      "17/17 [==============================] - 146s 9s/step - loss: 0.4806 - acc: 0.7476 - val_loss: 0.4634 - val_acc: 0.7500\n",
      "Epoch 83/100\n",
      "16/17 [===========================>..] - ETA: 5s - loss: 0.4758 - acc: 0.7500 \n",
      "Epoch 00083: val_loss improved from 0.44717 to 0.44439, saving model to /home/valborsf/Documents/UOC/PFMProject/MODELK3/BMODEL/Best_weightsModelK3_3.hdf5\n",
      "17/17 [==============================] - 149s 9s/step - loss: 0.4748 - acc: 0.7505 - val_loss: 0.4444 - val_acc: 0.7629\n",
      "Epoch 84/100\n",
      "16/17 [===========================>..] - ETA: 5s - loss: 0.4670 - acc: 0.7535 \n",
      "Epoch 00084: val_loss did not improve from 0.44439\n",
      "17/17 [==============================] - 146s 9s/step - loss: 0.4692 - acc: 0.7524 - val_loss: 0.4470 - val_acc: 0.7714\n",
      "Epoch 85/100\n",
      "16/17 [===========================>..] - ETA: 5s - loss: 0.4663 - acc: 0.7541 \n",
      "Epoch 00085: val_loss did not improve from 0.44439\n",
      "17/17 [==============================] - 146s 9s/step - loss: 0.4665 - acc: 0.7533 - val_loss: 0.4489 - val_acc: 0.7643\n",
      "Epoch 86/100\n",
      "16/17 [===========================>..] - ETA: 5s - loss: 0.4698 - acc: 0.7515 \n",
      "Epoch 00086: val_loss did not improve from 0.44439\n",
      "17/17 [==============================] - 147s 9s/step - loss: 0.4699 - acc: 0.7533 - val_loss: 0.4779 - val_acc: 0.7414\n",
      "Epoch 87/100\n",
      "16/17 [===========================>..] - ETA: 5s - loss: 0.4639 - acc: 0.7632 \n",
      "Epoch 00087: val_loss did not improve from 0.44439\n",
      "17/17 [==============================] - 149s 9s/step - loss: 0.4686 - acc: 0.7595 - val_loss: 0.4603 - val_acc: 0.7514\n",
      "Epoch 88/100\n",
      "16/17 [===========================>..] - ETA: 5s - loss: 0.4615 - acc: 0.7571 \n",
      "Epoch 00088: val_loss did not improve from 0.44439\n",
      "17/17 [==============================] - 148s 9s/step - loss: 0.4651 - acc: 0.7538 - val_loss: 0.4678 - val_acc: 0.7386\n",
      "Epoch 89/100\n",
      "16/17 [===========================>..] - ETA: 5s - loss: 0.4788 - acc: 0.7439 \n",
      "Epoch 00089: val_loss did not improve from 0.44439\n",
      "17/17 [==============================] - 147s 9s/step - loss: 0.4777 - acc: 0.7457 - val_loss: 0.5141 - val_acc: 0.7171\n",
      "Epoch 90/100\n",
      "16/17 [===========================>..] - ETA: 5s - loss: 0.4998 - acc: 0.7302 \n",
      "Epoch 00090: val_loss did not improve from 0.44439\n",
      "17/17 [==============================] - 146s 9s/step - loss: 0.4982 - acc: 0.7290 - val_loss: 0.4542 - val_acc: 0.7643\n",
      "Epoch 91/100\n",
      "16/17 [===========================>..] - ETA: 6s - loss: 0.4647 - acc: 0.7417 \n",
      "Epoch 00091: val_loss did not improve from 0.44439\n",
      "17/17 [==============================] - 146s 9s/step - loss: 0.4646 - acc: 0.7429 - val_loss: 0.4736 - val_acc: 0.7586\n",
      "Epoch 92/100\n",
      "16/17 [===========================>..] - ETA: 6s - loss: 0.4730 - acc: 0.7471 \n",
      "Epoch 00092: val_loss did not improve from 0.44439\n",
      "17/17 [==============================] - 148s 9s/step - loss: 0.4745 - acc: 0.7457 - val_loss: 0.4676 - val_acc: 0.7600\n",
      "Epoch 93/100\n",
      "16/17 [===========================>..] - ETA: 5s - loss: 0.4752 - acc: 0.7596 \n",
      "Epoch 00093: val_loss did not improve from 0.44439\n",
      "17/17 [==============================] - 148s 9s/step - loss: 0.4810 - acc: 0.7543 - val_loss: 0.4655 - val_acc: 0.7686\n",
      "Epoch 94/100\n",
      "16/17 [===========================>..] - ETA: 5s - loss: 0.4796 - acc: 0.7556 \n",
      "Epoch 00094: val_loss did not improve from 0.44439\n",
      "17/17 [==============================] - 147s 9s/step - loss: 0.4768 - acc: 0.7567 - val_loss: 0.4612 - val_acc: 0.7657\n",
      "Epoch 95/100\n",
      "16/17 [===========================>..] - ETA: 5s - loss: 0.4772 - acc: 0.7551 \n",
      "Epoch 00095: val_loss did not improve from 0.44439\n",
      "17/17 [==============================] - 150s 9s/step - loss: 0.4755 - acc: 0.7533 - val_loss: 0.4645 - val_acc: 0.7571\n",
      "Epoch 96/100\n",
      "16/17 [===========================>..] - ETA: 5s - loss: 0.4546 - acc: 0.7566 \n",
      "Epoch 00096: val_loss did not improve from 0.44439\n",
      "17/17 [==============================] - 152s 9s/step - loss: 0.4585 - acc: 0.7557 - val_loss: 0.4580 - val_acc: 0.7657\n",
      "Epoch 97/100\n",
      "16/17 [===========================>..] - ETA: 5s - loss: 0.4597 - acc: 0.7632 \n",
      "Epoch 00097: val_loss did not improve from 0.44439\n",
      "17/17 [==============================] - 151s 9s/step - loss: 0.4600 - acc: 0.7652 - val_loss: 0.4542 - val_acc: 0.7657\n"
     ]
    },
    {
     "name": "stdout",
     "output_type": "stream",
     "text": [
      "Epoch 98/100\n",
      "16/17 [===========================>..] - ETA: 5s - loss: 0.4618 - acc: 0.7612 \n",
      "Epoch 00098: val_loss did not improve from 0.44439\n",
      "17/17 [==============================] - 152s 9s/step - loss: 0.4654 - acc: 0.7600 - val_loss: 0.4597 - val_acc: 0.7729\n",
      "Epoch 99/100\n",
      "16/17 [===========================>..] - ETA: 6s - loss: 0.4630 - acc: 0.7535 \n",
      "Epoch 00099: val_loss did not improve from 0.44439\n",
      "17/17 [==============================] - 154s 9s/step - loss: 0.4662 - acc: 0.7548 - val_loss: 0.4451 - val_acc: 0.7571\n",
      "Epoch 100/100\n",
      "16/17 [===========================>..] - ETA: 6s - loss: 0.4613 - acc: 0.7606 \n",
      "Epoch 00100: val_loss improved from 0.44439 to 0.44365, saving model to /home/valborsf/Documents/UOC/PFMProject/MODELK3/BMODEL/Best_weightsModelK3_3.hdf5\n",
      "17/17 [==============================] - 153s 9s/step - loss: 0.4590 - acc: 0.7638 - val_loss: 0.4437 - val_acc: 0.7629\n",
      "Time spent in training :04:06:24\n"
     ]
    }
   ],
   "source": [
    "if TRAIN :\n",
    "    epochs = 100\n",
    "    import time\n",
    "    start_time = time.time()\n",
    "    history = model.fit_generator ( \n",
    "      train_generator,\n",
    "      steps_per_epoch =17,          # 2100 / 128 = 16,6    \n",
    "#      steps_per_epoch =41,                      # nº samples training/ Batch size  = 2614 / 64 \n",
    "      epochs = epochs,\n",
    "      callbacks=callbacks_list,                 # callbacks\n",
    "      validation_data= validation_generator,\n",
    "      validation_steps =6 )        # 700 / 128 = 44 =5,46\n",
    "#      validation_steps =14 )                     # nº samples validation / Batch size = 871 /64\n",
    "\n",
    "    elapsed_time = time.time() - start_time\n",
    "\n",
    "    print( time.strftime('Time spent in training :'\"%H:%M:%S\", time.gmtime(elapsed_time)))\n",
    "\n",
    "    save_model(model, history, model_bin_dir, Model_name)\n"
   ]
  },
  {
   "cell_type": "code",
   "execution_count": 17,
   "metadata": {},
   "outputs": [],
   "source": [
    "# Import Model Test if not need to Train \n",
    "if not TRAIN :\n",
    "    model = model_load ( model_bin_dir, Model_name)"
   ]
  },
  {
   "cell_type": "code",
   "execution_count": 18,
   "metadata": {},
   "outputs": [
    {
     "data": {
      "image/png": "[encoded data removed]",
      "text/plain": [
       "<Figure size 432x288 with 1 Axes>"
      ]
     },
     "metadata": {
      "needs_background": "light"
     },
     "output_type": "display_data"
    },
    {
     "data": {
      "image/png": "[encoded data removed]",
      "text/plain": [
       "<Figure size 432x288 with 1 Axes>"
      ]
     },
     "metadata": {
      "needs_background": "light"
     },
     "output_type": "display_data"
    }
   ],
   "source": [
    "# Display curves of loss and accuracy during training and save results \n",
    "plot_save_acc_loss(results_dir, history.history, Model_name)"
   ]
  },
  {
   "cell_type": "code",
   "execution_count": 19,
   "metadata": {},
   "outputs": [],
   "source": [
    "# Load Model \n",
    "# Load weights \n",
    "\n",
    "#model = build_model()\n",
    "#model.load_weights('my_weights.model')\n",
    "TRAIN = False\n",
    "if not TRAIN :\n",
    "    Model_name = \"ModelK3_3\"\n",
    "    model = model_load ( model_bin_dir, Model_name)\n",
    "    model.load_weights(model_bin_dir+\"Best_weights\"+Model_name+\".hdf5\")"
   ]
  },
  {
   "cell_type": "code",
   "execution_count": 20,
   "metadata": {},
   "outputs": [
    {
     "name": "stdout",
     "output_type": "stream",
     "text": [
      "Executing op TensorDataset in device /job:localhost/replica:0/task:0/device:CPU:0\n",
      "Executing op FlatMapDataset in device /job:localhost/replica:0/task:0/device:CPU:0\n",
      "Executing op OptimizeDataset in device /job:localhost/replica:0/task:0/device:CPU:0\n",
      "Executing op ModelDataset in device /job:localhost/replica:0/task:0/device:CPU:0\n",
      "Executing op AnonymousIteratorV2 in device /job:localhost/replica:0/task:0/device:CPU:0\n",
      "Executing op MakeIterator in device /job:localhost/replica:0/task:0/device:CPU:0\n",
      "Executing op IteratorGetNextSync in device /job:localhost/replica:0/task:0/device:CPU:0\n",
      "Executing op DeleteIterator in device /job:localhost/replica:0/task:0/device:CPU:0\n",
      "Executing op __inference_distributed_function_460943 in device /job:localhost/replica:0/task:0/device:GPU:0\n",
      "6/6 [==============================] - 51s 8s/step - loss: 0.4608 - acc: 0.7671\n"
     ]
    }
   ],
   "source": [
    "# STEP 4 - ROC /AUC\n",
    "#Evaluate your model  -> Evaluation number -> nº samples/ size batch times\n",
    "#scores = model.evaluate(test_generator, verbose=1, steps = 31)\n",
    "scores = model.evaluate(test_generator, verbose=1)"
   ]
  },
  {
   "cell_type": "code",
   "execution_count": 21,
   "metadata": {},
   "outputs": [
    {
     "data": {
      "text/plain": [
       "['loss', 'acc']"
      ]
     },
     "execution_count": 21,
     "metadata": {},
     "output_type": "execute_result"
    }
   ],
   "source": [
    "model.metrics_names"
   ]
  },
  {
   "cell_type": "code",
   "execution_count": 22,
   "metadata": {},
   "outputs": [
    {
     "data": {
      "text/plain": [
       "[0.4607640504837036, 0.76714283]"
      ]
     },
     "execution_count": 22,
     "metadata": {},
     "output_type": "execute_result"
    }
   ],
   "source": [
    "scores"
   ]
  },
  {
   "cell_type": "code",
   "execution_count": 23,
   "metadata": {},
   "outputs": [],
   "source": [
    "# Loss = 46 % \n",
    "# Accuracy of 77%"
   ]
  },
  {
   "cell_type": "code",
   "execution_count": 24,
   "metadata": {},
   "outputs": [
    {
     "name": "stdout",
     "output_type": "stream",
     "text": [
      "Executing op FlatMapDataset in device /job:localhost/replica:0/task:0/device:CPU:0\n",
      "Executing op __inference_distributed_function_461070 in device /job:localhost/replica:0/task:0/device:GPU:0\n"
     ]
    }
   ],
   "source": [
    "# Compute predictions\n",
    "# This takes time !!!!!!!!!!!!!!!!!!!!!!!!!!!!!!!!!\n",
    "y_pred_keras = model.predict(test_generator).ravel()       # y_pred_probabilities\n",
    "y_pred = y_pred_keras > 0.5                                # y_pred_class : if >0.5  = True => Malignant\n",
    "y_test = test_generator.classes                            # Ground truth\n",
    "class_labels = list(test_generator.class_indices.keys())   # Class labels"
   ]
  },
  {
   "cell_type": "code",
   "execution_count": 25,
   "metadata": {},
   "outputs": [
    {
     "name": "stdout",
     "output_type": "stream",
     "text": [
      "Metrics ModelK3_3\n",
      "===========================================\n",
      "Confusion Matrix:\n",
      "[[238 102]\n",
      " [ 61 299]]\n",
      "+----------------------------+-------------+\n",
      "|            Type            |  # samples  |\n",
      "+============================+=============+\n",
      "| True Positives- Malignants | 299         |\n",
      "+----------------------------+-------------+\n",
      "| True Negatives- Benign     | 238         |\n",
      "+----------------------------+-------------+\n",
      "| False Positive             | 102         |\n",
      "+----------------------------+-------------+\n",
      "| False Negative             | 61          |\n",
      "+----------------------------+-------------+\n",
      "Summary classification Report: \n",
      "              precision    recall  f1-score   support\n",
      "\n",
      "      benign       0.80      0.70      0.74       340\n",
      "   malignant       0.75      0.83      0.79       360\n",
      "\n",
      "    accuracy                           0.77       700\n",
      "   macro avg       0.77      0.77      0.77       700\n",
      "weighted avg       0.77      0.77      0.77       700\n",
      "\n",
      "+-------------+---------+\n",
      "|   Metrics   |         |\n",
      "+=============+=========+\n",
      "| Accuracy    | 0.770   |\n",
      "+-------------+---------+\n",
      "| Sensitivity | 0.830   |\n",
      "+-------------+---------+\n",
      "| Specificity | 0.700   |\n",
      "+-------------+---------+\n",
      "| AUC         | 0.850   |\n",
      "+-------------+---------+\n"
     ]
    },
    {
     "data": {
      "image/png": "[encoded data removed]",
      "text/plain": [
       "<Figure size 432x288 with 1 Axes>"
      ]
     },
     "metadata": {
      "needs_background": "light"
     },
     "output_type": "display_data"
    },
    {
     "data": {
      "image/png": "[encoded data removed]",
      "text/plain": [
       "<Figure size 432x288 with 1 Axes>"
      ]
     },
     "metadata": {
      "needs_background": "light"
     },
     "output_type": "display_data"
    }
   ],
   "source": [
    "#Print Metrics + Confusion ROC AUC\n",
    "confusion_ROC_AUC ( y_test, y_pred, y_pred_keras, class_labels, results_dir, Model_name )"
   ]
  },
  {
   "cell_type": "code",
   "execution_count": 26,
   "metadata": {},
   "outputs": [],
   "source": [
    "tf.keras.backend.clear_session()  # Reset"
   ]
  },
  {
   "cell_type": "code",
   "execution_count": null,
   "metadata": {},
   "outputs": [],
   "source": []
  }
 ],
 "metadata": {
  "accelerator": "GPU",
  "colab": {
   "collapsed_sections": [],
   "name": "Preprocess_Fit2.ipynb",
   "provenance": []
  },
  "kernelspec": {
   "display_name": "“gpu2”",
   "language": "python",
   "name": "gpu2"
  },
  "language_info": {
   "codemirror_mode": {
    "name": "ipython",
    "version": 3
   },
   "file_extension": ".py",
   "mimetype": "text/x-python",
   "name": "python",
   "nbconvert_exporter": "python",
   "pygments_lexer": "ipython3",
   "version": "3.7.6"
  }
 },
 "nbformat": 4,
 "nbformat_minor": 1
}

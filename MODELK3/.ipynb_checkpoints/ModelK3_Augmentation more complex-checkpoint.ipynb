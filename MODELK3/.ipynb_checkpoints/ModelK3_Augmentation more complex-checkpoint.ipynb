{
 "cells": [
  {
   "cell_type": "markdown",
   "metadata": {
    "colab_type": "text",
    "id": "Ur34g7Fbi5lr"
   },
   "source": [
    "# Notebook- Data Augmentation ( Model K3_1 ) \n",
    "# Author : V.Albors   Date : 06.02.2020\n",
    "# Purpose : Preprocess and Train the CNN (Data Augmentation )\n",
    "\n",
    "\n",
    "**Input** :  \n",
    "  * CSV files that identify the images to use as train and validation. CSV files are in directory csv_dir   \n",
    "  * Images from train and validation. Images are in directory : imag_dir  \n",
    "  \n",
    "  \n",
    "**Output**:  \n",
    "  * Download of the model trained with train dataset - with Data Augmentation\n",
    "  * Download the history of the model in order to be evaluated \n",
    "\n",
    "**Process**:  \n",
    " * Read Train and Validation images ( identified in the .csv files ) from the imag_dir directory   \n",
    " * Define Network \n",
    " * Print Network + Save Network Definition\n",
    " * Compile Network \n",
    " * Create a train and validation generator   \n",
    " * Train the model with the train dataset with 100 epochs ( with data Augmentation. Callbacks :ModelCheckpoint)  \n",
    " * Save the trained model and history of the model in directory model_bin_dir \n",
    "\n"
   ]
  },
  {
   "cell_type": "code",
   "execution_count": 1,
   "metadata": {},
   "outputs": [],
   "source": [
    "from __future__ import absolute_import, division, print_function, unicode_literals\n",
    "import tensorflow as tf\n",
    "\n",
    "tf.keras.backend.clear_session()  # Reset"
   ]
  },
  {
   "cell_type": "code",
   "execution_count": 2,
   "metadata": {},
   "outputs": [
    {
     "name": "stdout",
     "output_type": "stream",
     "text": [
      "Num GPUs Available:  1\n"
     ]
    }
   ],
   "source": [
    "import tensorflow as tf\n",
    "print(\"Num GPUs Available: \", len(tf.config.experimental.list_physical_devices('GPU')))\n",
    "tf.config.experimental.list_physical_devices('GPU') \n",
    "physical_devices = tf.config.experimental.list_physical_devices('GPU')\n",
    "assert len(physical_devices) > 0, \"Not enough GPU hardware devices available\"\n",
    "tf.config.experimental.set_memory_growth(physical_devices[0], True)\n",
    "tf.debugging.set_log_device_placement(True)"
   ]
  },
  {
   "cell_type": "code",
   "execution_count": 3,
   "metadata": {},
   "outputs": [
    {
     "name": "stdout",
     "output_type": "stream",
     "text": [
      "2.0.0\n",
      "10.0\n",
      "7.6\n"
     ]
    }
   ],
   "source": [
    "#Tensorflow version \n",
    "print(tf.__version__)\n",
    "from tensorflow.python.platform import build_info as tf_build_info\n",
    "print(tf_build_info.cuda_version_number)\n",
    "# Cuda Version 9.0 in v1.10.0\n",
    "print(tf_build_info.cudnn_version_number)\n",
    "# CudNN 7 in v1.10.0"
   ]
  },
  {
   "cell_type": "code",
   "execution_count": 4,
   "metadata": {},
   "outputs": [],
   "source": [
    "# Define the name of the model, directories & if to train the model \n",
    "Model_directory = \"MODELK3\"\n",
    "Model_name = \"ModelK3_3\"\n",
    "TRAIN = True"
   ]
  },
  {
   "cell_type": "code",
   "execution_count": 5,
   "metadata": {},
   "outputs": [
    {
     "name": "stdout",
     "output_type": "stream",
     "text": [
      "['confusion_ROC_AUC', 'create_column_tensor', 'create_label_tensor', 'create_val_test', 'define_dirs', 'extract_images_bm', 'extract_images_train', 'load_hist_model', 'load_images', 'load_images_tf', 'model_load', 'plot_save_acc_loss', 'print_network', 'process_clinical_info', 'read_dataframes', 'read_dataframes_tables', 'reproducible_results', 'save_model', 'save_network_json', 'start', 'stop', 'to_one_hot', 'to_one_hot_words', 'xi_squared']\n"
     ]
    }
   ],
   "source": [
    "# Import routines\n",
    "import sys  \n",
    "subrc_dir = \"/home/valborsf/Documents/UOC/PFMProject/\"\n",
    "sys.path.append(subrc_dir)  \n",
    "from  Models_routines import *\n",
    "import inspect\n",
    "\n",
    "# List functions inside the module\n",
    "import Models_routines as module\n",
    "functions = inspect.getmembers(module, inspect.isfunction)\n",
    "lsfunctions = [item[0] for item in functions]\n",
    "print ( lsfunctions )"
   ]
  },
  {
   "cell_type": "code",
   "execution_count": 6,
   "metadata": {},
   "outputs": [],
   "source": [
    "# Reproducible results \n",
    "reproducible_results ()"
   ]
  },
  {
   "cell_type": "code",
   "execution_count": 7,
   "metadata": {},
   "outputs": [],
   "source": [
    "# Define directories\n",
    "(root_dir,json_dir,imag_dir,csv_dir,model_json_dir,model_bin_dir,results_dir,Tensor_dir) = define_dirs(Model_directory)"
   ]
  },
  {
   "cell_type": "code",
   "execution_count": 8,
   "metadata": {},
   "outputs": [],
   "source": [
    "# New dataset without SONIC disturbing images\n",
    "json_dir =  root_dir +\"/DataNew/ALL_JSON/\"                # .json dir images\n",
    "imag_dir =  root_dir +\"/DataNew/ALL_IMAGES/\"              # .png dir - images\n",
    "\n",
    "# directories for  CSV's\n",
    "csv_dir =  root_dir +\"/DataNew4/CSV/\"                      # .csv dir - dftrain, dfval, dftest"
   ]
  },
  {
   "cell_type": "code",
   "execution_count": 9,
   "metadata": {},
   "outputs": [
    {
     "name": "stdout",
     "output_type": "stream",
     "text": [
      "Executing op RandomUniform in device /job:localhost/replica:0/task:0/device:GPU:0\n",
      "Executing op Sub in device /job:localhost/replica:0/task:0/device:GPU:0\n",
      "Executing op Mul in device /job:localhost/replica:0/task:0/device:GPU:0\n",
      "Executing op Add in device /job:localhost/replica:0/task:0/device:GPU:0\n",
      "Executing op VarHandleOp in device /job:localhost/replica:0/task:0/device:GPU:0\n",
      "Executing op VarIsInitializedOp in device /job:localhost/replica:0/task:0/device:GPU:0\n",
      "Executing op LogicalNot in device /job:localhost/replica:0/task:0/device:GPU:0\n",
      "Executing op Assert in device /job:localhost/replica:0/task:0/device:GPU:0\n",
      "Executing op AssignVariableOp in device /job:localhost/replica:0/task:0/device:GPU:0\n",
      "Executing op Fill in device /job:localhost/replica:0/task:0/device:GPU:0\n",
      "Executing op VarHandleOp in device /job:localhost/replica:0/task:0/device:GPU:0\n",
      "Executing op VarHandleOp in device /job:localhost/replica:0/task:0/device:GPU:0\n",
      "Executing op VarHandleOp in device /job:localhost/replica:0/task:0/device:GPU:0\n",
      "Executing op VarHandleOp in device /job:localhost/replica:0/task:0/device:GPU:0\n",
      "Executing op VarHandleOp in device /job:localhost/replica:0/task:0/device:GPU:0\n",
      "Executing op VarHandleOp in device /job:localhost/replica:0/task:0/device:GPU:0\n",
      "Executing op VarHandleOp in device /job:localhost/replica:0/task:0/device:GPU:0\n",
      "Executing op VarHandleOp in device /job:localhost/replica:0/task:0/device:GPU:0\n",
      "Executing op VarHandleOp in device /job:localhost/replica:0/task:0/device:GPU:0\n",
      "Executing op Reshape in device /job:localhost/replica:0/task:0/device:GPU:0\n",
      "Executing op VarHandleOp in device /job:localhost/replica:0/task:0/device:GPU:0\n"
     ]
    }
   ],
   "source": [
    "from tensorflow.keras import models\n",
    "from tensorflow.keras import layers\n",
    "from tensorflow.keras import Input\n",
    "from tensorflow.keras import regularizers\n",
    "from tensorflow.keras.callbacks import ModelCheckpoint\n",
    "\n",
    "\n",
    "#from keras import layers\n",
    "#from keras import models\n",
    "model = models.Sequential ()\n",
    "model.add(layers.Conv2D(32, (3,3),kernel_regularizer=regularizers.l2(0.01), activation='relu', input_shape=(150,150,3)))\n",
    "model.add(layers.MaxPooling2D((2,2)))\n",
    "model.add(layers.Conv2D(64, (3,3),kernel_regularizer=regularizers.l2(0.01), activation='relu'))\n",
    "model.add(layers.MaxPooling2D((2,2)))\n",
    "model.add(layers.Conv2D(128, (3,3),kernel_regularizer=regularizers.l2(0.01), activation='relu'))\n",
    "model.add(layers.MaxPooling2D((2,2)))\n",
    "model.add(layers.Conv2D(128, (3,3), kernel_regularizer=regularizers.l2(0.01),activation='relu'))\n",
    "model.add(layers.MaxPooling2D((2,2)))\n",
    "model.add(layers.Flatten())\n",
    "model.add(layers.Dense(512, activation='relu'))\n",
    "model.add(layers.Dense(128, activation='relu'))\n",
    "model.add(layers.Dense(1, activation='sigmoid'))"
   ]
  },
  {
   "cell_type": "code",
   "execution_count": 10,
   "metadata": {},
   "outputs": [
    {
     "name": "stdout",
     "output_type": "stream",
     "text": [
      "Model: \"sequential\"\n",
      "_________________________________________________________________\n",
      "Layer (type)                 Output Shape              Param #   \n",
      "=================================================================\n",
      "conv2d (Conv2D)              (None, 148, 148, 64)      1792      \n",
      "_________________________________________________________________\n",
      "max_pooling2d (MaxPooling2D) (None, 74, 74, 64)        0         \n",
      "_________________________________________________________________\n",
      "conv2d_1 (Conv2D)            (None, 72, 72, 32)        18464     \n",
      "_________________________________________________________________\n",
      "max_pooling2d_1 (MaxPooling2 (None, 36, 36, 32)        0         \n",
      "_________________________________________________________________\n",
      "conv2d_2 (Conv2D)            (None, 34, 34, 128)       36992     \n",
      "_________________________________________________________________\n",
      "max_pooling2d_2 (MaxPooling2 (None, 8, 8, 128)         0         \n",
      "_________________________________________________________________\n",
      "flatten (Flatten)            (None, 8192)              0         \n",
      "_________________________________________________________________\n",
      "dense (Dense)                (None, 512)               4194816   \n",
      "_________________________________________________________________\n",
      "dropout (Dropout)            (None, 512)               0         \n",
      "_________________________________________________________________\n",
      "dense_1 (Dense)              (None, 128)               65664     \n",
      "_________________________________________________________________\n",
      "dense_2 (Dense)              (None, 1)                 129       \n",
      "=================================================================\n",
      "Total params: 4,317,857\n",
      "Trainable params: 4,317,857\n",
      "Non-trainable params: 0\n",
      "_________________________________________________________________\n"
     ]
    }
   ],
   "source": [
    "model.summary()"
   ]
  },
  {
   "cell_type": "code",
   "execution_count": 11,
   "metadata": {},
   "outputs": [],
   "source": [
    "#Print Network \n",
    "print_network (results_dir, model, Model_name)\n",
    "#Save Network \n",
    "save_network_json (model_json_dir, model, Model_name)"
   ]
  },
  {
   "cell_type": "code",
   "execution_count": 12,
   "metadata": {},
   "outputs": [
    {
     "name": "stdout",
     "output_type": "stream",
     "text": [
      "Executing op VarHandleOp in device /job:localhost/replica:0/task:0/device:GPU:0\n"
     ]
    }
   ],
   "source": [
    "# Compile Network \n",
    "#from keras import optimizers \n",
    "from tensorflow.keras import optimizers\n",
    "model.compile ( loss='binary_crossentropy',\n",
    "#               optimizer = optimizers.RMSprop(lr=1e-4),\n",
    "#                optimizer = optimizers.RMSprop(lr=1e-5),\n",
    "                optimizer = optimizers.Adam(lr=1e-4),\n",
    "               metrics= ['acc'])"
   ]
  },
  {
   "cell_type": "code",
   "execution_count": 13,
   "metadata": {},
   "outputs": [
    {
     "name": "stdout",
     "output_type": "stream",
     "text": [
      "/home/valborsf/Documents/UOC/PFMProject/DataNew4/CSV/\n"
     ]
    }
   ],
   "source": [
    "# Load train,validation & Test \n",
    "(dftrain, dfval, dftest) = read_dataframes(csv_dir)"
   ]
  },
  {
   "cell_type": "code",
   "execution_count": 28,
   "metadata": {},
   "outputs": [],
   "source": [
    "# Callbackt to be used \n",
    "#import keras\n",
    "#from keras.callbacks import ModelCheckpoint\n",
    "#from keras.callbacks import EarlyStopping\n",
    "\n",
    "callbacks_list = [\n",
    "         tf.keras.callbacks.EarlyStopping (\n",
    "             monitor = 'val_loss',             # Monitors the accuracy\n",
    "             verbose=1,                        # log when finishes\n",
    "             patience = 4,),              # Interrupt if acc no improve in 3 epochs\n",
    "\n",
    "#  ModelCheckpoint to store the weights of the best performing epoch. \n",
    "    \n",
    "         tf.keras.callbacks.ModelCheckpoint(filepath=model_bin_dir+\"Best_weights\"+Model_name+\".hdf5\", \n",
    "             monitor = 'val_loss', # Won't overwritte the model file unless val_loss has\n",
    "             verbose=1,            # improve \n",
    "             save_best_only=True),\n",
    "         \n",
    "#         keras.callbacks.TensorBoard(\n",
    "#             log_dir =  Tensor_dir, \n",
    "#            histogram_freq = 0,  ) # No histograms - validation data must be provided as a tensor\n",
    "          ]"
   ]
  },
  {
   "cell_type": "code",
   "execution_count": 15,
   "metadata": {
    "colab": {
     "base_uri": "https://localhost:8080/",
     "height": 52
    },
    "colab_type": "code",
    "executionInfo": {
     "elapsed": 3126,
     "status": "ok",
     "timestamp": 1572217564583,
     "user": {
      "displayName": "Victoria Albors",
      "photoUrl": "",
      "userId": "00745240505511363037"
     },
     "user_tz": -60
    },
    "id": "8UzGZWV_i5mX",
    "outputId": "7543fba5-0b25-4af2-eb57-716cb6ad1bac"
   },
   "outputs": [
    {
     "name": "stdout",
     "output_type": "stream",
     "text": [
      "Found 2100 validated image filenames belonging to 2 classes.\n",
      "Found 700 validated image filenames belonging to 2 classes.\n",
      "Found 700 validated image filenames belonging to 2 classes.\n"
     ]
    }
   ],
   "source": [
    "#from keras.preprocessing.image import ImageDataGenerator\n",
    "from tensorflow.keras.preprocessing.image import ImageDataGenerator\n",
    "#Rescale images  1/255\n",
    "\n",
    "train_datagen = ImageDataGenerator(\n",
    "    rescale=1./255,\n",
    "    rotation_range =40,\n",
    "    width_shift_range = 0.2,\n",
    "    height_shift_range = 0.2,\n",
    "    shear_range = 0.2,\n",
    "    zoom_range=0.2,\n",
    "    horizontal_flip=True, ) \n",
    "                                   \n",
    "validation_datagen = ImageDataGenerator(rescale=1./255)\n",
    "test_datagen = ImageDataGenerator(rescale=1./255)\n",
    "\n",
    "#batch size = 32 . In this way \"steps per epoch\" ( how many batches have to been treated before going to \n",
    "# the next epoch  is exact  2000 samples =  20 samples x batch  and steps per epoch = 100 - 1 epoch)\n",
    "\n",
    "train_generator = train_datagen.flow_from_dataframe(\n",
    "        dataframe=dftrain,         # Data frame with info of the files and targets\n",
    "        directory=imag_dir,        # path to the directory to read the images from\n",
    "        x_col='file_name_ext',     # column in the data frame that contains the file names \n",
    "        y_col='bm',                # column in the data frame that has the target data\n",
    "        target_size=(150, 150),    # dimensions that the images will be resized\n",
    "        batch_size=128,             # size of the batches of data (default: 32).\n",
    "        class_mode='binary')       # Mode for yielding the targets:1D numpy array of binary labels\n",
    "\n",
    "validation_generator = validation_datagen.flow_from_dataframe(\n",
    "        dataframe=dfval,           # Data frame with info of the files and targets\n",
    "        directory=imag_dir,        # path to the directory to read the images from\n",
    "        x_col='file_name_ext',     # column in the data frame that contains the file names \n",
    "        y_col='bm',                # column in the data frame that has the target data\n",
    "        target_size=(150, 150),    # dimensions that the images will be resized\n",
    "        batch_size=128,             # size of the batches of data (default: 32).\n",
    "        class_mode='binary')       # Mode for yielding the targets:1D numpy array of binary labels\n",
    "\n",
    "test_generator = test_datagen.flow_from_dataframe(\n",
    "        dataframe=dftest,         # Data frame with info of the files and targets\n",
    "        directory=imag_dir,        # path to the directory to read the images from\n",
    "        x_col='file_name_ext',     # column in the data frame that contains the file names \n",
    "        y_col='bm',                # column in the data frame that has the target data\n",
    "        target_size=(150, 150),    # dimensions that the images will be resized\n",
    "        batch_size=128,             # size of the batches of data (default: 32).\n",
    "        shuffle=False,             # IMPORTANT !!! Do not shuffle test data !!!!!!!!!!!!!\n",
    "        class_mode='binary')       # Mode for yielding the targets:1D numpy array of binary labels\n",
    "#        class_mode=None)       # Mode for yielding the targets:1D numpy array of binary labels\n",
    "    "
   ]
  },
  {
   "cell_type": "code",
   "execution_count": 16,
   "metadata": {
    "colab": {
     "base_uri": "https://localhost:8080/",
     "height": 1000
    },
    "colab_type": "code",
    "executionInfo": {
     "elapsed": 20824275,
     "status": "ok",
     "timestamp": 1572238403431,
     "user": {
      "displayName": "Victoria Albors",
      "photoUrl": "",
      "userId": "00745240505511363037"
     },
     "user_tz": -60
    },
    "id": "uCoVQU7Xi5mj",
    "outputId": "4f4f09d8-0b79-430f-cdc2-e5e6389a0eac"
   },
   "outputs": [
    {
     "name": "stdout",
     "output_type": "stream",
     "text": [
      "Epoch 1/200\n",
      "Executing op Shape in device /job:localhost/replica:0/task:0/device:GPU:0\n",
      "Executing op StridedSlice in device /job:localhost/replica:0/task:0/device:GPU:0\n",
      "Executing op ReadVariableOp in device /job:localhost/replica:0/task:0/device:GPU:0\n",
      "Executing op Conv2D in device /job:localhost/replica:0/task:0/device:GPU:0\n",
      "Executing op BiasAdd in device /job:localhost/replica:0/task:0/device:GPU:0\n",
      "Executing op Relu in device /job:localhost/replica:0/task:0/device:GPU:0\n",
      "Executing op MaxPool in device /job:localhost/replica:0/task:0/device:GPU:0\n",
      "Executing op MaxPool in device /job:localhost/replica:0/task:0/device:GPU:0\n",
      "Executing op MatMul in device /job:localhost/replica:0/task:0/device:GPU:0\n",
      "Executing op GreaterEqual in device /job:localhost/replica:0/task:0/device:GPU:0\n",
      "Executing op Cast in device /job:localhost/replica:0/task:0/device:GPU:0\n",
      "Executing op Sigmoid in device /job:localhost/replica:0/task:0/device:GPU:0\n",
      "Executing op Minimum in device /job:localhost/replica:0/task:0/device:GPU:0\n",
      "Executing op Maximum in device /job:localhost/replica:0/task:0/device:GPU:0\n",
      "Executing op AddV2 in device /job:localhost/replica:0/task:0/device:GPU:0\n",
      "Executing op Log in device /job:localhost/replica:0/task:0/device:GPU:0\n",
      "Executing op Neg in device /job:localhost/replica:0/task:0/device:GPU:0\n",
      "Executing op Mean in device /job:localhost/replica:0/task:0/device:GPU:0\n",
      "Executing op NoOp in device /job:localhost/replica:0/task:0/device:GPU:0\n",
      "Executing op Sum in device /job:localhost/replica:0/task:0/device:GPU:0\n",
      "Executing op Cast in device /job:localhost/replica:0/task:0/device:GPU:0\n",
      "Executing op DivNoNan in device /job:localhost/replica:0/task:0/device:GPU:0\n",
      "Executing op Square in device /job:localhost/replica:0/task:0/device:GPU:0\n",
      "Executing op AddN in device /job:localhost/replica:0/task:0/device:GPU:0\n",
      "Executing op BroadcastGradientArgs in device /job:localhost/replica:0/task:0/device:GPU:0\n",
      "Executing op Tile in device /job:localhost/replica:0/task:0/device:GPU:0\n",
      "Executing op Maximum in device /job:localhost/replica:0/task:0/device:GPU:0\n",
      "Executing op FloorDiv in device /job:localhost/replica:0/task:0/device:GPU:0\n",
      "Executing op RealDiv in device /job:localhost/replica:0/task:0/device:GPU:0\n",
      "Executing op Reciprocal in device /job:localhost/replica:0/task:0/device:GPU:0\n",
      "Executing op AddN in device /job:localhost/replica:0/task:0/device:GPU:0\n",
      "Executing op ZerosLike in device /job:localhost/replica:0/task:0/device:GPU:0\n",
      "Executing op Select in device /job:localhost/replica:0/task:0/device:GPU:0\n",
      "Executing op LessEqual in device /job:localhost/replica:0/task:0/device:GPU:0\n",
      "Executing op SigmoidGrad in device /job:localhost/replica:0/task:0/device:GPU:0\n",
      "Executing op BiasAddGrad in device /job:localhost/replica:0/task:0/device:GPU:0\n",
      "Executing op MatMul in device /job:localhost/replica:0/task:0/device:GPU:0\n",
      "Executing op MatMul in device /job:localhost/replica:0/task:0/device:GPU:0\n",
      "Executing op ReluGrad in device /job:localhost/replica:0/task:0/device:GPU:0\n",
      "Executing op MaxPoolGrad in device /job:localhost/replica:0/task:0/device:GPU:0\n",
      "Executing op ShapeN in device /job:localhost/replica:0/task:0/device:GPU:0\n",
      "Executing op Conv2DBackpropInput in device /job:localhost/replica:0/task:0/device:GPU:0\n",
      "Executing op Conv2DBackpropFilter in device /job:localhost/replica:0/task:0/device:GPU:0\n",
      "Executing op MaxPoolGrad in device /job:localhost/replica:0/task:0/device:GPU:0\n",
      "Executing op VarHandleOp in device /job:localhost/replica:0/task:0/device:GPU:0\n",
      "Executing op AssignVariableOp in device /job:localhost/replica:0/task:0/device:GPU:0\n",
      "Executing op Fill in device /job:localhost/replica:0/task:0/device:GPU:0\n",
      "Executing op VarHandleOp in device /job:localhost/replica:0/task:0/device:GPU:0\n",
      "Executing op LogicalNot in device /job:localhost/replica:0/task:0/device:GPU:0\n",
      "Executing op Assert in device /job:localhost/replica:0/task:0/device:GPU:0\n",
      "Executing op VarHandleOp in device /job:localhost/replica:0/task:0/device:GPU:0\n",
      "Executing op VarHandleOp in device /job:localhost/replica:0/task:0/device:GPU:0\n",
      "Executing op VarHandleOp in device /job:localhost/replica:0/task:0/device:GPU:0\n",
      "Executing op VarHandleOp in device /job:localhost/replica:0/task:0/device:GPU:0\n",
      "Executing op VarHandleOp in device /job:localhost/replica:0/task:0/device:GPU:0\n",
      "Executing op VarHandleOp in device /job:localhost/replica:0/task:0/device:GPU:0\n",
      "Executing op VarHandleOp in device /job:localhost/replica:0/task:0/device:GPU:0\n",
      "Executing op VarHandleOp in device /job:localhost/replica:0/task:0/device:GPU:0\n",
      "Executing op VarHandleOp in device /job:localhost/replica:0/task:0/device:GPU:0\n",
      "Executing op Reshape in device /job:localhost/replica:0/task:0/device:GPU:0\n",
      "Executing op VarHandleOp in device /job:localhost/replica:0/task:0/device:GPU:0\n",
      "Executing op ReadVariableOp in device /job:localhost/replica:0/task:0/device:GPU:0\n",
      "Executing op AddV2 in device /job:localhost/replica:0/task:0/device:GPU:0\n",
      "Executing op Cast in device /job:localhost/replica:0/task:0/device:GPU:0\n",
      "Executing op Pow in device /job:localhost/replica:0/task:0/device:GPU:0\n",
      "Executing op Sub in device /job:localhost/replica:0/task:0/device:GPU:0\n",
      "Executing op Sqrt in device /job:localhost/replica:0/task:0/device:GPU:0\n",
      "Executing op RealDiv in device /job:localhost/replica:0/task:0/device:GPU:0\n",
      "Executing op Mul in device /job:localhost/replica:0/task:0/device:GPU:0\n",
      "Executing op ResourceApplyAdam in device /job:localhost/replica:0/task:0/device:GPU:0\n",
      "Executing op AssignAddVariableOp in device /job:localhost/replica:0/task:0/device:GPU:0\n",
      "Executing op Greater in device /job:localhost/replica:0/task:0/device:GPU:0\n",
      "Executing op Equal in device /job:localhost/replica:0/task:0/device:GPU:0\n",
      "Executing op AssignAddVariableOp in device /job:localhost/replica:0/task:0/device:GPU:0\n",
      "Executing op Cast in device /job:localhost/replica:0/task:0/device:GPU:0\n",
      "16/17 [===========================>..] - ETA: 8s - loss: 1.6671 - acc: 0.5269 \n",
      "Epoch 00001: val_loss improved from inf to 1.62342, saving model to /home/valborsf/Documents/UOC/PFMProject/MODELK3/BMODEL/Best_weightsModelK3_1.hdf5\n",
      "17/17 [==============================] - 195s 11s/step - loss: 1.6651 - acc: 0.5319 - val_loss: 1.6234 - val_acc: 0.6714\n",
      "Epoch 2/200\n",
      "16/17 [===========================>..] - ETA: 5s - loss: 1.5957 - acc: 0.5999 \n",
      "Epoch 00002: val_loss improved from 1.62342 to 1.55311, saving model to /home/valborsf/Documents/UOC/PFMProject/MODELK3/BMODEL/Best_weightsModelK3_1.hdf5\n",
      "17/17 [==============================] - 149s 9s/step - loss: 1.5955 - acc: 0.5910 - val_loss: 1.5531 - val_acc: 0.6143\n",
      "Epoch 3/200\n",
      "16/17 [===========================>..] - ETA: 5s - loss: 1.5251 - acc: 0.6100 \n",
      "Epoch 00003: val_loss improved from 1.55311 to 1.47941, saving model to /home/valborsf/Documents/UOC/PFMProject/MODELK3/BMODEL/Best_weightsModelK3_1.hdf5\n",
      "17/17 [==============================] - 148s 9s/step - loss: 1.5232 - acc: 0.6138 - val_loss: 1.4794 - val_acc: 0.6943\n",
      "Epoch 4/200\n",
      "16/17 [===========================>..] - ETA: 6s - loss: 1.4720 - acc: 0.6141 \n",
      "Epoch 00004: val_loss improved from 1.47941 to 1.42635, saving model to /home/valborsf/Documents/UOC/PFMProject/MODELK3/BMODEL/Best_weightsModelK3_1.hdf5\n",
      "17/17 [==============================] - 151s 9s/step - loss: 1.4707 - acc: 0.6090 - val_loss: 1.4264 - val_acc: 0.5957\n",
      "Epoch 5/200\n",
      "16/17 [===========================>..] - ETA: 5s - loss: 1.3996 - acc: 0.6496 \n",
      "Epoch 00005: val_loss improved from 1.42635 to 1.34803, saving model to /home/valborsf/Documents/UOC/PFMProject/MODELK3/BMODEL/Best_weightsModelK3_1.hdf5\n",
      "17/17 [==============================] - 149s 9s/step - loss: 1.3980 - acc: 0.6510 - val_loss: 1.3480 - val_acc: 0.6886\n",
      "Epoch 6/200\n",
      "16/17 [===========================>..] - ETA: 5s - loss: 1.3616 - acc: 0.6425 \n",
      "Epoch 00006: val_loss improved from 1.34803 to 1.31812, saving model to /home/valborsf/Documents/UOC/PFMProject/MODELK3/BMODEL/Best_weightsModelK3_1.hdf5\n",
      "17/17 [==============================] - 149s 9s/step - loss: 1.3605 - acc: 0.6400 - val_loss: 1.3181 - val_acc: 0.6300\n",
      "Epoch 7/200\n",
      "16/17 [===========================>..] - ETA: 5s - loss: 1.3051 - acc: 0.6557 \n",
      "Epoch 00007: val_loss improved from 1.31812 to 1.24948, saving model to /home/valborsf/Documents/UOC/PFMProject/MODELK3/BMODEL/Best_weightsModelK3_1.hdf5\n",
      "17/17 [==============================] - 147s 9s/step - loss: 1.3051 - acc: 0.6571 - val_loss: 1.2495 - val_acc: 0.6957\n"
     ]
    },
    {
     "name": "stdout",
     "output_type": "stream",
     "text": [
      "Epoch 8/200\n",
      "16/17 [===========================>..] - ETA: 5s - loss: 1.2680 - acc: 0.6699 \n",
      "Epoch 00008: val_loss improved from 1.24948 to 1.20963, saving model to /home/valborsf/Documents/UOC/PFMProject/MODELK3/BMODEL/Best_weightsModelK3_1.hdf5\n",
      "17/17 [==============================] - 151s 9s/step - loss: 1.2637 - acc: 0.6733 - val_loss: 1.2096 - val_acc: 0.7271\n",
      "Epoch 9/200\n",
      "16/17 [===========================>..] - ETA: 5s - loss: 1.2205 - acc: 0.6831 \n",
      "Epoch 00009: val_loss did not improve from 1.20963\n",
      "17/17 [==============================] - 151s 9s/step - loss: 1.2243 - acc: 0.6762 - val_loss: 1.2312 - val_acc: 0.6114\n",
      "Epoch 10/200\n",
      "16/17 [===========================>..] - ETA: 5s - loss: 1.1968 - acc: 0.6689 \n",
      "Epoch 00010: val_loss improved from 1.20963 to 1.16035, saving model to /home/valborsf/Documents/UOC/PFMProject/MODELK3/BMODEL/Best_weightsModelK3_1.hdf5\n",
      "17/17 [==============================] - 149s 9s/step - loss: 1.1966 - acc: 0.6681 - val_loss: 1.1603 - val_acc: 0.6829\n",
      "Epoch 11/200\n",
      "16/17 [===========================>..] - ETA: 5s - loss: 1.1556 - acc: 0.6790 \n",
      "Epoch 00011: val_loss improved from 1.16035 to 1.10768, saving model to /home/valborsf/Documents/UOC/PFMProject/MODELK3/BMODEL/Best_weightsModelK3_1.hdf5\n",
      "17/17 [==============================] - 147s 9s/step - loss: 1.1555 - acc: 0.6810 - val_loss: 1.1077 - val_acc: 0.7371\n",
      "Epoch 12/200\n",
      "16/17 [===========================>..] - ETA: 5s - loss: 1.1270 - acc: 0.6876 \n",
      "Epoch 00012: val_loss improved from 1.10768 to 1.10559, saving model to /home/valborsf/Documents/UOC/PFMProject/MODELK3/BMODEL/Best_weightsModelK3_1.hdf5\n",
      "17/17 [==============================] - 146s 9s/step - loss: 1.1291 - acc: 0.6862 - val_loss: 1.1056 - val_acc: 0.6857\n",
      "Epoch 13/200\n",
      "16/17 [===========================>..] - ETA: 6s - loss: 1.0901 - acc: 0.7049 \n",
      "Epoch 00013: val_loss improved from 1.10559 to 1.05231, saving model to /home/valborsf/Documents/UOC/PFMProject/MODELK3/BMODEL/Best_weightsModelK3_1.hdf5\n",
      "17/17 [==============================] - 149s 9s/step - loss: 1.0913 - acc: 0.7043 - val_loss: 1.0523 - val_acc: 0.7229\n",
      "Epoch 14/200\n",
      "16/17 [===========================>..] - ETA: 5s - loss: 1.0712 - acc: 0.6962 \n",
      "Epoch 00014: val_loss improved from 1.05231 to 1.03559, saving model to /home/valborsf/Documents/UOC/PFMProject/MODELK3/BMODEL/Best_weightsModelK3_1.hdf5\n",
      "17/17 [==============================] - 148s 9s/step - loss: 1.0721 - acc: 0.6957 - val_loss: 1.0356 - val_acc: 0.7343\n",
      "Epoch 15/200\n",
      "16/17 [===========================>..] - ETA: 5s - loss: 1.0398 - acc: 0.7094 \n",
      "Epoch 00015: val_loss improved from 1.03559 to 1.00777, saving model to /home/valborsf/Documents/UOC/PFMProject/MODELK3/BMODEL/Best_weightsModelK3_1.hdf5\n",
      "17/17 [==============================] - 148s 9s/step - loss: 1.0445 - acc: 0.7057 - val_loss: 1.0078 - val_acc: 0.7171\n",
      "Epoch 16/200\n",
      "16/17 [===========================>..] - ETA: 5s - loss: 1.0137 - acc: 0.7150 \n",
      "Epoch 00016: val_loss did not improve from 1.00777\n",
      "17/17 [==============================] - 148s 9s/step - loss: 1.0179 - acc: 0.7095 - val_loss: 1.0174 - val_acc: 0.6914\n",
      "Epoch 17/200\n",
      "16/17 [===========================>..] - ETA: 5s - loss: 1.0091 - acc: 0.6983 \n",
      "Epoch 00017: val_loss improved from 1.00777 to 0.96385, saving model to /home/valborsf/Documents/UOC/PFMProject/MODELK3/BMODEL/Best_weightsModelK3_1.hdf5\n",
      "17/17 [==============================] - 149s 9s/step - loss: 1.0067 - acc: 0.7010 - val_loss: 0.9638 - val_acc: 0.7300\n",
      "Epoch 18/200\n",
      "16/17 [===========================>..] - ETA: 5s - loss: 0.9812 - acc: 0.7135 \n",
      "Epoch 00018: val_loss improved from 0.96385 to 0.95993, saving model to /home/valborsf/Documents/UOC/PFMProject/MODELK3/BMODEL/Best_weightsModelK3_1.hdf5\n",
      "17/17 [==============================] - 151s 9s/step - loss: 0.9818 - acc: 0.7119 - val_loss: 0.9599 - val_acc: 0.7071\n",
      "Epoch 19/200\n",
      "16/17 [===========================>..] - ETA: 6s - loss: 0.9668 - acc: 0.7110 \n",
      "Epoch 00019: val_loss improved from 0.95993 to 0.92443, saving model to /home/valborsf/Documents/UOC/PFMProject/MODELK3/BMODEL/Best_weightsModelK3_1.hdf5\n",
      "17/17 [==============================] - 151s 9s/step - loss: 0.9683 - acc: 0.7086 - val_loss: 0.9244 - val_acc: 0.7386\n",
      "Epoch 20/200\n",
      "16/17 [===========================>..] - ETA: 5s - loss: 0.9686 - acc: 0.7074 \n",
      "Epoch 00020: val_loss improved from 0.92443 to 0.91744, saving model to /home/valborsf/Documents/UOC/PFMProject/MODELK3/BMODEL/Best_weightsModelK3_1.hdf5\n",
      "17/17 [==============================] - 149s 9s/step - loss: 0.9654 - acc: 0.7095 - val_loss: 0.9174 - val_acc: 0.7386\n",
      "Epoch 21/200\n",
      "16/17 [===========================>..] - ETA: 5s - loss: 0.9401 - acc: 0.7023 \n",
      "Epoch 00021: val_loss improved from 0.91744 to 0.89809, saving model to /home/valborsf/Documents/UOC/PFMProject/MODELK3/BMODEL/Best_weightsModelK3_1.hdf5\n",
      "17/17 [==============================] - 148s 9s/step - loss: 0.9391 - acc: 0.7019 - val_loss: 0.8981 - val_acc: 0.7371\n",
      "Epoch 22/200\n",
      "16/17 [===========================>..] - ETA: 5s - loss: 0.9144 - acc: 0.7216 \n",
      "Epoch 00022: val_loss improved from 0.89809 to 0.87580, saving model to /home/valborsf/Documents/UOC/PFMProject/MODELK3/BMODEL/Best_weightsModelK3_1.hdf5\n",
      "17/17 [==============================] - 148s 9s/step - loss: 0.9171 - acc: 0.7162 - val_loss: 0.8758 - val_acc: 0.7400\n",
      "Epoch 23/200\n",
      "16/17 [===========================>..] - ETA: 6s - loss: 0.9105 - acc: 0.7197 \n",
      "Epoch 00023: val_loss did not improve from 0.87580\n",
      "17/17 [==============================] - 149s 9s/step - loss: 0.9129 - acc: 0.7190 - val_loss: 0.9157 - val_acc: 0.7014\n",
      "Epoch 24/200\n",
      "16/17 [===========================>..] - ETA: 5s - loss: 0.9296 - acc: 0.6856 \n",
      "Epoch 00024: val_loss did not improve from 0.87580\n",
      "17/17 [==============================] - 151s 9s/step - loss: 0.9229 - acc: 0.6905 - val_loss: 0.8778 - val_acc: 0.7129\n",
      "Epoch 25/200\n",
      "16/17 [===========================>..] - ETA: 5s - loss: 0.8994 - acc: 0.7018 \n",
      "Epoch 00025: val_loss improved from 0.87580 to 0.83895, saving model to /home/valborsf/Documents/UOC/PFMProject/MODELK3/BMODEL/Best_weightsModelK3_1.hdf5\n",
      "17/17 [==============================] - 148s 9s/step - loss: 0.8993 - acc: 0.7019 - val_loss: 0.8389 - val_acc: 0.7486\n",
      "Epoch 26/200\n",
      "16/17 [===========================>..] - ETA: 5s - loss: 0.8777 - acc: 0.7130 \n",
      "Epoch 00026: val_loss improved from 0.83895 to 0.83604, saving model to /home/valborsf/Documents/UOC/PFMProject/MODELK3/BMODEL/Best_weightsModelK3_1.hdf5\n",
      "17/17 [==============================] - 150s 9s/step - loss: 0.8773 - acc: 0.7157 - val_loss: 0.8360 - val_acc: 0.7529\n",
      "Epoch 27/200\n",
      "16/17 [===========================>..] - ETA: 5s - loss: 0.8659 - acc: 0.7186 \n",
      "Epoch 00027: val_loss improved from 0.83604 to 0.81526, saving model to /home/valborsf/Documents/UOC/PFMProject/MODELK3/BMODEL/Best_weightsModelK3_1.hdf5\n",
      "17/17 [==============================] - 149s 9s/step - loss: 0.8672 - acc: 0.7162 - val_loss: 0.8153 - val_acc: 0.7486\n",
      "Epoch 28/200\n",
      "16/17 [===========================>..] - ETA: 5s - loss: 0.8554 - acc: 0.7115 \n",
      "Epoch 00028: val_loss improved from 0.81526 to 0.81382, saving model to /home/valborsf/Documents/UOC/PFMProject/MODELK3/BMODEL/Best_weightsModelK3_1.hdf5\n",
      "17/17 [==============================] - 147s 9s/step - loss: 0.8582 - acc: 0.7076 - val_loss: 0.8138 - val_acc: 0.7500\n",
      "Epoch 29/200\n",
      "16/17 [===========================>..] - ETA: 5s - loss: 0.8555 - acc: 0.7191 \n",
      "Epoch 00029: val_loss improved from 0.81382 to 0.80857, saving model to /home/valborsf/Documents/UOC/PFMProject/MODELK3/BMODEL/Best_weightsModelK3_1.hdf5\n",
      "17/17 [==============================] - 150s 9s/step - loss: 0.8526 - acc: 0.7214 - val_loss: 0.8086 - val_acc: 0.7271\n",
      "Epoch 30/200\n",
      "16/17 [===========================>..] - ETA: 5s - loss: 0.8480 - acc: 0.7236 \n",
      "Epoch 00030: val_loss improved from 0.80857 to 0.80237, saving model to /home/valborsf/Documents/UOC/PFMProject/MODELK3/BMODEL/Best_weightsModelK3_1.hdf5\n",
      "17/17 [==============================] - 149s 9s/step - loss: 0.8493 - acc: 0.7219 - val_loss: 0.8024 - val_acc: 0.7643\n",
      "Epoch 31/200\n",
      "16/17 [===========================>..] - ETA: 6s - loss: 0.8319 - acc: 0.7160 \n",
      "Epoch 00031: val_loss improved from 0.80237 to 0.78580, saving model to /home/valborsf/Documents/UOC/PFMProject/MODELK3/BMODEL/Best_weightsModelK3_1.hdf5\n",
      "17/17 [==============================] - 150s 9s/step - loss: 0.8287 - acc: 0.7176 - val_loss: 0.7858 - val_acc: 0.7557\n"
     ]
    },
    {
     "name": "stdout",
     "output_type": "stream",
     "text": [
      "Epoch 32/200\n",
      "16/17 [===========================>..] - ETA: 5s - loss: 0.8191 - acc: 0.7231 \n",
      "Epoch 00032: val_loss improved from 0.78580 to 0.77725, saving model to /home/valborsf/Documents/UOC/PFMProject/MODELK3/BMODEL/Best_weightsModelK3_1.hdf5\n",
      "17/17 [==============================] - 148s 9s/step - loss: 0.8189 - acc: 0.7205 - val_loss: 0.7773 - val_acc: 0.7629\n",
      "Epoch 33/200\n",
      "16/17 [===========================>..] - ETA: 5s - loss: 0.8157 - acc: 0.7241 \n",
      "Epoch 00033: val_loss did not improve from 0.77725\n",
      "17/17 [==============================] - 150s 9s/step - loss: 0.8175 - acc: 0.7224 - val_loss: 0.7879 - val_acc: 0.7300\n",
      "Epoch 34/200\n",
      "16/17 [===========================>..] - ETA: 5s - loss: 0.8083 - acc: 0.7130 \n",
      "Epoch 00034: val_loss did not improve from 0.77725\n",
      "17/17 [==============================] - 149s 9s/step - loss: 0.8103 - acc: 0.7143 - val_loss: 0.8178 - val_acc: 0.7314\n",
      "Epoch 35/200\n",
      "16/17 [===========================>..] - ETA: 5s - loss: 0.8126 - acc: 0.6998 \n",
      "Epoch 00035: val_loss improved from 0.77725 to 0.75747, saving model to /home/valborsf/Documents/UOC/PFMProject/MODELK3/BMODEL/Best_weightsModelK3_1.hdf5\n",
      "17/17 [==============================] - 149s 9s/step - loss: 0.8105 - acc: 0.7024 - val_loss: 0.7575 - val_acc: 0.7557\n",
      "Epoch 36/200\n",
      "16/17 [===========================>..] - ETA: 5s - loss: 0.7931 - acc: 0.7221 \n",
      "Epoch 00036: val_loss improved from 0.75747 to 0.74879, saving model to /home/valborsf/Documents/UOC/PFMProject/MODELK3/BMODEL/Best_weightsModelK3_1.hdf5\n",
      "17/17 [==============================] - 147s 9s/step - loss: 0.7917 - acc: 0.7233 - val_loss: 0.7488 - val_acc: 0.7643\n",
      "Epoch 37/200\n",
      "16/17 [===========================>..] - ETA: 5s - loss: 0.7977 - acc: 0.7155 \n",
      "Epoch 00037: val_loss improved from 0.74879 to 0.74601, saving model to /home/valborsf/Documents/UOC/PFMProject/MODELK3/BMODEL/Best_weightsModelK3_1.hdf5\n",
      "17/17 [==============================] - 149s 9s/step - loss: 0.7976 - acc: 0.7162 - val_loss: 0.7460 - val_acc: 0.7543\n",
      "Epoch 38/200\n",
      "16/17 [===========================>..] - ETA: 5s - loss: 0.7832 - acc: 0.7262 \n",
      "Epoch 00038: val_loss did not improve from 0.74601\n",
      "17/17 [==============================] - 148s 9s/step - loss: 0.7849 - acc: 0.7233 - val_loss: 0.7514 - val_acc: 0.7671\n",
      "Epoch 39/200\n",
      "16/17 [===========================>..] - ETA: 5s - loss: 0.7782 - acc: 0.7348 \n",
      "Epoch 00039: val_loss did not improve from 0.74601\n",
      "17/17 [==============================] - 148s 9s/step - loss: 0.7786 - acc: 0.7343 - val_loss: 0.7658 - val_acc: 0.7243\n",
      "Epoch 40/200\n",
      "16/17 [===========================>..] - ETA: 5s - loss: 0.7851 - acc: 0.7216 \n",
      "Epoch 00040: val_loss did not improve from 0.74601\n",
      "17/17 [==============================] - 151s 9s/step - loss: 0.7824 - acc: 0.7229 - val_loss: 0.7727 - val_acc: 0.7300\n",
      "Epoch 41/200\n",
      "16/17 [===========================>..] - ETA: 5s - loss: 0.7751 - acc: 0.7145 \n",
      "Epoch 00041: val_loss improved from 0.74601 to 0.72685, saving model to /home/valborsf/Documents/UOC/PFMProject/MODELK3/BMODEL/Best_weightsModelK3_1.hdf5\n",
      "17/17 [==============================] - 149s 9s/step - loss: 0.7765 - acc: 0.7157 - val_loss: 0.7269 - val_acc: 0.7500\n",
      "Epoch 42/200\n",
      "16/17 [===========================>..] - ETA: 5s - loss: 0.7771 - acc: 0.7120 \n",
      "Epoch 00042: val_loss did not improve from 0.72685\n",
      "17/17 [==============================] - 148s 9s/step - loss: 0.7779 - acc: 0.7119 - val_loss: 0.7293 - val_acc: 0.7586\n",
      "Epoch 43/200\n",
      "16/17 [===========================>..] - ETA: 5s - loss: 0.7616 - acc: 0.7302 \n",
      "Epoch 00043: val_loss did not improve from 0.72685\n",
      "17/17 [==============================] - 147s 9s/step - loss: 0.7606 - acc: 0.7295 - val_loss: 0.7355 - val_acc: 0.7314\n",
      "Epoch 44/200\n",
      "16/17 [===========================>..] - ETA: 5s - loss: 0.7548 - acc: 0.7358 \n",
      "Epoch 00044: val_loss improved from 0.72685 to 0.71313, saving model to /home/valborsf/Documents/UOC/PFMProject/MODELK3/BMODEL/Best_weightsModelK3_1.hdf5\n",
      "17/17 [==============================] - 147s 9s/step - loss: 0.7576 - acc: 0.7333 - val_loss: 0.7131 - val_acc: 0.7700\n",
      "Epoch 45/200\n",
      "16/17 [===========================>..] - ETA: 5s - loss: 0.7616 - acc: 0.7338 \n",
      "Epoch 00045: val_loss improved from 0.71313 to 0.71295, saving model to /home/valborsf/Documents/UOC/PFMProject/MODELK3/BMODEL/Best_weightsModelK3_1.hdf5\n",
      "17/17 [==============================] - 150s 9s/step - loss: 0.7681 - acc: 0.7281 - val_loss: 0.7129 - val_acc: 0.7543\n",
      "Epoch 46/200\n",
      "16/17 [===========================>..] - ETA: 5s - loss: 0.7660 - acc: 0.7115 \n",
      "Epoch 00046: val_loss did not improve from 0.71295\n",
      "17/17 [==============================] - 151s 9s/step - loss: 0.7602 - acc: 0.7171 - val_loss: 0.7250 - val_acc: 0.7586\n",
      "Epoch 47/200\n",
      "16/17 [===========================>..] - ETA: 5s - loss: 0.7499 - acc: 0.7419 \n",
      "Epoch 00047: val_loss did not improve from 0.71295\n",
      "17/17 [==============================] - 149s 9s/step - loss: 0.7525 - acc: 0.7386 - val_loss: 0.7215 - val_acc: 0.7600\n",
      "Epoch 48/200\n",
      "16/17 [===========================>..] - ETA: 6s - loss: 0.7380 - acc: 0.7305 \n",
      "Epoch 00048: val_loss improved from 0.71295 to 0.70400, saving model to /home/valborsf/Documents/UOC/PFMProject/MODELK3/BMODEL/Best_weightsModelK3_1.hdf5\n",
      "17/17 [==============================] - 148s 9s/step - loss: 0.7387 - acc: 0.7290 - val_loss: 0.7040 - val_acc: 0.7471\n",
      "Epoch 49/200\n",
      "16/17 [===========================>..] - ETA: 5s - loss: 0.7392 - acc: 0.7348 \n",
      "Epoch 00049: val_loss did not improve from 0.70400\n",
      "17/17 [==============================] - 148s 9s/step - loss: 0.7354 - acc: 0.7371 - val_loss: 0.7109 - val_acc: 0.7543\n",
      "Epoch 50/200\n",
      "16/17 [===========================>..] - ETA: 6s - loss: 0.7371 - acc: 0.7334 \n",
      "Epoch 00050: val_loss improved from 0.70400 to 0.70246, saving model to /home/valborsf/Documents/UOC/PFMProject/MODELK3/BMODEL/Best_weightsModelK3_1.hdf5\n",
      "17/17 [==============================] - 148s 9s/step - loss: 0.7412 - acc: 0.7324 - val_loss: 0.7025 - val_acc: 0.7600\n",
      "Epoch 51/200\n",
      "16/17 [===========================>..] - ETA: 5s - loss: 0.7340 - acc: 0.7353 \n",
      "Epoch 00051: val_loss did not improve from 0.70246\n",
      "17/17 [==============================] - 150s 9s/step - loss: 0.7356 - acc: 0.7348 - val_loss: 0.7041 - val_acc: 0.7557\n",
      "Epoch 52/200\n",
      "16/17 [===========================>..] - ETA: 5s - loss: 0.7370 - acc: 0.7317 \n",
      "Epoch 00052: val_loss did not improve from 0.70246\n",
      "17/17 [==============================] - 149s 9s/step - loss: 0.7371 - acc: 0.7333 - val_loss: 0.7157 - val_acc: 0.7700\n",
      "Epoch 53/200\n",
      "16/17 [===========================>..] - ETA: 5s - loss: 0.7392 - acc: 0.7140 \n",
      "Epoch 00053: val_loss improved from 0.70246 to 0.69949, saving model to /home/valborsf/Documents/UOC/PFMProject/MODELK3/BMODEL/Best_weightsModelK3_1.hdf5\n",
      "17/17 [==============================] - 149s 9s/step - loss: 0.7405 - acc: 0.7138 - val_loss: 0.6995 - val_acc: 0.7743\n",
      "Epoch 54/200\n",
      "16/17 [===========================>..] - ETA: 5s - loss: 0.7370 - acc: 0.7262 \n",
      "Epoch 00054: val_loss did not improve from 0.69949\n",
      "17/17 [==============================] - 150s 9s/step - loss: 0.7360 - acc: 0.7281 - val_loss: 0.7420 - val_acc: 0.7114\n",
      "Epoch 55/200\n",
      "16/17 [===========================>..] - ETA: 6s - loss: 0.7391 - acc: 0.7197 \n",
      "Epoch 00055: val_loss improved from 0.69949 to 0.67972, saving model to /home/valborsf/Documents/UOC/PFMProject/MODELK3/BMODEL/Best_weightsModelK3_1.hdf5\n",
      "17/17 [==============================] - 147s 9s/step - loss: 0.7389 - acc: 0.7186 - val_loss: 0.6797 - val_acc: 0.7743\n",
      "Epoch 56/200\n",
      "16/17 [===========================>..] - ETA: 5s - loss: 0.7282 - acc: 0.7312 \n",
      "Epoch 00056: val_loss did not improve from 0.67972\n",
      "17/17 [==============================] - 147s 9s/step - loss: 0.7250 - acc: 0.7333 - val_loss: 0.6954 - val_acc: 0.7586\n",
      "Epoch 57/200\n",
      "16/17 [===========================>..] - ETA: 5s - loss: 0.7416 - acc: 0.7155 \n",
      "Epoch 00057: val_loss did not improve from 0.67972\n",
      "17/17 [==============================] - 148s 9s/step - loss: 0.7403 - acc: 0.7157 - val_loss: 0.6853 - val_acc: 0.7643\n",
      "Epoch 58/200\n",
      "16/17 [===========================>..] - ETA: 5s - loss: 0.7263 - acc: 0.7323 \n",
      "Epoch 00058: val_loss did not improve from 0.67972\n",
      "17/17 [==============================] - 147s 9s/step - loss: 0.7299 - acc: 0.7319 - val_loss: 0.7091 - val_acc: 0.7629\n"
     ]
    },
    {
     "name": "stdout",
     "output_type": "stream",
     "text": [
      "Epoch 59/200\n",
      "16/17 [===========================>..] - ETA: 5s - loss: 0.7159 - acc: 0.7388 \n",
      "Epoch 00059: val_loss did not improve from 0.67972\n",
      "17/17 [==============================] - 149s 9s/step - loss: 0.7214 - acc: 0.7357 - val_loss: 0.7109 - val_acc: 0.7429\n",
      "Epoch 00059: early stopping\n",
      "Time spent in training :02:27:05\n"
     ]
    }
   ],
   "source": [
    "if TRAIN :\n",
    "    epochs = 200\n",
    "    import time\n",
    "    start_time = time.time()\n",
    "    history = model.fit_generator ( \n",
    "      train_generator,\n",
    "      steps_per_epoch =17,          # 2100 / 128 = 16,6    \n",
    "#      steps_per_epoch =41,                      # nº samples training/ Batch size  = 2614 / 64 \n",
    "      epochs = epochs,\n",
    "      callbacks=callbacks_list,                 # callbacks\n",
    "      validation_data= validation_generator,\n",
    "      validation_steps =6 )        # 700 / 128 = 44 =5,46\n",
    "#      validation_steps =14 )                     # nº samples validation / Batch size = 871 /64\n",
    "\n",
    "    elapsed_time = time.time() - start_time\n",
    "\n",
    "    print( time.strftime('Time spent in training :'\"%H:%M:%S\", time.gmtime(elapsed_time)))\n",
    "\n",
    "    save_model(model, history, model_bin_dir, Model_name)\n"
   ]
  },
  {
   "cell_type": "code",
   "execution_count": 18,
   "metadata": {},
   "outputs": [],
   "source": [
    "# Import Model Test if not need to Train \n",
    "if not TRAIN :\n",
    "    model = model_load ( model_bin_dir, Model_name)"
   ]
  },
  {
   "cell_type": "code",
   "execution_count": 19,
   "metadata": {},
   "outputs": [
    {
     "data": {
      "image/png": "[encoded data removed]",
      "text/plain": [
       "<Figure size 432x288 with 1 Axes>"
      ]
     },
     "metadata": {
      "needs_background": "light"
     },
     "output_type": "display_data"
    },
    {
     "data": {
      "image/png": "[encoded data removed]",
      "text/plain": [
       "<Figure size 432x288 with 1 Axes>"
      ]
     },
     "metadata": {
      "needs_background": "light"
     },
     "output_type": "display_data"
    }
   ],
   "source": [
    "# Display curves of loss and accuracy during training and save results \n",
    "plot_save_acc_loss(results_dir, history.history, Model_name)"
   ]
  },
  {
   "cell_type": "code",
   "execution_count": 21,
   "metadata": {},
   "outputs": [],
   "source": [
    "# Load Model \n",
    "# Load weights \n",
    "\n",
    "#model = build_model()\n",
    "#model.load_weights('my_weights.model')\n",
    "TRAIN = False\n",
    "if not TRAIN :\n",
    "    Model_name = \"ModelK3_3\"\n",
    "    model = model_load ( model_bin_dir, Model_name)\n",
    "    model.load_weights(model_bin_dir+\"Best_weights\"+Model_name+\".hdf5\")"
   ]
  },
  {
   "cell_type": "code",
   "execution_count": 22,
   "metadata": {},
   "outputs": [
    {
     "name": "stdout",
     "output_type": "stream",
     "text": [
      "Executing op TensorDataset in device /job:localhost/replica:0/task:0/device:CPU:0\n",
      "Executing op FlatMapDataset in device /job:localhost/replica:0/task:0/device:CPU:0\n",
      "Executing op OptimizeDataset in device /job:localhost/replica:0/task:0/device:CPU:0\n",
      "Executing op ModelDataset in device /job:localhost/replica:0/task:0/device:CPU:0\n",
      "Executing op AnonymousIteratorV2 in device /job:localhost/replica:0/task:0/device:CPU:0\n",
      "Executing op MakeIterator in device /job:localhost/replica:0/task:0/device:CPU:0\n",
      "Executing op IteratorGetNextSync in device /job:localhost/replica:0/task:0/device:CPU:0\n",
      "Executing op DeleteIterator in device /job:localhost/replica:0/task:0/device:CPU:0\n",
      "Executing op __inference_distributed_function_338539 in device /job:localhost/replica:0/task:0/device:GPU:0\n",
      "6/6 [==============================] - 50s 8s/step - loss: 0.7011 - acc: 0.7471\n"
     ]
    }
   ],
   "source": [
    "# STEP 4 - ROC /AUC\n",
    "#Evaluate your model  -> Evaluation number -> nº samples/ size batch times\n",
    "#scores = model.evaluate(test_generator, verbose=1, steps = 31)\n",
    "scores = model.evaluate(test_generator, verbose=1)"
   ]
  },
  {
   "cell_type": "code",
   "execution_count": 23,
   "metadata": {},
   "outputs": [
    {
     "data": {
      "text/plain": [
       "['loss', 'acc']"
      ]
     },
     "execution_count": 23,
     "metadata": {},
     "output_type": "execute_result"
    }
   ],
   "source": [
    "model.metrics_names"
   ]
  },
  {
   "cell_type": "code",
   "execution_count": 24,
   "metadata": {},
   "outputs": [
    {
     "data": {
      "text/plain": [
       "[0.7010671297709147, 0.74714285]"
      ]
     },
     "execution_count": 24,
     "metadata": {},
     "output_type": "execute_result"
    }
   ],
   "source": [
    "scores"
   ]
  },
  {
   "cell_type": "code",
   "execution_count": 25,
   "metadata": {},
   "outputs": [],
   "source": [
    "# Loss = 70 % \n",
    "# Accuracy of 75%"
   ]
  },
  {
   "cell_type": "code",
   "execution_count": 26,
   "metadata": {},
   "outputs": [
    {
     "name": "stdout",
     "output_type": "stream",
     "text": [
      "Executing op FlatMapDataset in device /job:localhost/replica:0/task:0/device:CPU:0\n",
      "Executing op __inference_distributed_function_338659 in device /job:localhost/replica:0/task:0/device:GPU:0\n"
     ]
    }
   ],
   "source": [
    "# Compute predictions\n",
    "# This takes time !!!!!!!!!!!!!!!!!!!!!!!!!!!!!!!!!\n",
    "y_pred_keras = model.predict(test_generator).ravel()       # y_pred_probabilities\n",
    "y_pred = y_pred_keras > 0.5                                # y_pred_class : if >0.5  = True => Malignant\n",
    "y_test = test_generator.classes                            # Ground truth\n",
    "class_labels = list(test_generator.class_indices.keys())   # Class labels"
   ]
  },
  {
   "cell_type": "code",
   "execution_count": 27,
   "metadata": {},
   "outputs": [
    {
     "name": "stdout",
     "output_type": "stream",
     "text": [
      "Metrics ModelK3_1\n",
      "===========================================\n",
      "Confusion Matrix:\n",
      "[[213 127]\n",
      " [ 50 310]]\n",
      "+----------------------------+-------------+\n",
      "|            Type            |  # samples  |\n",
      "+============================+=============+\n",
      "| True Positives- Malignants | 310         |\n",
      "+----------------------------+-------------+\n",
      "| True Negatives- Benign     | 213         |\n",
      "+----------------------------+-------------+\n",
      "| False Positive             | 127         |\n",
      "+----------------------------+-------------+\n",
      "| False Negative             | 50          |\n",
      "+----------------------------+-------------+\n",
      "Summary classification Report: \n",
      "              precision    recall  f1-score   support\n",
      "\n",
      "      benign       0.81      0.63      0.71       340\n",
      "   malignant       0.71      0.86      0.78       360\n",
      "\n",
      "    accuracy                           0.75       700\n",
      "   macro avg       0.76      0.74      0.74       700\n",
      "weighted avg       0.76      0.75      0.74       700\n",
      "\n",
      "+-------------+---------+\n",
      "|   Metrics   |         |\n",
      "+=============+=========+\n",
      "| Accuracy    | 0.750   |\n",
      "+-------------+---------+\n",
      "| Sensitivity | 0.860   |\n",
      "+-------------+---------+\n",
      "| Specificity | 0.630   |\n",
      "+-------------+---------+\n",
      "| AUC         | 0.840   |\n",
      "+-------------+---------+\n"
     ]
    },
    {
     "data": {
      "image/png": "[encoded data removed]",
      "text/plain": [
       "<Figure size 432x288 with 1 Axes>"
      ]
     },
     "metadata": {
      "needs_background": "light"
     },
     "output_type": "display_data"
    },
    {
     "data": {
      "image/png": "[encoded data removed]",
      "text/plain": [
       "<Figure size 432x288 with 1 Axes>"
      ]
     },
     "metadata": {
      "needs_background": "light"
     },
     "output_type": "display_data"
    }
   ],
   "source": [
    "#Print Metrics + Confusion ROC AUC\n",
    "confusion_ROC_AUC ( y_test, y_pred, y_pred_keras, class_labels, results_dir, Model_name )"
   ]
  },
  {
   "cell_type": "code",
   "execution_count": null,
   "metadata": {},
   "outputs": [],
   "source": [
    "tf.keras.backend.clear_session()  # Reset"
   ]
  }
 ],
 "metadata": {
  "accelerator": "GPU",
  "colab": {
   "collapsed_sections": [],
   "name": "Preprocess_Fit2.ipynb",
   "provenance": []
  },
  "kernelspec": {
   "display_name": "“gpu2”",
   "language": "python",
   "name": "gpu2"
  },
  "language_info": {
   "codemirror_mode": {
    "name": "ipython",
    "version": 3
   },
   "file_extension": ".py",
   "mimetype": "text/x-python",
   "name": "python",
   "nbconvert_exporter": "python",
   "pygments_lexer": "ipython3",
   "version": "3.7.5"
  }
 },
 "nbformat": 4,
 "nbformat_minor": 1
}

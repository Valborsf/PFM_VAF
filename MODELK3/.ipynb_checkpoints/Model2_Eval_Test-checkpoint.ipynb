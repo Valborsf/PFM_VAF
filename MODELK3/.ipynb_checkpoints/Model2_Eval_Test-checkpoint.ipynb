{
 "cells": [
  {
   "cell_type": "markdown",
   "metadata": {
    "colab_type": "text",
    "id": "3LEFojy4_Pqz"
   },
   "source": [
    "# Notebook-  Evaluate on Test Data the model with augmentation\n",
    "# Author : V.Albors   Date : 25.11.2019\n",
    "# Purpose : Train the network with 16 epochs and evaluate on Test Data\n",
    "\n",
    "**Input** :  \n",
    "  * CSV files that identify the images to use as train and test. CSV files are in directory csv_dir   \n",
    "  * Images from test and train. Images are in directory : imag_dir  \n",
    "  * Saved model weights. Model is in directory : model_bin_dir  \n",
    "  \n",
    "**Output**:  \n",
    "  * Download of the model trained with 4 epochs\n",
    "  * Using predictions with the Test Dataset :\n",
    "      * Confusion Matrix\n",
    "      * ROC Curve\n",
    "      * AUC\n",
    "\n",
    "**Process**:  \n",
    " * Read Train and Test images ( identified in the .csv files ) from the imag_dir directory   \n",
    " * Build Network \n",
    " * Compile Network\n",
    " * Create a train an test generator   \n",
    " * Train the model with the train dataset with 4 epochs ( epochs till the network overfits )  \n",
    " * Save the trained model  \n",
    " * Evaluate the model with the test dataset  \n",
    " * Create the confusion matrix   \n",
    " * Create the ROC curve  \n",
    " * Compute the AUC   \n",
    "\n"
   ]
  },
  {
   "cell_type": "code",
   "execution_count": 1,
   "metadata": {},
   "outputs": [],
   "source": [
    "#Eliminate warnings\n",
    "import tensorflow as tf\n",
    "import os\n",
    "os.environ['TF_CPP_MIN_LOG_LEVEL'] = '3'\n",
    "tf.compat.v1.logging.set_verbosity(tf.compat.v1.logging.ERROR)"
   ]
  },
  {
   "cell_type": "code",
   "execution_count": 2,
   "metadata": {},
   "outputs": [],
   "source": [
    "# Define the name of the model, directories & if to train the model \n",
    "Model_directory = \"MODEL2\"\n",
    "Model_name = \"Model2_Rep_Test\"\n",
    "# If no train load Weights of the Best model \n",
    "TRAIN = False"
   ]
  },
  {
   "cell_type": "code",
   "execution_count": 3,
   "metadata": {},
   "outputs": [
    {
     "name": "stdout",
     "output_type": "stream",
     "text": [
      "['confusion_ROC_AUC', 'create_column_tensor', 'create_label_tensor', 'create_val_test', 'define_dirs', 'extract_images_train', 'load_hist_model', 'load_images', 'model_load', 'plot_save_acc_loss', 'print_network', 'process_clinical_info', 'read_dataframes', 'read_dataframes_tables', 'reproducible_results', 'save_model', 'save_network_json', 'start', 'stop', 'to_one_hot', 'to_one_hot_words', 'xi_squared']\n"
     ]
    }
   ],
   "source": [
    "# Import routines\n",
    "import sys  \n",
    "subrc_dir = \"/home/user/Documentos/UOC/PFM/PFMProject/\"\n",
    "sys.path.append(subrc_dir)  \n",
    "from Models_routines import *          \n",
    "\n",
    "import inspect\n",
    "\n",
    "# List functions inside the module\n",
    "import Models_routines as module\n",
    "functions = inspect.getmembers(module, inspect.isfunction)\n",
    "lsfunctions = [item[0] for item in functions]\n",
    "print ( lsfunctions )"
   ]
  },
  {
   "cell_type": "code",
   "execution_count": 4,
   "metadata": {},
   "outputs": [
    {
     "name": "stderr",
     "output_type": "stream",
     "text": [
      "Using TensorFlow backend.\n"
     ]
    }
   ],
   "source": [
    "# Reproducible results \n",
    "reproducible_results ()"
   ]
  },
  {
   "cell_type": "code",
   "execution_count": 5,
   "metadata": {},
   "outputs": [],
   "source": [
    "# Define directories\n",
    "(root_dir,json_dir,imag_dir,csv_dir,model_json_dir,model_bin_dir,results_dir,Tensor_dir) = define_dirs(Model_directory)"
   ]
  },
  {
   "cell_type": "code",
   "execution_count": 6,
   "metadata": {},
   "outputs": [],
   "source": [
    "from keras import layers\n",
    "from keras import models\n",
    "model = models.Sequential ()\n",
    "model.add(layers.Conv2D(32, (3,3), activation='relu', input_shape=(150,150,3)))\n",
    "model.add(layers.MaxPooling2D((2,2)))\n",
    "model.add(layers.Conv2D(64, (3,3), activation='relu'))\n",
    "model.add(layers.MaxPooling2D((2,2)))\n",
    "model.add(layers.Conv2D(128, (3,3), activation='relu'))\n",
    "model.add(layers.MaxPooling2D((2,2)))\n",
    "model.add(layers.Conv2D(128, (3,3), activation='relu'))\n",
    "model.add(layers.MaxPooling2D((2,2)))\n",
    "model.add(layers.Flatten())\n",
    "model.add(layers.Dense(512, activation='relu'))\n",
    "model.add(layers.Dense(1, activation='sigmoid'))"
   ]
  },
  {
   "cell_type": "code",
   "execution_count": 7,
   "metadata": {},
   "outputs": [
    {
     "name": "stdout",
     "output_type": "stream",
     "text": [
      "Model: \"sequential_1\"\n",
      "_________________________________________________________________\n",
      "Layer (type)                 Output Shape              Param #   \n",
      "=================================================================\n",
      "conv2d_1 (Conv2D)            (None, 148, 148, 32)      896       \n",
      "_________________________________________________________________\n",
      "max_pooling2d_1 (MaxPooling2 (None, 74, 74, 32)        0         \n",
      "_________________________________________________________________\n",
      "conv2d_2 (Conv2D)            (None, 72, 72, 64)        18496     \n",
      "_________________________________________________________________\n",
      "max_pooling2d_2 (MaxPooling2 (None, 36, 36, 64)        0         \n",
      "_________________________________________________________________\n",
      "conv2d_3 (Conv2D)            (None, 34, 34, 128)       73856     \n",
      "_________________________________________________________________\n",
      "max_pooling2d_3 (MaxPooling2 (None, 17, 17, 128)       0         \n",
      "_________________________________________________________________\n",
      "conv2d_4 (Conv2D)            (None, 15, 15, 128)       147584    \n",
      "_________________________________________________________________\n",
      "max_pooling2d_4 (MaxPooling2 (None, 7, 7, 128)         0         \n",
      "_________________________________________________________________\n",
      "flatten_1 (Flatten)          (None, 6272)              0         \n",
      "_________________________________________________________________\n",
      "dense_1 (Dense)              (None, 512)               3211776   \n",
      "_________________________________________________________________\n",
      "dense_2 (Dense)              (None, 1)                 513       \n",
      "=================================================================\n",
      "Total params: 3,453,121\n",
      "Trainable params: 3,453,121\n",
      "Non-trainable params: 0\n",
      "_________________________________________________________________\n"
     ]
    }
   ],
   "source": [
    "model.summary()"
   ]
  },
  {
   "cell_type": "code",
   "execution_count": 8,
   "metadata": {},
   "outputs": [],
   "source": [
    "# Compile Network \n",
    "from keras import optimizers \n",
    "model.compile ( loss='binary_crossentropy',\n",
    "#               optimizer = optimizers.RMSprop(lr=1e-4),\n",
    "               optimizer = optimizers.RMSprop(lr=1e-5),\n",
    "               metrics= ['acc'])"
   ]
  },
  {
   "cell_type": "code",
   "execution_count": 9,
   "metadata": {},
   "outputs": [
    {
     "name": "stdout",
     "output_type": "stream",
     "text": [
      "/home/user/Documentos/UOC/PFM/PFMProject/DataNew/CSV/\n"
     ]
    }
   ],
   "source": [
    "# Load train,validation & Test \n",
    "(dftrain, dfval, dftest) = read_dataframes()"
   ]
  },
  {
   "cell_type": "code",
   "execution_count": 10,
   "metadata": {
    "colab": {
     "base_uri": "https://localhost:8080/",
     "height": 52
    },
    "colab_type": "code",
    "executionInfo": {
     "elapsed": 3181,
     "status": "ok",
     "timestamp": 1572283947970,
     "user": {
      "displayName": "Victoria Albors",
      "photoUrl": "",
      "userId": "00745240505511363037"
     },
     "user_tz": -60
    },
    "id": "XLhPVvtA_PrU",
    "outputId": "8f4d7d76-5b75-494f-a6c1-64c5d5a4825e"
   },
   "outputs": [
    {
     "name": "stdout",
     "output_type": "stream",
     "text": [
      "Found 2614 validated image filenames belonging to 2 classes.\n",
      "Found 871 validated image filenames belonging to 2 classes.\n"
     ]
    }
   ],
   "source": [
    "# Create train & Test generators\n",
    "from keras.preprocessing.image import ImageDataGenerator\n",
    "\n",
    "#Rescale images  1/255\n",
    "\n",
    "train_datagen = ImageDataGenerator(\n",
    "    rescale=1./255,\n",
    "    rotation_range =40,\n",
    "    width_shift_range = 0.2,\n",
    "    height_shift_range = 0.2,\n",
    "    shear_range = 0.2,\n",
    "    zoom_range=0.2,\n",
    "    horizontal_flip=True, ) \n",
    "\n",
    "test_datagen = ImageDataGenerator(rescale=1./255)\n",
    "\n",
    "#batch size = 20 . In this way \"steps per epoch\" ( how many batches have to been treated before going to \n",
    "# the next epoch  is exact  2000 samples =  20 samples x batch  and steps per epoch = 100 - 1 epoch)\n",
    "\n",
    "train_generator = train_datagen.flow_from_dataframe(\n",
    "        dataframe=dftrain,         # Data frame with info of the files and targets\n",
    "        directory=imag_dir,        # path to the directory to read the images from\n",
    "        x_col='file_name_ext',     # column in the data frame that contains the file names \n",
    "        y_col='bm',                # column in the data frame that has the target data\n",
    "        target_size=(150, 150),    # dimensions that the images will be resized\n",
    "        batch_size=32,             # size of the batches of data (default: 32).\n",
    "        class_mode='binary')       # Mode for yielding the targets:1D numpy array of binary labels\n",
    "\n",
    "test_generator = test_datagen.flow_from_dataframe(\n",
    "        dataframe=dftest,         # Data frame with info of the files and targets\n",
    "        directory=imag_dir,        # path to the directory to read the images from\n",
    "        x_col='file_name_ext',     # column in the data frame that contains the file names \n",
    "        y_col='bm',                # column in the data frame that has the target data\n",
    "        target_size=(150, 150),    # dimensions that the images will be resized\n",
    "        batch_size=32,             # size of the batches of data (default: 32).\n",
    "        shuffle=False,             # IMPORTANT !!! Do not shuffle test data !!!!!!!!!!!!!\n",
    "        class_mode='binary')       # Mode for yielding the targets:1D numpy array of binary labels\n",
    "#        class_mode=None)       # Mode for yielding the targets:1D numpy array of binary labels"
   ]
  },
  {
   "cell_type": "code",
   "execution_count": 11,
   "metadata": {
    "colab": {
     "base_uri": "https://localhost:8080/",
     "height": 573
    },
    "colab_type": "code",
    "executionInfo": {
     "elapsed": 3897731,
     "status": "ok",
     "timestamp": 1572287890657,
     "user": {
      "displayName": "Victoria Albors",
      "photoUrl": "",
      "userId": "00745240505511363037"
     },
     "user_tz": -60
    },
    "id": "DzS1WVuJ_PrZ",
    "outputId": "ca318cdd-a265-4b51-d7c0-38d815216bbf"
   },
   "outputs": [],
   "source": [
    "# Train only if TRAIN == True\n",
    "# Train X epochs till we reach overfitting\n",
    "# This takes time\n",
    "\n",
    "if TRAIN :\n",
    "\n",
    "    history = model.fit_generator ( \n",
    "      train_generator,\n",
    "      steps_per_epoch =64,\n",
    "      epochs = 16 ) \n",
    "\n",
    "# Save \n",
    "    save_model(model, history, model_bin_dir, Model_name)\n",
    "       "
   ]
  },
  {
   "cell_type": "code",
   "execution_count": 12,
   "metadata": {},
   "outputs": [],
   "source": [
    "# Import Model Test if not need to Train \n",
    "if not TRAIN :\n",
    "    Model_name = \"Model2_Rep\"\n",
    "    model = model_load ( model_bin_dir, Model_name)\n",
    "    model.load_weights(model_bin_dir+\"Best_weights\"+Model_name+\".hdf5\")"
   ]
  },
  {
   "cell_type": "code",
   "execution_count": 13,
   "metadata": {
    "colab": {
     "base_uri": "https://localhost:8080/",
     "height": 34
    },
    "colab_type": "code",
    "executionInfo": {
     "elapsed": 590391,
     "status": "ok",
     "timestamp": 1572294044741,
     "user": {
      "displayName": "Victoria Albors",
      "photoUrl": "",
      "userId": "00745240505511363037"
     },
     "user_tz": -60
    },
    "id": "9lfvXTS3_Pry",
    "outputId": "40535405-86c7-4624-dc05-1414f8a20206"
   },
   "outputs": [
    {
     "name": "stdout",
     "output_type": "stream",
     "text": [
      "28/28 [==============================] - 100s 4s/step\n"
     ]
    }
   ],
   "source": [
    "# STEP 4 - ROC /AUC\n",
    "#Evaluate your model  -> Evaluation number -> nº samples/ size batch times\n",
    "#scores = model.evaluate(test_generator, verbose=1, steps = 31)\n",
    "scores = model.evaluate(test_generator, verbose=1)"
   ]
  },
  {
   "cell_type": "code",
   "execution_count": 14,
   "metadata": {
    "colab": {
     "base_uri": "https://localhost:8080/",
     "height": 34
    },
    "colab_type": "code",
    "executionInfo": {
     "elapsed": 1101,
     "status": "ok",
     "timestamp": 1572295974571,
     "user": {
      "displayName": "Victoria Albors",
      "photoUrl": "",
      "userId": "00745240505511363037"
     },
     "user_tz": -60
    },
    "id": "hPW-otP2_Pr3",
    "outputId": "e1ff427c-94d1-49f6-f988-0a01fefeff1a"
   },
   "outputs": [
    {
     "data": {
      "text/plain": [
       "['loss', 'acc']"
      ]
     },
     "execution_count": 14,
     "metadata": {},
     "output_type": "execute_result"
    }
   ],
   "source": [
    "model.metrics_names"
   ]
  },
  {
   "cell_type": "code",
   "execution_count": 15,
   "metadata": {
    "colab": {
     "base_uri": "https://localhost:8080/",
     "height": 34
    },
    "colab_type": "code",
    "executionInfo": {
     "elapsed": 909,
     "status": "ok",
     "timestamp": 1572295979139,
     "user": {
      "displayName": "Victoria Albors",
      "photoUrl": "",
      "userId": "00745240505511363037"
     },
     "user_tz": -60
    },
    "id": "f3f4eMiZ_Pr_",
    "outputId": "c9ef396b-0294-43b7-84ba-e519e54e4e0d"
   },
   "outputs": [
    {
     "data": {
      "text/plain": [
       "[0.35380745888714404, 0.8266360506535124]"
      ]
     },
     "execution_count": 15,
     "metadata": {},
     "output_type": "execute_result"
    }
   ],
   "source": [
    "scores"
   ]
  },
  {
   "cell_type": "code",
   "execution_count": 16,
   "metadata": {
    "colab": {},
    "colab_type": "code",
    "id": "grO6rKvk_PsH"
   },
   "outputs": [],
   "source": [
    "# Loss = 35 % \n",
    "# Accuracy of 82%"
   ]
  },
  {
   "cell_type": "code",
   "execution_count": 17,
   "metadata": {},
   "outputs": [],
   "source": [
    "# Compute predictions\n",
    "# This takes time !!!!!!!!!!!!!!!!!!!!!!!!!!!!!!!!!\n",
    "y_pred_keras = model.predict(test_generator).ravel()       # y_pred_probabilities\n",
    "y_pred = y_pred_keras > 0.5                                # y_pred_class : if >0.5  = True => Malignant\n",
    "y_test = test_generator.classes                            # Ground truth\n",
    "class_labels = list(test_generator.class_indices.keys())   # Class labels"
   ]
  },
  {
   "cell_type": "code",
   "execution_count": 19,
   "metadata": {},
   "outputs": [
    {
     "name": "stdout",
     "output_type": "stream",
     "text": [
      "Confusion Matrix:\n",
      "[[681 118]\n",
      " [ 33  39]]\n",
      "+----------------------------+-------------+\n",
      "|            Type            |  # samples  |\n",
      "+============================+=============+\n",
      "| True Positives- Malignants | 39          |\n",
      "+----------------------------+-------------+\n",
      "| True Negatives- Benign     | 681         |\n",
      "+----------------------------+-------------+\n",
      "| False Positive             | 118         |\n",
      "+----------------------------+-------------+\n",
      "| False Negative             | 33          |\n",
      "+----------------------------+-------------+\n",
      "Summary classification Report: \n",
      "              precision    recall  f1-score   support\n",
      "\n",
      "      benign       0.95      0.85      0.90       799\n",
      "   malignant       0.25      0.54      0.34        72\n",
      "\n",
      "    accuracy                           0.83       871\n",
      "   macro avg       0.60      0.70      0.62       871\n",
      "weighted avg       0.90      0.83      0.85       871\n",
      "\n",
      "+-------------+---------+\n",
      "|   Metrics   |         |\n",
      "+=============+=========+\n",
      "| Accuracy    | 0.830   |\n",
      "+-------------+---------+\n",
      "| Sensitivity | 0.540   |\n",
      "+-------------+---------+\n",
      "| Specificity | 0.850   |\n",
      "+-------------+---------+\n",
      "| AUC         | 0.810   |\n",
      "+-------------+---------+\n"
     ]
    },
    {
     "data": {
      "image/png": "[encoded data removed]",
      "text/plain": [
       "<Figure size 432x288 with 1 Axes>"
      ]
     },
     "metadata": {
      "needs_background": "light"
     },
     "output_type": "display_data"
    },
    {
     "data": {
      "image/png": "[encoded data removed]",
      "text/plain": [
       "<Figure size 432x288 with 1 Axes>"
      ]
     },
     "metadata": {
      "needs_background": "light"
     },
     "output_type": "display_data"
    }
   ],
   "source": [
    "#Print Metrics + Confusion ROC AUC\n",
    "confusion_ROC_AUC ( y_test, y_pred, y_pred_keras, class_labels, results_dir, Model_name )"
   ]
  },
  {
   "cell_type": "code",
   "execution_count": null,
   "metadata": {},
   "outputs": [],
   "source": []
  }
 ],
 "metadata": {
  "accelerator": "GPU",
  "colab": {
   "collapsed_sections": [],
   "name": "Evaluate_Test2.ipynb",
   "provenance": []
  },
  "kernelspec": {
   "display_name": "Python 3",
   "language": "python",
   "name": "python3"
  },
  "language_info": {
   "codemirror_mode": {
    "name": "ipython",
    "version": 3
   },
   "file_extension": ".py",
   "mimetype": "text/x-python",
   "name": "python",
   "nbconvert_exporter": "python",
   "pygments_lexer": "ipython3",
   "version": "3.7.4"
  }
 },
 "nbformat": 4,
 "nbformat_minor": 1
}

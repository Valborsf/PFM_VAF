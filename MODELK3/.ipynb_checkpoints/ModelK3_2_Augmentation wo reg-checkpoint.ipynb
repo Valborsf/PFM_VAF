{
 "cells": [
  {
   "cell_type": "markdown",
   "metadata": {
    "colab_type": "text",
    "id": "Ur34g7Fbi5lr"
   },
   "source": [
    "# Notebook- Data Augmentation ( Model K3_2 ) \n",
    "# Author : V.Albors   Date : 05.02.2020\n",
    "# Purpose : Data Augmentation without regularization\n",
    "\n",
    "\n",
    "**Input** :  \n",
    "  * CSV files that identify the images to use as train and validation. CSV files are in directory csv_dir   \n",
    "  * Images from train and validation. Images are in directory : imag_dir  \n",
    "  \n",
    "  \n",
    "**Output**:  \n",
    "  * JMODEL dir - Json network model\n",
    "  * BMODEL dir - Optimum model with weights\n",
    "  * RESULTS dir - Print of Network architecture \n",
    "                - Train and Validation Accuracy and Loss Curves\n",
    "                - Metrics of the Model \n",
    "  \n",
    "\n",
    "**Process**:  \n",
    " * Read Train and Validation images ( identified in the .csv files ) from the imag_dir directory   \n",
    " * Define Network : Like model K1_3 but with augmentation and without regularization ( using generators )  \n",
    " * Print Network + Save Network Definition\n",
    " * Compile Network \n",
    " * Create a train and validation generator   \n",
    " * Train the model with the train dataset with 100 epochs ( with data Augmentation. Callbacks :ModelCheckpoint)  \n",
    " * Save the trained model and history of the model in directory model_bin_dir \n",
    " * Paint the Accuracy and Loss curves\n",
    " * Create results : Metrics \n"
   ]
  },
  {
   "cell_type": "code",
   "execution_count": 1,
   "metadata": {},
   "outputs": [],
   "source": [
    "from __future__ import absolute_import, division, print_function, unicode_literals\n",
    "import tensorflow as tf\n",
    "\n",
    "tf.keras.backend.clear_session()  # Reset"
   ]
  },
  {
   "cell_type": "code",
   "execution_count": 2,
   "metadata": {},
   "outputs": [
    {
     "name": "stdout",
     "output_type": "stream",
     "text": [
      "Num GPUs Available:  1\n"
     ]
    }
   ],
   "source": [
    "import tensorflow as tf\n",
    "print(\"Num GPUs Available: \", len(tf.config.experimental.list_physical_devices('GPU')))\n",
    "tf.config.experimental.list_physical_devices('GPU') \n",
    "physical_devices = tf.config.experimental.list_physical_devices('GPU')\n",
    "assert len(physical_devices) > 0, \"Not enough GPU hardware devices available\"\n",
    "tf.config.experimental.set_memory_growth(physical_devices[0], True)\n",
    "tf.debugging.set_log_device_placement(True)"
   ]
  },
  {
   "cell_type": "code",
   "execution_count": 3,
   "metadata": {},
   "outputs": [
    {
     "name": "stdout",
     "output_type": "stream",
     "text": [
      "2.0.0\n",
      "10.0\n",
      "7.6\n"
     ]
    }
   ],
   "source": [
    "#Tensorflow version \n",
    "print(tf.__version__)\n",
    "from tensorflow.python.platform import build_info as tf_build_info\n",
    "print(tf_build_info.cuda_version_number)\n",
    "# Cuda Version 9.0 in v1.10.0\n",
    "print(tf_build_info.cudnn_version_number)\n",
    "# CudNN 7 in v1.10.0"
   ]
  },
  {
   "cell_type": "code",
   "execution_count": 4,
   "metadata": {},
   "outputs": [],
   "source": [
    "# Define the name of the model, directories & if to train the model \n",
    "Model_directory = \"MODELK3\"\n",
    "Model_name = \"ModelK3_2\"\n",
    "TRAIN = True"
   ]
  },
  {
   "cell_type": "code",
   "execution_count": 5,
   "metadata": {},
   "outputs": [
    {
     "name": "stdout",
     "output_type": "stream",
     "text": [
      "['confusion_ROC_AUC', 'create_column_tensor', 'create_label_tensor', 'create_val_test', 'define_dirs', 'extract_images_bm', 'extract_images_train', 'load_hist_model', 'load_images', 'load_images_tf', 'model_load', 'plot_save_acc_loss', 'print_network', 'process_clinical_info', 'read_dataframes', 'read_dataframes_tables', 'reproducible_results', 'save_model', 'save_network_json', 'start', 'stop', 'to_one_hot', 'to_one_hot_words', 'xi_squared']\n"
     ]
    }
   ],
   "source": [
    "# Import routines\n",
    "import sys  \n",
    "subrc_dir = \"/home/valborsf/Documents/UOC/PFMProject/\"\n",
    "sys.path.append(subrc_dir)  \n",
    "from  Models_routines import *\n",
    "import inspect\n",
    "\n",
    "# List functions inside the module\n",
    "import Models_routines as module\n",
    "functions = inspect.getmembers(module, inspect.isfunction)\n",
    "lsfunctions = [item[0] for item in functions]\n",
    "print ( lsfunctions )"
   ]
  },
  {
   "cell_type": "code",
   "execution_count": 6,
   "metadata": {},
   "outputs": [],
   "source": [
    "# Reproducible results \n",
    "reproducible_results ()"
   ]
  },
  {
   "cell_type": "code",
   "execution_count": 7,
   "metadata": {},
   "outputs": [],
   "source": [
    "# Define directories\n",
    "(root_dir,json_dir,imag_dir,csv_dir,model_json_dir,model_bin_dir,results_dir,Tensor_dir) = define_dirs(Model_directory)"
   ]
  },
  {
   "cell_type": "code",
   "execution_count": 8,
   "metadata": {},
   "outputs": [],
   "source": [
    "# New dataset without SONIC disturbing images\n",
    "json_dir =  root_dir +\"/DataNew/ALL_JSON/\"                # .json dir images\n",
    "imag_dir =  root_dir +\"/DataNew/ALL_IMAGES/\"              # .png dir - images\n",
    "\n",
    "# directories for  CSV's\n",
    "csv_dir =  root_dir +\"/DataNew4/CSV/\"                      # .csv dir - dftrain, dfval, dftest"
   ]
  },
  {
   "cell_type": "code",
   "execution_count": 9,
   "metadata": {},
   "outputs": [
    {
     "name": "stdout",
     "output_type": "stream",
     "text": [
      "Executing op RandomUniform in device /job:localhost/replica:0/task:0/device:GPU:0\n",
      "Executing op Sub in device /job:localhost/replica:0/task:0/device:GPU:0\n",
      "Executing op Mul in device /job:localhost/replica:0/task:0/device:GPU:0\n",
      "Executing op Add in device /job:localhost/replica:0/task:0/device:GPU:0\n",
      "Executing op VarHandleOp in device /job:localhost/replica:0/task:0/device:GPU:0\n",
      "Executing op VarIsInitializedOp in device /job:localhost/replica:0/task:0/device:GPU:0\n",
      "Executing op LogicalNot in device /job:localhost/replica:0/task:0/device:GPU:0\n",
      "Executing op Assert in device /job:localhost/replica:0/task:0/device:GPU:0\n",
      "Executing op AssignVariableOp in device /job:localhost/replica:0/task:0/device:GPU:0\n",
      "Executing op Fill in device /job:localhost/replica:0/task:0/device:GPU:0\n",
      "Executing op VarHandleOp in device /job:localhost/replica:0/task:0/device:GPU:0\n",
      "Executing op VarHandleOp in device /job:localhost/replica:0/task:0/device:GPU:0\n",
      "Executing op VarHandleOp in device /job:localhost/replica:0/task:0/device:GPU:0\n",
      "Executing op VarHandleOp in device /job:localhost/replica:0/task:0/device:GPU:0\n",
      "Executing op VarHandleOp in device /job:localhost/replica:0/task:0/device:GPU:0\n",
      "Executing op VarHandleOp in device /job:localhost/replica:0/task:0/device:GPU:0\n",
      "Executing op VarHandleOp in device /job:localhost/replica:0/task:0/device:GPU:0\n",
      "Executing op VarHandleOp in device /job:localhost/replica:0/task:0/device:GPU:0\n",
      "Executing op VarHandleOp in device /job:localhost/replica:0/task:0/device:GPU:0\n",
      "Executing op Reshape in device /job:localhost/replica:0/task:0/device:GPU:0\n",
      "Executing op VarHandleOp in device /job:localhost/replica:0/task:0/device:GPU:0\n"
     ]
    }
   ],
   "source": [
    "from tensorflow.keras import models\n",
    "from tensorflow.keras import layers\n",
    "from tensorflow.keras import Input\n",
    "from tensorflow.keras import regularizers\n",
    "from tensorflow.keras.callbacks import ModelCheckpoint\n",
    "\n",
    "\n",
    "#from keras import layers\n",
    "#from keras import models\n",
    "model = models.Sequential ()\n",
    "model.add(layers.Conv2D(64, (3,3), activation='relu', input_shape=(150,150,3)))\n",
    "model.add(layers.MaxPooling2D((2,2)))\n",
    "model.add(layers.Conv2D(32, (3,3), activation='relu'))\n",
    "model.add(layers.MaxPooling2D((2,2)))\n",
    "model.add(layers.Conv2D(128, (3,3),activation='relu'))\n",
    "model.add(layers.MaxPooling2D((4,4)))\n",
    "model.add(layers.Flatten())\n",
    "model.add(layers.Dense(512, activation='relu'))\n",
    "model.add(layers.Dropout(0.23))\n",
    "model.add(layers.Dense(128, activation='relu'))\n",
    "model.add(layers.Dense(1, activation='sigmoid'))"
   ]
  },
  {
   "cell_type": "code",
   "execution_count": 10,
   "metadata": {},
   "outputs": [
    {
     "name": "stdout",
     "output_type": "stream",
     "text": [
      "Model: \"sequential\"\n",
      "_________________________________________________________________\n",
      "Layer (type)                 Output Shape              Param #   \n",
      "=================================================================\n",
      "conv2d (Conv2D)              (None, 148, 148, 64)      1792      \n",
      "_________________________________________________________________\n",
      "max_pooling2d (MaxPooling2D) (None, 74, 74, 64)        0         \n",
      "_________________________________________________________________\n",
      "conv2d_1 (Conv2D)            (None, 72, 72, 32)        18464     \n",
      "_________________________________________________________________\n",
      "max_pooling2d_1 (MaxPooling2 (None, 36, 36, 32)        0         \n",
      "_________________________________________________________________\n",
      "conv2d_2 (Conv2D)            (None, 34, 34, 128)       36992     \n",
      "_________________________________________________________________\n",
      "max_pooling2d_2 (MaxPooling2 (None, 8, 8, 128)         0         \n",
      "_________________________________________________________________\n",
      "flatten (Flatten)            (None, 8192)              0         \n",
      "_________________________________________________________________\n",
      "dense (Dense)                (None, 512)               4194816   \n",
      "_________________________________________________________________\n",
      "dropout (Dropout)            (None, 512)               0         \n",
      "_________________________________________________________________\n",
      "dense_1 (Dense)              (None, 128)               65664     \n",
      "_________________________________________________________________\n",
      "dense_2 (Dense)              (None, 1)                 129       \n",
      "=================================================================\n",
      "Total params: 4,317,857\n",
      "Trainable params: 4,317,857\n",
      "Non-trainable params: 0\n",
      "_________________________________________________________________\n"
     ]
    }
   ],
   "source": [
    "model.summary()"
   ]
  },
  {
   "cell_type": "code",
   "execution_count": 11,
   "metadata": {},
   "outputs": [],
   "source": [
    "#Print Network \n",
    "print_network (results_dir, model, Model_name)\n",
    "#Save Network \n",
    "save_network_json (model_json_dir, model, Model_name)"
   ]
  },
  {
   "cell_type": "code",
   "execution_count": 12,
   "metadata": {},
   "outputs": [
    {
     "name": "stdout",
     "output_type": "stream",
     "text": [
      "Executing op VarHandleOp in device /job:localhost/replica:0/task:0/device:GPU:0\n"
     ]
    }
   ],
   "source": [
    "# Compile Network \n",
    "#from keras import optimizers \n",
    "from tensorflow.keras import optimizers\n",
    "model.compile ( loss='binary_crossentropy',\n",
    "#               optimizer = optimizers.RMSprop(lr=1e-4),\n",
    "#                optimizer = optimizers.RMSprop(lr=1e-5),\n",
    "                optimizer = optimizers.Adam(lr=1e-4),\n",
    "               metrics= ['acc'])"
   ]
  },
  {
   "cell_type": "code",
   "execution_count": 13,
   "metadata": {},
   "outputs": [
    {
     "name": "stdout",
     "output_type": "stream",
     "text": [
      "/home/valborsf/Documents/UOC/PFMProject/DataNew4/CSV/\n"
     ]
    }
   ],
   "source": [
    "# Load train,validation & Test \n",
    "(dftrain, dfval, dftest) = read_dataframes(csv_dir)"
   ]
  },
  {
   "cell_type": "code",
   "execution_count": 14,
   "metadata": {},
   "outputs": [],
   "source": [
    "# Callbackt to be used \n",
    "#import keras\n",
    "#from keras.callbacks import ModelCheckpoint\n",
    "#from keras.callbacks import EarlyStopping\n",
    "\n",
    "callbacks_list = [\n",
    "         tf.keras.callbacks.EarlyStopping (\n",
    "             monitor = 'val_loss',             # Monitors the accuracy\n",
    "             verbose=1,                        # log when finishes\n",
    "             patience = 4,),              # Interrupt if acc no improve in 3 epochs\n",
    "\n",
    "#  ModelCheckpoint to store the weights of the best performing epoch. \n",
    "    \n",
    "         tf.keras.callbacks.ModelCheckpoint(filepath=model_bin_dir+\"Best_weights\"+Model_name+\".hdf5\", \n",
    "             monitor = 'val_loss', # Won't overwritte the model file unless val_loss has\n",
    "             verbose=1,            # improve \n",
    "             save_best_only=True),\n",
    "         \n",
    "#         keras.callbacks.TensorBoard(\n",
    "#             log_dir =  Tensor_dir, \n",
    "#            histogram_freq = 0,  ) # No histograms - validation data must be provided as a tensor\n",
    "          ]"
   ]
  },
  {
   "cell_type": "code",
   "execution_count": 15,
   "metadata": {
    "colab": {
     "base_uri": "https://localhost:8080/",
     "height": 52
    },
    "colab_type": "code",
    "executionInfo": {
     "elapsed": 3126,
     "status": "ok",
     "timestamp": 1572217564583,
     "user": {
      "displayName": "Victoria Albors",
      "photoUrl": "",
      "userId": "00745240505511363037"
     },
     "user_tz": -60
    },
    "id": "8UzGZWV_i5mX",
    "outputId": "7543fba5-0b25-4af2-eb57-716cb6ad1bac"
   },
   "outputs": [
    {
     "name": "stdout",
     "output_type": "stream",
     "text": [
      "Found 2100 validated image filenames belonging to 2 classes.\n",
      "Found 700 validated image filenames belonging to 2 classes.\n",
      "Found 700 validated image filenames belonging to 2 classes.\n"
     ]
    }
   ],
   "source": [
    "#from keras.preprocessing.image import ImageDataGenerator\n",
    "from tensorflow.keras.preprocessing.image import ImageDataGenerator\n",
    "#Rescale images  1/255\n",
    "\n",
    "train_datagen = ImageDataGenerator(\n",
    "    rescale=1./255,\n",
    "    rotation_range =40,\n",
    "    width_shift_range = 0.2,\n",
    "    height_shift_range = 0.2,\n",
    "    shear_range = 0.2,\n",
    "    zoom_range=0.2,\n",
    "    horizontal_flip=True, ) \n",
    "                                   \n",
    "validation_datagen = ImageDataGenerator(rescale=1./255)\n",
    "test_datagen = ImageDataGenerator(rescale=1./255)\n",
    "\n",
    "#batch size = 32 . In this way \"steps per epoch\" ( how many batches have to been treated before going to \n",
    "# the next epoch  is exact  2000 samples =  20 samples x batch  and steps per epoch = 100 - 1 epoch)\n",
    "\n",
    "train_generator = train_datagen.flow_from_dataframe(\n",
    "        dataframe=dftrain,         # Data frame with info of the files and targets\n",
    "        directory=imag_dir,        # path to the directory to read the images from\n",
    "        x_col='file_name_ext',     # column in the data frame that contains the file names \n",
    "        y_col='bm',                # column in the data frame that has the target data\n",
    "        target_size=(150, 150),    # dimensions that the images will be resized\n",
    "        batch_size=128,             # size of the batches of data (default: 32).\n",
    "        class_mode='binary')       # Mode for yielding the targets:1D numpy array of binary labels\n",
    "\n",
    "validation_generator = validation_datagen.flow_from_dataframe(\n",
    "        dataframe=dfval,           # Data frame with info of the files and targets\n",
    "        directory=imag_dir,        # path to the directory to read the images from\n",
    "        x_col='file_name_ext',     # column in the data frame that contains the file names \n",
    "        y_col='bm',                # column in the data frame that has the target data\n",
    "        target_size=(150, 150),    # dimensions that the images will be resized\n",
    "        batch_size=128,             # size of the batches of data (default: 32).\n",
    "        class_mode='binary')       # Mode for yielding the targets:1D numpy array of binary labels\n",
    "\n",
    "test_generator = test_datagen.flow_from_dataframe(\n",
    "        dataframe=dftest,         # Data frame with info of the files and targets\n",
    "        directory=imag_dir,        # path to the directory to read the images from\n",
    "        x_col='file_name_ext',     # column in the data frame that contains the file names \n",
    "        y_col='bm',                # column in the data frame that has the target data\n",
    "        target_size=(150, 150),    # dimensions that the images will be resized\n",
    "        batch_size=128,             # size of the batches of data (default: 32).\n",
    "        shuffle=False,             # IMPORTANT !!! Do not shuffle test data !!!!!!!!!!!!!\n",
    "        class_mode='binary')       # Mode for yielding the targets:1D numpy array of binary labels\n",
    "#        class_mode=None)       # Mode for yielding the targets:1D numpy array of binary labels\n",
    "    "
   ]
  },
  {
   "cell_type": "code",
   "execution_count": 16,
   "metadata": {
    "colab": {
     "base_uri": "https://localhost:8080/",
     "height": 1000
    },
    "colab_type": "code",
    "executionInfo": {
     "elapsed": 20824275,
     "status": "ok",
     "timestamp": 1572238403431,
     "user": {
      "displayName": "Victoria Albors",
      "photoUrl": "",
      "userId": "00745240505511363037"
     },
     "user_tz": -60
    },
    "id": "uCoVQU7Xi5mj",
    "outputId": "4f4f09d8-0b79-430f-cdc2-e5e6389a0eac"
   },
   "outputs": [
    {
     "name": "stdout",
     "output_type": "stream",
     "text": [
      "Epoch 1/200\n",
      "Executing op Shape in device /job:localhost/replica:0/task:0/device:GPU:0\n",
      "Executing op StridedSlice in device /job:localhost/replica:0/task:0/device:GPU:0\n",
      "Executing op ReadVariableOp in device /job:localhost/replica:0/task:0/device:GPU:0\n",
      "Executing op Conv2D in device /job:localhost/replica:0/task:0/device:GPU:0\n",
      "Executing op BiasAdd in device /job:localhost/replica:0/task:0/device:GPU:0\n",
      "Executing op Relu in device /job:localhost/replica:0/task:0/device:GPU:0\n",
      "Executing op MaxPool in device /job:localhost/replica:0/task:0/device:GPU:0\n",
      "Executing op MaxPool in device /job:localhost/replica:0/task:0/device:GPU:0\n",
      "Executing op MatMul in device /job:localhost/replica:0/task:0/device:GPU:0\n",
      "Executing op GreaterEqual in device /job:localhost/replica:0/task:0/device:GPU:0\n",
      "Executing op Cast in device /job:localhost/replica:0/task:0/device:GPU:0\n",
      "Executing op Sigmoid in device /job:localhost/replica:0/task:0/device:GPU:0\n",
      "Executing op Minimum in device /job:localhost/replica:0/task:0/device:GPU:0\n",
      "Executing op Maximum in device /job:localhost/replica:0/task:0/device:GPU:0\n",
      "Executing op AddV2 in device /job:localhost/replica:0/task:0/device:GPU:0\n",
      "Executing op Log in device /job:localhost/replica:0/task:0/device:GPU:0\n",
      "Executing op Neg in device /job:localhost/replica:0/task:0/device:GPU:0\n",
      "Executing op Mean in device /job:localhost/replica:0/task:0/device:GPU:0\n",
      "Executing op NoOp in device /job:localhost/replica:0/task:0/device:GPU:0\n",
      "Executing op Sum in device /job:localhost/replica:0/task:0/device:GPU:0\n",
      "Executing op Cast in device /job:localhost/replica:0/task:0/device:GPU:0\n",
      "Executing op DivNoNan in device /job:localhost/replica:0/task:0/device:GPU:0\n",
      "Executing op BroadcastGradientArgs in device /job:localhost/replica:0/task:0/device:GPU:0\n",
      "Executing op Tile in device /job:localhost/replica:0/task:0/device:GPU:0\n",
      "Executing op Maximum in device /job:localhost/replica:0/task:0/device:GPU:0\n",
      "Executing op FloorDiv in device /job:localhost/replica:0/task:0/device:GPU:0\n",
      "Executing op RealDiv in device /job:localhost/replica:0/task:0/device:GPU:0\n",
      "Executing op Reciprocal in device /job:localhost/replica:0/task:0/device:GPU:0\n",
      "Executing op AddN in device /job:localhost/replica:0/task:0/device:GPU:0\n",
      "Executing op ZerosLike in device /job:localhost/replica:0/task:0/device:GPU:0\n",
      "Executing op Select in device /job:localhost/replica:0/task:0/device:GPU:0\n",
      "Executing op LessEqual in device /job:localhost/replica:0/task:0/device:GPU:0\n",
      "Executing op SigmoidGrad in device /job:localhost/replica:0/task:0/device:GPU:0\n",
      "Executing op BiasAddGrad in device /job:localhost/replica:0/task:0/device:GPU:0\n",
      "Executing op MatMul in device /job:localhost/replica:0/task:0/device:GPU:0\n",
      "Executing op MatMul in device /job:localhost/replica:0/task:0/device:GPU:0\n",
      "Executing op ReluGrad in device /job:localhost/replica:0/task:0/device:GPU:0\n",
      "Executing op MaxPoolGrad in device /job:localhost/replica:0/task:0/device:GPU:0\n",
      "Executing op ShapeN in device /job:localhost/replica:0/task:0/device:GPU:0\n",
      "Executing op Conv2DBackpropInput in device /job:localhost/replica:0/task:0/device:GPU:0\n",
      "Executing op Conv2DBackpropFilter in device /job:localhost/replica:0/task:0/device:GPU:0\n",
      "Executing op MaxPoolGrad in device /job:localhost/replica:0/task:0/device:GPU:0\n",
      "Executing op VarHandleOp in device /job:localhost/replica:0/task:0/device:GPU:0\n",
      "Executing op AssignVariableOp in device /job:localhost/replica:0/task:0/device:GPU:0\n",
      "Executing op Fill in device /job:localhost/replica:0/task:0/device:GPU:0\n",
      "Executing op VarHandleOp in device /job:localhost/replica:0/task:0/device:GPU:0\n",
      "Executing op LogicalNot in device /job:localhost/replica:0/task:0/device:GPU:0\n",
      "Executing op Assert in device /job:localhost/replica:0/task:0/device:GPU:0\n",
      "Executing op VarHandleOp in device /job:localhost/replica:0/task:0/device:GPU:0\n",
      "Executing op VarHandleOp in device /job:localhost/replica:0/task:0/device:GPU:0\n",
      "Executing op VarHandleOp in device /job:localhost/replica:0/task:0/device:GPU:0\n",
      "Executing op VarHandleOp in device /job:localhost/replica:0/task:0/device:GPU:0\n",
      "Executing op VarHandleOp in device /job:localhost/replica:0/task:0/device:GPU:0\n",
      "Executing op VarHandleOp in device /job:localhost/replica:0/task:0/device:GPU:0\n",
      "Executing op VarHandleOp in device /job:localhost/replica:0/task:0/device:GPU:0\n",
      "Executing op VarHandleOp in device /job:localhost/replica:0/task:0/device:GPU:0\n",
      "Executing op VarHandleOp in device /job:localhost/replica:0/task:0/device:GPU:0\n",
      "Executing op Reshape in device /job:localhost/replica:0/task:0/device:GPU:0\n",
      "Executing op VarHandleOp in device /job:localhost/replica:0/task:0/device:GPU:0\n",
      "Executing op ReadVariableOp in device /job:localhost/replica:0/task:0/device:GPU:0\n",
      "Executing op AddV2 in device /job:localhost/replica:0/task:0/device:GPU:0\n",
      "Executing op Cast in device /job:localhost/replica:0/task:0/device:GPU:0\n",
      "Executing op Pow in device /job:localhost/replica:0/task:0/device:GPU:0\n",
      "Executing op Sub in device /job:localhost/replica:0/task:0/device:GPU:0\n",
      "Executing op Sqrt in device /job:localhost/replica:0/task:0/device:GPU:0\n",
      "Executing op RealDiv in device /job:localhost/replica:0/task:0/device:GPU:0\n",
      "Executing op Mul in device /job:localhost/replica:0/task:0/device:GPU:0\n",
      "Executing op ResourceApplyAdam in device /job:localhost/replica:0/task:0/device:GPU:0\n",
      "Executing op AssignAddVariableOp in device /job:localhost/replica:0/task:0/device:GPU:0\n",
      "Executing op Greater in device /job:localhost/replica:0/task:0/device:GPU:0\n",
      "Executing op Equal in device /job:localhost/replica:0/task:0/device:GPU:0\n",
      "Executing op AssignAddVariableOp in device /job:localhost/replica:0/task:0/device:GPU:0\n",
      "Executing op Cast in device /job:localhost/replica:0/task:0/device:GPU:0\n",
      "16/17 [===========================>..] - ETA: 8s - loss: 0.6897 - acc: 0.5360 \n",
      "Epoch 00001: val_loss improved from inf to 0.68148, saving model to /home/valborsf/Documents/UOC/PFMProject/MODELK3/BMODEL/Best_weightsModelK3_2.hdf5\n",
      "17/17 [==============================] - 195s 11s/step - loss: 0.6893 - acc: 0.5367 - val_loss: 0.6815 - val_acc: 0.6400\n",
      "Epoch 2/200\n",
      "16/17 [===========================>..] - ETA: 5s - loss: 0.6796 - acc: 0.5862 \n",
      "Epoch 00002: val_loss improved from 0.68148 to 0.66818, saving model to /home/valborsf/Documents/UOC/PFMProject/MODELK3/BMODEL/Best_weightsModelK3_2.hdf5\n",
      "17/17 [==============================] - 146s 9s/step - loss: 0.6808 - acc: 0.5819 - val_loss: 0.6682 - val_acc: 0.6600\n",
      "Epoch 3/200\n",
      "16/17 [===========================>..] - ETA: 5s - loss: 0.6668 - acc: 0.5872 \n",
      "Epoch 00003: val_loss improved from 0.66818 to 0.63919, saving model to /home/valborsf/Documents/UOC/PFMProject/MODELK3/BMODEL/Best_weightsModelK3_2.hdf5\n",
      "17/17 [==============================] - 149s 9s/step - loss: 0.6652 - acc: 0.5886 - val_loss: 0.6392 - val_acc: 0.6257\n",
      "Epoch 4/200\n",
      "16/17 [===========================>..] - ETA: 5s - loss: 0.6447 - acc: 0.6232 \n",
      "Epoch 00004: val_loss improved from 0.63919 to 0.61561, saving model to /home/valborsf/Documents/UOC/PFMProject/MODELK3/BMODEL/Best_weightsModelK3_2.hdf5\n",
      "17/17 [==============================] - 147s 9s/step - loss: 0.6439 - acc: 0.6224 - val_loss: 0.6156 - val_acc: 0.6743\n",
      "Epoch 5/200\n",
      "16/17 [===========================>..] - ETA: 5s - loss: 0.6207 - acc: 0.6430 \n",
      "Epoch 00005: val_loss improved from 0.61561 to 0.58645, saving model to /home/valborsf/Documents/UOC/PFMProject/MODELK3/BMODEL/Best_weightsModelK3_2.hdf5\n",
      "17/17 [==============================] - 150s 9s/step - loss: 0.6177 - acc: 0.6486 - val_loss: 0.5864 - val_acc: 0.6686\n",
      "Epoch 6/200\n",
      "16/17 [===========================>..] - ETA: 5s - loss: 0.6156 - acc: 0.6405 \n",
      "Epoch 00006: val_loss did not improve from 0.58645\n",
      "17/17 [==============================] - 146s 9s/step - loss: 0.6151 - acc: 0.6400 - val_loss: 0.6220 - val_acc: 0.6786\n",
      "Epoch 7/200\n",
      "16/17 [===========================>..] - ETA: 5s - loss: 0.5942 - acc: 0.6755 \n",
      "Epoch 00007: val_loss improved from 0.58645 to 0.56280, saving model to /home/valborsf/Documents/UOC/PFMProject/MODELK3/BMODEL/Best_weightsModelK3_2.hdf5\n",
      "17/17 [==============================] - 146s 9s/step - loss: 0.5919 - acc: 0.6767 - val_loss: 0.5628 - val_acc: 0.6771\n",
      "Epoch 8/200\n",
      "16/17 [===========================>..] - ETA: 5s - loss: 0.5777 - acc: 0.6820 \n",
      "Epoch 00008: val_loss improved from 0.56280 to 0.54481, saving model to /home/valborsf/Documents/UOC/PFMProject/MODELK3/BMODEL/Best_weightsModelK3_2.hdf5\n",
      "17/17 [==============================] - 146s 9s/step - loss: 0.5774 - acc: 0.6805 - val_loss: 0.5448 - val_acc: 0.7186\n",
      "Epoch 9/200\n",
      "16/17 [===========================>..] - ETA: 5s - loss: 0.5656 - acc: 0.6947 \n",
      "Epoch 00009: val_loss did not improve from 0.54481\n",
      "17/17 [==============================] - 145s 9s/step - loss: 0.5629 - acc: 0.6986 - val_loss: 0.6088 - val_acc: 0.6886\n",
      "Epoch 10/200\n",
      "16/17 [===========================>..] - ETA: 5s - loss: 0.5673 - acc: 0.6881 \n",
      "Epoch 00010: val_loss improved from 0.54481 to 0.52837, saving model to /home/valborsf/Documents/UOC/PFMProject/MODELK3/BMODEL/Best_weightsModelK3_2.hdf5\n",
      "17/17 [==============================] - 145s 9s/step - loss: 0.5694 - acc: 0.6857 - val_loss: 0.5284 - val_acc: 0.7100\n",
      "Epoch 11/200\n",
      "16/17 [===========================>..] - ETA: 5s - loss: 0.5655 - acc: 0.6927 \n",
      "Epoch 00011: val_loss improved from 0.52837 to 0.52267, saving model to /home/valborsf/Documents/UOC/PFMProject/MODELK3/BMODEL/Best_weightsModelK3_2.hdf5\n",
      "17/17 [==============================] - 148s 9s/step - loss: 0.5647 - acc: 0.6910 - val_loss: 0.5227 - val_acc: 0.7329\n",
      "Epoch 12/200\n",
      "16/17 [===========================>..] - ETA: 5s - loss: 0.5519 - acc: 0.7013 \n",
      "Epoch 00012: val_loss improved from 0.52267 to 0.51700, saving model to /home/valborsf/Documents/UOC/PFMProject/MODELK3/BMODEL/Best_weightsModelK3_2.hdf5\n",
      "17/17 [==============================] - 146s 9s/step - loss: 0.5486 - acc: 0.7057 - val_loss: 0.5170 - val_acc: 0.7286\n",
      "Epoch 13/200\n",
      "16/17 [===========================>..] - ETA: 5s - loss: 0.5418 - acc: 0.7094 \n",
      "Epoch 00013: val_loss did not improve from 0.51700\n",
      "17/17 [==============================] - 147s 9s/step - loss: 0.5421 - acc: 0.7110 - val_loss: 0.5522 - val_acc: 0.7400\n",
      "Epoch 14/200\n",
      "16/17 [===========================>..] - ETA: 5s - loss: 0.5476 - acc: 0.7049 \n",
      "Epoch 00014: val_loss improved from 0.51700 to 0.51696, saving model to /home/valborsf/Documents/UOC/PFMProject/MODELK3/BMODEL/Best_weightsModelK3_2.hdf5\n",
      "17/17 [==============================] - 148s 9s/step - loss: 0.5461 - acc: 0.7052 - val_loss: 0.5170 - val_acc: 0.7486\n",
      "Epoch 15/200\n",
      "16/17 [===========================>..] - ETA: 5s - loss: 0.5364 - acc: 0.7160 \n",
      "Epoch 00015: val_loss improved from 0.51696 to 0.50413, saving model to /home/valborsf/Documents/UOC/PFMProject/MODELK3/BMODEL/Best_weightsModelK3_2.hdf5\n",
      "17/17 [==============================] - 145s 9s/step - loss: 0.5381 - acc: 0.7152 - val_loss: 0.5041 - val_acc: 0.7586\n",
      "Epoch 16/200\n",
      "16/17 [===========================>..] - ETA: 5s - loss: 0.5414 - acc: 0.7084 \n",
      "Epoch 00016: val_loss did not improve from 0.50413\n",
      "17/17 [==============================] - 147s 9s/step - loss: 0.5482 - acc: 0.7005 - val_loss: 0.5719 - val_acc: 0.6386\n",
      "Epoch 17/200\n",
      "16/17 [===========================>..] - ETA: 5s - loss: 0.5390 - acc: 0.7064 \n",
      "Epoch 00017: val_loss improved from 0.50413 to 0.49784, saving model to /home/valborsf/Documents/UOC/PFMProject/MODELK3/BMODEL/Best_weightsModelK3_2.hdf5\n",
      "17/17 [==============================] - 146s 9s/step - loss: 0.5388 - acc: 0.7076 - val_loss: 0.4978 - val_acc: 0.7514\n",
      "Epoch 18/200\n",
      "16/17 [===========================>..] - ETA: 5s - loss: 0.5327 - acc: 0.7145 \n",
      "Epoch 00018: val_loss did not improve from 0.49784\n",
      "17/17 [==============================] - 147s 9s/step - loss: 0.5287 - acc: 0.7205 - val_loss: 0.5123 - val_acc: 0.7157\n",
      "Epoch 19/200\n",
      "16/17 [===========================>..] - ETA: 5s - loss: 0.5377 - acc: 0.7099 \n",
      "Epoch 00019: val_loss improved from 0.49784 to 0.49001, saving model to /home/valborsf/Documents/UOC/PFMProject/MODELK3/BMODEL/Best_weightsModelK3_2.hdf5\n",
      "17/17 [==============================] - 147s 9s/step - loss: 0.5367 - acc: 0.7100 - val_loss: 0.4900 - val_acc: 0.7657\n",
      "Epoch 20/200\n",
      "16/17 [===========================>..] - ETA: 5s - loss: 0.5235 - acc: 0.7282 \n",
      "Epoch 00020: val_loss did not improve from 0.49001\n",
      "17/17 [==============================] - 147s 9s/step - loss: 0.5266 - acc: 0.7252 - val_loss: 0.5068 - val_acc: 0.7271\n",
      "Epoch 21/200\n",
      "16/17 [===========================>..] - ETA: 5s - loss: 0.5261 - acc: 0.7246 \n",
      "Epoch 00021: val_loss improved from 0.49001 to 0.48389, saving model to /home/valborsf/Documents/UOC/PFMProject/MODELK3/BMODEL/Best_weightsModelK3_2.hdf5\n",
      "17/17 [==============================] - 146s 9s/step - loss: 0.5260 - acc: 0.7262 - val_loss: 0.4839 - val_acc: 0.7471\n",
      "Epoch 22/200\n",
      "16/17 [===========================>..] - ETA: 5s - loss: 0.5158 - acc: 0.7297 \n",
      "Epoch 00022: val_loss improved from 0.48389 to 0.48350, saving model to /home/valborsf/Documents/UOC/PFMProject/MODELK3/BMODEL/Best_weightsModelK3_2.hdf5\n",
      "17/17 [==============================] - 146s 9s/step - loss: 0.5224 - acc: 0.7214 - val_loss: 0.4835 - val_acc: 0.7657\n",
      "Epoch 23/200\n",
      "16/17 [===========================>..] - ETA: 6s - loss: 0.5253 - acc: 0.7266 \n",
      "Epoch 00023: val_loss did not improve from 0.48350\n",
      "17/17 [==============================] - 146s 9s/step - loss: 0.5245 - acc: 0.7262 - val_loss: 0.5077 - val_acc: 0.7400\n",
      "Epoch 24/200\n",
      "16/17 [===========================>..] - ETA: 5s - loss: 0.5310 - acc: 0.7155 \n",
      "Epoch 00024: val_loss improved from 0.48350 to 0.47957, saving model to /home/valborsf/Documents/UOC/PFMProject/MODELK3/BMODEL/Best_weightsModelK3_2.hdf5\n",
      "17/17 [==============================] - 146s 9s/step - loss: 0.5280 - acc: 0.7186 - val_loss: 0.4796 - val_acc: 0.7614\n",
      "Epoch 25/200\n",
      "16/17 [===========================>..] - ETA: 5s - loss: 0.5141 - acc: 0.7378 \n",
      "Epoch 00025: val_loss did not improve from 0.47957\n",
      "17/17 [==============================] - 147s 9s/step - loss: 0.5133 - acc: 0.7371 - val_loss: 0.5272 - val_acc: 0.7186\n",
      "Epoch 26/200\n",
      "16/17 [===========================>..] - ETA: 5s - loss: 0.5189 - acc: 0.7211 \n",
      "Epoch 00026: val_loss did not improve from 0.47957\n",
      "17/17 [==============================] - 147s 9s/step - loss: 0.5206 - acc: 0.7219 - val_loss: 0.4826 - val_acc: 0.7600\n",
      "Epoch 27/200\n",
      "16/17 [===========================>..] - ETA: 5s - loss: 0.5103 - acc: 0.7333 \n",
      "Epoch 00027: val_loss did not improve from 0.47957\n",
      "17/17 [==============================] - 147s 9s/step - loss: 0.5097 - acc: 0.7343 - val_loss: 0.4812 - val_acc: 0.7643\n",
      "Epoch 28/200\n",
      "16/17 [===========================>..] - ETA: 5s - loss: 0.5120 - acc: 0.7262 \n",
      "Epoch 00028: val_loss did not improve from 0.47957\n",
      "17/17 [==============================] - 147s 9s/step - loss: 0.5145 - acc: 0.7233 - val_loss: 0.4904 - val_acc: 0.7300\n",
      "Epoch 00028: early stopping\n",
      "Time spent in training :01:09:12\n"
     ]
    }
   ],
   "source": [
    "if TRAIN :\n",
    "    epochs = 200\n",
    "    import time\n",
    "    start_time = time.time()\n",
    "    history = model.fit_generator ( \n",
    "      train_generator,\n",
    "      steps_per_epoch =17,          # 2100 / 128 = 16,6    \n",
    "#      steps_per_epoch =41,                      # nº samples training/ Batch size  = 2614 / 64 \n",
    "      epochs = epochs,\n",
    "      callbacks=callbacks_list,                 # callbacks\n",
    "      validation_data= validation_generator,\n",
    "      validation_steps =6 )        # 700 / 128 = 44 =5,46\n",
    "#      validation_steps =14 )                     # nº samples validation / Batch size = 871 /64\n",
    "\n",
    "    elapsed_time = time.time() - start_time\n",
    "\n",
    "    print( time.strftime('Time spent in training :'\"%H:%M:%S\", time.gmtime(elapsed_time)))\n",
    "\n",
    "    save_model(model, history, model_bin_dir, Model_name)\n"
   ]
  },
  {
   "cell_type": "code",
   "execution_count": 17,
   "metadata": {},
   "outputs": [],
   "source": [
    "# Import Model Test if not need to Train \n",
    "if not TRAIN :\n",
    "    model = model_load ( model_bin_dir, Model_name)"
   ]
  },
  {
   "cell_type": "code",
   "execution_count": 18,
   "metadata": {},
   "outputs": [
    {
     "data": {
      "image/png": "[encoded data removed]",
      "text/plain": [
       "<Figure size 432x288 with 1 Axes>"
      ]
     },
     "metadata": {
      "needs_background": "light"
     },
     "output_type": "display_data"
    },
    {
     "data": {
      "image/png": "[encoded data removed]",
      "text/plain": [
       "<Figure size 432x288 with 1 Axes>"
      ]
     },
     "metadata": {
      "needs_background": "light"
     },
     "output_type": "display_data"
    }
   ],
   "source": [
    "# Display curves of loss and accuracy during training and save results \n",
    "plot_save_acc_loss(results_dir, history.history, Model_name)"
   ]
  },
  {
   "cell_type": "code",
   "execution_count": 19,
   "metadata": {},
   "outputs": [],
   "source": [
    "# Load Model \n",
    "# Load weights \n",
    "\n",
    "#model = build_model()\n",
    "#model.load_weights('my_weights.model')\n",
    "TRAIN = False\n",
    "if not TRAIN :\n",
    "    Model_name = \"ModelK3_2\"\n",
    "    model = model_load ( model_bin_dir, Model_name)\n",
    "    model.load_weights(model_bin_dir+\"Best_weights\"+Model_name+\".hdf5\")"
   ]
  },
  {
   "cell_type": "code",
   "execution_count": 20,
   "metadata": {},
   "outputs": [
    {
     "name": "stdout",
     "output_type": "stream",
     "text": [
      "Executing op TensorDataset in device /job:localhost/replica:0/task:0/device:CPU:0\n",
      "Executing op FlatMapDataset in device /job:localhost/replica:0/task:0/device:CPU:0\n",
      "Executing op OptimizeDataset in device /job:localhost/replica:0/task:0/device:CPU:0\n",
      "Executing op ModelDataset in device /job:localhost/replica:0/task:0/device:CPU:0\n",
      "Executing op AnonymousIteratorV2 in device /job:localhost/replica:0/task:0/device:CPU:0\n",
      "Executing op MakeIterator in device /job:localhost/replica:0/task:0/device:CPU:0\n",
      "Executing op IteratorGetNextSync in device /job:localhost/replica:0/task:0/device:CPU:0\n",
      "Executing op DeleteIterator in device /job:localhost/replica:0/task:0/device:CPU:0\n",
      "Executing op __inference_distributed_function_131985 in device /job:localhost/replica:0/task:0/device:GPU:0\n",
      "6/6 [==============================] - 49s 8s/step - loss: 0.4960 - acc: 0.7329\n"
     ]
    }
   ],
   "source": [
    "# STEP 4 - ROC /AUC\n",
    "#Evaluate your model  -> Evaluation number -> nº samples/ size batch times\n",
    "#scores = model.evaluate(test_generator, verbose=1, steps = 31)\n",
    "scores = model.evaluate(test_generator, verbose=1)"
   ]
  },
  {
   "cell_type": "code",
   "execution_count": 21,
   "metadata": {},
   "outputs": [
    {
     "data": {
      "text/plain": [
       "['loss', 'acc']"
      ]
     },
     "execution_count": 21,
     "metadata": {},
     "output_type": "execute_result"
    }
   ],
   "source": [
    "model.metrics_names"
   ]
  },
  {
   "cell_type": "code",
   "execution_count": 22,
   "metadata": {},
   "outputs": [
    {
     "data": {
      "text/plain": [
       "[0.49602143963177997, 0.73285717]"
      ]
     },
     "execution_count": 22,
     "metadata": {},
     "output_type": "execute_result"
    }
   ],
   "source": [
    "scores"
   ]
  },
  {
   "cell_type": "code",
   "execution_count": 23,
   "metadata": {},
   "outputs": [],
   "source": [
    "# Loss = 50 % \n",
    "# Accuracy of 73%"
   ]
  },
  {
   "cell_type": "code",
   "execution_count": 24,
   "metadata": {},
   "outputs": [
    {
     "name": "stdout",
     "output_type": "stream",
     "text": [
      "Executing op FlatMapDataset in device /job:localhost/replica:0/task:0/device:CPU:0\n",
      "Executing op __inference_distributed_function_132105 in device /job:localhost/replica:0/task:0/device:GPU:0\n"
     ]
    }
   ],
   "source": [
    "# Compute predictions\n",
    "# This takes time !!!!!!!!!!!!!!!!!!!!!!!!!!!!!!!!!\n",
    "y_pred_keras = model.predict(test_generator).ravel()       # y_pred_probabilities\n",
    "y_pred = y_pred_keras > 0.5                                # y_pred_class : if >0.5  = True => Malignant\n",
    "y_test = test_generator.classes                            # Ground truth\n",
    "class_labels = list(test_generator.class_indices.keys())   # Class labels"
   ]
  },
  {
   "cell_type": "code",
   "execution_count": 25,
   "metadata": {},
   "outputs": [
    {
     "name": "stdout",
     "output_type": "stream",
     "text": [
      "Metrics ModelK3_2\n",
      "===========================================\n",
      "Confusion Matrix:\n",
      "[[200 140]\n",
      " [ 47 313]]\n",
      "+----------------------------+-------------+\n",
      "|            Type            |  # samples  |\n",
      "+============================+=============+\n",
      "| True Positives- Malignants | 313         |\n",
      "+----------------------------+-------------+\n",
      "| True Negatives- Benign     | 200         |\n",
      "+----------------------------+-------------+\n",
      "| False Positive             | 140         |\n",
      "+----------------------------+-------------+\n",
      "| False Negative             | 47          |\n",
      "+----------------------------+-------------+\n",
      "Summary classification Report: \n",
      "              precision    recall  f1-score   support\n",
      "\n",
      "      benign       0.81      0.59      0.68       340\n",
      "   malignant       0.69      0.87      0.77       360\n",
      "\n",
      "    accuracy                           0.73       700\n",
      "   macro avg       0.75      0.73      0.73       700\n",
      "weighted avg       0.75      0.73      0.73       700\n",
      "\n",
      "+-------------+---------+\n",
      "|   Metrics   |         |\n",
      "+=============+=========+\n",
      "| Accuracy    | 0.730   |\n",
      "+-------------+---------+\n",
      "| Sensitivity | 0.870   |\n",
      "+-------------+---------+\n",
      "| Specificity | 0.590   |\n",
      "+-------------+---------+\n",
      "| AUC         | 0.830   |\n",
      "+-------------+---------+\n"
     ]
    },
    {
     "data": {
      "image/png": "[encoded data removed]",
      "text/plain": [
       "<Figure size 432x288 with 1 Axes>"
      ]
     },
     "metadata": {
      "needs_background": "light"
     },
     "output_type": "display_data"
    },
    {
     "data": {
      "image/png": "[encoded data removed]",
      "text/plain": [
       "<Figure size 432x288 with 1 Axes>"
      ]
     },
     "metadata": {
      "needs_background": "light"
     },
     "output_type": "display_data"
    }
   ],
   "source": [
    "#Print Metrics + Confusion ROC AUC\n",
    "confusion_ROC_AUC ( y_test, y_pred, y_pred_keras, class_labels, results_dir, Model_name )"
   ]
  },
  {
   "cell_type": "code",
   "execution_count": null,
   "metadata": {},
   "outputs": [],
   "source": [
    "tf.keras.backend.clear_session()  # Reset"
   ]
  }
 ],
 "metadata": {
  "accelerator": "GPU",
  "colab": {
   "collapsed_sections": [],
   "name": "Preprocess_Fit2.ipynb",
   "provenance": []
  },
  "kernelspec": {
   "display_name": "“gpu2”",
   "language": "python",
   "name": "gpu2"
  },
  "language_info": {
   "codemirror_mode": {
    "name": "ipython",
    "version": 3
   },
   "file_extension": ".py",
   "mimetype": "text/x-python",
   "name": "python",
   "nbconvert_exporter": "python",
   "pygments_lexer": "ipython3",
   "version": "3.7.6"
  }
 },
 "nbformat": 4,
 "nbformat_minor": 1
}

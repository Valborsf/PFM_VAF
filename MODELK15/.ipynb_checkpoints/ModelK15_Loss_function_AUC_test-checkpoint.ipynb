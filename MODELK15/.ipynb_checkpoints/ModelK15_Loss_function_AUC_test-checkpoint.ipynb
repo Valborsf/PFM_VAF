{
 "cells": [
  {
   "cell_type": "markdown",
   "metadata": {
    "colab_type": "text",
    "id": "Ur34g7Fbi5lr"
   },
   "source": [
    "# Notebook- Model K15 - Custom Loss Function AUC  Test\n",
    "# Author : V.Albors   Date : 05.04.2020\n",
    "# Purpose : Create Custom Loss Function \n",
    "\n",
    "\n",
    "\n",
    "**Input** :  \n",
    "  * CSV files that identify the images to use as train and validation. CSV files are in directory csv_dir   \n",
    "  * Images from train and validation. Images are in directory : imag_dir  \n",
    "  * Saved model. Model is in directory : model_bin_dir  \n",
    "  \n",
    "**Output**:  \n",
    "  * Download of the model trained with train dataset - \n",
    "  * Download the history of the model in order to be evaluated \n",
    "\n",
    "**Process**:  \n",
    " * Read Train and Validation images ( identified in the .csv files ) from the imag_dir directory   \n",
    " * Create a train and validation input & label tensors (no augmentation)\n",
    " * Define the architecture of model : \n",
    "                        \n",
    " * Train the model with the train dataset with callbacks (  ModuleCheckPoint , Early Stopping)\n",
    " * Save the trained model and history of the model in directory model_bin_dir \n",
    " * Paint the Accuracy and Loss curves\n",
    " * Create results : Metrics \n",
    " "
   ]
  },
  {
   "cell_type": "code",
   "execution_count": 1,
   "metadata": {},
   "outputs": [],
   "source": [
    "from __future__ import absolute_import, division, print_function, unicode_literals\n",
    "import tensorflow as tf\n",
    "\n",
    "tf.keras.backend.clear_session()  # Reset"
   ]
  },
  {
   "cell_type": "code",
   "execution_count": 2,
   "metadata": {},
   "outputs": [
    {
     "name": "stdout",
     "output_type": "stream",
     "text": [
      "Num GPUs Available:  1\n"
     ]
    }
   ],
   "source": [
    "import tensorflow as tf\n",
    "print(\"Num GPUs Available: \", len(tf.config.experimental.list_physical_devices('GPU')))\n",
    "tf.config.experimental.list_physical_devices('GPU') \n",
    "physical_devices = tf.config.experimental.list_physical_devices('GPU')\n",
    "assert len(physical_devices) > 0, \"Not enough GPU hardware devices available\"\n",
    "tf.config.experimental.set_memory_growth(physical_devices[0], True)\n",
    "#tf.debugging.set_log_device_placement(True)"
   ]
  },
  {
   "cell_type": "code",
   "execution_count": 3,
   "metadata": {},
   "outputs": [
    {
     "name": "stdout",
     "output_type": "stream",
     "text": [
      "2.0.0\n",
      "10.0\n",
      "7.6\n"
     ]
    }
   ],
   "source": [
    "#Tensorflow version \n",
    "print(tf.__version__)\n",
    "from tensorflow.python.platform import build_info as tf_build_info\n",
    "print(tf_build_info.cuda_version_number)\n",
    "# Cuda Version 9.0 in v1.10.0\n",
    "print(tf_build_info.cudnn_version_number)\n",
    "# CudNN 7 in v1.10.0"
   ]
  },
  {
   "cell_type": "code",
   "execution_count": 8,
   "metadata": {},
   "outputs": [],
   "source": [
    "import keras.backend as K\n",
    "#https://github.com/tflearn/tflearn/issues/1028\n",
    "def roc_auc_score(y_pred, y_true):\n",
    "    \"\"\" ROC AUC Score.\n",
    "    Approximates the Area Under Curve score, using approximation based on\n",
    "    the Wilcoxon-Mann-Whitney U statistic.\n",
    "    Yan, L., Dodier, R., Mozer, M. C., & Wolniewicz, R. (2003).\n",
    "    Optimizing Classifier Performance via an Approximation to the Wilcoxon-Mann-Whitney Statistic.\n",
    "    Measures overall performance for a full range of threshold levels.\n",
    "    Arguments:\n",
    "        y_pred: `Tensor`. Predicted values.\n",
    "        y_true: `Tensor` . Targets (labels), a probability distribution.\n",
    "    \"\"\"\n",
    "    with tf.name_scope(\"RocAucScore\"):\n",
    "        pos = tf.boolean_mask(y_pred, tf.cast(y_true, tf.bool))\n",
    "#   print pos \n",
    "        print ( 'Pos after boolean mask :', pos) \n",
    "        neg = tf.boolean_mask(y_pred, ~tf.cast(y_true, tf.bool))\n",
    "#   print neg \n",
    "        print ('Neg after boolean mask :', neg) \n",
    "    \n",
    "        pos = tf.expand_dims(pos, 0)\n",
    "# print pos 2\n",
    "        print ( 'Pos after expand :', pos) \n",
    "\n",
    "# print neg 2\n",
    "        neg = tf.expand_dims(neg, 1)\n",
    "        print ( ' zeros_like :', tf.zeros_like(pos * neg)) \n",
    "\n",
    "#        print ( 'Pos*neg:', pos*neg)\n",
    "        # original paper suggests performance is robust to exact parameter choice\n",
    "        gamma = 0.2\n",
    "        p     = 3\n",
    "        \n",
    "#        print ('pos antes diff:',pos)\n",
    "#        print ('neg antes diff:',neg)\n",
    "        \n",
    "        print ( 'pos-neg:', pos-neg)\n",
    "        print ( 'pos-neg -gamma:', pos-neg-gamma)\n",
    "\n",
    "        difference = tf.zeros_like(pos * neg) + pos - neg - gamma\n",
    "        \n",
    "        print ( 'difference :', difference)\n",
    "        masked = tf.boolean_mask(difference, difference < 0.0)\n",
    "#        masked = tf.boolean_mask(difference, difference > 0.0)       # Prueba\n",
    "        \n",
    "        print ('Masked:', masked)\n",
    "        return tf.reduce_sum(tf.pow(-masked, p))\n",
    "\n",
    "def roc_auc_score_loss(y_pred, y_true):\n",
    "#    print ( 'y_pred:',y_pred)\n",
    "#    print ( 'y_true:',y_true)\n",
    "    auc = roc_auc_score(y_pred, y_true)\n",
    "    tf.print(' AUC Loss: ', auc )\n",
    "    return auc"
   ]
  },
  {
   "cell_type": "code",
   "execution_count": 11,
   "metadata": {},
   "outputs": [
    {
     "name": "stdout",
     "output_type": "stream",
     "text": [
      "Pos after boolean mask : tf.Tensor([0. 0.], shape=(2,), dtype=float32)\n",
      "Neg after boolean mask : tf.Tensor([1. 1.], shape=(2,), dtype=float32)\n",
      "Pos after expand : tf.Tensor([[0. 0.]], shape=(1, 2), dtype=float32)\n",
      " zeros_like : tf.Tensor(\n",
      "[[0. 0.]\n",
      " [0. 0.]], shape=(2, 2), dtype=float32)\n",
      "pos-neg: tf.Tensor(\n",
      "[[-1. -1.]\n",
      " [-1. -1.]], shape=(2, 2), dtype=float32)\n",
      "pos-neg -gamma: tf.Tensor(\n",
      "[[-1.2 -1.2]\n",
      " [-1.2 -1.2]], shape=(2, 2), dtype=float32)\n",
      "difference : tf.Tensor(\n",
      "[[-1.2 -1.2]\n",
      " [-1.2 -1.2]], shape=(2, 2), dtype=float32)\n",
      "Masked: tf.Tensor([-1.2 -1.2 -1.2 -1.2], shape=(4,), dtype=float32)\n",
      "Roc Auc Score :  tf.Tensor(6.9120007, shape=(), dtype=float32)\n"
     ]
    }
   ],
   "source": [
    "import numpy as np\n",
    "y_true =  np.array( [0., 0., 1., 1. ] , dtype=np.float32)       # Ground truth\n",
    "y_pred = np.array ( [1.0, 1.0, 0.0, 0.0], dtype=np.float32 )    # P probabilities ( Worse classifier )\n",
    "\n",
    "print ( 'Roc Auc Score : ', roc_auc_score(y_pred, y_true) )     # Roc AUC "
   ]
  },
  {
   "cell_type": "code",
   "execution_count": 12,
   "metadata": {},
   "outputs": [
    {
     "name": "stdout",
     "output_type": "stream",
     "text": [
      "Pos after boolean mask : tf.Tensor([1. 1.], shape=(2,), dtype=float32)\n",
      "Neg after boolean mask : tf.Tensor([0. 0.], shape=(2,), dtype=float32)\n",
      "Pos after expand : tf.Tensor([[1. 1.]], shape=(1, 2), dtype=float32)\n",
      " zeros_like : tf.Tensor(\n",
      "[[0. 0.]\n",
      " [0. 0.]], shape=(2, 2), dtype=float32)\n",
      "pos-neg: tf.Tensor(\n",
      "[[1. 1.]\n",
      " [1. 1.]], shape=(2, 2), dtype=float32)\n",
      "pos-neg -gamma: tf.Tensor(\n",
      "[[0.8 0.8]\n",
      " [0.8 0.8]], shape=(2, 2), dtype=float32)\n",
      "difference : tf.Tensor(\n",
      "[[0.8 0.8]\n",
      " [0.8 0.8]], shape=(2, 2), dtype=float32)\n",
      "Masked: tf.Tensor([], shape=(0,), dtype=float32)\n",
      "Roc Auc Score :  tf.Tensor(0.0, shape=(), dtype=float32)\n"
     ]
    }
   ],
   "source": [
    "import numpy as np\n",
    "y_true =  np.array( [0., 0., 1., 1. ] , dtype=np.float32)       # Ground truth\n",
    "y_pred = np.array ( [0., 0., 1.0, 1.0], dtype=np.float32 )      # P probabilities ( Best classifier)\n",
    "\n",
    "print ( 'Roc Auc Score : ', roc_auc_score(y_pred, y_true) )     # Roc AUC "
   ]
  },
  {
   "cell_type": "code",
   "execution_count": 13,
   "metadata": {},
   "outputs": [
    {
     "name": "stdout",
     "output_type": "stream",
     "text": [
      "Pos after boolean mask : tf.Tensor([0.5 0.5], shape=(2,), dtype=float32)\n",
      "Neg after boolean mask : tf.Tensor([0.5 0.5], shape=(2,), dtype=float32)\n",
      "Pos after expand : tf.Tensor([[0.5 0.5]], shape=(1, 2), dtype=float32)\n",
      " zeros_like : tf.Tensor(\n",
      "[[0. 0.]\n",
      " [0. 0.]], shape=(2, 2), dtype=float32)\n",
      "pos-neg: tf.Tensor(\n",
      "[[0. 0.]\n",
      " [0. 0.]], shape=(2, 2), dtype=float32)\n",
      "pos-neg -gamma: tf.Tensor(\n",
      "[[-0.2 -0.2]\n",
      " [-0.2 -0.2]], shape=(2, 2), dtype=float32)\n",
      "difference : tf.Tensor(\n",
      "[[-0.2 -0.2]\n",
      " [-0.2 -0.2]], shape=(2, 2), dtype=float32)\n",
      "Masked: tf.Tensor([-0.2 -0.2 -0.2 -0.2], shape=(4,), dtype=float32)\n",
      "Roc Auc Score :  tf.Tensor(0.032, shape=(), dtype=float32)\n"
     ]
    }
   ],
   "source": [
    "import numpy as np\n",
    "y_true =  np.array( [0., 0., 1., 1. ] , dtype=np.float32)       # Ground truth\n",
    "y_pred = np.array ( [0.5, 0.5, 0.5, 0.5], dtype=np.float32 )    # P probabilities ( 50% each class)\n",
    "\n",
    "print ( 'Roc Auc Score : ', roc_auc_score(y_pred, y_true) )     # Roc AUC "
   ]
  },
  {
   "cell_type": "code",
   "execution_count": 7,
   "metadata": {},
   "outputs": [
    {
     "ename": "ModuleNotFoundError",
     "evalue": "No module named 'tflearn'",
     "output_type": "error",
     "traceback": [
      "\u001b[0;31m---------------------------------------------------------------------------\u001b[0m",
      "\u001b[0;31mModuleNotFoundError\u001b[0m                       Traceback (most recent call last)",
      "\u001b[0;32m<ipython-input-7-b5f4b46e3d98>\u001b[0m in \u001b[0;36m<module>\u001b[0;34m\u001b[0m\n\u001b[0;32m----> 1\u001b[0;31m \u001b[0;32mimport\u001b[0m \u001b[0mtflearn\u001b[0m\u001b[0;34m\u001b[0m\u001b[0;34m\u001b[0m\u001b[0m\n\u001b[0m\u001b[1;32m      2\u001b[0m \u001b[0mprint\u001b[0m \u001b[0;34m(\u001b[0m \u001b[0mtflearn\u001b[0m\u001b[0;34m.\u001b[0m\u001b[0mobjectives\u001b[0m\u001b[0;34m.\u001b[0m\u001b[0mroc_auc_score\u001b[0m \u001b[0;34m(\u001b[0m\u001b[0my_pred\u001b[0m\u001b[0;34m,\u001b[0m \u001b[0my_true\u001b[0m\u001b[0;34m)\u001b[0m \u001b[0;34m)\u001b[0m\u001b[0;34m\u001b[0m\u001b[0;34m\u001b[0m\u001b[0m\n",
      "\u001b[0;31mModuleNotFoundError\u001b[0m: No module named 'tflearn'"
     ]
    }
   ],
   "source": [
    "#import tflearn\n",
    "#print ( tflearn.objectives.roc_auc_score (y_pred, y_true) ) "
   ]
  },
  {
   "cell_type": "code",
   "execution_count": null,
   "metadata": {},
   "outputs": [],
   "source": [
    "gamma = 0.2\n",
    "p     = 3\n",
    "x1 =  np.array( [0., 1.] , dtype=np.float32)       # Ground truth\n",
    "x1 = tf.expand_dims(x1, 0)\n",
    "print ('x1:', x1)\n",
    "x2 = np.array ( [0.1, 0.9], dtype=np.float32 ) \n",
    "x2 = tf.expand_dims(x2, 1)\n",
    "print ('x2:', x2)\n",
    "print ( 'x1*x2 :')\n",
    "print (x1*x2 )\n",
    "print ( tf.zeros_like(x1 * x2))\n",
    "\n",
    "print (' x1- x2 ' )\n",
    "print ( x1- x2 )\n",
    "\n",
    "print (' x1- x2 - gamma' )\n",
    "print ( x1- x2 - gamma)\n",
    "\n",
    "\n",
    "print ('Dif:') \n",
    "dif = tf.zeros_like(x1 * x2)+ x1 -x2 - gamma \n",
    "print ( dif)\n",
    "masked = tf.boolean_mask(dif, dif < 0.0)\n",
    "print ('----masked---')\n",
    "print ( masked)\n",
    "print ( 'Result AUC:')\n",
    "print ( tf.reduce_sum(tf.pow(-masked, p)) ) "
   ]
  },
  {
   "cell_type": "code",
   "execution_count": null,
   "metadata": {},
   "outputs": [],
   "source": [
    "x3 =  np.array( [2., 3.] , dtype=np.float32) \n",
    "print ( tf.pow(x3, p)) "
   ]
  },
  {
   "cell_type": "code",
   "execution_count": null,
   "metadata": {},
   "outputs": [],
   "source": []
  }
 ],
 "metadata": {
  "accelerator": "GPU",
  "colab": {
   "collapsed_sections": [],
   "name": "Preprocess_Fit4.ipynb",
   "provenance": []
  },
  "kernelspec": {
   "display_name": "ktf2",
   "language": "python",
   "name": "ktf2"
  },
  "language_info": {
   "codemirror_mode": {
    "name": "ipython",
    "version": 3
   },
   "file_extension": ".py",
   "mimetype": "text/x-python",
   "name": "python",
   "nbconvert_exporter": "python",
   "pygments_lexer": "ipython3",
   "version": "3.7.6"
  }
 },
 "nbformat": 4,
 "nbformat_minor": 1
}

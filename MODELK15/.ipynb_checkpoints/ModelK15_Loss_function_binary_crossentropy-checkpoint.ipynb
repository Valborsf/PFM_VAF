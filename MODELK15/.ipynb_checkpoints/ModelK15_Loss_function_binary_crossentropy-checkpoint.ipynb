{
 "cells": [
  {
   "cell_type": "markdown",
   "metadata": {
    "colab_type": "text",
    "id": "Ur34g7Fbi5lr"
   },
   "source": [
    "# Notebook- Model K15 - Custom Loss Function Binary Cross entropy  \n",
    "# Author : V.Albors   Date : 19.04.2020\n",
    "# Purpose : Standad loss Function Binary Crossentropy\n",
    "\n",
    "\n",
    "\n",
    "**Input** :  \n",
    "  * CSV files that identify the images to use as train and validation. CSV files are in directory csv_dir   \n",
    "  * Images from train and validation. Images are in directory : imag_dir  \n",
    "  * Saved model. Model is in directory : model_bin_dir  \n",
    "  \n",
    "**Output**:  \n",
    "  * Download of the model trained with train dataset - \n",
    "  * Download the history of the model in order to be evaluated \n",
    "\n",
    "**Process**:  \n",
    " * Read Train and Validation images ( identified in the .csv files ) from the imag_dir directory   \n",
    " * Create a train and validation input & label tensors (no augmentation)\n",
    " * Define the architecture of model : \n",
    "                        \n",
    " * Train the model with the train dataset with callbacks (  ModuleCheckPoint , Early Stopping)\n",
    " * Save the trained model and history of the model in directory model_bin_dir \n",
    " * Paint the Accuracy and Loss curves\n",
    " * Create results : Metrics \n",
    " "
   ]
  },
  {
   "cell_type": "code",
   "execution_count": 1,
   "metadata": {},
   "outputs": [],
   "source": [
    "from __future__ import absolute_import, division, print_function, unicode_literals\n",
    "import tensorflow as tf\n",
    "\n",
    "tf.keras.backend.clear_session()  # Reset"
   ]
  },
  {
   "cell_type": "code",
   "execution_count": 2,
   "metadata": {},
   "outputs": [
    {
     "name": "stdout",
     "output_type": "stream",
     "text": [
      "Num GPUs Available:  1\n"
     ]
    }
   ],
   "source": [
    "import tensorflow as tf\n",
    "print(\"Num GPUs Available: \", len(tf.config.experimental.list_physical_devices('GPU')))\n",
    "tf.config.experimental.list_physical_devices('GPU') \n",
    "physical_devices = tf.config.experimental.list_physical_devices('GPU')\n",
    "assert len(physical_devices) > 0, \"Not enough GPU hardware devices available\"\n",
    "tf.config.experimental.set_memory_growth(physical_devices[0], True)\n",
    "tf.debugging.set_log_device_placement(False)"
   ]
  },
  {
   "cell_type": "code",
   "execution_count": 3,
   "metadata": {},
   "outputs": [
    {
     "name": "stdout",
     "output_type": "stream",
     "text": [
      "2.0.0\n",
      "10.0\n",
      "7.6\n"
     ]
    }
   ],
   "source": [
    "#Tensorflow version \n",
    "print(tf.__version__)\n",
    "from tensorflow.python.platform import build_info as tf_build_info\n",
    "print(tf_build_info.cuda_version_number)\n",
    "# Cuda Version 9.0 in v1.10.0\n",
    "print(tf_build_info.cudnn_version_number)\n",
    "# CudNN 7 in v1.10.0"
   ]
  },
  {
   "cell_type": "code",
   "execution_count": 4,
   "metadata": {},
   "outputs": [],
   "source": [
    "# Define the name of the model \n",
    "Model_directory = \"MODELK15\"\n",
    "Model_name = \"ModelK15_0\"\n",
    "TRAIN = True"
   ]
  },
  {
   "cell_type": "code",
   "execution_count": 5,
   "metadata": {},
   "outputs": [
    {
     "name": "stdout",
     "output_type": "stream",
     "text": [
      "['confusion_ROC_AUC', 'create_column_tensor', 'create_label_tensor', 'create_val_test', 'define_dirs', 'extract_images_bm', 'extract_images_train', 'load_hist_model', 'load_images', 'load_images_tf', 'model_load', 'model_load_tf', 'plot_save_acc_loss', 'print_network', 'process_clinical_info', 'read_dataframes', 'read_dataframes_tables', 'reproducible_results', 'save_model', 'save_model_no_opt', 'save_network_json', 'start', 'stop', 'to_one_hot', 'to_one_hot_words', 'xi_squared']\n"
     ]
    }
   ],
   "source": [
    "# Import routines\n",
    "import sys  \n",
    "subrc_dir = \"/home/valborsf/Documents/UOC/PFMProject/\"\n",
    "\n",
    "sys.path.append(subrc_dir)  \n",
    "from  Models_routines import *\n",
    "import inspect\n",
    "\n",
    "# List functions inside the module\n",
    "import Models_routines as module\n",
    "functions = inspect.getmembers(module, inspect.isfunction)\n",
    "lsfunctions = [item[0] for item in functions]\n",
    "print ( lsfunctions )"
   ]
  },
  {
   "cell_type": "code",
   "execution_count": 6,
   "metadata": {},
   "outputs": [],
   "source": [
    "# Reproducible results \n",
    "reproducible_results ()"
   ]
  },
  {
   "cell_type": "code",
   "execution_count": 7,
   "metadata": {},
   "outputs": [],
   "source": [
    "# Define directories\n",
    "(root_dir,json_dir,imag_dir,csv_dir,model_json_dir,model_bin_dir,results_dir,Tensor_dir) = define_dirs(Model_directory)"
   ]
  },
  {
   "cell_type": "code",
   "execution_count": 8,
   "metadata": {},
   "outputs": [],
   "source": [
    "# New dataset without SONIC disturbing images\n",
    "json_dir =  root_dir +\"/DataNew/ALL_JSON/\"                # .json dir images\n",
    "imag_dir =  root_dir +\"/DataNew/ALL_IMAGES/\"              # .png dir - images\n",
    "\n",
    "# directories for  CSV's\n",
    "csv_dir =  root_dir +\"/DataNew4/CSV/\"                      # .csv dir - dftrain, dfval, dftest"
   ]
  },
  {
   "cell_type": "code",
   "execution_count": 9,
   "metadata": {},
   "outputs": [
    {
     "name": "stdout",
     "output_type": "stream",
     "text": [
      "/home/valborsf/Documents/UOC/PFMProject/DataNew4/CSV/\n"
     ]
    }
   ],
   "source": [
    "# Load train,validation & Test \n",
    "(dftrain, dfval, dftest) = read_dataframes(csv_dir)"
   ]
  },
  {
   "cell_type": "code",
   "execution_count": 10,
   "metadata": {},
   "outputs": [],
   "source": [
    "# Define the label tensor\n",
    "train_label_tensor = create_label_tensor(dftrain)\n",
    "val_label_tensor = create_label_tensor(dfval)\n",
    "#test_label_tensor = create_label_tensor(dftest)"
   ]
  },
  {
   "cell_type": "code",
   "execution_count": 11,
   "metadata": {},
   "outputs": [
    {
     "name": "stdout",
     "output_type": "stream",
     "text": [
      "(2100, 150, 150, 3)\n",
      "(700, 150, 150, 3)\n"
     ]
    }
   ],
   "source": [
    "# Create tensors from images\n",
    "# Load Images \n",
    "height_imag = 150 \n",
    "width_imag = 150\n",
    "# This step is very time consuming !!!!!!!\n",
    "train_image_tensor  = load_images_tf(dftrain,height_imag,width_imag)\n",
    "val_image_tensor  = load_images_tf(dfval,height_imag,width_imag)\n",
    "#test_image_tensor  = load_images(dftest,height_imag,width_imag)"
   ]
  },
  {
   "cell_type": "code",
   "execution_count": 12,
   "metadata": {},
   "outputs": [],
   "source": [
    "#import keras\n",
    "from tensorflow.keras.models import Model\n",
    "from tensorflow.keras import layers\n",
    "from tensorflow.keras import Input\n",
    "from tensorflow.keras import regularizers\n",
    "from tensorflow.keras.callbacks import ModelCheckpoint\n",
    "\n",
    "\n",
    "# Model 1 : Image to Predict Melanoma\n",
    "\n",
    "image_inputs = Input(shape=(height_imag,width_imag,3))\n",
    "m2 = layers.Conv2D(64, (3,3), activation='relu')(image_inputs)\n",
    "m3 = layers.MaxPooling2D((2,2))(m2)\n",
    "m4 = layers.Conv2D(32, (3,3),  activation='relu')(m3)\n",
    "m5 = layers.MaxPooling2D((2,2))(m4)\n",
    "m6 = layers.Conv2D(128, (3,3), activation='relu')(m5)\n",
    "m7 = layers.MaxPooling2D((2,2))(m6)\n",
    "m8 = layers.Flatten()(m7)\n",
    "m9 = layers.Dense (512, activation='relu')(m8)\n",
    "m10 = layers.Dropout(0.23)(m9)\n",
    "benign_malign = layers.Dense (1, activation='sigmoid')(m10)\n",
    "\n",
    "\n",
    "# Model instantiation\n",
    "model = Model(image_inputs, benign_malign)\n",
    "\n"
   ]
  },
  {
   "cell_type": "code",
   "execution_count": 13,
   "metadata": {},
   "outputs": [
    {
     "name": "stdout",
     "output_type": "stream",
     "text": [
      "Model: \"model\"\n",
      "_________________________________________________________________\n",
      "Layer (type)                 Output Shape              Param #   \n",
      "=================================================================\n",
      "input_1 (InputLayer)         [(None, 150, 150, 3)]     0         \n",
      "_________________________________________________________________\n",
      "conv2d (Conv2D)              (None, 148, 148, 64)      1792      \n",
      "_________________________________________________________________\n",
      "max_pooling2d (MaxPooling2D) (None, 74, 74, 64)        0         \n",
      "_________________________________________________________________\n",
      "conv2d_1 (Conv2D)            (None, 72, 72, 32)        18464     \n",
      "_________________________________________________________________\n",
      "max_pooling2d_1 (MaxPooling2 (None, 36, 36, 32)        0         \n",
      "_________________________________________________________________\n",
      "conv2d_2 (Conv2D)            (None, 34, 34, 128)       36992     \n",
      "_________________________________________________________________\n",
      "max_pooling2d_2 (MaxPooling2 (None, 17, 17, 128)       0         \n",
      "_________________________________________________________________\n",
      "flatten (Flatten)            (None, 36992)             0         \n",
      "_________________________________________________________________\n",
      "dense (Dense)                (None, 512)               18940416  \n",
      "_________________________________________________________________\n",
      "dropout (Dropout)            (None, 512)               0         \n",
      "_________________________________________________________________\n",
      "dense_1 (Dense)              (None, 1)                 513       \n",
      "=================================================================\n",
      "Total params: 18,998,177\n",
      "Trainable params: 18,998,177\n",
      "Non-trainable params: 0\n",
      "_________________________________________________________________\n"
     ]
    }
   ],
   "source": [
    "model.summary()"
   ]
  },
  {
   "cell_type": "code",
   "execution_count": 14,
   "metadata": {},
   "outputs": [],
   "source": [
    "#Print Network \n",
    "print_network (results_dir, model, Model_name)\n",
    "#Save Network \n",
    "save_network_json (model_json_dir, model, Model_name)"
   ]
  },
  {
   "cell_type": "code",
   "execution_count": 15,
   "metadata": {},
   "outputs": [],
   "source": [
    "# Model Compile\n",
    "from tensorflow.keras import optimizers\n",
    "model.compile ( loss='binary_crossentropy',\n",
    "#               optimizer = optimizers.RMSprop(lr=1e-4),\n",
    "               optimizer = optimizers.Adam(lr=1e-4),\n",
    "               metrics= ['acc'])"
   ]
  },
  {
   "cell_type": "code",
   "execution_count": 16,
   "metadata": {},
   "outputs": [],
   "source": [
    "# Callbacks\n",
    "callbacks_list = [\n",
    "# EarlyStopping when the model does not improve in loss\n",
    "\n",
    "         tf.keras.callbacks.EarlyStopping (\n",
    "             monitor = 'val_loss',             # Monitors the accuracy\n",
    "             verbose=1,                        # log when finishes\n",
    "             patience = 4,),                   # Interrupt if acc no improve in 4 epochs\n",
    "\n",
    "#  ModelCheckpoint to store the weights of the best performing epoch. \n",
    "    \n",
    "         tf.keras.callbacks.ModelCheckpoint(filepath=model_bin_dir+\"Best_weights\"+Model_name+\".hdf5\", \n",
    "             monitor = 'val_loss', # Won't overwritte the model file unless val_loss has\n",
    "             verbose=1,            # improve \n",
    "             save_best_only=True),\n",
    "         \n",
    "#         keras.callbacks.TensorBoard(\n",
    "#             log_dir =  Tensor_dir, \n",
    "#            histogram_freq = 1,\n",
    "#            )\n",
    "#        tf.keras.callbacks.ProgbarLogger(count_mode='samples')             # Display of log show samples seen \n",
    "                ]"
   ]
  },
  {
   "cell_type": "code",
   "execution_count": 17,
   "metadata": {},
   "outputs": [
    {
     "name": "stdout",
     "output_type": "stream",
     "text": [
      "Train on 2100 samples, validate on 700 samples\n",
      "Epoch 1/100\n",
      "2048/2100 [============================>.] - ETA: 0s - loss: 0.7029 - acc: 0.5039\n",
      "Epoch 00001: val_loss improved from inf to 0.68506, saving model to /home/valborsf/Documents/UOC/PFMProject/MODELK15/BMODEL/Best_weightsModelK15_0.hdf5\n",
      "2100/2100 [==============================] - 6s 3ms/sample - loss: 0.7026 - acc: 0.5043 - val_loss: 0.6851 - val_acc: 0.6586\n",
      "Epoch 2/100\n",
      "2048/2100 [============================>.] - ETA: 0s - loss: 0.6804 - acc: 0.5991\n",
      "Epoch 00002: val_loss improved from 0.68506 to 0.66044, saving model to /home/valborsf/Documents/UOC/PFMProject/MODELK15/BMODEL/Best_weightsModelK15_0.hdf5\n",
      "2100/2100 [==============================] - 3s 1ms/sample - loss: 0.6803 - acc: 0.5986 - val_loss: 0.6604 - val_acc: 0.5700\n",
      "Epoch 3/100\n",
      "2048/2100 [============================>.] - ETA: 0s - loss: 0.6531 - acc: 0.6240\n",
      "Epoch 00003: val_loss improved from 0.66044 to 0.62808, saving model to /home/valborsf/Documents/UOC/PFMProject/MODELK15/BMODEL/Best_weightsModelK15_0.hdf5\n",
      "2100/2100 [==============================] - 3s 1ms/sample - loss: 0.6534 - acc: 0.6214 - val_loss: 0.6281 - val_acc: 0.6300\n",
      "Epoch 4/100\n",
      "2048/2100 [============================>.] - ETA: 0s - loss: 0.6257 - acc: 0.6440\n",
      "Epoch 00004: val_loss improved from 0.62808 to 0.59855, saving model to /home/valborsf/Documents/UOC/PFMProject/MODELK15/BMODEL/Best_weightsModelK15_0.hdf5\n",
      "2100/2100 [==============================] - 3s 1ms/sample - loss: 0.6258 - acc: 0.6424 - val_loss: 0.5985 - val_acc: 0.6729\n",
      "Epoch 5/100\n",
      "2048/2100 [============================>.] - ETA: 0s - loss: 0.6093 - acc: 0.6606\n",
      "Epoch 00005: val_loss improved from 0.59855 to 0.58142, saving model to /home/valborsf/Documents/UOC/PFMProject/MODELK15/BMODEL/Best_weightsModelK15_0.hdf5\n",
      "2100/2100 [==============================] - 3s 1ms/sample - loss: 0.6104 - acc: 0.6576 - val_loss: 0.5814 - val_acc: 0.6871\n",
      "Epoch 6/100\n",
      "2048/2100 [============================>.] - ETA: 0s - loss: 0.6117 - acc: 0.6416\n",
      "Epoch 00006: val_loss did not improve from 0.58142\n",
      "2100/2100 [==============================] - 2s 1ms/sample - loss: 0.6113 - acc: 0.6419 - val_loss: 0.5843 - val_acc: 0.7086\n",
      "Epoch 7/100\n",
      "2048/2100 [============================>.] - ETA: 0s - loss: 0.5921 - acc: 0.6646\n",
      "Epoch 00007: val_loss improved from 0.58142 to 0.56506, saving model to /home/valborsf/Documents/UOC/PFMProject/MODELK15/BMODEL/Best_weightsModelK15_0.hdf5\n",
      "2100/2100 [==============================] - 3s 1ms/sample - loss: 0.5931 - acc: 0.6633 - val_loss: 0.5651 - val_acc: 0.6971\n",
      "Epoch 8/100\n",
      "2048/2100 [============================>.] - ETA: 0s - loss: 0.5569 - acc: 0.7070\n",
      "Epoch 00008: val_loss improved from 0.56506 to 0.54968, saving model to /home/valborsf/Documents/UOC/PFMProject/MODELK15/BMODEL/Best_weightsModelK15_0.hdf5\n",
      "2100/2100 [==============================] - 3s 1ms/sample - loss: 0.5591 - acc: 0.7048 - val_loss: 0.5497 - val_acc: 0.7129\n",
      "Epoch 9/100\n",
      "2048/2100 [============================>.] - ETA: 0s - loss: 0.5515 - acc: 0.7046\n",
      "Epoch 00009: val_loss improved from 0.54968 to 0.54063, saving model to /home/valborsf/Documents/UOC/PFMProject/MODELK15/BMODEL/Best_weightsModelK15_0.hdf5\n",
      "2100/2100 [==============================] - 3s 1ms/sample - loss: 0.5505 - acc: 0.7048 - val_loss: 0.5406 - val_acc: 0.7100\n",
      "Epoch 10/100\n",
      "2048/2100 [============================>.] - ETA: 0s - loss: 0.5541 - acc: 0.7007\n",
      "Epoch 00010: val_loss improved from 0.54063 to 0.52090, saving model to /home/valborsf/Documents/UOC/PFMProject/MODELK15/BMODEL/Best_weightsModelK15_0.hdf5\n",
      "2100/2100 [==============================] - 3s 1ms/sample - loss: 0.5514 - acc: 0.7038 - val_loss: 0.5209 - val_acc: 0.7557\n",
      "Epoch 11/100\n",
      "2048/2100 [============================>.] - ETA: 0s - loss: 0.5238 - acc: 0.7222\n",
      "Epoch 00011: val_loss improved from 0.52090 to 0.50991, saving model to /home/valborsf/Documents/UOC/PFMProject/MODELK15/BMODEL/Best_weightsModelK15_0.hdf5\n",
      "2100/2100 [==============================] - 3s 1ms/sample - loss: 0.5259 - acc: 0.7190 - val_loss: 0.5099 - val_acc: 0.7514\n",
      "Epoch 12/100\n",
      "2048/2100 [============================>.] - ETA: 0s - loss: 0.5167 - acc: 0.7319\n",
      "Epoch 00012: val_loss improved from 0.50991 to 0.50720, saving model to /home/valborsf/Documents/UOC/PFMProject/MODELK15/BMODEL/Best_weightsModelK15_0.hdf5\n",
      "2100/2100 [==============================] - 3s 1ms/sample - loss: 0.5176 - acc: 0.7310 - val_loss: 0.5072 - val_acc: 0.7500\n",
      "Epoch 13/100\n",
      "2048/2100 [============================>.] - ETA: 0s - loss: 0.5052 - acc: 0.7275\n",
      "Epoch 00013: val_loss improved from 0.50720 to 0.50005, saving model to /home/valborsf/Documents/UOC/PFMProject/MODELK15/BMODEL/Best_weightsModelK15_0.hdf5\n",
      "2100/2100 [==============================] - 3s 1ms/sample - loss: 0.5086 - acc: 0.7243 - val_loss: 0.5000 - val_acc: 0.7471\n",
      "Epoch 14/100\n",
      "2048/2100 [============================>.] - ETA: 0s - loss: 0.5051 - acc: 0.7378\n",
      "Epoch 00014: val_loss improved from 0.50005 to 0.49445, saving model to /home/valborsf/Documents/UOC/PFMProject/MODELK15/BMODEL/Best_weightsModelK15_0.hdf5\n",
      "2100/2100 [==============================] - 3s 1ms/sample - loss: 0.5052 - acc: 0.7357 - val_loss: 0.4944 - val_acc: 0.7543\n",
      "Epoch 15/100\n",
      "2048/2100 [============================>.] - ETA: 0s - loss: 0.4999 - acc: 0.7407\n",
      "Epoch 00015: val_loss improved from 0.49445 to 0.49107, saving model to /home/valborsf/Documents/UOC/PFMProject/MODELK15/BMODEL/Best_weightsModelK15_0.hdf5\n",
      "2100/2100 [==============================] - 3s 1ms/sample - loss: 0.4998 - acc: 0.7424 - val_loss: 0.4911 - val_acc: 0.7557\n",
      "Epoch 16/100\n",
      "2048/2100 [============================>.] - ETA: 0s - loss: 0.4922 - acc: 0.7349\n",
      "Epoch 00016: val_loss did not improve from 0.49107\n",
      "2100/2100 [==============================] - 2s 1ms/sample - loss: 0.4912 - acc: 0.7367 - val_loss: 0.4954 - val_acc: 0.7414\n",
      "Epoch 17/100\n",
      "2048/2100 [============================>.] - ETA: 0s - loss: 0.4914 - acc: 0.7476\n",
      "Epoch 00017: val_loss did not improve from 0.49107\n",
      "2100/2100 [==============================] - 2s 1ms/sample - loss: 0.4911 - acc: 0.7467 - val_loss: 0.5155 - val_acc: 0.7100\n",
      "Epoch 18/100\n",
      "2048/2100 [============================>.] - ETA: 0s - loss: 0.4933 - acc: 0.7466\n",
      "Epoch 00018: val_loss did not improve from 0.49107\n",
      "2100/2100 [==============================] - 2s 1ms/sample - loss: 0.4940 - acc: 0.7471 - val_loss: 0.5203 - val_acc: 0.7014\n",
      "Epoch 19/100\n",
      "2048/2100 [============================>.] - ETA: 0s - loss: 0.4896 - acc: 0.7446\n",
      "Epoch 00019: val_loss did not improve from 0.49107\n",
      "2100/2100 [==============================] - 2s 1ms/sample - loss: 0.4923 - acc: 0.7438 - val_loss: 0.4929 - val_acc: 0.7543\n",
      "Epoch 00019: early stopping\n",
      "Time spent in training :00:00:52\n"
     ]
    }
   ],
   "source": [
    "# Model fit\n",
    "epochs= 100\n",
    "batch_size = 128 \n",
    "import time\n",
    "start_time = time.time()\n",
    "history = model.fit (\n",
    "           train_image_tensor, \n",
    "           train_label_tensor, \n",
    "           epochs = epochs, \n",
    "           batch_size = batch_size, \n",
    "           callbacks=callbacks_list,\n",
    "           validation_data =( val_image_tensor,val_label_tensor))\n",
    "\n",
    "\n",
    "elapsed_time = time.time() - start_time\n",
    "\n",
    "print( time.strftime('Time spent in training :'\"%H:%M:%S\", time.gmtime(elapsed_time)))\n",
    "\n",
    "save_model(model, history, model_bin_dir, Model_name)"
   ]
  },
  {
   "cell_type": "code",
   "execution_count": 18,
   "metadata": {},
   "outputs": [],
   "source": [
    "# Import Model Test if not need to Train \n",
    "if not TRAIN :\n",
    "    model = model_load ( model_bin_dir, Model_name)"
   ]
  },
  {
   "cell_type": "code",
   "execution_count": 19,
   "metadata": {},
   "outputs": [
    {
     "data": {
      "image/png": "[encoded data removed]",
      "text/plain": [
       "<Figure size 432x288 with 1 Axes>"
      ]
     },
     "metadata": {
      "needs_background": "light"
     },
     "output_type": "display_data"
    },
    {
     "data": {
      "image/png": "[encoded data removed]",
      "text/plain": [
       "<Figure size 432x288 with 1 Axes>"
      ]
     },
     "metadata": {
      "needs_background": "light"
     },
     "output_type": "display_data"
    }
   ],
   "source": [
    "# Display curves of loss and accuracy during training and save results \n",
    "plot_save_acc_loss(results_dir, history.history, Model_name)"
   ]
  },
  {
   "cell_type": "code",
   "execution_count": 20,
   "metadata": {},
   "outputs": [],
   "source": [
    "# Load Model \n",
    "# Load weights \n",
    "# Import with this compatibility to solve the problem \n",
    "# module 'tensorflow' has no attribute 'placeholder'`.\n",
    "\n",
    " \n",
    "#model = build_model()\n",
    "#model.load_weights('my_weights.model')\n",
    "TRAIN = False\n",
    "if not TRAIN :\n",
    "    Model_name = \"ModelK15_0\"\n",
    "    model = model_load_tf ( model_bin_dir, Model_name)\n",
    "    model.load_weights(model_bin_dir+\"Best_weights\"+Model_name+\".hdf5\")"
   ]
  },
  {
   "cell_type": "code",
   "execution_count": 21,
   "metadata": {},
   "outputs": [
    {
     "name": "stdout",
     "output_type": "stream",
     "text": [
      "(700, 150, 150, 3)\n"
     ]
    }
   ],
   "source": [
    "# Create tensors from images\n",
    "# Load Images \n",
    "\n",
    "# This step is very time consuming !!!!!!!\n",
    "\n",
    "test_image_tensor  = load_images_tf(dftest,height_imag,width_imag)"
   ]
  },
  {
   "cell_type": "code",
   "execution_count": 22,
   "metadata": {},
   "outputs": [],
   "source": [
    "# Define the label tensor\n",
    "test_label_tensor = create_label_tensor(dftest)"
   ]
  },
  {
   "cell_type": "code",
   "execution_count": 23,
   "metadata": {},
   "outputs": [
    {
     "name": "stdout",
     "output_type": "stream",
     "text": [
      "700/1 - 1s - loss: 0.4925 - acc: 0.7229\n"
     ]
    }
   ],
   "source": [
    "#  ROC /AUC\n",
    "scores = model.evaluate(test_image_tensor, test_label_tensor, verbose=2)"
   ]
  },
  {
   "cell_type": "code",
   "execution_count": 24,
   "metadata": {},
   "outputs": [
    {
     "data": {
      "text/plain": [
       "[0.5068459267275675, 0.7228571]"
      ]
     },
     "execution_count": 24,
     "metadata": {},
     "output_type": "execute_result"
    }
   ],
   "source": [
    "model.metrics_names\n",
    "scores"
   ]
  },
  {
   "cell_type": "code",
   "execution_count": 25,
   "metadata": {},
   "outputs": [],
   "source": [
    "# Loss 0.50  Acc=0.72"
   ]
  },
  {
   "cell_type": "code",
   "execution_count": 26,
   "metadata": {},
   "outputs": [],
   "source": [
    "# Compute predictions\n",
    "# This takes time !!!!!!!!!!!!!!!!!!!!!!!!!!!!!!!!!\n",
    "y_pred_keras = model.predict(test_image_tensor).ravel()   # y_pred_probabilities\n",
    "y_pred = y_pred_keras > 0.5                                # y_pred_class : if >0.5  = True => Malignant\n",
    "y_test = dftest.bm.astype('category').cat.codes            # Ground truth \n",
    "class_labels= dftest.bm.unique()                           # Labels of ground truth \n"
   ]
  },
  {
   "cell_type": "code",
   "execution_count": 27,
   "metadata": {},
   "outputs": [
    {
     "name": "stdout",
     "output_type": "stream",
     "text": [
      "Metrics ModelK15_0\n",
      "===========================================\n",
      "Confusion Matrix:\n",
      "[[212 128]\n",
      " [ 66 294]]\n",
      "+----------------------------+-------------+\n",
      "|            Type            |  # samples  |\n",
      "+============================+=============+\n",
      "| True Positives- Malignants | 294         |\n",
      "+----------------------------+-------------+\n",
      "| True Negatives- Benign     | 212         |\n",
      "+----------------------------+-------------+\n",
      "| False Positive             | 128         |\n",
      "+----------------------------+-------------+\n",
      "| False Negative             | 66          |\n",
      "+----------------------------+-------------+\n",
      "Summary classification Report: \n",
      "              precision    recall  f1-score   support\n",
      "\n",
      "   malignant       0.76      0.62      0.69       340\n",
      "      benign       0.70      0.82      0.75       360\n",
      "\n",
      "    accuracy                           0.72       700\n",
      "   macro avg       0.73      0.72      0.72       700\n",
      "weighted avg       0.73      0.72      0.72       700\n",
      "\n",
      "+-------------+---------+\n",
      "|   Metrics   |         |\n",
      "+=============+=========+\n",
      "| Accuracy    | 0.720   |\n",
      "+-------------+---------+\n",
      "| Sensitivity | 0.820   |\n",
      "+-------------+---------+\n",
      "| Specificity | 0.620   |\n",
      "+-------------+---------+\n",
      "| AUC         | 0.810   |\n",
      "+-------------+---------+\n"
     ]
    },
    {
     "data": {
      "image/png": "[encoded data removed]",
      "text/plain": [
       "<Figure size 432x288 with 1 Axes>"
      ]
     },
     "metadata": {
      "needs_background": "light"
     },
     "output_type": "display_data"
    },
    {
     "data": {
      "image/png": "[encoded data removed]",
      "text/plain": [
       "<Figure size 432x288 with 1 Axes>"
      ]
     },
     "metadata": {
      "needs_background": "light"
     },
     "output_type": "display_data"
    }
   ],
   "source": [
    "#Print Metrics + Confusion ROC AUC\n",
    "confusion_ROC_AUC ( y_test, y_pred, y_pred_keras, class_labels, results_dir, Model_name )"
   ]
  },
  {
   "cell_type": "code",
   "execution_count": 28,
   "metadata": {},
   "outputs": [],
   "source": [
    "tf.keras.backend.clear_session()  # Reset"
   ]
  },
  {
   "cell_type": "code",
   "execution_count": null,
   "metadata": {},
   "outputs": [],
   "source": []
  }
 ],
 "metadata": {
  "accelerator": "GPU",
  "colab": {
   "collapsed_sections": [],
   "name": "Preprocess_Fit4.ipynb",
   "provenance": []
  },
  "kernelspec": {
   "display_name": "ktf2",
   "language": "python",
   "name": "ktf2"
  },
  "language_info": {
   "codemirror_mode": {
    "name": "ipython",
    "version": 3
   },
   "file_extension": ".py",
   "mimetype": "text/x-python",
   "name": "python",
   "nbconvert_exporter": "python",
   "pygments_lexer": "ipython3",
   "version": "3.7.6"
  }
 },
 "nbformat": 4,
 "nbformat_minor": 1
}

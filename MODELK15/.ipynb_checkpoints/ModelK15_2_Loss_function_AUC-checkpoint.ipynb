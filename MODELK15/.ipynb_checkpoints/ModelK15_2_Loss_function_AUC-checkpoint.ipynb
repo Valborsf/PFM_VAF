{
 "cells": [
  {
   "cell_type": "markdown",
   "metadata": {
    "colab_type": "text",
    "id": "Ur34g7Fbi5lr"
   },
   "source": [
    "# Notebook- Model K15_2 - Custom Loss Function AUC\n",
    "# Author : V.Albors   Date : 05.04.2020\n",
    "# Purpose : Create Custom Loss Function \n",
    "\n",
    "\n",
    "\n",
    "**Input** :  \n",
    "  * CSV files that identify the images to use as train and validation. CSV files are in directory csv_dir   \n",
    "  * Images from train and validation. Images are in directory : imag_dir  \n",
    "  * Saved model. Model is in directory : model_bin_dir  \n",
    "  \n",
    "**Output**:  \n",
    "  * JMODEL dir - Json network model\n",
    "  * BMODEL dir - Optimum model with weights\n",
    "  * RESULTS dir - Print of Network architecture \n",
    "                - Train and Validation Accuracy and Loss Curves\n",
    "                - Metrics of the Model \n",
    "\n",
    " **Process**:  \n",
    " * Read Train and Validation images ( identified in the .csv files ) from the imag_dir directory   \n",
    " * Create a train and validation input & label tensors (no augmentation)\n",
    " * Define the architecture of model  \n",
    " * Define a custom loss function                       \n",
    " * Train the model with the train dataset with callbacks (  ModuleCheckPoint , Early Stopping)\n",
    " * Save the trained model and history of the model in directory model_bin_dir \n",
    " * Paint the Accuracy and Loss curves\n",
    " * Create results : Metrics \n",
    " "
   ]
  },
  {
   "cell_type": "code",
   "execution_count": 1,
   "metadata": {},
   "outputs": [],
   "source": [
    "from __future__ import absolute_import, division, print_function, unicode_literals\n",
    "import tensorflow as tf\n",
    "\n",
    "tf.keras.backend.clear_session()  # Reset"
   ]
  },
  {
   "cell_type": "code",
   "execution_count": 2,
   "metadata": {},
   "outputs": [
    {
     "name": "stdout",
     "output_type": "stream",
     "text": [
      "Num GPUs Available:  1\n"
     ]
    }
   ],
   "source": [
    "import tensorflow as tf\n",
    "print(\"Num GPUs Available: \", len(tf.config.experimental.list_physical_devices('GPU')))\n",
    "tf.config.experimental.list_physical_devices('GPU') \n",
    "physical_devices = tf.config.experimental.list_physical_devices('GPU')\n",
    "assert len(physical_devices) > 0, \"Not enough GPU hardware devices available\"\n",
    "tf.config.experimental.set_memory_growth(physical_devices[0], True)\n",
    "#tf.debugging.set_log_device_placement(True)"
   ]
  },
  {
   "cell_type": "code",
   "execution_count": 3,
   "metadata": {},
   "outputs": [
    {
     "name": "stdout",
     "output_type": "stream",
     "text": [
      "2.0.0\n",
      "10.0\n",
      "7.6\n"
     ]
    }
   ],
   "source": [
    "#Tensorflow version \n",
    "print(tf.__version__)\n",
    "from tensorflow.python.platform import build_info as tf_build_info\n",
    "print(tf_build_info.cuda_version_number)\n",
    "# Cuda Version 9.0 in v1.10.0\n",
    "print(tf_build_info.cudnn_version_number)\n",
    "# CudNN 7 in v1.10.0"
   ]
  },
  {
   "cell_type": "code",
   "execution_count": 4,
   "metadata": {},
   "outputs": [],
   "source": [
    "# Define the name of the model \n",
    "Model_directory = \"MODELK15\"\n",
    "Model_name = \"ModelK15_1\"\n",
    "TRAIN = True"
   ]
  },
  {
   "cell_type": "code",
   "execution_count": 5,
   "metadata": {},
   "outputs": [
    {
     "name": "stdout",
     "output_type": "stream",
     "text": [
      "['confusion_ROC_AUC', 'create_column_tensor', 'create_label_tensor', 'create_val_test', 'define_dirs', 'extract_images_bm', 'extract_images_train', 'load_hist_model', 'load_images', 'load_images_tf', 'model_load', 'model_load_tf', 'model_load_tf_custom_loss', 'plot_save_acc_loss', 'print_network', 'process_clinical_info', 'read_dataframes', 'read_dataframes_tables', 'reproducible_results', 'save_model', 'save_model_no_opt', 'save_network_json', 'start', 'stop', 'to_one_hot', 'to_one_hot_words', 'xi_squared']\n"
     ]
    }
   ],
   "source": [
    "# Import routines\n",
    "import sys  \n",
    "subrc_dir = \"/home/valborsf/Documents/UOC/PFMProject/\"\n",
    "\n",
    "sys.path.append(subrc_dir)  \n",
    "from  Models_routines import *\n",
    "import inspect\n",
    "\n",
    "# List functions inside the module\n",
    "import Models_routines as module\n",
    "functions = inspect.getmembers(module, inspect.isfunction)\n",
    "lsfunctions = [item[0] for item in functions]\n",
    "print ( lsfunctions )"
   ]
  },
  {
   "cell_type": "code",
   "execution_count": 6,
   "metadata": {},
   "outputs": [],
   "source": [
    "# Reproducible results \n",
    "reproducible_results ()"
   ]
  },
  {
   "cell_type": "code",
   "execution_count": 7,
   "metadata": {},
   "outputs": [],
   "source": [
    "# Define directories\n",
    "(root_dir,json_dir,imag_dir,csv_dir,model_json_dir,model_bin_dir,results_dir,Tensor_dir) = define_dirs(Model_directory)"
   ]
  },
  {
   "cell_type": "code",
   "execution_count": 8,
   "metadata": {},
   "outputs": [],
   "source": [
    "# New dataset without SONIC disturbing images\n",
    "json_dir =  root_dir +\"/DataNew/ALL_JSON/\"                # .json dir images\n",
    "imag_dir =  root_dir +\"/DataNew/ALL_IMAGES/\"              # .png dir - images\n",
    "\n",
    "# directories for  CSV's\n",
    "csv_dir =  root_dir +\"/DataNew4/CSV/\"                      # .csv dir - dftrain, dfval, dftest"
   ]
  },
  {
   "cell_type": "code",
   "execution_count": 9,
   "metadata": {},
   "outputs": [
    {
     "name": "stdout",
     "output_type": "stream",
     "text": [
      "/home/valborsf/Documents/UOC/PFMProject/DataNew4/CSV/\n"
     ]
    }
   ],
   "source": [
    "# Load train,validation & Test \n",
    "(dftrain, dfval, dftest) = read_dataframes(csv_dir)"
   ]
  },
  {
   "cell_type": "code",
   "execution_count": 10,
   "metadata": {},
   "outputs": [],
   "source": [
    "# Define the label tensor\n",
    "train_label_tensor = create_label_tensor(dftrain)\n",
    "val_label_tensor = create_label_tensor(dfval)\n",
    "#test_label_tensor = create_label_tensor(dftest)"
   ]
  },
  {
   "cell_type": "code",
   "execution_count": 11,
   "metadata": {},
   "outputs": [
    {
     "name": "stdout",
     "output_type": "stream",
     "text": [
      "(2100, 150, 150, 3)\n",
      "(700, 150, 150, 3)\n"
     ]
    }
   ],
   "source": [
    "# Create tensors from images\n",
    "# Load Images \n",
    "height_imag = 150 \n",
    "width_imag = 150\n",
    "# This step is very time consuming !!!!!!!\n",
    "train_image_tensor  = load_images_tf(dftrain,height_imag,width_imag)\n",
    "val_image_tensor  = load_images_tf(dfval,height_imag,width_imag)\n",
    "#test_image_tensor  = load_images(dftest,height_imag,width_imag)"
   ]
  },
  {
   "cell_type": "code",
   "execution_count": 12,
   "metadata": {},
   "outputs": [
    {
     "name": "stdout",
     "output_type": "stream",
     "text": [
      "(2100, 150, 150, 3)\n",
      "4\n",
      "(10, 150, 150, 3)\n",
      "4\n",
      "[0. 1. 0. 0. 1. 0. 0. 1. 1. 0.]\n",
      "(10,)\n",
      "1\n"
     ]
    }
   ],
   "source": [
    "# This part is to make trials with less samples \n",
    "print ( train_image_tensor.shape)\n",
    "print ( train_image_tensor.ndim)\n",
    "slice_10_pictures = train_image_tensor[0:10]\n",
    "slice_10_labels = train_label_tensor [0:10]\n",
    "val_10_pictures = val_image_tensor[0:10]\n",
    "val_10_labels = val_label_tensor [0:10]\n",
    "print ( slice_10_pictures.shape)\n",
    "print ( slice_10_pictures.ndim)\n",
    "print ( slice_10_labels)\n",
    "print ( slice_10_labels.shape)\n",
    "print ( slice_10_labels.ndim)"
   ]
  },
  {
   "cell_type": "code",
   "execution_count": 13,
   "metadata": {},
   "outputs": [],
   "source": [
    "#import keras\n",
    "from tensorflow.keras.models import Model\n",
    "from tensorflow.keras import layers\n",
    "from tensorflow.keras import Input\n",
    "from tensorflow.keras import regularizers\n",
    "from tensorflow.keras.callbacks import ModelCheckpoint\n",
    "\n",
    "\n",
    "# Model 1 : Image to Predict Melanoma\n",
    "\n",
    "image_inputs = Input(shape=(height_imag,width_imag,3))\n",
    "m2 = layers.Conv2D(64, (3,3), activation='relu')(image_inputs)\n",
    "m3 = layers.MaxPooling2D((2,2))(m2)\n",
    "m4 = layers.Conv2D(32, (3,3),  activation='relu')(m3)\n",
    "m5 = layers.MaxPooling2D((2,2))(m4)\n",
    "m6 = layers.Conv2D(128, (3,3), activation='relu')(m5)\n",
    "m7 = layers.MaxPooling2D((2,2))(m6)\n",
    "m8 = layers.Flatten()(m7)\n",
    "m9 = layers.Dense (512, activation='relu')(m8)\n",
    "m10 = layers.Dropout(0.23)(m9)\n",
    "benign_malign = layers.Dense (1, activation='sigmoid')(m10)\n",
    "\n",
    "\n",
    "# Model instantiation\n",
    "model = Model(image_inputs, benign_malign)\n"
   ]
  },
  {
   "cell_type": "code",
   "execution_count": 14,
   "metadata": {},
   "outputs": [
    {
     "name": "stdout",
     "output_type": "stream",
     "text": [
      "Model: \"model\"\n",
      "_________________________________________________________________\n",
      "Layer (type)                 Output Shape              Param #   \n",
      "=================================================================\n",
      "input_1 (InputLayer)         [(None, 150, 150, 3)]     0         \n",
      "_________________________________________________________________\n",
      "conv2d (Conv2D)              (None, 148, 148, 64)      1792      \n",
      "_________________________________________________________________\n",
      "max_pooling2d (MaxPooling2D) (None, 74, 74, 64)        0         \n",
      "_________________________________________________________________\n",
      "conv2d_1 (Conv2D)            (None, 72, 72, 32)        18464     \n",
      "_________________________________________________________________\n",
      "max_pooling2d_1 (MaxPooling2 (None, 36, 36, 32)        0         \n",
      "_________________________________________________________________\n",
      "conv2d_2 (Conv2D)            (None, 34, 34, 128)       36992     \n",
      "_________________________________________________________________\n",
      "max_pooling2d_2 (MaxPooling2 (None, 17, 17, 128)       0         \n",
      "_________________________________________________________________\n",
      "flatten (Flatten)            (None, 36992)             0         \n",
      "_________________________________________________________________\n",
      "dense (Dense)                (None, 512)               18940416  \n",
      "_________________________________________________________________\n",
      "dropout (Dropout)            (None, 512)               0         \n",
      "_________________________________________________________________\n",
      "dense_1 (Dense)              (None, 1)                 513       \n",
      "=================================================================\n",
      "Total params: 18,998,177\n",
      "Trainable params: 18,998,177\n",
      "Non-trainable params: 0\n",
      "_________________________________________________________________\n"
     ]
    }
   ],
   "source": [
    "model.summary()"
   ]
  },
  {
   "cell_type": "code",
   "execution_count": 15,
   "metadata": {},
   "outputs": [],
   "source": [
    "#Print Network \n",
    "print_network (results_dir, model, Model_name)\n",
    "#Save Network \n",
    "save_network_json (model_json_dir, model, Model_name)"
   ]
  },
  {
   "cell_type": "code",
   "execution_count": 16,
   "metadata": {},
   "outputs": [
    {
     "name": "stderr",
     "output_type": "stream",
     "text": [
      "Using TensorFlow backend.\n"
     ]
    }
   ],
   "source": [
    "import keras.backend as K\n",
    "#https://github.com/tflearn/tflearn/issues/1028\n",
    "def roc_auc_score(y_pred, y_true):\n",
    "    \"\"\" ROC AUC Score.\n",
    "    Approximates the Area Under Curve score, using approximation based on\n",
    "    the Wilcoxon-Mann-Whitney U statistic.\n",
    "    Yan, L., Dodier, R., Mozer, M. C., & Wolniewicz, R. (2003).\n",
    "    Optimizing Classifier Performance via an Approximation to the Wilcoxon-Mann-Whitney Statistic.\n",
    "    Measures overall performance for a full range of threshold levels.\n",
    "    Arguments:\n",
    "        y_pred: `Tensor`. Predicted values.\n",
    "        y_true: `Tensor` . Targets (labels), a probability distribution.\n",
    "    \"\"\"\n",
    "    with tf.name_scope(\"RocAucScore\"):\n",
    "        pos = tf.boolean_mask(y_pred, tf.cast(y_true, tf.bool))\n",
    "        neg = tf.boolean_mask(y_pred, ~tf.cast(y_true, tf.bool))\n",
    "        pos = tf.expand_dims(pos, 0)\n",
    "        neg = tf.expand_dims(neg, 1)\n",
    "# original paper suggests performance is robust to exact parameter choice\n",
    "        gamma = 0.2\n",
    "        p     = 3\n",
    "        difference = tf.zeros_like(pos * neg) + pos - neg - gamma\n",
    "        masked = tf.boolean_mask(difference, difference < 0.0)\n",
    "        return tf.reduce_sum(tf.pow(-masked, p))\n",
    "\n",
    "def roc_auc_score_loss(y_true, y_pred):\n",
    "    auc = roc_auc_score(y_pred, y_true)     # Note y_true & y_pred are passed in dif order in keras and tflearn\n",
    "    tf.print(' AUC Loss: ', auc )\n",
    "    return auc"
   ]
  },
  {
   "cell_type": "code",
   "execution_count": 17,
   "metadata": {},
   "outputs": [],
   "source": [
    "# Model Compile\n",
    "from tensorflow.keras import optimizers\n",
    "model.compile(loss=roc_auc_score_loss,\n",
    "               optimizer = optimizers.Adam(lr=1e-4),\n",
    "#               metrics= [])\n",
    "               metrics= ['acc', roc_auc_score_loss])\n",
    "#               metrics= [roc_auc_score])"
   ]
  },
  {
   "cell_type": "code",
   "execution_count": 18,
   "metadata": {},
   "outputs": [],
   "source": [
    "# Callbacks\n",
    "callbacks_list = [\n",
    "# EarlyStopping when the model does not improve in loss\n",
    "\n",
    "         tf.keras.callbacks.EarlyStopping (\n",
    "#             monitor = 'roc_auc_score_loss',  # Early stop with roc auc\n",
    "             monitor = 'val_loss',             # Early stop with val _loss = roc auc \n",
    "             verbose=1,                        # log when finishes\n",
    "             patience = 4,),                   # Interrupt if acc no improve in 4 epochs\n",
    "\n",
    "#  ModelCheckpoint to store the weights of the best performing epoch. \n",
    "    \n",
    "         tf.keras.callbacks.ModelCheckpoint(filepath=model_bin_dir+\"Best_weights\"+Model_name+\".hdf5\", \n",
    "             monitor = 'val_loss', # Won't overwritte the model file unless val_loss has\n",
    "#             monitor = 'roc_auc_score_loss', # Won't overwritte the model file unless val_loss has\n",
    "             verbose=1,            # improve \n",
    "             save_best_only=True),\n",
    "         \n",
    "#         keras.callbacks.TensorBoard(\n",
    "#             log_dir =  Tensor_dir, \n",
    "#            histogram_freq = 1,\n",
    "#            )\n",
    "#        tf.keras.callbacks.ProgbarLogger(count_mode='samples')             # Display of log show samples seen \n",
    "                ]"
   ]
  },
  {
   "cell_type": "code",
   "execution_count": 19,
   "metadata": {},
   "outputs": [
    {
     "name": "stdout",
     "output_type": "stream",
     "text": [
      "Train on 2100 samples, validate on 700 samples\n",
      "Epoch 1/100\n",
      " AUC Loss:  31.6257896\n",
      " AUC Loss:  31.6257896\n",
      " 128/2100 [>.............................] - ETA: 51s - loss: 31.6258 - acc: 0.4766 - roc_auc_score_loss: 31.6258 AUC Loss:  29.6489887\n",
      " AUC Loss:  29.6489887\n",
      " 256/2100 [==>...........................] - ETA: 24s - loss: 30.6374 - acc: 0.4609 - roc_auc_score_loss: 30.6374 AUC Loss:  28.9709129\n",
      " AUC Loss:  28.9709129\n",
      " 384/2100 [====>.........................] - ETA: 15s - loss: 30.0819 - acc: 0.4714 - roc_auc_score_loss: 30.0819 AUC Loss:  30.4293137\n",
      " AUC Loss:  30.4293137\n",
      " 512/2100 [======>.......................] - ETA: 11s - loss: 30.1688 - acc: 0.4805 - roc_auc_score_loss: 30.1688 AUC Loss:  28.4334183\n",
      " AUC Loss:  28.4334183\n",
      " 640/2100 [========>.....................] - ETA: 8s - loss: 29.8217 - acc: 0.4938 - roc_auc_score_loss: 29.8217  AUC Loss:  29.128933\n",
      " AUC Loss:  29.128933\n",
      " 768/2100 [=========>....................] - ETA: 6s - loss: 29.7062 - acc: 0.5026 - roc_auc_score_loss: 29.7062 AUC Loss:  32.3071976\n",
      " AUC Loss:  32.3071976\n",
      " 896/2100 [===========>..................] - ETA: 5s - loss: 30.0778 - acc: 0.5056 - roc_auc_score_loss: 30.0778 AUC Loss:  29.8602295\n",
      " AUC Loss:  29.8602295\n",
      "1024/2100 [=============>................] - ETA: 4s - loss: 30.0506 - acc: 0.5059 - roc_auc_score_loss: 30.0506 AUC Loss:  25.6699944\n",
      " AUC Loss:  25.6699944\n",
      "1152/2100 [===============>..............] - ETA: 3s - loss: 29.5639 - acc: 0.5017 - roc_auc_score_loss: 29.5639 AUC Loss:  27.5613899\n",
      " AUC Loss:  27.5613899\n",
      "1280/2100 [=================>............] - ETA: 2s - loss: 29.3636 - acc: 0.5102 - roc_auc_score_loss: 29.3636 AUC Loss:  24.4282379\n",
      " AUC Loss:  24.4282379\n",
      "1408/2100 [===================>..........] - ETA: 2s - loss: 28.9149 - acc: 0.5085 - roc_auc_score_loss: 28.9149 AUC Loss:  23.7412205\n",
      " AUC Loss:  23.7412205\n",
      "1536/2100 [====================>.........] - ETA: 1s - loss: 28.4838 - acc: 0.5033 - roc_auc_score_loss: 28.4838 AUC Loss:  26.7866592\n",
      " AUC Loss:  26.7866592\n",
      "1664/2100 [======================>.......] - ETA: 1s - loss: 28.3533 - acc: 0.5084 - roc_auc_score_loss: 28.3533 AUC Loss:  30.6315174\n",
      " AUC Loss:  30.6315174\n",
      "1792/2100 [========================>.....] - ETA: 0s - loss: 28.5160 - acc: 0.5084 - roc_auc_score_loss: 28.5160 AUC Loss:  23.1367474\n",
      " AUC Loss:  23.1367474\n",
      "1920/2100 [==========================>...] - ETA: 0s - loss: 28.1574 - acc: 0.5120 - roc_auc_score_loss: 28.1574 AUC Loss:  24.3944511\n",
      " AUC Loss:  24.3944511\n",
      "2048/2100 [============================>.] - ETA: 0s - loss: 27.9222 - acc: 0.5117 - roc_auc_score_loss: 27.9222 AUC Loss:  4.5997324\n",
      " AUC Loss:  4.5997324\n",
      " AUC Loss:  24.6417923\n",
      " AUC Loss:  24.6417923\n",
      " AUC Loss:  21.4663181\n",
      " AUC Loss:  21.4663181\n",
      " AUC Loss:  20.6299934\n",
      " AUC Loss:  20.6299934\n",
      " AUC Loss:  22.0729122\n",
      " AUC Loss:  22.0729122\n",
      " AUC Loss:  21.8547554\n",
      " AUC Loss:  21.8547554\n",
      " AUC Loss:  5.40886688\n",
      " AUC Loss:  5.40886688\n",
      "\n",
      "Epoch 00001: val_loss improved from inf to 20.69964, saving model to /home/valborsf/Documents/UOC/PFMProject/MODELK15/BMODEL/Best_weightsModelK15_1.hdf5\n",
      "2100/2100 [==============================] - 7s 3ms/sample - loss: 27.3447 - acc: 0.5105 - roc_auc_score_loss: 26.5503 - val_loss: 20.6996 - val_acc: 0.5171 - val_roc_auc_score_loss: 19.3458\n",
      "Epoch 2/100\n",
      " AUC Loss:  23.8436737\n",
      " AUC Loss:  23.8436737\n",
      " 128/2100 [>.............................] - ETA: 1s - loss: 23.8437 - acc: 0.5859 - roc_auc_score_loss: 23.8437 AUC Loss:  24.9787331\n",
      " AUC Loss:  24.9787331\n",
      " 256/2100 [==>...........................] - ETA: 1s - loss: 24.4112 - acc: 0.5586 - roc_auc_score_loss: 24.4112 AUC Loss:  19.3214378\n",
      " AUC Loss:  19.3214378\n",
      " 384/2100 [====>.........................] - ETA: 1s - loss: 22.7146 - acc: 0.5495 - roc_auc_score_loss: 22.7146 AUC Loss:  30.0474377\n",
      " AUC Loss:  30.0474377\n",
      " 512/2100 [======>.......................] - ETA: 1s - loss: 24.5478 - acc: 0.5371 - roc_auc_score_loss: 24.5478 AUC Loss:  20.2534752\n",
      " AUC Loss:  20.2534752\n",
      " 640/2100 [========>.....................] - ETA: 1s - loss: 23.6890 - acc: 0.5594 - roc_auc_score_loss: 23.6890 AUC Loss:  19.4629402\n",
      " AUC Loss:  19.4629402\n",
      " 768/2100 [=========>....................] - ETA: 1s - loss: 22.9846 - acc: 0.5885 - roc_auc_score_loss: 22.9846 AUC Loss:  20.9086475\n",
      " AUC Loss:  20.9086475\n",
      " 896/2100 [===========>..................] - ETA: 1s - loss: 22.6880 - acc: 0.6071 - roc_auc_score_loss: 22.6880 AUC Loss:  20.7197609\n",
      " AUC Loss:  20.7197609\n",
      "1024/2100 [=============>................] - ETA: 1s - loss: 22.4420 - acc: 0.6201 - roc_auc_score_loss: 22.4420 AUC Loss:  19.3519325\n",
      " AUC Loss:  19.3519325\n",
      "1152/2100 [===============>..............] - ETA: 0s - loss: 22.0987 - acc: 0.6302 - roc_auc_score_loss: 22.0987 AUC Loss:  22.7844601\n",
      " AUC Loss:  22.7844601\n",
      "1280/2100 [=================>............] - ETA: 0s - loss: 22.1672 - acc: 0.6344 - roc_auc_score_loss: 22.1672 AUC Loss:  31.4390221\n",
      " AUC Loss:  31.4390221\n",
      "1408/2100 [===================>..........] - ETA: 0s - loss: 23.0101 - acc: 0.6278 - roc_auc_score_loss: 23.0101 AUC Loss:  21.2773094\n",
      " AUC Loss:  21.2773094\n",
      "1536/2100 [====================>.........] - ETA: 0s - loss: 22.8657 - acc: 0.6335 - roc_auc_score_loss: 22.8657 AUC Loss:  19.5278816\n",
      " AUC Loss:  19.5278816\n",
      "1664/2100 [======================>.......] - ETA: 0s - loss: 22.6090 - acc: 0.6388 - roc_auc_score_loss: 22.6090 AUC Loss:  22.548502\n",
      " AUC Loss:  22.548502\n",
      "1792/2100 [========================>.....] - ETA: 0s - loss: 22.6047 - acc: 0.6429 - roc_auc_score_loss: 22.6047 AUC Loss:  20.8060455\n",
      " AUC Loss:  20.8060455\n",
      "1920/2100 [==========================>...] - ETA: 0s - loss: 22.4848 - acc: 0.6443 - roc_auc_score_loss: 22.4847 AUC Loss:  23.4975471\n",
      " AUC Loss:  23.4975471\n",
      "2048/2100 [============================>.] - ETA: 0s - loss: 22.5481 - acc: 0.6426 - roc_auc_score_loss: 22.5480 AUC Loss:  3.10758448\n",
      " AUC Loss:  3.10758448\n",
      " AUC Loss:  22.6531353\n",
      " AUC Loss:  22.6531353\n",
      " AUC Loss:  19.489296\n",
      " AUC Loss:  19.489296\n",
      " AUC Loss:  18.5140076\n",
      " AUC Loss:  18.5140076\n",
      " AUC Loss:  17.2504234\n",
      " AUC Loss:  17.2504234\n",
      " AUC Loss:  18.1192188\n",
      " AUC Loss:  18.1192188\n",
      " AUC Loss:  4.87686205\n",
      " AUC Loss:  4.87686205\n",
      "\n",
      "Epoch 00002: val_loss improved from 20.69964 to 17.97707, saving model to /home/valborsf/Documents/UOC/PFMProject/MODELK15/BMODEL/Best_weightsModelK15_1.hdf5\n",
      "2100/2100 [==============================] - 3s 1ms/sample - loss: 22.0667 - acc: 0.6433 - roc_auc_score_loss: 21.4045 - val_loss: 17.9771 - val_acc: 0.6600 - val_roc_auc_score_loss: 16.8172\n",
      "Epoch 3/100\n",
      " AUC Loss:  17.4427223\n",
      " AUC Loss:  17.4427223\n",
      " 128/2100 [>.............................] - ETA: 1s - loss: 17.4427 - acc: 0.7266 - roc_auc_score_loss: 17.4427 AUC Loss:  18.4457874\n",
      " AUC Loss:  18.4457874\n",
      " 256/2100 [==>...........................] - ETA: 1s - loss: 17.9443 - acc: 0.7070 - roc_auc_score_loss: 17.9443 AUC Loss:  20.1364956\n",
      " AUC Loss:  20.1364956\n",
      " 384/2100 [====>.........................] - ETA: 1s - loss: 18.6750 - acc: 0.6562 - roc_auc_score_loss: 18.6750 AUC Loss:  21.454792\n",
      " AUC Loss:  21.454792\n",
      " 512/2100 [======>.......................] - ETA: 1s - loss: 19.3699 - acc: 0.6543 - roc_auc_score_loss: 19.3699 AUC Loss:  25.7939701\n",
      " AUC Loss:  25.7939701\n",
      " 640/2100 [========>.....................] - ETA: 1s - loss: 20.6548 - acc: 0.6359 - roc_auc_score_loss: 20.6548 AUC Loss:  19.8017883\n",
      " AUC Loss:  19.8017883\n",
      " 768/2100 [=========>....................] - ETA: 1s - loss: 20.5126 - acc: 0.6510 - roc_auc_score_loss: 20.5126 AUC Loss:  17.3325405\n",
      " AUC Loss:  17.3325405\n",
      " 896/2100 [===========>..................] - ETA: 1s - loss: 20.0583 - acc: 0.6685 - roc_auc_score_loss: 20.0583 AUC Loss:  24.1628819\n",
      " AUC Loss:  24.1628819\n",
      "1024/2100 [=============>................] - ETA: 1s - loss: 20.5714 - acc: 0.6758 - roc_auc_score_loss: 20.5714 AUC Loss:  20.4857082\n",
      " AUC Loss:  20.4857082\n",
      "1152/2100 [===============>..............] - ETA: 0s - loss: 20.5619 - acc: 0.6797 - roc_auc_score_loss: 20.5619 AUC Loss:  17.2876129\n",
      " AUC Loss:  17.2876129\n",
      "1280/2100 [=================>............] - ETA: 0s - loss: 20.2344 - acc: 0.6867 - roc_auc_score_loss: 20.2344 AUC Loss:  21.0284081\n",
      " AUC Loss:  21.0284081\n",
      "1408/2100 [===================>..........] - ETA: 0s - loss: 20.3066 - acc: 0.6875 - roc_auc_score_loss: 20.3066 AUC Loss:  19.9763908\n",
      " AUC Loss:  19.9763908\n",
      "1536/2100 [====================>.........] - ETA: 0s - loss: 20.2791 - acc: 0.6875 - roc_auc_score_loss: 20.2791 AUC Loss:  18.2830353\n",
      " AUC Loss:  18.2830353\n",
      "1664/2100 [======================>.......] - ETA: 0s - loss: 20.1255 - acc: 0.6899 - roc_auc_score_loss: 20.1255 AUC Loss:  19.0812836\n",
      " AUC Loss:  19.0812836\n",
      "1792/2100 [========================>.....] - ETA: 0s - loss: 20.0510 - acc: 0.6914 - roc_auc_score_loss: 20.0510 AUC Loss:  21.2235832\n",
      " AUC Loss:  21.2235832\n",
      "1920/2100 [==========================>...] - ETA: 0s - loss: 20.1291 - acc: 0.6896 - roc_auc_score_loss: 20.1291 AUC Loss:  19.6222401\n",
      " AUC Loss:  19.6222401\n",
      "2048/2100 [============================>.] - ETA: 0s - loss: 20.0975 - acc: 0.6934 - roc_auc_score_loss: 20.0975 AUC Loss:  2.3008945\n",
      " AUC Loss:  2.3008945\n",
      " AUC Loss:  21.4477825\n",
      " AUC Loss:  21.4477825\n",
      " AUC Loss:  19.4517918\n",
      " AUC Loss:  19.4517918\n",
      " AUC Loss:  17.2778015\n",
      " AUC Loss:  17.2778015\n",
      " AUC Loss:  16.8142452\n",
      " AUC Loss:  16.8142452\n",
      " AUC Loss:  16.2473774\n",
      " AUC Loss:  16.2473774\n",
      " AUC Loss:  4.42557859\n",
      " AUC Loss:  4.42557859\n",
      "\n",
      "Epoch 00003: val_loss improved from 17.97707 to 17.06304, saving model to /home/valborsf/Documents/UOC/PFMProject/MODELK15/BMODEL/Best_weightsModelK15_1.hdf5\n",
      "2100/2100 [==============================] - 3s 1ms/sample - loss: 19.6568 - acc: 0.6943 - roc_auc_score_loss: 19.0506 - val_loss: 17.0630 - val_acc: 0.7586 - val_roc_auc_score_loss: 15.9441\n",
      "Epoch 4/100\n",
      " AUC Loss:  20.8698845\n",
      " AUC Loss:  20.8698845\n",
      " 128/2100 [>.............................] - ETA: 1s - loss: 20.8699 - acc: 0.7109 - roc_auc_score_loss: 20.8699 AUC Loss:  19.4468613\n",
      " AUC Loss:  19.4468613\n",
      " 256/2100 [==>...........................] - ETA: 1s - loss: 20.1584 - acc: 0.7227 - roc_auc_score_loss: 20.1584 AUC Loss:  16.4266891\n",
      " AUC Loss:  16.4266891\n",
      " 384/2100 [====>.........................] - ETA: 1s - loss: 18.9145 - acc: 0.7344 - roc_auc_score_loss: 18.9145 AUC Loss:  19.3710213\n",
      " AUC Loss:  19.3710213\n",
      " 512/2100 [======>.......................] - ETA: 1s - loss: 19.0286 - acc: 0.7266 - roc_auc_score_loss: 19.0286 AUC Loss:  19.4255772\n",
      " AUC Loss:  19.4255772\n",
      " 640/2100 [========>.....................] - ETA: 1s - loss: 19.1080 - acc: 0.7125 - roc_auc_score_loss: 19.1080 AUC Loss:  22.3442783\n",
      " AUC Loss:  22.3442783\n",
      " 768/2100 [=========>....................] - ETA: 1s - loss: 19.6474 - acc: 0.7057 - roc_auc_score_loss: 19.6474 AUC Loss:  21.0984497\n",
      " AUC Loss:  21.0984497\n",
      " 896/2100 [===========>..................] - ETA: 1s - loss: 19.8547 - acc: 0.6998 - roc_auc_score_loss: 19.8547 AUC Loss:  18.8362923\n",
      " AUC Loss:  18.8362923\n",
      "1024/2100 [=============>................] - ETA: 1s - loss: 19.7274 - acc: 0.6963 - roc_auc_score_loss: 19.7274 AUC Loss:  18.6522846\n",
      " AUC Loss:  18.6522846\n",
      "1152/2100 [===============>..............] - ETA: 0s - loss: 19.6079 - acc: 0.6944 - roc_auc_score_loss: 19.6079 AUC Loss:  19.8079166\n",
      " AUC Loss:  19.8079166\n",
      "1280/2100 [=================>............] - ETA: 0s - loss: 19.6279 - acc: 0.6930 - roc_auc_score_loss: 19.6279 AUC Loss:  18.9650536\n",
      " AUC Loss:  18.9650536\n",
      "1408/2100 [===================>..........] - ETA: 0s - loss: 19.5677 - acc: 0.6953 - roc_auc_score_loss: 19.5677 AUC Loss:  13.7398872\n",
      " AUC Loss:  13.7398872\n",
      "1536/2100 [====================>.........] - ETA: 0s - loss: 19.0820 - acc: 0.7031 - roc_auc_score_loss: 19.0820 AUC Loss:  21.2646027\n",
      " AUC Loss:  21.2646027\n",
      "1664/2100 [======================>.......] - ETA: 0s - loss: 19.2499 - acc: 0.6953 - roc_auc_score_loss: 19.2499 AUC Loss:  18.364212\n",
      " AUC Loss:  18.364212\n",
      "1792/2100 [========================>.....] - ETA: 0s - loss: 19.1866 - acc: 0.6814 - roc_auc_score_loss: 19.1866 AUC Loss:  19.0781364\n",
      " AUC Loss:  19.0781364\n",
      "1920/2100 [==========================>...] - ETA: 0s - loss: 19.1794 - acc: 0.6703 - roc_auc_score_loss: 19.1794 AUC Loss:  15.1912727\n",
      " AUC Loss:  15.1912727\n",
      "2048/2100 [============================>.] - ETA: 0s - loss: 18.9302 - acc: 0.6675 - roc_auc_score_loss: 18.9302 AUC Loss:  2.31430411\n",
      " AUC Loss:  2.31430411\n",
      " AUC Loss:  21.7848988\n",
      " AUC Loss:  21.7848988\n",
      " AUC Loss:  19.57197\n",
      " AUC Loss:  19.57197\n",
      " AUC Loss:  17.6169395\n",
      " AUC Loss:  17.6169395\n",
      " AUC Loss:  16.9674473\n",
      " AUC Loss:  16.9674473\n",
      " AUC Loss:  17.3130932\n",
      " AUC Loss:  17.3130932\n",
      " AUC Loss:  4.52132225\n",
      " AUC Loss:  4.52132225\n",
      "\n",
      "Epoch 00004: val_loss did not improve from 17.06304\n",
      "2100/2100 [==============================] - 2s 1ms/sample - loss: 18.5187 - acc: 0.6662 - roc_auc_score_loss: 17.9527 - val_loss: 17.4398 - val_acc: 0.6086 - val_roc_auc_score_loss: 16.2959\n",
      "Epoch 5/100\n",
      " AUC Loss:  21.0301666\n",
      " AUC Loss:  21.0301666\n",
      " 128/2100 [>.............................] - ETA: 1s - loss: 21.0302 - acc: 0.5234 - roc_auc_score_loss: 21.0302 AUC Loss:  14.425519\n",
      " AUC Loss:  14.425519\n",
      " 256/2100 [==>...........................] - ETA: 1s - loss: 17.7278 - acc: 0.6289 - roc_auc_score_loss: 17.7278 AUC Loss:  17.9081211\n",
      " AUC Loss:  17.9081211\n",
      " 384/2100 [====>.........................] - ETA: 1s - loss: 17.7879 - acc: 0.6589 - roc_auc_score_loss: 17.7879 AUC Loss:  15.3884392\n",
      " AUC Loss:  15.3884392\n",
      " 512/2100 [======>.......................] - ETA: 1s - loss: 17.1881 - acc: 0.6992 - roc_auc_score_loss: 17.1881 AUC Loss:  20.5813713\n",
      " AUC Loss:  20.5813713\n",
      " 640/2100 [========>.....................] - ETA: 1s - loss: 17.8667 - acc: 0.6922 - roc_auc_score_loss: 17.8667 AUC Loss:  19.3530178\n",
      " AUC Loss:  19.3530178\n",
      " 768/2100 [=========>....................] - ETA: 1s - loss: 18.1144 - acc: 0.6914 - roc_auc_score_loss: 18.1144 AUC Loss:  17.5464401\n",
      " AUC Loss:  17.5464401\n",
      " 896/2100 [===========>..................] - ETA: 1s - loss: 18.0333 - acc: 0.6998 - roc_auc_score_loss: 18.0333 AUC Loss:  19.8522968\n",
      " AUC Loss:  19.8522968\n",
      "1024/2100 [=============>................] - ETA: 1s - loss: 18.2607 - acc: 0.6992 - roc_auc_score_loss: 18.2607 AUC Loss:  21.2371082\n",
      " AUC Loss:  21.2371082\n",
      "1152/2100 [===============>..............] - ETA: 0s - loss: 18.5914 - acc: 0.6970 - roc_auc_score_loss: 18.5914 AUC Loss:  16.072834\n",
      " AUC Loss:  16.072834\n",
      "1280/2100 [=================>............] - ETA: 0s - loss: 18.3395 - acc: 0.6992 - roc_auc_score_loss: 18.3395 AUC Loss:  12.5685425\n",
      " AUC Loss:  12.5685425\n",
      "1408/2100 [===================>..........] - ETA: 0s - loss: 17.8149 - acc: 0.7088 - roc_auc_score_loss: 17.8149 AUC Loss:  18.3675137\n",
      " AUC Loss:  18.3675137\n",
      "1536/2100 [====================>.........] - ETA: 0s - loss: 17.8609 - acc: 0.7077 - roc_auc_score_loss: 17.8609 AUC Loss:  16.0443668\n",
      " AUC Loss:  16.0443668\n",
      "1664/2100 [======================>.......] - ETA: 0s - loss: 17.7212 - acc: 0.7073 - roc_auc_score_loss: 17.7212 AUC Loss:  16.8993702\n",
      " AUC Loss:  16.8993702\n",
      "1792/2100 [========================>.....] - ETA: 0s - loss: 17.6625 - acc: 0.7098 - roc_auc_score_loss: 17.6625 AUC Loss:  17.2998848\n",
      " AUC Loss:  17.2998848\n",
      "1920/2100 [==========================>...] - ETA: 0s - loss: 17.6383 - acc: 0.7089 - roc_auc_score_loss: 17.6383 AUC Loss:  12.7778416\n",
      " AUC Loss:  12.7778416\n",
      "2048/2100 [============================>.] - ETA: 0s - loss: 17.3346 - acc: 0.7144 - roc_auc_score_loss: 17.3346 AUC Loss:  3.49542069\n",
      " AUC Loss:  3.49542069\n",
      " AUC Loss:  18.8683453\n",
      " AUC Loss:  18.8683453\n",
      " AUC Loss:  17.5769386\n",
      " AUC Loss:  17.5769386\n",
      " AUC Loss:  15.6172705\n",
      " AUC Loss:  15.6172705\n",
      " AUC Loss:  13.4346027\n",
      " AUC Loss:  13.4346027\n",
      " AUC Loss:  14.465416\n",
      " AUC Loss:  14.465416\n",
      " AUC Loss:  3.86842823\n",
      " AUC Loss:  3.86842823\n",
      "\n",
      "Epoch 00005: val_loss improved from 17.06304 to 14.95331, saving model to /home/valborsf/Documents/UOC/PFMProject/MODELK15/BMODEL/Best_weightsModelK15_1.hdf5\n",
      "2100/2100 [==============================] - 3s 1ms/sample - loss: 16.9919 - acc: 0.7133 - roc_auc_score_loss: 16.5205 - val_loss: 14.9533 - val_acc: 0.7557 - val_roc_auc_score_loss: 13.9718\n",
      "Epoch 6/100\n",
      " AUC Loss:  15.9624243\n",
      " AUC Loss:  15.9624243\n",
      " 128/2100 [>.............................] - ETA: 1s - loss: 15.9624 - acc: 0.7422 - roc_auc_score_loss: 15.9624 AUC Loss:  20.3500347\n",
      " AUC Loss:  20.3500347\n"
     ]
    },
    {
     "name": "stdout",
     "output_type": "stream",
     "text": [
      " 256/2100 [==>...........................] - ETA: 1s - loss: 18.1562 - acc: 0.7148 - roc_auc_score_loss: 18.1562 AUC Loss:  18.8109512\n",
      " AUC Loss:  18.8109512\n",
      " 384/2100 [====>.........................] - ETA: 1s - loss: 18.3745 - acc: 0.7135 - roc_auc_score_loss: 18.3745 AUC Loss:  17.0616302\n",
      " AUC Loss:  17.0616302\n",
      " 512/2100 [======>.......................] - ETA: 1s - loss: 18.0463 - acc: 0.7148 - roc_auc_score_loss: 18.0463 AUC Loss:  14.1892586\n",
      " AUC Loss:  14.1892586\n",
      " 640/2100 [========>.....................] - ETA: 1s - loss: 17.2749 - acc: 0.7141 - roc_auc_score_loss: 17.2749 AUC Loss:  20.3036327\n",
      " AUC Loss:  20.3036327\n",
      " 768/2100 [=========>....................] - ETA: 1s - loss: 17.7797 - acc: 0.7122 - roc_auc_score_loss: 17.7797 AUC Loss:  19.9303226\n",
      " AUC Loss:  19.9303226\n",
      " 896/2100 [===========>..................] - ETA: 1s - loss: 18.0869 - acc: 0.6987 - roc_auc_score_loss: 18.0869 AUC Loss:  19.9460068\n",
      " AUC Loss:  19.9460068\n",
      "1024/2100 [=============>................] - ETA: 1s - loss: 18.3193 - acc: 0.6895 - roc_auc_score_loss: 18.3193 AUC Loss:  20.3538761\n",
      " AUC Loss:  20.3538761\n",
      "1152/2100 [===============>..............] - ETA: 0s - loss: 18.5453 - acc: 0.6667 - roc_auc_score_loss: 18.5453 AUC Loss:  15.409049\n",
      " AUC Loss:  15.409049\n",
      "1280/2100 [=================>............] - ETA: 0s - loss: 18.2317 - acc: 0.6531 - roc_auc_score_loss: 18.2317 AUC Loss:  13.7679596\n",
      " AUC Loss:  13.7679596\n",
      "1408/2100 [===================>..........] - ETA: 0s - loss: 17.8259 - acc: 0.6470 - roc_auc_score_loss: 17.8259 AUC Loss:  16.2546387\n",
      " AUC Loss:  16.2546387\n",
      "1536/2100 [====================>.........] - ETA: 0s - loss: 17.6950 - acc: 0.6543 - roc_auc_score_loss: 17.6950 AUC Loss:  14.1555843\n",
      " AUC Loss:  14.1555843\n",
      "1664/2100 [======================>.......] - ETA: 0s - loss: 17.4227 - acc: 0.6653 - roc_auc_score_loss: 17.4227 AUC Loss:  14.7117653\n",
      " AUC Loss:  14.7117653\n",
      "1792/2100 [========================>.....] - ETA: 0s - loss: 17.2291 - acc: 0.6585 - roc_auc_score_loss: 17.2291 AUC Loss:  19.6559219\n",
      " AUC Loss:  19.6559219\n",
      "1920/2100 [==========================>...] - ETA: 0s - loss: 17.3909 - acc: 0.6510 - roc_auc_score_loss: 17.3909 AUC Loss:  17.0527534\n",
      " AUC Loss:  17.0527534\n",
      "2048/2100 [============================>.] - ETA: 0s - loss: 17.3697 - acc: 0.6431 - roc_auc_score_loss: 17.3697 AUC Loss:  2.01639223\n",
      " AUC Loss:  2.01639223\n",
      " AUC Loss:  22.1412811\n",
      " AUC Loss:  22.1412811\n",
      " AUC Loss:  20.8055286\n",
      " AUC Loss:  20.8055286\n",
      " AUC Loss:  17.9710598\n",
      " AUC Loss:  17.9710598\n",
      " AUC Loss:  19.068531\n",
      " AUC Loss:  19.068531\n",
      " AUC Loss:  17.108408\n",
      " AUC Loss:  17.108408\n",
      " AUC Loss:  4.36747599\n",
      " AUC Loss:  4.36747599\n",
      "\n",
      "Epoch 00006: val_loss did not improve from 14.95331\n",
      "2100/2100 [==============================] - 2s 1ms/sample - loss: 16.9896 - acc: 0.6438 - roc_auc_score_loss: 16.4666 - val_loss: 18.1288 - val_acc: 0.5586 - val_roc_auc_score_loss: 16.9104\n",
      "Epoch 7/100\n",
      " AUC Loss:  15.948822\n",
      " AUC Loss:  15.948822\n",
      " 128/2100 [>.............................] - ETA: 1s - loss: 15.9488 - acc: 0.5391 - roc_auc_score_loss: 15.9488 AUC Loss:  16.9191895\n",
      " AUC Loss:  16.9191895\n",
      " 256/2100 [==>...........................] - ETA: 1s - loss: 16.4340 - acc: 0.5703 - roc_auc_score_loss: 16.4340 AUC Loss:  19.206089\n",
      " AUC Loss:  19.206089\n",
      " 384/2100 [====>.........................] - ETA: 1s - loss: 17.3580 - acc: 0.5625 - roc_auc_score_loss: 17.3580 AUC Loss:  15.9398079\n",
      " AUC Loss:  15.9398079\n",
      " 512/2100 [======>.......................] - ETA: 1s - loss: 17.0035 - acc: 0.6113 - roc_auc_score_loss: 17.0035 AUC Loss:  24.5008907\n",
      " AUC Loss:  24.5008907\n",
      " 640/2100 [========>.....................] - ETA: 1s - loss: 18.5030 - acc: 0.6187 - roc_auc_score_loss: 18.5030 AUC Loss:  17.6041451\n",
      " AUC Loss:  17.6041451\n",
      " 768/2100 [=========>....................] - ETA: 1s - loss: 18.3532 - acc: 0.6354 - roc_auc_score_loss: 18.3532 AUC Loss:  14.2361088\n",
      " AUC Loss:  14.2361088\n",
      " 896/2100 [===========>..................] - ETA: 1s - loss: 17.7650 - acc: 0.6406 - roc_auc_score_loss: 17.7650 AUC Loss:  15.3606157\n",
      " AUC Loss:  15.3606157\n",
      "1024/2100 [=============>................] - ETA: 1s - loss: 17.4645 - acc: 0.6436 - roc_auc_score_loss: 17.4645 AUC Loss:  16.1851883\n",
      " AUC Loss:  16.1851883\n",
      "1152/2100 [===============>..............] - ETA: 0s - loss: 17.3223 - acc: 0.6398 - roc_auc_score_loss: 17.3223 AUC Loss:  15.0167389\n",
      " AUC Loss:  15.0167389\n",
      "1280/2100 [=================>............] - ETA: 0s - loss: 17.0918 - acc: 0.6422 - roc_auc_score_loss: 17.0918 AUC Loss:  16.4282207\n",
      " AUC Loss:  16.4282207\n",
      "1408/2100 [===================>..........] - ETA: 0s - loss: 17.0314 - acc: 0.6420 - roc_auc_score_loss: 17.0314 AUC Loss:  12.0127382\n",
      " AUC Loss:  12.0127382\n",
      "1536/2100 [====================>.........] - ETA: 0s - loss: 16.6132 - acc: 0.6465 - roc_auc_score_loss: 16.6132 AUC Loss:  17.7242069\n",
      " AUC Loss:  17.7242069\n",
      "1664/2100 [======================>.......] - ETA: 0s - loss: 16.6987 - acc: 0.6502 - roc_auc_score_loss: 16.6987 AUC Loss:  18.9266224\n",
      " AUC Loss:  18.9266224\n",
      "1792/2100 [========================>.....] - ETA: 0s - loss: 16.8578 - acc: 0.6512 - roc_auc_score_loss: 16.8578 AUC Loss:  13.7036886\n",
      " AUC Loss:  13.7036886\n",
      "1920/2100 [==========================>...] - ETA: 0s - loss: 16.6475 - acc: 0.6594 - roc_auc_score_loss: 16.6475 AUC Loss:  17.4477921\n",
      " AUC Loss:  17.4477921\n",
      "2048/2100 [============================>.] - ETA: 0s - loss: 16.6976 - acc: 0.6626 - roc_auc_score_loss: 16.6976 AUC Loss:  1.64810801\n",
      " AUC Loss:  1.64810801\n",
      " AUC Loss:  19.2907581\n",
      " AUC Loss:  19.2907581\n",
      " AUC Loss:  18.0859509\n",
      " AUC Loss:  18.0859509\n",
      " AUC Loss:  15.7085714\n",
      " AUC Loss:  15.7085714\n",
      " AUC Loss:  16.9331932\n",
      " AUC Loss:  16.9331932\n",
      " AUC Loss:  14.2767487\n",
      " AUC Loss:  14.2767487\n",
      " AUC Loss:  3.80751014\n",
      " AUC Loss:  3.80751014\n",
      "\n",
      "Epoch 00007: val_loss did not improve from 14.95331\n",
      "2100/2100 [==============================] - 2s 1ms/sample - loss: 16.3249 - acc: 0.6648 - roc_auc_score_loss: 15.8123 - val_loss: 15.7403 - val_acc: 0.7657 - val_roc_auc_score_loss: 14.6838\n",
      "Epoch 8/100\n",
      " AUC Loss:  12.7560129\n",
      " AUC Loss:  12.7560129\n",
      " 128/2100 [>.............................] - ETA: 1s - loss: 12.7560 - acc: 0.7734 - roc_auc_score_loss: 12.7560 AUC Loss:  14.4935112\n",
      " AUC Loss:  14.4935112\n",
      " 256/2100 [==>...........................] - ETA: 1s - loss: 13.6248 - acc: 0.7578 - roc_auc_score_loss: 13.6248 AUC Loss:  12.6870766\n",
      " AUC Loss:  12.6870766\n",
      " 384/2100 [====>.........................] - ETA: 1s - loss: 13.3122 - acc: 0.7604 - roc_auc_score_loss: 13.3122 AUC Loss:  13.3847466\n",
      " AUC Loss:  13.3847466\n",
      " 512/2100 [======>.......................] - ETA: 1s - loss: 13.3303 - acc: 0.7656 - roc_auc_score_loss: 13.3303 AUC Loss:  10.4660635\n",
      " AUC Loss:  10.4660635\n",
      " 640/2100 [========>.....................] - ETA: 1s - loss: 12.7575 - acc: 0.7766 - roc_auc_score_loss: 12.7575 AUC Loss:  15.0979462\n",
      " AUC Loss:  15.0979462\n",
      " 768/2100 [=========>....................] - ETA: 1s - loss: 13.1476 - acc: 0.7682 - roc_auc_score_loss: 13.1476 AUC Loss:  16.8438225\n",
      " AUC Loss:  16.8438225\n",
      " 896/2100 [===========>..................] - ETA: 1s - loss: 13.6756 - acc: 0.7667 - roc_auc_score_loss: 13.6756 AUC Loss:  12.8160076\n",
      " AUC Loss:  12.8160076\n",
      "1024/2100 [=============>................] - ETA: 1s - loss: 13.5681 - acc: 0.7627 - roc_auc_score_loss: 13.5681 AUC Loss:  18.8413963\n",
      " AUC Loss:  18.8413963\n",
      "1152/2100 [===============>..............] - ETA: 0s - loss: 14.1541 - acc: 0.7595 - roc_auc_score_loss: 14.1541 AUC Loss:  14.4722748\n",
      " AUC Loss:  14.4722748\n",
      "1280/2100 [=================>............] - ETA: 0s - loss: 14.1859 - acc: 0.7594 - roc_auc_score_loss: 14.1859 AUC Loss:  17.815567\n",
      " AUC Loss:  17.815567\n",
      "1408/2100 [===================>..........] - ETA: 0s - loss: 14.5159 - acc: 0.7550 - roc_auc_score_loss: 14.5159 AUC Loss:  15.6914387\n",
      " AUC Loss:  15.6914387\n",
      "1536/2100 [====================>.........] - ETA: 0s - loss: 14.6138 - acc: 0.7559 - roc_auc_score_loss: 14.6138 AUC Loss:  16.9901638\n",
      " AUC Loss:  16.9901638\n",
      "1664/2100 [======================>.......] - ETA: 0s - loss: 14.7966 - acc: 0.7470 - roc_auc_score_loss: 14.7966 AUC Loss:  10.336338\n",
      " AUC Loss:  10.336338\n",
      "1792/2100 [========================>.....] - ETA: 0s - loss: 14.4780 - acc: 0.7439 - roc_auc_score_loss: 14.4780 AUC Loss:  11.7041035\n",
      " AUC Loss:  11.7041035\n",
      "1920/2100 [==========================>...] - ETA: 0s - loss: 14.2931 - acc: 0.7437 - roc_auc_score_loss: 14.2931 AUC Loss:  15.5939455\n",
      " AUC Loss:  15.5939455\n",
      "2048/2100 [============================>.] - ETA: 0s - loss: 14.3744 - acc: 0.7422 - roc_auc_score_loss: 14.3744 AUC Loss:  1.93507552\n",
      " AUC Loss:  1.93507552\n",
      " AUC Loss:  18.8493576\n",
      " AUC Loss:  18.8493576\n",
      " AUC Loss:  17.3317947\n",
      " AUC Loss:  17.3317947\n",
      " AUC Loss:  14.9349689\n",
      " AUC Loss:  14.9349689\n",
      " AUC Loss:  13.2801018\n",
      " AUC Loss:  13.2801018\n",
      " AUC Loss:  13.1622839\n",
      " AUC Loss:  13.1622839\n",
      " AUC Loss:  3.55951977\n",
      " AUC Loss:  3.55951977\n",
      "\n",
      "Epoch 00008: val_loss improved from 14.95331 to 14.48723, saving model to /home/valborsf/Documents/UOC/PFMProject/MODELK15/BMODEL/Best_weightsModelK15_1.hdf5\n",
      "2100/2100 [==============================] - 3s 1ms/sample - loss: 14.0664 - acc: 0.7429 - roc_auc_score_loss: 13.6427 - val_loss: 14.4872 - val_acc: 0.7586 - val_roc_auc_score_loss: 13.5197\n",
      "Epoch 9/100\n",
      " AUC Loss:  12.4207897\n",
      " AUC Loss:  12.4207897\n",
      " 128/2100 [>.............................] - ETA: 1s - loss: 12.4208 - acc: 0.7734 - roc_auc_score_loss: 12.4208 AUC Loss:  14.8792152\n",
      " AUC Loss:  14.8792152\n",
      " 256/2100 [==>...........................] - ETA: 1s - loss: 13.6500 - acc: 0.7656 - roc_auc_score_loss: 13.6500 AUC Loss:  14.3074093\n",
      " AUC Loss:  14.3074093\n",
      " 384/2100 [====>.........................] - ETA: 1s - loss: 13.8691 - acc: 0.7604 - roc_auc_score_loss: 13.8691 AUC Loss:  14.4947357\n",
      " AUC Loss:  14.4947357\n",
      " 512/2100 [======>.......................] - ETA: 1s - loss: 14.0255 - acc: 0.7480 - roc_auc_score_loss: 14.0255 AUC Loss:  12.1215267\n",
      " AUC Loss:  12.1215267\n",
      " 640/2100 [========>.....................] - ETA: 1s - loss: 13.6447 - acc: 0.7391 - roc_auc_score_loss: 13.6447 AUC Loss:  10.1878567\n",
      " AUC Loss:  10.1878567\n",
      " 768/2100 [=========>....................] - ETA: 1s - loss: 13.0686 - acc: 0.7383 - roc_auc_score_loss: 13.0686 AUC Loss:  11.6662788\n",
      " AUC Loss:  11.6662788\n",
      " 896/2100 [===========>..................] - ETA: 1s - loss: 12.8683 - acc: 0.7344 - roc_auc_score_loss: 12.8683 AUC Loss:  12.9765749\n",
      " AUC Loss:  12.9765749\n",
      "1024/2100 [=============>................] - ETA: 1s - loss: 12.8818 - acc: 0.7373 - roc_auc_score_loss: 12.8818 AUC Loss:  13.1901398\n",
      " AUC Loss:  13.1901398\n",
      "1152/2100 [===============>..............] - ETA: 0s - loss: 12.9161 - acc: 0.7413 - roc_auc_score_loss: 12.9161 AUC Loss:  16.1442776\n",
      " AUC Loss:  16.1442776\n",
      "1280/2100 [=================>............] - ETA: 0s - loss: 13.2389 - acc: 0.7414 - roc_auc_score_loss: 13.2389 AUC Loss:  14.6935673\n",
      " AUC Loss:  14.6935673\n",
      "1408/2100 [===================>..........] - ETA: 0s - loss: 13.3711 - acc: 0.7401 - roc_auc_score_loss: 13.3711 AUC Loss:  14.0515671\n",
      " AUC Loss:  14.0515671\n",
      "1536/2100 [====================>.........] - ETA: 0s - loss: 13.4278 - acc: 0.7422 - roc_auc_score_loss: 13.4278 AUC Loss:  13.4442482\n",
      " AUC Loss:  13.4442482\n",
      "1664/2100 [======================>.......] - ETA: 0s - loss: 13.4291 - acc: 0.7434 - roc_auc_score_loss: 13.4291 AUC Loss:  8.9005127\n",
      " AUC Loss:  8.9005127\n",
      "1792/2100 [========================>.....] - ETA: 0s - loss: 13.1056 - acc: 0.7405 - roc_auc_score_loss: 13.1056 AUC Loss:  16.4735489\n",
      " AUC Loss:  16.4735489\n",
      "1920/2100 [==========================>...] - ETA: 0s - loss: 13.3301 - acc: 0.7349 - roc_auc_score_loss: 13.3301 AUC Loss:  16.1076412\n",
      " AUC Loss:  16.1076412\n",
      "2048/2100 [============================>.] - ETA: 0s - loss: 13.5037 - acc: 0.7324 - roc_auc_score_loss: 13.5037 AUC Loss:  2.48127484\n",
      " AUC Loss:  2.48127484\n",
      " AUC Loss:  17.7345066\n",
      " AUC Loss:  17.7345066\n",
      " AUC Loss:  16.9008389\n",
      " AUC Loss:  16.9008389\n",
      " AUC Loss:  14.0670576\n",
      " AUC Loss:  14.0670576\n",
      " AUC Loss:  16.2458305\n",
      " AUC Loss:  16.2458305\n",
      " AUC Loss:  12.6026793\n",
      " AUC Loss:  12.6026793\n",
      " AUC Loss:  3.60121775\n",
      " AUC Loss:  3.60121775\n",
      "\n",
      "Epoch 00009: val_loss did not improve from 14.48723\n",
      "2100/2100 [==============================] - 2s 1ms/sample - loss: 13.2308 - acc: 0.7295 - roc_auc_score_loss: 12.8554 - val_loss: 14.4894 - val_acc: 0.7271 - val_roc_auc_score_loss: 13.5254\n",
      "Epoch 10/100\n",
      " AUC Loss:  10.8343372\n",
      " AUC Loss:  10.8343372\n",
      " 128/2100 [>.............................] - ETA: 1s - loss: 10.8343 - acc: 0.7266 - roc_auc_score_loss: 10.8343 AUC Loss:  8.93114281\n",
      " AUC Loss:  8.93114281\n",
      " 256/2100 [==>...........................] - ETA: 1s - loss: 9.8827 - acc: 0.7500 - roc_auc_score_loss: 9.8827   AUC Loss:  9.84606934\n",
      " AUC Loss:  9.84606934\n",
      " 384/2100 [====>.........................] - ETA: 1s - loss: 9.8705 - acc: 0.7604 - roc_auc_score_loss: 9.8705 AUC Loss:  14.7045927\n",
      " AUC Loss:  14.7045927\n",
      " 512/2100 [======>.......................] - ETA: 1s - loss: 11.0790 - acc: 0.7578 - roc_auc_score_loss: 11.0790 AUC Loss:  19.3413162\n",
      " AUC Loss:  19.3413162\n",
      " 640/2100 [========>.....................] - ETA: 1s - loss: 12.7315 - acc: 0.7437 - roc_auc_score_loss: 12.7315 AUC Loss:  12.6576071\n",
      " AUC Loss:  12.6576071\n",
      " 768/2100 [=========>....................] - ETA: 1s - loss: 12.7192 - acc: 0.7448 - roc_auc_score_loss: 12.7192 AUC Loss:  17.8814869\n",
      " AUC Loss:  17.8814869\n",
      " 896/2100 [===========>..................] - ETA: 1s - loss: 13.4567 - acc: 0.7377 - roc_auc_score_loss: 13.4566 AUC Loss:  12.3670301\n",
      " AUC Loss:  12.3670301\n",
      "1024/2100 [=============>................] - ETA: 1s - loss: 13.3204 - acc: 0.7393 - roc_auc_score_loss: 13.3204 AUC Loss:  11.0621634\n",
      " AUC Loss:  11.0621634\n",
      "1152/2100 [===============>..............] - ETA: 0s - loss: 13.0695 - acc: 0.7457 - roc_auc_score_loss: 13.0695 AUC Loss:  11.0124922\n",
      " AUC Loss:  11.0124922\n",
      "1280/2100 [=================>............] - ETA: 0s - loss: 12.8638 - acc: 0.7516 - roc_auc_score_loss: 12.8638 AUC Loss:  13.0417261\n",
      " AUC Loss:  13.0417261\n",
      "1408/2100 [===================>..........] - ETA: 0s - loss: 12.8800 - acc: 0.7486 - roc_auc_score_loss: 12.8800 AUC Loss:  15.3633747\n",
      " AUC Loss:  15.3633747\n",
      "1536/2100 [====================>.........] - ETA: 0s - loss: 13.0869 - acc: 0.7480 - roc_auc_score_loss: 13.0869 AUC Loss:  12.3976803\n",
      " AUC Loss:  12.3976803\n",
      "1664/2100 [======================>.......] - ETA: 0s - loss: 13.0339 - acc: 0.7434 - roc_auc_score_loss: 13.0339 AUC Loss:  13.4386539\n",
      " AUC Loss:  13.4386539\n",
      "1792/2100 [========================>.....] - ETA: 0s - loss: 13.0628 - acc: 0.7427 - roc_auc_score_loss: 13.0628 AUC Loss:  12.240345\n",
      " AUC Loss:  12.240345\n",
      "1920/2100 [==========================>...] - ETA: 0s - loss: 13.0080 - acc: 0.7453 - roc_auc_score_loss: 13.0080 AUC Loss:  13.52104\n",
      " AUC Loss:  13.52104\n",
      "2048/2100 [============================>.] - ETA: 0s - loss: 13.0401 - acc: 0.7451 - roc_auc_score_loss: 13.0401 AUC Loss:  2.62503576\n",
      " AUC Loss:  2.62503576\n",
      " AUC Loss:  19.9837093\n",
      " AUC Loss:  19.9837093\n",
      " AUC Loss:  17.3086147\n",
      " AUC Loss:  17.3086147\n",
      " AUC Loss:  14.5674772\n",
      " AUC Loss:  14.5674772\n",
      " AUC Loss:  14.536705\n",
      " AUC Loss:  14.536705\n",
      " AUC Loss:  12.7617111\n",
      " AUC Loss:  12.7617111\n",
      " AUC Loss:  3.52861857\n",
      " AUC Loss:  3.52861857\n",
      "\n",
      "Epoch 00010: val_loss did not improve from 14.48723\n",
      "2100/2100 [==============================] - 2s 1ms/sample - loss: 12.7822 - acc: 0.7462 - roc_auc_score_loss: 12.4274 - val_loss: 14.7771 - val_acc: 0.7771 - val_roc_auc_score_loss: 13.7811\n",
      "Epoch 11/100\n",
      " AUC Loss:  10.9297171\n",
      " AUC Loss:  10.9297171\n",
      " 128/2100 [>.............................] - ETA: 1s - loss: 10.9297 - acc: 0.8047 - roc_auc_score_loss: 10.9297 AUC Loss:  15.2701511\n",
      " AUC Loss:  15.2701511\n",
      " 256/2100 [==>...........................] - ETA: 1s - loss: 13.0999 - acc: 0.7461 - roc_auc_score_loss: 13.0999 AUC Loss:  11.6907015\n",
      " AUC Loss:  11.6907015\n",
      " 384/2100 [====>.........................] - ETA: 1s - loss: 12.6302 - acc: 0.7682 - roc_auc_score_loss: 12.6302 AUC Loss:  9.893013\n",
      " AUC Loss:  9.893013\n",
      " 512/2100 [======>.......................] - ETA: 1s - loss: 11.9459 - acc: 0.7695 - roc_auc_score_loss: 11.9459 AUC Loss:  10.3656235\n",
      " AUC Loss:  10.3656235\n",
      " 640/2100 [========>.....................] - ETA: 1s - loss: 11.6298 - acc: 0.7750 - roc_auc_score_loss: 11.6298 AUC Loss:  9.96619701\n",
      " AUC Loss:  9.96619701\n"
     ]
    },
    {
     "name": "stdout",
     "output_type": "stream",
     "text": [
      " 768/2100 [=========>....................] - ETA: 1s - loss: 11.3526 - acc: 0.7734 - roc_auc_score_loss: 11.3526 AUC Loss:  13.4755526\n",
      " AUC Loss:  13.4755526\n",
      " 896/2100 [===========>..................] - ETA: 1s - loss: 11.6559 - acc: 0.7690 - roc_auc_score_loss: 11.6559 AUC Loss:  15.4538612\n",
      " AUC Loss:  15.4538612\n",
      "1024/2100 [=============>................] - ETA: 1s - loss: 12.1306 - acc: 0.7617 - roc_auc_score_loss: 12.1306 AUC Loss:  16.5710907\n",
      " AUC Loss:  16.5710907\n",
      "1152/2100 [===============>..............] - ETA: 0s - loss: 12.6240 - acc: 0.7543 - roc_auc_score_loss: 12.6240 AUC Loss:  14.4747095\n",
      " AUC Loss:  14.4747095\n",
      "1280/2100 [=================>............] - ETA: 0s - loss: 12.8091 - acc: 0.7523 - roc_auc_score_loss: 12.8091 AUC Loss:  13.9091396\n",
      " AUC Loss:  13.9091396\n",
      "1408/2100 [===================>..........] - ETA: 0s - loss: 12.9091 - acc: 0.7507 - roc_auc_score_loss: 12.9091 AUC Loss:  9.89015198\n",
      " AUC Loss:  9.89015198\n",
      "1536/2100 [====================>.........] - ETA: 0s - loss: 12.6575 - acc: 0.7467 - roc_auc_score_loss: 12.6575 AUC Loss:  8.85100365\n",
      " AUC Loss:  8.85100365\n",
      "1664/2100 [======================>.......] - ETA: 0s - loss: 12.3647 - acc: 0.7530 - roc_auc_score_loss: 12.3647 AUC Loss:  11.6823215\n",
      " AUC Loss:  11.6823215\n",
      "1792/2100 [========================>.....] - ETA: 0s - loss: 12.3159 - acc: 0.7550 - roc_auc_score_loss: 12.3159 AUC Loss:  14.2846336\n",
      " AUC Loss:  14.2846336\n",
      "1920/2100 [==========================>...] - ETA: 0s - loss: 12.4472 - acc: 0.7536 - roc_auc_score_loss: 12.4472 AUC Loss:  12.444066\n",
      " AUC Loss:  12.444066\n",
      "2048/2100 [============================>.] - ETA: 0s - loss: 12.4470 - acc: 0.7559 - roc_auc_score_loss: 12.4470 AUC Loss:  1.58458841\n",
      " AUC Loss:  1.58458841\n",
      " AUC Loss:  20.6145897\n",
      " AUC Loss:  20.6145897\n",
      " AUC Loss:  18.4405212\n",
      " AUC Loss:  18.4405212\n",
      " AUC Loss:  15.4211388\n",
      " AUC Loss:  15.4211388\n",
      " AUC Loss:  17.1710091\n",
      " AUC Loss:  17.1710091\n",
      " AUC Loss:  13.4423733\n",
      " AUC Loss:  13.4423733\n",
      " AUC Loss:  3.64080834\n",
      " AUC Loss:  3.64080834\n",
      "\n",
      "Epoch 00011: val_loss did not improve from 14.48723\n",
      "2100/2100 [==============================] - 2s 1ms/sample - loss: 12.1780 - acc: 0.7543 - roc_auc_score_loss: 11.8080 - val_loss: 15.8713 - val_acc: 0.7043 - val_roc_auc_score_loss: 14.7884\n",
      "Epoch 12/100\n",
      " AUC Loss:  10.5757523\n",
      " AUC Loss:  10.5757523\n",
      " 128/2100 [>.............................] - ETA: 1s - loss: 10.5758 - acc: 0.7578 - roc_auc_score_loss: 10.5758 AUC Loss:  15.4892149\n",
      " AUC Loss:  15.4892149\n",
      " 256/2100 [==>...........................] - ETA: 1s - loss: 13.0325 - acc: 0.7461 - roc_auc_score_loss: 13.0325 AUC Loss:  11.1110296\n",
      " AUC Loss:  11.1110296\n",
      " 384/2100 [====>.........................] - ETA: 1s - loss: 12.3920 - acc: 0.7812 - roc_auc_score_loss: 12.3920 AUC Loss:  11.4829969\n",
      " AUC Loss:  11.4829969\n",
      " 512/2100 [======>.......................] - ETA: 1s - loss: 12.1647 - acc: 0.7871 - roc_auc_score_loss: 12.1647 AUC Loss:  12.1617317\n",
      " AUC Loss:  12.1617317\n",
      " 640/2100 [========>.....................] - ETA: 1s - loss: 12.1641 - acc: 0.7906 - roc_auc_score_loss: 12.1641 AUC Loss:  14.6263866\n",
      " AUC Loss:  14.6263866\n",
      " 768/2100 [=========>....................] - ETA: 1s - loss: 12.5745 - acc: 0.7865 - roc_auc_score_loss: 12.5745 AUC Loss:  8.82914\n",
      " AUC Loss:  8.82914\n",
      " 896/2100 [===========>..................] - ETA: 1s - loss: 12.0395 - acc: 0.7913 - roc_auc_score_loss: 12.0395 AUC Loss:  12.6495972\n",
      " AUC Loss:  12.6495972\n",
      "1024/2100 [=============>................] - ETA: 1s - loss: 12.1157 - acc: 0.7900 - roc_auc_score_loss: 12.1157 AUC Loss:  8.90197182\n",
      " AUC Loss:  8.90197182\n",
      "1152/2100 [===============>..............] - ETA: 0s - loss: 11.7586 - acc: 0.7899 - roc_auc_score_loss: 11.7586 AUC Loss:  10.9584312\n",
      " AUC Loss:  10.9584312\n",
      "1280/2100 [=================>............] - ETA: 0s - loss: 11.6786 - acc: 0.7828 - roc_auc_score_loss: 11.6786 AUC Loss:  14.417181\n",
      " AUC Loss:  14.417181\n",
      "1408/2100 [===================>..........] - ETA: 0s - loss: 11.9276 - acc: 0.7734 - roc_auc_score_loss: 11.9276 AUC Loss:  13.4207964\n",
      " AUC Loss:  13.4207964\n",
      "1536/2100 [====================>.........] - ETA: 0s - loss: 12.0520 - acc: 0.7637 - roc_auc_score_loss: 12.0520 AUC Loss:  12.1657658\n",
      " AUC Loss:  12.1657658\n",
      "1664/2100 [======================>.......] - ETA: 0s - loss: 12.0608 - acc: 0.7608 - roc_auc_score_loss: 12.0608 AUC Loss:  10.4218912\n",
      " AUC Loss:  10.4218912\n",
      "1792/2100 [========================>.....] - ETA: 0s - loss: 11.9437 - acc: 0.7628 - roc_auc_score_loss: 11.9437 AUC Loss:  10.9959888\n",
      " AUC Loss:  10.9959888\n",
      "1920/2100 [==========================>...] - ETA: 0s - loss: 11.8805 - acc: 0.7599 - roc_auc_score_loss: 11.8805 AUC Loss:  11.9833775\n",
      " AUC Loss:  11.9833775\n",
      "2048/2100 [============================>.] - ETA: 0s - loss: 11.8870 - acc: 0.7603 - roc_auc_score_loss: 11.8870 AUC Loss:  1.4937017\n",
      " AUC Loss:  1.4937017\n",
      " AUC Loss:  21.3407345\n",
      " AUC Loss:  21.3407345\n",
      " AUC Loss:  18.9316864\n",
      " AUC Loss:  18.9316864\n",
      " AUC Loss:  15.5134592\n",
      " AUC Loss:  15.5134592\n",
      " AUC Loss:  16.6228924\n",
      " AUC Loss:  16.6228924\n",
      " AUC Loss:  13.2697945\n",
      " AUC Loss:  13.2697945\n",
      " AUC Loss:  3.69314\n",
      " AUC Loss:  3.69314\n",
      "\n",
      "Epoch 00012: val_loss did not improve from 14.48723\n",
      "2100/2100 [==============================] - 2s 1ms/sample - loss: 11.6296 - acc: 0.7614 - roc_auc_score_loss: 11.2756 - val_loss: 15.9835 - val_acc: 0.7143 - val_roc_auc_score_loss: 14.8953\n",
      "Epoch 00012: early stopping\n",
      "Time spent in training :00:00:34\n"
     ]
    }
   ],
   "source": [
    "# Model fit\n",
    "epochs= 100\n",
    "batch_size = 128\n",
    "import time\n",
    "start_time = time.time()\n",
    "history = model.fit (\n",
    "           train_image_tensor, \n",
    "           train_label_tensor, \n",
    "#           slice_10_pictures, \n",
    "#           slice_10_labels, \n",
    "           epochs = epochs, \n",
    "           batch_size = batch_size, \n",
    "           callbacks=callbacks_list,\n",
    "           validation_data =( val_image_tensor,val_label_tensor))\n",
    "#           validation_data =( val_10_pictures ,val_10_labels))\n",
    "\n",
    "elapsed_time = time.time() - start_time\n",
    "\n",
    "print( time.strftime('Time spent in training :'\"%H:%M:%S\", time.gmtime(elapsed_time)))\n",
    "\n",
    "save_model(model, history, model_bin_dir, Model_name)"
   ]
  },
  {
   "cell_type": "code",
   "execution_count": 20,
   "metadata": {},
   "outputs": [],
   "source": [
    "# Import Model Test if not need to Train \n",
    "if not TRAIN :\n",
    "    model = model_load ( model_bin_dir, Model_name)"
   ]
  },
  {
   "cell_type": "code",
   "execution_count": 21,
   "metadata": {},
   "outputs": [
    {
     "data": {
      "image/png": "[encoded data removed]",
      "text/plain": [
       "<Figure size 432x288 with 1 Axes>"
      ]
     },
     "metadata": {
      "needs_background": "light"
     },
     "output_type": "display_data"
    },
    {
     "data": {
      "image/png": "[encoded data removed]",
      "text/plain": [
       "<Figure size 432x288 with 1 Axes>"
      ]
     },
     "metadata": {
      "needs_background": "light"
     },
     "output_type": "display_data"
    }
   ],
   "source": [
    "# Display curves of loss and accuracy during training and save results \n",
    "plot_save_acc_loss(results_dir, history.history, Model_name)"
   ]
  },
  {
   "cell_type": "code",
   "execution_count": 52,
   "metadata": {},
   "outputs": [],
   "source": [
    "# Load Model \n",
    "# Load weights \n",
    "# Import with this compatibility to solve the problem \n",
    "# module 'tensorflow' has no attribute 'placeholder'`.\n",
    "\n",
    " \n",
    "#model = build_model()\n",
    "#model.load_weights('my_weights.model')\n",
    "from tensorflow.keras.models import load_model\n",
    "TRAIN = False\n",
    "if not TRAIN :\n",
    "    Model_name = \"ModelK15_1\"\n",
    "# Special form of loading models that contain custom components \n",
    "    model = load_model(model_bin_dir+Model_name+'.h5', custom_objects = {\"roc_auc_score_loss\": roc_auc_score_loss})\n",
    "    model.load_weights(model_bin_dir+\"Best_weights\"+Model_name+\".hdf5\")"
   ]
  },
  {
   "cell_type": "code",
   "execution_count": 53,
   "metadata": {},
   "outputs": [
    {
     "name": "stdout",
     "output_type": "stream",
     "text": [
      "(700, 150, 150, 3)\n"
     ]
    }
   ],
   "source": [
    "# Create tensors from images\n",
    "# Load Images \n",
    "\n",
    "# This step is very time consuming !!!!!!!\n",
    "\n",
    "test_image_tensor  = load_images_tf(dftest,height_imag,width_imag)"
   ]
  },
  {
   "cell_type": "code",
   "execution_count": 54,
   "metadata": {},
   "outputs": [],
   "source": [
    "# Define the label tensor\n",
    "test_label_tensor = create_label_tensor(dftest)"
   ]
  },
  {
   "cell_type": "code",
   "execution_count": 55,
   "metadata": {},
   "outputs": [
    {
     "name": "stdout",
     "output_type": "stream",
     "text": [
      " AUC Loss:  14.4593449\n",
      " AUC Loss:  14.4593449\n",
      " AUC Loss:  16.6315517\n",
      " AUC Loss:  16.6315517\n",
      " AUC Loss:  17.9427452\n",
      " AUC Loss:  17.9427452\n",
      " AUC Loss:  16.7114143\n",
      " AUC Loss:  16.7114143\n",
      " AUC Loss:  13.6515903\n",
      " AUC Loss:  13.6515903\n",
      " AUC Loss:  3.36554265\n",
      " AUC Loss:  3.36554265\n",
      "700/1 - 1s - loss: 9.0861 - acc: 0.7400 - roc_auc_score_loss: 13.7937\n"
     ]
    }
   ],
   "source": [
    "#  ROC /AUC\n",
    "# Model evaluate \n",
    "# Returns the loss value & metrics values for the model in test mode.\n",
    "scores = model.evaluate(test_image_tensor, test_label_tensor, batch_size = 128, verbose=2)"
   ]
  },
  {
   "cell_type": "code",
   "execution_count": 56,
   "metadata": {},
   "outputs": [
    {
     "data": {
      "text/plain": [
       "[14.806719015666417, 0.74, 13.793697]"
      ]
     },
     "execution_count": 56,
     "metadata": {},
     "output_type": "execute_result"
    }
   ],
   "source": [
    "model.metrics_names\n",
    "# Loss + Accuracy + roc auc score \n",
    "scores"
   ]
  },
  {
   "cell_type": "code",
   "execution_count": 57,
   "metadata": {},
   "outputs": [],
   "source": [
    "y_pred_keras = model.predict(test_image_tensor).ravel()   # y_pred_probabilities\n",
    "y_test = dftest.bm.astype('category').cat.codes           # Ground truth "
   ]
  },
  {
   "cell_type": "code",
   "execution_count": 58,
   "metadata": {},
   "outputs": [
    {
     "name": "stdout",
     "output_type": "stream",
     "text": [
      "[0.60341644 0.49422768 0.50234085 0.40771875 0.3763198 ]\n",
      "0    1\n",
      "1    1\n",
      "2    0\n",
      "3    0\n",
      "4    0\n",
      "dtype: int8\n"
     ]
    }
   ],
   "source": [
    "print ( y_pred_keras[0:5])\n",
    "print ( y_test[0:5])"
   ]
  },
  {
   "cell_type": "code",
   "execution_count": 59,
   "metadata": {},
   "outputs": [
    {
     "name": "stdout",
     "output_type": "stream",
     "text": [
      "0.8406535947712419\n"
     ]
    }
   ],
   "source": [
    "# Compute AUC score from sklearn \n",
    "import sklearn \n",
    "from sklearn.metrics import roc_curve, auc\n",
    "# y_test true labels \n",
    "# y_pred_keras predictions \n",
    "print ( sklearn.metrics.roc_auc_score(y_test, y_pred_keras)) "
   ]
  },
  {
   "cell_type": "code",
   "execution_count": 67,
   "metadata": {},
   "outputs": [
    {
     "name": "stdout",
     "output_type": "stream",
     "text": [
      "0.8406535947712419\n"
     ]
    }
   ],
   "source": [
    "fpr_keras, tpr_keras, thresholds_keras = roc_curve(y_test,y_pred_keras)\n",
    "auc_keras = auc(fpr_keras, tpr_keras)\n",
    "print(auc_keras)"
   ]
  },
  {
   "cell_type": "code",
   "execution_count": 79,
   "metadata": {},
   "outputs": [
    {
     "name": "stdout",
     "output_type": "stream",
     "text": [
      "float64\n"
     ]
    }
   ],
   "source": [
    "print (auc_keras.dtype)"
   ]
  },
  {
   "cell_type": "code",
   "execution_count": 64,
   "metadata": {},
   "outputs": [],
   "source": [
    "gamma = 0.2\n",
    "p     = 3"
   ]
  },
  {
   "cell_type": "code",
   "execution_count": 81,
   "metadata": {},
   "outputs": [
    {
     "data": {
      "text/plain": [
       "<matplotlib.legend.Legend at 0x7f3b38e22790>"
      ]
     },
     "execution_count": 81,
     "metadata": {},
     "output_type": "execute_result"
    },
    {
     "data": {
      "image/png": "[encoded data removed]",
      "text/plain": [
       "<Figure size 432x288 with 1 Axes>"
      ]
     },
     "metadata": {
      "needs_background": "light"
     },
     "output_type": "display_data"
    }
   ],
   "source": [
    "# Print the ROC curves\n",
    "import matplotlib.pyplot as plt\n",
    "\n",
    "fig1 = plt.figure(1)\n",
    "plt.plot([0, 1], [0, 1], 'k--')\n",
    "#plt.plot(fpr_keras, tpr_keras, label='Keras (area = {:.3f})'.format(auc_keras), figure = fig1)\n",
    "plt.plot(fpr_keras, tpr_keras, label='Keras (area = {:.3f})'.format(auc_keras)+\n",
    "          ' gamma:{:.1f}'.format(gamma)+ \n",
    "          ' p:{:.1f}'.format(p), figure = fig1)\n",
    "plt.xlabel('False positive rate')\n",
    "plt.ylabel('True positive rate')\n",
    "plt.title('ROC curve')\n",
    "plt.legend(loc='best')\n",
    "# plt.show()\n",
    "# fig1.savefig(dir + name+'_Test_ROC.png')"
   ]
  },
  {
   "cell_type": "code",
   "execution_count": 60,
   "metadata": {},
   "outputs": [],
   "source": [
    "tf.keras.backend.clear_session()  # Reset"
   ]
  },
  {
   "cell_type": "code",
   "execution_count": null,
   "metadata": {},
   "outputs": [],
   "source": []
  }
 ],
 "metadata": {
  "accelerator": "GPU",
  "colab": {
   "collapsed_sections": [],
   "name": "Preprocess_Fit4.ipynb",
   "provenance": []
  },
  "kernelspec": {
   "display_name": "ktf2",
   "language": "python",
   "name": "ktf2"
  },
  "language_info": {
   "codemirror_mode": {
    "name": "ipython",
    "version": 3
   },
   "file_extension": ".py",
   "mimetype": "text/x-python",
   "name": "python",
   "nbconvert_exporter": "python",
   "pygments_lexer": "ipython3",
   "version": "3.7.6"
  }
 },
 "nbformat": 4,
 "nbformat_minor": 1
}
